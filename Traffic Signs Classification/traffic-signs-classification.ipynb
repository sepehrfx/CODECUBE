{
 "cells": [
  {
   "cell_type": "markdown",
   "id": "0e5dcdf6",
   "metadata": {
    "papermill": {
     "duration": 0.004968,
     "end_time": "2023-11-30T12:34:15.678185",
     "exception": false,
     "start_time": "2023-11-30T12:34:15.673217",
     "status": "completed"
    },
    "tags": []
   },
   "source": [
    "<div style=\"background-color:blue; border-radius:2px; border:#000000 solid; padding: 15px; font-size:100%; text-align:center\">\n",
    "    <h1 align=\"center\" style=\"color:#ffffff;\"><b>Traffic Signs Classification 🛣️🤖</b></h1>\n",
    "</div>"
   ]
  },
  {
   "cell_type": "markdown",
   "id": "d7741592",
   "metadata": {
    "papermill": {
     "duration": 0.004222,
     "end_time": "2023-11-30T12:34:15.687243",
     "exception": false,
     "start_time": "2023-11-30T12:34:15.683021",
     "status": "completed"
    },
    "tags": []
   },
   "source": [
    "<div style=\"background-color:#000000; border-radius:2px; border:#000000 solid; padding: 15px; font-size:100%; text-align:center\">\n",
    "    <img src=\"https://media.tenor.com/NxZUCukvV5MAAAAd/traffic-cars.gif\" alt=\"Animated GIF\">\n",
    "</div>"
   ]
  },
  {
   "cell_type": "markdown",
   "id": "90718b71",
   "metadata": {
    "papermill": {
     "duration": 0.00424,
     "end_time": "2023-11-30T12:34:15.695857",
     "exception": false,
     "start_time": "2023-11-30T12:34:15.691617",
     "status": "completed"
    },
    "tags": []
   },
   "source": [
    "<div style=\"background-color:blue; border-radius:2px; border:#000000 solid; padding: 15px; font-size:100%; text-align:center\">\n",
    "    <h2 align=\"center\" style=\"color:#ffffff;\"><b>IMPORT DEPENDENCIES</b></h2>\n",
    "</div>"
   ]
  },
  {
   "cell_type": "code",
   "execution_count": 1,
   "id": "ade89e8d",
   "metadata": {
    "execution": {
     "iopub.execute_input": "2023-11-30T12:34:15.707155Z",
     "iopub.status.busy": "2023-11-30T12:34:15.706259Z",
     "iopub.status.idle": "2023-11-30T12:34:21.073097Z",
     "shell.execute_reply": "2023-11-30T12:34:21.072227Z"
    },
    "papermill": {
     "duration": 5.3752,
     "end_time": "2023-11-30T12:34:21.075459",
     "exception": false,
     "start_time": "2023-11-30T12:34:15.700259",
     "status": "completed"
    },
    "tags": []
   },
   "outputs": [
    {
     "name": "stderr",
     "output_type": "stream",
     "text": [
      "/opt/conda/lib/python3.10/site-packages/scipy/__init__.py:146: UserWarning: A NumPy version >=1.16.5 and <1.23.0 is required for this version of SciPy (detected version 1.24.3\n",
      "  warnings.warn(f\"A NumPy version >={np_minversion} and <{np_maxversion}\"\n"
     ]
    }
   ],
   "source": [
    "import os\n",
    "import cv2\n",
    "import torch\n",
    "\n",
    "import numpy               as np\n",
    "import matplotlib.pyplot   as plt\n",
    "import torch.nn            as nn\n",
    "import torch.nn.functional as F\n",
    "import torch.optim         as optim\n",
    "\n",
    "from PIL                     import Image\n",
    "from torch.utils.data        import Dataset, DataLoader\n",
    "from torchvision             import transforms, datasets\n",
    "from sklearn.model_selection import train_test_split"
   ]
  },
  {
   "cell_type": "code",
   "execution_count": 2,
   "id": "3a78ffb3",
   "metadata": {
    "execution": {
     "iopub.execute_input": "2023-11-30T12:34:21.086736Z",
     "iopub.status.busy": "2023-11-30T12:34:21.086321Z",
     "iopub.status.idle": "2023-11-30T12:34:21.184371Z",
     "shell.execute_reply": "2023-11-30T12:34:21.183026Z"
    },
    "papermill": {
     "duration": 0.106004,
     "end_time": "2023-11-30T12:34:21.186353",
     "exception": false,
     "start_time": "2023-11-30T12:34:21.080349",
     "status": "completed"
    },
    "tags": []
   },
   "outputs": [
    {
     "name": "stdout",
     "output_type": "stream",
     "text": [
      "Using device: cuda\n"
     ]
    }
   ],
   "source": [
    "device = torch.device(\"cuda\" if torch.cuda.is_available() else \"cpu\")\n",
    "print(f\"Using device: {device}\")"
   ]
  },
  {
   "cell_type": "markdown",
   "id": "219c4a15",
   "metadata": {
    "papermill": {
     "duration": 0.004405,
     "end_time": "2023-11-30T12:34:21.195612",
     "exception": false,
     "start_time": "2023-11-30T12:34:21.191207",
     "status": "completed"
    },
    "tags": []
   },
   "source": [
    "<div style=\"background-color:blue; border-radius:2px; border:#000000 solid; padding: 15px; font-size:100%; text-align:center\">\n",
    "    <h2 align=\"center\" style=\"color:#ffffff;\"><b>DATA PREPARETION</b></h2>\n",
    "</div>"
   ]
  },
  {
   "cell_type": "code",
   "execution_count": 3,
   "id": "08da4231",
   "metadata": {
    "execution": {
     "iopub.execute_input": "2023-11-30T12:34:21.205931Z",
     "iopub.status.busy": "2023-11-30T12:34:21.205607Z",
     "iopub.status.idle": "2023-11-30T12:34:21.215676Z",
     "shell.execute_reply": "2023-11-30T12:34:21.214947Z"
    },
    "papermill": {
     "duration": 0.017546,
     "end_time": "2023-11-30T12:34:21.217634",
     "exception": false,
     "start_time": "2023-11-30T12:34:21.200088",
     "status": "completed"
    },
    "tags": []
   },
   "outputs": [],
   "source": [
    "class GTSB(Dataset):\n",
    "    def __init__(self, root_dir, transform=None):\n",
    "        self.root_dir     = root_dir\n",
    "        self.transform    = transform\n",
    "        self.classes      = sorted(os.listdir(root_dir))\n",
    "        self.class_to_idx = {cls: i for i, cls in enumerate(self.classes)}\n",
    "        self.images       = self.load_images()\n",
    "\n",
    "    def load_images(self):\n",
    "        images = []\n",
    "        for class_dir in self.classes:\n",
    "            class_path = os.path.join(self.root_dir, class_dir)\n",
    "            for img_name in os.listdir(class_path):\n",
    "                img_path = os.path.join(class_path, img_name)\n",
    "                images.append((img_path, self.class_to_idx[class_dir]))\n",
    "        return images\n",
    "\n",
    "    def __len__(self):\n",
    "        return len(self.images)\n",
    "\n",
    "    def __getitem__(self, idx):\n",
    "        img_path, label = self.images[idx]\n",
    "        image = Image.open(img_path).convert(\"RGB\")\n",
    "        \n",
    "        if self.transform:\n",
    "            image = self.transform(image)\n",
    "\n",
    "        return image, label"
   ]
  },
  {
   "cell_type": "code",
   "execution_count": 4,
   "id": "3fac4989",
   "metadata": {
    "execution": {
     "iopub.execute_input": "2023-11-30T12:34:21.228163Z",
     "iopub.status.busy": "2023-11-30T12:34:21.227874Z",
     "iopub.status.idle": "2023-11-30T12:34:27.207534Z",
     "shell.execute_reply": "2023-11-30T12:34:27.206772Z"
    },
    "papermill": {
     "duration": 5.987516,
     "end_time": "2023-11-30T12:34:27.209779",
     "exception": false,
     "start_time": "2023-11-30T12:34:21.222263",
     "status": "completed"
    },
    "tags": []
   },
   "outputs": [],
   "source": [
    "transform = transforms.Compose([\n",
    "    transforms.Resize((224,224)),\n",
    "    transforms.RandomHorizontalFlip(),\n",
    "    transforms.ToTensor()\n",
    "])\n",
    "dataset = GTSB(root_dir=\"/kaggle/input/gtsrb-german-traffic-sign/Train\",transform=transform)"
   ]
  },
  {
   "cell_type": "code",
   "execution_count": 5,
   "id": "4dfa7f7f",
   "metadata": {
    "execution": {
     "iopub.execute_input": "2023-11-30T12:34:27.221332Z",
     "iopub.status.busy": "2023-11-30T12:34:27.221036Z",
     "iopub.status.idle": "2023-11-30T12:34:27.226280Z",
     "shell.execute_reply": "2023-11-30T12:34:27.225409Z"
    },
    "papermill": {
     "duration": 0.013431,
     "end_time": "2023-11-30T12:34:27.228281",
     "exception": false,
     "start_time": "2023-11-30T12:34:27.214850",
     "status": "completed"
    },
    "tags": []
   },
   "outputs": [
    {
     "name": "stdout",
     "output_type": "stream",
     "text": [
      "Number of Images 39209 , Number of Classes 43\n"
     ]
    }
   ],
   "source": [
    "print(f\"Number of Images {dataset.__len__()} , Number of Classes {len(dataset.classes)}\")"
   ]
  },
  {
   "cell_type": "code",
   "execution_count": 6,
   "id": "b57f32f4",
   "metadata": {
    "execution": {
     "iopub.execute_input": "2023-11-30T12:34:27.239107Z",
     "iopub.status.busy": "2023-11-30T12:34:27.238861Z",
     "iopub.status.idle": "2023-11-30T12:34:27.269293Z",
     "shell.execute_reply": "2023-11-30T12:34:27.268637Z"
    },
    "papermill": {
     "duration": 0.038181,
     "end_time": "2023-11-30T12:34:27.271360",
     "exception": false,
     "start_time": "2023-11-30T12:34:27.233179",
     "status": "completed"
    },
    "tags": []
   },
   "outputs": [],
   "source": [
    "train_size = int(0.8 * len(dataset))\n",
    "test_size  = len(dataset) - train_size\n",
    "train_dataset, test_dataset = torch.utils.data.random_split(dataset, [train_size, test_size])"
   ]
  },
  {
   "cell_type": "code",
   "execution_count": 7,
   "id": "07f50163",
   "metadata": {
    "execution": {
     "iopub.execute_input": "2023-11-30T12:34:27.282523Z",
     "iopub.status.busy": "2023-11-30T12:34:27.282252Z",
     "iopub.status.idle": "2023-11-30T12:34:27.286477Z",
     "shell.execute_reply": "2023-11-30T12:34:27.285657Z"
    },
    "papermill": {
     "duration": 0.012508,
     "end_time": "2023-11-30T12:34:27.288817",
     "exception": false,
     "start_time": "2023-11-30T12:34:27.276309",
     "status": "completed"
    },
    "tags": []
   },
   "outputs": [
    {
     "name": "stdout",
     "output_type": "stream",
     "text": [
      "Number of Images In Train 31367 , Number of Images In Test 7842\n"
     ]
    }
   ],
   "source": [
    "print(f\"Number of Images In Train {train_dataset.__len__()} , Number of Images In Test {test_dataset.__len__()}\")"
   ]
  },
  {
   "cell_type": "code",
   "execution_count": 8,
   "id": "3e0e2c97",
   "metadata": {
    "execution": {
     "iopub.execute_input": "2023-11-30T12:34:27.299578Z",
     "iopub.status.busy": "2023-11-30T12:34:27.299310Z",
     "iopub.status.idle": "2023-11-30T12:34:27.303706Z",
     "shell.execute_reply": "2023-11-30T12:34:27.302870Z"
    },
    "papermill": {
     "duration": 0.01186,
     "end_time": "2023-11-30T12:34:27.305549",
     "exception": false,
     "start_time": "2023-11-30T12:34:27.293689",
     "status": "completed"
    },
    "tags": []
   },
   "outputs": [],
   "source": [
    "train_loader = DataLoader(train_dataset,batch_size=32, shuffle=True)\n",
    "test_loader  = DataLoader(test_dataset ,batch_size=32, shuffle=True)"
   ]
  },
  {
   "cell_type": "code",
   "execution_count": 9,
   "id": "d9ccb3f4",
   "metadata": {
    "execution": {
     "iopub.execute_input": "2023-11-30T12:34:27.316605Z",
     "iopub.status.busy": "2023-11-30T12:34:27.316325Z",
     "iopub.status.idle": "2023-11-30T12:34:27.321309Z",
     "shell.execute_reply": "2023-11-30T12:34:27.320534Z"
    },
    "papermill": {
     "duration": 0.012644,
     "end_time": "2023-11-30T12:34:27.323331",
     "exception": false,
     "start_time": "2023-11-30T12:34:27.310687",
     "status": "completed"
    },
    "tags": []
   },
   "outputs": [
    {
     "name": "stdout",
     "output_type": "stream",
     "text": [
      "---------------------------------------------------------\n",
      "Number of batches in train_loader: 981  \n",
      "Number of batches in train_loader: 246   \n",
      "---------------------------------------------------------\n",
      "Number of Images in train_loader: 31392\n",
      "Number of Images in train_loader: 7872 \n",
      "---------------------------------------------------------\n"
     ]
    }
   ],
   "source": [
    "print(\"---------------------------------------------------------\")\n",
    "print(f\"Number of batches in train_loader: {len(train_loader)}  \")\n",
    "print(f\"Number of batches in train_loader: {len(test_loader)}   \")\n",
    "print(\"---------------------------------------------------------\")\n",
    "print(f\"Number of Images in train_loader: {len(train_loader)*32}\")\n",
    "print(f\"Number of Images in train_loader: {len(test_loader)*32} \")\n",
    "print(\"---------------------------------------------------------\")"
   ]
  },
  {
   "cell_type": "markdown",
   "id": "4ef36c77",
   "metadata": {
    "papermill": {
     "duration": 0.005271,
     "end_time": "2023-11-30T12:34:27.333829",
     "exception": false,
     "start_time": "2023-11-30T12:34:27.328558",
     "status": "completed"
    },
    "tags": []
   },
   "source": [
    "<div style=\"background-color:blue; border-radius:2px; border:#000000 solid; padding: 15px; font-size:100%; text-align:center\">\n",
    "    <h2 align=\"center\" style=\"color:#ffffff;\"><b>MODEL ENGINEERING</b></h2>\n",
    "</div>"
   ]
  },
  {
   "cell_type": "code",
   "execution_count": 10,
   "id": "d1686e49",
   "metadata": {
    "execution": {
     "iopub.execute_input": "2023-11-30T12:34:27.345515Z",
     "iopub.status.busy": "2023-11-30T12:34:27.344945Z",
     "iopub.status.idle": "2023-11-30T12:34:27.352622Z",
     "shell.execute_reply": "2023-11-30T12:34:27.351634Z"
    },
    "papermill": {
     "duration": 0.015606,
     "end_time": "2023-11-30T12:34:27.354495",
     "exception": false,
     "start_time": "2023-11-30T12:34:27.338889",
     "status": "completed"
    },
    "tags": []
   },
   "outputs": [],
   "source": [
    "class SCNN(nn.Module):\n",
    "    def __init__(self):\n",
    "        super(SCNN, self).__init__()\n",
    "        self.conv1 = nn.Conv2d(3, 16, kernel_size=3, stride=1, padding=1)\n",
    "        self.pool = nn.MaxPool2d(kernel_size=2, stride=2, padding=0)\n",
    "        self.conv2 = nn.Conv2d(16, 32, kernel_size=3, stride=1, padding=1)\n",
    "        self.fc1 = nn.Linear(32 * 56 * 56, 128)\n",
    "        self.fc2 = nn.Linear(128,43)\n",
    "\n",
    "    def forward(self, x):\n",
    "        x = self.pool(F.relu(self.conv1(x)))\n",
    "        x = self.pool(F.relu(self.conv2(x)))\n",
    "        x = x.view(-1, 32 * 56 * 56)\n",
    "        x = F.relu(self.fc1(x))\n",
    "        x = self.fc2(x)\n",
    "        return x"
   ]
  },
  {
   "cell_type": "code",
   "execution_count": 11,
   "id": "47fdac3d",
   "metadata": {
    "execution": {
     "iopub.execute_input": "2023-11-30T12:34:27.365799Z",
     "iopub.status.busy": "2023-11-30T12:34:27.365528Z",
     "iopub.status.idle": "2023-11-30T12:34:30.708573Z",
     "shell.execute_reply": "2023-11-30T12:34:30.707870Z"
    },
    "papermill": {
     "duration": 3.351191,
     "end_time": "2023-11-30T12:34:30.710829",
     "exception": false,
     "start_time": "2023-11-30T12:34:27.359638",
     "status": "completed"
    },
    "tags": []
   },
   "outputs": [],
   "source": [
    "model     = SCNN().to(device)\n",
    "criterion = nn.CrossEntropyLoss()\n",
    "optimizer = optim.Adam(model.parameters(), lr=0.001)"
   ]
  },
  {
   "cell_type": "code",
   "execution_count": 12,
   "id": "8bb848ea",
   "metadata": {
    "execution": {
     "iopub.execute_input": "2023-11-30T12:34:30.723077Z",
     "iopub.status.busy": "2023-11-30T12:34:30.722801Z",
     "iopub.status.idle": "2023-11-30T13:13:25.387829Z",
     "shell.execute_reply": "2023-11-30T13:13:25.386427Z"
    },
    "papermill": {
     "duration": 2334.673819,
     "end_time": "2023-11-30T13:13:25.390255",
     "exception": false,
     "start_time": "2023-11-30T12:34:30.716436",
     "status": "completed"
    },
    "tags": []
   },
   "outputs": [
    {
     "name": "stdout",
     "output_type": "stream",
     "text": [
      "Epoch [1/20], Training Loss: 1.5442\n",
      "Test Loss: 0.9255, Test Accuracy: 70.47%\n",
      "Epoch [2/20], Training Loss: 0.6342\n",
      "Test Loss: 0.5630, Test Accuracy: 81.37%\n",
      "Epoch [3/20], Training Loss: 0.4113\n",
      "Test Loss: 0.4266, Test Accuracy: 86.50%\n",
      "Epoch [4/20], Training Loss: 0.3030\n",
      "Test Loss: 0.3093, Test Accuracy: 89.80%\n",
      "Epoch [5/20], Training Loss: 0.2413\n",
      "Test Loss: 0.3090, Test Accuracy: 90.56%\n",
      "Epoch [6/20], Training Loss: 0.2026\n",
      "Test Loss: 0.2609, Test Accuracy: 91.85%\n",
      "Epoch [7/20], Training Loss: 0.1780\n",
      "Test Loss: 0.2298, Test Accuracy: 93.31%\n",
      "Epoch [8/20], Training Loss: 0.1650\n",
      "Test Loss: 0.2771, Test Accuracy: 91.99%\n",
      "Epoch [9/20], Training Loss: 0.1403\n",
      "Test Loss: 0.2791, Test Accuracy: 92.00%\n",
      "Epoch [10/20], Training Loss: 0.1284\n",
      "Test Loss: 0.2010, Test Accuracy: 94.50%\n",
      "Epoch [11/20], Training Loss: 0.1141\n",
      "Test Loss: 0.2581, Test Accuracy: 92.90%\n",
      "Epoch [12/20], Training Loss: 0.1041\n",
      "Test Loss: 0.1944, Test Accuracy: 94.67%\n",
      "Epoch [13/20], Training Loss: 0.0986\n",
      "Test Loss: 0.2116, Test Accuracy: 94.15%\n",
      "Epoch [14/20], Training Loss: 0.0885\n",
      "Test Loss: 0.2569, Test Accuracy: 93.48%\n",
      "Epoch [15/20], Training Loss: 0.0920\n",
      "Test Loss: 0.3109, Test Accuracy: 91.94%\n",
      "Epoch [16/20], Training Loss: 0.0743\n",
      "Test Loss: 0.2034, Test Accuracy: 95.28%\n",
      "Epoch [17/20], Training Loss: 0.0808\n",
      "Test Loss: 0.2284, Test Accuracy: 94.38%\n",
      "Epoch [18/20], Training Loss: 0.0698\n",
      "Test Loss: 0.2228, Test Accuracy: 95.07%\n",
      "Epoch [19/20], Training Loss: 0.0620\n",
      "Test Loss: 0.2711, Test Accuracy: 94.17%\n",
      "Epoch [20/20], Training Loss: 0.0722\n",
      "Test Loss: 0.2444, Test Accuracy: 94.54%\n"
     ]
    }
   ],
   "source": [
    "train_losses = []\n",
    "test_losses = []\n",
    "accuracies = []\n",
    "\n",
    "# 5. Training the model\n",
    "num_epochs = 20\n",
    "\n",
    "for epoch in range(num_epochs):\n",
    "    running_loss = 0.0\n",
    "    for images, labels in train_loader:\n",
    "        images, labels = images.to(device), labels.to(device)\n",
    "        optimizer.zero_grad()\n",
    "        outputs = model(images)\n",
    "        loss = criterion(outputs, labels)\n",
    "        loss.backward()\n",
    "        optimizer.step()\n",
    "        running_loss += loss.item()\n",
    "\n",
    "    # Calculate training loss\n",
    "    avg_train_loss = running_loss / len(train_loader)\n",
    "    train_losses.append(avg_train_loss)\n",
    "\n",
    "    # Print and store training loss\n",
    "    print(f'Epoch [{epoch+1}/{num_epochs}], Training Loss: {avg_train_loss:.4f}')\n",
    "\n",
    "    # 6. Evaluation\n",
    "    model.eval()\n",
    "    with torch.no_grad():\n",
    "        running_test_loss = 0.0\n",
    "        correct = 0\n",
    "        total = 0\n",
    "        for images, labels in test_loader:\n",
    "            images, labels = images.to(device), labels.to(device)\n",
    "            outputs = model(images)\n",
    "            loss = criterion(outputs, labels)\n",
    "            running_test_loss += loss.item()\n",
    "\n",
    "            _, predicted = torch.max(outputs.data, 1)\n",
    "            total += labels.size(0)\n",
    "            correct += (predicted == labels).sum().item()\n",
    "\n",
    "        # Calculate test loss and accuracy\n",
    "        avg_test_loss = running_test_loss / len(test_loader)\n",
    "        test_losses.append(avg_test_loss)\n",
    "\n",
    "        accuracy = correct / total\n",
    "        accuracies.append(accuracy)\n",
    "\n",
    "        # Print and store test loss and accuracy\n",
    "        print(f'Test Loss: {avg_test_loss:.4f}, Test Accuracy: {100 * accuracy:.2f}%')\n",
    "\n",
    "    model.train()"
   ]
  },
  {
   "cell_type": "code",
   "execution_count": 13,
   "id": "9dddc59f",
   "metadata": {
    "execution": {
     "iopub.execute_input": "2023-11-30T13:13:25.410326Z",
     "iopub.status.busy": "2023-11-30T13:13:25.410053Z",
     "iopub.status.idle": "2023-11-30T13:13:25.857017Z",
     "shell.execute_reply": "2023-11-30T13:13:25.855948Z"
    },
    "papermill": {
     "duration": 0.459569,
     "end_time": "2023-11-30T13:13:25.859372",
     "exception": false,
     "start_time": "2023-11-30T13:13:25.399803",
     "status": "completed"
    },
    "tags": []
   },
   "outputs": [
    {
     "data": {
      "image/png": "[encoded data removed]",
      "text/plain": [
       "<Figure size 1000x500 with 2 Axes>"
      ]
     },
     "metadata": {},
     "output_type": "display_data"
    }
   ],
   "source": [
    "plt.figure(figsize=(10, 5))\n",
    "\n",
    "# Plot training and test losses\n",
    "plt.subplot(1, 2, 1)\n",
    "plt.plot(train_losses, label='Training Loss')\n",
    "plt.plot(test_losses, label='Test Loss')\n",
    "plt.xlabel('Epoch')\n",
    "plt.ylabel('Loss')\n",
    "plt.legend()\n",
    "\n",
    "# Plot accuracy\n",
    "plt.subplot(1, 2, 2)\n",
    "plt.plot(accuracies, label='Test Accuracy', color='green')\n",
    "plt.xlabel('Epoch')\n",
    "plt.ylabel('Accuracy')\n",
    "plt.legend()\n",
    "plt.show()"
   ]
  }
 ],
 "metadata": {
  "kaggle": {
   "accelerator": "nvidiaTeslaT4",
   "dataSources": [
    {
     "datasetId": 82373,
     "sourceId": 191501,
     "sourceType": "datasetVersion"
    }
   ],
   "isGpuEnabled": true,
   "isInternetEnabled": true,
   "language": "python",
   "sourceType": "notebook"
  },
  "kernelspec": {
   "display_name": "Python 3",
   "language": "python",
   "name": "python3"
  },
  "language_info": {
   "codemirror_mode": {
    "name": "ipython",
    "version": 3
   },
   "file_extension": ".py",
   "mimetype": "text/x-python",
   "name": "python",
   "nbconvert_exporter": "python",
   "pygments_lexer": "ipython3",
   "version": "3.10.12"
  },
  "papermill": {
   "default_parameters": {},
   "duration": 2356.703081,
   "end_time": "2023-11-30T13:13:28.676079",
   "environment_variables": {},
   "exception": null,
   "input_path": "__notebook__.ipynb",
   "output_path": "__notebook__.ipynb",
   "parameters": {},
   "start_time": "2023-11-30T12:34:11.972998",
   "version": "2.4.0"
  }
 },
 "nbformat": 4,
 "nbformat_minor": 5
}
