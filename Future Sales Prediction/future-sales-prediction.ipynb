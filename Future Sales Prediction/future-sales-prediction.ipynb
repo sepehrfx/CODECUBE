{
 "cells": [
  {
   "cell_type": "markdown",
   "id": "0244df7f",
   "metadata": {
    "_uuid": "8e4253003a6d611145265fdd6119f7ad3111428a",
    "papermill": {
     "duration": 0.024685,
     "end_time": "2023-11-28T10:23:49.657209",
     "exception": false,
     "start_time": "2023-11-28T10:23:49.632524",
     "status": "completed"
    },
    "tags": []
   },
   "source": [
    "<div style=\"background-color:blue; border-radius:2px; border:#000000 solid; padding: 15px; font-size:100%; text-align:center\">\n",
    "    <h1 align=\"center\" style=\"color:#ffffff;\"><b>Future Sales Prediction 📈💹</b></h1>\n",
    "</div>"
   ]
  },
  {
   "cell_type": "markdown",
   "id": "cb3572be",
   "metadata": {
    "papermill": {
     "duration": 0.023505,
     "end_time": "2023-11-28T10:23:49.703959",
     "exception": false,
     "start_time": "2023-11-28T10:23:49.680454",
     "status": "completed"
    },
    "tags": []
   },
   "source": [
    "<div style=\"background-color:#000000; border-radius:2px; border:#000000 solid; padding: 15px; font-size:100%; text-align:center\">\n",
    "    <img src=\"https://media.tenor.com/mg9uZjeNVncAAAAC/sales-imp-dance.gif\" alt=\"Animated GIF\">\n",
    "</div>"
   ]
  },
  {
   "cell_type": "code",
   "execution_count": 1,
   "id": "4c410e5f",
   "metadata": {
    "execution": {
     "iopub.execute_input": "2023-11-28T10:23:49.755850Z",
     "iopub.status.busy": "2023-11-28T10:23:49.755319Z",
     "iopub.status.idle": "2023-11-28T10:23:57.936118Z",
     "shell.execute_reply": "2023-11-28T10:23:57.935457Z",
     "shell.execute_reply.started": "2023-06-10T13:15:38.673833Z"
    },
    "papermill": {
     "duration": 8.209841,
     "end_time": "2023-11-28T10:23:57.936297",
     "exception": false,
     "start_time": "2023-11-28T10:23:49.726456",
     "status": "completed"
    },
    "tags": []
   },
   "outputs": [
    {
     "name": "stdout",
     "output_type": "stream",
     "text": [
      "\u001b[33mWARNING: Running pip as the 'root' user can result in broken permissions and conflicting behaviour with the system package manager. It is recommended to use a virtual environment instead: https://pip.pypa.io/warnings/venv\u001b[0m\r\n"
     ]
    }
   ],
   "source": [
    "!pip3 install -q xgboost lightgbm"
   ]
  },
  {
   "cell_type": "markdown",
   "id": "79a3f719",
   "metadata": {
    "papermill": {
     "duration": 0.020302,
     "end_time": "2023-11-28T10:23:57.977776",
     "exception": false,
     "start_time": "2023-11-28T10:23:57.957474",
     "status": "completed"
    },
    "tags": []
   },
   "source": [
    "<div style=\"background-color:blue; border-radius:2px; border:#000000 solid; padding: 15px; font-size:100%; text-align:center\">\n",
    "    <h2 align=\"center\" style=\"color:#ffffff;\"><b>IMPORT DEPENDENCIES</b></h2>\n",
    "</div>"
   ]
  },
  {
   "cell_type": "code",
   "execution_count": 2,
   "id": "96cee54f",
   "metadata": {
    "execution": {
     "iopub.execute_input": "2023-11-28T10:23:58.022780Z",
     "iopub.status.busy": "2023-11-28T10:23:58.022307Z",
     "iopub.status.idle": "2023-11-28T10:24:04.701311Z",
     "shell.execute_reply": "2023-11-28T10:24:04.701720Z",
     "shell.execute_reply.started": "2023-06-10T13:15:47.232630Z"
    },
    "papermill": {
     "duration": 6.704005,
     "end_time": "2023-11-28T10:24:04.701891",
     "exception": false,
     "start_time": "2023-11-28T10:23:57.997886",
     "status": "completed"
    },
    "tags": []
   },
   "outputs": [
    {
     "data": {
      "text/html": [
       "<style type='text/css'>\n",
       ".datatable table.frame { margin-bottom: 0; }\n",
       ".datatable table.frame thead { border-bottom: none; }\n",
       ".datatable table.frame tr.coltypes td {  color: #FFFFFF;  line-height: 6px;  padding: 0 0.5em;}\n",
       ".datatable .bool    { background: #DDDD99; }\n",
       ".datatable .object  { background: #565656; }\n",
       ".datatable .int     { background: #5D9E5D; }\n",
       ".datatable .float   { background: #4040CC; }\n",
       ".datatable .str     { background: #CC4040; }\n",
       ".datatable .time    { background: #40CC40; }\n",
       ".datatable .row_index {  background: var(--jp-border-color3);  border-right: 1px solid var(--jp-border-color0);  color: var(--jp-ui-font-color3);  font-size: 9px;}\n",
       ".datatable .frame tbody td { text-align: left; }\n",
       ".datatable .frame tr.coltypes .row_index {  background: var(--jp-border-color0);}\n",
       ".datatable th:nth-child(2) { padding-left: 12px; }\n",
       ".datatable .hellipsis {  color: var(--jp-cell-editor-border-color);}\n",
       ".datatable .vellipsis {  background: var(--jp-layout-color0);  color: var(--jp-cell-editor-border-color);}\n",
       ".datatable .na {  color: var(--jp-cell-editor-border-color);  font-size: 80%;}\n",
       ".datatable .sp {  opacity: 0.25;}\n",
       ".datatable .footer { font-size: 9px; }\n",
       ".datatable .frame_dimensions {  background: var(--jp-border-color3);  border-top: 1px solid var(--jp-border-color0);  color: var(--jp-ui-font-color3);  display: inline-block;  opacity: 0.6;  padding: 1px 10px 1px 5px;}\n",
       "</style>\n"
      ],
      "text/plain": [
       "<IPython.core.display.HTML object>"
      ]
     },
     "metadata": {},
     "output_type": "display_data"
    }
   ],
   "source": [
    "import numpy as np\n",
    "import pandas as pd\n",
    "import plotly.graph_objects as go\n",
    "import plotly.express as px\n",
    "from sklearn.model_selection import train_test_split\n",
    "import xgboost as xgb\n",
    "import lightgbm as lgb\n",
    "from sklearn.metrics import mean_squared_error, mean_absolute_error, r2_score"
   ]
  },
  {
   "cell_type": "code",
   "execution_count": 3,
   "id": "a79884c6",
   "metadata": {
    "execution": {
     "iopub.execute_input": "2023-11-28T10:24:04.747753Z",
     "iopub.status.busy": "2023-11-28T10:24:04.747211Z",
     "iopub.status.idle": "2023-11-28T10:24:06.766945Z",
     "shell.execute_reply": "2023-11-28T10:24:06.767411Z",
     "shell.execute_reply.started": "2023-06-10T13:15:47.238992Z"
    },
    "papermill": {
     "duration": 2.044503,
     "end_time": "2023-11-28T10:24:06.767587",
     "exception": false,
     "start_time": "2023-11-28T10:24:04.723084",
     "status": "completed"
    },
    "tags": []
   },
   "outputs": [
    {
     "data": {
      "text/html": [
       "<div>\n",
       "<style scoped>\n",
       "    .dataframe tbody tr th:only-of-type {\n",
       "        vertical-align: middle;\n",
       "    }\n",
       "\n",
       "    .dataframe tbody tr th {\n",
       "        vertical-align: top;\n",
       "    }\n",
       "\n",
       "    .dataframe thead th {\n",
       "        text-align: right;\n",
       "    }\n",
       "</style>\n",
       "<table border=\"1\" class=\"dataframe\">\n",
       "  <thead>\n",
       "    <tr style=\"text-align: right;\">\n",
       "      <th></th>\n",
       "      <th>date</th>\n",
       "      <th>date_block_num</th>\n",
       "      <th>shop_id</th>\n",
       "      <th>item_id</th>\n",
       "      <th>item_price</th>\n",
       "      <th>item_cnt_day</th>\n",
       "    </tr>\n",
       "  </thead>\n",
       "  <tbody>\n",
       "    <tr>\n",
       "      <th>0</th>\n",
       "      <td>02.01.2013</td>\n",
       "      <td>0</td>\n",
       "      <td>59</td>\n",
       "      <td>22154</td>\n",
       "      <td>999.00</td>\n",
       "      <td>1.0</td>\n",
       "    </tr>\n",
       "    <tr>\n",
       "      <th>1</th>\n",
       "      <td>03.01.2013</td>\n",
       "      <td>0</td>\n",
       "      <td>25</td>\n",
       "      <td>2552</td>\n",
       "      <td>899.00</td>\n",
       "      <td>1.0</td>\n",
       "    </tr>\n",
       "    <tr>\n",
       "      <th>2</th>\n",
       "      <td>05.01.2013</td>\n",
       "      <td>0</td>\n",
       "      <td>25</td>\n",
       "      <td>2552</td>\n",
       "      <td>899.00</td>\n",
       "      <td>-1.0</td>\n",
       "    </tr>\n",
       "    <tr>\n",
       "      <th>3</th>\n",
       "      <td>06.01.2013</td>\n",
       "      <td>0</td>\n",
       "      <td>25</td>\n",
       "      <td>2554</td>\n",
       "      <td>1709.05</td>\n",
       "      <td>1.0</td>\n",
       "    </tr>\n",
       "    <tr>\n",
       "      <th>4</th>\n",
       "      <td>15.01.2013</td>\n",
       "      <td>0</td>\n",
       "      <td>25</td>\n",
       "      <td>2555</td>\n",
       "      <td>1099.00</td>\n",
       "      <td>1.0</td>\n",
       "    </tr>\n",
       "  </tbody>\n",
       "</table>\n",
       "</div>"
      ],
      "text/plain": [
       "         date  date_block_num  shop_id  item_id  item_price  item_cnt_day\n",
       "0  02.01.2013               0       59    22154      999.00           1.0\n",
       "1  03.01.2013               0       25     2552      899.00           1.0\n",
       "2  05.01.2013               0       25     2552      899.00          -1.0\n",
       "3  06.01.2013               0       25     2554     1709.05           1.0\n",
       "4  15.01.2013               0       25     2555     1099.00           1.0"
      ]
     },
     "execution_count": 3,
     "metadata": {},
     "output_type": "execute_result"
    }
   ],
   "source": [
    "sales_train = pd.read_csv(\"/kaggle/input/competitive-data-science-predict-future-sales/sales_train.csv\")\n",
    "sales_train.head()"
   ]
  },
  {
   "cell_type": "code",
   "execution_count": 4,
   "id": "2817d3e0",
   "metadata": {
    "execution": {
     "iopub.execute_input": "2023-11-28T10:24:06.814822Z",
     "iopub.status.busy": "2023-11-28T10:24:06.814360Z",
     "iopub.status.idle": "2023-11-28T10:24:06.827742Z",
     "shell.execute_reply": "2023-11-28T10:24:06.827290Z",
     "shell.execute_reply.started": "2023-06-10T13:15:49.010739Z"
    },
    "papermill": {
     "duration": 0.03724,
     "end_time": "2023-11-28T10:24:06.827855",
     "exception": false,
     "start_time": "2023-11-28T10:24:06.790615",
     "status": "completed"
    },
    "tags": []
   },
   "outputs": [
    {
     "data": {
      "text/html": [
       "<div>\n",
       "<style scoped>\n",
       "    .dataframe tbody tr th:only-of-type {\n",
       "        vertical-align: middle;\n",
       "    }\n",
       "\n",
       "    .dataframe tbody tr th {\n",
       "        vertical-align: top;\n",
       "    }\n",
       "\n",
       "    .dataframe thead th {\n",
       "        text-align: right;\n",
       "    }\n",
       "</style>\n",
       "<table border=\"1\" class=\"dataframe\">\n",
       "  <thead>\n",
       "    <tr style=\"text-align: right;\">\n",
       "      <th></th>\n",
       "      <th>item_category_name</th>\n",
       "      <th>item_category_id</th>\n",
       "    </tr>\n",
       "  </thead>\n",
       "  <tbody>\n",
       "    <tr>\n",
       "      <th>0</th>\n",
       "      <td>PC - Гарнитуры/Наушники</td>\n",
       "      <td>0</td>\n",
       "    </tr>\n",
       "    <tr>\n",
       "      <th>1</th>\n",
       "      <td>Аксессуары - PS2</td>\n",
       "      <td>1</td>\n",
       "    </tr>\n",
       "    <tr>\n",
       "      <th>2</th>\n",
       "      <td>Аксессуары - PS3</td>\n",
       "      <td>2</td>\n",
       "    </tr>\n",
       "    <tr>\n",
       "      <th>3</th>\n",
       "      <td>Аксессуары - PS4</td>\n",
       "      <td>3</td>\n",
       "    </tr>\n",
       "    <tr>\n",
       "      <th>4</th>\n",
       "      <td>Аксессуары - PSP</td>\n",
       "      <td>4</td>\n",
       "    </tr>\n",
       "  </tbody>\n",
       "</table>\n",
       "</div>"
      ],
      "text/plain": [
       "        item_category_name  item_category_id\n",
       "0  PC - Гарнитуры/Наушники                 0\n",
       "1         Аксессуары - PS2                 1\n",
       "2         Аксессуары - PS3                 2\n",
       "3         Аксессуары - PS4                 3\n",
       "4         Аксессуары - PSP                 4"
      ]
     },
     "execution_count": 4,
     "metadata": {},
     "output_type": "execute_result"
    }
   ],
   "source": [
    "item_cats = pd.read_csv(\"/kaggle/input/competitive-data-science-predict-future-sales/item_categories.csv\")\n",
    "item_cats.head()"
   ]
  },
  {
   "cell_type": "code",
   "execution_count": 5,
   "id": "b3f49ce9",
   "metadata": {
    "execution": {
     "iopub.execute_input": "2023-11-28T10:24:06.873144Z",
     "iopub.status.busy": "2023-11-28T10:24:06.872679Z",
     "iopub.status.idle": "2023-11-28T10:24:06.953912Z",
     "shell.execute_reply": "2023-11-28T10:24:06.954313Z",
     "shell.execute_reply.started": "2023-06-10T13:15:49.021790Z"
    },
    "papermill": {
     "duration": 0.105542,
     "end_time": "2023-11-28T10:24:06.954478",
     "exception": false,
     "start_time": "2023-11-28T10:24:06.848936",
     "status": "completed"
    },
    "tags": []
   },
   "outputs": [
    {
     "data": {
      "text/html": [
       "<div>\n",
       "<style scoped>\n",
       "    .dataframe tbody tr th:only-of-type {\n",
       "        vertical-align: middle;\n",
       "    }\n",
       "\n",
       "    .dataframe tbody tr th {\n",
       "        vertical-align: top;\n",
       "    }\n",
       "\n",
       "    .dataframe thead th {\n",
       "        text-align: right;\n",
       "    }\n",
       "</style>\n",
       "<table border=\"1\" class=\"dataframe\">\n",
       "  <thead>\n",
       "    <tr style=\"text-align: right;\">\n",
       "      <th></th>\n",
       "      <th>item_name</th>\n",
       "      <th>item_id</th>\n",
       "      <th>item_category_id</th>\n",
       "    </tr>\n",
       "  </thead>\n",
       "  <tbody>\n",
       "    <tr>\n",
       "      <th>0</th>\n",
       "      <td>! ВО ВЛАСТИ НАВАЖДЕНИЯ (ПЛАСТ.)         D</td>\n",
       "      <td>0</td>\n",
       "      <td>40</td>\n",
       "    </tr>\n",
       "    <tr>\n",
       "      <th>1</th>\n",
       "      <td>!ABBYY FineReader 12 Professional Edition Full...</td>\n",
       "      <td>1</td>\n",
       "      <td>76</td>\n",
       "    </tr>\n",
       "    <tr>\n",
       "      <th>2</th>\n",
       "      <td>***В ЛУЧАХ СЛАВЫ   (UNV)                    D</td>\n",
       "      <td>2</td>\n",
       "      <td>40</td>\n",
       "    </tr>\n",
       "    <tr>\n",
       "      <th>3</th>\n",
       "      <td>***ГОЛУБАЯ ВОЛНА  (Univ)                      D</td>\n",
       "      <td>3</td>\n",
       "      <td>40</td>\n",
       "    </tr>\n",
       "    <tr>\n",
       "      <th>4</th>\n",
       "      <td>***КОРОБКА (СТЕКЛО)                       D</td>\n",
       "      <td>4</td>\n",
       "      <td>40</td>\n",
       "    </tr>\n",
       "  </tbody>\n",
       "</table>\n",
       "</div>"
      ],
      "text/plain": [
       "                                           item_name  item_id  \\\n",
       "0          ! ВО ВЛАСТИ НАВАЖДЕНИЯ (ПЛАСТ.)         D        0   \n",
       "1  !ABBYY FineReader 12 Professional Edition Full...        1   \n",
       "2      ***В ЛУЧАХ СЛАВЫ   (UNV)                    D        2   \n",
       "3    ***ГОЛУБАЯ ВОЛНА  (Univ)                      D        3   \n",
       "4        ***КОРОБКА (СТЕКЛО)                       D        4   \n",
       "\n",
       "   item_category_id  \n",
       "0                40  \n",
       "1                76  \n",
       "2                40  \n",
       "3                40  \n",
       "4                40  "
      ]
     },
     "execution_count": 5,
     "metadata": {},
     "output_type": "execute_result"
    }
   ],
   "source": [
    "items = pd.read_csv(\"/kaggle/input/competitive-data-science-predict-future-sales/items.csv\")\n",
    "items.head()"
   ]
  },
  {
   "cell_type": "code",
   "execution_count": 6,
   "id": "83ccb2ff",
   "metadata": {
    "execution": {
     "iopub.execute_input": "2023-11-28T10:24:07.007497Z",
     "iopub.status.busy": "2023-11-28T10:24:07.006874Z",
     "iopub.status.idle": "2023-11-28T10:24:07.016205Z",
     "shell.execute_reply": "2023-11-28T10:24:07.016569Z",
     "shell.execute_reply.started": "2023-06-10T13:15:49.074217Z"
    },
    "papermill": {
     "duration": 0.038302,
     "end_time": "2023-11-28T10:24:07.016739",
     "exception": false,
     "start_time": "2023-11-28T10:24:06.978437",
     "status": "completed"
    },
    "tags": []
   },
   "outputs": [
    {
     "data": {
      "text/html": [
       "<div>\n",
       "<style scoped>\n",
       "    .dataframe tbody tr th:only-of-type {\n",
       "        vertical-align: middle;\n",
       "    }\n",
       "\n",
       "    .dataframe tbody tr th {\n",
       "        vertical-align: top;\n",
       "    }\n",
       "\n",
       "    .dataframe thead th {\n",
       "        text-align: right;\n",
       "    }\n",
       "</style>\n",
       "<table border=\"1\" class=\"dataframe\">\n",
       "  <thead>\n",
       "    <tr style=\"text-align: right;\">\n",
       "      <th></th>\n",
       "      <th>shop_name</th>\n",
       "      <th>shop_id</th>\n",
       "    </tr>\n",
       "  </thead>\n",
       "  <tbody>\n",
       "    <tr>\n",
       "      <th>0</th>\n",
       "      <td>!Якутск Орджоникидзе, 56 фран</td>\n",
       "      <td>0</td>\n",
       "    </tr>\n",
       "    <tr>\n",
       "      <th>1</th>\n",
       "      <td>!Якутск ТЦ \"Центральный\" фран</td>\n",
       "      <td>1</td>\n",
       "    </tr>\n",
       "    <tr>\n",
       "      <th>2</th>\n",
       "      <td>Адыгея ТЦ \"Мега\"</td>\n",
       "      <td>2</td>\n",
       "    </tr>\n",
       "    <tr>\n",
       "      <th>3</th>\n",
       "      <td>Балашиха ТРК \"Октябрь-Киномир\"</td>\n",
       "      <td>3</td>\n",
       "    </tr>\n",
       "    <tr>\n",
       "      <th>4</th>\n",
       "      <td>Волжский ТЦ \"Волга Молл\"</td>\n",
       "      <td>4</td>\n",
       "    </tr>\n",
       "  </tbody>\n",
       "</table>\n",
       "</div>"
      ],
      "text/plain": [
       "                        shop_name  shop_id\n",
       "0   !Якутск Орджоникидзе, 56 фран        0\n",
       "1   !Якутск ТЦ \"Центральный\" фран        1\n",
       "2                Адыгея ТЦ \"Мега\"        2\n",
       "3  Балашиха ТРК \"Октябрь-Киномир\"        3\n",
       "4        Волжский ТЦ \"Волга Молл\"        4"
      ]
     },
     "execution_count": 6,
     "metadata": {},
     "output_type": "execute_result"
    }
   ],
   "source": [
    "shops = pd.read_csv(\"/kaggle/input/competitive-data-science-predict-future-sales/shops.csv\")\n",
    "shops.head()"
   ]
  },
  {
   "cell_type": "code",
   "execution_count": 7,
   "id": "d5329f2c",
   "metadata": {
    "execution": {
     "iopub.execute_input": "2023-11-28T10:24:07.066835Z",
     "iopub.status.busy": "2023-11-28T10:24:07.066290Z",
     "iopub.status.idle": "2023-11-28T10:24:07.180725Z",
     "shell.execute_reply": "2023-11-28T10:24:07.180237Z",
     "shell.execute_reply.started": "2023-06-10T13:15:49.084977Z"
    },
    "papermill": {
     "duration": 0.140656,
     "end_time": "2023-11-28T10:24:07.180863",
     "exception": false,
     "start_time": "2023-11-28T10:24:07.040207",
     "status": "completed"
    },
    "tags": []
   },
   "outputs": [
    {
     "data": {
      "text/html": [
       "<div>\n",
       "<style scoped>\n",
       "    .dataframe tbody tr th:only-of-type {\n",
       "        vertical-align: middle;\n",
       "    }\n",
       "\n",
       "    .dataframe tbody tr th {\n",
       "        vertical-align: top;\n",
       "    }\n",
       "\n",
       "    .dataframe thead th {\n",
       "        text-align: right;\n",
       "    }\n",
       "</style>\n",
       "<table border=\"1\" class=\"dataframe\">\n",
       "  <thead>\n",
       "    <tr style=\"text-align: right;\">\n",
       "      <th></th>\n",
       "      <th>ID</th>\n",
       "      <th>shop_id</th>\n",
       "      <th>item_id</th>\n",
       "    </tr>\n",
       "  </thead>\n",
       "  <tbody>\n",
       "    <tr>\n",
       "      <th>0</th>\n",
       "      <td>0</td>\n",
       "      <td>5</td>\n",
       "      <td>5037</td>\n",
       "    </tr>\n",
       "    <tr>\n",
       "      <th>1</th>\n",
       "      <td>1</td>\n",
       "      <td>5</td>\n",
       "      <td>5320</td>\n",
       "    </tr>\n",
       "    <tr>\n",
       "      <th>2</th>\n",
       "      <td>2</td>\n",
       "      <td>5</td>\n",
       "      <td>5233</td>\n",
       "    </tr>\n",
       "    <tr>\n",
       "      <th>3</th>\n",
       "      <td>3</td>\n",
       "      <td>5</td>\n",
       "      <td>5232</td>\n",
       "    </tr>\n",
       "    <tr>\n",
       "      <th>4</th>\n",
       "      <td>4</td>\n",
       "      <td>5</td>\n",
       "      <td>5268</td>\n",
       "    </tr>\n",
       "  </tbody>\n",
       "</table>\n",
       "</div>"
      ],
      "text/plain": [
       "   ID  shop_id  item_id\n",
       "0   0        5     5037\n",
       "1   1        5     5320\n",
       "2   2        5     5233\n",
       "3   3        5     5232\n",
       "4   4        5     5268"
      ]
     },
     "execution_count": 7,
     "metadata": {},
     "output_type": "execute_result"
    }
   ],
   "source": [
    "sales_test = pd.read_csv(\"/kaggle/input/competitive-data-science-predict-future-sales/test.csv\")\n",
    "sales_test.head()"
   ]
  },
  {
   "cell_type": "code",
   "execution_count": 8,
   "id": "88212abd",
   "metadata": {
    "execution": {
     "iopub.execute_input": "2023-11-28T10:24:07.230661Z",
     "iopub.status.busy": "2023-11-28T10:24:07.230205Z",
     "iopub.status.idle": "2023-11-28T10:24:07.293696Z",
     "shell.execute_reply": "2023-11-28T10:24:07.294038Z",
     "shell.execute_reply.started": "2023-06-10T13:15:49.155569Z"
    },
    "papermill": {
     "duration": 0.089953,
     "end_time": "2023-11-28T10:24:07.294196",
     "exception": false,
     "start_time": "2023-11-28T10:24:07.204243",
     "status": "completed"
    },
    "tags": []
   },
   "outputs": [
    {
     "data": {
      "text/html": [
       "<div>\n",
       "<style scoped>\n",
       "    .dataframe tbody tr th:only-of-type {\n",
       "        vertical-align: middle;\n",
       "    }\n",
       "\n",
       "    .dataframe tbody tr th {\n",
       "        vertical-align: top;\n",
       "    }\n",
       "\n",
       "    .dataframe thead th {\n",
       "        text-align: right;\n",
       "    }\n",
       "</style>\n",
       "<table border=\"1\" class=\"dataframe\">\n",
       "  <thead>\n",
       "    <tr style=\"text-align: right;\">\n",
       "      <th></th>\n",
       "      <th>ID</th>\n",
       "      <th>item_cnt_month</th>\n",
       "    </tr>\n",
       "  </thead>\n",
       "  <tbody>\n",
       "    <tr>\n",
       "      <th>0</th>\n",
       "      <td>0</td>\n",
       "      <td>0.5</td>\n",
       "    </tr>\n",
       "    <tr>\n",
       "      <th>1</th>\n",
       "      <td>1</td>\n",
       "      <td>0.5</td>\n",
       "    </tr>\n",
       "    <tr>\n",
       "      <th>2</th>\n",
       "      <td>2</td>\n",
       "      <td>0.5</td>\n",
       "    </tr>\n",
       "    <tr>\n",
       "      <th>3</th>\n",
       "      <td>3</td>\n",
       "      <td>0.5</td>\n",
       "    </tr>\n",
       "    <tr>\n",
       "      <th>4</th>\n",
       "      <td>4</td>\n",
       "      <td>0.5</td>\n",
       "    </tr>\n",
       "  </tbody>\n",
       "</table>\n",
       "</div>"
      ],
      "text/plain": [
       "   ID  item_cnt_month\n",
       "0   0             0.5\n",
       "1   1             0.5\n",
       "2   2             0.5\n",
       "3   3             0.5\n",
       "4   4             0.5"
      ]
     },
     "execution_count": 8,
     "metadata": {},
     "output_type": "execute_result"
    }
   ],
   "source": [
    "sample_submission = pd.read_csv(\"/kaggle/input/competitive-data-science-predict-future-sales/sample_submission.csv\")\n",
    "sample_submission.head()"
   ]
  },
  {
   "cell_type": "markdown",
   "id": "557ecf51",
   "metadata": {
    "papermill": {
     "duration": 0.022056,
     "end_time": "2023-11-28T10:24:07.339587",
     "exception": false,
     "start_time": "2023-11-28T10:24:07.317531",
     "status": "completed"
    },
    "tags": []
   },
   "source": [
    "<div style=\"background-color:blue; border-radius:2px; border:#000000 solid; padding: 15px; font-size:100%; text-align:center\">\n",
    "    <h2 align=\"center\" style=\"color:#ffffff;\"><b>DATA PRE-PROCESSING AND EDA</b></h2>\n",
    "</div>"
   ]
  },
  {
   "cell_type": "code",
   "execution_count": 9,
   "id": "8874eb33",
   "metadata": {
    "execution": {
     "iopub.execute_input": "2023-11-28T10:24:07.388758Z",
     "iopub.status.busy": "2023-11-28T10:24:07.388227Z",
     "iopub.status.idle": "2023-11-28T10:24:07.399347Z",
     "shell.execute_reply": "2023-11-28T10:24:07.398877Z",
     "shell.execute_reply.started": "2023-06-10T13:15:49.213435Z"
    },
    "papermill": {
     "duration": 0.037822,
     "end_time": "2023-11-28T10:24:07.399455",
     "exception": false,
     "start_time": "2023-11-28T10:24:07.361633",
     "status": "completed"
    },
    "tags": []
   },
   "outputs": [
    {
     "data": {
      "text/html": [
       "<div>\n",
       "<style scoped>\n",
       "    .dataframe tbody tr th:only-of-type {\n",
       "        vertical-align: middle;\n",
       "    }\n",
       "\n",
       "    .dataframe tbody tr th {\n",
       "        vertical-align: top;\n",
       "    }\n",
       "\n",
       "    .dataframe thead th {\n",
       "        text-align: right;\n",
       "    }\n",
       "</style>\n",
       "<table border=\"1\" class=\"dataframe\">\n",
       "  <thead>\n",
       "    <tr style=\"text-align: right;\">\n",
       "      <th></th>\n",
       "      <th>item_name</th>\n",
       "      <th>item_id</th>\n",
       "      <th>item_category_id</th>\n",
       "      <th>item_category_name</th>\n",
       "    </tr>\n",
       "  </thead>\n",
       "  <tbody>\n",
       "    <tr>\n",
       "      <th>0</th>\n",
       "      <td>! ВО ВЛАСТИ НАВАЖДЕНИЯ (ПЛАСТ.)         D</td>\n",
       "      <td>0</td>\n",
       "      <td>40</td>\n",
       "      <td>Кино - DVD</td>\n",
       "    </tr>\n",
       "    <tr>\n",
       "      <th>1</th>\n",
       "      <td>!ABBYY FineReader 12 Professional Edition Full...</td>\n",
       "      <td>1</td>\n",
       "      <td>76</td>\n",
       "      <td>Программы - Для дома и офиса (Цифра)</td>\n",
       "    </tr>\n",
       "    <tr>\n",
       "      <th>2</th>\n",
       "      <td>***В ЛУЧАХ СЛАВЫ   (UNV)                    D</td>\n",
       "      <td>2</td>\n",
       "      <td>40</td>\n",
       "      <td>Кино - DVD</td>\n",
       "    </tr>\n",
       "    <tr>\n",
       "      <th>3</th>\n",
       "      <td>***ГОЛУБАЯ ВОЛНА  (Univ)                      D</td>\n",
       "      <td>3</td>\n",
       "      <td>40</td>\n",
       "      <td>Кино - DVD</td>\n",
       "    </tr>\n",
       "    <tr>\n",
       "      <th>4</th>\n",
       "      <td>***КОРОБКА (СТЕКЛО)                       D</td>\n",
       "      <td>4</td>\n",
       "      <td>40</td>\n",
       "      <td>Кино - DVD</td>\n",
       "    </tr>\n",
       "  </tbody>\n",
       "</table>\n",
       "</div>"
      ],
      "text/plain": [
       "                                           item_name  item_id  \\\n",
       "0          ! ВО ВЛАСТИ НАВАЖДЕНИЯ (ПЛАСТ.)         D        0   \n",
       "1  !ABBYY FineReader 12 Professional Edition Full...        1   \n",
       "2      ***В ЛУЧАХ СЛАВЫ   (UNV)                    D        2   \n",
       "3    ***ГОЛУБАЯ ВОЛНА  (Univ)                      D        3   \n",
       "4        ***КОРОБКА (СТЕКЛО)                       D        4   \n",
       "\n",
       "   item_category_id                    item_category_name  \n",
       "0                40                            Кино - DVD  \n",
       "1                76  Программы - Для дома и офиса (Цифра)  \n",
       "2                40                            Кино - DVD  \n",
       "3                40                            Кино - DVD  \n",
       "4                40                            Кино - DVD  "
      ]
     },
     "execution_count": 9,
     "metadata": {},
     "output_type": "execute_result"
    }
   ],
   "source": [
    "items_merged = pd.merge(items,item_cats, on='item_category_id', how='left')\n",
    "items_merged.head()"
   ]
  },
  {
   "cell_type": "code",
   "execution_count": 10,
   "id": "1865ed3e",
   "metadata": {
    "execution": {
     "iopub.execute_input": "2023-11-28T10:24:07.448932Z",
     "iopub.status.busy": "2023-11-28T10:24:07.448447Z",
     "iopub.status.idle": "2023-11-28T10:24:08.075689Z",
     "shell.execute_reply": "2023-11-28T10:24:08.076073Z",
     "shell.execute_reply.started": "2023-06-10T13:15:49.231144Z"
    },
    "papermill": {
     "duration": 0.653535,
     "end_time": "2023-11-28T10:24:08.076238",
     "exception": false,
     "start_time": "2023-11-28T10:24:07.422703",
     "status": "completed"
    },
    "tags": []
   },
   "outputs": [
    {
     "data": {
      "text/html": [
       "<div>\n",
       "<style scoped>\n",
       "    .dataframe tbody tr th:only-of-type {\n",
       "        vertical-align: middle;\n",
       "    }\n",
       "\n",
       "    .dataframe tbody tr th {\n",
       "        vertical-align: top;\n",
       "    }\n",
       "\n",
       "    .dataframe thead th {\n",
       "        text-align: right;\n",
       "    }\n",
       "</style>\n",
       "<table border=\"1\" class=\"dataframe\">\n",
       "  <thead>\n",
       "    <tr style=\"text-align: right;\">\n",
       "      <th></th>\n",
       "      <th>date</th>\n",
       "      <th>date_block_num</th>\n",
       "      <th>shop_id</th>\n",
       "      <th>item_id</th>\n",
       "      <th>item_price</th>\n",
       "      <th>item_cnt_day</th>\n",
       "      <th>item_name</th>\n",
       "      <th>item_category_id</th>\n",
       "      <th>item_category_name</th>\n",
       "    </tr>\n",
       "  </thead>\n",
       "  <tbody>\n",
       "    <tr>\n",
       "      <th>0</th>\n",
       "      <td>02.01.2013</td>\n",
       "      <td>0</td>\n",
       "      <td>59</td>\n",
       "      <td>22154</td>\n",
       "      <td>999.00</td>\n",
       "      <td>1.0</td>\n",
       "      <td>ЯВЛЕНИЕ 2012 (BD)</td>\n",
       "      <td>37</td>\n",
       "      <td>Кино - Blu-Ray</td>\n",
       "    </tr>\n",
       "    <tr>\n",
       "      <th>1</th>\n",
       "      <td>03.01.2013</td>\n",
       "      <td>0</td>\n",
       "      <td>25</td>\n",
       "      <td>2552</td>\n",
       "      <td>899.00</td>\n",
       "      <td>1.0</td>\n",
       "      <td>DEEP PURPLE  The House Of Blue Light  LP</td>\n",
       "      <td>58</td>\n",
       "      <td>Музыка - Винил</td>\n",
       "    </tr>\n",
       "    <tr>\n",
       "      <th>2</th>\n",
       "      <td>05.01.2013</td>\n",
       "      <td>0</td>\n",
       "      <td>25</td>\n",
       "      <td>2552</td>\n",
       "      <td>899.00</td>\n",
       "      <td>-1.0</td>\n",
       "      <td>DEEP PURPLE  The House Of Blue Light  LP</td>\n",
       "      <td>58</td>\n",
       "      <td>Музыка - Винил</td>\n",
       "    </tr>\n",
       "    <tr>\n",
       "      <th>3</th>\n",
       "      <td>06.01.2013</td>\n",
       "      <td>0</td>\n",
       "      <td>25</td>\n",
       "      <td>2554</td>\n",
       "      <td>1709.05</td>\n",
       "      <td>1.0</td>\n",
       "      <td>DEEP PURPLE  Who Do You Think We Are  LP</td>\n",
       "      <td>58</td>\n",
       "      <td>Музыка - Винил</td>\n",
       "    </tr>\n",
       "    <tr>\n",
       "      <th>4</th>\n",
       "      <td>15.01.2013</td>\n",
       "      <td>0</td>\n",
       "      <td>25</td>\n",
       "      <td>2555</td>\n",
       "      <td>1099.00</td>\n",
       "      <td>1.0</td>\n",
       "      <td>DEEP PURPLE 30 Very Best Of 2CD (Фирм.)</td>\n",
       "      <td>56</td>\n",
       "      <td>Музыка - CD фирменного производства</td>\n",
       "    </tr>\n",
       "  </tbody>\n",
       "</table>\n",
       "</div>"
      ],
      "text/plain": [
       "         date  date_block_num  shop_id  item_id  item_price  item_cnt_day  \\\n",
       "0  02.01.2013               0       59    22154      999.00           1.0   \n",
       "1  03.01.2013               0       25     2552      899.00           1.0   \n",
       "2  05.01.2013               0       25     2552      899.00          -1.0   \n",
       "3  06.01.2013               0       25     2554     1709.05           1.0   \n",
       "4  15.01.2013               0       25     2555     1099.00           1.0   \n",
       "\n",
       "                                  item_name  item_category_id  \\\n",
       "0                         ЯВЛЕНИЕ 2012 (BD)                37   \n",
       "1  DEEP PURPLE  The House Of Blue Light  LP                58   \n",
       "2  DEEP PURPLE  The House Of Blue Light  LP                58   \n",
       "3  DEEP PURPLE  Who Do You Think We Are  LP                58   \n",
       "4   DEEP PURPLE 30 Very Best Of 2CD (Фирм.)                56   \n",
       "\n",
       "                    item_category_name  \n",
       "0                       Кино - Blu-Ray  \n",
       "1                       Музыка - Винил  \n",
       "2                       Музыка - Винил  \n",
       "3                       Музыка - Винил  \n",
       "4  Музыка - CD фирменного производства  "
      ]
     },
     "execution_count": 10,
     "metadata": {},
     "output_type": "execute_result"
    }
   ],
   "source": [
    "new_train = pd.merge(sales_train,items_merged, on='item_id', how='left')\n",
    "new_train.head()"
   ]
  },
  {
   "cell_type": "code",
   "execution_count": 11,
   "id": "c0aab53a",
   "metadata": {
    "execution": {
     "iopub.execute_input": "2023-11-28T10:24:08.255993Z",
     "iopub.status.busy": "2023-11-28T10:24:08.255484Z",
     "iopub.status.idle": "2023-11-28T10:24:08.552403Z",
     "shell.execute_reply": "2023-11-28T10:24:08.551954Z",
     "shell.execute_reply.started": "2023-06-10T13:15:49.905769Z"
    },
    "papermill": {
     "duration": 0.45193,
     "end_time": "2023-11-28T10:24:08.552527",
     "exception": false,
     "start_time": "2023-11-28T10:24:08.100597",
     "status": "completed"
    },
    "tags": []
   },
   "outputs": [
    {
     "data": {
      "text/plain": [
       "date                  0\n",
       "date_block_num        0\n",
       "shop_id               0\n",
       "item_id               0\n",
       "item_price            0\n",
       "item_cnt_day          0\n",
       "item_name             0\n",
       "item_category_id      0\n",
       "item_category_name    0\n",
       "dtype: int64"
      ]
     },
     "execution_count": 11,
     "metadata": {},
     "output_type": "execute_result"
    }
   ],
   "source": [
    "new_train.isnull().sum()"
   ]
  },
  {
   "cell_type": "code",
   "execution_count": 12,
   "id": "c0d32901",
   "metadata": {
    "execution": {
     "iopub.execute_input": "2023-11-28T10:24:08.605092Z",
     "iopub.status.busy": "2023-11-28T10:24:08.604594Z",
     "iopub.status.idle": "2023-11-28T10:24:09.107967Z",
     "shell.execute_reply": "2023-11-28T10:24:09.108434Z",
     "shell.execute_reply.started": "2023-06-10T13:15:50.916239Z"
    },
    "papermill": {
     "duration": 0.532546,
     "end_time": "2023-11-28T10:24:09.108612",
     "exception": false,
     "start_time": "2023-11-28T10:24:08.576066",
     "status": "completed"
    },
    "tags": []
   },
   "outputs": [
    {
     "data": {
      "text/html": [
       "<div>\n",
       "<style scoped>\n",
       "    .dataframe tbody tr th:only-of-type {\n",
       "        vertical-align: middle;\n",
       "    }\n",
       "\n",
       "    .dataframe tbody tr th {\n",
       "        vertical-align: top;\n",
       "    }\n",
       "\n",
       "    .dataframe thead th {\n",
       "        text-align: right;\n",
       "    }\n",
       "</style>\n",
       "<table border=\"1\" class=\"dataframe\">\n",
       "  <thead>\n",
       "    <tr style=\"text-align: right;\">\n",
       "      <th></th>\n",
       "      <th>date</th>\n",
       "      <th>date_block_num</th>\n",
       "      <th>shop_id</th>\n",
       "      <th>item_id</th>\n",
       "      <th>item_price</th>\n",
       "      <th>item_cnt_day</th>\n",
       "      <th>item_name</th>\n",
       "      <th>item_category_id</th>\n",
       "      <th>item_category_name</th>\n",
       "      <th>shop_name</th>\n",
       "    </tr>\n",
       "  </thead>\n",
       "  <tbody>\n",
       "    <tr>\n",
       "      <th>0</th>\n",
       "      <td>02.01.2013</td>\n",
       "      <td>0</td>\n",
       "      <td>59</td>\n",
       "      <td>22154</td>\n",
       "      <td>999.00</td>\n",
       "      <td>1.0</td>\n",
       "      <td>ЯВЛЕНИЕ 2012 (BD)</td>\n",
       "      <td>37</td>\n",
       "      <td>Кино - Blu-Ray</td>\n",
       "      <td>Ярославль ТЦ \"Альтаир\"</td>\n",
       "    </tr>\n",
       "    <tr>\n",
       "      <th>1</th>\n",
       "      <td>03.01.2013</td>\n",
       "      <td>0</td>\n",
       "      <td>25</td>\n",
       "      <td>2552</td>\n",
       "      <td>899.00</td>\n",
       "      <td>1.0</td>\n",
       "      <td>DEEP PURPLE  The House Of Blue Light  LP</td>\n",
       "      <td>58</td>\n",
       "      <td>Музыка - Винил</td>\n",
       "      <td>Москва ТРК \"Атриум\"</td>\n",
       "    </tr>\n",
       "    <tr>\n",
       "      <th>2</th>\n",
       "      <td>05.01.2013</td>\n",
       "      <td>0</td>\n",
       "      <td>25</td>\n",
       "      <td>2552</td>\n",
       "      <td>899.00</td>\n",
       "      <td>-1.0</td>\n",
       "      <td>DEEP PURPLE  The House Of Blue Light  LP</td>\n",
       "      <td>58</td>\n",
       "      <td>Музыка - Винил</td>\n",
       "      <td>Москва ТРК \"Атриум\"</td>\n",
       "    </tr>\n",
       "    <tr>\n",
       "      <th>3</th>\n",
       "      <td>06.01.2013</td>\n",
       "      <td>0</td>\n",
       "      <td>25</td>\n",
       "      <td>2554</td>\n",
       "      <td>1709.05</td>\n",
       "      <td>1.0</td>\n",
       "      <td>DEEP PURPLE  Who Do You Think We Are  LP</td>\n",
       "      <td>58</td>\n",
       "      <td>Музыка - Винил</td>\n",
       "      <td>Москва ТРК \"Атриум\"</td>\n",
       "    </tr>\n",
       "    <tr>\n",
       "      <th>4</th>\n",
       "      <td>15.01.2013</td>\n",
       "      <td>0</td>\n",
       "      <td>25</td>\n",
       "      <td>2555</td>\n",
       "      <td>1099.00</td>\n",
       "      <td>1.0</td>\n",
       "      <td>DEEP PURPLE 30 Very Best Of 2CD (Фирм.)</td>\n",
       "      <td>56</td>\n",
       "      <td>Музыка - CD фирменного производства</td>\n",
       "      <td>Москва ТРК \"Атриум\"</td>\n",
       "    </tr>\n",
       "  </tbody>\n",
       "</table>\n",
       "</div>"
      ],
      "text/plain": [
       "         date  date_block_num  shop_id  item_id  item_price  item_cnt_day  \\\n",
       "0  02.01.2013               0       59    22154      999.00           1.0   \n",
       "1  03.01.2013               0       25     2552      899.00           1.0   \n",
       "2  05.01.2013               0       25     2552      899.00          -1.0   \n",
       "3  06.01.2013               0       25     2554     1709.05           1.0   \n",
       "4  15.01.2013               0       25     2555     1099.00           1.0   \n",
       "\n",
       "                                  item_name  item_category_id  \\\n",
       "0                         ЯВЛЕНИЕ 2012 (BD)                37   \n",
       "1  DEEP PURPLE  The House Of Blue Light  LP                58   \n",
       "2  DEEP PURPLE  The House Of Blue Light  LP                58   \n",
       "3  DEEP PURPLE  Who Do You Think We Are  LP                58   \n",
       "4   DEEP PURPLE 30 Very Best Of 2CD (Фирм.)                56   \n",
       "\n",
       "                    item_category_name               shop_name  \n",
       "0                       Кино - Blu-Ray  Ярославль ТЦ \"Альтаир\"  \n",
       "1                       Музыка - Винил     Москва ТРК \"Атриум\"  \n",
       "2                       Музыка - Винил     Москва ТРК \"Атриум\"  \n",
       "3                       Музыка - Винил     Москва ТРК \"Атриум\"  \n",
       "4  Музыка - CD фирменного производства     Москва ТРК \"Атриум\"  "
      ]
     },
     "execution_count": 12,
     "metadata": {},
     "output_type": "execute_result"
    }
   ],
   "source": [
    "new_train = pd.merge(new_train,shops, on='shop_id', how='left')\n",
    "new_train.head()"
   ]
  },
  {
   "cell_type": "code",
   "execution_count": 13,
   "id": "e0fac931",
   "metadata": {
    "execution": {
     "iopub.execute_input": "2023-11-28T10:24:09.292422Z",
     "iopub.status.busy": "2023-11-28T10:24:09.291887Z",
     "iopub.status.idle": "2023-11-28T10:24:09.759676Z",
     "shell.execute_reply": "2023-11-28T10:24:09.760099Z",
     "shell.execute_reply.started": "2023-06-10T13:15:51.545991Z"
    },
    "papermill": {
     "duration": 0.626833,
     "end_time": "2023-11-28T10:24:09.760325",
     "exception": false,
     "start_time": "2023-11-28T10:24:09.133492",
     "status": "completed"
    },
    "tags": []
   },
   "outputs": [
    {
     "data": {
      "text/plain": [
       "date                  0\n",
       "date_block_num        0\n",
       "shop_id               0\n",
       "item_id               0\n",
       "item_price            0\n",
       "item_cnt_day          0\n",
       "item_name             0\n",
       "item_category_id      0\n",
       "item_category_name    0\n",
       "shop_name             0\n",
       "dtype: int64"
      ]
     },
     "execution_count": 13,
     "metadata": {},
     "output_type": "execute_result"
    }
   ],
   "source": [
    "new_train.isnull().sum()"
   ]
  },
  {
   "cell_type": "code",
   "execution_count": 14,
   "id": "f4baade1",
   "metadata": {
    "execution": {
     "iopub.execute_input": "2023-11-28T10:24:09.821573Z",
     "iopub.status.busy": "2023-11-28T10:24:09.820975Z",
     "iopub.status.idle": "2023-11-28T10:24:09.823990Z",
     "shell.execute_reply": "2023-11-28T10:24:09.823552Z",
     "shell.execute_reply.started": "2023-06-10T13:15:52.917975Z"
    },
    "papermill": {
     "duration": 0.036069,
     "end_time": "2023-11-28T10:24:09.824128",
     "exception": false,
     "start_time": "2023-11-28T10:24:09.788059",
     "status": "completed"
    },
    "tags": []
   },
   "outputs": [
    {
     "data": {
      "text/plain": [
       "Index(['date', 'date_block_num', 'shop_id', 'item_id', 'item_price',\n",
       "       'item_cnt_day', 'item_name', 'item_category_id', 'item_category_name',\n",
       "       'shop_name'],\n",
       "      dtype='object')"
      ]
     },
     "execution_count": 14,
     "metadata": {},
     "output_type": "execute_result"
    }
   ],
   "source": [
    "new_train.columns"
   ]
  },
  {
   "cell_type": "code",
   "execution_count": 15,
   "id": "0ac75c62",
   "metadata": {
    "execution": {
     "iopub.execute_input": "2023-11-28T10:24:09.881369Z",
     "iopub.status.busy": "2023-11-28T10:24:09.880818Z",
     "iopub.status.idle": "2023-11-28T10:24:09.883604Z",
     "shell.execute_reply": "2023-11-28T10:24:09.883111Z",
     "shell.execute_reply.started": "2023-06-10T13:15:52.924242Z"
    },
    "papermill": {
     "duration": 0.033189,
     "end_time": "2023-11-28T10:24:09.883717",
     "exception": false,
     "start_time": "2023-11-28T10:24:09.850528",
     "status": "completed"
    },
    "tags": []
   },
   "outputs": [
    {
     "data": {
      "text/plain": [
       "Index(['ID', 'item_cnt_month'], dtype='object')"
      ]
     },
     "execution_count": 15,
     "metadata": {},
     "output_type": "execute_result"
    }
   ],
   "source": [
    "sample_submission.columns"
   ]
  },
  {
   "cell_type": "code",
   "execution_count": 16,
   "id": "8b3546e2",
   "metadata": {
    "execution": {
     "iopub.execute_input": "2023-11-28T10:24:09.941054Z",
     "iopub.status.busy": "2023-11-28T10:24:09.940486Z",
     "iopub.status.idle": "2023-11-28T10:24:09.943334Z",
     "shell.execute_reply": "2023-11-28T10:24:09.942849Z",
     "shell.execute_reply.started": "2023-06-10T13:15:52.937153Z"
    },
    "papermill": {
     "duration": 0.034326,
     "end_time": "2023-11-28T10:24:09.943464",
     "exception": false,
     "start_time": "2023-11-28T10:24:09.909138",
     "status": "completed"
    },
    "tags": []
   },
   "outputs": [
    {
     "data": {
      "text/plain": [
       "Index(['ID', 'shop_id', 'item_id'], dtype='object')"
      ]
     },
     "execution_count": 16,
     "metadata": {},
     "output_type": "execute_result"
    }
   ],
   "source": [
    "sales_test.columns"
   ]
  },
  {
   "cell_type": "code",
   "execution_count": 17,
   "id": "7b5fdcae",
   "metadata": {
    "execution": {
     "iopub.execute_input": "2023-11-28T10:24:10.121987Z",
     "iopub.status.busy": "2023-11-28T10:24:10.121408Z",
     "iopub.status.idle": "2023-11-28T10:24:10.929156Z",
     "shell.execute_reply": "2023-11-28T10:24:10.928482Z",
     "shell.execute_reply.started": "2023-06-10T13:15:52.948722Z"
    },
    "papermill": {
     "duration": 0.957732,
     "end_time": "2023-11-28T10:24:10.929321",
     "exception": false,
     "start_time": "2023-11-28T10:24:09.971589",
     "status": "completed"
    },
    "tags": []
   },
   "outputs": [],
   "source": [
    "new_train['new_date'] = pd.to_datetime(new_train['date'])\n",
    "# Extract year and month from the 'date' column\n",
    "new_train['year']  = new_train['new_date'].dt.year\n",
    "new_train['month'] = new_train['new_date'].dt.month"
   ]
  },
  {
   "cell_type": "code",
   "execution_count": 18,
   "id": "e42ba03c",
   "metadata": {
    "execution": {
     "iopub.execute_input": "2023-11-28T10:24:10.993769Z",
     "iopub.status.busy": "2023-11-28T10:24:10.993284Z",
     "iopub.status.idle": "2023-11-28T10:24:10.995885Z",
     "shell.execute_reply": "2023-11-28T10:24:10.995524Z",
     "shell.execute_reply.started": "2023-06-10T13:15:54.095181Z"
    },
    "papermill": {
     "duration": 0.040896,
     "end_time": "2023-11-28T10:24:10.995996",
     "exception": false,
     "start_time": "2023-11-28T10:24:10.955100",
     "status": "completed"
    },
    "tags": []
   },
   "outputs": [
    {
     "data": {
      "text/html": [
       "<div>\n",
       "<style scoped>\n",
       "    .dataframe tbody tr th:only-of-type {\n",
       "        vertical-align: middle;\n",
       "    }\n",
       "\n",
       "    .dataframe tbody tr th {\n",
       "        vertical-align: top;\n",
       "    }\n",
       "\n",
       "    .dataframe thead th {\n",
       "        text-align: right;\n",
       "    }\n",
       "</style>\n",
       "<table border=\"1\" class=\"dataframe\">\n",
       "  <thead>\n",
       "    <tr style=\"text-align: right;\">\n",
       "      <th></th>\n",
       "      <th>date</th>\n",
       "      <th>date_block_num</th>\n",
       "      <th>shop_id</th>\n",
       "      <th>item_id</th>\n",
       "      <th>item_price</th>\n",
       "      <th>item_cnt_day</th>\n",
       "      <th>item_name</th>\n",
       "      <th>item_category_id</th>\n",
       "      <th>item_category_name</th>\n",
       "      <th>shop_name</th>\n",
       "      <th>new_date</th>\n",
       "      <th>year</th>\n",
       "      <th>month</th>\n",
       "    </tr>\n",
       "  </thead>\n",
       "  <tbody>\n",
       "    <tr>\n",
       "      <th>0</th>\n",
       "      <td>02.01.2013</td>\n",
       "      <td>0</td>\n",
       "      <td>59</td>\n",
       "      <td>22154</td>\n",
       "      <td>999.00</td>\n",
       "      <td>1.0</td>\n",
       "      <td>ЯВЛЕНИЕ 2012 (BD)</td>\n",
       "      <td>37</td>\n",
       "      <td>Кино - Blu-Ray</td>\n",
       "      <td>Ярославль ТЦ \"Альтаир\"</td>\n",
       "      <td>2013-02-01</td>\n",
       "      <td>2013</td>\n",
       "      <td>2</td>\n",
       "    </tr>\n",
       "    <tr>\n",
       "      <th>1</th>\n",
       "      <td>03.01.2013</td>\n",
       "      <td>0</td>\n",
       "      <td>25</td>\n",
       "      <td>2552</td>\n",
       "      <td>899.00</td>\n",
       "      <td>1.0</td>\n",
       "      <td>DEEP PURPLE  The House Of Blue Light  LP</td>\n",
       "      <td>58</td>\n",
       "      <td>Музыка - Винил</td>\n",
       "      <td>Москва ТРК \"Атриум\"</td>\n",
       "      <td>2013-03-01</td>\n",
       "      <td>2013</td>\n",
       "      <td>3</td>\n",
       "    </tr>\n",
       "    <tr>\n",
       "      <th>2</th>\n",
       "      <td>05.01.2013</td>\n",
       "      <td>0</td>\n",
       "      <td>25</td>\n",
       "      <td>2552</td>\n",
       "      <td>899.00</td>\n",
       "      <td>-1.0</td>\n",
       "      <td>DEEP PURPLE  The House Of Blue Light  LP</td>\n",
       "      <td>58</td>\n",
       "      <td>Музыка - Винил</td>\n",
       "      <td>Москва ТРК \"Атриум\"</td>\n",
       "      <td>2013-05-01</td>\n",
       "      <td>2013</td>\n",
       "      <td>5</td>\n",
       "    </tr>\n",
       "    <tr>\n",
       "      <th>3</th>\n",
       "      <td>06.01.2013</td>\n",
       "      <td>0</td>\n",
       "      <td>25</td>\n",
       "      <td>2554</td>\n",
       "      <td>1709.05</td>\n",
       "      <td>1.0</td>\n",
       "      <td>DEEP PURPLE  Who Do You Think We Are  LP</td>\n",
       "      <td>58</td>\n",
       "      <td>Музыка - Винил</td>\n",
       "      <td>Москва ТРК \"Атриум\"</td>\n",
       "      <td>2013-06-01</td>\n",
       "      <td>2013</td>\n",
       "      <td>6</td>\n",
       "    </tr>\n",
       "    <tr>\n",
       "      <th>4</th>\n",
       "      <td>15.01.2013</td>\n",
       "      <td>0</td>\n",
       "      <td>25</td>\n",
       "      <td>2555</td>\n",
       "      <td>1099.00</td>\n",
       "      <td>1.0</td>\n",
       "      <td>DEEP PURPLE 30 Very Best Of 2CD (Фирм.)</td>\n",
       "      <td>56</td>\n",
       "      <td>Музыка - CD фирменного производства</td>\n",
       "      <td>Москва ТРК \"Атриум\"</td>\n",
       "      <td>2013-01-15</td>\n",
       "      <td>2013</td>\n",
       "      <td>1</td>\n",
       "    </tr>\n",
       "  </tbody>\n",
       "</table>\n",
       "</div>"
      ],
      "text/plain": [
       "         date  date_block_num  shop_id  item_id  item_price  item_cnt_day  \\\n",
       "0  02.01.2013               0       59    22154      999.00           1.0   \n",
       "1  03.01.2013               0       25     2552      899.00           1.0   \n",
       "2  05.01.2013               0       25     2552      899.00          -1.0   \n",
       "3  06.01.2013               0       25     2554     1709.05           1.0   \n",
       "4  15.01.2013               0       25     2555     1099.00           1.0   \n",
       "\n",
       "                                  item_name  item_category_id  \\\n",
       "0                         ЯВЛЕНИЕ 2012 (BD)                37   \n",
       "1  DEEP PURPLE  The House Of Blue Light  LP                58   \n",
       "2  DEEP PURPLE  The House Of Blue Light  LP                58   \n",
       "3  DEEP PURPLE  Who Do You Think We Are  LP                58   \n",
       "4   DEEP PURPLE 30 Very Best Of 2CD (Фирм.)                56   \n",
       "\n",
       "                    item_category_name               shop_name   new_date  \\\n",
       "0                       Кино - Blu-Ray  Ярославль ТЦ \"Альтаир\" 2013-02-01   \n",
       "1                       Музыка - Винил     Москва ТРК \"Атриум\" 2013-03-01   \n",
       "2                       Музыка - Винил     Москва ТРК \"Атриум\" 2013-05-01   \n",
       "3                       Музыка - Винил     Москва ТРК \"Атриум\" 2013-06-01   \n",
       "4  Музыка - CD фирменного производства     Москва ТРК \"Атриум\" 2013-01-15   \n",
       "\n",
       "   year  month  \n",
       "0  2013      2  \n",
       "1  2013      3  \n",
       "2  2013      5  \n",
       "3  2013      6  \n",
       "4  2013      1  "
      ]
     },
     "execution_count": 18,
     "metadata": {},
     "output_type": "execute_result"
    }
   ],
   "source": [
    "new_train.head()"
   ]
  },
  {
   "cell_type": "code",
   "execution_count": 19,
   "id": "0cda5ebb",
   "metadata": {
    "execution": {
     "iopub.execute_input": "2023-11-28T10:24:11.052680Z",
     "iopub.status.busy": "2023-11-28T10:24:11.052212Z",
     "iopub.status.idle": "2023-11-28T10:24:11.062471Z",
     "shell.execute_reply": "2023-11-28T10:24:11.062118Z",
     "shell.execute_reply.started": "2023-06-10T13:15:54.114508Z"
    },
    "papermill": {
     "duration": 0.03935,
     "end_time": "2023-11-28T10:24:11.062580",
     "exception": false,
     "start_time": "2023-11-28T10:24:11.023230",
     "status": "completed"
    },
    "tags": []
   },
   "outputs": [
    {
     "data": {
      "text/plain": [
       "2         -1.0\n",
       "148       -1.0\n",
       "175       -1.0\n",
       "807       -1.0\n",
       "1041      -1.0\n",
       "          ... \n",
       "2934243   -1.0\n",
       "2934462   -1.0\n",
       "2935263   -1.0\n",
       "2935643   -1.0\n",
       "2935779   -1.0\n",
       "Name: item_cnt_day, Length: 7356, dtype: float64"
      ]
     },
     "execution_count": 19,
     "metadata": {},
     "output_type": "execute_result"
    }
   ],
   "source": [
    "new_train.item_cnt_day[new_train.item_cnt_day<=0]"
   ]
  },
  {
   "cell_type": "code",
   "execution_count": 20,
   "id": "e38a7951",
   "metadata": {
    "execution": {
     "iopub.execute_input": "2023-11-28T10:24:11.119900Z",
     "iopub.status.busy": "2023-11-28T10:24:11.119389Z",
     "iopub.status.idle": "2023-11-28T10:24:13.252853Z",
     "shell.execute_reply": "2023-11-28T10:24:13.253237Z",
     "shell.execute_reply.started": "2023-06-10T13:15:54.134302Z"
    },
    "papermill": {
     "duration": 2.164035,
     "end_time": "2023-11-28T10:24:13.253410",
     "exception": false,
     "start_time": "2023-11-28T10:24:11.089375",
     "status": "completed"
    },
    "tags": []
   },
   "outputs": [
    {
     "data": {
      "text/html": [
       "<div>\n",
       "<style scoped>\n",
       "    .dataframe tbody tr th:only-of-type {\n",
       "        vertical-align: middle;\n",
       "    }\n",
       "\n",
       "    .dataframe tbody tr th {\n",
       "        vertical-align: top;\n",
       "    }\n",
       "\n",
       "    .dataframe thead th {\n",
       "        text-align: right;\n",
       "    }\n",
       "</style>\n",
       "<table border=\"1\" class=\"dataframe\">\n",
       "  <thead>\n",
       "    <tr style=\"text-align: right;\">\n",
       "      <th></th>\n",
       "      <th>shop_id</th>\n",
       "      <th>item_id</th>\n",
       "      <th>year</th>\n",
       "      <th>month</th>\n",
       "      <th>new_date</th>\n",
       "      <th>monthly_sold_number</th>\n",
       "      <th>monthly_sold_price</th>\n",
       "    </tr>\n",
       "  </thead>\n",
       "  <tbody>\n",
       "    <tr>\n",
       "      <th>0</th>\n",
       "      <td>0</td>\n",
       "      <td>30</td>\n",
       "      <td>2013</td>\n",
       "      <td>2</td>\n",
       "      <td>2013-02-15</td>\n",
       "      <td>2.0</td>\n",
       "      <td>265.0</td>\n",
       "    </tr>\n",
       "    <tr>\n",
       "      <th>1</th>\n",
       "      <td>0</td>\n",
       "      <td>30</td>\n",
       "      <td>2013</td>\n",
       "      <td>2</td>\n",
       "      <td>2013-02-16</td>\n",
       "      <td>9.0</td>\n",
       "      <td>265.0</td>\n",
       "    </tr>\n",
       "    <tr>\n",
       "      <th>2</th>\n",
       "      <td>0</td>\n",
       "      <td>30</td>\n",
       "      <td>2013</td>\n",
       "      <td>2</td>\n",
       "      <td>2013-02-17</td>\n",
       "      <td>4.0</td>\n",
       "      <td>265.0</td>\n",
       "    </tr>\n",
       "    <tr>\n",
       "      <th>3</th>\n",
       "      <td>0</td>\n",
       "      <td>30</td>\n",
       "      <td>2013</td>\n",
       "      <td>2</td>\n",
       "      <td>2013-02-18</td>\n",
       "      <td>4.0</td>\n",
       "      <td>265.0</td>\n",
       "    </tr>\n",
       "    <tr>\n",
       "      <th>4</th>\n",
       "      <td>0</td>\n",
       "      <td>30</td>\n",
       "      <td>2013</td>\n",
       "      <td>2</td>\n",
       "      <td>2013-02-20</td>\n",
       "      <td>2.0</td>\n",
       "      <td>265.0</td>\n",
       "    </tr>\n",
       "  </tbody>\n",
       "</table>\n",
       "</div>"
      ],
      "text/plain": [
       "   shop_id  item_id  year  month   new_date  monthly_sold_number  \\\n",
       "0        0       30  2013      2 2013-02-15                  2.0   \n",
       "1        0       30  2013      2 2013-02-16                  9.0   \n",
       "2        0       30  2013      2 2013-02-17                  4.0   \n",
       "3        0       30  2013      2 2013-02-18                  4.0   \n",
       "4        0       30  2013      2 2013-02-20                  2.0   \n",
       "\n",
       "   monthly_sold_price  \n",
       "0               265.0  \n",
       "1               265.0  \n",
       "2               265.0  \n",
       "3               265.0  \n",
       "4               265.0  "
      ]
     },
     "execution_count": 20,
     "metadata": {},
     "output_type": "execute_result"
    }
   ],
   "source": [
    "# Group by year, month, and item_id and aggregate the item_cnt_day and item_price columns\n",
    "monthly_sales = new_train.groupby(['shop_id','item_id','year', 'month','new_date']).agg({'item_cnt_day': 'sum', 'item_price': 'sum'}).reset_index()\n",
    "\n",
    "# Rename the aggregated columns\n",
    "monthly_sales = monthly_sales.rename(columns={'item_cnt_day': 'monthly_sold_number', 'item_price': 'monthly_sold_price'})\n",
    "\n",
    "# Display the resulting DataFrame\n",
    "monthly_sales.head()"
   ]
  },
  {
   "cell_type": "code",
   "execution_count": 21,
   "id": "6bc2d691",
   "metadata": {
    "execution": {
     "iopub.execute_input": "2023-11-28T10:24:13.309781Z",
     "iopub.status.busy": "2023-11-28T10:24:13.309302Z",
     "iopub.status.idle": "2023-11-28T10:24:13.352647Z",
     "shell.execute_reply": "2023-11-28T10:24:13.352259Z",
     "shell.execute_reply.started": "2023-06-10T13:15:56.130721Z"
    },
    "papermill": {
     "duration": 0.072915,
     "end_time": "2023-11-28T10:24:13.352765",
     "exception": false,
     "start_time": "2023-11-28T10:24:13.279850",
     "status": "completed"
    },
    "tags": []
   },
   "outputs": [
    {
     "data": {
      "text/html": [
       "<div>\n",
       "<style scoped>\n",
       "    .dataframe tbody tr th:only-of-type {\n",
       "        vertical-align: middle;\n",
       "    }\n",
       "\n",
       "    .dataframe tbody tr th {\n",
       "        vertical-align: top;\n",
       "    }\n",
       "\n",
       "    .dataframe thead th {\n",
       "        text-align: right;\n",
       "    }\n",
       "</style>\n",
       "<table border=\"1\" class=\"dataframe\">\n",
       "  <thead>\n",
       "    <tr style=\"text-align: right;\">\n",
       "      <th></th>\n",
       "      <th>shop_id</th>\n",
       "      <th>item_id</th>\n",
       "      <th>year</th>\n",
       "      <th>month</th>\n",
       "      <th>date</th>\n",
       "      <th>sold_number</th>\n",
       "      <th>sold_price</th>\n",
       "    </tr>\n",
       "  </thead>\n",
       "  <tbody>\n",
       "    <tr>\n",
       "      <th>0</th>\n",
       "      <td>0</td>\n",
       "      <td>30</td>\n",
       "      <td>2013</td>\n",
       "      <td>2</td>\n",
       "      <td>2013-02-15</td>\n",
       "      <td>2.0</td>\n",
       "      <td>265.0</td>\n",
       "    </tr>\n",
       "    <tr>\n",
       "      <th>1</th>\n",
       "      <td>0</td>\n",
       "      <td>30</td>\n",
       "      <td>2013</td>\n",
       "      <td>2</td>\n",
       "      <td>2013-02-16</td>\n",
       "      <td>9.0</td>\n",
       "      <td>265.0</td>\n",
       "    </tr>\n",
       "    <tr>\n",
       "      <th>2</th>\n",
       "      <td>0</td>\n",
       "      <td>30</td>\n",
       "      <td>2013</td>\n",
       "      <td>2</td>\n",
       "      <td>2013-02-17</td>\n",
       "      <td>4.0</td>\n",
       "      <td>265.0</td>\n",
       "    </tr>\n",
       "    <tr>\n",
       "      <th>3</th>\n",
       "      <td>0</td>\n",
       "      <td>30</td>\n",
       "      <td>2013</td>\n",
       "      <td>2</td>\n",
       "      <td>2013-02-18</td>\n",
       "      <td>4.0</td>\n",
       "      <td>265.0</td>\n",
       "    </tr>\n",
       "    <tr>\n",
       "      <th>4</th>\n",
       "      <td>0</td>\n",
       "      <td>30</td>\n",
       "      <td>2013</td>\n",
       "      <td>2</td>\n",
       "      <td>2013-02-20</td>\n",
       "      <td>2.0</td>\n",
       "      <td>265.0</td>\n",
       "    </tr>\n",
       "  </tbody>\n",
       "</table>\n",
       "</div>"
      ],
      "text/plain": [
       "   shop_id  item_id  year  month       date  sold_number  sold_price\n",
       "0        0       30  2013      2 2013-02-15          2.0       265.0\n",
       "1        0       30  2013      2 2013-02-16          9.0       265.0\n",
       "2        0       30  2013      2 2013-02-17          4.0       265.0\n",
       "3        0       30  2013      2 2013-02-18          4.0       265.0\n",
       "4        0       30  2013      2 2013-02-20          2.0       265.0"
      ]
     },
     "execution_count": 21,
     "metadata": {},
     "output_type": "execute_result"
    }
   ],
   "source": [
    "train_data = monthly_sales.rename(columns={\n",
    "    'new_date':'date',\n",
    "    'shop_id':'shop_id',\n",
    "    'item_id':'item_id',\n",
    "    'year':'year',\n",
    "    'month':'month',\n",
    "    'monthly_sold_number':'sold_number',\n",
    "    'monthly_sold_price' :'sold_price'\n",
    "});\n",
    "train_data.head()"
   ]
  },
  {
   "cell_type": "code",
   "execution_count": 22,
   "id": "ff4c8d8d",
   "metadata": {
    "execution": {
     "iopub.execute_input": "2023-11-28T10:24:13.408996Z",
     "iopub.status.busy": "2023-11-28T10:24:13.408490Z",
     "iopub.status.idle": "2023-11-28T10:24:13.441640Z",
     "shell.execute_reply": "2023-11-28T10:24:13.441966Z",
     "shell.execute_reply.started": "2023-06-10T13:15:56.181715Z"
    },
    "papermill": {
     "duration": 0.062754,
     "end_time": "2023-11-28T10:24:13.442131",
     "exception": false,
     "start_time": "2023-11-28T10:24:13.379377",
     "status": "completed"
    },
    "tags": []
   },
   "outputs": [
    {
     "data": {
      "text/plain": [
       "shop_id        0\n",
       "item_id        0\n",
       "year           0\n",
       "month          0\n",
       "date           0\n",
       "sold_number    0\n",
       "sold_price     0\n",
       "dtype: int64"
      ]
     },
     "execution_count": 22,
     "metadata": {},
     "output_type": "execute_result"
    }
   ],
   "source": [
    "train_data.isnull().sum()"
   ]
  },
  {
   "cell_type": "code",
   "execution_count": 23,
   "id": "2100fb8f",
   "metadata": {
    "execution": {
     "iopub.execute_input": "2023-11-28T10:24:13.499923Z",
     "iopub.status.busy": "2023-11-28T10:24:13.499489Z",
     "iopub.status.idle": "2023-11-28T10:24:14.016595Z",
     "shell.execute_reply": "2023-11-28T10:24:14.016204Z",
     "shell.execute_reply.started": "2023-06-10T13:15:56.220242Z"
    },
    "papermill": {
     "duration": 0.547298,
     "end_time": "2023-11-28T10:24:14.016720",
     "exception": false,
     "start_time": "2023-11-28T10:24:13.469422",
     "status": "completed"
    },
    "tags": []
   },
   "outputs": [
    {
     "data": {
      "text/plain": [
       "0"
      ]
     },
     "execution_count": 23,
     "metadata": {},
     "output_type": "execute_result"
    }
   ],
   "source": [
    "train_data.duplicated().sum()"
   ]
  },
  {
   "cell_type": "code",
   "execution_count": 24,
   "id": "8a50b6e9",
   "metadata": {
    "execution": {
     "iopub.execute_input": "2023-11-28T10:24:14.076507Z",
     "iopub.status.busy": "2023-11-28T10:24:14.075946Z",
     "iopub.status.idle": "2023-11-28T10:24:14.078628Z",
     "shell.execute_reply": "2023-11-28T10:24:14.078097Z",
     "shell.execute_reply.started": "2023-06-10T13:15:56.705885Z"
    },
    "papermill": {
     "duration": 0.034314,
     "end_time": "2023-11-28T10:24:14.078742",
     "exception": false,
     "start_time": "2023-11-28T10:24:14.044428",
     "status": "completed"
    },
    "tags": []
   },
   "outputs": [
    {
     "name": "stdout",
     "output_type": "stream",
     "text": [
      "Train Shape : (2935821, 7)\n"
     ]
    }
   ],
   "source": [
    "print(f\"Train Shape : {train_data.shape}\")"
   ]
  },
  {
   "cell_type": "code",
   "execution_count": 25,
   "id": "0138f787",
   "metadata": {
    "execution": {
     "iopub.execute_input": "2023-11-28T10:24:14.143166Z",
     "iopub.status.busy": "2023-11-28T10:24:14.137998Z",
     "iopub.status.idle": "2023-11-28T10:24:14.148890Z",
     "shell.execute_reply": "2023-11-28T10:24:14.149303Z",
     "shell.execute_reply.started": "2023-06-10T13:15:56.710683Z"
    },
    "papermill": {
     "duration": 0.043019,
     "end_time": "2023-11-28T10:24:14.149419",
     "exception": false,
     "start_time": "2023-11-28T10:24:14.106400",
     "status": "completed"
    },
    "tags": []
   },
   "outputs": [
    {
     "data": {
      "text/html": [
       "<div>\n",
       "<style scoped>\n",
       "    .dataframe tbody tr th:only-of-type {\n",
       "        vertical-align: middle;\n",
       "    }\n",
       "\n",
       "    .dataframe tbody tr th {\n",
       "        vertical-align: top;\n",
       "    }\n",
       "\n",
       "    .dataframe thead th {\n",
       "        text-align: right;\n",
       "    }\n",
       "</style>\n",
       "<table border=\"1\" class=\"dataframe\">\n",
       "  <thead>\n",
       "    <tr style=\"text-align: right;\">\n",
       "      <th></th>\n",
       "      <th>shop_id</th>\n",
       "      <th>item_id</th>\n",
       "      <th>year</th>\n",
       "      <th>month</th>\n",
       "      <th>date</th>\n",
       "      <th>sold_number</th>\n",
       "      <th>sold_price</th>\n",
       "    </tr>\n",
       "  </thead>\n",
       "  <tbody>\n",
       "    <tr>\n",
       "      <th>0</th>\n",
       "      <td>0</td>\n",
       "      <td>30</td>\n",
       "      <td>2013</td>\n",
       "      <td>2</td>\n",
       "      <td>2013-02-15</td>\n",
       "      <td>2.0</td>\n",
       "      <td>265.0</td>\n",
       "    </tr>\n",
       "    <tr>\n",
       "      <th>1</th>\n",
       "      <td>0</td>\n",
       "      <td>30</td>\n",
       "      <td>2013</td>\n",
       "      <td>2</td>\n",
       "      <td>2013-02-16</td>\n",
       "      <td>9.0</td>\n",
       "      <td>265.0</td>\n",
       "    </tr>\n",
       "    <tr>\n",
       "      <th>2</th>\n",
       "      <td>0</td>\n",
       "      <td>30</td>\n",
       "      <td>2013</td>\n",
       "      <td>2</td>\n",
       "      <td>2013-02-17</td>\n",
       "      <td>4.0</td>\n",
       "      <td>265.0</td>\n",
       "    </tr>\n",
       "    <tr>\n",
       "      <th>3</th>\n",
       "      <td>0</td>\n",
       "      <td>30</td>\n",
       "      <td>2013</td>\n",
       "      <td>2</td>\n",
       "      <td>2013-02-18</td>\n",
       "      <td>4.0</td>\n",
       "      <td>265.0</td>\n",
       "    </tr>\n",
       "    <tr>\n",
       "      <th>4</th>\n",
       "      <td>0</td>\n",
       "      <td>30</td>\n",
       "      <td>2013</td>\n",
       "      <td>2</td>\n",
       "      <td>2013-02-20</td>\n",
       "      <td>2.0</td>\n",
       "      <td>265.0</td>\n",
       "    </tr>\n",
       "    <tr>\n",
       "      <th>...</th>\n",
       "      <td>...</td>\n",
       "      <td>...</td>\n",
       "      <td>...</td>\n",
       "      <td>...</td>\n",
       "      <td>...</td>\n",
       "      <td>...</td>\n",
       "      <td>...</td>\n",
       "    </tr>\n",
       "    <tr>\n",
       "      <th>2935816</th>\n",
       "      <td>59</td>\n",
       "      <td>22164</td>\n",
       "      <td>2015</td>\n",
       "      <td>11</td>\n",
       "      <td>2015-11-02</td>\n",
       "      <td>1.0</td>\n",
       "      <td>749.0</td>\n",
       "    </tr>\n",
       "    <tr>\n",
       "      <th>2935817</th>\n",
       "      <td>59</td>\n",
       "      <td>22167</td>\n",
       "      <td>2013</td>\n",
       "      <td>3</td>\n",
       "      <td>2013-03-12</td>\n",
       "      <td>1.0</td>\n",
       "      <td>299.0</td>\n",
       "    </tr>\n",
       "    <tr>\n",
       "      <th>2935818</th>\n",
       "      <td>59</td>\n",
       "      <td>22167</td>\n",
       "      <td>2013</td>\n",
       "      <td>10</td>\n",
       "      <td>2013-10-25</td>\n",
       "      <td>1.0</td>\n",
       "      <td>299.0</td>\n",
       "    </tr>\n",
       "    <tr>\n",
       "      <th>2935819</th>\n",
       "      <td>59</td>\n",
       "      <td>22167</td>\n",
       "      <td>2013</td>\n",
       "      <td>12</td>\n",
       "      <td>2013-12-14</td>\n",
       "      <td>1.0</td>\n",
       "      <td>299.0</td>\n",
       "    </tr>\n",
       "    <tr>\n",
       "      <th>2935820</th>\n",
       "      <td>59</td>\n",
       "      <td>22167</td>\n",
       "      <td>2014</td>\n",
       "      <td>6</td>\n",
       "      <td>2014-06-14</td>\n",
       "      <td>1.0</td>\n",
       "      <td>299.0</td>\n",
       "    </tr>\n",
       "  </tbody>\n",
       "</table>\n",
       "<p>2935821 rows × 7 columns</p>\n",
       "</div>"
      ],
      "text/plain": [
       "         shop_id  item_id  year  month       date  sold_number  sold_price\n",
       "0              0       30  2013      2 2013-02-15          2.0       265.0\n",
       "1              0       30  2013      2 2013-02-16          9.0       265.0\n",
       "2              0       30  2013      2 2013-02-17          4.0       265.0\n",
       "3              0       30  2013      2 2013-02-18          4.0       265.0\n",
       "4              0       30  2013      2 2013-02-20          2.0       265.0\n",
       "...          ...      ...   ...    ...        ...          ...         ...\n",
       "2935816       59    22164  2015     11 2015-11-02          1.0       749.0\n",
       "2935817       59    22167  2013      3 2013-03-12          1.0       299.0\n",
       "2935818       59    22167  2013     10 2013-10-25          1.0       299.0\n",
       "2935819       59    22167  2013     12 2013-12-14          1.0       299.0\n",
       "2935820       59    22167  2014      6 2014-06-14          1.0       299.0\n",
       "\n",
       "[2935821 rows x 7 columns]"
      ]
     },
     "execution_count": 25,
     "metadata": {},
     "output_type": "execute_result"
    }
   ],
   "source": [
    "train_data"
   ]
  },
  {
   "cell_type": "code",
   "execution_count": 26,
   "id": "32517353",
   "metadata": {
    "execution": {
     "iopub.execute_input": "2023-11-28T10:24:14.208612Z",
     "iopub.status.busy": "2023-11-28T10:24:14.208084Z",
     "iopub.status.idle": "2023-11-28T10:24:14.728116Z",
     "shell.execute_reply": "2023-11-28T10:24:14.727600Z",
     "shell.execute_reply.started": "2023-06-10T13:15:56.733992Z"
    },
    "papermill": {
     "duration": 0.551673,
     "end_time": "2023-11-28T10:24:14.728269",
     "exception": false,
     "start_time": "2023-11-28T10:24:14.176596",
     "status": "completed"
    },
    "tags": []
   },
   "outputs": [],
   "source": [
    "train_data['ID'] = train_data.groupby(['shop_id', 'item_id', 'year', 'month']).ngroup()"
   ]
  },
  {
   "cell_type": "code",
   "execution_count": 27,
   "id": "099b0306",
   "metadata": {
    "execution": {
     "iopub.execute_input": "2023-11-28T10:24:14.794532Z",
     "iopub.status.busy": "2023-11-28T10:24:14.786279Z",
     "iopub.status.idle": "2023-11-28T10:24:14.797158Z",
     "shell.execute_reply": "2023-11-28T10:24:14.796781Z",
     "shell.execute_reply.started": "2023-06-10T13:15:57.234336Z"
    },
    "papermill": {
     "duration": 0.041121,
     "end_time": "2023-11-28T10:24:14.797296",
     "exception": false,
     "start_time": "2023-11-28T10:24:14.756175",
     "status": "completed"
    },
    "tags": []
   },
   "outputs": [
    {
     "data": {
      "text/html": [
       "<div>\n",
       "<style scoped>\n",
       "    .dataframe tbody tr th:only-of-type {\n",
       "        vertical-align: middle;\n",
       "    }\n",
       "\n",
       "    .dataframe tbody tr th {\n",
       "        vertical-align: top;\n",
       "    }\n",
       "\n",
       "    .dataframe thead th {\n",
       "        text-align: right;\n",
       "    }\n",
       "</style>\n",
       "<table border=\"1\" class=\"dataframe\">\n",
       "  <thead>\n",
       "    <tr style=\"text-align: right;\">\n",
       "      <th></th>\n",
       "      <th>shop_id</th>\n",
       "      <th>item_id</th>\n",
       "      <th>year</th>\n",
       "      <th>month</th>\n",
       "      <th>date</th>\n",
       "      <th>sold_number</th>\n",
       "      <th>sold_price</th>\n",
       "      <th>ID</th>\n",
       "    </tr>\n",
       "  </thead>\n",
       "  <tbody>\n",
       "    <tr>\n",
       "      <th>0</th>\n",
       "      <td>0</td>\n",
       "      <td>30</td>\n",
       "      <td>2013</td>\n",
       "      <td>2</td>\n",
       "      <td>2013-02-15</td>\n",
       "      <td>2.0</td>\n",
       "      <td>265.0</td>\n",
       "      <td>0</td>\n",
       "    </tr>\n",
       "    <tr>\n",
       "      <th>1</th>\n",
       "      <td>0</td>\n",
       "      <td>30</td>\n",
       "      <td>2013</td>\n",
       "      <td>2</td>\n",
       "      <td>2013-02-16</td>\n",
       "      <td>9.0</td>\n",
       "      <td>265.0</td>\n",
       "      <td>0</td>\n",
       "    </tr>\n",
       "    <tr>\n",
       "      <th>2</th>\n",
       "      <td>0</td>\n",
       "      <td>30</td>\n",
       "      <td>2013</td>\n",
       "      <td>2</td>\n",
       "      <td>2013-02-17</td>\n",
       "      <td>4.0</td>\n",
       "      <td>265.0</td>\n",
       "      <td>0</td>\n",
       "    </tr>\n",
       "    <tr>\n",
       "      <th>3</th>\n",
       "      <td>0</td>\n",
       "      <td>30</td>\n",
       "      <td>2013</td>\n",
       "      <td>2</td>\n",
       "      <td>2013-02-18</td>\n",
       "      <td>4.0</td>\n",
       "      <td>265.0</td>\n",
       "      <td>0</td>\n",
       "    </tr>\n",
       "    <tr>\n",
       "      <th>4</th>\n",
       "      <td>0</td>\n",
       "      <td>30</td>\n",
       "      <td>2013</td>\n",
       "      <td>2</td>\n",
       "      <td>2013-02-20</td>\n",
       "      <td>2.0</td>\n",
       "      <td>265.0</td>\n",
       "      <td>0</td>\n",
       "    </tr>\n",
       "  </tbody>\n",
       "</table>\n",
       "</div>"
      ],
      "text/plain": [
       "   shop_id  item_id  year  month       date  sold_number  sold_price  ID\n",
       "0        0       30  2013      2 2013-02-15          2.0       265.0   0\n",
       "1        0       30  2013      2 2013-02-16          9.0       265.0   0\n",
       "2        0       30  2013      2 2013-02-17          4.0       265.0   0\n",
       "3        0       30  2013      2 2013-02-18          4.0       265.0   0\n",
       "4        0       30  2013      2 2013-02-20          2.0       265.0   0"
      ]
     },
     "execution_count": 27,
     "metadata": {},
     "output_type": "execute_result"
    }
   ],
   "source": [
    "train_data.head()"
   ]
  },
  {
   "cell_type": "code",
   "execution_count": 28,
   "id": "7e2c2f3d",
   "metadata": {
    "execution": {
     "iopub.execute_input": "2023-11-28T10:24:14.858516Z",
     "iopub.status.busy": "2023-11-28T10:24:14.857942Z",
     "iopub.status.idle": "2023-11-28T10:24:15.038251Z",
     "shell.execute_reply": "2023-11-28T10:24:15.038723Z",
     "shell.execute_reply.started": "2023-06-10T13:15:57.249249Z"
    },
    "papermill": {
     "duration": 0.213462,
     "end_time": "2023-11-28T10:24:15.038906",
     "exception": false,
     "start_time": "2023-11-28T10:24:14.825444",
     "status": "completed"
    },
    "tags": []
   },
   "outputs": [
    {
     "name": "stdout",
     "output_type": "stream",
     "text": [
      "X_train shape : (2055074, 3)\n",
      "X_test shape  : (880747, 3)\n",
      "y_train shape : (2055074,)\n",
      "y_test shape  : (880747,)\n"
     ]
    }
   ],
   "source": [
    "X = train_data.drop(['sold_number','sold_price','date','year','month'], axis=1)\n",
    "y = train_data['sold_number']\n",
    "\n",
    "#ID\tshop_id\titem_id\n",
    "# Split the data into training and testing sets\n",
    "x_train,x_test, y_train, y_test = train_test_split(X, y, test_size=0.3, shuffle=False)\n",
    "\n",
    "# Print the shapes of the resulting sets\n",
    "print(\"X_train shape :\", x_train.shape)\n",
    "print(\"X_test shape  :\", x_test.shape)\n",
    "print(\"y_train shape :\", y_train.shape)\n",
    "print(\"y_test shape  :\", y_test.shape)"
   ]
  },
  {
   "cell_type": "markdown",
   "id": "68ee5c74",
   "metadata": {
    "papermill": {
     "duration": 0.028024,
     "end_time": "2023-11-28T10:24:15.096014",
     "exception": false,
     "start_time": "2023-11-28T10:24:15.067990",
     "status": "completed"
    },
    "tags": []
   },
   "source": [
    "<div style=\"background-color:blue; border-radius:2px; border:#000000 solid; padding: 15px; font-size:100%; text-align:center\">\n",
    "    <h2 align=\"center\" style=\"color:#ffffff;\"><b>MODEL ENGINEERING</b></h2>\n",
    "</div>"
   ]
  },
  {
   "cell_type": "code",
   "execution_count": 29,
   "id": "859ecf56",
   "metadata": {
    "execution": {
     "iopub.execute_input": "2023-11-28T10:24:15.159057Z",
     "iopub.status.busy": "2023-11-28T10:24:15.158499Z",
     "iopub.status.idle": "2023-11-28T10:25:10.914620Z",
     "shell.execute_reply": "2023-11-28T10:25:10.914991Z",
     "shell.execute_reply.started": "2023-06-10T13:15:57.445082Z"
    },
    "papermill": {
     "duration": 55.789913,
     "end_time": "2023-11-28T10:25:10.915166",
     "exception": false,
     "start_time": "2023-11-28T10:24:15.125253",
     "status": "completed"
    },
    "tags": []
   },
   "outputs": [
    {
     "data": {
      "text/plain": [
       "LGBMRegressor()"
      ]
     },
     "execution_count": 29,
     "metadata": {},
     "output_type": "execute_result"
    }
   ],
   "source": [
    "# XGBoost\n",
    "xgb_model = xgb.XGBRegressor()\n",
    "xgb_model.fit(x_train, y_train)\n",
    "\n",
    "# LightGBM\n",
    "lgb_model = lgb.LGBMRegressor()\n",
    "lgb_model.fit(x_train, y_train)"
   ]
  },
  {
   "cell_type": "code",
   "execution_count": 30,
   "id": "b903e718",
   "metadata": {
    "execution": {
     "iopub.execute_input": "2023-11-28T10:25:10.975704Z",
     "iopub.status.busy": "2023-11-28T10:25:10.975241Z",
     "iopub.status.idle": "2023-11-28T10:25:11.272508Z",
     "shell.execute_reply": "2023-11-28T10:25:11.273048Z",
     "shell.execute_reply.started": "2023-06-10T13:16:53.845287Z"
    },
    "papermill": {
     "duration": 0.329339,
     "end_time": "2023-11-28T10:25:11.273259",
     "exception": false,
     "start_time": "2023-11-28T10:25:10.943920",
     "status": "completed"
    },
    "tags": []
   },
   "outputs": [],
   "source": [
    "# XGBoost\n",
    "xgb_predictions = xgb_model.predict(x_test)\n",
    "\n",
    "# LightGBM\n",
    "lgb_predictions = lgb_model.predict(x_test)"
   ]
  },
  {
   "cell_type": "code",
   "execution_count": 31,
   "id": "5e2ca304",
   "metadata": {
    "execution": {
     "iopub.execute_input": "2023-11-28T10:25:11.335792Z",
     "iopub.status.busy": "2023-11-28T10:25:11.335276Z",
     "iopub.status.idle": "2023-11-28T10:25:11.481662Z",
     "shell.execute_reply": "2023-11-28T10:25:11.481139Z",
     "shell.execute_reply.started": "2023-06-10T13:16:54.031137Z"
    },
    "papermill": {
     "duration": 0.179794,
     "end_time": "2023-11-28T10:25:11.481789",
     "exception": false,
     "start_time": "2023-11-28T10:25:11.301995",
     "status": "completed"
    },
    "tags": []
   },
   "outputs": [
    {
     "name": "stdout",
     "output_type": "stream",
     "text": [
      "--------------------: XGBoost Metrics :----------------------\n",
      "MSE       :  4.0863106873638655\n",
      "MAE       :  0.30235208161165816\n",
      "RMSE      :  2.0214625119857814\n",
      "R-squared :  0.024129107268091254\n",
      "\n",
      "-------------------: LightGBM Metrics :----------------------\n",
      "MSE       :  4.096628184497287\n",
      "MAE       :  0.30279772072660605\n",
      "RMSE      :  2.024012891386141\n",
      "R-squared :  0.021665137710053073\n"
     ]
    }
   ],
   "source": [
    "# Calculate MSE\n",
    "xgb_mse = mean_squared_error(y_test, xgb_predictions)\n",
    "lgb_mse = mean_squared_error(y_test, lgb_predictions)\n",
    "\n",
    "# Calculate MAE\n",
    "xgb_mae = mean_absolute_error(y_test, xgb_predictions)\n",
    "lgb_mae = mean_absolute_error(y_test, lgb_predictions)\n",
    "\n",
    "# Calculate RMSE\n",
    "xgb_rmse = mean_squared_error(y_test, xgb_predictions, squared=False)\n",
    "lgb_rmse = mean_squared_error(y_test, lgb_predictions, squared=False)\n",
    "\n",
    "# Calculate R-squared score\n",
    "xgb_r2 = r2_score(y_test, xgb_predictions)\n",
    "lgb_r2 = r2_score(y_test, lgb_predictions)\n",
    "\n",
    "print(\"--------------------: XGBoost Metrics :----------------------\")\n",
    "print(\"MSE       : \", xgb_mse)\n",
    "print(\"MAE       : \", xgb_mae)\n",
    "print(\"RMSE      : \", xgb_rmse)\n",
    "print(\"R-squared : \", xgb_r2)\n",
    "print()\n",
    "\n",
    "print(\"-------------------: LightGBM Metrics :----------------------\")\n",
    "print(\"MSE       : \", lgb_mse)\n",
    "print(\"MAE       : \", lgb_mae)\n",
    "print(\"RMSE      : \", lgb_rmse)\n",
    "print(\"R-squared : \", lgb_r2)"
   ]
  },
  {
   "cell_type": "code",
   "execution_count": 32,
   "id": "0e711d2a",
   "metadata": {
    "execution": {
     "iopub.execute_input": "2023-11-28T10:25:11.544221Z",
     "iopub.status.busy": "2023-11-28T10:25:11.543696Z",
     "iopub.status.idle": "2023-11-28T10:25:11.574014Z",
     "shell.execute_reply": "2023-11-28T10:25:11.573567Z",
     "shell.execute_reply.started": "2023-06-10T13:16:54.080164Z"
    },
    "papermill": {
     "duration": 0.063798,
     "end_time": "2023-11-28T10:25:11.574156",
     "exception": false,
     "start_time": "2023-11-28T10:25:11.510358",
     "status": "completed"
    },
    "tags": []
   },
   "outputs": [
    {
     "name": "stdout",
     "output_type": "stream",
     "text": [
      "XGBoost Metrics:\n",
      "MAPE: 16.292159297040815\n",
      "SMAPE: 16.25336562878239\n",
      "\n",
      "LightGBM Metrics:\n",
      "MAPE: 16.142606658592644\n",
      "SMAPE: 16.588737438660075\n"
     ]
    }
   ],
   "source": [
    "def mean_absolute_percentage_error(y_true, y_pred):\n",
    "    return np.mean(np.abs((y_true - y_pred) / y_true)) * 100\n",
    "\n",
    "def symmetric_mean_absolute_percentage_error(y_true, y_pred):\n",
    "    return np.mean(2 * np.abs(y_pred - y_true) / (np.abs(y_true) + np.abs(y_pred))) * 100\n",
    "\n",
    "# Calculate MAPE\n",
    "xgb_mape = mean_absolute_percentage_error(y_test, xgb_predictions)\n",
    "lgb_mape = mean_absolute_percentage_error(y_test, lgb_predictions)\n",
    "\n",
    "# Calculate SMAPE\n",
    "xgb_smape = symmetric_mean_absolute_percentage_error(y_test, xgb_predictions)\n",
    "lgb_smape = symmetric_mean_absolute_percentage_error(y_test, lgb_predictions)\n",
    "\n",
    "print(\"XGBoost Metrics:\")\n",
    "print(\"MAPE:\", xgb_mape)\n",
    "print(\"SMAPE:\", xgb_smape)\n",
    "print()\n",
    "\n",
    "print(\"LightGBM Metrics:\")\n",
    "print(\"MAPE:\", lgb_mape)\n",
    "print(\"SMAPE:\", lgb_smape)\n"
   ]
  },
  {
   "cell_type": "code",
   "execution_count": 33,
   "id": "dc7e0094",
   "metadata": {
    "execution": {
     "iopub.execute_input": "2023-11-28T10:25:11.636127Z",
     "iopub.status.busy": "2023-11-28T10:25:11.635665Z",
     "iopub.status.idle": "2023-11-28T10:25:11.641865Z",
     "shell.execute_reply": "2023-11-28T10:25:11.641300Z",
     "shell.execute_reply.started": "2023-06-10T13:16:54.117711Z"
    },
    "papermill": {
     "duration": 0.03863,
     "end_time": "2023-11-28T10:25:11.642000",
     "exception": false,
     "start_time": "2023-11-28T10:25:11.603370",
     "status": "completed"
    },
    "tags": []
   },
   "outputs": [
    {
     "data": {
      "text/html": [
       "<div>\n",
       "<style scoped>\n",
       "    .dataframe tbody tr th:only-of-type {\n",
       "        vertical-align: middle;\n",
       "    }\n",
       "\n",
       "    .dataframe tbody tr th {\n",
       "        vertical-align: top;\n",
       "    }\n",
       "\n",
       "    .dataframe thead th {\n",
       "        text-align: right;\n",
       "    }\n",
       "</style>\n",
       "<table border=\"1\" class=\"dataframe\">\n",
       "  <thead>\n",
       "    <tr style=\"text-align: right;\">\n",
       "      <th></th>\n",
       "      <th>ID</th>\n",
       "      <th>shop_id</th>\n",
       "      <th>item_id</th>\n",
       "    </tr>\n",
       "  </thead>\n",
       "  <tbody>\n",
       "    <tr>\n",
       "      <th>0</th>\n",
       "      <td>0</td>\n",
       "      <td>5</td>\n",
       "      <td>5037</td>\n",
       "    </tr>\n",
       "    <tr>\n",
       "      <th>1</th>\n",
       "      <td>1</td>\n",
       "      <td>5</td>\n",
       "      <td>5320</td>\n",
       "    </tr>\n",
       "    <tr>\n",
       "      <th>2</th>\n",
       "      <td>2</td>\n",
       "      <td>5</td>\n",
       "      <td>5233</td>\n",
       "    </tr>\n",
       "    <tr>\n",
       "      <th>3</th>\n",
       "      <td>3</td>\n",
       "      <td>5</td>\n",
       "      <td>5232</td>\n",
       "    </tr>\n",
       "    <tr>\n",
       "      <th>4</th>\n",
       "      <td>4</td>\n",
       "      <td>5</td>\n",
       "      <td>5268</td>\n",
       "    </tr>\n",
       "    <tr>\n",
       "      <th>...</th>\n",
       "      <td>...</td>\n",
       "      <td>...</td>\n",
       "      <td>...</td>\n",
       "    </tr>\n",
       "    <tr>\n",
       "      <th>214195</th>\n",
       "      <td>214195</td>\n",
       "      <td>45</td>\n",
       "      <td>18454</td>\n",
       "    </tr>\n",
       "    <tr>\n",
       "      <th>214196</th>\n",
       "      <td>214196</td>\n",
       "      <td>45</td>\n",
       "      <td>16188</td>\n",
       "    </tr>\n",
       "    <tr>\n",
       "      <th>214197</th>\n",
       "      <td>214197</td>\n",
       "      <td>45</td>\n",
       "      <td>15757</td>\n",
       "    </tr>\n",
       "    <tr>\n",
       "      <th>214198</th>\n",
       "      <td>214198</td>\n",
       "      <td>45</td>\n",
       "      <td>19648</td>\n",
       "    </tr>\n",
       "    <tr>\n",
       "      <th>214199</th>\n",
       "      <td>214199</td>\n",
       "      <td>45</td>\n",
       "      <td>969</td>\n",
       "    </tr>\n",
       "  </tbody>\n",
       "</table>\n",
       "<p>214200 rows × 3 columns</p>\n",
       "</div>"
      ],
      "text/plain": [
       "            ID  shop_id  item_id\n",
       "0            0        5     5037\n",
       "1            1        5     5320\n",
       "2            2        5     5233\n",
       "3            3        5     5232\n",
       "4            4        5     5268\n",
       "...        ...      ...      ...\n",
       "214195  214195       45    18454\n",
       "214196  214196       45    16188\n",
       "214197  214197       45    15757\n",
       "214198  214198       45    19648\n",
       "214199  214199       45      969\n",
       "\n",
       "[214200 rows x 3 columns]"
      ]
     },
     "execution_count": 33,
     "metadata": {},
     "output_type": "execute_result"
    }
   ],
   "source": [
    "sales_test"
   ]
  },
  {
   "cell_type": "code",
   "execution_count": 34,
   "id": "bdb461a6",
   "metadata": {
    "execution": {
     "iopub.execute_input": "2023-11-28T10:25:11.703171Z",
     "iopub.status.busy": "2023-11-28T10:25:11.702638Z",
     "iopub.status.idle": "2023-11-28T10:25:11.722209Z",
     "shell.execute_reply": "2023-11-28T10:25:11.722704Z",
     "shell.execute_reply.started": "2023-06-10T13:16:54.129429Z"
    },
    "papermill": {
     "duration": 0.051937,
     "end_time": "2023-11-28T10:25:11.722876",
     "exception": false,
     "start_time": "2023-11-28T10:25:11.670939",
     "status": "completed"
    },
    "tags": []
   },
   "outputs": [
    {
     "data": {
      "text/plain": [
       "array([1.2459811, 0.9930698, 1.2374105, ..., 0.1983811, 0.9584357,\n",
       "       1.0123454], dtype=float32)"
      ]
     },
     "execution_count": 34,
     "metadata": {},
     "output_type": "execute_result"
    }
   ],
   "source": [
    "xgb_model.predict(sales_test)"
   ]
  },
  {
   "cell_type": "code",
   "execution_count": 35,
   "id": "34929a6d",
   "metadata": {
    "execution": {
     "iopub.execute_input": "2023-11-28T10:25:11.788419Z",
     "iopub.status.busy": "2023-11-28T10:25:11.787957Z",
     "iopub.status.idle": "2023-11-28T10:25:11.824615Z",
     "shell.execute_reply": "2023-11-28T10:25:11.825209Z",
     "shell.execute_reply.started": "2023-06-10T13:16:54.166110Z"
    },
    "papermill": {
     "duration": 0.068453,
     "end_time": "2023-11-28T10:25:11.825361",
     "exception": false,
     "start_time": "2023-11-28T10:25:11.756908",
     "status": "completed"
    },
    "tags": []
   },
   "outputs": [
    {
     "data": {
      "text/plain": [
       "array([1.1573438 , 1.06214954, 1.06214954, ..., 1.12574359, 1.12574359,\n",
       "       1.12574359])"
      ]
     },
     "execution_count": 35,
     "metadata": {},
     "output_type": "execute_result"
    }
   ],
   "source": [
    "lgb_model.predict(sales_test)"
   ]
  },
  {
   "cell_type": "code",
   "execution_count": 36,
   "id": "f390e6ea",
   "metadata": {
    "execution": {
     "iopub.execute_input": "2023-11-28T10:25:11.891969Z",
     "iopub.status.busy": "2023-11-28T10:25:11.891504Z",
     "iopub.status.idle": "2023-11-28T10:25:12.373289Z",
     "shell.execute_reply": "2023-11-28T10:25:12.372772Z",
     "shell.execute_reply.started": "2023-06-10T13:16:54.220901Z"
    },
    "papermill": {
     "duration": 0.514235,
     "end_time": "2023-11-28T10:25:12.373441",
     "exception": false,
     "start_time": "2023-11-28T10:25:11.859206",
     "status": "completed"
    },
    "tags": []
   },
   "outputs": [],
   "source": [
    "# Create a DataFrame for submission\n",
    "submission_lgb_model = pd.DataFrame({'ID': sales_test.ID, 'item_cnt_month': lgb_model.predict(sales_test)})\n",
    "# Save the DataFrame to a CSV file\n",
    "submission_lgb_model.to_csv('submission_lgb_model.csv', index=False)"
   ]
  },
  {
   "cell_type": "code",
   "execution_count": 37,
   "id": "dde11436",
   "metadata": {
    "execution": {
     "iopub.execute_input": "2023-11-28T10:25:12.435805Z",
     "iopub.status.busy": "2023-11-28T10:25:12.435351Z",
     "iopub.status.idle": "2023-11-28T10:25:12.811539Z",
     "shell.execute_reply": "2023-11-28T10:25:12.811103Z",
     "shell.execute_reply.started": "2023-06-10T13:16:54.942805Z"
    },
    "papermill": {
     "duration": 0.408927,
     "end_time": "2023-11-28T10:25:12.811667",
     "exception": false,
     "start_time": "2023-11-28T10:25:12.402740",
     "status": "completed"
    },
    "tags": []
   },
   "outputs": [],
   "source": [
    "# Create a DataFrame for submission\n",
    "submission_xgb_model = pd.DataFrame({'ID': sales_test.ID, 'item_cnt_month': xgb_model.predict(sales_test)})\n",
    "# Save the DataFrame to a CSV file\n",
    "submission_xgb_model.to_csv('submission_xgb_model.csv', index=False)"
   ]
  }
 ],
 "metadata": {
  "kaggle": {
   "accelerator": "tpu1vmV38",
   "dataSources": [
    {
     "databundleVersionId": 868304,
     "sourceId": 8587,
     "sourceType": "competition"
    }
   ],
   "dockerImageVersionId": 30260,
   "isGpuEnabled": false,
   "isInternetEnabled": true,
   "language": "python",
   "sourceType": "notebook"
  },
  "kernelspec": {
   "display_name": "Python 3",
   "language": "python",
   "name": "python3"
  },
  "language_info": {
   "codemirror_mode": {
    "name": "ipython",
    "version": 3
   },
   "file_extension": ".py",
   "mimetype": "text/x-python",
   "name": "python",
   "nbconvert_exporter": "python",
   "pygments_lexer": "ipython3",
   "version": "3.7.12"
  },
  "papermill": {
   "default_parameters": {},
   "duration": 93.050632,
   "end_time": "2023-11-28T10:25:13.550492",
   "environment_variables": {},
   "exception": null,
   "input_path": "__notebook__.ipynb",
   "output_path": "__notebook__.ipynb",
   "parameters": {},
   "start_time": "2023-11-28T10:23:40.499860",
   "version": "2.3.3"
  }
 },
 "nbformat": 4,
 "nbformat_minor": 5
}
