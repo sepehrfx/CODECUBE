{
 "cells": [
  {
   "cell_type": "markdown",
   "metadata": {},
   "source": [
    "<div style=\"background-color:blue; border-radius:2px; border:#000000 solid; padding: 15px; font-size:100%; text-align:center\">\n",
    "    <h1 align=\"center\" style=\"color:#ffffff;\"><b>Traffic Sign Recognition 🚦🔍</b></h1>\n",
    "</div>"
   ]
  },
  {
   "cell_type": "markdown",
   "metadata": {},
   "source": [
    "<div style=\"background-color:blue; padding:20px; font-size:32px; font-family: consolas; text-align:center; display:fill; border-radius:15px;  color:black;\"> <b> 1. Import dependencies</b></div>"
   ]
  },
  {
   "cell_type": "code",
   "execution_count": null,
   "metadata": {
    "execution": {
     "iopub.execute_input": "2023-06-07T01:29:18.971452Z",
     "iopub.status.busy": "2023-06-07T01:29:18.970423Z",
     "iopub.status.idle": "2023-06-07T01:29:25.348678Z",
     "shell.execute_reply": "2023-06-07T01:29:25.347540Z",
     "shell.execute_reply.started": "2023-06-07T01:29:18.971411Z"
    }
   },
   "outputs": [],
   "source": [
    "!pip install -q numpy pandas opencv-python matplotlib seaborn tensorflow keras pillow plotly && apt-get update && apt-get install -y libgl1-mesa-glx;"
   ]
  },
  {
   "cell_type": "code",
   "execution_count": null,
   "metadata": {
    "_cell_guid": "b1076dfc-b9ad-4769-8c92-a6c4dae69d19",
    "_uuid": "8f2839f25d086af736a60e9eeb907d3b93b6e0e5",
    "execution": {
     "iopub.execute_input": "2023-06-07T01:30:22.339693Z",
     "iopub.status.busy": "2023-06-07T01:30:22.338960Z",
     "iopub.status.idle": "2023-06-07T01:30:22.349485Z",
     "shell.execute_reply": "2023-06-07T01:30:22.348615Z",
     "shell.execute_reply.started": "2023-06-07T01:30:22.339657Z"
    }
   },
   "outputs": [],
   "source": [
    "import numpy as np                 # Importing the NumPy library for numerical computations\n",
    "import pandas as pd                # Importing the Pandas library for data manipulation and analysis\n",
    "import os                          # Importing the os module for interacting with the operating system\n",
    "import cv2                         # Importing the OpenCV library for image processing\n",
    "import matplotlib.pyplot as plt    # Importing the Matplotlib library for data visualization\n",
    "import seaborn as sns\n",
    "import tensorflow as tf            # Importing the TensorFlow library for deep learning\n",
    "from tensorflow import keras       # Importing the Keras module from TensorFlow for building neural networks\n",
    "from PIL import Image              # Importing the PIL library for image processing\n",
    "from tensorflow.keras.optimizers import Adam\n",
    "import plotly.graph_objects as go\n",
    "from plotly.subplots import make_subplots\n",
    "from keras.utils import to_categorical\n",
    "from sklearn.model_selection import train_test_split  # Importing train_test_split from scikit-learn for splitting data\n",
    "from tensorflow.keras.preprocessing.image import ImageDataGenerator  # Importing ImageDataGenerator for data augmentation\n",
    "from tensorflow.keras.optimizers import Adam   # Importing the Adam optimizer from TensorFlow for model optimization\n",
    "from sklearn.metrics import accuracy_score    # Importing accuracy_score from scikit-learn for calculating accuracy\n",
    "from matplotlib import style       # Importing style from Matplotlib for customizing plot styles\n",
    "import warnings\n",
    "warnings.filterwarnings(\"ignore\")  # Ignore warning messages during code execution\n",
    "np.random.seed(42)                # Setting the random seed for reproducibility"
   ]
  },
  {
   "cell_type": "markdown",
   "metadata": {},
   "source": [
    "<div style=\"background-color:blue; padding:20px; font-size:32px; font-family: consolas; text-align:center; display:fill; border-radius:15px;  color:black;\"> <b> 2. Data Preparetion</b></div>"
   ]
  },
  {
   "cell_type": "code",
   "execution_count": null,
   "metadata": {
    "execution": {
     "iopub.execute_input": "2023-06-07T01:30:32.193486Z",
     "iopub.status.busy": "2023-06-07T01:30:32.193006Z",
     "iopub.status.idle": "2023-06-07T01:30:32.203405Z",
     "shell.execute_reply": "2023-06-07T01:30:32.202460Z",
     "shell.execute_reply.started": "2023-06-07T01:30:32.193451Z"
    }
   },
   "outputs": [],
   "source": [
    "def read_images(directory_path):\n",
    "    images = []\n",
    "    labels = []\n",
    "\n",
    "    valid_extensions = ('.jpg', '.jpeg', '.png')  # Valid image file extensions\n",
    "\n",
    "    # Get subdirectories within the directory\n",
    "    subdirectories = [subdir for subdir in os.listdir(directory_path) if os.path.isdir(os.path.join(directory_path, subdir))]\n",
    "\n",
    "    for subdir in subdirectories:\n",
    "        subdirectory_path = os.path.join(directory_path, subdir)\n",
    "        if not os.listdir(subdirectory_path):\n",
    "            continue  # Skip empty subdirectories\n",
    "\n",
    "        # Iterate over images in the subdirectory\n",
    "        for filename in os.listdir(subdirectory_path):\n",
    "            if filename.lower().endswith(valid_extensions):  # Check if the file has a valid image extension\n",
    "                image_path = os.path.join(subdirectory_path, filename)\n",
    "                image = cv2.imread(image_path)\n",
    "                image = cv2.resize(image, (30, 30))  # Resize the image to 30x30 pixels\n",
    "                images.append(image)\n",
    "\n",
    "                # Assign the label based on the subdirectory name\n",
    "                label = int(subdir)\n",
    "                labels.append(label)\n",
    "\n",
    "    data = np.array(list(zip(images, labels)))\n",
    "    \n",
    "    return data"
   ]
  },
  {
   "cell_type": "code",
   "execution_count": null,
   "metadata": {
    "execution": {
     "iopub.execute_input": "2023-06-07T01:30:37.911868Z",
     "iopub.status.busy": "2023-06-07T01:30:37.910886Z",
     "iopub.status.idle": "2023-06-07T01:33:34.380355Z",
     "shell.execute_reply": "2023-06-07T01:33:34.379269Z",
     "shell.execute_reply.started": "2023-06-07T01:30:37.911825Z"
    }
   },
   "outputs": [],
   "source": [
    "train_data = read_images('/kaggle/input/gtsrb-german-traffic-sign/Train')"
   ]
  },
  {
   "cell_type": "code",
   "execution_count": null,
   "metadata": {
    "execution": {
     "iopub.execute_input": "2023-06-07T01:34:16.176107Z",
     "iopub.status.busy": "2023-06-07T01:34:16.175662Z",
     "iopub.status.idle": "2023-06-07T01:34:16.181653Z",
     "shell.execute_reply": "2023-06-07T01:34:16.180748Z",
     "shell.execute_reply.started": "2023-06-07T01:34:16.176071Z"
    }
   },
   "outputs": [],
   "source": [
    "print(f\"Train Data Shape : {train_data.shape}\")"
   ]
  },
  {
   "cell_type": "code",
   "execution_count": null,
   "metadata": {
    "execution": {
     "iopub.execute_input": "2023-06-07T01:34:19.528768Z",
     "iopub.status.busy": "2023-06-07T01:34:19.528324Z",
     "iopub.status.idle": "2023-06-07T01:34:19.539148Z",
     "shell.execute_reply": "2023-06-07T01:34:19.538240Z",
     "shell.execute_reply.started": "2023-06-07T01:34:19.528735Z"
    }
   },
   "outputs": [],
   "source": [
    "# Label Overview\n",
    "classes = { \n",
    "    0:'Speed limit (20km/h)',\n",
    "    1:'Speed limit (30km/h)', \n",
    "    2:'Speed limit (50km/h)', \n",
    "    3:'Speed limit (60km/h)', \n",
    "    4:'Speed limit (70km/h)', \n",
    "    5:'Speed limit (80km/h)', \n",
    "    6:'End of speed limit (80km/h)', \n",
    "    7:'Speed limit (100km/h)', \n",
    "    8:'Speed limit (120km/h)', \n",
    "    9:'No passing', \n",
    "    10:'No passing veh over 3.5 tons', \n",
    "    11:'Right-of-way at intersection', \n",
    "    12:'Priority road', \n",
    "    13:'Yield', \n",
    "    14:'Stop', \n",
    "    15:'No vehicles', \n",
    "    16:'Veh > 3.5 tons prohibited', \n",
    "    17:'No entry', \n",
    "    18:'General caution', \n",
    "    19:'Dangerous curve left', \n",
    "    20:'Dangerous curve right', \n",
    "    21:'Double curve', \n",
    "    22:'Bumpy road', \n",
    "    23:'Slippery road', \n",
    "    24:'Road narrows on the right', \n",
    "    25:'Road work', \n",
    "    26:'Traffic signals', \n",
    "    27:'Pedestrians', \n",
    "    28:'Children crossing', \n",
    "    29:'Bicycles crossing', \n",
    "    30:'Beware of ice/snow',\n",
    "    31:'Wild animals crossing', \n",
    "    32:'End speed + passing limits', \n",
    "    33:'Turn right ahead', \n",
    "    34:'Turn left ahead', \n",
    "    35:'Ahead only', \n",
    "    36:'Go straight or right', \n",
    "    37:'Go straight or left', \n",
    "    38:'Keep right', \n",
    "    39:'Keep left', \n",
    "    40:'Roundabout mandatory', \n",
    "    41:'End of no passing', \n",
    "    42:'End no passing veh > 3.5 tons'\n",
    "}"
   ]
  },
  {
   "cell_type": "code",
   "execution_count": null,
   "metadata": {
    "execution": {
     "iopub.execute_input": "2023-06-07T01:35:17.211828Z",
     "iopub.status.busy": "2023-06-07T01:35:17.210871Z",
     "iopub.status.idle": "2023-06-07T01:35:17.219972Z",
     "shell.execute_reply": "2023-06-07T01:35:17.219136Z",
     "shell.execute_reply.started": "2023-06-07T01:35:17.211787Z"
    }
   },
   "outputs": [],
   "source": [
    "labels = train_data[:, 1].astype(int)  # Extract the labels from the train_data array\n",
    "unique_labels, label_counts = np.unique(labels, return_counts=True)\n",
    "count_dict= {label: count for label, count in zip(unique_labels, label_counts)}\n",
    "print(count_dict)"
   ]
  },
  {
   "cell_type": "code",
   "execution_count": null,
   "metadata": {
    "execution": {
     "iopub.execute_input": "2023-06-07T01:35:22.288818Z",
     "iopub.status.busy": "2023-06-07T01:35:22.287790Z",
     "iopub.status.idle": "2023-06-07T01:35:22.459675Z",
     "shell.execute_reply": "2023-06-07T01:35:22.458791Z",
     "shell.execute_reply.started": "2023-06-07T01:35:22.288776Z"
    }
   },
   "outputs": [],
   "source": [
    "# Define the base color\n",
    "base_color = '#8A2BE2'  # Blue-violet color\n",
    "\n",
    "# Create a color scale using the base color\n",
    "color_scale = [[0, base_color], [1, 'rgb(30,30,30)']]  # Start with the base color and end with dark background\n",
    "\n",
    "# Create a horizontal bar plot\n",
    "fig = go.Figure(data=[go.Bar(\n",
    "    x=label_counts,\n",
    "    y=[classes[label] for label in unique_labels],\n",
    "    orientation='h',\n",
    "    marker=dict(\n",
    "        color=label_counts,\n",
    "        coloraxis='coloraxis'\n",
    "    )\n",
    ")])\n",
    "\n",
    "# Customize the layout\n",
    "fig.update_layout(\n",
    "    title='Label Counts in Train Data',\n",
    "    xaxis_title='Count',\n",
    "    yaxis_title='Label',\n",
    "    plot_bgcolor='rgb(30,30,30)',  # Dark background color\n",
    "    paper_bgcolor='rgb(30,30,30)',  # Dark background color\n",
    "    font=dict(color='white'),  # White font color\n",
    "    coloraxis=dict(colorscale=color_scale)  # Color scale for bars\n",
    ")\n",
    "\n",
    "# Show the plot\n",
    "fig.show()\n"
   ]
  },
  {
   "cell_type": "code",
   "execution_count": null,
   "metadata": {
    "execution": {
     "iopub.execute_input": "2023-06-07T01:36:07.246048Z",
     "iopub.status.busy": "2023-06-07T01:36:07.245029Z",
     "iopub.status.idle": "2023-06-07T01:36:07.271967Z",
     "shell.execute_reply": "2023-06-07T01:36:07.270968Z",
     "shell.execute_reply.started": "2023-06-07T01:36:07.246012Z"
    }
   },
   "outputs": [],
   "source": [
    "# Define the base color and generate a color palette\n",
    "base_color = '#8A2BE2'\n",
    "color_palette = sns.color_palette(\"husl\", len(count_dict)).as_hex()\n",
    "\n",
    "# Create the pie plot\n",
    "fig = go.Figure(data=[go.Pie(\n",
    "    labels=list(count_dict.keys()),\n",
    "    values=list(count_dict.values()),\n",
    "    marker=dict(colors=color_palette),\n",
    ")])\n",
    "\n",
    "# Update the layout\n",
    "fig.update_layout(\n",
    "    title='Label Distribution',\n",
    "    font=dict(color='white'),\n",
    "    paper_bgcolor='rgb(30,30,30)',  # Dark background color\n",
    "    plot_bgcolor='rgb(30,30,30)'  # Dark background color\n",
    ")\n",
    "\n",
    "# Show the plot\n",
    "fig.show()"
   ]
  },
  {
   "cell_type": "code",
   "execution_count": null,
   "metadata": {
    "execution": {
     "iopub.execute_input": "2023-06-07T01:36:19.029818Z",
     "iopub.status.busy": "2023-06-07T01:36:19.028730Z",
     "iopub.status.idle": "2023-06-07T01:36:19.185072Z",
     "shell.execute_reply": "2023-06-07T01:36:19.184102Z",
     "shell.execute_reply.started": "2023-06-07T01:36:19.029777Z"
    }
   },
   "outputs": [],
   "source": [
    "# Select 10 random samples from train_data\n",
    "indices = np.random.choice(train_data.shape[0], size=10, replace=False)\n",
    "samples = train_data[indices]\n",
    "\n",
    "# Create a grid of subplots for the images\n",
    "fig = make_subplots(rows=2, cols=5, subplot_titles=[classes[label] for _, label in samples])\n",
    "\n",
    "for i, (image, label) in enumerate(samples):\n",
    "    row = i // 5 + 1\n",
    "    col = i % 5 + 1\n",
    "\n",
    "    # Add the image to the subplot\n",
    "    fig.add_trace(\n",
    "        go.Image(z=image),\n",
    "        row=row,\n",
    "        col=col\n",
    "    )\n",
    "\n",
    "# Update the layout\n",
    "fig.update_layout(\n",
    "    title='Random Samples',\n",
    "    font=dict(color='white'),\n",
    "    paper_bgcolor='rgb(30,30,30)',  # Dark background color\n",
    "    plot_bgcolor='rgb(30,30,30)'  # Dark background color\n",
    ")\n",
    "\n",
    "# Show the plot\n",
    "fig.show()\n"
   ]
  },
  {
   "cell_type": "code",
   "execution_count": null,
   "metadata": {
    "execution": {
     "iopub.execute_input": "2023-06-07T01:54:46.161878Z",
     "iopub.status.busy": "2023-06-07T01:54:46.161548Z",
     "iopub.status.idle": "2023-06-07T01:54:47.849175Z",
     "shell.execute_reply": "2023-06-07T01:54:47.848248Z",
     "shell.execute_reply.started": "2023-06-07T01:54:46.161851Z"
    }
   },
   "outputs": [],
   "source": [
    "train_ = pd.DataFrame(train_data, columns=['Image', 'Label'])\n",
    "train_.head()"
   ]
  },
  {
   "cell_type": "code",
   "execution_count": null,
   "metadata": {
    "execution": {
     "iopub.execute_input": "2023-06-07T01:57:12.604684Z",
     "iopub.status.busy": "2023-06-07T01:57:12.603685Z",
     "iopub.status.idle": "2023-06-07T01:57:12.636490Z",
     "shell.execute_reply": "2023-06-07T01:57:12.635455Z",
     "shell.execute_reply.started": "2023-06-07T01:57:12.604629Z"
    }
   },
   "outputs": [],
   "source": [
    "class_count = 200  # Number of samples to select from each class\n",
    "grouped = train_.groupby('Label')# Group the DataFrame by the 'y' column\n",
    "\n",
    "# Use the apply function to select the desired number of samples from each class\n",
    "balanced_df = grouped.apply(lambda x: x.sample(class_count))\n",
    "\n",
    "# Reset the index of the balanced DataFrame\n",
    "balanced_df.reset_index(drop=True, inplace=True)"
   ]
  },
  {
   "cell_type": "code",
   "execution_count": null,
   "metadata": {
    "execution": {
     "iopub.execute_input": "2023-06-07T01:58:18.873986Z",
     "iopub.status.busy": "2023-06-07T01:58:18.873521Z",
     "iopub.status.idle": "2023-06-07T01:58:18.880367Z",
     "shell.execute_reply": "2023-06-07T01:58:18.879519Z",
     "shell.execute_reply.started": "2023-06-07T01:58:18.873952Z"
    }
   },
   "outputs": [],
   "source": [
    "balanced_df.shape"
   ]
  },
  {
   "cell_type": "code",
   "execution_count": null,
   "metadata": {
    "execution": {
     "iopub.execute_input": "2023-06-07T01:59:24.744891Z",
     "iopub.status.busy": "2023-06-07T01:59:24.743873Z",
     "iopub.status.idle": "2023-06-07T01:59:24.749177Z",
     "shell.execute_reply": "2023-06-07T01:59:24.748334Z",
     "shell.execute_reply.started": "2023-06-07T01:59:24.744851Z"
    }
   },
   "outputs": [],
   "source": [
    "train_balanced = balanced_df.values"
   ]
  },
  {
   "cell_type": "code",
   "execution_count": null,
   "metadata": {
    "execution": {
     "iopub.execute_input": "2023-06-07T01:59:39.181126Z",
     "iopub.status.busy": "2023-06-07T01:59:39.180154Z",
     "iopub.status.idle": "2023-06-07T01:59:39.188319Z",
     "shell.execute_reply": "2023-06-07T01:59:39.187494Z",
     "shell.execute_reply.started": "2023-06-07T01:59:39.181087Z"
    }
   },
   "outputs": [],
   "source": [
    "new_labels = train_balanced[:, 1].astype(int)  # Extract the labels from the train_data array\n",
    "new_unique_labels, new_label_counts = np.unique(new_labels, return_counts=True)\n",
    "new_count_dict= {label: count for label, count in zip(new_unique_labels, new_label_counts)}\n",
    "print(new_count_dict)"
   ]
  },
  {
   "cell_type": "code",
   "execution_count": null,
   "metadata": {
    "execution": {
     "iopub.execute_input": "2023-06-07T02:00:25.517456Z",
     "iopub.status.busy": "2023-06-07T02:00:25.516424Z",
     "iopub.status.idle": "2023-06-07T02:00:25.539166Z",
     "shell.execute_reply": "2023-06-07T02:00:25.538333Z",
     "shell.execute_reply.started": "2023-06-07T02:00:25.517413Z"
    }
   },
   "outputs": [],
   "source": [
    "# Define the base color and generate a color palette\n",
    "base_color = '#8A2BE2'\n",
    "color_palette = sns.color_palette(\"husl\", len(new_count_dict)).as_hex()\n",
    "\n",
    "# Create the pie plot\n",
    "fig = go.Figure(data=[go.Pie(\n",
    "    labels=list(new_count_dict.keys()),\n",
    "    values=list(new_count_dict.values()),\n",
    "    marker=dict(colors=color_palette),\n",
    ")])\n",
    "\n",
    "# Update the layout\n",
    "fig.update_layout(\n",
    "    title='Label Distribution',\n",
    "    font=dict(color='white'),\n",
    "    paper_bgcolor='rgb(30,30,30)',  # Dark background color\n",
    "    plot_bgcolor='rgb(30,30,30)'  # Dark background color\n",
    ")\n",
    "\n",
    "# Show the plot\n",
    "fig.show()"
   ]
  },
  {
   "cell_type": "code",
   "execution_count": null,
   "metadata": {
    "execution": {
     "iopub.execute_input": "2023-06-07T02:01:09.037877Z",
     "iopub.status.busy": "2023-06-07T02:01:09.036666Z",
     "iopub.status.idle": "2023-06-07T02:01:09.043438Z",
     "shell.execute_reply": "2023-06-07T02:01:09.042493Z",
     "shell.execute_reply.started": "2023-06-07T02:01:09.037837Z"
    }
   },
   "outputs": [],
   "source": [
    "shuffled_train = train_balanced.copy()     # Create a copy of train_data to avoid modifying the original array\n",
    "shuffled_train = np.array(shuffled_train)  # Shuffle the array randomly"
   ]
  },
  {
   "cell_type": "code",
   "execution_count": null,
   "metadata": {
    "execution": {
     "iopub.execute_input": "2023-06-07T02:01:39.770433Z",
     "iopub.status.busy": "2023-06-07T02:01:39.769472Z",
     "iopub.status.idle": "2023-06-07T02:01:39.886611Z",
     "shell.execute_reply": "2023-06-07T02:01:39.885680Z",
     "shell.execute_reply.started": "2023-06-07T02:01:39.770393Z"
    }
   },
   "outputs": [],
   "source": [
    "# Split the shuffled_train array into training and testing sets\n",
    "train_set, test_set = train_test_split(shuffled_train, test_size=0.2, random_state=42)\n",
    "\n",
    "# Separate the input (X) and output/label (y) arrays from the training set\n",
    "x_train = train_set[:, 0]\n",
    "y_train = train_set[:, 1]\n",
    "\n",
    "# Separate the input (X) and output/label (y) arrays from the testing set\n",
    "x_test = test_set[:, 0]\n",
    "y_test = test_set[:, 1]\n",
    "\n",
    "# Convert the data type of the arrays to int\n",
    "x_train = np.array([np.array(x) for x in x_train])\n",
    "y_train = np.array([np.array(y) for y in y_train])\n",
    "x_test = np.array([np.array(x) for x in x_test])\n",
    "y_test = np.array([np.array(y) for y in y_test])\n",
    "\n",
    "# Normalize the input data\n",
    "x_train = x_train / 255.0\n",
    "x_test  = x_test / 255.0\n",
    "\n",
    "print(\"x_train shape:\", x_train.shape)\n",
    "print(\"x_test  shape:\", x_test.shape)\n",
    "print(\"y_train shape:\", y_train.shape)\n",
    "print(\"y_test  shape:\", y_test.shape)"
   ]
  },
  {
   "cell_type": "code",
   "execution_count": null,
   "metadata": {
    "execution": {
     "iopub.execute_input": "2023-06-07T02:01:51.888932Z",
     "iopub.status.busy": "2023-06-07T02:01:51.887933Z",
     "iopub.status.idle": "2023-06-07T02:01:51.894162Z",
     "shell.execute_reply": "2023-06-07T02:01:51.893165Z",
     "shell.execute_reply.started": "2023-06-07T02:01:51.888881Z"
    }
   },
   "outputs": [],
   "source": [
    "# Convert target labels to one-hot encoding\n",
    "y_train = to_categorical(y_train, num_classes=43)\n",
    "y_test  = to_categorical(y_test, num_classes=43)"
   ]
  },
  {
   "cell_type": "markdown",
   "metadata": {},
   "source": [
    "<div style=\"background-color:blue; padding:20px; font-size:32px; font-family: consolas; text-align:center; display:fill; border-radius:15px;  color:black;\"> <b> 3. Model Creation and Evaluation</b></div>"
   ]
  },
  {
   "cell_type": "code",
   "execution_count": null,
   "metadata": {
    "execution": {
     "iopub.execute_input": "2023-06-07T02:01:57.549774Z",
     "iopub.status.busy": "2023-06-07T02:01:57.548888Z",
     "iopub.status.idle": "2023-06-07T02:02:01.524517Z",
     "shell.execute_reply": "2023-06-07T02:02:01.523355Z",
     "shell.execute_reply.started": "2023-06-07T02:01:57.549739Z"
    }
   },
   "outputs": [],
   "source": [
    "model = tf.keras.Sequential([\n",
    "    tf.keras.layers.Conv2D(filters=16, kernel_size=(3, 3), activation='relu', input_shape=(30,30,3)),\n",
    "    tf.keras.layers.Conv2D(filters=32, kernel_size=(3, 3), activation='relu'),\n",
    "    tf.keras.layers.MaxPool2D(pool_size=(2, 2)),\n",
    "    tf.keras.layers.BatchNormalization(axis=-1),\n",
    "    \n",
    "    tf.keras.layers.Conv2D(filters=64, kernel_size=(3, 3), activation='relu'),\n",
    "    tf.keras.layers.Conv2D(filters=128, kernel_size=(3, 3), activation='relu'),\n",
    "    tf.keras.layers.MaxPool2D(pool_size=(2, 2)),\n",
    "    tf.keras.layers.BatchNormalization(axis=-1),\n",
    "    \n",
    "    tf.keras.layers.Flatten(),\n",
    "    tf.keras.layers.Dense(512, activation='relu'),\n",
    "    tf.keras.layers.BatchNormalization(),\n",
    "    tf.keras.layers.Dropout(rate=0.5),\n",
    "    \n",
    "    tf.keras.layers.Dense(43, activation='softmax')\n",
    "])"
   ]
  },
  {
   "cell_type": "code",
   "execution_count": null,
   "metadata": {
    "execution": {
     "iopub.execute_input": "2023-06-07T02:02:05.685610Z",
     "iopub.status.busy": "2023-06-07T02:02:05.685154Z",
     "iopub.status.idle": "2023-06-07T02:02:05.704976Z",
     "shell.execute_reply": "2023-06-07T02:02:05.703926Z",
     "shell.execute_reply.started": "2023-06-07T02:02:05.685577Z"
    }
   },
   "outputs": [],
   "source": [
    "lr = 0.001\n",
    "epochs = 30\n",
    "opt = Adam(learning_rate=lr)  # Set the learning_rate instead of decay\n",
    "model.compile(loss='categorical_crossentropy', optimizer=opt, metrics=['accuracy'])"
   ]
  },
  {
   "cell_type": "code",
   "execution_count": null,
   "metadata": {
    "execution": {
     "iopub.execute_input": "2023-06-07T02:02:12.594386Z",
     "iopub.status.busy": "2023-06-07T02:02:12.593950Z",
     "iopub.status.idle": "2023-06-07T02:05:09.236254Z",
     "shell.execute_reply": "2023-06-07T02:05:09.234901Z",
     "shell.execute_reply.started": "2023-06-07T02:02:12.594354Z"
    }
   },
   "outputs": [],
   "source": [
    "from tensorflow.keras.preprocessing.image import ImageDataGenerator\n",
    "\n",
    "aug = ImageDataGenerator(\n",
    "    rotation_range=15,            # Increase the rotation range for more varied rotations\n",
    "    zoom_range=0.2,               # Increase the zoom range for more varied zoom levels\n",
    "    width_shift_range=0.15,       # Increase the range of horizontal shift\n",
    "    height_shift_range=0.15,      # Increase the range of vertical shift\n",
    "    shear_range=0.2,              # Increase the shear range for more shearing effects\n",
    "    horizontal_flip=True,         # Enable horizontal flipping\n",
    "    vertical_flip=True,           # Enable vertical flipping\n",
    "    fill_mode=\"reflect\"           # Use reflect mode for filling empty pixels\n",
    ")\n",
    "\n",
    "\n",
    "history = model.fit(aug.flow(x_train,y_train, batch_size=32), epochs=epochs, validation_data=(x_test,y_test))"
   ]
  },
  {
   "cell_type": "code",
   "execution_count": null,
   "metadata": {
    "execution": {
     "iopub.execute_input": "2023-06-07T02:05:13.828760Z",
     "iopub.status.busy": "2023-06-07T02:05:13.828342Z",
     "iopub.status.idle": "2023-06-07T02:05:13.856429Z",
     "shell.execute_reply": "2023-06-07T02:05:13.855213Z",
     "shell.execute_reply.started": "2023-06-07T02:05:13.828729Z"
    }
   },
   "outputs": [],
   "source": [
    "# Create the figure\n",
    "fig = go.Figure()\n",
    "\n",
    "# Add the training loss trace\n",
    "fig.add_trace(go.Scatter(\n",
    "    x=list(range(1, epochs+1)),\n",
    "    y=history.history['loss'],\n",
    "    mode='lines',\n",
    "    name='Training Loss'\n",
    "))\n",
    "\n",
    "# Add the validation loss trace\n",
    "fig.add_trace(go.Scatter(\n",
    "    x=list(range(1, epochs+1)),\n",
    "    y=history.history['val_loss'],\n",
    "    mode='lines',\n",
    "    name='Validation Loss'\n",
    "))\n",
    "\n",
    "# Update the layout\n",
    "fig.update_layout(\n",
    "    title='Model Loss',\n",
    "    xaxis_title='Epochs',\n",
    "    yaxis_title='Loss',\n",
    "    font=dict(color='white'),\n",
    "    paper_bgcolor='rgb(30,30,30)',  # Dark background color\n",
    "    plot_bgcolor='rgb(30,30,30)'  # Dark background color\n",
    ")\n",
    "\n",
    "# Show the plot\n",
    "fig.show()\n"
   ]
  },
  {
   "cell_type": "code",
   "execution_count": null,
   "metadata": {
    "execution": {
     "iopub.execute_input": "2023-06-07T02:05:18.844161Z",
     "iopub.status.busy": "2023-06-07T02:05:18.843718Z",
     "iopub.status.idle": "2023-06-07T02:05:18.867256Z",
     "shell.execute_reply": "2023-06-07T02:05:18.865980Z",
     "shell.execute_reply.started": "2023-06-07T02:05:18.844122Z"
    }
   },
   "outputs": [],
   "source": [
    "# Create the figure\n",
    "fig = go.Figure()\n",
    "\n",
    "# Add the training accuracy trace\n",
    "fig.add_trace(go.Scatter(\n",
    "    x=list(range(1, epochs+1)),\n",
    "    y=history.history['accuracy'],\n",
    "    mode='lines',\n",
    "    name='Training Accuracy'\n",
    "))\n",
    "\n",
    "# Add the validation accuracy trace\n",
    "fig.add_trace(go.Scatter(\n",
    "    x=list(range(1, epochs+1)),\n",
    "    y=history.history['val_accuracy'],\n",
    "    mode='lines',\n",
    "    name='Validation Accuracy'\n",
    "))\n",
    "\n",
    "# Update the layout\n",
    "fig.update_layout(\n",
    "    title='Model Accuracy',\n",
    "    xaxis_title='Epochs',\n",
    "    yaxis_title='Accuracy',\n",
    "    font=dict(color='white'),\n",
    "    paper_bgcolor='rgb(30,30,30)',  # Dark background color\n",
    "    plot_bgcolor='rgb(30,30,30)'  # Dark background color\n",
    ")\n",
    "\n",
    "# Show the plot\n",
    "fig.show()\n"
   ]
  },
  {
   "cell_type": "code",
   "execution_count": null,
   "metadata": {
    "execution": {
     "iopub.execute_input": "2023-06-07T02:05:26.406330Z",
     "iopub.status.busy": "2023-06-07T02:05:26.405022Z",
     "iopub.status.idle": "2023-06-07T02:05:31.910875Z",
     "shell.execute_reply": "2023-06-07T02:05:31.909552Z",
     "shell.execute_reply.started": "2023-06-07T02:05:26.406290Z"
    }
   },
   "outputs": [],
   "source": [
    "# Convert NumPy array to DataFrame\n",
    "shuffled_train_dataframe = pd.DataFrame(shuffled_train)\n",
    "# Save DataFrame as CSV file\n",
    "shuffled_train_dataframe.to_csv('data.csv', index=False)"
   ]
  },
  {
   "cell_type": "code",
   "execution_count": null,
   "metadata": {
    "execution": {
     "iopub.execute_input": "2023-06-07T02:05:34.118704Z",
     "iopub.status.busy": "2023-06-07T02:05:34.117687Z",
     "iopub.status.idle": "2023-06-07T02:05:34.202855Z",
     "shell.execute_reply": "2023-06-07T02:05:34.201569Z",
     "shell.execute_reply.started": "2023-06-07T02:05:34.118664Z"
    }
   },
   "outputs": [],
   "source": [
    "model.save(\"saved_model.h5\")"
   ]
  },
  {
   "cell_type": "code",
   "execution_count": null,
   "metadata": {
    "execution": {
     "iopub.execute_input": "2023-06-07T02:06:56.640808Z",
     "iopub.status.busy": "2023-06-07T02:06:56.640343Z",
     "iopub.status.idle": "2023-06-07T02:06:57.074521Z",
     "shell.execute_reply": "2023-06-07T02:06:57.073255Z",
     "shell.execute_reply.started": "2023-06-07T02:06:56.640774Z"
    }
   },
   "outputs": [],
   "source": [
    "def predict_image(model_path, image_path):\n",
    "    # Load the model\n",
    "    model = tf.keras.models.load_model(model_path)\n",
    "    \n",
    "    # Load and preprocess the image\n",
    "    image = cv2.imread(image_path)\n",
    "    image = cv2.resize(image, (30, 30))\n",
    "    image = np.expand_dims(image, axis=0)\n",
    "    image = image / 255.0\n",
    "    \n",
    "    # Make predictions\n",
    "    predictions = model.predict(image)\n",
    "    predicted_label = np.argmax(predictions)\n",
    "    \n",
    "    return predicted_label\n",
    "\n",
    "model_path = \"/kaggle/working/saved_model.h5\"\n",
    "image_path = \"/kaggle/input/gtsrb-german-traffic-sign/Test/00080.png\"\n",
    "\n",
    "predicted_label = predict_image(model_path, image_path)\n",
    "print(\"Predicted Label:\", classes[predicted_label])\n"
   ]
  },
  {
   "cell_type": "markdown",
   "metadata": {},
   "source": [
    "<div style=\"background-color:blue; padding:20px; font-size:32px; font-family: consolas; text-align:center; display:fill; border-radius:15px;  color:black;\"> <b> 4. Conclusion </b></div>\n",
    "\n",
    "## **Conclusion**\n",
    "The traffic sign recognition model notebook provides a comprehensive analysis and prediction model for recognizing traffic signs. By using deep learning techniques and the provided dataset, the notebook demonstrates how to preprocess the images, build a convolutional neural network (CNN) model, and evaluate its performance using accuracy as the metric. The notebook also showcases the effectiveness of data augmentation techniques in improving the model's performance.\n",
    "\n",
    "The CNN model architecture consists of several convolutional and pooling layers, followed by fully connected layers and a softmax activation function for multi-class classification. The model is trained using the Adam optimizer and categorical cross-entropy loss function.\n",
    "\n",
    "By training the model on the traffic sign dataset, the notebook demonstrates how to achieve high accuracy in recognizing and classifying different traffic signs. The model can be used in real-world applications to aid in automated traffic sign detection and recognition systems.\n",
    "\n",
    "Overall, this notebook serves as a valuable resource for understanding and implementing traffic sign recognition using deep learning techniques.\n",
    "\n",
    "## **Licenses and Social Media Accounts**\n",
    "\n",
    "### **Licenses:**\n",
    "\n",
    "The code and content in this notebook are released under the following licenses:\n",
    "\n",
    "- The code is licensed under the [MIT License](https://opensource.org/licenses/MIT).\n",
    "- The content, including text and images, is licensed under the Creative Commons Attribution 4.0 International License ([CC BY 4.0](https://creativecommons.org/licenses/by/4.0/)).\n",
    "\n",
    "### **Social Media Accounts:**\n",
    "\n",
    "**Connect with me on social media to stay updated with the latest news, articles, and projects:**\n",
    "\n",
    "- LinkedIn  : [@thisishusseinali](https://www.linkedin.com/in/thisishusseinali)\n",
    "- GitHub   : [@thisishusseinali](https://github.com/thisishusseinali)\n",
    "- Instagram : [@thisishusseinali](https://www.instagram.com/thisishusseinali)\n",
    "- Medium    : [@thisishusseinali](https://medium.com/@thisishusseinali)\n",
    "\n",
    "**Feel free to reach out to me on any of these platforms. I would love to hear your feedback and engage in discussions related to data science, machine learning, and more!**\n"
   ]
  }
 ],
 "metadata": {
  "kaggle": {
   "accelerator": "tpu1vmV38",
   "dataSources": [
    {
     "datasetId": 82373,
     "sourceId": 191501,
     "sourceType": "datasetVersion"
    }
   ],
   "dockerImageVersionId": 30475,
   "isGpuEnabled": false,
   "isInternetEnabled": true,
   "language": "python",
   "sourceType": "notebook"
  },
  "kernelspec": {
   "display_name": "Python 3 (ipykernel)",
   "language": "python",
   "name": "python3"
  },
  "language_info": {
   "codemirror_mode": {
    "name": "ipython",
    "version": 3
   },
   "file_extension": ".py",
   "mimetype": "text/x-python",
   "name": "python",
   "nbconvert_exporter": "python",
   "pygments_lexer": "ipython3",
   "version": "3.8.10"
  }
 },
 "nbformat": 4,
 "nbformat_minor": 4
}
