{
 "cells": [
  {
   "cell_type": "markdown",
   "id": "bd61b043",
   "metadata": {
    "papermill": {
     "duration": 0.013956,
     "end_time": "2023-11-15T06:18:19.058178",
     "exception": false,
     "start_time": "2023-11-15T06:18:19.044222",
     "status": "completed"
    },
    "tags": []
   },
   "source": [
    "<div style=\"background-color:#3b5998; border-radius:2px; border:#000000 solid; padding: 15px; font-size:100%; text-align:center\">\n",
    "    <h1 align=\"center\" style=\"color:#ffffff;\"><b>FOOTBALL TRANSFERS ANALYSIS (2000-2018) ⚽️📊</b></h1>\n",
    "</div>"
   ]
  },
  {
   "cell_type": "markdown",
   "id": "a8ee6014",
   "metadata": {
    "papermill": {
     "duration": 0.013536,
     "end_time": "2023-11-15T06:18:19.085814",
     "exception": false,
     "start_time": "2023-11-15T06:18:19.072278",
     "status": "completed"
    },
    "tags": []
   },
   "source": [
    "<div style=\"background-color:#ffffff; border-radius:2px; border:#000000 solid; padding: 15px; font-size:100%; text-align:center\">\n",
    "    <img src=\"https://media.tenor.com/FwssVWtbJ_sAAAAd/ronaldo-siu.gif\" alt=\"Animated GIF\">\n",
    "</div>"
   ]
  },
  {
   "cell_type": "markdown",
   "id": "4e44e7e7",
   "metadata": {
    "papermill": {
     "duration": 0.013614,
     "end_time": "2023-11-15T06:18:19.113482",
     "exception": false,
     "start_time": "2023-11-15T06:18:19.099868",
     "status": "completed"
    },
    "tags": []
   },
   "source": [
    "<div style=\"background-color:#dfe3ee; border-radius:2px; border:#000000 solid; padding: 15px; font-size:100%; text-align:center\">\n",
    "    <h2 align=\"center\" style=\"color:#000000;\"><b>IMPORT DEPENDENCIES</b></h2>\n",
    "</div>"
   ]
  },
  {
   "cell_type": "code",
   "execution_count": 1,
   "id": "51d3b03e",
   "metadata": {
    "execution": {
     "iopub.execute_input": "2023-11-15T06:18:19.142658Z",
     "iopub.status.busy": "2023-11-15T06:18:19.142242Z",
     "iopub.status.idle": "2023-11-15T06:18:21.628559Z",
     "shell.execute_reply": "2023-11-15T06:18:21.627330Z"
    },
    "papermill": {
     "duration": 2.505114,
     "end_time": "2023-11-15T06:18:21.632070",
     "exception": false,
     "start_time": "2023-11-15T06:18:19.126956",
     "status": "completed"
    },
    "tags": []
   },
   "outputs": [],
   "source": [
    "import numpy   as np                    \n",
    "import pandas  as pd                   \n",
    "import seaborn as sns          \n",
    "import matplotlib.pyplot as plt\n",
    "import base64\n",
    "import warnings\n",
    "from IPython.display import display, HTML\n",
    "warnings.filterwarnings(\"ignore\")"
   ]
  },
  {
   "cell_type": "code",
   "execution_count": 2,
   "id": "7638c4a7",
   "metadata": {
    "execution": {
     "iopub.execute_input": "2023-11-15T06:18:21.672477Z",
     "iopub.status.busy": "2023-11-15T06:18:21.670007Z",
     "iopub.status.idle": "2023-11-15T06:18:21.741027Z",
     "shell.execute_reply": "2023-11-15T06:18:21.739549Z"
    },
    "papermill": {
     "duration": 0.093158,
     "end_time": "2023-11-15T06:18:21.743842",
     "exception": false,
     "start_time": "2023-11-15T06:18:21.650684",
     "status": "completed"
    },
    "tags": []
   },
   "outputs": [
    {
     "data": {
      "text/html": [
       "<div>\n",
       "<style scoped>\n",
       "    .dataframe tbody tr th:only-of-type {\n",
       "        vertical-align: middle;\n",
       "    }\n",
       "\n",
       "    .dataframe tbody tr th {\n",
       "        vertical-align: top;\n",
       "    }\n",
       "\n",
       "    .dataframe thead th {\n",
       "        text-align: right;\n",
       "    }\n",
       "</style>\n",
       "<table border=\"1\" class=\"dataframe\">\n",
       "  <thead>\n",
       "    <tr style=\"text-align: right;\">\n",
       "      <th></th>\n",
       "      <th>Name</th>\n",
       "      <th>Position</th>\n",
       "      <th>Age</th>\n",
       "      <th>Team_from</th>\n",
       "      <th>League_from</th>\n",
       "      <th>Team_to</th>\n",
       "      <th>League_to</th>\n",
       "      <th>Season</th>\n",
       "      <th>Market_value</th>\n",
       "      <th>Transfer_fee</th>\n",
       "    </tr>\n",
       "  </thead>\n",
       "  <tbody>\n",
       "    <tr>\n",
       "      <th>0</th>\n",
       "      <td>Luís Figo</td>\n",
       "      <td>Right Winger</td>\n",
       "      <td>27</td>\n",
       "      <td>FC Barcelona</td>\n",
       "      <td>LaLiga</td>\n",
       "      <td>Real Madrid</td>\n",
       "      <td>LaLiga</td>\n",
       "      <td>2000-2001</td>\n",
       "      <td>NaN</td>\n",
       "      <td>60000000</td>\n",
       "    </tr>\n",
       "    <tr>\n",
       "      <th>1</th>\n",
       "      <td>Hernán Crespo</td>\n",
       "      <td>Centre-Forward</td>\n",
       "      <td>25</td>\n",
       "      <td>Parma</td>\n",
       "      <td>Serie A</td>\n",
       "      <td>Lazio</td>\n",
       "      <td>Serie A</td>\n",
       "      <td>2000-2001</td>\n",
       "      <td>NaN</td>\n",
       "      <td>56810000</td>\n",
       "    </tr>\n",
       "    <tr>\n",
       "      <th>2</th>\n",
       "      <td>Marc Overmars</td>\n",
       "      <td>Left Winger</td>\n",
       "      <td>27</td>\n",
       "      <td>Arsenal</td>\n",
       "      <td>Premier League</td>\n",
       "      <td>FC Barcelona</td>\n",
       "      <td>LaLiga</td>\n",
       "      <td>2000-2001</td>\n",
       "      <td>NaN</td>\n",
       "      <td>40000000</td>\n",
       "    </tr>\n",
       "    <tr>\n",
       "      <th>3</th>\n",
       "      <td>Gabriel Batistuta</td>\n",
       "      <td>Centre-Forward</td>\n",
       "      <td>31</td>\n",
       "      <td>Fiorentina</td>\n",
       "      <td>Serie A</td>\n",
       "      <td>AS Roma</td>\n",
       "      <td>Serie A</td>\n",
       "      <td>2000-2001</td>\n",
       "      <td>NaN</td>\n",
       "      <td>36150000</td>\n",
       "    </tr>\n",
       "    <tr>\n",
       "      <th>4</th>\n",
       "      <td>Nicolas Anelka</td>\n",
       "      <td>Centre-Forward</td>\n",
       "      <td>21</td>\n",
       "      <td>Real Madrid</td>\n",
       "      <td>LaLiga</td>\n",
       "      <td>Paris SG</td>\n",
       "      <td>Ligue 1</td>\n",
       "      <td>2000-2001</td>\n",
       "      <td>NaN</td>\n",
       "      <td>34500000</td>\n",
       "    </tr>\n",
       "  </tbody>\n",
       "</table>\n",
       "</div>"
      ],
      "text/plain": [
       "                Name        Position  Age     Team_from     League_from  \\\n",
       "0          Luís Figo    Right Winger   27  FC Barcelona          LaLiga   \n",
       "1      Hernán Crespo  Centre-Forward   25         Parma         Serie A   \n",
       "2      Marc Overmars     Left Winger   27       Arsenal  Premier League   \n",
       "3  Gabriel Batistuta  Centre-Forward   31    Fiorentina         Serie A   \n",
       "4     Nicolas Anelka  Centre-Forward   21   Real Madrid          LaLiga   \n",
       "\n",
       "        Team_to League_to     Season  Market_value  Transfer_fee  \n",
       "0   Real Madrid    LaLiga  2000-2001           NaN      60000000  \n",
       "1         Lazio   Serie A  2000-2001           NaN      56810000  \n",
       "2  FC Barcelona    LaLiga  2000-2001           NaN      40000000  \n",
       "3       AS Roma   Serie A  2000-2001           NaN      36150000  \n",
       "4      Paris SG   Ligue 1  2000-2001           NaN      34500000  "
      ]
     },
     "execution_count": 2,
     "metadata": {},
     "output_type": "execute_result"
    }
   ],
   "source": [
    "data = pd.read_csv(\"/kaggle/input/top-250-football-transfers-from-2000-to-2018/top250-00-19.csv\")\n",
    "data.head()"
   ]
  },
  {
   "cell_type": "markdown",
   "id": "228fdb3e",
   "metadata": {
    "papermill": {
     "duration": 0.013158,
     "end_time": "2023-11-15T06:18:21.771167",
     "exception": false,
     "start_time": "2023-11-15T06:18:21.758009",
     "status": "completed"
    },
    "tags": []
   },
   "source": [
    "<div style=\"background-color:#dfe3ee; border-radius:2px; border:#000000 solid; padding: 15px; font-size:100%; text-align:center\">\n",
    "    <h2 align=\"center\" style=\"color:#000000;\"><b>DATA PREPROCESSING</b></h2>\n",
    "</div>"
   ]
  },
  {
   "cell_type": "code",
   "execution_count": 3,
   "id": "7d346842",
   "metadata": {
    "execution": {
     "iopub.execute_input": "2023-11-15T06:18:21.799782Z",
     "iopub.status.busy": "2023-11-15T06:18:21.799292Z",
     "iopub.status.idle": "2023-11-15T06:18:21.831043Z",
     "shell.execute_reply": "2023-11-15T06:18:21.830119Z"
    },
    "papermill": {
     "duration": 0.049115,
     "end_time": "2023-11-15T06:18:21.833616",
     "exception": false,
     "start_time": "2023-11-15T06:18:21.784501",
     "status": "completed"
    },
    "tags": []
   },
   "outputs": [
    {
     "name": "stdout",
     "output_type": "stream",
     "text": [
      "<class 'pandas.core.frame.DataFrame'>\n",
      "RangeIndex: 4700 entries, 0 to 4699\n",
      "Data columns (total 10 columns):\n",
      " #   Column        Non-Null Count  Dtype  \n",
      "---  ------        --------------  -----  \n",
      " 0   Name          4700 non-null   object \n",
      " 1   Position      4700 non-null   object \n",
      " 2   Age           4700 non-null   int64  \n",
      " 3   Team_from     4700 non-null   object \n",
      " 4   League_from   4700 non-null   object \n",
      " 5   Team_to       4700 non-null   object \n",
      " 6   League_to     4700 non-null   object \n",
      " 7   Season        4700 non-null   object \n",
      " 8   Market_value  3440 non-null   float64\n",
      " 9   Transfer_fee  4700 non-null   int64  \n",
      "dtypes: float64(1), int64(2), object(7)\n",
      "memory usage: 367.3+ KB\n"
     ]
    }
   ],
   "source": [
    "data.info()"
   ]
  },
  {
   "cell_type": "code",
   "execution_count": 4,
   "id": "b9d7efcf",
   "metadata": {
    "execution": {
     "iopub.execute_input": "2023-11-15T06:18:21.870739Z",
     "iopub.status.busy": "2023-11-15T06:18:21.869800Z",
     "iopub.status.idle": "2023-11-15T06:18:21.896991Z",
     "shell.execute_reply": "2023-11-15T06:18:21.895706Z"
    },
    "papermill": {
     "duration": 0.045197,
     "end_time": "2023-11-15T06:18:21.899568",
     "exception": false,
     "start_time": "2023-11-15T06:18:21.854371",
     "status": "completed"
    },
    "tags": []
   },
   "outputs": [
    {
     "data": {
      "text/html": [
       "<div>\n",
       "<style scoped>\n",
       "    .dataframe tbody tr th:only-of-type {\n",
       "        vertical-align: middle;\n",
       "    }\n",
       "\n",
       "    .dataframe tbody tr th {\n",
       "        vertical-align: top;\n",
       "    }\n",
       "\n",
       "    .dataframe thead th {\n",
       "        text-align: right;\n",
       "    }\n",
       "</style>\n",
       "<table border=\"1\" class=\"dataframe\">\n",
       "  <thead>\n",
       "    <tr style=\"text-align: right;\">\n",
       "      <th></th>\n",
       "      <th>count</th>\n",
       "      <th>mean</th>\n",
       "      <th>std</th>\n",
       "      <th>min</th>\n",
       "      <th>25%</th>\n",
       "      <th>50%</th>\n",
       "      <th>75%</th>\n",
       "      <th>max</th>\n",
       "    </tr>\n",
       "  </thead>\n",
       "  <tbody>\n",
       "    <tr>\n",
       "      <th>Age</th>\n",
       "      <td>4700.0</td>\n",
       "      <td>2.433872e+01</td>\n",
       "      <td>3.230809e+00</td>\n",
       "      <td>0.0</td>\n",
       "      <td>22.0</td>\n",
       "      <td>24.0</td>\n",
       "      <td>27.0</td>\n",
       "      <td>35.0</td>\n",
       "    </tr>\n",
       "    <tr>\n",
       "      <th>Market_value</th>\n",
       "      <td>3440.0</td>\n",
       "      <td>8.622469e+06</td>\n",
       "      <td>8.795181e+06</td>\n",
       "      <td>50000.0</td>\n",
       "      <td>3500000.0</td>\n",
       "      <td>6000000.0</td>\n",
       "      <td>10000000.0</td>\n",
       "      <td>120000000.0</td>\n",
       "    </tr>\n",
       "    <tr>\n",
       "      <th>Transfer_fee</th>\n",
       "      <td>4700.0</td>\n",
       "      <td>9.447586e+06</td>\n",
       "      <td>1.043772e+07</td>\n",
       "      <td>825000.0</td>\n",
       "      <td>4000000.0</td>\n",
       "      <td>6500000.0</td>\n",
       "      <td>10820000.0</td>\n",
       "      <td>222000000.0</td>\n",
       "    </tr>\n",
       "  </tbody>\n",
       "</table>\n",
       "</div>"
      ],
      "text/plain": [
       "               count          mean           std       min        25%  \\\n",
       "Age           4700.0  2.433872e+01  3.230809e+00       0.0       22.0   \n",
       "Market_value  3440.0  8.622469e+06  8.795181e+06   50000.0  3500000.0   \n",
       "Transfer_fee  4700.0  9.447586e+06  1.043772e+07  825000.0  4000000.0   \n",
       "\n",
       "                    50%         75%          max  \n",
       "Age                24.0        27.0         35.0  \n",
       "Market_value  6000000.0  10000000.0  120000000.0  \n",
       "Transfer_fee  6500000.0  10820000.0  222000000.0  "
      ]
     },
     "execution_count": 4,
     "metadata": {},
     "output_type": "execute_result"
    }
   ],
   "source": [
    "data.describe().T"
   ]
  },
  {
   "cell_type": "code",
   "execution_count": 5,
   "id": "6a970fcd",
   "metadata": {
    "execution": {
     "iopub.execute_input": "2023-11-15T06:18:21.929627Z",
     "iopub.status.busy": "2023-11-15T06:18:21.929178Z",
     "iopub.status.idle": "2023-11-15T06:18:21.940299Z",
     "shell.execute_reply": "2023-11-15T06:18:21.939134Z"
    },
    "papermill": {
     "duration": 0.028548,
     "end_time": "2023-11-15T06:18:21.942447",
     "exception": false,
     "start_time": "2023-11-15T06:18:21.913899",
     "status": "completed"
    },
    "tags": []
   },
   "outputs": [
    {
     "data": {
      "text/plain": [
       "Name               0\n",
       "Position           0\n",
       "Age                0\n",
       "Team_from          0\n",
       "League_from        0\n",
       "Team_to            0\n",
       "League_to          0\n",
       "Season             0\n",
       "Market_value    1260\n",
       "Transfer_fee       0\n",
       "dtype: int64"
      ]
     },
     "execution_count": 5,
     "metadata": {},
     "output_type": "execute_result"
    }
   ],
   "source": [
    "data.isnull().sum()"
   ]
  },
  {
   "cell_type": "code",
   "execution_count": 6,
   "id": "0fe4a6bc",
   "metadata": {
    "execution": {
     "iopub.execute_input": "2023-11-15T06:18:21.972133Z",
     "iopub.status.busy": "2023-11-15T06:18:21.971713Z",
     "iopub.status.idle": "2023-11-15T06:18:21.986788Z",
     "shell.execute_reply": "2023-11-15T06:18:21.985675Z"
    },
    "papermill": {
     "duration": 0.032431,
     "end_time": "2023-11-15T06:18:21.988922",
     "exception": false,
     "start_time": "2023-11-15T06:18:21.956491",
     "status": "completed"
    },
    "tags": []
   },
   "outputs": [
    {
     "data": {
      "text/plain": [
       "0"
      ]
     },
     "execution_count": 6,
     "metadata": {},
     "output_type": "execute_result"
    }
   ],
   "source": [
    "data.duplicated().sum()"
   ]
  },
  {
   "cell_type": "code",
   "execution_count": 7,
   "id": "7ee3b3fd",
   "metadata": {
    "execution": {
     "iopub.execute_input": "2023-11-15T06:18:22.019974Z",
     "iopub.status.busy": "2023-11-15T06:18:22.019552Z",
     "iopub.status.idle": "2023-11-15T06:18:22.034708Z",
     "shell.execute_reply": "2023-11-15T06:18:22.033599Z"
    },
    "papermill": {
     "duration": 0.032813,
     "end_time": "2023-11-15T06:18:22.036805",
     "exception": false,
     "start_time": "2023-11-15T06:18:22.003992",
     "status": "completed"
    },
    "tags": []
   },
   "outputs": [
    {
     "data": {
      "text/html": [
       "<div>\n",
       "<style scoped>\n",
       "    .dataframe tbody tr th:only-of-type {\n",
       "        vertical-align: middle;\n",
       "    }\n",
       "\n",
       "    .dataframe tbody tr th {\n",
       "        vertical-align: top;\n",
       "    }\n",
       "\n",
       "    .dataframe thead th {\n",
       "        text-align: right;\n",
       "    }\n",
       "</style>\n",
       "<table border=\"1\" class=\"dataframe\">\n",
       "  <thead>\n",
       "    <tr style=\"text-align: right;\">\n",
       "      <th></th>\n",
       "      <th>Age</th>\n",
       "      <th>Market_value</th>\n",
       "      <th>Transfer_fee</th>\n",
       "    </tr>\n",
       "  </thead>\n",
       "  <tbody>\n",
       "    <tr>\n",
       "      <th>Age</th>\n",
       "      <td>1.000000</td>\n",
       "      <td>0.142739</td>\n",
       "      <td>-0.001803</td>\n",
       "    </tr>\n",
       "    <tr>\n",
       "      <th>Market_value</th>\n",
       "      <td>0.142739</td>\n",
       "      <td>1.000000</td>\n",
       "      <td>0.830573</td>\n",
       "    </tr>\n",
       "    <tr>\n",
       "      <th>Transfer_fee</th>\n",
       "      <td>-0.001803</td>\n",
       "      <td>0.830573</td>\n",
       "      <td>1.000000</td>\n",
       "    </tr>\n",
       "  </tbody>\n",
       "</table>\n",
       "</div>"
      ],
      "text/plain": [
       "                   Age  Market_value  Transfer_fee\n",
       "Age           1.000000      0.142739     -0.001803\n",
       "Market_value  0.142739      1.000000      0.830573\n",
       "Transfer_fee -0.001803      0.830573      1.000000"
      ]
     },
     "execution_count": 7,
     "metadata": {},
     "output_type": "execute_result"
    }
   ],
   "source": [
    "data.corr(numeric_only=True)"
   ]
  },
  {
   "cell_type": "code",
   "execution_count": 8,
   "id": "ca5202e2",
   "metadata": {
    "execution": {
     "iopub.execute_input": "2023-11-15T06:18:22.148723Z",
     "iopub.status.busy": "2023-11-15T06:18:22.147538Z",
     "iopub.status.idle": "2023-11-15T06:18:22.160290Z",
     "shell.execute_reply": "2023-11-15T06:18:22.159198Z"
    },
    "papermill": {
     "duration": 0.111511,
     "end_time": "2023-11-15T06:18:22.162806",
     "exception": false,
     "start_time": "2023-11-15T06:18:22.051295",
     "status": "completed"
    },
    "tags": []
   },
   "outputs": [],
   "source": [
    "Defender   = ['Centre-Back','Right-Back','Left-Back','Defender']\n",
    "Forward    = ['Right Winger','Centre-Forward','Left Winger','Forward','Sweeper','Second Striker']\n",
    "Midfielder = ['Central Midfield', 'Attacking Midfield', 'Defensive Midfield', 'Left Midfield','Right Midfield', 'Midfielder']\n",
    "conditions = [\n",
    "    data['Position'].isin(Defender),\n",
    "    data['Position'].isin(Forward),\n",
    "    data['Position'].isin(Midfielder),\n",
    "    data['Position']=='Goalkeeper'\n",
    "]\n",
    "values = ['Defender', 'Forward','Midfielder','Goalkeeper']\n",
    "data['Position'] = np.select(conditions, values)"
   ]
  },
  {
   "cell_type": "code",
   "execution_count": 9,
   "id": "b4748041",
   "metadata": {
    "execution": {
     "iopub.execute_input": "2023-11-15T06:18:22.194171Z",
     "iopub.status.busy": "2023-11-15T06:18:22.193459Z",
     "iopub.status.idle": "2023-11-15T06:18:22.207171Z",
     "shell.execute_reply": "2023-11-15T06:18:22.206275Z"
    },
    "papermill": {
     "duration": 0.031897,
     "end_time": "2023-11-15T06:18:22.209505",
     "exception": false,
     "start_time": "2023-11-15T06:18:22.177608",
     "status": "completed"
    },
    "tags": []
   },
   "outputs": [
    {
     "data": {
      "text/html": [
       "<div>\n",
       "<style scoped>\n",
       "    .dataframe tbody tr th:only-of-type {\n",
       "        vertical-align: middle;\n",
       "    }\n",
       "\n",
       "    .dataframe tbody tr th {\n",
       "        vertical-align: top;\n",
       "    }\n",
       "\n",
       "    .dataframe thead th {\n",
       "        text-align: right;\n",
       "    }\n",
       "</style>\n",
       "<table border=\"1\" class=\"dataframe\">\n",
       "  <thead>\n",
       "    <tr style=\"text-align: right;\">\n",
       "      <th></th>\n",
       "      <th>Name</th>\n",
       "      <th>Position</th>\n",
       "      <th>Age</th>\n",
       "      <th>Team_from</th>\n",
       "      <th>League_from</th>\n",
       "      <th>Team_to</th>\n",
       "      <th>League_to</th>\n",
       "      <th>Season</th>\n",
       "      <th>Market_value</th>\n",
       "      <th>Transfer_fee</th>\n",
       "    </tr>\n",
       "  </thead>\n",
       "  <tbody>\n",
       "    <tr>\n",
       "      <th>0</th>\n",
       "      <td>Luís Figo</td>\n",
       "      <td>Forward</td>\n",
       "      <td>27</td>\n",
       "      <td>FC Barcelona</td>\n",
       "      <td>LaLiga</td>\n",
       "      <td>Real Madrid</td>\n",
       "      <td>LaLiga</td>\n",
       "      <td>2000-2001</td>\n",
       "      <td>NaN</td>\n",
       "      <td>60000000</td>\n",
       "    </tr>\n",
       "    <tr>\n",
       "      <th>1</th>\n",
       "      <td>Hernán Crespo</td>\n",
       "      <td>Forward</td>\n",
       "      <td>25</td>\n",
       "      <td>Parma</td>\n",
       "      <td>Serie A</td>\n",
       "      <td>Lazio</td>\n",
       "      <td>Serie A</td>\n",
       "      <td>2000-2001</td>\n",
       "      <td>NaN</td>\n",
       "      <td>56810000</td>\n",
       "    </tr>\n",
       "    <tr>\n",
       "      <th>2</th>\n",
       "      <td>Marc Overmars</td>\n",
       "      <td>Forward</td>\n",
       "      <td>27</td>\n",
       "      <td>Arsenal</td>\n",
       "      <td>Premier League</td>\n",
       "      <td>FC Barcelona</td>\n",
       "      <td>LaLiga</td>\n",
       "      <td>2000-2001</td>\n",
       "      <td>NaN</td>\n",
       "      <td>40000000</td>\n",
       "    </tr>\n",
       "    <tr>\n",
       "      <th>3</th>\n",
       "      <td>Gabriel Batistuta</td>\n",
       "      <td>Forward</td>\n",
       "      <td>31</td>\n",
       "      <td>Fiorentina</td>\n",
       "      <td>Serie A</td>\n",
       "      <td>AS Roma</td>\n",
       "      <td>Serie A</td>\n",
       "      <td>2000-2001</td>\n",
       "      <td>NaN</td>\n",
       "      <td>36150000</td>\n",
       "    </tr>\n",
       "    <tr>\n",
       "      <th>4</th>\n",
       "      <td>Nicolas Anelka</td>\n",
       "      <td>Forward</td>\n",
       "      <td>21</td>\n",
       "      <td>Real Madrid</td>\n",
       "      <td>LaLiga</td>\n",
       "      <td>Paris SG</td>\n",
       "      <td>Ligue 1</td>\n",
       "      <td>2000-2001</td>\n",
       "      <td>NaN</td>\n",
       "      <td>34500000</td>\n",
       "    </tr>\n",
       "  </tbody>\n",
       "</table>\n",
       "</div>"
      ],
      "text/plain": [
       "                Name Position  Age     Team_from     League_from  \\\n",
       "0          Luís Figo  Forward   27  FC Barcelona          LaLiga   \n",
       "1      Hernán Crespo  Forward   25         Parma         Serie A   \n",
       "2      Marc Overmars  Forward   27       Arsenal  Premier League   \n",
       "3  Gabriel Batistuta  Forward   31    Fiorentina         Serie A   \n",
       "4     Nicolas Anelka  Forward   21   Real Madrid          LaLiga   \n",
       "\n",
       "        Team_to League_to     Season  Market_value  Transfer_fee  \n",
       "0   Real Madrid    LaLiga  2000-2001           NaN      60000000  \n",
       "1         Lazio   Serie A  2000-2001           NaN      56810000  \n",
       "2  FC Barcelona    LaLiga  2000-2001           NaN      40000000  \n",
       "3       AS Roma   Serie A  2000-2001           NaN      36150000  \n",
       "4      Paris SG   Ligue 1  2000-2001           NaN      34500000  "
      ]
     },
     "execution_count": 9,
     "metadata": {},
     "output_type": "execute_result"
    }
   ],
   "source": [
    "data.head()"
   ]
  },
  {
   "cell_type": "code",
   "execution_count": 10,
   "id": "642b5000",
   "metadata": {
    "execution": {
     "iopub.execute_input": "2023-11-15T06:18:22.242022Z",
     "iopub.status.busy": "2023-11-15T06:18:22.241260Z",
     "iopub.status.idle": "2023-11-15T06:18:22.252294Z",
     "shell.execute_reply": "2023-11-15T06:18:22.250971Z"
    },
    "papermill": {
     "duration": 0.030444,
     "end_time": "2023-11-15T06:18:22.255102",
     "exception": false,
     "start_time": "2023-11-15T06:18:22.224658",
     "status": "completed"
    },
    "tags": []
   },
   "outputs": [
    {
     "data": {
      "text/plain": [
       "League_to\n",
       "Premier League    1256\n",
       "Serie A            739\n",
       "LaLiga             525\n",
       "1.Bundesliga       422\n",
       "Ligue 1            397\n",
       "                  ... \n",
       " Libya               1\n",
       " Romania             1\n",
       " Sweden              1\n",
       " Denmark             1\n",
       "Eliteserien          1\n",
       "Name: count, Length: 65, dtype: int64"
      ]
     },
     "execution_count": 10,
     "metadata": {},
     "output_type": "execute_result"
    }
   ],
   "source": [
    "data['League_to'].value_counts()"
   ]
  },
  {
   "cell_type": "code",
   "execution_count": 11,
   "id": "8f752b16",
   "metadata": {
    "execution": {
     "iopub.execute_input": "2023-11-15T06:18:22.288556Z",
     "iopub.status.busy": "2023-11-15T06:18:22.288121Z",
     "iopub.status.idle": "2023-11-15T06:18:22.305858Z",
     "shell.execute_reply": "2023-11-15T06:18:22.304719Z"
    },
    "papermill": {
     "duration": 0.037511,
     "end_time": "2023-11-15T06:18:22.308337",
     "exception": false,
     "start_time": "2023-11-15T06:18:22.270826",
     "status": "completed"
    },
    "tags": []
   },
   "outputs": [
    {
     "data": {
      "text/html": [
       "<div>\n",
       "<style scoped>\n",
       "    .dataframe tbody tr th:only-of-type {\n",
       "        vertical-align: middle;\n",
       "    }\n",
       "\n",
       "    .dataframe tbody tr th {\n",
       "        vertical-align: top;\n",
       "    }\n",
       "\n",
       "    .dataframe thead th {\n",
       "        text-align: right;\n",
       "    }\n",
       "</style>\n",
       "<table border=\"1\" class=\"dataframe\">\n",
       "  <thead>\n",
       "    <tr style=\"text-align: right;\">\n",
       "      <th></th>\n",
       "      <th>Name</th>\n",
       "      <th>Position</th>\n",
       "      <th>Age</th>\n",
       "      <th>Team_from</th>\n",
       "      <th>League_from</th>\n",
       "      <th>Team_to</th>\n",
       "      <th>League_to</th>\n",
       "      <th>Season</th>\n",
       "      <th>Market_value</th>\n",
       "      <th>Transfer_fee</th>\n",
       "    </tr>\n",
       "  </thead>\n",
       "  <tbody>\n",
       "    <tr>\n",
       "      <th>0</th>\n",
       "      <td>Luís Figo</td>\n",
       "      <td>Forward</td>\n",
       "      <td>27</td>\n",
       "      <td>FC Barcelona</td>\n",
       "      <td>LaLiga</td>\n",
       "      <td>Real Madrid</td>\n",
       "      <td>LaLiga</td>\n",
       "      <td>2000-2001</td>\n",
       "      <td>NaN</td>\n",
       "      <td>60000000</td>\n",
       "    </tr>\n",
       "    <tr>\n",
       "      <th>1</th>\n",
       "      <td>Hernán Crespo</td>\n",
       "      <td>Forward</td>\n",
       "      <td>25</td>\n",
       "      <td>Parma</td>\n",
       "      <td>Serie A</td>\n",
       "      <td>Lazio</td>\n",
       "      <td>Serie A</td>\n",
       "      <td>2000-2001</td>\n",
       "      <td>NaN</td>\n",
       "      <td>56810000</td>\n",
       "    </tr>\n",
       "    <tr>\n",
       "      <th>2</th>\n",
       "      <td>Marc Overmars</td>\n",
       "      <td>Forward</td>\n",
       "      <td>27</td>\n",
       "      <td>Arsenal</td>\n",
       "      <td>Premier League</td>\n",
       "      <td>FC Barcelona</td>\n",
       "      <td>LaLiga</td>\n",
       "      <td>2000-2001</td>\n",
       "      <td>NaN</td>\n",
       "      <td>40000000</td>\n",
       "    </tr>\n",
       "    <tr>\n",
       "      <th>3</th>\n",
       "      <td>Gabriel Batistuta</td>\n",
       "      <td>Forward</td>\n",
       "      <td>31</td>\n",
       "      <td>Fiorentina</td>\n",
       "      <td>Serie A</td>\n",
       "      <td>AS Roma</td>\n",
       "      <td>Serie A</td>\n",
       "      <td>2000-2001</td>\n",
       "      <td>NaN</td>\n",
       "      <td>36150000</td>\n",
       "    </tr>\n",
       "    <tr>\n",
       "      <th>4</th>\n",
       "      <td>Nicolas Anelka</td>\n",
       "      <td>Forward</td>\n",
       "      <td>21</td>\n",
       "      <td>Real Madrid</td>\n",
       "      <td>LaLiga</td>\n",
       "      <td>Paris SG</td>\n",
       "      <td>Ligue 1</td>\n",
       "      <td>2000-2001</td>\n",
       "      <td>NaN</td>\n",
       "      <td>34500000</td>\n",
       "    </tr>\n",
       "  </tbody>\n",
       "</table>\n",
       "</div>"
      ],
      "text/plain": [
       "                Name Position  Age     Team_from     League_from  \\\n",
       "0          Luís Figo  Forward   27  FC Barcelona          LaLiga   \n",
       "1      Hernán Crespo  Forward   25         Parma         Serie A   \n",
       "2      Marc Overmars  Forward   27       Arsenal  Premier League   \n",
       "3  Gabriel Batistuta  Forward   31    Fiorentina         Serie A   \n",
       "4     Nicolas Anelka  Forward   21   Real Madrid          LaLiga   \n",
       "\n",
       "        Team_to League_to     Season  Market_value  Transfer_fee  \n",
       "0   Real Madrid    LaLiga  2000-2001           NaN      60000000  \n",
       "1         Lazio   Serie A  2000-2001           NaN      56810000  \n",
       "2  FC Barcelona    LaLiga  2000-2001           NaN      40000000  \n",
       "3       AS Roma   Serie A  2000-2001           NaN      36150000  \n",
       "4      Paris SG   Ligue 1  2000-2001           NaN      34500000  "
      ]
     },
     "execution_count": 11,
     "metadata": {},
     "output_type": "execute_result"
    }
   ],
   "source": [
    "top_leagues = data.loc[(data['League_to'].isin(['Premier League', 'Serie A', 'LaLiga', 'Ligue 1', '1.Bundesliga']))]\n",
    "top_leagues.head()"
   ]
  },
  {
   "cell_type": "markdown",
   "id": "529f38d8",
   "metadata": {
    "papermill": {
     "duration": 0.015065,
     "end_time": "2023-11-15T06:18:22.338832",
     "exception": false,
     "start_time": "2023-11-15T06:18:22.323767",
     "status": "completed"
    },
    "tags": []
   },
   "source": [
    "<div style=\"background-color:#dfe3ee; border-radius:2px; border:#000000 solid; padding: 15px; font-size:100%; text-align:center\">\n",
    "    <h2 align=\"center\" style=\"color:#000000;\"><b>DATA ANALYSIS</b></h2>\n",
    "</div>"
   ]
  },
  {
   "cell_type": "code",
   "execution_count": 12,
   "id": "e3c62672",
   "metadata": {
    "execution": {
     "iopub.execute_input": "2023-11-15T06:18:22.371647Z",
     "iopub.status.busy": "2023-11-15T06:18:22.371244Z",
     "iopub.status.idle": "2023-11-15T06:18:22.385557Z",
     "shell.execute_reply": "2023-11-15T06:18:22.384467Z"
    },
    "papermill": {
     "duration": 0.033282,
     "end_time": "2023-11-15T06:18:22.387628",
     "exception": false,
     "start_time": "2023-11-15T06:18:22.354346",
     "status": "completed"
    },
    "tags": []
   },
   "outputs": [
    {
     "data": {
      "text/html": [
       "<div>\n",
       "<style scoped>\n",
       "    .dataframe tbody tr th:only-of-type {\n",
       "        vertical-align: middle;\n",
       "    }\n",
       "\n",
       "    .dataframe tbody tr th {\n",
       "        vertical-align: top;\n",
       "    }\n",
       "\n",
       "    .dataframe thead th {\n",
       "        text-align: right;\n",
       "    }\n",
       "</style>\n",
       "<table border=\"1\" class=\"dataframe\">\n",
       "  <thead>\n",
       "    <tr style=\"text-align: right;\">\n",
       "      <th></th>\n",
       "      <th>Name</th>\n",
       "      <th>Position</th>\n",
       "      <th>Age</th>\n",
       "      <th>Team_from</th>\n",
       "      <th>League_from</th>\n",
       "      <th>Team_to</th>\n",
       "      <th>League_to</th>\n",
       "      <th>Season</th>\n",
       "      <th>Market_value</th>\n",
       "      <th>Transfer_fee</th>\n",
       "    </tr>\n",
       "  </thead>\n",
       "  <tbody>\n",
       "    <tr>\n",
       "      <th>0</th>\n",
       "      <td>Luís Figo</td>\n",
       "      <td>Forward</td>\n",
       "      <td>27</td>\n",
       "      <td>FC Barcelona</td>\n",
       "      <td>LaLiga</td>\n",
       "      <td>Real Madrid</td>\n",
       "      <td>LaLiga</td>\n",
       "      <td>2000-2001</td>\n",
       "      <td>NaN</td>\n",
       "      <td>60000000</td>\n",
       "    </tr>\n",
       "    <tr>\n",
       "      <th>1</th>\n",
       "      <td>Hernán Crespo</td>\n",
       "      <td>Forward</td>\n",
       "      <td>25</td>\n",
       "      <td>Parma</td>\n",
       "      <td>Serie A</td>\n",
       "      <td>Lazio</td>\n",
       "      <td>Serie A</td>\n",
       "      <td>2000-2001</td>\n",
       "      <td>NaN</td>\n",
       "      <td>56810000</td>\n",
       "    </tr>\n",
       "    <tr>\n",
       "      <th>2</th>\n",
       "      <td>Marc Overmars</td>\n",
       "      <td>Forward</td>\n",
       "      <td>27</td>\n",
       "      <td>Arsenal</td>\n",
       "      <td>Premier League</td>\n",
       "      <td>FC Barcelona</td>\n",
       "      <td>LaLiga</td>\n",
       "      <td>2000-2001</td>\n",
       "      <td>NaN</td>\n",
       "      <td>40000000</td>\n",
       "    </tr>\n",
       "    <tr>\n",
       "      <th>3</th>\n",
       "      <td>Gabriel Batistuta</td>\n",
       "      <td>Forward</td>\n",
       "      <td>31</td>\n",
       "      <td>Fiorentina</td>\n",
       "      <td>Serie A</td>\n",
       "      <td>AS Roma</td>\n",
       "      <td>Serie A</td>\n",
       "      <td>2000-2001</td>\n",
       "      <td>NaN</td>\n",
       "      <td>36150000</td>\n",
       "    </tr>\n",
       "    <tr>\n",
       "      <th>4</th>\n",
       "      <td>Nicolas Anelka</td>\n",
       "      <td>Forward</td>\n",
       "      <td>21</td>\n",
       "      <td>Real Madrid</td>\n",
       "      <td>LaLiga</td>\n",
       "      <td>Paris SG</td>\n",
       "      <td>Ligue 1</td>\n",
       "      <td>2000-2001</td>\n",
       "      <td>NaN</td>\n",
       "      <td>34500000</td>\n",
       "    </tr>\n",
       "  </tbody>\n",
       "</table>\n",
       "</div>"
      ],
      "text/plain": [
       "                Name Position  Age     Team_from     League_from  \\\n",
       "0          Luís Figo  Forward   27  FC Barcelona          LaLiga   \n",
       "1      Hernán Crespo  Forward   25         Parma         Serie A   \n",
       "2      Marc Overmars  Forward   27       Arsenal  Premier League   \n",
       "3  Gabriel Batistuta  Forward   31    Fiorentina         Serie A   \n",
       "4     Nicolas Anelka  Forward   21   Real Madrid          LaLiga   \n",
       "\n",
       "        Team_to League_to     Season  Market_value  Transfer_fee  \n",
       "0   Real Madrid    LaLiga  2000-2001           NaN      60000000  \n",
       "1         Lazio   Serie A  2000-2001           NaN      56810000  \n",
       "2  FC Barcelona    LaLiga  2000-2001           NaN      40000000  \n",
       "3       AS Roma   Serie A  2000-2001           NaN      36150000  \n",
       "4      Paris SG   Ligue 1  2000-2001           NaN      34500000  "
      ]
     },
     "execution_count": 12,
     "metadata": {},
     "output_type": "execute_result"
    }
   ],
   "source": [
    "top_leagues.head()"
   ]
  },
  {
   "cell_type": "code",
   "execution_count": 13,
   "id": "85e6a9c9",
   "metadata": {
    "execution": {
     "iopub.execute_input": "2023-11-15T06:18:22.422373Z",
     "iopub.status.busy": "2023-11-15T06:18:22.421489Z",
     "iopub.status.idle": "2023-11-15T06:18:22.430384Z",
     "shell.execute_reply": "2023-11-15T06:18:22.429301Z"
    },
    "papermill": {
     "duration": 0.02996,
     "end_time": "2023-11-15T06:18:22.433502",
     "exception": false,
     "start_time": "2023-11-15T06:18:22.403542",
     "status": "completed"
    },
    "tags": []
   },
   "outputs": [
    {
     "data": {
      "text/plain": [
       "Position\n",
       "Forward       1292\n",
       "Midfielder    1030\n",
       "Defender       868\n",
       "Goalkeeper     149\n",
       "Name: count, dtype: int64"
      ]
     },
     "execution_count": 13,
     "metadata": {},
     "output_type": "execute_result"
    }
   ],
   "source": [
    "top_leagues['Position'].value_counts().sort_values(ascending=False)"
   ]
  },
  {
   "cell_type": "code",
   "execution_count": 14,
   "id": "b4ff208b",
   "metadata": {
    "execution": {
     "iopub.execute_input": "2023-11-15T06:18:22.469135Z",
     "iopub.status.busy": "2023-11-15T06:18:22.468430Z",
     "iopub.status.idle": "2023-11-15T06:18:22.832300Z",
     "shell.execute_reply": "2023-11-15T06:18:22.831089Z"
    },
    "papermill": {
     "duration": 0.383749,
     "end_time": "2023-11-15T06:18:22.834730",
     "exception": false,
     "start_time": "2023-11-15T06:18:22.450981",
     "status": "completed"
    },
    "tags": []
   },
   "outputs": [
    {
     "data": {
      "text/html": [
       "\n",
       "<div style=\"background-color:white; border-radius:2px; border:#000000 solid; padding: 15px; font-size:100%; text-align:center;\">\n",
       "<img src=\"data:image/png;base64,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\" style=\"display: block; margin: 0 auto;\">\n",
       "</div>\n"
      ],
      "text/plain": [
       "<IPython.core.display.HTML object>"
      ]
     },
     "metadata": {},
     "output_type": "display_data"
    }
   ],
   "source": [
    "colors = sns.color_palette('pastel')[0:10]\n",
    "top_leagues['Position'].value_counts().plot(kind='pie',figsize=(20,10),autopct='%1.1f%%',shadow=True, colors=colors)\n",
    "plt.ylabel('')\n",
    "plt.title('THE REQUESTED POSITIONS IN TOP 5 LEAGUES (%)', ha='center', fontsize=15)\n",
    "sns.set_style('white')\n",
    "plt.savefig('output_pie.png', bbox_inches='tight', transparent=True)\n",
    "plt.close()\n",
    "\n",
    "with open(\"output_pie.png\", \"rb\") as img_file:\n",
    "    img_data = img_file.read()\n",
    "img_base64 = base64.b64encode(img_data).decode(\"utf-8\")\n",
    "html_code = f'''\n",
    "<div style=\"background-color:white; border-radius:2px; border:#000000 solid; padding: 15px; font-size:100%; text-align:center;\">\n",
    "<img src=\"data:image/png;base64,{img_base64}\" style=\"display: block; margin: 0 auto;\">\n",
    "</div>\n",
    "'''\n",
    "display(HTML(html_code))"
   ]
  },
  {
   "cell_type": "code",
   "execution_count": 15,
   "id": "331fcac1",
   "metadata": {
    "execution": {
     "iopub.execute_input": "2023-11-15T06:18:22.870841Z",
     "iopub.status.busy": "2023-11-15T06:18:22.870431Z",
     "iopub.status.idle": "2023-11-15T06:18:23.171589Z",
     "shell.execute_reply": "2023-11-15T06:18:23.170460Z"
    },
    "papermill": {
     "duration": 0.322207,
     "end_time": "2023-11-15T06:18:23.174104",
     "exception": false,
     "start_time": "2023-11-15T06:18:22.851897",
     "status": "completed"
    },
    "tags": []
   },
   "outputs": [
    {
     "data": {
      "text/html": [
       "\n",
       "<div style=\"background-color:white; border-radius:2px; border:#000000 solid; padding: 15px; font-size:100%; text-align:center;\">\n",
       "<img src=\"data:image/png;base64,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\" style=\"display: block; margin: 0 auto;\">\n",
       "</div>\n"
      ],
      "text/plain": [
       "<IPython.core.display.HTML object>"
      ]
     },
     "metadata": {},
     "output_type": "display_data"
    }
   ],
   "source": [
    "sns.countplot(\n",
    "    x='Position',\n",
    "    data=top_leagues,\n",
    "    hue='League_to',\n",
    "    order=top_leagues['Position'].value_counts().sort_values(ascending=False).index,\n",
    "    color='blue',\n",
    "    alpha=0.5,\n",
    "    edgecolor='black',\n",
    "    linewidth=1.2,\n",
    "    saturation=0.5\n",
    ")\n",
    "plt.xticks(rotation=0, fontsize='10')\n",
    "plt.title('THE REQUESTED POSITIONS BY LEAGUE IN TOP 5 LEAGUES', ha='center', fontsize=10)\n",
    "plt.savefig('output_bar.png')\n",
    "plt.close()\n",
    "with open(\"output_bar.png\", \"rb\") as img_file:\n",
    "    img_data = img_file.read()\n",
    "img_base64 = base64.b64encode(img_data).decode(\"utf-8\")\n",
    "html_code = f'''\n",
    "<div style=\"background-color:white; border-radius:2px; border:#000000 solid; padding: 15px; font-size:100%; text-align:center;\">\n",
    "<img src=\"data:image/png;base64,{img_base64}\" style=\"display: block; margin: 0 auto;\">\n",
    "</div>\n",
    "'''\n",
    "display(HTML(html_code))"
   ]
  },
  {
   "cell_type": "code",
   "execution_count": 16,
   "id": "2a7b4339",
   "metadata": {
    "execution": {
     "iopub.execute_input": "2023-11-15T06:18:23.211783Z",
     "iopub.status.busy": "2023-11-15T06:18:23.211355Z",
     "iopub.status.idle": "2023-11-15T06:18:23.221929Z",
     "shell.execute_reply": "2023-11-15T06:18:23.220931Z"
    },
    "papermill": {
     "duration": 0.032562,
     "end_time": "2023-11-15T06:18:23.224341",
     "exception": false,
     "start_time": "2023-11-15T06:18:23.191779",
     "status": "completed"
    },
    "tags": []
   },
   "outputs": [
    {
     "data": {
      "text/plain": [
       "Season\n",
       "2000-2001    176\n",
       "2001-2002    194\n",
       "2002-2003    157\n",
       "2003-2004    142\n",
       "2004-2005    162\n",
       "2005-2006    168\n",
       "2006-2007    187\n",
       "2007-2008    203\n",
       "2008-2009    190\n",
       "2009-2010    175\n",
       "2010-2011    151\n",
       "2011-2012    171\n",
       "2012-2013    167\n",
       "2013-2014    159\n",
       "2014-2015    167\n",
       "2015-2016    187\n",
       "2016-2017    182\n",
       "2017-2018    209\n",
       "2018-2019    192\n",
       "Name: Season, dtype: int64"
      ]
     },
     "execution_count": 16,
     "metadata": {},
     "output_type": "execute_result"
    }
   ],
   "source": [
    "top_leagues.groupby(['Season'])['Season'].count()"
   ]
  },
  {
   "cell_type": "code",
   "execution_count": 17,
   "id": "94646d4b",
   "metadata": {
    "execution": {
     "iopub.execute_input": "2023-11-15T06:18:23.262639Z",
     "iopub.status.busy": "2023-11-15T06:18:23.262219Z",
     "iopub.status.idle": "2023-11-15T06:18:23.618000Z",
     "shell.execute_reply": "2023-11-15T06:18:23.616683Z"
    },
    "papermill": {
     "duration": 0.37806,
     "end_time": "2023-11-15T06:18:23.620695",
     "exception": false,
     "start_time": "2023-11-15T06:18:23.242635",
     "status": "completed"
    },
    "tags": []
   },
   "outputs": [
    {
     "data": {
      "text/html": [
       "\n",
       "<div style=\"background-color:white; border-radius:2px; border:#000000 solid; padding: 15px; font-size:100%; text-align:center;\">\n",
       "<img src=\"data:image/png;base64,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\" style=\"display: block; margin: 0 auto;\">\n",
       "</div>\n"
      ],
      "text/plain": [
       "<IPython.core.display.HTML object>"
      ]
     },
     "metadata": {},
     "output_type": "display_data"
    }
   ],
   "source": [
    "sns.countplot(\n",
    "    x='Season',\n",
    "    data=top_leagues,\n",
    "    color='blue',\n",
    "    alpha=0.5,\n",
    "    edgecolor='black',\n",
    "    linewidth=1.2,\n",
    "    saturation=0.5\n",
    ")\n",
    "plt.xticks(rotation=90, fontsize='10')\n",
    "plt.title('TRANSFERS FOR EVERY SEASON IN TOP LEAGUES (2000-2018)', ha='center', fontsize=10)\n",
    "plt.savefig('output_bar.png')\n",
    "plt.close()\n",
    "with open(\"output_bar.png\", \"rb\") as img_file:\n",
    "    img_data = img_file.read()\n",
    "img_base64 = base64.b64encode(img_data).decode(\"utf-8\")\n",
    "html_code = f'''\n",
    "<div style=\"background-color:white; border-radius:2px; border:#000000 solid; padding: 15px; font-size:100%; text-align:center;\">\n",
    "<img src=\"data:image/png;base64,{img_base64}\" style=\"display: block; margin: 0 auto;\">\n",
    "</div>\n",
    "'''\n",
    "display(HTML(html_code))"
   ]
  },
  {
   "cell_type": "code",
   "execution_count": 18,
   "id": "bc18d64c",
   "metadata": {
    "execution": {
     "iopub.execute_input": "2023-11-15T06:18:23.660613Z",
     "iopub.status.busy": "2023-11-15T06:18:23.659381Z",
     "iopub.status.idle": "2023-11-15T06:18:23.673097Z",
     "shell.execute_reply": "2023-11-15T06:18:23.672208Z"
    },
    "papermill": {
     "duration": 0.035579,
     "end_time": "2023-11-15T06:18:23.675194",
     "exception": false,
     "start_time": "2023-11-15T06:18:23.639615",
     "status": "completed"
    },
    "tags": []
   },
   "outputs": [
    {
     "data": {
      "text/plain": [
       "League_to     Season   \n",
       "1.Bundesliga  2000-2001    17\n",
       "              2001-2002    26\n",
       "              2002-2003    31\n",
       "              2003-2004    14\n",
       "              2004-2005    17\n",
       "                           ..\n",
       "Serie A       2014-2015    31\n",
       "              2015-2016    31\n",
       "              2016-2017    35\n",
       "              2017-2018    36\n",
       "              2018-2019    58\n",
       "Name: Season, Length: 95, dtype: int64"
      ]
     },
     "execution_count": 18,
     "metadata": {},
     "output_type": "execute_result"
    }
   ],
   "source": [
    "top_leagues.groupby(['League_to','Season'])['Season'].count()"
   ]
  },
  {
   "cell_type": "code",
   "execution_count": 19,
   "id": "0f6e2285",
   "metadata": {
    "execution": {
     "iopub.execute_input": "2023-11-15T06:18:23.715691Z",
     "iopub.status.busy": "2023-11-15T06:18:23.714923Z",
     "iopub.status.idle": "2023-11-15T06:18:24.590925Z",
     "shell.execute_reply": "2023-11-15T06:18:24.589752Z"
    },
    "papermill": {
     "duration": 0.899032,
     "end_time": "2023-11-15T06:18:24.593298",
     "exception": false,
     "start_time": "2023-11-15T06:18:23.694266",
     "status": "completed"
    },
    "tags": []
   },
   "outputs": [
    {
     "data": {
      "text/html": [
       "\n",
       "<div style=\"background-color:white; border-radius:2px; border:#000000 solid; padding: 15px; font-size:100%; text-align:center;\">\n",
       "<img src=\"data:image/png;base64,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\" style=\"display: block; margin: 0 auto;\">\n",
       "</div>\n"
      ],
      "text/plain": [
       "<IPython.core.display.HTML object>"
      ]
     },
     "metadata": {},
     "output_type": "display_data"
    }
   ],
   "source": [
    "colors = sns.color_palette('pastel')[0:10]\n",
    "sns.countplot(x='Season', hue='League_to', data=top_leagues, palette=colors)\n",
    "plt.xticks(rotation=90, fontsize='10')\n",
    "plt.title('TRANSFERS FOR EVERY SEASON IN TOP LEAGUES (2000-2018)', ha='center', fontsize=10)\n",
    "sns.set_style('white')\n",
    "plt.savefig('output_bar.png', bbox_inches='tight', transparent=True)\n",
    "plt.close()\n",
    "with open(\"output_bar.png\", \"rb\") as img_file:\n",
    "    img_data = img_file.read()\n",
    "img_base64 = base64.b64encode(img_data).decode(\"utf-8\")\n",
    "html_code = f'''\n",
    "<div style=\"background-color:white; border-radius:2px; border:#000000 solid; padding: 15px; font-size:100%; text-align:center;\">\n",
    "<img src=\"data:image/png;base64,{img_base64}\" style=\"display: block; margin: 0 auto;\">\n",
    "</div>\n",
    "'''\n",
    "display(HTML(html_code))"
   ]
  },
  {
   "cell_type": "code",
   "execution_count": 20,
   "id": "eb85167e",
   "metadata": {
    "execution": {
     "iopub.execute_input": "2023-11-15T06:18:24.633560Z",
     "iopub.status.busy": "2023-11-15T06:18:24.633116Z",
     "iopub.status.idle": "2023-11-15T06:18:24.643455Z",
     "shell.execute_reply": "2023-11-15T06:18:24.642427Z"
    },
    "papermill": {
     "duration": 0.033041,
     "end_time": "2023-11-15T06:18:24.645573",
     "exception": false,
     "start_time": "2023-11-15T06:18:24.612532",
     "status": "completed"
    },
    "tags": []
   },
   "outputs": [
    {
     "data": {
      "text/plain": [
       "League_to\n",
       "Premier League    14695400000\n",
       "Serie A            7535220000\n",
       "LaLiga             6680360000\n",
       "Ligue 1            3682720000\n",
       "1.Bundesliga       3599645000\n",
       "Name: Transfer_fee, dtype: int64"
      ]
     },
     "execution_count": 20,
     "metadata": {},
     "output_type": "execute_result"
    }
   ],
   "source": [
    "League_buy = top_leagues.groupby(['League_to'])['Transfer_fee'].sum().sort_values(ascending=False)\n",
    "League_buy.head()"
   ]
  },
  {
   "cell_type": "code",
   "execution_count": 21,
   "id": "83019cee",
   "metadata": {
    "execution": {
     "iopub.execute_input": "2023-11-15T06:18:24.685479Z",
     "iopub.status.busy": "2023-11-15T06:18:24.685054Z",
     "iopub.status.idle": "2023-11-15T06:18:24.994708Z",
     "shell.execute_reply": "2023-11-15T06:18:24.993390Z"
    },
    "papermill": {
     "duration": 0.332701,
     "end_time": "2023-11-15T06:18:24.997205",
     "exception": false,
     "start_time": "2023-11-15T06:18:24.664504",
     "status": "completed"
    },
    "tags": []
   },
   "outputs": [
    {
     "data": {
      "text/html": [
       "\n",
       "<div style=\"background-color:white; border-radius:2px; border:#000000 solid; padding: 15px; font-size:100%; text-align:center;\">\n",
       "<img src=\"data:image/png;base64,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\" style=\"display: block; margin: 0 auto;\">\n",
       "</div>\n"
      ],
      "text/plain": [
       "<IPython.core.display.HTML object>"
      ]
     },
     "metadata": {},
     "output_type": "display_data"
    }
   ],
   "source": [
    "colors = sns.color_palette('pastel')[0:10]\n",
    "League_buy = top_leagues.groupby(['League_to'])['Transfer_fee'].sum().sort_values(ascending=False)\n",
    "League_buy.plot(kind='pie', figsize=(20,10), autopct='%1.1f%%', shadow=True, colors=colors)\n",
    "plt.title('WHICH LEAGUE PAYS THE MOST MONEY IN TRANSFER MARKET ?(%)', fontsize=15)\n",
    "sns.set_style('white')\n",
    "plt.savefig('output_pie.png', bbox_inches='tight', transparent=True)\n",
    "plt.close()\n",
    "with open(\"output_pie.png\", \"rb\") as img_file:\n",
    "    img_data = img_file.read()\n",
    "img_base64 = base64.b64encode(img_data).decode(\"utf-8\")\n",
    "html_code = f'''\n",
    "<div style=\"background-color:white; border-radius:2px; border:#000000 solid; padding: 15px; font-size:100%; text-align:center;\">\n",
    "<img src=\"data:image/png;base64,{img_base64}\" style=\"display: block; margin: 0 auto;\">\n",
    "</div>\n",
    "'''\n",
    "display(HTML(html_code))"
   ]
  },
  {
   "cell_type": "code",
   "execution_count": 22,
   "id": "87596571",
   "metadata": {
    "execution": {
     "iopub.execute_input": "2023-11-15T06:18:25.041630Z",
     "iopub.status.busy": "2023-11-15T06:18:25.041194Z",
     "iopub.status.idle": "2023-11-15T06:18:25.052255Z",
     "shell.execute_reply": "2023-11-15T06:18:25.050928Z"
    },
    "papermill": {
     "duration": 0.035495,
     "end_time": "2023-11-15T06:18:25.054613",
     "exception": false,
     "start_time": "2023-11-15T06:18:25.019118",
     "status": "completed"
    },
    "tags": []
   },
   "outputs": [
    {
     "data": {
      "text/plain": [
       "League_from\n",
       "Serie A           6571000000\n",
       "Premier League    6502180000\n",
       "LaLiga            4930140000\n",
       "Ligue 1           4002760000\n",
       "1.Bundesliga      2855810000\n",
       "Name: Transfer_fee, dtype: int64"
      ]
     },
     "execution_count": 22,
     "metadata": {},
     "output_type": "execute_result"
    }
   ],
   "source": [
    "League_sell = top_leagues.groupby(['League_from'])['Transfer_fee'].sum().sort_values(ascending=False)\n",
    "League_sell.head()"
   ]
  },
  {
   "cell_type": "code",
   "execution_count": 23,
   "id": "8bb6cc87",
   "metadata": {
    "execution": {
     "iopub.execute_input": "2023-11-15T06:18:25.098643Z",
     "iopub.status.busy": "2023-11-15T06:18:25.098249Z",
     "iopub.status.idle": "2023-11-15T06:18:25.438000Z",
     "shell.execute_reply": "2023-11-15T06:18:25.437190Z"
    },
    "papermill": {
     "duration": 0.36443,
     "end_time": "2023-11-15T06:18:25.440196",
     "exception": false,
     "start_time": "2023-11-15T06:18:25.075766",
     "status": "completed"
    },
    "tags": []
   },
   "outputs": [
    {
     "data": {
      "text/html": [
       "\n",
       "<div style=\"background-color:white; border-radius:2px; border:#000000 solid; padding: 15px; font-size:100%; text-align:center;\">\n",
       "<img src=\"data:image/png;base64,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\" style=\"display: block; margin: 0 auto;\">\n",
       "</div>\n"
      ],
      "text/plain": [
       "<IPython.core.display.HTML object>"
      ]
     },
     "metadata": {},
     "output_type": "display_data"
    }
   ],
   "source": [
    "colors = sns.color_palette('pastel')[0:10]\n",
    "League_sell = top_leagues.groupby(['League_from'])['Transfer_fee'].sum().sort_values(ascending=False).head()\n",
    "League_sell.plot(kind='bar', lw=1, edgecolor='black', width=0.2, color=colors)\n",
    "yticks = list(np.arange(0, 9000000000, 1000000000))\n",
    "plt.xlabel('League')\n",
    "plt.title('WHICH LEAGUE GAINS THE MOST MONEY FROM SELLING PLAYERS ?', fontsize=15)\n",
    "plt.yticks(ticks=yticks, labels=[f\"{round(int(y)/1000000000)} Billion $\" if y > 0 else \"0\" for y in yticks])\n",
    "sns.set_style('white')\n",
    "plt.savefig('output_bar.png', bbox_inches='tight', transparent=True)\n",
    "plt.close()\n",
    "with open(\"output_bar.png\", \"rb\") as img_file:\n",
    "    img_data = img_file.read()\n",
    "img_base64 = base64.b64encode(img_data).decode(\"utf-8\")\n",
    "html_code = f'''\n",
    "<div style=\"background-color:white; border-radius:2px; border:#000000 solid; padding: 15px; font-size:100%; text-align:center;\">\n",
    "<img src=\"data:image/png;base64,{img_base64}\" style=\"display: block; margin: 0 auto;\">\n",
    "</div>\n",
    "'''\n",
    "display(HTML(html_code))"
   ]
  },
  {
   "cell_type": "code",
   "execution_count": 24,
   "id": "597c4b3a",
   "metadata": {
    "execution": {
     "iopub.execute_input": "2023-11-15T06:18:25.486685Z",
     "iopub.status.busy": "2023-11-15T06:18:25.486287Z",
     "iopub.status.idle": "2023-11-15T06:18:25.495465Z",
     "shell.execute_reply": "2023-11-15T06:18:25.494713Z"
    },
    "papermill": {
     "duration": 0.034084,
     "end_time": "2023-11-15T06:18:25.497461",
     "exception": false,
     "start_time": "2023-11-15T06:18:25.463377",
     "status": "completed"
    },
    "tags": []
   },
   "outputs": [
    {
     "data": {
      "text/plain": [
       "Premier League   -8.193220\n",
       "LaLiga           -1.750220\n",
       "Serie A          -0.964220\n",
       "1.Bundesliga     -0.743835\n",
       "Ligue 1           0.320040\n",
       "Name: Transfer_fee, dtype: float64"
      ]
     },
     "execution_count": 24,
     "metadata": {},
     "output_type": "execute_result"
    }
   ],
   "source": [
    "profits = League_sell - League_buy\n",
    "profits.sort_values(inplace=True)\n",
    "profits.head()/1000000000"
   ]
  },
  {
   "cell_type": "code",
   "execution_count": 25,
   "id": "af645838",
   "metadata": {
    "execution": {
     "iopub.execute_input": "2023-11-15T06:18:25.543129Z",
     "iopub.status.busy": "2023-11-15T06:18:25.542424Z",
     "iopub.status.idle": "2023-11-15T06:18:25.942714Z",
     "shell.execute_reply": "2023-11-15T06:18:25.941510Z"
    },
    "papermill": {
     "duration": 0.427438,
     "end_time": "2023-11-15T06:18:25.946500",
     "exception": false,
     "start_time": "2023-11-15T06:18:25.519062",
     "status": "completed"
    },
    "tags": []
   },
   "outputs": [
    {
     "data": {
      "text/html": [
       "\n",
       "<div style=\"background-color:white; border-radius:2px; border:#000000 solid; padding: 15px; font-size:100%; text-align:center;\">\n",
       "<img src=\"data:image/png;base64,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\" style=\"display: block; margin: 0 auto;\">\n",
       "</div>\n"
      ],
      "text/plain": [
       "<IPython.core.display.HTML object>"
      ]
     },
     "metadata": {},
     "output_type": "display_data"
    }
   ],
   "source": [
    "colors = sns.color_palette('pastel')[0:10]\n",
    "sns.barplot(x=profits.head().index, y=profits.head().values, data=profits.head(), palette=colors)\n",
    "plt.xticks(ticks=np.arange(0, 5, 1), labels=profits.head().index)\n",
    "plt.title('DO TOP 5 LEAGUES MAKE PROFITS OR LOSSES FROM BUYING AND SELLING PLAYERS?',fontsize=15)\n",
    "sns.set_style('white')\n",
    "plt.savefig('output_bar.png', bbox_inches='tight', transparent=True)\n",
    "plt.close()\n",
    "with open(\"output_bar.png\", \"rb\") as img_file:\n",
    "    img_data = img_file.read()\n",
    "img_base64 = base64.b64encode(img_data).decode(\"utf-8\")\n",
    "html_code = f'''\n",
    "<div style=\"background-color:white; border-radius:2px; border:#000000 solid; padding: 15px; font-size:100%; text-align:center;\">\n",
    "<img src=\"data:image/png;base64,{img_base64}\" style=\"display: block; margin: 0 auto;\">\n",
    "</div>\n",
    "'''\n",
    "display(HTML(html_code))"
   ]
  },
  {
   "cell_type": "code",
   "execution_count": 26,
   "id": "11ae0703",
   "metadata": {
    "execution": {
     "iopub.execute_input": "2023-11-15T06:18:26.019175Z",
     "iopub.status.busy": "2023-11-15T06:18:26.018408Z",
     "iopub.status.idle": "2023-11-15T06:18:26.025946Z",
     "shell.execute_reply": "2023-11-15T06:18:26.025177Z"
    },
    "papermill": {
     "duration": 0.044218,
     "end_time": "2023-11-15T06:18:26.028014",
     "exception": false,
     "start_time": "2023-11-15T06:18:25.983796",
     "status": "completed"
    },
    "tags": []
   },
   "outputs": [
    {
     "data": {
      "text/plain": [
       "League_to\n",
       "Premier League    1256\n",
       "Serie A            739\n",
       "LaLiga             525\n",
       "1.Bundesliga       422\n",
       "Ligue 1            397\n",
       "Name: count, dtype: int64"
      ]
     },
     "execution_count": 26,
     "metadata": {},
     "output_type": "execute_result"
    }
   ],
   "source": [
    "top_leagues['League_to'].value_counts()"
   ]
  },
  {
   "cell_type": "code",
   "execution_count": 27,
   "id": "be1df1e3",
   "metadata": {
    "execution": {
     "iopub.execute_input": "2023-11-15T06:18:26.075020Z",
     "iopub.status.busy": "2023-11-15T06:18:26.074261Z",
     "iopub.status.idle": "2023-11-15T06:18:26.425838Z",
     "shell.execute_reply": "2023-11-15T06:18:26.424760Z"
    },
    "papermill": {
     "duration": 0.377625,
     "end_time": "2023-11-15T06:18:26.428040",
     "exception": false,
     "start_time": "2023-11-15T06:18:26.050415",
     "status": "completed"
    },
    "tags": []
   },
   "outputs": [
    {
     "data": {
      "text/html": [
       "\n",
       "<div style=\"background-color:white; border-radius:2px; border:#000000 solid; padding: 15px; font-size:100%; text-align:center;\">\n",
       "<img src=\"data:image/png;base64,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\" style=\"display: block; margin: 0 auto;\">\n",
       "</div>\n"
      ],
      "text/plain": [
       "<IPython.core.display.HTML object>"
      ]
     },
     "metadata": {},
     "output_type": "display_data"
    }
   ],
   "source": [
    "colors = sns.color_palette('pastel')[0:10]\n",
    "top_leagues['League_to'].value_counts().plot(kind='pie', figsize=(12.5, 20), autopct='%1.1f%%', shadow=True, colors=colors)\n",
    "plt.title('WHICH LEAGUE HAD THE MOST TRANSFERS IN? (%)', fontsize=15)\n",
    "sns.set_style('white')\n",
    "plt.savefig('output_pie.png', bbox_inches='tight', transparent=True)\n",
    "plt.close()\n",
    "with open(\"output_pie.png\", \"rb\") as img_file:\n",
    "    img_data = img_file.read()\n",
    "img_base64 = base64.b64encode(img_data).decode(\"utf-8\")\n",
    "html_code = f'''\n",
    "<div style=\"background-color:white; border-radius:2px; border:#000000 solid; padding: 15px; font-size:100%; text-align:center;\">\n",
    "<img src=\"data:image/png;base64,{img_base64}\" style=\"display: block; margin: 0 auto;\">\n",
    "</div>\n",
    "'''\n",
    "display(HTML(html_code))"
   ]
  },
  {
   "cell_type": "code",
   "execution_count": 28,
   "id": "6a23c4bb",
   "metadata": {
    "execution": {
     "iopub.execute_input": "2023-11-15T06:18:26.480011Z",
     "iopub.status.busy": "2023-11-15T06:18:26.479556Z",
     "iopub.status.idle": "2023-11-15T06:18:26.491111Z",
     "shell.execute_reply": "2023-11-15T06:18:26.490176Z"
    },
    "papermill": {
     "duration": 0.039536,
     "end_time": "2023-11-15T06:18:26.493210",
     "exception": false,
     "start_time": "2023-11-15T06:18:26.453674",
     "status": "completed"
    },
    "tags": []
   },
   "outputs": [
    {
     "data": {
      "text/plain": [
       "League_to       League_from   \n",
       "Premier League  Premier League    374\n",
       "Serie A         Serie A           359\n",
       "Ligue 1         Ligue 1           159\n",
       "Premier League  Championship      151\n",
       "LaLiga          LaLiga            147\n",
       "Name: League_to, dtype: int64"
      ]
     },
     "execution_count": 28,
     "metadata": {},
     "output_type": "execute_result"
    }
   ],
   "source": [
    "top_leagues.groupby(['League_to','League_from'])['League_to'].count().sort_values(ascending=False).head()"
   ]
  },
  {
   "cell_type": "code",
   "execution_count": 29,
   "id": "f453ef00",
   "metadata": {
    "execution": {
     "iopub.execute_input": "2023-11-15T06:18:26.548213Z",
     "iopub.status.busy": "2023-11-15T06:18:26.547128Z",
     "iopub.status.idle": "2023-11-15T06:18:26.563528Z",
     "shell.execute_reply": "2023-11-15T06:18:26.562414Z"
    },
    "papermill": {
     "duration": 0.049315,
     "end_time": "2023-11-15T06:18:26.566565",
     "exception": false,
     "start_time": "2023-11-15T06:18:26.517250",
     "status": "completed"
    },
    "tags": []
   },
   "outputs": [
    {
     "data": {
      "text/plain": [
       "Team_to       League_to     \n",
       "Chelsea       Premier League    1820650000\n",
       "Man City      Premier League    1779660000\n",
       "Real Madrid   LaLiga            1680650000\n",
       "FC Barcelona  LaLiga            1673040000\n",
       "Man Utd       Premier League    1497360000\n",
       "Juventus      Serie A           1466940000\n",
       "Liverpool     Premier League    1412420000\n",
       "Paris SG      Ligue 1           1274780000\n",
       "Inter         Serie A           1202690000\n",
       "Spurs         Premier League    1024400000\n",
       "Name: Transfer_fee, dtype: int64"
      ]
     },
     "execution_count": 29,
     "metadata": {},
     "output_type": "execute_result"
    }
   ],
   "source": [
    "top_buyers=top_leagues.groupby(['Team_to','League_to'])['Transfer_fee'].sum().sort_values(ascending=False)\n",
    "top_buyers.head(10)"
   ]
  },
  {
   "cell_type": "code",
   "execution_count": 30,
   "id": "3a14be28",
   "metadata": {
    "execution": {
     "iopub.execute_input": "2023-11-15T06:18:26.630344Z",
     "iopub.status.busy": "2023-11-15T06:18:26.629344Z",
     "iopub.status.idle": "2023-11-15T06:18:27.122002Z",
     "shell.execute_reply": "2023-11-15T06:18:27.120860Z"
    },
    "papermill": {
     "duration": 0.522166,
     "end_time": "2023-11-15T06:18:27.124360",
     "exception": false,
     "start_time": "2023-11-15T06:18:26.602194",
     "status": "completed"
    },
    "tags": []
   },
   "outputs": [
    {
     "data": {
      "text/html": [
       "\n",
       "<div style=\"background-color:white; border-radius:2px; border:#000000 solid; padding: 15px; font-size:100%; text-align:center;\">\n",
       "<img src=\"data:image/png;base64,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\" style=\"display: block; margin: 0 auto;\">\n",
       "</div>\n"
      ],
      "text/plain": [
       "<IPython.core.display.HTML object>"
      ]
     },
     "metadata": {},
     "output_type": "display_data"
    }
   ],
   "source": [
    "colors = sns.color_palette('pastel')[0:10]\n",
    "(top_buyers.head(10)/1000000000).plot(kind='bar', lw=1, edgecolor='black', color=colors)\n",
    "plt.title('WHICH TEAM SPENDS THE MOST MONEY ON BUYING PLAYERS?', fontsize=15)\n",
    "plt.xlabel(' ')\n",
    "plt.ylabel('Billion $')\n",
    "sns.set_style('white')\n",
    "plt.savefig('output_bar.png', bbox_inches='tight', transparent=True)\n",
    "plt.close()\n",
    "with open(\"output_bar.png\", \"rb\") as img_file:\n",
    "    img_data = img_file.read()\n",
    "img_base64 = base64.b64encode(img_data).decode(\"utf-8\")\n",
    "html_code = f'''\n",
    "<div style=\"background-color:white; border-radius:2px; border:#000000 solid; padding: 15px; font-size:100%; text-align:center;\">\n",
    "<img src=\"data:image/png;base64,{img_base64}\" style=\"display: block; margin: 0 auto;\">\n",
    "</div>\n",
    "'''\n",
    "display(HTML(html_code))"
   ]
  },
  {
   "cell_type": "code",
   "execution_count": 31,
   "id": "16188c64",
   "metadata": {
    "execution": {
     "iopub.execute_input": "2023-11-15T06:18:27.177093Z",
     "iopub.status.busy": "2023-11-15T06:18:27.176330Z",
     "iopub.status.idle": "2023-11-15T06:18:27.188997Z",
     "shell.execute_reply": "2023-11-15T06:18:27.187786Z"
    },
    "papermill": {
     "duration": 0.041841,
     "end_time": "2023-11-15T06:18:27.191377",
     "exception": false,
     "start_time": "2023-11-15T06:18:27.149536",
     "status": "completed"
    },
    "tags": []
   },
   "outputs": [
    {
     "data": {
      "text/plain": [
       "Team_from     League_from   \n",
       "Monaco        Ligue 1           930170000\n",
       "Real Madrid   LaLiga            858400000\n",
       "Liverpool     Premier League    773160000\n",
       "FC Porto      Liga NOS          741350000\n",
       "Inter         Serie A           704600000\n",
       "FC Barcelona  LaLiga            686950000\n",
       "Chelsea       Premier League    679030000\n",
       "Juventus      Serie A           671180000\n",
       "AS Roma       Serie A           662700000\n",
       "Benfica       Liga NOS          650670000\n",
       "Name: Transfer_fee, dtype: int64"
      ]
     },
     "execution_count": 31,
     "metadata": {},
     "output_type": "execute_result"
    }
   ],
   "source": [
    "top_sellers= top_leagues.groupby(['Team_from','League_from'])['Transfer_fee'].sum().sort_values(ascending=False)\n",
    "top_sellers.head(10)"
   ]
  },
  {
   "cell_type": "code",
   "execution_count": 32,
   "id": "86d04b4f",
   "metadata": {
    "execution": {
     "iopub.execute_input": "2023-11-15T06:18:27.245097Z",
     "iopub.status.busy": "2023-11-15T06:18:27.244341Z",
     "iopub.status.idle": "2023-11-15T06:18:27.688445Z",
     "shell.execute_reply": "2023-11-15T06:18:27.687275Z"
    },
    "papermill": {
     "duration": 0.474375,
     "end_time": "2023-11-15T06:18:27.691237",
     "exception": false,
     "start_time": "2023-11-15T06:18:27.216862",
     "status": "completed"
    },
    "tags": []
   },
   "outputs": [
    {
     "data": {
      "text/html": [
       "\n",
       "<div style=\"background-color:white; border-radius:2px; border:#000000 solid; padding: 15px; font-size:100%; text-align:center;\">\n",
       "<img src=\"data:image/png;base64,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\" style=\"display: block; margin: 0 auto;\">\n",
       "</div>\n"
      ],
      "text/plain": [
       "<IPython.core.display.HTML object>"
      ]
     },
     "metadata": {},
     "output_type": "display_data"
    }
   ],
   "source": [
    "colors = sns.color_palette('pastel')[0:10]\n",
    "top_sellers = top_leagues.groupby(['Team_from', 'League_from'])['Transfer_fee'].sum().sort_values(ascending=False)\n",
    "top_sellers.head(10).plot(kind='bar', lw=1, edgecolor='black', color=colors)\n",
    "yticks = list(np.arange(0, 1000000000, 100000000))\n",
    "plt.yticks(ticks=yticks, labels=[f\"{round(int(y)/1000000)} Million $\" if y > 0 else \"0\" for y in yticks])\n",
    "plt.title('WHICH TEAM GAINED THE MOST MONEY FROM SELLING THEIR PLAYERS?', fontsize=15)\n",
    "plt.xlabel(' ')\n",
    "sns.set_style('white')\n",
    "plt.savefig('output_bar.png', bbox_inches='tight', transparent=True)\n",
    "plt.close()\n",
    "with open(\"output_bar.png\", \"rb\") as img_file:\n",
    "    img_data = img_file.read()\n",
    "img_base64 = base64.b64encode(img_data).decode(\"utf-8\")\n",
    "html_code = f'''\n",
    "<div style=\"background-color:white; border-radius:2px; border:#000000 solid; padding: 15px; font-size:100%; text-align:center;\">\n",
    "<img src=\"data:image/png;base64,{img_base64}\" style=\"display: block; margin: 0 auto;\">\n",
    "</div>\n",
    "'''\n",
    "display(HTML(html_code))"
   ]
  },
  {
   "cell_type": "code",
   "execution_count": 33,
   "id": "d6b08b7c",
   "metadata": {
    "execution": {
     "iopub.execute_input": "2023-11-15T06:18:27.747542Z",
     "iopub.status.busy": "2023-11-15T06:18:27.746825Z",
     "iopub.status.idle": "2023-11-15T06:18:27.756006Z",
     "shell.execute_reply": "2023-11-15T06:18:27.754894Z"
    },
    "papermill": {
     "duration": 0.039497,
     "end_time": "2023-11-15T06:18:27.758116",
     "exception": false,
     "start_time": "2023-11-15T06:18:27.718619",
     "status": "completed"
    },
    "tags": []
   },
   "outputs": [
    {
     "data": {
      "text/plain": [
       "Team_to\n",
       "Inter              97\n",
       "Chelsea            96\n",
       "Spurs              93\n",
       "Man City           89\n",
       "Juventus           86\n",
       "Liverpool          85\n",
       "AS Roma            77\n",
       "Real Madrid        75\n",
       "FC Barcelona       70\n",
       "Atlético Madrid    69\n",
       "Name: count, dtype: int64"
      ]
     },
     "execution_count": 33,
     "metadata": {},
     "output_type": "execute_result"
    }
   ],
   "source": [
    "top_leagues['Team_to'].value_counts()[0:10]"
   ]
  },
  {
   "cell_type": "code",
   "execution_count": 34,
   "id": "fff9007f",
   "metadata": {
    "execution": {
     "iopub.execute_input": "2023-11-15T06:18:27.814463Z",
     "iopub.status.busy": "2023-11-15T06:18:27.813529Z",
     "iopub.status.idle": "2023-11-15T06:18:29.266003Z",
     "shell.execute_reply": "2023-11-15T06:18:29.264943Z"
    },
    "papermill": {
     "duration": 1.482259,
     "end_time": "2023-11-15T06:18:29.268265",
     "exception": false,
     "start_time": "2023-11-15T06:18:27.786006",
     "status": "completed"
    },
    "tags": []
   },
   "outputs": [
    {
     "data": {
      "text/html": [
       "\n",
       "<div style=\"background-color:white; border-radius:2px; border:#000000 solid; padding: 15px; font-size:100%; text-align:center;\">\n",
       "<img src=\"data:image/png;base64,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\" style=\"display: block; margin: 0 auto;\">\n",
       "</div>\n"
      ],
      "text/plain": [
       "<IPython.core.display.HTML object>"
      ]
     },
     "metadata": {},
     "output_type": "display_data"
    }
   ],
   "source": [
    "colors = sns.color_palette('pastel')[0:10]\n",
    "sns.countplot(x=\"Team_to\", data=top_leagues, order=top_leagues['Team_to'].value_counts()[0:75].index, palette=colors)\n",
    "sns.set(rc={'figure.figsize':(20,5)})\n",
    "plt.xticks(rotation=90, fontsize='5')\n",
    "plt.title('WHICH TEAM MADE THE MOST NUMBER OF TRANSFERS IN?', fontsize=15)\n",
    "sns.set_style('white')\n",
    "plt.savefig('output_bar.png', bbox_inches='tight', transparent=True)\n",
    "plt.close()\n",
    "with open(\"output_bar.png\", \"rb\") as img_file:\n",
    "    img_data = img_file.read()\n",
    "img_base64 = base64.b64encode(img_data).decode(\"utf-8\")\n",
    "html_code = f'''\n",
    "<div style=\"background-color:white; border-radius:2px; border:#000000 solid; padding: 15px; font-size:100%; text-align:center;\">\n",
    "<img src=\"data:image/png;base64,{img_base64}\" style=\"display: block; margin: 0 auto;\">\n",
    "</div>\n",
    "'''\n",
    "display(HTML(html_code))"
   ]
  },
  {
   "cell_type": "code",
   "execution_count": 35,
   "id": "8d00ed85",
   "metadata": {
    "execution": {
     "iopub.execute_input": "2023-11-15T06:18:29.326369Z",
     "iopub.status.busy": "2023-11-15T06:18:29.325690Z",
     "iopub.status.idle": "2023-11-15T06:18:30.243747Z",
     "shell.execute_reply": "2023-11-15T06:18:30.242836Z"
    },
    "papermill": {
     "duration": 0.950385,
     "end_time": "2023-11-15T06:18:30.246092",
     "exception": false,
     "start_time": "2023-11-15T06:18:29.295707",
     "status": "completed"
    },
    "tags": []
   },
   "outputs": [
    {
     "data": {
      "text/html": [
       "\n",
       "<div style=\"background-color:white; border-radius:2px; border:#000000 solid; padding: 15px; font-size:100%; text-align:center;\">\n",
       "<img src=\"data:image/png;base64,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\" style=\"display: block; margin: 0 auto;\">\n",
       "</div>\n"
      ],
      "text/plain": [
       "<IPython.core.display.HTML object>"
      ]
     },
     "metadata": {},
     "output_type": "display_data"
    }
   ],
   "source": [
    "colors = sns.color_palette('pastel')[0:10]\n",
    "v = data.loc[data.League_to=='Premier League']\n",
    "sns.countplot(x=\"Team_to\", data=v, order=v['Team_to'].value_counts().index, palette=colors)\n",
    "plt.xlabel(' ')\n",
    "plt.xticks(rotation=90, fontsize='12')\n",
    "plt.title('PREMIER LEAGUE TRANSFERS IN (2000-2018)', fontsize=15)\n",
    "sns.set_style('white')\n",
    "plt.savefig('output_bar.png', bbox_inches='tight', transparent=True)\n",
    "plt.close()\n",
    "\n",
    "with open(\"output_bar.png\", \"rb\") as img_file:\n",
    "    img_data = img_file.read()\n",
    "img_base64 = base64.b64encode(img_data).decode(\"utf-8\")\n",
    "html_code = f'''\n",
    "<div style=\"background-color:white; border-radius:2px; border:#000000 solid; padding: 15px; font-size:100%; text-align:center;\">\n",
    "<img src=\"data:image/png;base64,{img_base64}\" style=\"display: block; margin: 0 auto;\">\n",
    "</div>\n",
    "'''\n",
    "display(HTML(html_code))"
   ]
  },
  {
   "cell_type": "code",
   "execution_count": 36,
   "id": "44a6857b",
   "metadata": {
    "execution": {
     "iopub.execute_input": "2023-11-15T06:18:30.306842Z",
     "iopub.status.busy": "2023-11-15T06:18:30.306179Z",
     "iopub.status.idle": "2023-11-15T06:18:30.893276Z",
     "shell.execute_reply": "2023-11-15T06:18:30.891960Z"
    },
    "papermill": {
     "duration": 0.620885,
     "end_time": "2023-11-15T06:18:30.896226",
     "exception": false,
     "start_time": "2023-11-15T06:18:30.275341",
     "status": "completed"
    },
    "tags": []
   },
   "outputs": [
    {
     "data": {
      "text/html": [
       "\n",
       "<div style=\"background-color:white; border-radius:2px; border:#000000 solid; padding: 15px; font-size:100%; text-align:center;\">\n",
       "<img src=\"data:image/png;base64,iVBORw0KGgoAAAANSUhEUgAABloAAAJZCAYAAADBFujGAAAAOXRFWHRTb2Z0d2FyZQBNYXRwbG90bGliIHZlcnNpb24zLjcuMiwgaHR0cHM6Ly9tYXRwbG90bGliLm9yZy8pXeV/AAAACXBIWXMAAA9hAAAPYQGoP6dpAADC0ElEQVR4nOzdd5xjZfX48U+WNoJU14ouYDuo2AvYEEQBK8UCdmxYfn5VbNgp9opiw4KCgCCKIIIgSlMUUcQuHJWqAiJSBZYFNr8/nhs2m01mZjM7uZm9n/frNa9M7r3JnMkkmZvnPM85rXa7jSRJkiRJkiRJkpbfvLoDkCRJkiRJkiRJmqtMtEiSJEmSJEmSJA3JRIskSZIkSZIkSdKQTLRIkiRJkiRJkiQNyUSLJEmSJEmSJEnSkEy0SJIkSZIkSZIkDclEiyRJkiRJkiRJ0pBMtEiSJEmSJEmSJA3JRIskSZIkSZIkSdKQVq07AEmSJM1cRLT7bL4V+A9wJvCpzPxFn9tdBGwEbJ2Zpw24792AbwCnZ+ZWfbYDHJyZuw24/XlAAJtk5kV9fnbHbcB1wBXAOcCPgG9n5sIB99t7+36Wirm63f2AtwLbAPeiPE5XAH8HfgockZl/7zp+b2AvYJ/M3HuKn9cd11K/b9f+1YAXAzsBjwDmU373y4CzgWOBozLz5kl+xhrA5cB6wKmZ+eSp4hoQ47RlZqu6be9zrQ1cD5wLHAF8ITNvmeLn/xB4GvA/4K6ZeeOA47YCTq2uLvO37DruRGA7+jyPZ/D3nsztP2eax0PX86HntdPReb3+EvhMZv500B1FxNbAG4AtgDsDN1S/0x+A04FDMvPaqQKKiI2BC4GLM3PjPtsBzgc2zcxb+9z+AOA1wMsz86Cpfl7Pbd8P7A08NDP/WG1bDdgaeDawFXBvoAVcBBwPfCwz/zPJfT4LeBvw8GrTOcAnMvP4SW7zoCqOrYA7Up4XBwL7Z+biAbdZv7rNjsDdKK/Fo4G9M/OayX7vPve1EeX3fQbwMOBOwLWU94IvZuaxk9x2ueKIiACeDjym+rp3tavve1XX7dYF9gR2ADahTNi8GPgh8JHMvKLn+M9QnheRmZcM/OUlSZJWIiZaJEmSVi4Hd32/NvBQYGdgp4h4cWZ+a5Z+7osj4kOZ+bchbnsUZcC9BaxDGch7PvAC4GMR8fLMPGEat+/nvO4rEbEtcAxwB0pi4xTgGuCewBOAp1IGvD86xO8xpYjYtPr5Uf2c3wA/B1ahJD6eB+xC+b0fkplXD7irZ1KSLABPioh7ZuY/lyOU71ISPN0eRnm+nA+cMY376DzXVgE2Bh4HbA48MyK27zcwDxARdwW2ra7ekTJIPJ3n5ZMi4smZeco0ju38rJn8vX8P/G7AXV++nMdD/+do92O9FuVvsBOwY0S8KjO/3nuDKkGxT3X1XOAs4BbKc2pn4LmUQfpfThLL8rgP8FJgmViGVT0H3g58t5NkqTyJkmCFklw5AVgNeCwlWfaiiNgqM7PPfb4Z2I/y9/wJcDPleXZcRPxfZn6+z20eC5xMeX78qvqZW1b387iI2CUz2z23mU9JXt8XuIDy/HoQ8CbgaRHx2My8ajkejsOAx1fx/pLy3Lo3JXG4XUTsl5lv6RP7MHG8rto/bdXP+QVwvyq2H1e7HgO8Gdil+lkXd93sY5REywcpzx1JkqSVnokWSZKklUjvqpKImAd8mDIbef+I+M5Uqw2GcBNloPL9wEuGuP3bemdTR8TdgPcC/48yUPqMzDxxurfvJyLuABxSxfphyqzvW7r2r0WZsX3DEL/DlCJiAWVQ/U6UJMWemfnvnmPmA68H3kEZeB+UaOk8zpcBdwdeRBncnJbMfFuf+PamJFrOGLQ6qec+ljomIjYHTqOsHNkVOHTATV9ASc50Yn8JUydaOs+xfSjJkimtgL/3MdNZwTSD46Hnsa5erx+nJBU+HRHfzswbuvY/krKC4Rbg+Zl5TPedVa+bF1OSSSvCQmACeG9EfHNQ8mwI76Yk2T7Ss30xcCRlBd6vOhurFRXfpiQfvkFJ6tG1P4BPUpIVW2fmmdX2+1OSBPtFxIk9K5dWoyQ57gC8JTP3q7bfETiJkvT8IXBQT4yfoSQ3vgfs0nlMImJ/4P+ATwO7Lcdj8c/qdgdn5vVd8T2DkjzZo4r9pBUQxx8p7xO/piTjfkRJ0E3m3ZQky7HVz1lY/ZwJyut2J2Bf4GWdG2TmZRFxMLB7RHw0M/8y5aMgSZI0x9mjRZIkaSVWlb55P2WW950oM55XtKMpM51fUA14zlhmXp6ZbwDeRzln/UZVLmsmngDcBfhXZr6nN+GUmTdk5rcy8/sz/DmDfIXyN/haZu7Wm2SpYrgyM/ellD7qW/opIjaglP+5CXh1tXmYBNcKlZlnsWRQertJDu3E+lrKKo+nVgmCyZxJWTHyhIh46jRDqvvvvdyq1+t7KH/7dSmlwbrtTFn5dWRvkqW6/eWZ+cnMPK9335D+RRlg3wR4+Yq4w4hYkzIo/6fM/G33vsw8JTN36U6yVNuvBV5RXX1sVW6r25soybsDOkmW6nZ/BT5EmWDYu5JjJ8rv9ftOkqW6zf8oZdmgJLy6Y787JVG4CHh9T+Lp7ZTSby+OiLtM8hAsJTN3zczPdydZqu3Hs2QV0QtWRByZeWBmvjMzj+pZgTKZLavLj3SXcay+/0B19dF9bnco5bn62mn+HEmSpDnNRIskSdJKLjMXsWTQfjZWNN9EmSW9CmW2/Yr0EUovgLtRZpjPxJ2ry4E9HmZLRGxGST7cSOkhManM/FvvwGuXXSjllI6lzLi/CHhQRDx8wPGj9Ofqsu9Ac0Q8gNKX5lLgOMps/FXoGUjuo82S59Y+kxzXrba/90xUvXk6Ky96H8c6fqe9KY//eyJi9RVwf8+jJJEOX54bZealLPm979Gz+xnV5Xf73LSz7VnTvU1mnkMpx7VZ1a+mY3vKZ+if9SZKq7/bDyjP56cP/EWWz++ry97fd5RxDOwV1eW/fbb9HLiEkvCZWAFxSJIkjTUTLZIkSSu5iNiEspLiFpYM4K5oB1BKQT0/Ih64ou40M28DvlNd3XqGd/eP6vLBEfHEGd7X8npadXnCdJqUT6GzIuTQqn9Ep+zWi2d4vyvC2tXlFQP2d2I/vFq90SkvNmXs1QqOcygrGrafRix1/r1natDj2PmdnrM8qyZmolp1cgylh9ArJj96Wp5ZXZ62PDeKiPWA9aurl/dsX1Bd/S09MvMfwJXARhGxTteuh1aX5wz4kZ3tD5nhbWai06y+tyfQKOPolCx7Z3fCpPr+fdXVA3tvVL03nU75mz2ud78kSdLKxkSLJEnSSioi7hgRT6D0PAD4UmZeMxs/qyoj8xHK+eXeK/juf1ddPmCG9/ML4C+Umd6nRsRxEbFHRGxZlTOaTZ2B0WUGgpdHRNyX0hj8SqDTs6aTrHhhRKwyk/tfAToJkGX66UREi9JLBpbEfDIlQfeIaSbo9q4up7Oqpc6/99Ai4n6UBvTXsGxD+8MoK8juBfw9Ig6KiFdFxMNn+W+/D2VVy7tXQAm/J1JKGS7va+H/UVbk/TEzL+za3kmyXN3dz6bHP6vL7pJjC3r2zdZthlIlkDqN5HvL240sDkrvm1Mp/YwujIhjIuIY4EJK8vttmXnQgNt2SsA9aQXEIUmSNNZmo3SEJEmSahIR7T6br6c0R/7CLP/4rwB7As+NiAdn5h9X0P1eWV2uP2D/hZO0htkjMz8DZXVM1WD6MMoM62ewpHzQLRFxIrBvZp69QqJe2p2qyyv77YyIjwF37dl8TJ8+HJ2VH9/u9GXIzHMj4hxKSa6nUBpcj0zVwH0TSkm0LSmDwt/uc+iTKAPEf87M30HpSRIRhwNvoax2eddkPyszfxARZwOPiYhnZuZxkxw707/3XhGxV5/tB3c3sJ/G8VD6gDxsUKwAEbEW8Cjgc9Wm1/UmDjLzgoh4FqUh/L0ovU46TcivqR7LD2TmZZP9rOWVmb+PiO8Bz6H0Bfr8MPdTrcK5K3BhZt60HLd7OPDe6uqePbvvWF3eOMlddB7Htbu2TXW7FXWbYR1AKRX3S0ofrG4jiyMzb6heR1+hvP/s0LX7VOCMSW7e6RX0sJnGIUmSNO5MtEiSJK1cDu76fg3KjObNgfcD5wMnzNYPzsybI+LDlITO3pRB2RWhVV32SyIBHEVpqt7PX7qvZOZFwOMj4nHAsynNxh9JGbh8FvC0iHhRZh7Ze0ez7DmUVQzdLqKUbOrWWRFySM/2QyiJlpcwokTLgKTeV4HXVGWDenWSRP1ifwvwooh494DbdtsLOJ7yHBuYaIEZ/71/z5LVVN0GDSwPOh5Kr4p+XhYRL+vZdjOwXWae3O8GmXlytbLpGcC2wGMoJaLWA15HKSu2ZWbmgJ85rL2BnYF3RcTXuhujL4dOubOrp3uDiLgrpZfPBPCZzJy197BxERF7UnoxXQW8aBqvidmMZQHl9XZ3ygqbzmq1pwH7AadFxLaZ+bM+N7+qurxzn32SJEkrFRMtkiRJK5F+M+2r2eCnA8dGxGY9A7DTGcCbKtHR7WvAO4GdIuJhnZULMzS/urxqwP63VQPq05aZv6CUlqJq8P1U4OPAA4EvR8QPM3NQ8mYYnWbR8/vtzMz7dr6PiHdSyrAtJSIeC9wX+FtmntWz+3BKiZ8dI2KtSUoorUidpN4EpTTappTVDr8ADuo+sOrn8FzKc+hb3fsy83cR8WfgQZRVL6dN9kMz84cR8SvKqpYdMrO3rFK/2wzz9z4mM/ee6r5ncDyU5GcncXMnSlmtdYGDI+IxVQP4ZWTmIsoqh6Ph9jJTuwIfpiQzPk/5HVeYzPxTRHwHeD7wGuCzQ9zNutXl9dM5OCLWBn4IbEzp1fTWPod1/m6TlYNbq8/P/R9lldyg2w26zWQ/a5nbRMQnWfZ1f0Zmfq3fHUTEiymv/xuAZ2TmBX0OW+44ZuBgYDNgp54Vdt+MiP9REt2fpCT0e11XXa63AuKQJEkaayZaJEmSVnKZ+duI+DKltNPrgDd37e6UnplskLKzb8rB+8xcVK1q+RKlr8MOU9xkOh5eXf5l0qOGVA1aHx8Rv6EMfK9HKTV10mS3W06/p6xGefhUB06i00h+vYjot6riFsoA684su2pkhetN6kXE2ynJiy9ExKmZeXHX7mdTBtkXAYf3KfXWGYh+CdNrkr4XZXXW3hFx7HLGPYq/93Sd0f04RsS6lN/rsZRSTc8ccLulVL2XDoiISyml27aOiDUzc7JyWsPYh5Iwe2dEfGWI219bXU5Z0qpKzh1LWal1EvDizFzc59DOaqH1J0ky3rO67H5OXkJJtNwT+MNy3KZ733Ru81z690pZJtESEc+klIW7Bdg5M3t79MwkjuUWEfcCtqKssvpBn0O+T3lNPzoiJvqscuok1q6ZSRySJElzwby6A5AkSdJIdJpH369ne6dp8r0nuW1n36DGy70OpAzwPTsiHjnN2/RVNfh+bnX11Jnc11Qy83Lg3Opq35UnM3B7uZ1qMH25RMRqlJUEUMrwPL7P10S1/yXL3MEIZOYnKAPia1ISId06Ma1O/9g7/WmeWw2wT/WzTgTOpPR+2GnIeGfz7z2UzLyWkpC7GXhGRGy5nHdxSnW5CrOwiiAz/0Lpv3M3StJ2eV1RXW4w2UERsWr1c7airETauUqQ9YvpGpYkHpZJZFbJgvnAxZl5Xdeu31eXjxgQRmd7dxJmuW+TmRtnZqvna7c+cT6JsmqnBbwwMydL/A0T+zA6CZsbMvO23p3VthsoMa/X5/advlr/mWEckiRJY89EiyRJUjN0kiW95ZF+Wl0+gz6qRuedff1q8C8jM28BPlRd3Wc5Yuzn3ZQG6v+ilKgZWkS0pti/CqWpO9XPW2Ey84+U3ilrUsrsLK+nU0pLnd1n0LaVmS3KapYbgG0i4u4rLPjl887q8iURsRFARMwHtqPMfN9gkvhPA9Zh+qugOsmcvVlS3u52df69ZyIzL6Q0QoclDeCBqX8nSmk5KI/1lSs4tI59gcWUpvSTrYRbRmZeAVwO3Csi+t62+h2/QVkF9TtK+aypVtMdX10+t8++zrbeFRkDb1OVW7w38KeesoQnUn73J0bEXXpuswal789tlHJn0xYRj6Cs3lkDeFVmTvVeNytx9HF5dblBRGzSuzMi7kNJptxA/+fbA6rL380wDkmSpLFnokWSJGklVw0a7l5d7R14+zol+bJ9RLym53arUBImQVnNsjyJjoMoq2ieQUmULG/Md4uIz1EGdW8DXj5oRvtyeFZEHFk1Ru/9eWtRyp1tAFxKWS2xou1O6dXyqog4KCLuNiCOh/S5bWdFyOGD7rwqE3Us5Rz/hTMPd/ll5m+BYyglit9Rbd4VWA34UWZO1gS987u9eJo/68eU/iYPpvQ26VX333smPgrcBDw1Ih7dtf0DEfGJaoB7KRGxIfDl6uqxK+D10ldmnkf5W92F/omNqfyMsuJmUBm9z1CeA+cB21YrVqbyWcr7xGsjYovOxoi4H/Ae4FaW7SlzNOU96qERsUfXbdYCvlBd/VT3DTLzMsrvvjrwxWrlTcfHKavNDq0SStMSpY7eiZQk45sy86CpbjMbcQz4OReyZFXMl7tX41V9gTrPt2My89Y+d/GY6vL0mcQhSZI0F9ijRZIkaSUSEQd1XV2d0htgC8rg+w/o6d2RmZdFxEspg3YHVAOOv6MMhD6GkiS5Bnh+n/r7A2XmLRHxQUoZsTtMcfgnq6bKLUrvhk0og+erUGZU71YNqk91+35uzMzXV9/PA54HPC8iLgd+C1xNGZR8FEtmZr9kwCD1qyJi+0FBZOYWg/ZV+y+JiCdSEhEvA15U9Qm5mPK7bkhJsqxJWWFxGtw+oPlMygz2b0/2Myh/xxdQEjOfmuLY2bI3ZVXKKyLiA0wjSVT5LqWJ+/YRcefMnE65ob2Ak+n/HJvp33t57RgRG0+yf//MPGc6d5SZl0fEAcAelFVdnfJodwTeBLwtIv5K6Vu0kFLiaXNKQuvvLN2HaTbsS0mgTfXa7ud4yt9lK+Dn3TsiYgfgjdXVfwCf6NPPB+CjVcIHgMzMqkfQp4GfRcSPKat6tq1ifGNm/r37Dqr3qBcDPwE+HRG7UF6LTwTuTnk+HtznZ7+Z8p76HOC8iDgbeBClYfzfgLdM61FY4gjKc/I/wCN73sM7zsvMj840jmrlzBe7NnV6xxwdETdX338tM7v7x+xOeYyeCvw9Is6qtm9BWWV3EUuSqt0/qwU8ifL/4xd9fidJkqSViokWSZKklcvLur5fTBnk+iklwXJQv2bSmXl0NQD3FmBrYMfqthdTZoF/KjP/MUQs36QMEi8z+77Hc7rivQ74N6VXwQnAkdNI8Dxnkn3XAp1Ey4mUFTbbUZqNP4wywHkTZWb7NyiD4YMaSG9YfQ0tM8+NiM0oM/Z3pvRSeDhlxv2/KSuOvg8clZk3VTd7PqWk0OmZOVWJqx9RkgkPjYgHVyXLRiozfx8RR1N+vy9SEnad1TaT3e6qiDiJ8jfaFfjcNH7WKRHxU6BfL5OZ/r2X10Orr0GOAaaVaKl8DHgNsENEPCgz/wx8EDib8js9lJIUWJfyuvkV5bnzxWmU2pqRzPxrRBwGvHSImx9JeV95IUtKDHas3/X9Uye5j4MoK166Y9ovIv4OvJ0lK5zOBj6emcf1u5PM/EW1YmgfSuLnocD5wCeAz2Zmu89troyIx1ASijtSkmD/BvYH9prmCpxund/5ziz9/t3tdMoqp5nGsQ4lIdfrYV3fn9i9IzPPioiHUUrFbQM8hfJefSHwVeATmXlVn/t8AnAv4HPLk6SXJEmaq1rt9jLnjpIkSZIkzYqI2I+yIuNRmfmbmsPRLIiILwOvBh5cJQklSZJWavZokSRJkiSN0kcovaHeVXcgWvEi4u6U1U6HmmSRJElNYaJFkiRJkjQyVZP2TwA7R8SD645HK9ye1eV7a41CkiRphCwdJkmSJEmSJEmSNCRXtEiSJEmSJEmSJA3JRIskSZIkSZIkSdKQTLRIkiRJkiRJkiQNadW6AxgHEXENsAZwWc2hSJIkSZIkSZKk+t0duDkz15vqQBMtxRr4WEiSJEmSJEmSpGLaOQOTC8VlAJl577oDkSRJkiRJkiRJ9YqIC6Z7rD1aJEmSJEmSJEmShmSiRZIkSZIkSZIkaUgmWiRJkiRJkiRJkoZkokWSJEmSJEmSJGlIJlokSZIkSZIkSZKGZKJFkiRJkiRJkiRpSCZaJEmSJEmSJEmShmSiRZIkSZIkSZIkaUgmWiRJkiRJkiRJkoZkokWSJEmSJEmSJGlIJlokSZIkSZIkSZKGZKJFkiRJkiRJkiRpSCZaJEmSJEmSJEmShmSiRZIkSZIkSZIkaUgmWiRJkiRJkiRJkoa0at0BzCELgPl1BzEiVwKX1B2EJEmSJEmSJEnjzkTL9Cxot9vZarUm6g5kFNrt9sJWqxWYbJEkSZIkSZIkaVImWqZnfqvVmjjr/Ou4/qbb6o5lVq19h1XY/D7rTFBW75hokSRJkiRJkiRpEiZalsP1N93GNTfeWncYkiRJkiRJkiRpTMyrOwBJkiRJkiRJkqS5ykSLJEmSJEmSJEnSkEy0SJIkSZIkSZIkDckeLVqRFgDz6w5iRK4ELqk7CEmSJEmSJElSvUy0aEVZ0G4vzlZr3kTdgYxCu714Yas1LzDZIkmSJEmSJEmNZqJFK8r8VmvexA2//xGLb7i67lhm1by11meth243QVm9Y6JFkiRJkiRJkhrMRItWqMU3XM1t1/2n7jAkSZIkSZIkSRqJeXUHIEmSJEmSJEmSNFeZaJEkSZIkSZIkSRqSiRZJkiRJkiRJkqQhmWiRJEmSJEmSJEkakokWSZIkSZIkSZKkIZlokSRJkiRJkiRJGpKJFkmSJEmSJEmSpCGZaJEkSZIkSZIkSRqSiRZJkiRJkiRJkqQhmWiRJEmSJEmSJEkakokWSZIkSZIkSZKkIZlokSRJkiRJkiRJGtKqdQfQLSJ2A77RZ9fHMvOdXce9EtgTWAAk8J7MPG4kQUqSJEmSJEmSJFXGdUXL9sBju76+0NkREbsCXwW+DTwNOBM4OiK2qCFOSZIkSZIkSZLUYGO1oqXLbzLzygH79gGOyMz3VddPjYiHAO8Hnj6S6CRJkiRJkiRJkhjfFS19RcS9gfsDR/bsOgLYJiLWGH1UkiRJkiRJkiSpqcZ1RcufI2I+cDGlTNjHM/M2YNNq/3k9x58LrA5s0mefJEmSJEmSJEnSrBi3RMtlwF7AWUAbeDbwQWBD4A3A+tVx1/Tc7urqcoPZD1GSJEmSJEmSJKkYq0RLZv4I+FHXppMi4iZgj4j4UE1hSZIkSZIkSZIk9TUXerQcCawCPIwlK1fW7Tmms9LlqhHFJEmSJEmSJEmSNCcSLd06/Vc27dm+KbAIuGC04UiSJEmSJEmSpCabC4mWXYHbgN9m5gXAX4Hn9RyzC3ByZi4adXCSJEmSJEmSJKm5xqpHS0T8CDgF+GO16dnA7sBnM/PyatvewGERcT5wKiXJsjmw5WijlSRJkiRJkiRJTTdWiRZKabBXAvekrLb5K/Bm4HOdAzLz8IhYE3hn9ZXATpl55sijlYazAJhfdxAjciVwSd1BSJIkSZIkSdJsGatES2a+CXjTNI47EDhw9iOSVrgFi9vtnNdqTdQdyCgsbrcXzmu1ApMtkiRJkiRJklZSY5VokRpg/rxWa+Lky8/kmkXX1R3LrFpv9XXY5m6PnaCs3jHRIkmSJEmSJGmlZKJFqsE1i67jypuvrjsMSZIkSZIkSdIMzas7AEmSJEmSJEmSpLnKRIskSZIkSZIkSdKQTLRIkiRJkiRJkiQNyUSLJEmSJEmSJEnSkEy0SJIkSZIkSZIkDclEiyRJkiRJkiRJ0pBMtEiSJEmSJEmSJA3JRIskSZIkSZIkSdKQTLRIkiRJkiRJkiQNadW6A5CkARYA8+sOYkSuBC6pOwhJkiRJkiRJy89Ei6RxtKDdbmer1ZqoO5BRaLfbC1utVmCyRZIkSZIkSZpzTLRIGkfzW63WxMKzfsni66+rO5ZZNW/tdZjYfIsJyuodEy2SJEmSJEnSHGOiRdLYWnz9dSy+5uq6w5AkSZIkSZKkgebVHYAkSZIkSZIkSdJcZaJFkiRJkiRJkiRpSCZaJEmSJEmSJEmShmSiRZIkSZIkSZIkaUgmWiRJkiRJkiRJkoZkokWSJEmSJEmSJGlIJlokSZIkSZIkSZKGZKJFkiRJkiRJkiRpSCZaJEmSJEmSJEmShmSiRZIkSZIkSZIkaUgmWiRJkiRJkiRJkoZkokWSJEmSJEmSJGlIJlokSZIkSZIkSZKGZKJFkiRJkiRJkiRpSCZaJEmSJEmSJEmShmSiRZIkSZIkSZIkaUgmWiRJkiRJkiRJkoZkokWSJEmSJEmSJGlIJlokSZIkSZIkSZKGZKJFkiRJkiRJkiRpSCZaJEmSJEmSJEmShmSiRZIkSZIkSZIkaUgmWiRJkiRJkiRJkoZkokWSJEmSJEmSJGlIJlokSZIkSZIkSZKGZKJFkiRJkiRJkiRpSCZaJEmSJEmSJEmShmSiRZIkSZIkSZIkaUgmWiRJkiRJkiRJkoZkokWSJEmSJEmSJGlIJlokSZIkSZIkSZKGZKJFkiRJkiRJkiRpSCZaJEmSJEmSJEmShmSiRZIkSZIkSZIkaUgmWiRJkiRJkiRJkoZkokWSJEmSJEmSJGlIJlokSZIkSZIkSZKGZKJFkiRJkiRJkiRpSCZaJEmSJEmSJEmShmSiRZIkSZIkSZIkaUir1h3AIBFxR+A8YEPg0Zl5dte+VwJ7AguABN6TmcfVEqgkSZIkSZIkSWqscV7R8j76JIIiYlfgq8C3gacBZwJHR8QWow1PkiRJkiRJkiQ13ViuaImITYH/B7wVOKBn9z7AEZn5vur6qRHxEOD9wNNHF6UkSZIkSZIkSWq6cV3R8jlKgiW7N0bEvYH7A0f2HH8EsE1ErDGa8CRJkiRJkiRJksZwRUtEPBd4MPAc4BE9uzetLs/r2X4usDqwSZ99krQyWwDMrzuIEbkSuKTuICRJkiRJkqRuY5VoiYg1gU8D787M6yKi95D1q8trerZfXV1uMHvRSdLYWdBut7PVak3UHcgotNvtha1WKzDZIkmSJEmSpDEyVokW4L3Av4Fv1B2IJM0B81ut1sQ/chE339iuO5ZZtcaaLe4Vq09QVu+YaJEkSZIkSdLYGJtES0RsBLwV2AlYt1rNcsdq9x0j4o4sWbmyLnB51807K12uGkGokjRWbr6xzcIbVu5EiyRJkiRJkjSuxibRQumvsjpwfJ99pwJnAS+srm8KZNf+TYFFwAWzGaAkSZIkSZIkSVK3cUq0/A7Yumfbw4D9gNcCv87MCyLir8DzgO93HbcLcHJmLhpBnJIkSZIkSZIkScAYJVoy8xrgtO5tVfkwgN9k5jnV93sDh0XE+ZSVLrsAmwNbjiJOSZIkSZIkSZKkjnl1B7C8MvNw4NWUMmI/Ah4P7JSZZ9YamCRJkiRJkiRJapyxWdHST2aeBrT6bD8QOHDkAUmSJEmSJEmSJHWZcytaJEmSJEmSJEmSxoWJFkmSJEmSJEmSpCGZaJEkSZIkSZIkSRqSiRZJkiRJkiRJkqQhmWiRJEmSJEmSJEkakokWSZIkSZIkSZKkIZlokSRJkiRJkiRJGpKJFkmSJEmSJEmSpCGZaJEkSZIkSZIkSRqSiRZJkiRJkiRJkqQhmWiRJEmSJEmSJEkakokWSZIkSZIkSZKkIZlokSRJkiRJkiRJGpKJFkmSJEmSJEmSpCGZaJEkSZIkSZIkSRqSiRZJkiRJkiRJkqQhmWiRJEmSJEmSJEkakokWSZIkSZIkSZKkIZlokSRJkiRJkiRJGpKJFkmSJEmSJEmSpCGZaJEkSZIkSZIkSRqSiRZJkiRJkiRJkqQhmWiRJEmSJEmSJEkakokWSZIkSZIkSZKkIZlokSRJkiRJkiRJGpKJFkmSJEmSJEmSpCGZaJEkSZIkSZIkSRqSiRZJkiRJkiRJkqQhmWiRJEmSJEmSJEkakokWSZIkSZIkSZKkIZlokSRJkiRJkiRJGpKJFkmSJEmSJEmSpCGZaJEkSZIkSZIkSRqSiRZJkiRJkiRJkqQhmWiRJEmSJEmSJEkakokWSZIkSZIkSZKkIZlokSRJkiRJkiRJGpKJFkmSJEmSJEmSpCGZaJEkSZIkSZIkSRqSiRZJkiRJkiRJkqQhmWiRJEmSJEmSJEkakokWSZIkSZIkSZKkIZlokSRJkiRJkiRJGpKJFkmSJEmSJEmSpCGZaJEkSZIkSZIkSRrSqnUHIEnSCCwA5tcdxIhcCVxSdxCSJEmSJElNYaJFkrSyW9BuL85Wa95E3YGMQru9eGGrNS8w2SJJkiRJkjQSJlokSSu7+a3WvIl//ekMFt1wXd2xzKrV11qHDTd7wgRl9Y6JFkmSJEmSpBEw0SJJaoRFN1zHwuuvqjsMSZIkSZIkrWTm1R2AJEmSJEmSJEnSXDV0oiUiXhoRG0+yf+OIeOmw9y9JkiRJkiRJkjTuZrKi5RvA4ybZv3l1jCRJkiRJkiRJ0kppJomW1hT71wJuncH9S5IkSZIkSZIkjbVVl+fgiHgI8LCuTU+MiH73sR7wWuCvQ0cmSZIkSZIkSZI05pYr0QLsBOxVfd8GXlN99XMNYI8WSZIkSZIkSZK00lreRMtXgOMoZcN+BbwfOKHnmDZwA3B+Zi5X6bCIeDqwJ/BAYB3gX8AxwD6ZeW3Xcc8CPggEcAnwkcy0H4wkSZIkSZIkSRqp5Uq0ZOZlwGUAEbE1cG5mXrEC49kAOAvYH/gvsBmwd3W5bfVznwAcDXwNeDPwZODAiLg+M7+7AmORJEmSJEmSJEma1PKuaLldZp6+IgOp7vPQnk2nRcTNwFci4h6ZeSnwPuCszHxtdcypEXEfYF/ARIskSZIkSZIkSRqZoRMtABGxHfBK4N7A+pSSYt3amXmfmfwMysoWgNUjYg1ga+AdPcccAbwgIjbOzItm+PMkSZIkSZIkSZKmZehES0S8Hfgo8G9Kv5Y/rqigImIVYDVKr5b3A8dm5kUR8cBq+3k9Nzm3utwUuGhFxSFJkiRJkiRJkjSZmaxoeRNwCvD0zLxlBcXTcTGwYfX9icALq+/Xry6v6Tn+6upygxUchyRJkiRJkiRJ0kDzZnDb9YHvzkKSBeDpwOOAVwMPAH5QrXKRJEmSJEmSJEkaGzNZ0fIrIFZUIN0y8w/Vt2dGxK+B3wE7AX+ptq/bc5POSperZiMeSZIkSZIkSZKkfmayouX1wM4R8cIpj5yZPwC3APcFzq++37TnmM713t4tkiRJkiRJkiRJs2YmK1q+Xd3+kIj4EvBP4LaeY9qZ+dAZ/AyAzYHVgAsy8+aIOBV4LvDZrmN2Ac7NzItm+LMkSZIkSZIkSZKmbSaJlquA/wJ/W0GxEBHfA86mrGK5CXgo8Pbq+jHVYR8ATouILwJHAlsDL6QkWyRJkiRJkiRJkkZm6ERLZm61AuPo+BUlYfJOSlmzi4CvAp/MzEXVzz0jInYGPgi8ErgEeFVmfmcW4pEkSZIkSZIkSRpoJitaVrjM/Cjw0Wkcdyxw7OxHJEmSJEmSJEmSNNjQiZaI2HI6x2XmT4f9GZIkSZIkSZIkSeNsJitaTgPa0zhulRn8DEmSJEmSJEmSpLE1k0TL1n22rQJsDOxO6bHyzhncvyRJkiRJkiRJ0lgbOtGSmacP2hcRBwE/A7YCThn2Z0iSJEmSJEmSJI2zebNxp5m5GDgCeNVs3L8kSZIkSZIkSdI4mJVES2UDYL1ZvH9JkiRJkiRJkqRaDV06LCIWDNi1HrAl8HZK+TBJkiRJkiRJkqSV0tCJFuAioD1gXwv4JfCaGdy/JEmSJEmSJEnSWJtJouUVLJtoaQNXA+dn5l9mcN+SJEmSJEmSJEljb+hES2YetALjkCRJkiRJkiRJmnNmsqLldhHxQGCj6urFrmaRJEmSJEmSJElNMKNES0TsAHwa2Lhn+4XAWzLz2JncvyRJkiRJkiRJ0jibN+wNI+LpwFHV1XcDO1Vf7wZawPciYvsZRyhJkiRJkiRJkjSmZrKi5X3AH4AnZuYNXduPjYjPA2cAewEnzuBnSJIkSZIkSZIkja2hV7QADwEO7kmyAFBtO6g6RpIkSZIkSZIkaaU0k0TLQmCDSfZvUB0jSZIkSZIkSZK0UppJouUU4E0R8djeHRGxOfBG4CczuH9JkiRJkiRJkqSxNpMeLe8AzgTOiIhfAVltD+AxwBXAnjMLT5IkSZIkSZIkaXwNvaIlMy+k9GDZH1gf2KX6Wh/4LPDQzLxoBcQoSZIkSZIkSZI0loZe0RIRqwILM3MPYI8++9eJiFUz89aZBChJkiRJkiRJkjSuZtKjZX/gF5Ps/znwqRncvyRJkiRJkiRJ0libSaJle+C7k+z/LvD0Gdy/JEmSJEmSJEnSWJtJouUewL8m2X8psOEM7l+SJEmSJEmSJGmszSTR8l8gJtn/AOC6Gdy/JEmSJEmSJEnSWJtJouVE4DUR8fDeHRHxCGB34IQZ3L8kSZIkSZIkSdJYW3UGt30fpU/LryLiWODP1fbNgGcBV1THSJKk8bcAmF93ECNyJXBJ3UFIkiRJkqSVw9CJlsy8NCIeBXwU2AHYqdp1HXAY8O7MvHTmIUqSpFm2oN1uZ6vVmqg7kFFot9sLW61WYLJFkiRJkiStADNZ0UJmXga8LCJawJ2rzf/JzPaMI5MkSaMyv9VqTdz4hytZfMMtdccyq+attRprPmT+BGX1jokWSZIkSZI0YzNKtHRUiZUrVsR9SZKkeiy+4RYWX7+o7jAkSZIkSZLmlHl1ByBJkiRJkiRJkjRXmWiRJEmSJEmSJEkakokWSZIkSZIkSZKkIZlokSRJkiRJkiRJGpKJFkmSJEmSJEmSpCGZaJEkSZIkSZIkSRqSiRZJkiRJkiRJkqQhmWiRJEmSJEmSJEkakokWSZIkSZIkSZKkIZlokSRJkiRJkiRJGpKJFkmSJEmSJEmSpCGZaJEkSZIkSZIkSRqSiRZJkiRJkiRJkqQhmWiRJEmSJEmSJEkakokWSZIkSZIkSZKkIZlokSRJkiRJkiRJGtKqdQcgSZI0hywA5tcdxIhcCVwy5G19nCRJkiRJjWGiRZIkaXoWtNvtbLVaE3UHMgrtdnthq9UKlj+J4OMkSZIkSWoUEy2SJEnTM7/Vak1cfPHFLFy4sO5YZtXExAQbbbTRBGVVyvImEOa3Wq2JhQvPZvHi62chuvExb97aTEw8atjHSZIkSZK0kjDRIkmStBwWLlzITTfdVHcYY2/x4utZvPjausOQJEmSJGnWzas7AEmSJEmSJEmSpLnKRIskSZIkSZIkSdKQTLRIkiRJkiRJkiQNyUSLJEmSJEmSJEnSkEy0SJIkSZIkSZIkDclEiyRJkiRJkiRJ0pBWrTuAbhHxPODFwCOB9YG/AfsD38jMdtdxrwT2BBYACbwnM48bfcSSJEmSJEmSJKnJxm1Fy1uAG4G3As8CTgC+Cry/c0BE7Fpt+zbwNOBM4OiI2GLk0UqSJEmSJEmSpEYbqxUtwLMy88qu66dExJ2At0TEBzJzMbAPcERmvq865tSIeAglGfP0EccrSZIkSZIkSZIabKxWtPQkWTp+C6wDrBUR9wbuDxzZc8wRwDYRscYshyhJkiRJkiRJknS7cVvR0s8TgH9l5vUR8cRq23k9x5wLrA5s0mefJEmSNI4WAPPrDmJErgQuqTsISZIkSZoNY51oiYgnALtSerYArF9dXtNz6NXV5QYjCEuSJEmaqQXtdjtbrdZE3YGMQrvdXthqtQKTLZIkSZJWQmObaImIe1Ia3p8K7F9zOJIkSdKKNL/Vak2ce/213HjrbXXHMqvWXHUVHrD2uhOU1TsmWiRJkiStdMYy0RIR6wEnAP8FnpOZi6tdnZUr6wKXd92ks9LlqpEEKEmSJK0AN956G/+77da6w5AkSZIkzcC8ugPoFRF3AI6jJFOelpnXdu3u9F/ZtOdmmwKLgAtmP0JJkiRJkiRJkqRirBItEbEqcCTwAGD7zPxX9/7MvAD4K/C8npvuApycmYtGEqgkSZIkSZIkSRLjVzrsi8AzgbcC60TEFl37fpuZNwN7A4dFxPmU/i27AJsDW444VkmSJEmSJEmS1HDjlmjZtrr8VJ99mwAXZebhEbEm8M7qK4GdMvPMEcUoSZIkSZIkSZIEjFmiJTM3nuZxBwIHzm40kiRJkiRJkiRJkxurHi2SJEmSJEmSJElziYkWSZIkSZIkSZKkIZlokSRJkiRJkiRJGpKJFkmSJEmSJEmSpCGZaJEkSZIkSZIkSRqSiRZJkiRJkiRJkqQhmWiRJEmSJEmSJEkakokWSZIkSZIkSZKkIZlokSRJkiRJkiRJGpKJFkmSJEmSJEmSpCGZaJEkSZIkSZIkSRqSiRZJkiRJkiRJkqQhmWiRJEmSJEmSJEkakokWSZIkSZIkSZKkIZlokSRJkiRJkiRJGpKJFkmSJEmSJEmSpCGZaJEkSZIkSZIkSRqSiRZJkiRJkiRJkqQhmWiRJEmSJEmSJEkakokWSZIkSZIkSZKkIZlokSRJkiRJkiRJGpKJFkmSJEmSJEmSpCGZaJEkSZIkSZIkSRqSiRZJkiRJkiRJkqQhmWiRJEmSJEmSJEkakokWSZIkSZIkSZKkIZlokSRJkiRJkiRJGpKJFkmSJEmSJEmSpCGZaJEkSZIkSZIkSRqSiRZJkiRJkiRJkqQhmWiRJEmSJEmSJEkakokWSZIkSZIkSZKkIZlokSRJkiRJkiRJGpKJFkmSJEmSJEmSpCGZaJEkSZIkSZIkSRqSiRZJkiRJkiRJkqQhmWiRJEmSJEmSJEkakokWSZIkSZIkSZKkIZlokSRJkiRJkiRJGpKJFkmSJEmSJEmSpCGZaJEkSZIkSZIkSRqSiRZJkiRJkiRJkqQhmWiRJEmSJEmSJEkakokWSZIkSZIkSZKkIZlokSRJkiRJkiRJGpKJFkmSJEmSJEmSpCGZaJEkSZIkSZIkSRqSiRZJkiRJkiRJkqQhmWiRJEmSJEmSJEkakokWSZIkSZIkSZKkIZlokSRJkiRJkiRJGpKJFkmSJEmSJEmSpCGtWncAkiRJkjSJBcD8uoMYkSuBS+oOQpIkSdLyMdEiSZIkaVwtaLfb2Wq1JuoOZBTa7fbCVqsVmGyRJEmS5pSxSrRExH2BtwFbAJsB52XmZn2OeyWwJ2V2WwLvyczjRhmrJEmSpFk3v9VqTZx1/nVcf9Ntdccyq9a+wypsfp91Jiird0y0SJIkSXPIWCVagAcBzwDOovSPWaaHTETsCnwV+BBwCrALcHREPDEzfznCWCVJkiSNwPU33cY1N95adxiSJEmS1Ne4JVp+kJnfB4iIg4BH9TlmH+CIzHxfdf3UiHgI8H7g6SOJUpIkSZIkSZIkiT4rRuqUmYsn2x8R9wbuDxzZs+sIYJuIWGO2YpMkSZIkSZIkSeo1VomWadi0ujyvZ/u5wOrAJqMNR5IkSZIkSZIkNdm4lQ6byvrV5TU926+uLjcYXSiSJEmSNBYWAPPrDmJErgQuqTsISZIkqdtcS7RIkiRJkpZY0G4vzlZr3kTdgYxCu714Yas1LzDZIkmSpDEy1xItnZUr6wKXd23vrHS5arThSJIkSVKt5rda8yZu+P2PWHzD1VMfPYfNW2t91nrodhOU1TsmWiRJkjQ25lqipdObZVMgu7ZvCiwCLhh5RJIkSZJUs8U3XM1t1/2n7jAkSZKkRppXdwDLIzMvAP4KPK9n1y7AyZm5aPRRSZIkSZIkSZKkphqrFS0RsSbw9OrqRsA6EfHc6vrpmfkfYG/gsIg4HziVkmTZHNhyxOFKkiRJkiRJkqSGG6tEC3AX4Ds92zrXtwZOy8zDq4TMO6uvBHbKzDNHF6YkSZIkSZIkSdKYJVoy8yKgNY3jDgQOnPWAJEmSJEmSJEmSJjGnerRIkiRJkiRJkiSNExMtkiRJkiRJkiRJQzLRIkmSJEmSJEmSNCQTLZIkSZIkSZIkSUMy0SJJkiRJkiRJkjSkVesOQJIkSZKkEVgAzK87iBG5Erik7iAkSZKawkSLJEmSJGllt2Bxu53zWq2JugMZhcXt9sJ5rVZgskWSJGkkTLRIkiRJklZ28+e1WhMnX34m1yy6ru5YZtV6q6/DNnd77ARl9Y6JFkmSpBEw0SJJkiRJaoRrFl3HlTdfXXcYkiRJWsnMqzsASZIkSZIkSZKkucpEiyRJkiRJkiRJ0pBMtEiSJEmSJEmSJA3JRIskSZIkSZIkSdKQTLRIkiRJkiRJkiQNyUSLJEmSJEmSJEnSkEy0SJIkSZIkSZIkDclEiyRJkiRJkiRJ0pBMtEiSJEmSJEmSJA3JRIskSZIkSZIkSdKQVq07AEmSJEmSNDYWAPPrDmJErgQuGfK2Pk6SJOl2JlokSZIkSRLAgna7na1Wa6LuQEah3W4vbLVawfInEXycJEnSUky0SJIkSZIkgPmtVmti4Vm/ZPH119Udy6yat/Y6TGy+xQRlVcryJhDmt1qtiX/kIm6+sT0L0Y2PNdZsca9YfdjHSZKkxjDRIkmSJEmSbrf4+utYfM3VdYcx9m6+sc3CG1buRIskSZqeeXUHIEmSJEmSJEmSNFeZaJEkSZIkSZIkSRqSiRZJkiRJkiRJkqQh2aNFkiRJkiRJs2EBML/uIEbkSuCSuoOQJNXDRIskSZIkSZJWtAXt9uJsteZN1B3IKLTbixe2WvMCky2S1EgmWiRJkiRJkrSizW+15k38609nsOiG6+qOZVatvtY6bLjZEyYoq3dMtEhSA5lokSRJkiRJ0qxYdMN1LLz+qrrDkCRpVs2rOwBJkiRJkiRJkqS5ykSLJEmSJEmSJEnSkCwdJkmSJEmSJNVjAaW3S1NciX1sJK2ETLRIkiRJkiRJo7eg3W5nq9WaqDuQUWm32wtbrVZgskXSSsZEiyRJkiRJkjR681ut1sSNf7iSxTfcUncss27eWqux5kPmT1BW8JhokbRSMdEiSZIkSZIk1WTxDbew+PpFdYchSZqBeXUHIEmSJEmSJEmSNFeZaJEkSZIkSZIkSRqSiRZJkiRJkiRJkqQh2aNFkiRJkiRJ0jhbAMyvO4gRuRK4ZMjb+jhJNTHRIkmSJEmSJGlcLWi329lqtSbqDmQU2u32wlarFSx/EsHHSaqRiRZJkiRJkiRJ42p+q9WauPjii1m4cGHdscyqiYkJNtpoownKqpTlTSDMb7VaEwsXns3ixdfPQnTjY968tZmYeNSwj5M0K0y0SJIkSZIkSRprCxcu5Kabbqo7jLG3ePH1LF58bd1hSI0zr+4AJEmSJEmSJEmS5ioTLZIkSZIkSZIkSUMy0SJJkiRJkiRJkjQkEy2SJEmSJEmSJElDMtEiSZIkSZIkSZI0JBMtkiRJkiRJkiRJQzLRIkmSJEmSJEmSNCQTLZIkSZIkSZIkSUMy0SJJkiRJkiRJkjQkEy2SJEmSJEmSJElDWrXuACRJkiRJkiRJGpEFwPy6gxiRK4FLhrytj9NyMNEiSZIkSZIkSWqCBe12O1ut1kTdgYxCu91e2Gq1guVPIvg4Lac5mWiJiE2BzwGPA64Hvgm8NzMX1RqYJEmSJEmSJGlczW+1WhPnXn8tN956W92xzKo1V12FB6y97gRlVcryJhDmt1qtibPOv47rb1q5H6e177AKm99nnWEfp9vNuURLRKwPnAL8DdgZ2BD4NLAm8IYaQ5MkSZIkSZIkjbkbb72N/912a91hjL3rb7qNa270cZqOOZdoAV4LrAPslJlXAUTEqsAXI+LDmXlprdFJkiRJkiRJkqTGmFd3AEN4GvCTTpKlciTld9m2npAkSZIkSZIkSVITzcVEy6bAed0bMvMa4LJqnyRJkiRJkiRJ0ki02u123TEsl4i4BXhfZn60Z/ufgF9k5u5D3OdNlDJq/+i3f/XVV1/9Lne5y4Y337qYxYuHiXrumDcP1lh1HldcccW/Fi1atGi6t+s8Ru1FN0F7JX+QWvNorX6H5X6MYMnjdNNtN7N4JX+c5rXmcYdV1pjR49S++Waa8KJrrTGzx+nWW9rMsbfy5dZqwaqrtWb0ON22aCHtlfx112rNY5XVJ2bwHr6YJjyZWqsv//856HrN3Xorc+38aXm1Wi1WXXXVmb2Ht28GVu7HCVq0WjN7D7+lvZjFK/nDNK8Fq7Vm9rrzPHwwz8Onx/Pw6fE8fHo8D58ez8On1qjzcBj6XNzz8OnxPHx6PA+fHs/Db3cv4NbMvMNU92Oipdz2GmANyqoYSZIkSZIkSZLUbHcHbs7M9aY6cNXZj2WFuxpYt8/29YGr+myf0nQeKEmSJEmSJEmSpF5zsUfLefT0YomIdSnZpfP63kKSJEmSJEmSJGkWzMVEywnAUyJiva5tzwMWAyfVEpEkSZIkSZIkSWqkudijZX3gz8BfgQ8DGwKfBg7LzDfUGZskSZIkSZIkSWqWObeiJTOvBrYBbgWOAT4KfA14S41hSZIkSZIkSZKkBppzK1okSZIkSZIkSZLGxZxb0SJJkiRJkiRJkjQuTLRIkiRJkiRJkiQNyUSLJEmSJEmSJEnSkEy0SJIkSZIkSZIkDclEiyRJkiRJkiRJ0pBMtEiSJEmSJEmSJA3JRIskSZIkSZIkSdKQTLRIkm4XEf5fkCRJkiRJGsJ0xlUiYoNRxKLRWrXuAKTpiogtpzikDSwE/pmZl40gJGll9K+IOAL4Vmb+uu5g5qqIuDtwPLBHZp5edzyaOyLiNuAlmfmtAft3obw+VxltZJqrImI1YENgfaDVuz8zzxl5UJozImIL4NbMPHuSYx4FrJKZZ40uMq0MIuKBwL0Z/P70zZEHNYYi4h7AVsAGwH+AUzPzilqDGjMRsTawEYOfSz8deVDSSioiTgE+lJknD9i/NfC+zHzyaCMbK4dExIszs91vZ/W+fhKw2WjD0mwz0aK55DRKMmVKEfE3YK/M/PasRjQGImIx03xcujV9kC4i1gdewOAPd+3MfOXIA6vfBcAbgTdGxPnAoZRB3b/XG9Z4mcbsk7sCDwM27BybmVfNdlzjLCJawO7AK1nyuuvVzsymn5ssMzjQYxWGeM9f2fh8mlpErAd8EngRsHqfQ1qU51LTzwemcx61EPgncCrwicw8f9YDGwPVQMlPgJcCAxMtQADfjIgnZeYZIwlujFSDJetm5rld2zYD3gE8jvL+9B/KgMpHnBAGEXEfyjnmYxj8f68NNCrREhFfBL7endiMiI8AbwFW6zr05ojYKzM/PuoYx01E3An4PPAc+v8/839dxc+/U4uI909xyO2Te4GfZua/Zj+qsbQV8LVJ9t8FeNJoQhlbOwIHAq/o3RERmwAn0//8vFFWxvPwxn741Jy0PfAxYA3gq0Bn4Pd+wKuAm4APUmayvAb4VkTclpnfrSHWUdqXZd+YdgIeBPwIyGrbpsC2wJ+AY0YV3DiKiO2A7wJrAdcBV/c5rJEDmZn5+IjYCHgh5UR8b2CviDib8oH4286gA8qAyXQc0vV90z/gfZwyUPA7ynOp3+tOxaCZT+sA2wFXjjacseTzaWoHAc8CjgDOAq6tNZrxtS+wA+W86QSWPr/cHvgjcApwX+DlwAsiYsvM/H0NsY7aa4HfZOZhkx2UmYdFxP8Brwcal2gBvgL8D9gVICK2ojyX5lEej18D9wBeBzwvIp4w7oMEI/Bl4MHAm4Gf4Xt4x2spz5mzASLijcCelM90+wH/AO4DvBP4SET8PTO/V1Os4+KrlP91++NzaSA//07b3ix5HJZJRPVsvy0ivgq8ITMXjyC2cTPZ8+W+wPWjCmRM7QR8PyJuzszXdTZGxAMok1huBqaq2tMEK915uIkWzSXbUzKZm2fmou4d1eyf04AtMnPPiDiAcoK6J+WEYqWVmXt3X4+I3SkzCDbLzOzZ9wDKm9SlIwtwPH0KuBzYOTP/WHcw4yYzLwY+QvkAtxllNvQuwGeBT0XEycBhwNGZeUN9kdaqRRlU+Rr9By/Xp6wMOhI4b4RxjbOXAUdl5vPrDmTcRMReQGcGXRs4NCIOHXB4izKY0HQ+n6a2LbB/Zu5RdyBj7lJgPrBpZl7QvSMi7ks5v/xLZr49Iu4HnAl8GHjGqAOtwRMoM8Wn4xjgDbMXylh7FGUyWMdngYuBp2bmPzobuwZXPk6Zfd9kjwc+nJmfqzuQMbcHZdb807q2nRsRJwLnAG8Cmp5o2RbYLzPfUXcgY87Pv9NzT0r5598Cn2PpQd//Ax5C+Vx8R0qi+DWU84gPjjrQUYuIl1HOvzveGxGv7nPoepTH6YejiGtcZeZJEfE84Kgq2fLmiHgkcCJwBeUcoenjcrASnofb9FhzyYsoJYwW9e7IzIWUgd+XdV0/FHjgSCMcD28HPt+bZAGoShp8nlLKoMnuSxl88iRzCpn5p8x8V2beG3giZdbYI4CDgX9HRN8+Eg2wJXA+8GLKh5Z9M3Ofzhdl1iHA4V3bmu4OlAEmLetXwBeBL1ESKT+prnd/fYEyOPd8ykqOpvP5NLX/smSAQIO9HfhC74c7gKps5heAd1XX/wYcQCkH1QTzgemWubocuPMsxjLO1qWaHR4Rd6Cs1Phwd5IFbj8P/xywzcgjHD9X4iq7SUXEmpRKDQf17svMW4FvUcrUNt2NwEV1BzEH+Pl3er4InJeZr8jM32bm9dXXOZn5cuBvwEcz83eZuRtltdlL6wx4hNak/J/v/K9fu+t652s+ZaXGAZSqM42WmcdRqoS8vho3OZkyEWNLkyy3W+nOw13RMkZs4DaltSh9Dwa5O2VmQcc1wG2zGdCYuidwyyT7b6mOabK/UU4MtBwy8+fAzyNiH0rJhx0oM3peWGtgNcjMMyLiEZRZTB8E/l9E7DGoIaCAcmL5aEqJFXXJzBMoS6WJiLWAA2wqPSWfT1P7CrBrRHypoSUtpuuewK2T7L8VuFfX9YsoZWyb4DrgbtM89m7V8U10EWX2LsCi6mtQSZU2TnaEMlDy4oj4QmY28fPadNxC+Sz73wH7r8L6/lAmV+5EGSDXYH7+nZ4nM/mk1NOBj3Zd/yGlH95KLzO/RJkURkRcCLwpM4+tN6rxl5nfi4iXUt6rfg48MzObXlat20p3Hm6iZQzYwG3aTgHeHBG/rDLDt4uIZ1GWTncPcj6MZs5u+RNVxry3OVtE3JNSP7vpM1neC3yheowuqjuYuaCaobkDJamyLeWD3T+Bw+uMq06Z2QYOiIhvU5ItJ0bE8cBbmfxkoaleD/woIt4NfDkzBw0cNFY1e/UhwMMpPTU0mM+nKWTmByJiDeDsiDiE8p69zICm9f35M/C6iDgkM//dvSMi7kbpq/Hnrs33pqzeaIJfA89l6UGlQZ5L1VeigQ4B3hURh2XmbyLim8B7IuLk7hmrEXF/SlnRM+sKdIz8lfLZ9vcR8XVK7xHfn4q3RsSu1fc3AwH8oM9xmzD9noErs+8CT6rKqX2Fwc+lc0Yd2Jjx8+/03AxsTkkG97MFJZnesSqlnHRjVOMCx2BPn6VExB+mOGQhZXL4zyOis62dmQ+d1cDG30p3Hm6iZTzYwG163gCcSmko9S9K2R4oDQE3pCzB+z+AiJgAFlD6JzTNHpQlrH+NiKNZuq7ojpTE3YvrCW1sbEP5YHJuRPyY/ifk7cx808gjGyMRsQql8fYLgWdTVoxdSxlQOAw4vUo2NFpmXk1Z0fJlyvv4n4Hv4Mlnr6TM4v0A8IGIWEj/1926I49sTGTmjRGxCT53lhER17Ps47IqPp8GiogNKTMzH8bg8jJO5IG3UTXfjIhjWHLedF/KedNqwCvg9vPL3arjm+CrlNrinwTe3u9/fkS0KGUNH05JtjTRJ4CtKYMn36NMaNoJOD8ifg78m/JZ5XGUgZY96wp0jHy76/tBs8Gb+P50CbBB9QXl88oT6HmMImIe5fXW9OQBwBld3z+1z/5GTlqNiH79/Pz8O7XDKZ/r/ktZvXFhtX0TyiSfF1NKGXVsDfxlpBHWLDNvqvoC/3nKg5vlKib/DOeksP5WuvNwEy3jwQZu05CZl0TEg4HXUgZ/N6p2nQt8hjKj9Ybq2IXA0+uIs25VSaPNKYNPO1Hq2APcREnA7GVt1qWatT5zwDFtyiqpxomIJ1CSK88F7kSZtfNDSnLluH59kgSZ+Qdgq4jYhTLotEwJyIY7ChMI03Ei5X/cl+sOZMz4/Fl+X6f01PoIZYWU/RD6yMzTIuJxwD7Aziw5b1pI6QO0d2cmdHV+eY9aAq1BZh4dEQdT+kJtX9UX/xNwPaUEzYMptccfCHwzM4+uLdgaZeYtEfE0yuP0RmDXrt1Pri5voTRYfnfVq6Xptq47gHGUmRtP89B1Kaupm/6ZDuDldQcwpt4wyT4//w72Dkq5+rdQJrB2Sq/Oo3y2O6o6pjPo+xvgF6MPs3a/ATarO4hxkplb1R3DXFSdhz8W2JeV5Dy81W77mbVuEXEF5cljXdEBqn9iuwO/s1fN9FWznTrNyv5jjXZNJSIuYkkNzJ9Skivfzcxr6opJapKIeABlRdRvKcmWCymJ8qVk5lUjDk1zTETcAHwyM/eqO5a5ojpvukt19QrPm4qIeBvwTsos++4Pjy3KSvyPAZ9wlevtK3weSFlJfkfK+/elwB8zs1HlZQbxc52kcRcRDwe2Z8nk3ouBH1mCrqh6lf6QUpLuoMy0bLaWW0SsBjwAuCoz/7mynIebaBkDEfFp4MGZ2W+pqyoRcRPwxsz8at2xSCurqrboocC3MvOfdcczV1QNzO9BmYFxE3BpZ4WdtDwiovuEcuBJWmY2qgSGll9EnA/sn5mfrTsWzX3V4PgTKB+I16E0vj8POCMzl0kGS5Pxc93UqgGo+9Nzfgn8NTNvqTM2aWVU9Uo8FDgqMw+rO55xVo0ZzKes/rkZ+BfLTgxrdP+RiHgBsF1m7jZg/zeAEzLzyJEGNkaqUvULgbdmZr9yh3OSpcNqUGV/u30HG7hNx5+AjesOYi6IiPUppRzuDazPsiWM2pn5ypEHNmYiYgtK6YK7AF/MzL9VJ1ibUj7ENG7mYWY+pO4Y5orqdfZW4PmUXlG9+y8AjgQ+baPuIiIWAO9myetuh8z8aUTMB94PfCMzf1tnjGNgXyyRNaWIeCPwjMzcbsD+E4BjM/NLo41srHyK0lzywCb+PxskIt5PeY19KDMXV9en0s7MD8xyaGOtKtfwk+pLA1TnkZtRerLcgdIk+a+ZeV6tgY0fP9cNEBH3oZQy3AFYs9rc6TMCcGNEHEupiPG3GkKsVUR8fYibNf6zbzUGtcWgKioR8XrgF5n5u5EGNkaqXolPYcz7P4yJqyg9R7LuQMbYHpQKBYPcVB3T2ERLZt4WERcDa9Qdy4pkoqUeZ7PsIEpnINwGboO9B/hWRJyamX7IGyAitgO+C6xFmW14dZ/DGj2IFxGrA0dQPsB0Xl8/AP5GqcN6ErAf8KG6YqxLRNyNMnvunO6BuWpW3fuAFwF3p8xi3Tszj60l0JpVDctPo8wyPJnyfLqMMiNjgvIYbU6p4fuSiNgqMy+oJ9rxEBEPBH5GqXF8FqXB3aoAmXll1RtoLaDRH4Qzc++6Y5gjXgmcMsn+v1BK0zQ50TJB6Qvx94g4ksGNb/cbeWT12pvyf/9jlB5ke0/jNm1K7ztVIuLJLH1O8NnMvLjeqOoTEfcDPkzpfbB6n/3/pJxb7j9XS2GsYH6u66MqV3Qa5b36MOBXLHt+uQWlj+IzImLrBk5QeTLL/1m20Z99Kx+iDOwOKlf/ZEqP20H9W5riDOCxgKvtJmE/kmkJSr/EQX5PmRzddJ8D3lBNDFspSmObaKmHDduG8wZK5vxHEXEh/evWtzNzh5FHNl4+BVwO7GzT+4E+QDmJfB1wKl0zMTJzYUR8h5KEaVyihVKD/QUs6dPS8Sng/1GaKf+ZUn/8qIjYpqH1tTsDk5tl5sCZPBERlMTdp4EdRxDXOPs4cA1lgKANXNGz/3hglxHHpLnrPsAXJtl/HvDqEcUyrj7Z9f2gprhtlryfNUJmzpvsupaIiL0pEwYWZOaVXdtfRekh1Zkotj3w4oh4TGZeNOo46xYRD6UMjq9CWfFzI2Wyxd0o//tWoUym+zTwlIjY0Xr2fq4b4FPAJcDW3a+5Hl+PiHdTPsN8EthmVMGNg8zcuO4Y5qhHAh+ZZP/PgHeNKJZx9gbK+9IHgQMspa0ZaAHrTbJ/fWC10YQy1lahlJ87PyK+C1xE//OBOfN5xURLDTLz4LpjmKMeQhkQuITyYrxvn2OcrVIel7ebZJnUC4AvZeZXIuJOffafCzxvxDGNiycBP8jMRZ0NEXFn4PWUx+UJmXlNRGwEnEkpndXERMvWwPsnS7IAZGZGxH6UEhBNtyWwb2b+Z8Dr7hJKqRUBEfF44BHAupRVQN0aX8aIshLhbpPsvztlhWKTbVJ3AJrztqbUD+9OstyBkjC4BtiZslL/GcBBlKa4rxp5lPX7OCVp8PjMvBxuXwl8CKU+++bAeyJiF0r9/z2AT9QV7Jjwc11/j6F8jhuUZAFuXwn8RcpzT5qOtYHJEryLKeecTfd7yjjpu4B3RcStlEHgbu3MbPRjFRFbTue4hk7I7Pgt8IKI+HT32ApARKwBvJDJS4s1RffEsEGVLebUxDATLWMgIlYF1szM6wbsXwe4sekzn5y9Mm1/o5xIabC7AJMlom5jSU3kprkX8M2ebc+kDPR+MjOvAcjMi6sGbk0t87SY6f8PXRUHfKE8h26cZP+dWfaDTONExAaU1T2PYUlpw86s8XbXtqYnWn4J7BYR+2Xm9d07ImJdyurhX9YS2Zhochmn5VHV+/83JRG8TFP3qp/b7pn5ipEHV7/7U1ZldnsqcEfgXZl5erXtyIjYBth2lMGNkccC+3SSLACZeUs1I/r3EfGgzPxzZn67qv+/Gw1PtPi5bqAbgX6TUfqZz7KzfhurKuv7NGCjatPFlETxhfVFNVb+RnmP/tyA/dsDjS5zXDmKZiZ5l9dpTO9xanL7g48CxwGnRsRHKVVBoPRxexfwIODZNcU2Tla6iWEmWsbD/pSZvpsN2P9zSh3yN40sIs1l7wW+EBHfamL5hmn6B6Xh/SCPB/4+oljGzQSlcWu3J1JOpE7u2X4+ZclrE/0YeFtVW/ycQQdVjSffxrIDVU10DmXW8zK1oasJB7vS8IHxyicoM31fSOllcwGwHaWsyh6UAb2n1Rbd+NgHOB34XUR8hqU/vLyZsqLlhbVEprlmN8r/uO0jYqc+5073AV4GNDHRsh6lP0S3rSmP13E9239DeZyaqM2y/Y+otrVYepb4mZTeNlI/xwDviIg/Z+bRgw6KiJ0p55ffHlVg4ywiPkUZK+ldAbw4Ij6TmW+rIaxxcyCwX0R8mjKx4BqAiFgP2IuSaHl7bdGNiczcre4Y5oit+2xbBdiY0iNxHqUkeWNl5gkR8Urgs5T39o4WcD3w6sw8vo7YxsnKODHMRMt42J5lZ5B3+y7wYhqeaImIBdM5LjMvme1Yxtw2wH+AcyPixwxuftvk59O3gLdExFHAX6ttbYCIeDXwfJp7YnAh8LCebVsDF2fmP3q235FSKqOJ3kyZyfPriPg1pXTKZZQVGWtQBnkfBTyaMlC+Ry1RjpePAMdFxJeAI6ptd61m974beACD+0g0ydOBL1cznzuzWhdn5t+B/xcR3wM+Q8ObJ2bmWRHxLEqfiM+yZFZdi/I+9uzMPLOu+OpQ9TlYDGxazaa/kKlnG7Yz8z6zH93Y+yxVGayIeEFm/rjugMbEvyiDJt2eRCkb9pc+x0+2anFldibw2og4qGvwskXpb7OIJYlgKKsVrl/mHhooIlahlOrdmrLa/P2Z+cdqVeI2wM8z8991xliDt1NmOR8VEZdTJqn0nl8+ArgrZTJG4wbGI+IC4M2ZeWx1/a2U8+zvUnrcnFsd+oBq+x4R8a+5VN9/luxP+Yz3ZuCNEXFptf0elEHxQ5hDpXlUr64VrcuIiIMoPX+2okwYb6zMPKj67LYtcO9q8/nASb0r8rXyMNEyHu5B+SAzyKVYtx5KUySXJ06te6DymQOOadPsxN2HKA25f0o5GW9TZvhsANwT+CHNPdH8HvDWiPgp8AvgpZQl+P1qQG9BQ5eYZ+alEfFw4P8Bz6GUUFuj65CbKeXp3gV8MTN7Vwk1TjWrZzfKgObu1eZDKQPj1wEvbXgd3471WDIo13ne3LFr/0nAh0cZ0LjKzB9HxH2Bh1NWHUD58HJOZjax7MPplP9ni3uua2pnU84NjgB+GBHvy8yP1hzTOPgZ8IqI+Epm/jMitqYM1B3S5zX2EMrkniZ6D+Wx+ntE/IRSzmkLSum1D2fmtV3HbksZPG+0ahb9iZQymf8D1mJJSaP/UQaFv0mZiNEYmXltRDyBkoB6DuX/25OAO1CeV5cBZ1CSCt/NzCaWpv0zJdnb8Wrg2Mx8fs9xZwG7RsQE8Bqa+9kOgOo9++UR8U3Kc6sz6Pt94KjMPK2u2MZJRLx0Osdl5mQTpRstMxdHxBGUz8HvrzueulUtIr5bdxzjamWcGGaiZTz8F4hJ9j+AMgjVdK9g2RdgZ3niS4ErgC+MOKaxk5m9S6bVIzMXRcT2lNINz6U8j9YA/kApvdZvAKEpPg48CzicJf0gkjIAdbtqpv2zaXCN8cy8gfJ4fbyauboBSz4IX9Xg59BAmXlI16ye+1Jm0J0P/MhZPbe7lKrJe2beHBFXAA+lfBCGMvHC51alGmT6TfXVaL3lLix/sXwy878RsR3l/92HIuKRlLJiTbY3sCNwfkT8k9LH7UZ6ekRV5R93pqEDCZn5m2pw/AOU0o5rUM6dXp+ZX+45fF8mn2DXFB+lrNzYjtIM+IrOjsy8LSK+S1nh2ahEC9w+IH5k9aUemfmsnk0bUybxDPIjSgURAZl5KnBq3XGMsYMm2dd9/m2iZXIbUCaPNV5EPIlSPru7f9Txk60Kaph+E8NWoTxejwf+RDlPmDNMtIyHE4HXRMRhmbnUE6iq77878J1aIhsjmXnQoH0R8THKrJV1Bx0jdas+xBxafamSmTdExGOAnSgznS4GjsnMhT2Hbkip59vIQZVe1fPpv3XHMRdUCaqBdcfFTynNpjvJzW9T6rXfRklMvZkyaCAgIlaj9Nxal2Vrs+MqKS2PKnH3rog4izLY8kvKSs9GysyLI+JRwFso5wQ/BvavShl224KS7PzWiEMcG1W/tmdM47ifjSCcuWBH4HPVysR+zd//iolO9RERX6eUWD2r2tSZkDLIQylltaXp6NeYuzO59/XAAprbj+x2k5T1X4/Sf/rtlJWejRURq1Mmr+5Imbx6TbVrPUoFkaOBF2TmLXXENy4mmxgWEQ+lfO49bGQBrQAmWsbD+yizLH4VEceydEPXZ1FOHt5XU2xzQjU4/A1KHdb9645Hc0+1ImFryizEM5o8uz4zb2WK5G5m/oGyAkhaLtXA+IbA+pSTzqVUg1VN9mngqRGxRmbeTJlR/iCWzCD/KfB/NcU2NiJiHqXvz+uBNSc5tNHlRCNiHcpj1OmB8JrM/FVVKnM3SrmV3kHzxsvMY6pJB0dTzsEbu4osM8+nlMmc7JgzKOWMpOlal9JPa5DVcKxC/T0POIEyyRLKZ5Y3RcRFlOTdDQARsRalpParKL3tGsW+bcOZpDH3BcApEXE85Xk16f/FBriIwc+nFmWiymtGFs142osyefWTwKc6Pcci4i7AWynJqPfjWO9Amfn7iPgy8DHgkXXHM12evIyBqtb/oyhLqHegvBihlAs7DHh3Zl466Pa63TyqcitNFhGLmcaAQGY2dvApIj4EPC4zt66utyh9D55MOTG4JCK2qQYXJK0AVT32T1JK9q3e55AW5b2rse9NAJn5R0p/n871q4GnVI/fbU1OAvd4N+UDypcpA7yHAHtSZou9nvJcekddwY2DiLgnZTn+vYC/UVb+3BEgM6+KiNdQluU3uWcbwD70mTiQmX+tki17A/NHHdS4q8qF3Y/ynDrXXmRaTudTmroPsi3wlxHFojkkM9fu2fQ+Su+oDwP79jR5X5VSJquJfSLs2zY7jqNMfmp6oqVfWf82cDVwfmb6/g0vBA7OzKU+j2TmFcCeEXFX4CWYaJnKv4EH1h3E8jDRMiYy8zLgZdWA752rzf+xxv/UqtmaneWJc6p23yzZl8G9bHak1Iw+brQhjZ3nsKTfAZQ+LdtQmpn+njJwtzflH5+kFeMgyirNIyizEK+d9GgtJTOvqTuGMbMbcGRmvq6r7MxvMvOUiDgYOJOSPP9JXQGOgU8Aa1MGoK6gqwdC5RjgmaMNafxk5j6T7LuBcn7ZWBHxdOAFwK2UHnanRMSOwOeBu1eHLYqIT2Xme2sKU3PP14CPRcRpwMnVtnZErEEZFN+eUj5bmlRm3ghsExE7UHokdfognAj8EPgBZaLBufVEWA/7ts2a+1AqYDRKRHyacg7QGW87hTJeeVONYY27u7Nk5V0/ZwG7jiiWOan6jPdK4J91x7I8TLSMmSqx0vtBWEy5UqMFXEKZxdpombn3oH0RcXfKMs6/jiyg8bQh0F0qZWfgL5n5EYCI+BLwujoCk1Zi21Jq++9RdyDjLCJeOsUhbWAh5YTznKq8WBPdE/h49X3nMZgAyMxFEXEopa9E4xopd9kW2C8z/zKgB8IFlNUuAiLimZTm2xtXmy4CfpiZjZ2cEhHbUybn3ALcBLw4Il4BHEhZbfAdyufJ7Si9bS7OzK/WFa/mlM9SymIezpK69d8C7kR5Tn05Mw+sJzSNu4j4Wma+qntbZn6fpSfSdY59NCXhcufefVKviNhywK71KJN730iZqNI0bwbOZsnE5gspk1Ib25ttGv4JbAUcMGD/k5hjCYTZEBGnDNi1HiVJvjpzbAK0iZYaRMT7KQMlH8rMxdX1qbQz8wNTH7ZS67dS4/blicBJVW8JDZCZl0XEAZTliYfXHU+NbqWaiVKtItsG+GbX/n9jmRBpRfsvSyc41d9BLPlf19vDpnt7G7guIj6SmR+nef7LkjJY/4uI6yjNurutP/KoxssdmLwBcG/5lUaqyvIdTRlAuQ24rNr1FOA1EfEzYMeGrip7B/AnYMvMvKY6h/wy8GPgmZ2V91UZsV8CrwVMtGhK1XPn1dUKxOdSytDNo3ymOzIzf1pnfBp7r4iIVma+crKDImJrSvLFWfeViHgg5XxpUK/Eby5zo2Y5jf6Te1uUc4Tv0Mxeif9m6fPsZZ47WsbBwD4RcQ2wH+VzcJvy/+7NlH5Te9UV3BiZR/9x3gsplQm+npnnjTyqGTDRUo+9KU+cjwGLqutTabOkEW4jTbZSQ8vlBmCTuoOo2Z8oszIPo/REuhNwfNf+jYAr6whsXFQJqLWBRZm5sO545oKI2IIlDae/mJl/i4g1KTMx/mr9er4C7BoRX8rMxVMe3VwPo5yY/xf4AkuSU/ej1INej9KE866UD3ofiYjrM/NLI4+0Xr8FHt11/VTgzRHxW8oJ+xsppSCb7C+U5MGXB+zfEUuuQplZ/0RKj58v9TRSfj3wkeqYl9UWYX0eBHysK8m0P6Wc06Hd5Y0z89bqnOqDow9xfFT/8w8FjsrMw+qOZy7IzDMofbbUIyIuoAxu7paZ2Wf/DpRVi72TDJrgvcAHq2TLK/odUD0+R1CqhWw7yuDGUUTch/L+9BgGD5K3WXryYRNt3WdbZ3LvxZl53YjjGRfHA++PiG1ZsgrxrRExWemrdmbuMOuRja8PU0rN7Q68miX9kuZRXoMHV8c0WmZuVXcMK5qJlhpk5rzJrmtqEXEXuko7VA2lNIWI2Iwy+NT00mH7Uur1dpIpP8/MU7v2PwP49cijGi+rA1dRyu40cbb8tEXE6pQPcjuwZKXBDyjNpxcDJ1FmsXyorhjHQWZ+oKq9fnZEHEJZKn1bn+O+N/LgxssewL8zc/ue7X+MiKOBE4BXZuarIuJY4GeUweCmJVq+AuwWEWtU5dPeA/y0+mpRPhC/oMb4xsFngIMj4g+UGZgA8yLivpQZdI+l9Cxruh0pyfFPdm+sEi6fiIgFwFQl/VZWd6YM9HZ0zrf/3efYK6jK9zVVZt4YEU+hvE9rEhFxG/CSzOxbdiYidgG+lZmrjDaysbIxpdzxryLiZZl5TM/+O7KkH0mjZOaHq7LiH46IecDLu5O/EfEyyuq684GnZmbjy/NQJl08mDKT/meU8yT1yMzT645hTL2J8n9+a8okjDal/OwGk9ym0f2mM/M2ymeVT1NK03bery+mlKb9Q23BaVaZaNGcEhHbUFYCPbxn+2+Bd2Zmk5veAhARF9L/n9p6wLrAjZRBhcbKzB9HxCOAp1JmZHy7sy8i1qcM1C1T47dJMvPmiLicJb0PNNgHKA2lX0eZVX/7rMPMXBgR36EkYRqdaImIDSnNyR9WffXTBpo8qALl/blvX5HMbFfJlQ8Cr6rKjx5FA59bmXkscGzX9b9UszW3oiTwfpGZV9UU3ljIzEMjYiPK86XzHDmRkohaDLy7z8BdE91C1/t2H+dVxzRVe8D36u8MShLTEmqTm6rszCr4fIPSa2x74KiI+HBmvq/ugMZFZn60Sth9jDKJ4GXVedKbgE9TVmxun5mNrlLQ5fHAhzPzc3UHMhdExAaUEqIbV5suAk7OzP/WFVOdqsknt38+qRKdbx6ULBdUE3X+UyVUlkmqRMQdgDtn5iUjD27MRMSdKSvLl+mVCHwiM/tN8BlbJlo0Z0TETpQZmf+mzLDvrMoISnOkEyLi+Zl5dE0hjovTmbyXzRFNH3yCMihHKavSu/1qyoxylV4RL61KPS2qO5gx9gJKuZmvDGg4fS6lBmvTfR14BKUMz1nAtfWGM7bmUf6vDbJpdUzHzYDl/YDMvJaGJ8l7ZeaHqhVkzwHuy5IeCN/LzAtqDW58HAU8LyIOqGYf3q7qPfJ8lqwIaqKNq8kpUCbsANyvqjnerellaTveAPwoIj4IHOBM+kn1TaRExDrAdjS8jG/l6sx8VtXT9f3Va/GF1f+7xsvMT1TJlk8CrYi4iLLC9XTg2Zl5fZ3xjZkr8dx7WiJib8qg7xo9uxZFxMczczo9lld2W1M+4w7Uteq8qS6kjFMOSkY9u9rX6EmGEfEg4GRK+fWzWHLOfX/KZIOXRMQ2mfmnmkJcbiZaxkDVC2F34JUsaUzWq52ZTf97fZDSW+OJvSdNEfFhygyyD1IamjZWZu5WdwxaafyRMrv+zxFxEGVWwTLNJC31xF0oj9UgtwFrjiiWcfYESq1/m/5N7ljg9RHxd+BrnR5JETFBqe/7WrpW4VFmTv99mXtpiIh4Jn1mP2XmcXXFNG6qmXL71R3HGDsU+Dzwi4j4Ckv3RdqdUkrzsK5kAwCZec5Io6zPB1i2T+QX+xzXKZ3ZdL+nfMZ+F/CuiLiVZVcHtzNz3WVuuZKLiL2AzgBlGzg0Ig4dcHiL0hNIQGbuGxG/orxf/bqagCggMz9dvc4+Q3leHQs830liyziA0qP0C72TCrRERLyP8j51POXcoHty7xuA90TELZnZ6P7JwNMnK7MWEWtTXov9et40xVQrN1djSd+WJvsCJdm0eWYuVb4/Ih5DWdXyOebQc6npA/fj4uOUTN3vKCdP1svs796U8mDLzEzJzOsi4kDKTGlpUtVS1ykHAxpeFxrg8K7vB51MWuoJ/kFZZTDI42nwQHiXyyl9fzS5N1EaJ+4PfDIiLqu2350y4Pur6phO8uUmSomMRomI9SgTK7akJDM7j9NTgNdExM+AHbuaeDdaRNyRMpFnmQ99liyge6Dg0Sw5P2gNOKaTUGjC/76X1x3AHHQUJpwG+RUlSdei9Bb7Mcv2jWwDNwC/AZo+kWcpmXliRDya8rj8kgb3AoqIfkm4iymTny6lnD9172tn5ptGEdsY+yvl/9bvI+LrlM8v9kpc1muBH/Rp4n4hcGJE/IBSLrrpiZa3RMTCfhPoqlLsJ1EmrDRKtSJzva5Nd6pKiPVaD9iVJZ9fmuwxlLKGy/RIzsxfRcRnKZNX5gwTLePhZcBRmfn8ugMZc+dRTp4GuSs2eQcgItailAnprJDqHVhp+snmviz7IXgVyozoHSm12p0NPYdmDdTsW5STzaNY8h7UBoiIV1PKzryzptjGyaeA10XEgZn5v7qDGVeZeVVEPB7YiVI6pdM48STgR8Axmbm4OnYhZZVLE30WeCKltMOXqtrRnf9/r6dMvPgs5RyrkapE3F6UFdP9yhp2NCFhMBmTCQNk5sF1xzDXuLJ8sMw8gSo5UL1XH5CZZ9Ub1dySmRdGxGMpjc1fQnOTem+YZN9r+2xrU01SabDu1dCfHHBMUyYRTGZdSj+7QX5I6QfYdK8Cvl4lW26f7BwRd6Mk0e9O6YfbNHuw9MrNz1Rf/bSA985+SGPvCiYvg72wOmbOMNEyHu4ANL6J+zS8AzgiIn6VmUvVYK+WT78G2KWWyMZIRGxDqWu43iSHNfpkMzP3HrQvIu5OmSXW+KTdZMuBtZQPAVsAP6XUqm0D+1VNFO9JOSG3bA9MUBpK/z0ijqT/TLp2Zjb+scrMNmXGatNnFU5mR+CLmbnUYEGVcPlENXvspXUENka+SEk0HQP8DFdM92UyQRq9zDTBObW+PRCqSRYvq86l5o88qjGQmfOmPko9nEA3PT8HNge+NGD/5tUxjZaZB0fEGsCXIuLmqoTfxpReG3cAtppLPTVWoJOA/1GSKB+nVAjpLTV7+8rNzDx7tOGNpc8A/xcRh2bm5d07IuIelBVkn6khrqGZaBkPJ1NKFXyl7kDGSUQc22fzf4DvRcSlLCnFc1/gHpSB8f/DpNUXKG/cuwBnZeZ1Ncczp2TmZRFxAPA+li6d1VjVSdQjKCvKfp6ZNiftkpmLImJ74EXAcykzwdYA/kCZpXJINXDedN0D4oNmIrZpeFKqaur6kszs2zgxInYBvmVpQ26hrD4c5LzqmCbbmdLn5zV1ByI1SZXofTdlYPMuwA6Z+dOImE+Z6fqNzPxtnTHWLSKmlQjPzG/OdizjaqoJT5l5/Khi0dznBLppey2lRNh+lHGVC6rt96Z8ftkC2L6m2MZKZn6lWj39mer/20uAWyk9lc+vN7p6ZOaZwJlw+8rN72XmZL1cGyci3tJn8/8okzGPZuleiTtW16fqdzNWTLSMh9cDP4qIdwNfzsz/1h3QmHgI/ZdDd2qJb1xd3lptmwAePPthjb0FwJ6Z+eO6A5nDbgA2qTuIcRARbwT2piyjhrIE+JTqZOo84B2Z+fWawhsLEXG/zPwbpcdW36auEfGszPzBaCMbO76mpmeqE8lVaG6pkG5HAc+LiAN6m7pGxKqUkn3fqSWy8dFm2Vl0jVfVpm8Du2fmbdX1qbQz85WzHJpWAhHxQMoKsnnAWZQJYasCZOaVEfEEYC1KSb8mO2iSfd3/4xqbaAGIiFUoZUQnKwfd9F4R0tAi4nqWPa9eFXhj9dVpVt5ZRXUz8HuWfDZutMzcv5qU+THK2MBTMvPSmsMaC5m5T7/tEbE6sFqn7HEDDSpdCGXiaq+HVLeZM5MxTbSMh6S8cX8A+EBELKR/OZVGvZln5sZ1xzBH/QH/8Q8tIjajnFQ1vnRYRLycskzzCMoy2NsHo6rBglMoTdwanWgBTo6ILTPzon47I+JFlMdojZFGNWYy8+K6Y5hD+iZSqgaL2wGNW1UWEY/o2XQo8HngFxHxFZae/bQ7sDpw2OgiHEvfB55CqeWvJZ5MGTiZRznffjJTJy9Nbmq6Pg5cQ5n13GbZuuLHY6lj6D/5otMv8fWUiWON7bEFEBGPokwquCeDJ2G0sSm3pqH63DaVdmZuM+vBjJej8H/8lAZUm+n2P8r/vgMiorOtnZk7zGZc4ywidgU2z8w9urbtBbwHaEXEcZQqBk3rXbrST7400TIefHPXirQncHhEnGjNx/4i4kL6v+bWoySpbqQsU2y6twLfz8wXRkS/Rsq/oSSlmu5yyiqfLTPzn907IuI1lD4JR9QS2RiKiA2BLSnlVI7KzH9WMzbXBa7tXZ3QBNVJd3fjxEMjou/qKMpgy/4jCWy8nM2y79udgadHd+3rHow6nQY1da36QnX7AHBklYj6MmX17zKvr8y8agThjY3eiTxO7NEKtiWwb2b+Z8C50yXAhiOOaexMMvniAso51fGUMj3/b3RRjZ0vUnod7Aj8LDOvqTUazXXzWPY8ahVgI+BelAkr/xp1UHXLzN3qjmGOGFRtpuO/wN2rr46mj3G+Fbi9TGhEPA7YizLh4lxK24P3AO+qJbqaNGHypYmWMeCb+/RU9Y4XZOYZXdseSnkDWwM4PDOPqSm8sZGZp0fEm4EzI+JcBjecbuzsAsrgW+8//jalUfD5wBFNG3ga4L5MPqB7FdBvEKFptgVOZUmy5XKAiHgH8FHgq5R6v40WES3gU5SBk1Upr7k/Av8E7ghcREk2fKaeCGv1K8qASosyk/fHLLuq7vbGicD3RhrdeLBx8tSupH8y6uFMXqaoMckoaQTmUSbsDHJnSukZTe44SrK4yYmWhwDvsfSsVoTM3GrQvoh4JqVfcL/eCZKTUoZzH+DgrusvpEzQ3Ckzb42IecBzaFiiZToiYk1K5ZQ1gB/OteSMiRbNJftTBuOeAhARd6UMbq4OXA88NyKel5lNHIC6XUQ8h1JSZRXKUvO1+xzW9NkFr8jMxZMdEBEbmGzhGmD+JPsfSDlZaLTMvCYingqcRkm2bAW8GXgn8MnMfEd90Y2VtwNvotTwPZmSTAAgM6+NiO9RTjY/U0t0NcrME4AT4PbGiQdk5ln1RjVeMvPgqY9qvH3x//vQImILljQv/2Jm/q36oLcp8NcGlnboKyJWozwm67KkZv3tMvOnIw9qvJwDPIOSPF9K1T9qV+CXow5qDroPDS+5SpmIMqcaAGtuyszjqpXUnwGeVHM4IxURL62+PSQz213XJ5WZje4fpWlZA1jYdX1b4ITMvLW6/hfKBLtGi4gDKSXWNquur045T9qsOuTaiHhyZv520H2MGxMtY8A382l7DPDZrusvpSyn3gy4EDgReBvNnOnb7aOUvj/PyczG9xkZ4JCIeHFmDuqDcA9KT5LN+u1vkB8Cu0dEv8GCBwGvxv4swO09a55CWS11LqUM3fsz84O1BjZeXg18MzPfPaCcyh+Ap404pnF0IWXlSl/Va+85mbnv6ELSXJCZe9cdw1xUfaA7AtiBMqjZBn4A/I3Sy+UkSgPOD9UV4zioZl5+hDIosOYkhzZ9hdRHgOMi4kssKRt61+oc4d3AAygrOxstIrYcsGs9Svm1NwLHjCqeMfUx4G0R8ZXMvK7uYMZNlRy/dbJS2VWfm1WcvDIt59PM96aDKP/3jwAWVden0gaaPjYHQESsTSk/tz59EsMNn3xxIWWS+Neq96L7UkqFddyV0tum6bamTBTveCFlHO5FwO8prTb2Yg6V9jfRMh4OmmRf90Bw09/MN2DphpLPBE7PzPMBqtnQH64jsDFzD+DtJlkmtSNwIPCK3h0RsQlltv3qI45pHL0XOAv4E2XQqQ28LCJeQVl5cBllBnWj9GnK3e0dwCGU9+sfdh+bmefMdmxj7l7ALybZfwOwzohiGWd7Uepk/2nA/s2qYxr12ouIYZK67cycrGSWBKU80TOB11FWSmdnR2YujIjvUJIwjU60UJIEb6f0+zmD8r9uT8rq19dTzhEav4IzM0+IiN0ok8N2rzYfShmAug54acMHnjpOo/8KvBal5PF3KPXrm2xtyiDc3yPiCAaXg95v5JHVLCK2Bn5CmXg5WU/SAL4ZEU/qLj+upVWr7Z5PKUHaNJsAZOai7uuaXDVp7vOUMYF+Eyw6E1eaPPniy8BnI+KBlEoz/6SUxex4PPDnOgIbM3ejlBDv2BE4OzMPB4iIr1LOP+cMEy3jod+b+SrAxpQPLguAl40yoDH1H0q2nIhYD9iCUpqnY1V8TgP8mvKc0WA7Ad+PiJsz83WdjRHxAMpJ+82U2XSNlpmXRsQjKQnMXSgnTC+hlOo7HHhnZjbxhLxfU+5uLcp79ku7rjf9RBNKovxek+x/JKVJcNNNVSZkA8qMu6Z5Msu+7tak9DuA0mMLyow6KOcMA1cGNUVErA+8ALg3/Wcbmowqj8+XMvMrA1bbnQs8b8QxjaPdgCMz83Vdj9NvMvOUiDgYOJPyOv1JXQGOi8w8pJoA9lTgfpQSa+cDP8rM62sNbnxs3Wdbp1/ixa7gAOCTXd8PWmnQpqy4a5rXUt5/DpvsoMw8LCL+jzKm0uhEyyQTVtajjKvcjQb2aOnt/TDXekHU6KvAsyjl/X/GkvNwVTLzcxGxEHg6pcfmxzLzJihl6imvuQNqDHFc3EB5H+okfbcCPte1/3pKudo5w0HpMTDJm/kFlHr/x1NOrprcDBDKB7c3RsR1lBffPJZeUv5Aykyfpvs/4AcRcU5mHll3MOMoM0+KiOcBR1XJljdXCYUTKYPBT83MS+uNcjxk5hXAq4BXRcSdKa+7/0zV42YlZ1Pu4XwPeG1EHARcW21rA0TEtpRBvI/XElnNqhIqW3Vt2jki7tvn0PUoSc8/jiCssdLbhLOaHXYSJRH8mU7SNyLmA3tQEp3PGHGYYyUitgO+C6xFmUnf70OwPV1KT5bJXlO3MXmprKa4J0veozvN3CegzASu6vu/hbLypbEiopWZ7cy8AUtfDZSZp9cdwxzgzPrBnkCZTT8dx9DMkli9+k1Y6SQ3zwC+lpknjTyqMRURawCPoJwj/Lyhkwsnsy2wn71IJ5eZX6UkpXq3XwU8avQRjaVzgFdHxKnAsymrOX/Qtf8+wL/rCGxYJlrmhuMoZQ2anmh5J3B/yuyeRcDbMvNCuP0f4fOBb9UX3tg4jPLaPrxaZvdP+i8zf+jIIxsjVdO/FwBHRMRdKDMN/g5sl5n/rTe68ZSZ/6k7hnFgU+6h7UWZwfo7ysynNrBnRHwAeCzwW5pb/nFryuMD5XHZufrq5y9YTgXKTKcTMvO93RurD8Lvqd7XP0epjdxUnwIuB3bOzMYl55bDPyjN3Qd5POX8oOn+C9wRIDP/V018unfPMesvc6vm+VdVbu7IzPz/7d13mCRl1f7x74KICAgoBhCR+N6AAcTXV0QEViRKVFSCAREkSMYfiiCSFpWck0pmQZYgOYPkHAQEjkhUJMMCksP8/jjVOz09PWnZ7aqeuj/XNddOV9dwHduZ7qrnnOec68oOxrqXK+sHNTvZwng4nqR392tttRas2MAkbQXsSm8V/fJkAfTswP3ADhFR9zmlr9K33ZMNoigQ+3Tx8NGIuLfMeCpmJ+BismvIGOD0iLi56fm1gK66nnKipTvMD0xfdhCdJunz5JvQiwAR8RTwVUmzAK819dGErLJfDu9oAXievBl+oOxAqi4izpT0Q7J39nXAqm7p0EvSLkOc0gO8Tibzro6Ix6d+VNatIuLFYnDp9sDa5O/OMmQ7ld2AfRrbqWtob7Iycwy5q25TcvBfsx7g1Yh4vcOxVdUS5G6NgdxBtoSqswXImW1OsgxuPLCdpDOAxny7xm67jclCnl8O8LN1cgfwpabHVwLbSLqDvA7fihxaWndXkTMAt5D0OHAamXS5efAfq5/iXm9Lsmp8FvL3qFlPRMzf8cCsG7xEtt0Zjk8U55sNSdKPgQOBU8md05MSKhHxrKQrgHWaj9fUSeQC+OFlB1JlktYA9ifHQjQffxjYLiLOKSOuKomIWyUtBCwJTGze8VqMjDicvLbqGk60VEDRMqSdWck5EVtRz63nd5DzIMYDFB9q4yLi8tYTi8U539wBEbFs2TFUjaS7hjjldWAO4DpJjWO13/VDVvI0tpj36+vfcvydYgfVFqO9rZiHco+cpA+QQ4HvjIg9gT1LDqlSis+wRs/eecn2fK+WG1XlPQ+sDBwxwPOrkEO66+wBcvu9DW4cmbi7mpzH0gMcUPTPngu4gHrOQGh1NLCBpOkj4g2yAvHq4msM2X6m7slNImJdSTMAq5KtHjcDtpX0CPBnMulyZ3kRVoOkZcmWvS+QVaxfAK4g29F9hRwQfFtZ8ZWhWHh7F1goIt4qHg/V3rGuyahbyKKd3w3j3LXJ37HaKT7HRqRoaVRn2wNnR8R6A8xtu41cn6u704FlJF1EXh/8i/5dVIiI2zsdWFVIWoUsnHuUbKt6X/HUwuR98ZmSVo2Ii0oKsTKKzilntzk+ETio4wG9R060VMNfaX8RNYZ8s5pAPduEvEbfntjLAn8sJ5TuUezQuDoiHhng+U8Dy0TECR0NrFzPM/iNiluFtTcXcD6Z9DyE3tYpC5LvSZ8nFxFmArYBNgH+w+hfRG/X43gotZ6DEBGvS/o9eWNyddnxVJlbhQzbUcDuks6m/fvTyvS2Y6urnYHDJI0f6JrAJs0XWQlYn1yQm5bcSX4X+RqeGBG1fg8HKKouz2l6fK+k+cnr83eA671Al4rk+QRggqQZyZ7j3yPnR/1C0gMRMVi7ujrYnZxHugTwfnI3514RcYWkLwMXAr8oMb4yXEVeL77b8tj6+wM5a3Nfcudmv9dJ0hhyx/AXyPf2Opqcts/TTvEoussC5ID3gTwPtEvA1M21Td8v3+b5MeT7V51/n35NXkt+rZjb1nCOpEPJ1/A3ZNFBbUmae4hTGl1Unu2W63EnWqphbJtjjcFkj0ZEXbe6/o1s5fAOvYOTvyRp0LYpEXHmVI+s2o4ldwI9MsDzSxTn1CbR4l0+k+1w4P6I2LDl+O3AjyWdCvwuItYmq1w/Rg6gHtWJFvc4nmz30LJt2vpzBevwRMSexXy2/0dWjjd7m3xvGtXvRcOwHLnIcp+kS2lfbdgTEVt3PLKKKW7cTiq++pC0iKTFIsJzAFsU7X37VSBar2Jx5RRJ5wIbkDuoFiw1qGpYHPhNRLwkqTHbZ1qAiLhJ0lHkjNILywqw0yJig8EeW6+IOEvS8cB2wEqSxpPXmS+TOzk/R+6wWwQ4ISLOKi3Yco0hi1fPJ3eJ2dAmkjOABrIIOfen7n5cdgBd4PPAr1qSLEBeG0g6jvrOJ232CMMrKnhd0jXAHlWfgedESwU096CzPrYmtyT+qXjcUxwbbEGg7llz6N/iqdWM5CJULUn6ILmQckZEnFx2PBX3dWCHQZ6/ir5b9i8A9p2qEVk32wkYL+nKiLis7GAqrF0F67TkAMWvkgsJd3Q6qCqKiF9LOogceD9pwCRwWUQ8W15klbFF0/etyaiGxrWVDWwtsvreiRZA0szk39tstLnmjAjvWiwU15yrk3N+ViJ3Sj3I4NXSdfE2uSgOubD5FvCxpucfIhc0zdqKiB9L+js5Q2tP+l47NdoZ/hLYp4TwquK35DyRtYH/IT/HTokIz7Ud2AXATyX1mz0i6TPAxng+CxFxfNkxdIHXgcHa9324OKfufkJ2vfgUcDJ9uxSsR97bHUvuNvs+cIWklSLiyhJiHRYnWqyyiqFICwDzAx8nW6yNA7xA16IYJrlY06GvSWr39z0rOWT5H22eq4WIeFXSN6hRhdx78AbwZeDIAZ5fAniz6fH7gP9O7aCsa21Bbre/uNi18TDFXJImPRGxRscjq5DBKlglLQpcTF6EGjmYlBxYai0ionWwtNlkK3rVHwp8m/ZFTW4TwqSZZN8kW4WtQrZBfoRMrvw5IpwoT/+k2NkTET2S7ieTmo3Pt2/iqnEAJE0HLATMAvR7X69zcjMi9i1a8CxFzj34EDn4/n7g2qKNX21FxE7ATpKWJBcstwf2knQ9+bc2wS0f+9kZuIksbDqX/Fz7kaQNyc+/J8jiC7OhXAFsLemiiLih+YmiReZWwCWlRFYtc5ItRBcoZrJMImlXssXaDBGxjaQ9yDlJvwGcaLG+JJ0z9Fl91HLxKSLeBgKIYnvweRFxU8lhVdFa9Pai7yFnZWwywLkTyfZOdXYtOWjzD2UHUnGnAD+T9Bw5cPrh4vi8wOZkRcFhTeePBe7taIQVIWllsn3B4uSNcLsq31ovPpHbp3uAx8iFuAXanNMVfVfLEhF/K9qp/B74YtnxVEVRYT/QAtRjnY/IbFT6A7AamTC4hqwWt/6eIZMr/yEHBP/Z9y5tXQBsKGnH4n5vf+BYSQ8Uz88P7FhadBUgaRpyR8Lm9J1b2qrW15cR8TpZiOlizAFExPXA9ZK2BlYkky77AgdLugTY0+9TKSL+I+mLZEun75H3dD8gd+CdAvzSu6ZTUVjwbXrvf1uvw3si4icdD6w6dgBuAK6VdDO5rgkg4P/I2WR1m0XWzqbA/q1JFoCIeF7SH8nd9/tExHOSjiFbR1eWEy3lWZXcJvYkQ7d6Ai8+ERHuAzmwo4HzyN+lm4Fd6L9jowd4BXiwuKGpsy3Iqvo9gSMj4t9lB1RRO5C7ybYjB7g2hnNOQ/6unVGc07jQug24vvNhlkvSt4HTyN7HpwKbkVvzxwBrAA8AfykrvqrwbJsp5incTgUASZuR70/zDXJarRegACQtQSbCPwYcHhEPFC2NFgL+ERHeiWjDsQJwQEQM1lLU4DgyuXLtUCfW3B7AQRRzoyLi+GIu57eLY+Mi4rjywquEX5GLSUeRRWInkotyE8nkSw+Dt/gdtYqZLIcWCYTG4PtPAU9GxJuD/nCNRcQ7ZJLzAkmfAo4nd97dQu7iqLVi9t+KwCMRsRGwkaSPkve+z0TEu4P+B2pE0qfJHQXzkO9Js5CdC2Ylr72fpeadLiLi4aLzzI7AymTiDrIV1kHkPMmny4qvQj7C4MUEMwIfbXo83DX00jjRUp7HgU+Sb0DjgVMjwtujm0jaZTJ+rCci9pjiwVRcRDwBPFFsLd8WONO9Vwf1N/L9b0dgR0lvk22ymvVExCwdj6xCigqx70n6HdlbvHkGwsURcXvLuXXdRr0jmeBciuxZvxlwTERcIWke4EZ6dwOZTbaidc9PgNonhyVtSu6ou5jslT0OOIAsYtmATEjVeg6CpPeTyd816G3rdC6Z/H2XbFdwAPnamQ3lVbIFlg0iIrYsO4ZuEBFvAc+1HDuJnKNoaQPgtIjYrPj8B7ituL48nqyU/jr13MmxDllk2Cjw+jB5rb082a7H2iiKLNYE1iVfqzfJFmJ/KS+qSnkTmEBWz98FEBHPlBpRde1DJleWIGdqPU0mEq4jW2JtQSataq1IpGxbfPUjad6IqPs6wS1ki7VzIuLu5ieKRNWW5FpLw8JU/F7YiZaSRMSnJC1Dbtv8NbCPpKvID7rTI+LlQf8D9bDrZPxMD1khVVfvktuAe6j5AtMQzsC7xAZVXIifBJwRESfj4duDWQTYMSLeKZJ2ANMBRMQjxTDFXwAnlBVgFRUDJZcGZgL+FhHuUQtIGmiBYFZyB8L7yRYGdbclmfBduViAGgecXyxA7Q3cSlZI1dke5A7qzciqw0bLAiLidUkTyCRM7RItkrYbwelfnWqBdJeTyFa1/QYEW1+SpiXbq36TvkUq5wEnF1XlZkOZC9i7+L5REPYBgIh4U9JJ5K7OX5UQWxVVusK5LMXc1pXJdafVyDXAi8hW4ucUxXLGpHlRDwCzlx1LF/g6uUv6ZkmNge9jIuINcm1zYeBA8nPQWhQJhF8Ca5P3dnW2JXmfcoekG8gZbpBtxr9Czt3aCiZ1UVkWOL3zYQ6fEy0lioirgKskbUFu2VyPHDJ5uKQLyZ0u5xZvVrXjIa4jVyz0PgpMX3YsVTbYsGlLEfGqpG/QvwWd9fcqWQFFREyU9AYwR9PzT5FzbWqnqb/4esDbwHERsZuk/clqscZNcY+k64CVIuLVcqKtjGnonwjuISs1LyN3S93f8aiqZ356Z0S9Vfz7foCIeLHo57s5sF8JsVXFusAREXF0UzV0s/uA73Q4pqrYd4Tn1644Q9LiLYcmAMtIuohsWfsvirZPzZp3u9aRpFnInXZfInv6P1Q8tTzZFmszSStGxEslhViKQYoIBtMTEctN8WC6x3NkMQoR8V9JL9G/VeZsHY/Kuoako8n3nQ8BVwPbkEW9E0sMq+r2AvaXNCEiYsiz6+uD9O5yfYm8TmruBnIDI7/WGhWKYsLNyHuVF4AJEXFW8dziwJ7kbp+38C5OIuIuSZ8jE08rktdPkAUqhwN7N1r9F4nhL5QS6Ag40VIBxdbps4GzJc0EfIscCPRncldHnXdo2MgdAmwh6U8R8XzZwVhXu5asIvhD2YFUXNB3ZsadwA+KSsP3kUmGug7k3ozsL34LmXD6VdHruNH26XLyNVqd3KXxa2o+/DYili07hi7xIsV1bES8JOlVsj97w8vAJ8oIrEI+Btw9yPPvMHhP5NGslsnvEbqV/gmmRnJ8+TbnN9rT1X0u0jjgi2SF5h+K+zyK9r4bkTvOxxXP10m7IoKh1H2Hwh30LjhBVvxuI+kO8vXcimyHbDaQjYDXgHPI1vWfBz4vaaDzeyJi6w7FVlVLkEnOeyT9lUwmvNZyjl+nvLedCyAi3pb0OPnanVk8vwjZzrdWirmIV1DsPix8r9hJ/T7g9+Q9yj7AQcUIgNqLiP9Q7FoZDZxoqZCm4VtrkFm613Ev5H4kzQgsQ9+t+FdFxCvlRVUp05Lbyx+UdDoDXxwc0OnAqkTS3ORW+8aA4DUi4mpJswO7AMdGRN3bZW0BXCxpT+DIRiWB9XMWsJWknxc7EMeRyfOJ5KLCjMCG5YVXqo3Idk6rAUj6GbnIdFhENF9MnVG8t69NzRMtxXyyMyPingGe/wzw7Yio60ykhnuARZse30hWil9ALkBtAvyjjMAq5F9ku7mBfJXe7fm1EhGPlh1DF/hx2QF0qbXIdip9WqwVCZcjinYqa1OzRIuLCCbL0cAGkqYvri93InclXE0moV4gdy7W1f9Kaizkzkxecy8ladZ2J0fEme2O18AM5PvScPSQO87rbIum7wfaUefXKZMJawC7FY+PI2ffzkZeh/+AerbN3oVcx10LuIYs7DmWnGU7A7A/MC4iXiwtQpvqnGgpWdFWZXnyImlNsrLwMmBj4CwnD/qStCW51W4m+lY5vSxpp4g4tJzIKqV5i+ZPBjinhxyAW0uSFiE/+KYBbiL7PzYqo5+VtBS5OD7Q61cXfyNflx3JC6e36e0R3dATEbP0+8kaiYh9afq7i4jzJC1L7k58h0w0XFlSeGWbj1woaLiA3HXXroXIZWTv6LrblVz8bptoAT4L/Ia8YK+zk4BNmxagfkP+DjV2j71Ftsuos/HAdpLOoDfp1AMgaWPgu+Q2fbN+IuL4smPoUh+haR5SG/eTg7vNBhUR55A7ERqP75U0P9mf/h3g+pp3L9im+Gq26wDn1nK3nVuxj5xfs2H7HfClpuvwvYA5yUKCdyiuQUuMryxfJgsKLy4e/73YzXI1sH9E7FBeaNUk6ZhhnNYTEV2zNudES0kkLUm2k/kOeUF+I1ldf1pEPFtmbFUl6YfAQWS/x4PJ3uIAC5NVYQdJejEiTiwpxKpwO4yh7U3uNliCvPB+uuX584HvdTimKjqDGvalnxIi4hoymVd3M5Mtnhpeavm32cv4umQ4PkwxE6jOIuJYskKs8fi6YrfPauQN3iURUfcdLePIz7mryWumHuCAYmjpXGTis7ZFFzYyxYyNcRFx+QDPjwV+HRFf72xklfNPsh3m4QM8vzrwYOfCsdGkqII+u+w4KmBs2QHY6CHpeuA3EXFp8Xhactfv37zzoL2IeIym1tjF7IyNiq86m5X+O+objydnVlkdfJ3+a07TkjNvpwWeAbpqA4IXNMpzLdnO6QLgFHpbhM1dtDTqp+7DJcmM+NXAchHRPHzzrqJF1uXA9kCtEy1uhzEsSwO7R8QzAwwIfgz4ZIdjqpyI2KDsGMzqQNLSZIVqw7ckLdDm1FnJJPBgczdqKyIeIgsyDIiINyWtBKxPVhhOC0wP3AXsDJwYEU6m23AtC/xxkOc/Rrb2rbvDgUOLNoYH0rvAIrL/+PL0bU1TG5LepWUxJSJqt8vA3ruIuKrsGGxUWQL4aNPjWcmZSMvjxfF+JH2QbE/7u4jYp+x4KmYMWfDVrPG4djNrhiMi5ml3vJhttwm5c7HdbMDKcqKlXDOQbS2+NcR5Hi6ZBPy8JckCQES8I2kCfdtm1Zpn2QxqGuDVQZ7/KP1bZJm1JWkM8FOy1dx8wGxtTuuJiLp+5q4iqTGU/IPk59l3JC3Wct4XOxpVtYwlW19Bvj7fYuBrg3upWW9/Gx5J+5PJkzuKx3MDz0TESWSrNbP3arDE3ALkzsRai4jDJX2MbMu3YsvTb5GFPkd0PrJK2BDvlB6UpHY7fgdT+xa+ZlPJmKFPqaeIeLVoKe51pfaa731h8Pvf2s9OHkgx2+7Qou3/ocA3Sw5p2Oq66FMFHjA5ci8C8wzy/Dy0b0dTO55lM6TbyTfqfm0dJL0PWIds51drRbu+IUVEHQfdNdub3HF3J7mY+UKp0VTPesVXs00GOLeuCzB7kxeQY8hWhpuSrfua9QCvFlvza6ddJfQw1C3BuQ1wK3BH8fhhchjp+LICsu4m6UfAj5oO7VzM92k1K/B5cqd+7UXErpIOBb5B34Kny+rcIjoijhvJ+ZJmrGGB2Exk14tL8fWkmVXXGcDako7w7uh+2t37Qvv731rPTh6mv5H3M12jTjefleIBk5PlfGBLSbdFxKnNT0j6HrkN/+RSIqsQz7IZlt8C50k6Amj8Ln1c0jfIWUkLU9O2Di2OG+S55guquidafgScERHfLTuQCvLMqGGIiNfIhRUkzUvuQhhs110d7U59E3HD9RS5q67B1Zj2Xn2Qvu1UZgbebTmnh6xqPZL8OzWgSKicOuSJNSJpg+EmW4pZUheQLX3q5BRyjs9KwEVkovycuhZZmFllnUoWrV4p6Q/kKITXWk+q4fgD3/tOecszeDeayhnT0+N7VusOkj4KXEW2EHsSeKB4akHgE8D9wDJ1rhQDkHQnOei9dZZNY7Db5cCsEbFYx4OrEEk/IBNSs9Dbnm8MuStqs4g4pcTwKkHSp9scnpbcPbY5MDfwo4i4r815tSHpZWD7iDi67Fhs9JE0O7AyORAwgHMjonWh0wxJfwR+SO7InAisSu5ueXyQH+uJiDWmfnTVI+kD5LDbt4HrIuLtYm7bL8lZbjOROxV/HxF3lRZoRUh6GNg6Is4pO5ZuIGlmcjfLbLRJekbE1R0PqmSS3gF+MlSyRdIcwGXA/0TEdJ2IrUqK+QdrkhXRK5CLl38hky6X+hrAbMoqdk2PJ7teQBYZ7AYcTe+aU7Pat3sqXrOGdovKY8jXqe7jD2wIknYZ4KlZyevxxcl5QL/qWFDvkXe0WNcoBpcvTm65W5nerfh3A78Hjna1D+BZNsMSESdKOpPMkC9Izm15ELg4ImrfYxwgIh4d4KmHgCsknU/u/PlZ56KqpMuBL5EX42YjJmldYCPge83FApK+ApxL70JdD3CzpG/UsJ2KDW1rsvXcWOAz5O/Lp4APD/Iztay4kjQXcA1ZMADwgKQVyQpyke1qpyV3uK4haamIuLOMWKtA0gzkQm8tf19GokjWHUrO4WwsMDXev5u/r+Pi04XAHyVNExHHtDtB0vxk26w5ad96ZdQrdrSOB8YXv0/fA9Yld/g8K+k04NCIiBLDtC5VDJieAXitmIFgaaStjmudaMGjEGzK2XWA4y+Q63ObAn/oWDRTgBMtVmmS9iRvhG+IiJeKRMpBxZe151k2Q5A0JiJ6ioXKv5QdTxc7D9gDJ1o2By6W9CvgqIh4ruyArOusC0zXkmQZA5xI7rrbnZy98U3yYnMH4DclxFkZw5gh1QO8DvwbuD0i3pj6UZWr+EybVO1VVBtuExGe0dLfr4HZyZaqT5E3eeeTu1j+t9HqQtJY4ExgF+BbpURaARHxmqSfAn8vO5Yu8AdgNbJ97zV4zkaztci+/kcXyZY/Nj8p6XPAxWSLutUi4tISYqyU4prycODwIgn1B/K68xncqs+GoZg/ugHwXeALNBVfSHqe3Ll5GnBcjRMvbvc0DMV1wOUR8aBHIdiUEhHTlB3DlOZEi1Xdr8jFkncl/R24lrxpuS4i/l1qZNXlWTZDe7zY2XNaRFxXdjBdbH5g+rKD6LSiVVhrVe/7yKTTHpJeB1p3lPVExCydiM+60qJkUqXZkuS8jUMjYrfi2PlFJf63qHmihZwh1Vwh3qy1cvwlSb+NiL07FFspil2aB0TENcWhscC9JYZUZcsDR0TE4QCSXiBbFW3d3E88Iq6UdCS546zubgM+W3YQXWAF8u9wh7IDqZqIeEvSt4AJwJFFsuVomLSD83zyPXv5iLixxFArRdKSZEHGd8iZSdcBV5YaVJco2mZ/EiAiHis5nI4r2s9eAiwG/IPcVfYEWYjyAbIt7f8BRwGbS1ohIp4pJ9ryDNLFwfo6ghxK/iCApFnJdmvrR8QNJcZlo1jxPr5yRJxXdizD5USLVd38ZP/sr5GLTpuRVTw9kv5FJl6uBa6NiHtKi7Jafgl8BThZ0n60n2Xzy5Jiq4qrgA2BLSQ9TlbxnBYRN5cbVrVIWnqAp2Yl+2VuRT13BJ2B26fYlPUx4OGWYyuQv2d/bjl+KfC7TgRVcYsBxwPPAYcB/yyOL0juspuVLCz4OLlr4beSXo6IIzoeaeesQb4/NVxB3hB7R0t/n6RvEqrxfbtWPPeT7fvqbhvgAkn3kJXPb5ccT1W9Sg4FtjaKWUjfIT/bDi92bz5Cvne9CKzoe7pJu3vWA9Yh22XfBewPnBIR/yozti6zAHAf8C71XPvan/z9WT4iLh/oJEnLkffD+wI/6lBs1n1aC5sas1tn6HwoNtoVRQbrk0UGH6GLWq7W8cPGukhEPEwuPp0Ek7LmSwJLkQmYtciL0B5JE4HrI2K1UoKtCM+yGVpErFv0G1+V7Hu8GbCtpEfIG7/T6tyLvclfGXi43TtkReKWnQyoCiJig7JjsFHnOfov5C4FvEVWkTd7BSf6ALYFnoqIlVqO3y3pLLJq8ycRsZGkc8jdsJuT1Xij1eNkW5DGrtXmuRDW13TAm02PG+1S2iUP3qbNMPMaOo5crDwKOLgoVHmt5ZyeiFi004FVzEnk/cnhZQdSVUWy5bvAqeTr9DbwL+AbEfFImbGVrWhDuy6wCHkPfDIwPiK8O3HyvAicQH0/C78J7DNYkgUgIi6XtC/w886EZWbWn6SFyeTKeuQ65itkS9Fzy4xrpJxoqRBJi5BtQhpDb/uIiBM6HlTFRMREchDgBTBpmNsqZL/6rxTf155n2QwtIl4jEwUTJM0IrE4mXbYFfiHpgYhYqMwYK2Bsm2M9ZL/xRyOi1rN+bPgkfZBcRPldROxTdjwVdBewjqQDiwWoT5LFBFe2SYzPD/yn4xFWz5o0zSNpFhE9RXJlT2CjiHhX0hnAuA7GV4ZTgZ8XC5gTi2O/k7TjID9T54XxdgtvdV2MG47nyaSwB3AP7nRgGUkXAUeTn32t7URpblFXF0XbsGYTgP8ld3UeACxeFItNEhFndii8qtiTTGCeCTRa8awkqbWooKEnIuo+lHtAEfEkOZ+krt4PvDzMc18uzjcz6xhJc5IFBuuT7bRfI3dJ7QzsFxFvDvLjleRESwUUg+1OIvtjDlQx10NWY9SepIXIBaivkhW/85M3MLeRPWtrT9JM5DbOmcmLpoeLIbnWRvHanCLpXPJifBzZfqbWIuKqsmPoBpK2Ar4ZESsO8PyFwDmjvGXRoCLiVUlvk1Up1t9eZEvD2yXdAixHVtzv3+bc1YBbOhhbVU0DaJDnFyrOaXiD7Ek+mu1ItlAbSy5c9pB/c8+VGVSFNSehGu0I/iip9X3K87WAiFi27Bi6xLVN3y/f5vnGTrOuaYExBZ1O/m9v3O82f38w7edt1fF1mgH4dvE1lB4ySWXWznXA1pL+EhGPD3RSUeCzNX3fv8zamVHSh4vvG//O3HSsj4h4vjNhVZekrwKLk9eTrYPfeyJij85HVS5JHwLWJpMrS5PJlXOAXwMPAX8HohuTLOBES1UcBXyO7H18DVktboCk95OVTo1WYUuS/fmeJ6t8jgWuB24udijUWlHttBOwBH3fxN+RdD0wLiIuLSW4iioq7VcHvgusRA53f5C84TOguHD6Bpm8g+ylfXlEePEu/YSchTCQe4GfMrpbFg3HGcDako6ICFeNN4mIayWtQw64Xw94lNyJ0ef9WtLXgXnJite6O4cc3PpP4I+NnT+SPgBsDGxK3/k2X6F3jsuoFBHvkBX0jeHS7wJ7RoRntPR3Nf13rzw9wLnPkTd9ZsPx47IDqLB2O6Wtr3nLDmC0kTQzMFtEPFZ2LCXYhlxfCknnAbcCT5DFJ9MDc5BrLauS86W2KydM6yJHFl/NBtt5WMdkOTBpDeV8egvq2xUa9AC1S7QATxb/XkDe+57bdC83f2lRTSFOtFTDV4G9IuKQsgOpoBfJqt4gEyq/IOew3F9qVBUkaVtygN075GyNe4D/AjORibylgQslbVv337ViIe6bZKuwVYAPksmDg4E/R8Qd5UVXLZJ2Jf/upm956k1Je0fELp2PqnLmJ4dxD+R+cuG37hq92K+U9Afyb65fgryO7VQAImIC2UZlsHOuIHcqWlZezk++b+8r6Yni+Bxk64ubi3Ma7/mv0X6H0Gg2L/BM2UFUkXdnTJ6iAnFzendNbRIRNxeLCRuQuzdHdUJzKBFxfNkxVJV3Sg8tIh4tO4ZRaCtgd2q44BsR90tajCzE/BZZWNjqGbJzyl4R8e8OhlcpRfsiImLA9rzFOT0R8cRA54xyu5UdQJfZB/g8mUi4iSzaWZGcv7UtWQS2cmnRlesDZNL3YeCh0TZD2omWaniWTChYf9OTiYPXyCqLV8jkgTUphkb9HrgRWCci/tXmnLmBU8gFqUtrnqx6hkyu/Ies/P1zRNxUbkjVI+nXwC5kJcahwD8aTwFbADtJequO211bvAl8YpDn5yAHCNfdX5u+/1qb5+vcTsVGKCKeL7bir0XetHy6eOoScmjiXyLi3eLc16lhsrOxYCdpXvJGrvEaPQpcGBEPlxVbt5E0pu478STNRbY4/BTwANmebyaY9Pe4Cfk7tnVpQZqZWR9Fy7DNyV3Ac5L3JTOQ6ytPDJZYqAtJXyQXwndg8KKcdYDfS1o8Iu7uSHAVEhFOtIzMKsBREfFnSR8pjr1bFKT8TNKZwIHkfJK6WQT4PpmE2k7Sg+Ra5SnAW2UGNiU40VINRwLfl3RY0fbBen2EbBfWmMmyMTC9pMfJnqPXF//e2VhQqalNyATUqhHRtvVcRDwmaTWydcrGwPYdjK9qjiOTK+5DO7hNyW2ca7Qcfxi4qJhpsxn13O7a7EZgA0kHRESfgZOSZiHbiNxYSmTV4nYqNkUVC99nMnjLglqTtB+58N3aE/pdSQdGxM9LCKtrFC1sNwB+DvxPudGUbh9yR91iZJu11lZrfyHbz9ReUQD1Y2A+YDbazB6JiOU6HpjZKCHphyM4/QtTLZAuUyRVap9YaeNnZEHhUPOODgA2JHdJ1a6Ax0ZsVnLWCPQWi8/U9Pwl5JzO2imKvncGdpa0FDmrZfPi2MNk8eVHBv4vVJsTLdXwD7KC92+SjgH+Re7i6CMiareQUCQNzi++kDQd8EV6ky87ka0LXpF0M3BdTVsZLQVMGCjJ0lBUHE4AlulMWNUUEVuWHUOXmAW4aJDnLwCW7UwolbYbWeV7p6QD6b2g+izZG3kOslqj1txOxayzJG1PtiY4HdgPuK94auHi+LaSHo+IWg5SLpIoq5Mt6F4AzmtU9hbz27Yg38M/Qc5uq7sVgAMi4t6mysxmD5G7XWpN0g/IGZJvka2P212btyZezGxkjqPvvIOh1HpHYqti5t+SZCL4GeDSiLit3KhKNRY4fqidqxHRU6yl/KgzYVmX+w9F14uIeEPS08CiwNnF85/E700Uxc/XStqS3AX0fWBO4EhJO5Cv13kR8dfyohwZJ1qqoXlY674DnON2KkBEvEVWht9Isa1T0urkDImx5KJvHRMt8wLHDPPcvwFrT8VYuoL7jA/LdcCXGXiI+5eLc2otIm4qdosdBRxE7wXTGLIiY/WIuKGs+KpI0hzk390/I+KVsuOx7iDpitZjEfH1MmLpEhuTn2WtPdlvAtYpZtdswtAVnKNO0T7lr2SSpbFQ91pxTfkmMJ68Ab4Z2BLvmoJsNTPYzB/Pj0q7AncAK0fEsyXHYjZavQDcSbZ6GspPyM+62pG0BzBnRPykeDwbcA6ZZGlOUo2TNB7YoKYdVuYgZ0cOx2PkIrDZUK4GlgfGFY//DOwg6R1yp/k2ZLtjAyLibfL96RxJMwPfJne6bEMWiHXNergTLdUwtuwAukWxo+VL5A6Or5IXCR8mLxTeBOpaifEhhj/n56Xi/Npyn/Fh25RsEXYAOez9oeL4fGSl7xLASiXFVikRcamkBcj2BPMXhx8Ebq97X/9mktYg50ktWBxaHrhC0uzApcDuEXFWWfFZ5XlI8MjMQyZ/B3Ix9X0PH0cWqewNXFN8vws5t212cmfi9z28u497gaXJooJ21iQTDHU3J7CvkyxmU9XNwELD2YUhqa6fcwDfIwsHGg4nC+V+VRx/mnzP2pgsXH2QTBbXzSvkmtJwzEbODjYbyv7A8pKmj4g3yL+tz9Dbdv1qspjHWhTt2I8DjiuKo75XbkQj40RLyYpqwkXJGSNXlx1P1UialUyoNBIr/wtMTyZWJgI3ANcWXzcXb2B1NC3D33bYQ/9e7XXjPuNtSHqZ/r9H7yP70G5F70D3xu/PG+QOqVk6EmDFFXOibqO+Cd9BFbt+ziTft8fTdCMXEc8Ws7c2AJxosbYiwnN+RqbRomAgizL4DoXRbHng2IjYsXFA0pPABLJd7Ro1n/3XzoHA8ZLuIl8ngGmKIoPfAF8hqw/r7i5c7WyTSdLpwInABUUnB2vvZmBFSR+LiNb7uFYTyV0IdTQXxf92SdMAawF7RcTvm855GPhV0RJyA+qZaLkLWI2iY8oQVi3ONxtURNwN3N30+AXgG8Ua5zuts12tvaKtb1ftvneipWQR8bqk35OLmE609Pdc8e8YcnbNWfQmVu5xpXgfP5S0xDDOq/swV3Cf8YGcgfuEDkvRv3924MmIeLPluQ3Jba5zAPcDv42IWzofZeXsAlwdEWOLv7tdW56/gZq2dhiMpM+QVeQzAX+LiEtKDsm6xwRga0mPAIc02vRJmpHclbgRuXheRx8n29A2azw+xkmW/iLiJEmfBvaktw3GReQ1+rvAryLiLyWFVyXbARMkXRgR15cdTJVIWpBcdDo4IgZs+SRpH/I9apGIeLhT8VXEN8nF8BeLWRAnuxizrb3JttmDzicFiIjDyJ35dfQyvQOlpwfeTxbJtXMn9Z09cgLwJ0lbRsQhA50kaQty1u1GHYvMRp2ImFh2DDZ1OdFSDfeQ7R2sv6PIlg7XRsS/yg6m4lYovoaj7ovp7jPeRkRsUHYMXWQXsrXaXGTbQgAk7QzsRv6NvUC2pVtR0pIRMdCNTV18llyAGshT5NyW2imqDH8LrAe8DRwXEbtJ2p9sYdjoo90j6TpgpYioXduCYobWiETE81Mjli7xa3Ln5l7A7pL+Uxyfk7wHuJJ6zrWD3An8esuxxuPhtmKtnYgYJ+lEcufKAuQO1weBMyPioUF/uD5+Qf4OXSPpXrKavHXmQU9ErNHxyMq3FfAksNMQ5+1EzpPciuzLXicfJf++1gM2BDYqdvyOB8ZHhCvpgaJwwDP+hnY5WYx5UES8Jul2MpHXbvf4muTuljo6HvgucKCkVYCTyKTwy+S6wOfIAd0rkK2OjysnTOsmkpYDFo+IfZqObUgWG05Pvq//vKZzkUY1J1qqYSdgvKQrI+KysoOpkojYvOwYukFE1L0V2Ei5z7i9V2OB8yLiv40Dkj4E7Aw8DiwTEQ9L+j9yDsIvgXVLibQ6XgVmHOT5+ejdxVg3mwH/D7iFTDj9StJHyWTeYeSN8vuA1YEfkAvoO7b/T41qk9PmqmsGJ05pRTJuuWI20srk7DHIXQgXAOfWfGfwPJIWb3rcaIO5oKSJrSdHxO0diariIuIxuqyFQ4d9niy2eIzcibhIm3Pq+ne3AnDqUC2xIuJNSaeSC8K1SrQU15XHk236PgqsQyZddgD+X5G8Owk4pfhbNBvMzmRL4ysl7UZea54m6TzgVPKa85PAj8lW7bWcFxER70paC9gX+Cn9i1fHkAnzo4Dta37tNCRJ8wGXkUUF8w91/ii2K03zJSV9jvwdugv4J73FB79v98PWvZxoqYYtgOeBiyU9TFYSvNZyTl0rn8ymhgNxn/Fhk7Q0uQg+G72V9Q09EVHHBZd5yFZrzVYht+T/vtHqIiJulnQsWSVVd1cCP5J0YOsTkj5BDuI8r9NBVcRGwPkRsRqApJ8BBwOHRcRWTeedUbR9Wpt6JlrGkNdH55PDym0YIuJs4Oyy46igPegdSNrs8JbHY8iF8dom7Wz4ImKesmOosLmBGOa5D9CbHK6liHgGOAQ4RNI8ZFvadcgdsOMkXQ+cFBFHlxelVVlEPCRpLDn35yLys2wMec+ycnHaGHLu5m8iovXzrzYi4nVgC0m/JV+bhYEPAS+RraAvjIh/lxhit5mG+hYVNCxM3/WCH5C/T1+LiFclHQn8ECdaRh0nWqqhufJpWnIrfqu6v0mZTTHuMz48khYD/ky+J7UmWBp6qGdl68z0332xNPl6XNxy/F6yFUTd7UTOQLiFTHD2kG3Vvk7OZhlDtl2ro/mA5oWSC8jFlSvanHsZObCzjn5LLjKtTc4bG09W9bq1qI3Uj8sOoBsUBSkj0RMRi06VYGw0eIPc5TMcM9LUmrXuIuIR8p5lnKTPk9dLawBfpe/1g1kfEXFn8TuzIrAcsCD5d/ga8B9yx8vZEfFUeVFWR0Q8Dvyx7Di6WdFKdJ6y46iAGcnESsNKwEVN7Z9vIVvS1ZKkOWHSsPvBzumJiCc6FtgU4ERLBbjyyazz3Gd8WP5IzszYFLgJ961v9ig5f6XZssBTEfHPluPvp+9FVi1FREhaCjiIrCIfQ7YwAPgr8LNiIaGOZqbv39dLLf82e5maXr9FxE7ATpKWJFupbA/sVVT1ngxMqPlMFiSdM8IfqeWO6Yg4vuwYusTz9C32mg5Ykmx7MeQQ6rqTNDPZkq5fi9+atn26H/gGWUgwlOWA+6ZuON1F0hxkG9r1gEbbw1vLi8i6RdHq6qLiy0ZA0kLAd4A5yPew4yKi9vd1Niz/Ar4EHFN0TvkssF/T8x8mCxBqR9IXyfWlHYD9Bzl1HeD3khaPiLs7EtwUUMsbdTMzGLjPeDEEb82I+Gnno6qUzwC7RMQfyg6kgi4BNpR0ekTcJOmHZOLliDbnfhF4pJPBVVVE/B34hqTZ6E1wPlS0xzAbloi4Hrhe0tZkheZ6ZF/tgyVdAuwZETeVGWOJGrukG6YB5gKepv/wd/COaRtERCzb/FjS7OTv0nYR0W7HnQGSNgO2I3crDqSOrej+DOwrac3Bdo4Xc6VWpbcYo7YkzUru4lwP+Br5e/MgsDvZNqy1uMfMRkjSFuS8jCUj4tmm46uRu/Df33T6VpKWaD6vLorZo/8cTlGTpHnJFlknTP3IKutkYBdJnyTXVV6gbyvfLwL/KCOwCvgZ+b99qM4oBwAbkn+fG0/toKYUJ1oqQtK0ZKZ8LFlBvktE3C1pFrKi5zpv5xycpEWAxSJifNmxWNf7AvATchhenT2AF+EGsgewJrnY+w75efoMeeM7iaQPksNc3dahSUS8QG6Xtl6rFLNqAD5I/u19p2jh1+yLHY2qwiLiHbLN2gWSPkUOEF6F/N2qZaKldZd008L4+l4YtynA1wRDkLQpcBjZRvQYst3TAWSicwNy+PTBZcVXssPJOSMTJP2RHOp+N7lTc2bgc2QblY2Av9F/XlItSPoAsDqZXFkRmJ68xjyCTK7cXGJ41mUkrQn8iGwVdmAxP3I+8r3pq+Q9zO3AbyPiutICLdfqwIMtSZb3kd0d3iHbjd4KfJN83XYCti0hzrLdQM4ZGQ8g6cPAv4GVI+KqlnOXBI4F6pxoGUcm6VYhx0RsEBETYdJrtyzZ6aGOxgLHF7vtBhQRPZImkO9hXcOJlgooKlUuAv4P+C/Zy6+xpfq/5MX4CcCvyoivi6xFLnI60WI2ZewK7CfplKJfrRUi4tliAXwjsmL1UeCYiHi65dTPktUsJ3Y2wvIVu3xGrMaVT+sVX802GeBcL3YyKZG5JtlKZXmyn//JwF/Ki6py/Lti1llbAhdHxMqSPkIutJwfEVdI2ptcrPtIqRGWJCLekLQimRTfhPYFTWPI++IfRkTtWqpIOoGcvTIT8Co5SPlk4JKiuMBs2IouDWeSa0r/BVaXtBxwFrkAfC3ZEnJpYAVJ34iIq8uKt0SLAK0dHMaSMzb3amo3+ndJi5IL53VMtLTObB0DfIB67tAcUkS8TSbldmrz3PPAJ/r9UH3MwfA7fjwGzDn1QpnynGipht+RW8lWBO4gKw+BrNaUdDr5Zu5Ei5l1TEScWVTVhaTLyYqV1pu8nojYuvPRla/YlbHPEOfcDNS18vC4Nscai76tF+rNi8F1TLTMW3YA3aKoMFyZTEqtRl7LXgT8EDgnItq1xzIz65T5yR0tAG8V/74fICJeLHZybE7fPu21ERHPAasWLWhWBxYGPkTOJLsfODcibiwxxLKtC1xKJlfOahqabDY5dgDuBJaJiJclHQacAzwBjC3uZZA0F3A98GuycKVuPkLO02i2HHl/clbL8euAb3UiKLNR7BVyRs1wzEYWHnQNJ1qqYU3gkIi4tKh8avUPcqu52Xsi6UPk71udq8ZtmCQtQ7Yp+CC5oNlOD1DLRIsNqTV5MCtZxfoiuWsziuMLkRXAM9Nl24KnBEn7AydGxB3F47mBZyLitXIjqx5JRwPfJhflrga2AU5vbMM3M6uAFynusSPiJUmvAp9qev5l6l3FCtS+EGUwc3punU1BnwV2j4iXi8cHA5sBOzSSLAAR8W9JRwC/LCHGKniK/u/LXyMXd//WcvzN4stsSJIWJlvPzUcmDPoVG0bEch0PrHx3ketL+w/j3FWL87uGEy3VMAvw8CDPT4f/v7IpYw6yyryHelaN28gcQlYYrg3cFBEvlRyPdZGIeLT5saRdyR7jK7T0Y71b0hnAJeQ2/B93LMhq2IZsJXNH8fhhmvofWx8bkT3GzwEeJwe/f17SQOfXdsed2ZQgafGWQ7MU/y4oaWK7n4mI26dqUNV3D7Bo0+Mbgc0kXQBMQ7bMquXwW0k/BS6PiAfLjqWqBkuySPo6OeNmDnL3z0Gt11pmLaYl50M1NL5/uc25db7PuxX4kaRDip0/nyHb+p9dtH9qthDZ5cFsUJJ+QM6peYssMHyhzWmtiZe6OAH4k6QtI+KQgU6StAWwDHkP2DW8eF8NDwKtNzLNVgDu7VAs1sUkTU+2oHskItplfZ+gfouYAEg6ZwSnLzDVAukuCwC/jIhLyw7ERoU1gZ3aDb2LiHclnQns2fGoyvcUWeXUUNcL7uGagZzJNhy123FXDNds1ng8c5vngEl9os3auZX2c37aDSkfU5xb917tJwGbSpq+mDHyG+Ayssc45ILLt8sKrmRHkIUED8KkOaW3A+tHxA0lxlUZRVHKDsDcLYO5NwKOovcaYSXg+5L+LyIe6XSc1jXuJwe4H108bnQoWJWc3dLsW8A/OxRX1ewG3AI8IOnvwBfJz7Pftjl3LeCKDsZWNfM0FWEMVnzhtsg57/YOYOXm93MDssvFd4EDi1lSJwF3k0ngmYHPAd8n18IvpX1L8spyoqUa/gj8XtJfgcuLYz3Fovku5IVUu2GBo56k7UZw+lenWiDd401gArmw1C/RUuxIOL71eE18npENBX5s6FNGvb/TewFl9l6NIavABrII9UwynA/sImkFYGJxbHtJ6wzyMz0RscZUj6xiImKasmPoAs/S/rOudUGlWd0Xxm1gtSzOeS8i4liygrXx+LqiOno1cs7dJRFRyx0t9P+MnxaYh0ygWxoLXNiSZJmBbK8ykVwMv5VcPD8O2Jkuq/S1jjoAOFXSjeQc4JXI9aZXJZ1N7hCeFvgesCzZyrd2IuLuYsfYTmTx043AvhFxW/N5kpYl24lN6HiQ1bFH8dVssOKLOpuT/D1ykqVFUWS5FrAvuda9QsspY8hrpqOA7dsValaZEy3VcBDwGeAUehdZxpNDud4HHBURfyontNLtO8Lzu+oPcEqLiB5JDwCzlx1L1UTEPGXH0IV+Dpws6eKil7bZe/EXsn3KI8CRjQGvkj5I9ovehBz+Wjdbkze/Y8lrgR6yn/9gAwJr/Vlng9od/37YFBIRdS3OmaIi4iHyfs9sKP9DtlJttjwwE7BjRFxVHDtN0nL0X5wymyQiTpP0cWAL4NPAGWQy5TXgdOAPxanvAn8CjiwjziqIiOvJBOZg5/yVrLSvKxdfjMxdZLLF2oiI14EtJP0WWBlYmJzD+RK5G+/CiOjKNn1OtFRAkZ3bWNLx5CyEBckevg8Cp0XE1WXGVzJvORy5vYD9JU2IiBjybLOBbU9u37xB0r3kLp93Ws6pZWU9gKQ5ASLiP0Oc0xMRT3QssOramnxP3xf4raTGazIHOYvsOnJeSa1ExCvArxqPJb0LbBMRntFiIxYRu5Ydg5mZTbZZyVbPzcaSCfTzWo7fBvyoAzFZFyvmH7SbgbCypHmBjwP/dNW9DcXFFyO2HTBB0oVFIs/aiIjHyS5Po4YTLRUSEdcC15YdR1VI2h84MSLuKB7PDTwTEa+VG1nlLQE8B9xTtKN7hKxaaeYBwTYcjXZrj5GVdIu0OaeWldOSvgjcRPbR3n+QU9chW0MuHhF3dyS4ioqIF4FlJK1BVq18unjqIuAC4Nxu2xY8pUiaLSIaAxLHAveVGY+ZmQ2fpHZzEQfTExGLTpVgqm/GpnlRniHV3+NkO7Vmy5BdL9rNbH11Ksdjo1hEPAw8XHYcZqPUL4AXgWtctNqXpL2AUweYK931nGipAEkXAicCZzmJ0Mc2ZA/aO4rHD5MDFF3lO7gtmr5fboBzajcg2EbO7dYG9TPgH2Tv48EcAGwIbAVsPLWDqqqiv/g44MqIOBs4u+SQquZJSReQrdPOLQYom5lZd3ievoUn0wFLkm1DXmj7E/V1JP3bE3mGVK9rgA0lHR0R/5Y0FliMLD5sLUb5PPCvTgdoo5OkmYHZIsJzSs2mDBetDuyXwD0Uc6UlfYRspb18RFxRZmBTghMt1TAfcBLwX0lnkUmXy+ta2dvkKfK1aajjkOQR87Bgs44YCxw/1Pt0MTdpAjVv7RARr0nahPbVmJZ9slcvvl6WdCaZdLnC1wJmZtUWEcs2P5Y0O7lgsN1oWDCYgnYrO4AusCuwJvCgpH+TM9tepWX4tKT3Ad8irx/MpoStyDlvdUtumk0VLlodsVGz3utESwVEhCR9Cfg+8N3i3ycljQdOjog7y4yvROcDu0hagdwuDbC9pHUG+Zlabr0zm9qKKqdZyPlRfdS08mkOsi3fcDyGB+FB9hL/bNlBVFFErF/s+lkTWA9Yn0zOPSXpFGB8RNxWYohmZjZ8TpC3ERFOtAwhIh6V9L9kb//5gEuBgyPiny2nLkFeV7nTg5mZWYU40VIREXELcIukbYHlyWTLJsB2ku4DTiAXWv5dYpidtjVZDTYW+Ax50/Ipevv5tuMbm0Ix3K55DsKjwIVFL1azYZG0Gb03ewOpY+XTKwz+XtRsNtxDG7Id5AWS7gGOi4i3S46nUorWoacAp0iajSy8WI983baR9AC5+3V8RDxUWqBmZmY21UTEg2SL2sHO8WxXG5KkH47g9C9MtUDMas5Fq/UypqfH69JVJWlW4CjgO8Whd4G/AgdExPklhVUaSe8C348IV+4MQdJ+ZKKq9Y38XeDAiPh556OybiNpU+Bw4GLganLGxgHA68AGZHu/gyPiuJJCLI2kKwEiYuwwzr0CmKa1tUjdFMOCZwc+DrxBDnxtnUtW5wHBbUn6JJlwWZfs094D3BQRS5YZV5VJ+hC5O4iIOKHcaMysbope488A33DrsJGTNC3wSajfApSkn5ItxB8sOxbrfsX6SQ/Db8nTExF1LKAzmyqGU7Rax7+54r1pZ+Ci4tAswOXAZsAt7X4mIm7vTHTvnXe0VJCkpcgdLWuTFdP3kDta3iKHKp8jaVxE7FJelJ0habaIaAyRHAvcV2Y83UDS9sC2ZM/e/eh9zRYujm8r6fGIGGqIdy0VN8c/Iy809xjq/FFuS+DiiFi5eF3GAedHxBWS9gZuBT5SaoTlOQH4k6QtI+KQgU6StAWwDLBRxyKrrueB54AoO5BuEhGPA/tIuojsnb0G8OVyo6q8OYDjyMWF2idaikXLdgnMF7zL1cwqaAHy/uVd6rdecQTwA+BBmFR4eTuwfkTcUGJc1p1eAO4EdhjGuT8hO6qY2RRQFK0eRhatHsMARatlxVcBe9Ayf4ws8m01hryn65qEVN0uXCpL0iJkcmVdYG6yZdbxwIktM1oOknQ0uRA86hMt5KyaC8ihwOdGxBtlB9QFNgbOiYjvthy/CVhH0gfIiygnWtqbnRxE2UP/N/66mZ+8OIBM9AK8HyAiXpT0R2BzMqFXN8eTrZ0OlLQK2dLpbuBlYGbgc+R7+gpkf+3jygmzOuq+o2dySJqb3t0snyUvNK8nPxNrS9L0wIrAIxFxV5tTngB+3NmoqkHSx4DryOvH3YvDs5KJ8dZt7C9JUkQ83cEQzUYdSYu3HJql+HdBSRPb/Uw3VWaW4EUySV7H1hutOw+mBeYBZuh8KDYK3AwsNJw5f5JW6kA8ZnXiotWBjer7NCdaKkDSneSi3BvA2eTC5cUR8e4AP3Il9amOPh1Yvfh6WdKZ5ALTFRFRx4vv4ZgHOGiQ5y8Gan0hJelC4ETgrGIuQrPHyN1Tlje67wOIiJckvUrOSWp4GfhEGYGVLSLelbQWsC/wUzKh0mwM8A7Z/nF7v1/ZcEmand75LF8hf5fuJ4srTo6IR8qLrjLeBCaQLTL7JVoi4iUyGVpHm5AFA+2KKfYF7i2+n4a8VtgEFxWYvVftEpkwSiozOy0iniSrfc3svbkZWFHSx4ZRVDGRvA82synDRasDiIhRfZ/mREs1TCQX6iYUiwNDORuYd6pGVBERsb6kGche6+sB6wM/Ap6SdAo5FHjICo2aeZr2LUIaFiX7RtfZfOQOhP9KOotMulweET1F4uWqUqOrjnvo+7t0I7BZsctsGnKB7h9lBFYFEfE6sIWk3wIrk+35PgS8RC6MXxgR/y4xxMopZmdsTiYzPwZsEhE3S/owuahyTkT8s8QQSyFpRmAt8nNuOWA6clfGgWRyxZXPTSKiR9IDZELB+vomcEZEvNxyvIcs4pk0L0LSEsCqONFi9l6N6spMM+tae5Mti14Y6sSIOIzeRWEze+9ctFpTTrRUwEjbqUTEq8CjUyea6ikWvk8BTpE0G72VvtsA2xSLLSeRSZeHSgu0OiYAW0t6BDgkIl6BSQt5W5C7oQ4sLboKiAhJ+hLZ2um7xb9PShpPLmreWWZ8FXISsKmk6Yu2fb8BLqO32ukt4NtlBVcVxQyNP5YdR9VJmotMYn4KeABYCJgJICKel7QJ8Glyl0LdPA18APgvMJ7enZsD7Ww12AvYX9KEiPDcn14L0X43T7tBuPeQn4Fm9h6M9srMMkiaGZgtIupYYT9jUYACOa8VYOamY31ExPOdCcu6TbEO8ErZcZjVlItWa8qJFusqEfEC2YrnKEmfpLd3/e7AbpJuiogly4yxAn4NLEYuQu0u6T/F8TnJv/krqcd8n0FFxC3ALZK2BZYnky2bANtJuo/sDT2+zjsSIuJY4Nimx9dJ+gywGtkW65KIqOXFgaS9gFMHmA9h7e1Dzq9ZjEwstLYw+AtZXV9Hl5HJlXOKnVI2tCWA54B7JP0VeARobQXZExF1S9zNQA7ZnCQinisKVf7bcu4ruO+/mVXTVuT9XR1brB1ZfDU7c5Dz6/gamZlVnYtWa8qJloqQtDKwHbA4OUCxX+VhRPgiqklRRb6PpIvIC/E1gC+XG1X5ih1Py0lag2xn9OniqYuAC4BzPS+iV1ExfjFwsaRZyUTed4DfAXsVC3gHRMT5pQVZIcWuscFmANXFL8kqlbsAigF3TwPLN7fmsT5WIP+W7i1er1YP0Xc7dW1ExBplx9CFtmj6frkBzumhfjukniHbY/YRES+2OXde4NmpHpGZmQ3XbmUHYGZm752LVuvLiZYKkPRt4DTg78CpwGZk65AxZPLgAbLS1wqS5qZ3N8tnydfqerIi2ICIOJuc52NDkLQUuaNlbXKL/j3kjpa3gA2BcySNi4ja7wSyQbVrzWO9ZmDw+VAzdyoQ634RMU3ZMVTU9cA6knaLiLcHOknS+4B1gOs6FpmZ1ZqkH47g9C9MtUAqLCKcaDEzG6VctFoPTrRUw47AzcBSwGxkouWYiLhC0jxkL7+HywuvGiTNTu98lq+Qi5r3k22wTo6IR8qLrrqKxZQFyVkI90VEa+uQWpK0CJlcWReYm9yNcDxwYsuMloMkHQ38jBq0XJM00lZYPRGx6NCnmXEvsDS5a6ydNYE7OhaN2eh0CDkL6QRJGxW7XPuQNAM5V2o+spjAzKwTjiN3Gg63MMU78M3MzKyrONFSDYsAO0bEO5Ia1YfTAUTEI5IOB35BVtjXSjHAfS0yubIc+bo8QQ5zPzkibi8vumqRtAqZNHibTBZcIWlN4FBgjuK0NyXtFxE7lxRmJUi6E/gc8Aa562dz4OJBBk9fCWzUmehK9zx9b2ynA5YkW2S9UEpENlocCBxfJPMmFMemkbQA2bP2K7hPrY2QpHnp2ybzUeDCiKhlgUpEXCNpT2Bnso3oWeSO6f+SBRefJZOaHwV+GxHXlBWrmdXOC8CdwA7DOPcn5OxEa0PStMAnASLisSFONzOzDnDRqoETLVXxKvAmQERMlPQGvQvjAE+RfbTr6GngA+QCwXiyNdgVgyyI15KklYDzyFZXrwHfl7Qh8CeyinwC+fe+IrCjpEcj4g9lxVsBE4GfAhMi4qVhnH82NfkbjIhlmx8XO8meBrbz7JF+5pG0ePH9LMW/C0qa2O7kuieGI+IkSZ8G9gTGFYcvIitb3wV+FRF/KSk860KS9iNnsLS2EXtX0oER8fMSwipdROwi6e/k/LqftjnlAWCbiDils5GZWc3dDCwUEbcNdWJxb2MDWwC4j7x+8pqOmVk1uGjV/KFcEUHuamm4E/iBpJPI/4/WA+paqXIZmVw5JyJeLzuYCtuBnCuydJGsO5Jsz3MpsGpE9MCkNmI3ApsCtU20tCYThnH+q2SVdB25bcPA9ii+mh3e5rwx5Os47VSPqOIiYlzx2fYtcpFgGuBB4MyiZ63ZsEjaHtgWOB3Yj1xwAli4OL6tpMcj4oCSQixVRPwZ+LOkBYGFgA8BLwP3e/CmmZXkZmBFSR+LiKeHOHci9b3/HY4XyW4Xvk43M6sIF60aONFSFWcBW0n6eUS8QVb6nk1eYPYAM1LTHtoRsUbZMXSJzwC/j4iJxeODySrWkxpJFoCIeFvSyWRFuZlNvh+XHUA3kHQtcA05cPu6iHghIh4Farn4bVPUxmQRxndbjt9EDoP/ANl2pta/axHxALmDxcysbHsDxzCMqt6IOAw4bKpH1KUi4klgg7LjMDOzQTkZXkNOtFRAROwL7Nv0+DxJy5IVv+8A50fElSWFZ93ho2SLuYZGldhTbc5ttGOrNUkrA9sBi5Ntn/oN5oyI2u9AsPYi4viyY+gSc5MzxnqAHkn3A5OSLxHxSImxWXebBzhokOcvBmrXekbSB4HZgScj4s2W5zYE1ifb094P7BURt3Y+SjOro4h4BXil7DjMzMzMphYnWiqqGE7qAaU2Ej0DfG8tJH0bOI0cEHwqsBk5A2gMsAZZ/fuXsuIzGy0iYm5JcwFLFV9LkgNuf0omXv5D7na5tvj6W/MuPLNBPA0MNjxyUeCZDsVSJbuQ7UHnopj/ByBpZ2A38vrgBbKd2IqSloyIv5URqJmZTT5JMwOzRYRbrJmZmVWEEy0VVMzRWBCYCbgvIv5bckjWHYY7mLsWQ92HsCPZJ3opYDYy0XJMRFwhaR5yjs3D5YVXnqbfoQYPebf3JCL+TSY0TwWQNBOZcPlq8fVN4DvF6S+Rf5NmQ5kAbC3pEeCQolIaSTMCWwAbAQeWFl15xgLnNV87SvoQsDPwOLBMRDws6f/IXT+/BNYtJVIzM3svtgJ2xzMAzczMKsOJlhJJWoW8uX0bOLFY5F0TOJRs6wDwpqT9ImLnksK07jHSwdx1tgiwY0S8I+nt4th0ABHxiKTDyXZHJ5QVYIlupf3vh4e82xRRLABfAlwiaQ5yYfhnwFfIgd1mw/FrYDFgL2D3YncUwJzk9e2V5O6OupkHOKPl2CrA+8lZbg8DRMTNko4FWmfcmJmZmZnZCLlo1cCJltJIWgk4D3gLeA34ftE7+0/AvWSl5vuAFYEdJT0aEX8oK16rPA/mHplXKVqqRMRESW/Qm9yEnG1T150//l2yqUbSZ8mdZI3dLJ8G3gDuAPYj24iZDSkiXgWWk7QGsDL5uwRwEXABcG5N29DNDDzXcmxpMil+ccvxe8kZb2ZmVgGSfjiC078w1QIxM7PJ4aJVc6KlRDsA9wBLFwu9RwJHAZcCqzYWB4o2YjeS/badaLG2PJh7xILc1dJwJ/ADSSeR74vrAbXsd+zfJZuSJC1DJlSWApYAZiUTmdcDhxX/3tY6tNtsuCLibODssuOokEfJ+SvNlgWeioh/thx/P9muz8zMquE4cuFtzDDPr2NBgZlZVblo1ZxoKdFnyBYOE4vHB5PDgU9qrsCMiLclnQzs2fkQzUats4CtJP08It4AxpELdRPJG5YZgQ3LC89s1LiS3Lk5AdgSuCEiHio3JBuNPN9ukkuADSWdHhE3FdXRCwFHtDn3i8AjnQzOzMwG9QJZALbDMM79CbDJVI3GzMyGzUWrBk60lOmjZFVvw9PFv0+1Ofdp4ANTPSKzmoiIfYF9mx6fJ2lZ4FvAO8D5EXFlSeGZjSZ3k4UF6wKfA66XdC1wfWNWhNlIeL7dkPYA1iT/1t4hr/WfIQcmTyLpg8BawNGdDtDMzAZ0M7BQRNw21IlFK3IzMzOrECdaytUzwPdm1mERcQ1wTdlxmI0mEbGopJnJQfeNuSzfBz4o6Wmyddh19LYQe6u0YK3yPN9uaBHxrKTFgI2A+chWYsdExNMtp34WOBk4sbMRmpnZIG4GVpT0sTbv260mUtNWx2ZmZlU1pqfH6/tlkPQusDM5tBVgFuByYDPglpbTVwF2iwgPSTKbCtxyxqxzJE0LLEYmXZYs/p0TeAO4NSKWLi86qzJJVwCz03e+3Q/JFnXt5tuNiYgvlhZwCSQtTX6OPVN2LGZmNjKSZiQ/5/7j4hMzM7Pu40RLSYpES+uLP6bNsUnHnWgxe2+G23IGqGvLGbOOkvQ54GvA+uSuF3/W2YAkPUXOt9u/eLwIcA+wfkSc0nLutsCeETFj5yMtT9Eu7AcRMb7sWMzMzMzMzOrErcPK8+OyAzCrE7ecMSuXpOmBLwNLFV9LkLs5IXezXANcW0501iU8325oY8oOwMzMzMzMrI6caClJRBxfdgxmNbMDWfnc3HLmKOBS2rec2RRwosXsPZC0Br2JlS8A05ELwc/Rm1i5lmwZ5hYZNhyeb2dmZmZmZmaV40SLmdXFZ8iWMxOLxwcDPwVOaiRZACLibUknA3t2PkSzUees4t+HgT9TJFYi4r7yQrIuN4+kxYvvGzuiFpQ0seW8eTsXUuU4AWVmZmZmZtZhTrSYWV245YxZ532PTKw8UXYgNmrsUXw1O7zNeQPNvauDkySdNMxzeyLC9wNmZmZmZmbvkW+szKxO3HLGrIMiYkLZMdio4vl2w3MZ8I+ygzAzMzMzM6sTJ1rMrE7ccsbMrEt5vt2wHR8R48sOwszMzMzMrE6caDGzOnHLGTMzMzMzMzMzM5uinGgxs7pwyxkzMzMzMzMzMzOb4pxoMbNacMsZMzMzMzMzMzMzmxrG9PS4O46ZmZmZmZmZmZmZmdnkmKbsAMzMzMzMzMzMzMzMzLqVEy1mZmZmZmZmZmZmZmaTyYkWMzMzMzMzMzMzMzOzyeREi5mZmZmZmZmZmZmZ2WRyosXMzMzMzMzMzMzMzGwyOdFiZmZmZmZmZmZmZmY2mZxoMTMzMzMzMzMzMzMzm0xOtJiZmZmZmZmZmZmZmU0mJ1rMzMzMzMzMzMzMzMwmkxMtZmZmZmZmZmZmZmZmk8mJFjMzMzMzMzMzMzMzs8nkRIuZmZmZmZmZmZmZmdlkcqLFzMzMzMzMzMzMzMxsMjnRYmZmZmZmZmZmZmZmNpmcaDEzMzMzMzMzMzMzM5tMTrSYmZmZmZmZmZmZmZlNJidazMzMzMzMzMzMzMzMJpMTLWZmZmZmZmZmZmZmZpPJiRYzMzMzMzMzMzMzM7PJ5ESLmZmZmZmZmZmZmZnZZHKixczMzMzMzMzMzMzMbDI50WJmZmZmZmZmZmZmZjaZnGgxMzMzMzMzMzMzMzObTE60mJmZmZmZmZmZmZmZTSYnWszMzMzMzMzMzMzMzCaTEy1mZmZmZmZmZmZmZmaTyYkWMzMzMzMzMzMzMzOzyeREi5mZmZmZmZmZmZmZ2WRyosXMzMzMzMzMzMzMzGwyOdFiZmZmZmZmZmZmZmY2mZxoMTMzMzMzMzMzMzMzm0z/H4oItAqEeVUJAAAAAElFTkSuQmCC\" style=\"display: block; margin: 0 auto;\">\n",
       "</div>\n"
      ],
      "text/plain": [
       "<IPython.core.display.HTML object>"
      ]
     },
     "metadata": {},
     "output_type": "display_data"
    }
   ],
   "source": [
    "colors = sns.color_palette('pastel')[0:10]\n",
    "v = data.loc[data.League_to=='1.Bundesliga']\n",
    "sns.countplot(x=\"Team_to\", data=v, order=v['Team_to'].value_counts().index, palette=colors)\n",
    "plt.xlabel(' ')\n",
    "plt.xticks(rotation=90, fontsize='12')\n",
    "plt.title('BUNDESLIGA TRANSFERS IN (2000-2018)', fontsize=15)\n",
    "sns.set_style('white')\n",
    "plt.savefig('output_bar.png', bbox_inches='tight', transparent=True)\n",
    "plt.close()\n",
    "\n",
    "with open(\"output_bar.png\", \"rb\") as img_file:\n",
    "    img_data = img_file.read()\n",
    "img_base64 = base64.b64encode(img_data).decode(\"utf-8\")\n",
    "html_code = f'''\n",
    "<div style=\"background-color:white; border-radius:2px; border:#000000 solid; padding: 15px; font-size:100%; text-align:center;\">\n",
    "<img src=\"data:image/png;base64,{img_base64}\" style=\"display: block; margin: 0 auto;\">\n",
    "</div>\n",
    "'''\n",
    "display(HTML(html_code))"
   ]
  },
  {
   "cell_type": "code",
   "execution_count": 37,
   "id": "c6ebebce",
   "metadata": {
    "execution": {
     "iopub.execute_input": "2023-11-15T06:18:30.961078Z",
     "iopub.status.busy": "2023-11-15T06:18:30.960305Z",
     "iopub.status.idle": "2023-11-15T06:18:31.511339Z",
     "shell.execute_reply": "2023-11-15T06:18:31.510273Z"
    },
    "papermill": {
     "duration": 0.585732,
     "end_time": "2023-11-15T06:18:31.513587",
     "exception": false,
     "start_time": "2023-11-15T06:18:30.927855",
     "status": "completed"
    },
    "tags": []
   },
   "outputs": [
    {
     "data": {
      "text/html": [
       "\n",
       "<div style=\"background-color:white; border-radius:2px; border:#000000 solid; padding: 15px; font-size:100%; text-align:center;\">\n",
       "<img src=\"data:image/png;base64,iVBORw0KGgoAAAANSUhEUgAABmMAAAHhCAYAAACSgcqxAAAAOXRFWHRTb2Z0d2FyZQBNYXRwbG90bGliIHZlcnNpb24zLjcuMiwgaHR0cHM6Ly9tYXRwbG90bGliLm9yZy8pXeV/AAAACXBIWXMAAA9hAAAPYQGoP6dpAABPWUlEQVR4nO3deZhkVX0//ncNAzSgIDhRE824xoPKT03igsa4hASEaCIugUiMJphIjMa4fTXuSzRqIl+XxBiNikmMokaNG4JR0K+KuETEKHyMIhARo8jqwIAw/fvj3pai6JnumZ7qqu5+vZ6nn+q699StT5253T233nXOGczOzgYAAAAAAIDxWDfpAgAAAAAAAFYzYQwAAAAAAMAYCWMAAAAAAADGSBgDAAAAAAAwRsIYAAAAAACAMRLGAAAAAAAAjJEwBgAAAAAAYIyEMQAAAAAAAGMkjAEAAAAAABij9ZMuAAAAxqG1NjuyaTbJZUm+luTtSd5SVbND7V+U5IVJXlxVL9qB53tDkj/pn+e2VXXu0L6nJXl1ks8m+dXh5x05xh8n+Yck/5nkXlV1bWvtnCS3XuDpP1VVDxw6zilJHjDS5ook5yY5IckrquqHW6lh9yRPTPI7Se6cZI8kP0pyfpJTk3ysqj6yQD3zaq19NMmhSX6c5OZVdcUiHvPrSR6T5FeS3CLJrkkuTHJGko8leWdV/WDkMS9K92+5kNtW1TlDj9tpr30rNfw4ySVJzkzyuSTHDT//Vh5/g/OxtbZ3kqcm+e0kv5BktyQ/TPI/6c6xD1bVp1trD0xy8mLqHfL2qnpca+1xSd42su+a/nk+n+Q1VfXprdQ+myRVNZhv+1aOeWqSV1fV5+Y53jnpfgYeVFWnbOU55+r9VFU9cCv1L+TFVfWixfwuaK0dkuQPk9w3yc8k2ZSkkrw/yd/Nd2631m6T5Dv93W8n2b+qrpmn3RuTPCHJH1TVcdv5GgAAmFLCGAAAVru397e7JLl9ujf175fkoCS/uzOeoLW2W5Ij+ruDJEcleflQk9cmObJ/7icm+bt5jvFzSV6V7s3px1fVtSNN/i3dm/nzOWsr209M8v3++59NcmCSpyU5orV276o6f6SGmyT5RJJfSvKTdG+Qfy/JjZL8cpInJfmNJNsdxrTWbp7k4P7ujZI8LMm/bqP93knekeQh/aazknw8yeb+tdw/yYOTvKy19pCtvEn/1SSnb6Osn/bnGF/7cA0zSW6e5N79sZ7fWnttkmdX1dWLOVhrbWOSTyW5TboA4LQk/5tkvyT3SPdvfECST6f7t3/7PId5ZJK9cv3zY85nRu5/e2jbXknunuTwJA9rrT2+qt66mLpHDNd04yR3S/LwJIe31n6vqrZ6XmyHb2X+1/7Y/na+n6fTFzpoa22mP+7vpAtev5Suf/ZJ93vlPkn+rD8nv7qNQ90+ye8n2ZH+AwBgBRLGAACwqlXV44bvt9Z+I8lHkxzZWntHVX14JzzNYeneDL8gXVDwmAyFMf0Il6OTfDnJX7XWPlRV540c42/TvaH7iqr6yjzP8YytjaLYhlcMhxSttZ9NFzjcKcmLkzx+pP1L0oURpyd5yDxhzb3SBSA74nfTBWLDfTTvm+6ttfXpRvDcN13Y8ITRN7b7USy/m24Ew6228pwf2I5RTuN67TeooX99RyZ5TboRLjdPF+Atxt+mC2JOTPLoqrpo6LjrkjwwyV2TpKrOSvK40QP0I2b2ysj5sRWfGf4Z6p/jVUmenuTY1trxVbVpkbWnr+t6NfXHfHmSZyV5XWvtPVX1k+055jzP8ZncMFhKa20ujNmRn6ekO2cPT/L1JL9bVV8bOvae6frmT5Oc3Fq7+zw/50kXKM4keV5r7Z/mGx0DAMDqY80YAADWlKr6eJJ/7u8+bCcd9jH97QvTTz/UWrvHyPN+Lckr040E+Pvhfa21R6R7g/e/04UkY1FVFwwd/5B5mjyiv33maBjRP/4LVfWSHXz6uT46Jt2IhN9ord1iK22fkS6I+Vq6qaluMMKgqq7qp3C6W7rAZqnG+dpHj3VNVf1LupEUP07y6Nbaby30uNbaHummeUuSJw0HMf1xt1TVJ6vqNTujzvlU1ZYkz01yabrw8MCddMwXpBsVdtMkd1nqMcehtXZkup/THyT5teEgJkmq6oqqelK6kTP7pptycD7nJ/lgktsm+YPxVQwAwDQRxgAAsBbNjTz5+aUeqJ/e6jeTXJXk3emm1kquCx+G/WW66bYOa60dNfT416eb8uiPqmrzUmtawNf725vNs+9n+tt515PZUa21O6UbdfK9JB9O8r50o2RuME1cP2rkz/u7T6+qK7d17Kq6rKr+eyeUOZbXvi39yJXX9Hf/bBEP2TfXzW6wbHWOqqqr0k0Dlsx/Hu3IMa9OF/Ak0zuDw9P625eMrlM04hnpfh88uLV25620eVG6n/nn9tMcAgCwygljAABYi27c3161E471O0l2T/Lhqro0yb/024/sg4Wf6t/E/qN0b8K+prX2M0n+Ot20XW+uqk/thHoWMvfa53sz+X/622Naa4N59u+ouWDqnf0oiLk++r152v5iumm7LkzyHzuxhoWM67Uv5F397X0X8ab8hemmuEq6tYcmaVvn0XZrrd023aiYn+S6oGdq9D+r90z3s/vObbWtqgvTTSOXXDeSabTNV5J8IMmtk/zhTisUAICpJYwBAGBN6d9on1sU/oydcMi5oOFfkqQfpfGFdCMGDh5t3K9l8fdJNqQbJXJ0uhEj/2cn1LIYc+uefGyefW/ub49J8o3W2l+11h7WWtvamiwL6vt7bj2UuRDmE+nWjvmleUYO3K2/Pb2qZnf0eXfATn/ti3RmulBwj3RrwWxVP3pkblH6l7fWvthae2Fr7bA+LFgWrbVfSLcA/SVJPr/EY92otXa/dKPKkuTvq+qSJRU4HnPn5dmj08NtxZf727tvo82L04U7z+nXQAIAYBWb1uHfAACwU7XWdklyuyTPSXKfdG+Av22Jx7xtkl9JclGSjw7t+pck90oX1Hx0noc+O8lD+zZJ8sR+VM22fKe1trV9T11onZDW2s+mWxfl/6QbefCCeZq9Kt1UWE9Nsn9f59zjv55u8fg39aNbFusBSTYm+XpVnZ50a4S01t6ZbtqnxyT5i6H2N+1vL9zK6/iD/pjDzqqqV8zT/IWttRdupa6vVtXdh+6P47UvqO+Li5Pcon/+hTw1yW5JHpfkHv1Xksy21r6Y5NiqOn5n1jintbZX/3yv7zf9SVVt2oHjzBeyXZ7kyUn+bscrHKu583Kx08PNjRjasLUGVfXV1tr70v1c/lG6cwwAgFVKGAMAwKq2jTd+H1tV317i4Y9KMkjy7n7Uwpx3JTk2yW+31m5cVZcPP6iqLm+tvTLdm69fqqp/X8Rz/Vu6xd7n842tbD95ngDnP5M8qKouG93RBw3Paq29Nskjk9w/3dRMG9Mtqv73SQ5prT1iO0KJuanI/nlk+z+nC2OOaq09ZztGwfxKkseObPtUkvnCmK8mOX0rxzlv+M6YXvtizU2LtmAf9Gvo/GFr7eXp3sS/X1/nzdOFe+9qrd23qp6yk2p7bGtttL+vSnJIVX1iB4/59qHvd083Vde90wWE305ywg4edyV6UZKHJ/mL1to/LsOaUQAATIgwBgCA1W7ujd8tSS5L8rUk76uqi3fCsa83Rdmcqvpha+3EJL+Z7g3z4+Z57KaR24U8o6rO2c76Tkzy/SS7JLltkvsm+aUkr03yB1t7UFV9L8nr+q+01u6UblHyP0zysCS/m+QdCz15a20mXbAxm+RfR57j9H7EyV3SjXQ5pd/1o/523hEFVfX4JI/vj39gklO3UcIHqupFC9U5cvyd8toXq7W2LteNiFnM9FdzdX4rySv7r7TWfindG/sPTfJnrbV3V9Vnd0KJ307ymf77myb51ST7JHl7a+1efX9tl6p63Oi21tovpgvVPthaO6Cqamj3YoK6RQdaO2juvFzsdHA362/nHeE1p6r+q7X2nnRrTz0h3c8mAACrkDAGAIBVbb43fneG1tq9ktyxv/vKeUagzK018pjMH8Ysh1dU1Slzd1pr908X0DyutfaRqnrvYg5SVWcmObq1tm+Sw9OFTIsJJH4r3Rv3Vyd55zx9NBe4PCbXhTFf7W/v3lobLPO6MTewhNe+WHdJN+3YFUnO2dGDVNV/ttYeluS0dFOJ/WaSnRHGfGb4Z6i1tk+6kSv3SfKmXLf+0pJU1Vdaa/+QLvj6kyR/PrT7iv52z20cYm7fdk+btkhz5+XtWmv7LiLM/aX+9vRFHPvF6ULLZ7fW3rSD9QEAMOXWTboAAABYoR4z9P2vzPN1637fA5dhEfhFqapPJ3lJf/fl/To62+OT/e1W18EYMddHu2X+Prp5v/+R/SiaJPlKkv/tn+Og7axvnLb3tS/WEf3tZ6rqmqUcqJ8+7VP93Z1d59xzXJpuer6rkvxmH/DtLN/pb39hZPt3+9vbbeOxc/u+u402O6yqfpjkS+lG4By5rbattZsmOaS/u+CUa1X1jSTHp1s36E+WVikAANNKGAMAANuptbY+172JfkBVDeb7SjciZl26N6+nxWvSTV32C7nuNSRJWmuD+R4w5A797fkLPUlrbUO6N6SvTrLfNvrolCR7J/ntJOkDidf0hzm2tbbHYl7UUu3M174dz7l/rhsBsrOmp9rpdY6qqu8keWN/93k78dBzgcro2kif7m9/c74H9VO9ze37fzuxnlHH9rcvaK1ta7qyVyWZSfKxPmhZjJekm0rxWdn2CCAAAFYoYQwAAGy/B6dbO+JrVfX1bbR7Z3/7e9tos6z6BeDnFrv/i5EQ4nOttT9ore01+rjW2kOSHNPfXcz0Zkcm2TXJiQtM6TRfH7063Vow/1+Sk1trd5+nnnXpFn3fWXbma9+m1tr61tpR6YKDvZL8U1V9dBGPu0lr7QuttUe21nYb2beutfb4dFPDbUny/qXWuYBXJLkyyW+01u651IP1a8b8cX93tC/emi6geXBr7Qkjj9slycuStHSjYv5tqbVsTVW9M8kH0o1g+URr7S4jtezZWntduvWFLs5158xijn1Wup+Fm6WbsgwAgFXGmjEAAHB9j2+tPXhrO6vqwFw3/dY7t9au94kkP0hyQGvt7lV1+hLq+pvW2uiIgTlXVNUTt+NY/5DuE/gHpHvz/t/77XdK98b3G1pr/5nkvCR7pHuje/++zRur6iOLeI7F9tF7k/xtujfaf6aqflhVP+n/Df413YiHr7TWzkpyZrrpsX42yZ3TBWJXJHnfVo79sNbabbbx3K+rqv/sv9+Zr31rNcz0Nd8j3WigLemCp7/YjuPdM8l7kvy4tfblJN9LcuN0/5a3SbeA/XOr6oztrHO7VNX3W2tvTPLUJM9Jt57OorTWjhu6u1u6Kf0OTPdhwQ8l+eeR57qgtfb76c6lN7bWnppuLZZdktwrycYklyT5naravGOvaNF+N8k/JXlUkq+11r6Y5Ox0/57362+/m+QhVXXudh77JelCzGUZDQYAwPISxgAAwPXdsv+aV2tt73QBRpK8a1sHqqprW2vvSfKn6cKJ05dQ1yO2se/SJIsOY6pqc2vtr5K8Lslzc10Yc/90o34OSnL7JHdP94b3/6YLTd5aVQuugdFau2O6N8mvSPLBBWq5qLV2UrrQ5cgkr++3X5bkIa2130jXd7+Sbtqz9Ul+lG5tmZOS/HNV/WArh79b/7U1H0gyF8bslNe+QA2b0oUGpyX5bJLjtvMN+0uT3CddPzwwXfgyNzro/HQhxhur6nM7UOeOeGWSJyT57dbaXRYYJTbssUPfb0nXJ59OV/9x/do311NV72+t/VKSpyV5UJKH9Y89N90Ub6+uqv/ZwdexaH3Y8zt9WPiHSe6b7lzZlOQb6UYk/V1VbdqBY3+ztfaOJL+/8yoGAGBaDGZnZyddAwAAAAAAwKplzRgAAAAAAIAxEsYAAAAAAACMkTAGAAAAAABgjIQxAAAAAAAAYySMAQAAAAAAGCNhDAAAAAAAwBitn3QBK0lr7ZIkuye5YMKlAAAAAAAAk/ezSa6qqptsq5EwZvvsHn0GAAAAAAB0FpUZCBa2zwVJUlW3m3QhAAAAAADAZLXWzl5MO2vGAAAAAAAAjJEwBgAAAAAAYIyEMQAAAAAAAGMkjAEAAAAAABgjYQwAAAAAAMAYrZ90AVvTWrtRkrOS3DLJPavqS0P7jk7yrCQbk1SS51bVh0cev0+SY5McnmTXJCcmeXJVXbA8rwAAAAAAAGC6R8Y8P/OERa21I5O8OcnxSQ5NcmqS97fWDhxpenySg5Mck+SoJC3JCa21qQ2gAAAAAACA1Wcqg4nW2v5J/jTJ05O8cWT3i5O8q6qe398/ubV21yQvSHJY//j7JDkkySFVdVK/rZKcmeThSd499hcBAAAAAACQ6R0Z8/p0IUwNb2yt3S7JHXPDMOVdSQ5qre3e3z80ySVJPj7XoKoqyenpAxsAAAAAAIDlMHVhTGvtkUn+vyQvmWf3/v3tWSPbz0yyW5LbDrWrqpqdp93+AQAAAAAAWCZTFca01vZMcmyS51TVZfM02be/vWRk+8X97X5D7UbbzLXbb57tAAAAAAAAYzFVYUyS5yX53yRvm3QhAAAAAAAAO8P6SRcwp7V26yRPT3J4kn1aa0lyo373jVprN8p1I2D2SfL9oYfPjZi5qL+9OMnPz/M0+w61AQAAAAAAGLtpGhlz23TrvnwkXZhycZIP9ftOTvIfuW6tmNF1X/ZPcnWSs/v7ZyVprbXBPO1G15sBAAAAAAAYm2kKY05P8qCRr6f2+45J8sSqOjvJN5M8auSxRyT5RFVd3d8/Id0omIPmGrTW7pjkF5N8dEz1AwAAAAAA3MDUTFNWVZckOWV4Wz9VWZJ8uar+s//+RUne0Vr7droRM0ckuXeS+w8d69TW2olJ3tpae3qSzUleluSMJO8b24sAAAAAAAAYMTVhzGJV1Ttba3smeXb/VUkOr6pTR5oekeTYJG9K9zpPSvLkqrpmOesFAGDqbEyyYdJFTMCFSc6bdBEAAABr0WB2dnbSNawYrbWzk6SqbjfpWgAA2CEbZ2dnazAYzEy6kOU2Ozu7eTAYtAhkAAAAdprF5gYrbmQMAAAswYbBYDCzefOXsmXL5ZOuZdmsW3fjzMzcYybdiCBhDAAAwDITxgAAsOZs2XJ5tmy5dNJlAAAAsEasm3QBAAAAAAAAq5kwBgAAAAAAYIyEMQAAAAAAAGMkjAEAAAAAABgjYQwAAAAAAMAYCWMAAAAAAADGSBgDAAAAAAAwRsIYAAAAAACAMVo/6QIAANhhG5NsmHQRE3BhkvMmXQQAAAAsljAGAGBl2jg7O1uDwWBm0oUst9nZ2c2DwaBFIAMAAMAKIYwBAFiZNgwGg5lzzz03mzdvnnQty2ZmZia3vvWtZ9KNCBLGAAAAsCIIYwAAVrDNmzfnyiuvnHQZAAAAwDasm3QBAAAAAAAAq5kwBgAAAAAAYIyEMQAAAAAAAGMkjAEAAAAAABgjYQwAAAAAAMAYCWMAAAAAAADGaP2kCwAAAKbexiQbJl3EBFyY5LxJFwEAAKx8whgAAGBbNs7OztZgMJiZdCHLbXZ2dvNgMGgRyAAAAEskjAEAALZlw2AwmDnz8ktzxTXXTrqWZbPn+l1ypxvvM5NuRJAwBgAAWBJhDAAAsKArrrk2P772mkmXAQAAsCKtm3QBAAAAAAAAq5kwBgAAAAAAYIyEMQAAAAAAAGMkjAEAAAAAABgjYQwAAAAAAMAYCWMAAAAAAADGSBgDAAAAAAAwRsIYAAAAAACAMRLGAAAAAAAAjJEwBgAAAAAAYIzWT7qAYa21w5I8K8mdk+yd5PwkH0jy4qq6tG9zXJLHzvPwQ6vqY0PH2i3Jy5I8JsmNk3wuyZOqqsb4EgAAAAAAAK5nqsKYJPslOS3J65L8KMkBSV7U3x481O7sJEeNPPbMkfuvS3JkkqelC3Wem+QTrbW7zAU7AAAAAAAA4zZVYUxV/cvIplNaa1cleVNr7eeq6nv99iur6vNbO05r7VZJHp/kiVX11n7bF5Ocl+QJSV6186sHAAAAAAC4oZWwZsyP+tvdtuMxB6d7be+Z21BVFyU5KclhO680AAAAAACAbZuqkTFzWmu7JNk13doxL0jywao6Z6jJHVprlybZI8nXkry0qj4wtH//JD+oqotHDn1mkqPHVTcAAMCQjUk2TLqICbgw3awEAABAbyrDmCTnJrll//3Hkjx6aN9XknwxydeT3CTJnyR5f2vtUVX13r7Nvkkumee4F6dblwYAAGCcNs7OztZgMJiZdCHLbXZ2dvNgMGgRyAAAwE9NaxhzWJK9ktwlyfOSfKi19htVdW1VvXa4YWvtg0k+l+QlSd57gyMBAAAsvw2DwWDmtG9flsuvvHbStSybG++xS+59+71n0o0IEsYAAEBvKsOYqjqj//bU1toXk5ye5PDME7ZU1ZbW2r8leVVrbY+qujLdCJh95jn0vkkuGk/VAAAA13f5ldfmkiuumXQZAADAhK2bdAGLcEaSnyS5w3Y85qwkN2+t7Tuyff9+HwAAAAAAwLJYCWHMvZPsmuTs+Xa21tYleVSSr/ejYpLkpCRbkjxiqN2+SQ5O8tGxVgsAAAAAADBkqqYpa629L8mX0o2GuTLJ3ZI8s7//gdbarZO8Pck7k3wr3bRjf5LkHhkKXqrqu621f0zy1621a5Ocn+Q5SS5N8g/L9oIAAAAAAIA1b6rCmCRfSHJEkmenG7VzTpI3J/mbqrq6tXZ5ukDleUluluTqdOHNoVV14sixnpLkx0lekeTGST6b5Ner6tJleB0AAAAAAABJpiyMqapXpAtPtrb/oiS/vchjXZXkGf0XAAAAAADARKyENWMAAAAAAABWLGEMAAAAAADAGAljAAAAAAAAxkgYAwAAAAAAMEbCGAAAAAAAgDESxgAAAAAAAIyRMAYAAAAAAGCMhDEAAAAAAABjJIwBAAAAAAAYI2EMAAAAAADAGAljAAAAAAAAxkgYAwAAAAAAMEbCGAAAAAAAgDESxgAAAAAAAIyRMAYAAAAAAGCMhDEAAAAAAABjJIwBAAAAAAAYI2EMAAAAAADAGAljAAAAAAAAxkgYAwAAAAAAMEbCGAAAAAAAgDESxgAAAAAAAIyRMAYAAAAAAGCMhDEAAAAAAABjJIwBAAAAAAAYI2EMAAAAAADAGAljAAAAAAAAxkgYAwAAAAAAMEbCGAAAAAAAgDFaP+kCAAB6G5NsmHQRE3BhkvMmXQQAAAAwPsIYAGAabJydna3BYDAz6UKW2+zs7ObBYNAikAEAAIBVSxgDAEyDDYPBYOaKMy7Mlk0/mXQty2bdXrtmz7tumEk3IkgYAwAAAKuUMAYAmBpbNv0kWy6/etJlAAAAAOxUUxXGtNYOS/KsJHdOsneS85N8IMmLq+rSoXYPTfKXSeam9PirqnrbyLF2S/KyJI9JcuMkn0vypKqq8b8SAAAAAACAzrpJFzBivySnJTkmySFJjk3y+0neM9egtXa/JO9PcmqSQ5Mcn+QtrbVHjhzrdUn+KMlzkjw8ye5JPtFa22fMrwEAAAAAAOCnpmpkTFX9y8imU1prVyV5U2vt56rqe0men+S0qjqmb3Nya+32SV6S5L1J0lq7VZLHJ3liVb213/bFdKNonpDkVeN/NQAAAAAAANM3MmY+P+pvd2ut7Z7kQRkaKdN7V5I7tdZu098/ON1r+2m7qrooyUlJDhtrtQAAAAAAAEOmamTMnNbaLkl2Tbd2zAuSfLCqzmmt3bnfftbIQ87sb/dPck5/+4OquniedkePq24AAAAAAIBR0zoy5twkVyb5cpILkjy6375vf3vJSPu50GW/oXajbeba7TfPdgAAAAAAgLGY1jDmsCT3TfJHSe6U5EP9aBkAAAAAAIAVZSqnKauqM/pvT22tfTHJ6UkOT/KNfvs+Iw+ZGzFzUX978Txt5tpdNM92AAAAAACAsZjWkTHDzkjykyR3SPLt/vv9R9rM3T9r6PbmrbV952k3ut4MAAAAAADA2KyEMObeSXZNcnZVXZXk5CSPHGlzRJIzq+qc/v5JSbYkecRcgz6YOTjJR8ddMAAAAAAAwJypmqastfa+JF9KNxrmyiR3S/LM/v4H+mYvTXJKa+0NSd6d5EFJHp0ukEmSVNV3W2v/mOSvW2vXJjk/yXOSXJrkH5blxQAAAAAAAGTKwpgkX0gXqjw73aidc5K8OcnfVNXVSVJVn2mtPTzJXyY5Osl5SR5fVe8ZOdZTkvw4ySuS3DjJZ5P8elVdugyvAwAAAAAAIMmUhTFV9Yp04clC7T6Y5IMLtLkqyTP6LwAAAAAAgIlYCWvGAAAAAAAArFjCGAAAAAAAgDESxgAAAAAAAIzRVK0ZAwAAwJq2McmGSRcxARcmOW/SRQAAMD7CGAAAAKbBxtnZLTUYrJuZdCHLbXZ2y+bBYF2LQAYAYNUSxgAAADANNgwG62Y2ffXEbNl08aRrWTbr9to3e93tkJl0I4KEMQAAq5QwBgAAgKmxZdPFufayH066DAAA2KnWTboAAAAAAACA1UwYAwAAAAAAMEbCGAAAAAAAgDESxgAAAAAAAIyRMAYAAAAAAGCMhDEAAAAAAABjJIwBAAAAAAAYI2EMAAAAAADAGAljAAAAAAAAxmj9pAsAgFVoY5INky5iAi5Mct6kiwAAAACYNsIYANi5Ns7ObqnBYN3MpAtZbrOzWzYPButaBDIAAAAA1yOMAYCda8NgsG7m/P/6TK7edNmka1k2u+21d255wP1m0o0IEsYAAAAADBHGAMAYXL3psmy+/KJJlwEAAADAFFg36QIAAAAAAABWM2EMAAAAAADAGAljAAAAAAAAxkgYAwAAAAAAMEbCGAAAAAAAgDESxgAAAAAAAIyRMAYAAAAAAGCMhDEAAAAAAABjJIwBAAAAAAAYI2EMAAAAAADAGAljAAAAAAAAxkgYAwAAAAAAMEbCGAAAAAAAgDESxgAAAAAAAIzR+kkXMKy19qgkv5fkl5Psm+S/k7wuyduqarZvc0qSB8zz8DtV1VlDx9onybFJDk+ya5ITkzy5qi4Y52sAAAAAAAAYNm0jY56W5IokT0/y0CQnJHlzkheMtPtskvuMfJ0z0ub4JAcnOSbJUUlakhNaa1MVQAEAAAAAAKvbtAUTD62qC4fuf7K1dtMkT2utvbSqtvTbL6mqz2/tIK21+yQ5JMkhVXVSv62SnJnk4UnePZ7yAQAAAAAArm+qRsaMBDFzvpJk7yR7bcehDk1ySZKPDx27kpye5LAdrxAAAAAAAGD7TNvImPncL8n5VXX50LYHtNY2JdklyWlJnl9Vnx7av3+6/GV25Fhn9vsAAAAAAACWxVSNjBnVWrtfkiOT/M3Q5k8leUqSByd5bJI9k/xHPzXZnH3TjYwZdXGS/cZSLAAAAAAAwDymdmRMa+1WSY5PcnKS181tr6oXjrT7cJKvJ3l+TEEGAAAAAABMmakcGdNau0mSE5L8KMkjqmrL1tpW1aYkH0nyy0ObL06yzzzN901y0c6rFAAAAAAAYNumLoxpre2R5MPpwpRDq+rSHTjMWd2h2mBk+/79PgAAAAAAgGUxVWFMa219kncnuVOSB1fV+Yt4zF5JHpLki0ObT0g3CuagoXZ3TPKLST66M2sGAAAAAADYlmlbM+YN6YKVpyfZu7V24NC+ryS5V5JnJnl/knOS/Fzf9hZJHjXXsKpOba2dmOStrbWnJ9mc5GVJzkjyvvG/DAAAAAAAgM60hTEH97evnmffbZNckGS3JC9PctMkm5J8LskxVfWFkfZHJDk2yZvSvc6Tkjy5qq4ZQ90AAAAAAADzmqowpqpus4hmD17ksS5NcnT/BQAAAAAAMBFTtWYMAAAAAADAaiOMAQAAAAAAGCNhDAAAAAAAwBgJYwAAAAAAAMZIGAMAAAAAADBGwhgAAAAAAIAxEsYAAAAAAACMkTAGAAAAAABgjIQxAAAAAAAAYySMAQAAAAAAGCNhDAAAAAAAwBjtcBjTWvv91tpttrH/Nq2139/R4wMAAAAAAKwGSxkZ87Yk993G/nv3bQAAAAAAANaspYQxgwX275XkmiUcHwAAAAAAYMVbvz2NW2t3TXL3oU2/2lqb7xg3SXJMkm/ucGUAAADAYmxMsmHSRUzAhUnOm3QRAACLsV1hTJLDk7yw/342yRP6r/lcksSaMQAAADA+G7fMzta6wWBm0oUsty2zs5vXDQYtAhkAYAXY3jDmTUk+nG6Ksi8keUGSE0bazCbZlOTbVWWaMgAAABifDesGg5lPfP/UXHL1ZZOuZdncZLe9c9At7jOTbkSQMAYAmHrbFcZU1QVJLkiS1tqDkpxZVT8YR2EAAADA4lxy9WW58KqLJ10GAABbsb0jY36qqj61MwsBAAAAAABYjXY4jEmS1tohSY5Ocrsk+6abvmzYbFXdfinPAQAAAAAAsJLtcBjTWntmklck+d9068d8bWcVBQAAAAAAsFosZWTMU5J8MslhVfWTnVQPAAAAAADAqrKUMGbfJO8VxACsehuTbJh0ERNwYZLzJl0EAAAAACvfUsKYLyRpO6sQAKbSxtnZ2RoMBjOTLmS5zc7Obh4MBi0CGQAAAACWaClhzBOTnNBa+1JV/evOKgiAqbJhMBjM/E9dnauumJ10Lctm9z0H+fm220y6EUHCGAAAAACWZClhzPH94/+5tfb3Sb6b5NqRNrNVdbclPAcAU+CqK2azedPaCWMAAAAAYGdaShhzUZIfJfnvnVQLAAAAAADAqrPDYUxVPXAn1gEAAAAAALAqrZt0AQAAAAAAAKvZDo+Maa3dfzHtqurTO/ocAAAAAAAAK91S1ow5JcliVnPeZQnPAQAAAAAAsKItJYx50DzbdklymyR/nG4KtGcv4fgAAAAAAAAr3g6HMVX1qa3ta60dl+T/JXlgkk/u6HMAAAAAAACsdEsZGbNVVbWltfauJH+R5AWLfVxr7VFJfi/JLyfZN8l/J3ldkrdV1exQu6OTPCvJxiSV5LlV9eGRY+2T5NgkhyfZNcmJSZ5cVRcs4aUBAAAAAABsl3VjPPZ+SW6ynY95WpIrkjw9yUOTnJDkzRkKdFprR/bbjk9yaJJTk7y/tXbgyLGOT3JwkmOSHJWkJTmhtTaWAAoAAAAAAGA+OxxMtNY2bmXXTZLcP8kz001Vtj0eWlUXDt3/ZGvtpkme1lp7aVVtSfLiJO+qquf3bU5urd01XWBzWF/bfZIckuSQqjqp31ZJzkzy8CTv3s66AAAAAAAAdshSRsack+Q783x9Jd3UYmckecL2HHAkiJnzlSR7J9mrtXa7JHfMDcOUdyU5qLW2e3//0CSXJPn40LEryenpAxsAAAAAAIDlsJQpu/4wyezIttkkFyf5dlV9YwnHHna/JOdX1eWttV/tt5010ubMJLsluW2/b/90+ctofWf2+wAAAAAAAJbFDocxVXXcTqxjXq21+yU5Mt0aMkmyb397yUjTi/vb/YbajbaZa7ffPNsBAAAAAADGYqcsZt9au3OSW/d3z90Zo2Jaa7dKcnySk9NNewYAAAAAALDiLCmMaa39dpJjk9xmZPt3kjytqj64g8e9SZITkvwoySOqaku/a24EzD5Jvj/0kLkRMxcNtfv5eQ6971AbAAAAAACAsVu3ow9srR2W5N/6u89Jcnj/9ZwkgyTva609eAeOu0eSD6cLXA6tqkuHds+tFTO67sv+Sa5OcvZQu9ZaG8zTbnS9GQAAAAAAgLHZ4TAmyfOTnJHkrlX1yqr6YP/1yiR3TfK1JC/cngO21tYneXeSOyV5cFWdP7y/qs5O8s0kjxp56BFJPlFVV/f3T0g3CuagoWPfMckvJvno9tQEAAAAAACwFEuZpuyuSZ5TVZtGd1TVptbacUlevp3HfEOShyR5epK9W2sHDu37SlVdleRFSd7RWvt2uvVkjkhy7yT3H3r+U1trJyZ5a2vt6Uk2J3lZuvDofdtZEwAAAAAAwA5bShizOcl+29i/X99mexzc3756nn23TXJOVb2ztbZnkmf3X5Xk8Ko6daT9EenWs3lTutd5UpInV9U121kTAAAAAADADltKGPPJJE9prX1sNAhprd07yZ+lC0AWrapus8h2b0nylgXaXJrk6P4LAAAAAABgIpYSxvyfJKcm+Uxr7QvpRqgkSUtyryQ/SPKspZUHAAAAAACwsq3b0QdW1XfSrRvzuiT7ppsW7Ij++9cmuVtVnbMTagQAAAAAAFixdnhkTGttfZLNVfXUJE+dZ//erbX11mgBAAAAAADWsh0eGZNuRMzntrH/s0levYTjAwAAAAAArHhLCWMenOS929j/3iSHLeH4AAAAAAAAK95SwpifS3L+NvZ/L8ktl3B8AAAAAACAFW8pYcyPkrRt7L9TksuWcHwAAAAAAIAVbylhzMeSPKG19oujO1prv5Tkj5OcsITjAwAAAAAArHjrl/DY56dbN+YLrbUPJvl6v/2AJA9N8oO+DQAAAAAAwJq1wyNjqup7Se6R5F+THJTkef3XryV5R5J7VtV3d0aRAAAAAAAAK9VSRsakqi5I8tjW2iDJz/Sbf1hVs0uuDAAAAAAAYBVYUhgzpw9ffrAzjgUAAAAAALCa7PA0ZQAAAAAAACxMGAMAAAAAADBGwhgAAAAAAIAxEsYAAAAAAACMkTAGAAAAAABgjIQxAAAAAAAAYySMAQAAAAAAGCNhDAAAAAAAwBgJYwAAAAAAAMZIGAMAAAAAADBGwhgAAAAAAIAxEsYAAAAAAACMkTAGAAAAAABgjIQxAAAAAAAAYySMAQAAAAAAGCNhDAAAAAAAwBgJYwAAAAAAAMZIGAMAAAAAADBGwhgAAAAAAIAxEsYAAAAAAACMkTAGAAAAAABgjIQxAAAAAAAAY7R+0gUMa63dIckzkhyY5IAkZ1XVASNtTknygHkefqeqOmuo3T5Jjk1yeJJdk5yY5MlVdcF4qgcAAAAAALihaRsZc5ckv5nkW0m+sY12n01yn5Gvc0baHJ/k4CTHJDkqSUtyQmttqgIoAAAAAABgdZu2YOJDVfXvSdJaOy7JPbbS7pKq+vzWDtJau0+SQ5IcUlUn9dsqyZlJHp7k3TuzaAAAAAAAgK2ZqpExVbVlJx3q0CSXJPn40LEryelJDttJzwEAAAAAALCgaRsZs1gPaK1tSrJLktOSPL+qPj20f/90+cvsyOPO7PcBAAAAAAAsi5UYxnwqyT8l+e8kP5fkGUn+o7X2gKo6tW+zb7qRMaMuTrLfchQJAAAATK2NSTZMuogJuDDJeZMuAgDWohUXxlTVC4fvt9Y+nOTrSZ4fU5ABAAAA27Zxdna2BoPBzKQLWW6zs7ObB4NBi0AGAJbdigtjRlXVptbaR5I8cmjzxUl+fp7m+ya5aFkKAwAAAKbRhsFgMLP5tM9ny+WXTbqWZbPuxntn5t4HzqQbESSMAYBltuLDmK04K8mvt9YGI+vG7J/kaxOqCQAAAJgSWy6/LFsuuXjSZQAAa8S6SRewVK21vZI8JMkXhzafkG4UzEFD7e6Y5BeTfHRZCwQAAAAAANa0qRoZ01rbM9et+3LrJHu31uamH/tUupEtz0zy/iTnJPm5JE9Pcoskj5o7TlWd2lo7MclbW2tPT7I5ycuSnJHkfeN/JQAAAAAAAJ2pCmOS3CzJe0a2zd1/UJLvJtktycuT3DTJpiSfS3JMVX1h5HFHJDk2yZvSvc6Tkjy5qq4ZT+kAAAAAAAA3NFVhTFWdk2SwQLMHL/JYlyY5uv8CAAAAAACYiBW/ZgwAAAAAAMA0E8YAAAAAAACMkTAGAAAAAABgjIQxAAAAAAAAYySMAQAAAAAAGCNhDAAAAAAAwBgJYwAAAAAAAMZIGAMAAAAAADBGwhgAAAAAAIAxEsYAAAAAAACMkTAGAAAAAABgjIQxAAAAAAAAYySMAQAAAAAAGCNhDAAAAAAAwBgJYwAAAAAAAMZIGAMAAAAAADBGwhgAAAAAAIAxEsYAAAAAAACM0fpJFwCwjDYm2TDpIibgwiTnTboIAAAAAFirhDHAWrFxdna2BoPBzKQLWW6zs7ObB4NBi0AGAAAAACZCGAOsFRsGg8HM5tM+ny2XXzbpWpbNuhvvnZl7HziTbkSQMAYAAAAAJkAYA6wpWy6/LFsuuXjSZQAAAAAAa8i6SRcAAAAAAACwmgljAAAAAAAAxkgYAwAAAAAAMEbCGAAAAAAAgDESxgAAAAAAAIyRMAYAAAAAAGCMhDEAAAAAAABjJIwBAAAAAAAYI2EMAAAAAADAGAljAAAAAAAAxkgYAwAAAAAAMEbrJ13AsNbaHZI8I8mBSQ5IclZVHTBPu6OTPCvJxiSV5LlV9eGRNvskOTbJ4Ul2TXJikidX1QVjfREAAAAAAABDpm1kzF2S/GaSbyX5xnwNWmtHJnlzkuOTHJrk1CTvb60dONL0+CQHJzkmyVFJWpITWmtTFUABAAAAAACr27QFEx+qqn9PktbacUnuMU+bFyd5V1U9v79/cmvtrklekOSw/rH3SXJIkkOq6qR+WyU5M8nDk7x7nC8CAAAAAABgzlSNjKmqLdva31q7XZI75oZhyruSHNRa272/f2iSS5J8fOjYleT09IENAAAAAADAcpiqMGYR9u9vzxrZfmaS3ZLcdqhdVdXsPO32DwAAAAAAwDKZtmnKFrJvf3vJyPaL+9v9htqNtplrt9882wEAAADYto1JNky6iAm4MMl5ky4CgJVtpYUxAAAAACy/jbOzszUYDGYmXchym52d3TwYDFoEMgAswUoLY+ZGwOyT5PtD2+dGzFw01O7n53n8vkNtAAAAAFicDYPBYOZ/6upcdcXorPCr1+57DvLzbbeZdCOChDEA7LCVFsbMrRWzf5Ia2r5/kquTnD3U7tdba4ORdWP2T/K1sVcJAAAAsApddcVsNm9aO2EMAOws6yZdwPaoqrOTfDPJo0Z2HZHkE1V1dX//hHSjYA6aa9Bau2OSX0zy0WUoFQAAAAAAIMmUjYxpre2Z5LD+7q2T7N1ae2R//1NV9cMkL0ryjtbat5OcnC6IuXeS+88dp6pOba2dmOStrbWnJ9mc5GVJzkjyvuV4LQAAAAAAAMmUhTFJbpbkPSPb5u4/KMkpVfXOPrR5dv9VSQ6vqlNHHndEkmOTvCnd6zwpyZOr6ppxFQ8AAAAAADBqqsKYqjonyWAR7d6S5C0LtLk0ydH9FwAAAAAAwESsqDVjAAAAAAAAVhphDAAAAAAAwBgJYwAAAAAAAMZIGAMAAAAAADBGwhgAAAAAAIAxEsYAAAAAAACMkTAGAAAAAABgjIQxAAAAAAAAYySMAQAAAAAAGCNhDAAAAAAAwBgJYwAAAAAAAMZIGAMAAAAAADBGwhgAAAAAAIAxEsYAAAAAAACMkTAGAAAAAABgjIQxAAAAAAAAYySMAQAAAAAAGCNhDAAAAAAAwBgJYwAAAAAAAMZIGAMAAAAAADBGwhgAAAAAAIAxEsYAAAAAAACMkTAGAAAAAABgjIQxAAAAAAAAYySMAQAAAAAAGCNhDAAAAAAAwBgJYwAAAAAAAMZIGAMAAAAAADBGwhgAAAAAAIAxEsYAAAAAAACMkTAGAAAAAABgjNZPugBgh21MsmHSRUzAhUnOm3QRAAAAAACLJYyBlWnjltnZWjcYzEy6kOW2ZXZ287rBoEUgAwAAAACsEMIYWJk2rBsMZj7x/VNzydWXTbqWZXOT3fbOQbe4z0y6EUHCGAAAAABgRVhxYUxr7XFJ3jbPrldW1bOH2h2d5FnppnKqJM+tqg8vS5GwTC65+rJceNXFky4DAAAAAIBtWDfpApbgwUnuM/T1d3M7WmtHJnlzkuOTHJrk1CTvb60dOIE6AQAAAACANWzFjYwZ8uWqunAr+16c5F1V9fz+/smttbsmeUGSw5alOgAAAAAAgKzskTHzaq3dLskdk7x7ZNe7khzUWtt9+asCAAAAAADWqpU8MubrrbUNSc5NNyXZq6rq2iT79/vPGml/ZpLdktx2nn0AAAAAAABjsRLDmAuSvDDJaUlmk/xWkr9McsskT0qyb9/ukpHHza1yvt/4SwQAAAAAAOisuDCmqk5McuLQppNaa1cmeWpr7WUTKgsAAAAAAGBeq2XNmHcn2SXJ3XPdCJh9RtrMjZi5aJlqAgAAAAAAWDVhzLC59WD2H9m+f5Krk5y9vOUAAAAAAABr2WoJY45Mcm2Sr1TV2Um+meRRI22OSPKJqrp6uYsDAAAAAADWrhW3Zkxr7cQkn0zytX7TbyX54ySvrarv99telOQdrbVvJzk5XRBz7yT3X95qAQAAAACAtW7FhTHppiE7Osmt0o3s+WaSP0/y+rkGVfXO1tqeSZ7df1WSw6vq1GWvFgAAAAAAWNNWXBhTVU9J8pRFtHtLkreMvyIAAAAAAICtWy1rxgAAAAAAAEwlYQwAAAAAAMAYCWMAAAAAAADGSBgDAAAAAAAwRsIYAAAAAACAMRLGAAAAAAAAjNH6SRcAAAAAAKvUxiQbJl3EBFyY5LxJFwEwTYQxAAAAALDzbZyd3VKDwbqZSRey3GZnt2weDNa1CGQAfkoYAwAAAAA734bBYN3M+f/1mVy96bJJ17Jsdttr79zygPvNpBsRJIwB6AljAAAAAGBMrt50WTZfftGkywBgwtZNugAAAAAAAIDVTBgDAAAAAAAwRsIYAAAAAACAMRLGAAAAAAAAjJEwBgAAAAAAYIyEMQAAAAAAAGMkjAEAAAAAABgjYQwAAAAAAMAYCWMAAAAAAADGSBgDAAAAAAAwRusnXQAAAAAAwJCNSTZMuogJuDDJeZMuAhgPYQwAAAAAMC02zs7O1mAwmJl0IcttdnZ282AwaBHIwKokjGEa+LQDAAAAAEmyYTAYzFxxxoXZsuknk65l2azba9fsedcNM+neI/N+EaxCwhgmbePs7JYaDNatwU87bNk8GKzzaQcAAACAEVs2/SRbLr960mUA7DTCGCZtw2CwbmbTV0/Mlk0XT7qWZbNur32z190O8WkHAAAAAIA1QBjDVNiy6eJce9kPJ10GAAAAAADsdOsmXQAAAAAAAMBqJowBAAAAAAAYI9OUAQAAAACsbBvTrU281lwY6zGzQghjAAAAAABWro2zs7M1GAxmJl3Icpudnd08GAxaBDKsAMIYAAAAAICVa8NgMJg599xzs3nz5knXsmxmZmZy61vfeibdiCBhDFNPGAMAAAAAsMJt3rw5V1555aTLALZCGLPzmZ8RAAAAAAD4qVUdxrTW9k/y+iT3TXJ5kn9K8ryqunpMT2l+RoEMAAAAAABcz6oNY1pr+yb5ZJL/TvLwJLdMcmySPZM8aUxPu2EwGMyc9u3LcvmV147pKabPjffYJfe+/d7mZwQAAAAAgHms2jAmyTFJ9k5yeFVdlCSttfVJ3tBae3lVfW9cT3z5ldfmkiuuGdfhAQAAAABYOktObD99toNWcxhzaJL/mAtieu9O8sYkByc5bhJFAQAAAAAwcZac2P5wQZ8tIZBZzWHM/kneOryhqi5prV3Q7wMAAAAAYG3aMBgMZjZv/lK2bLl80rUsm3XrbpyZmXvs6JITGwaDwcyZl1+aK65ZO8t07Ll+l9zpxvsseZmOwezs7M6raoq01n6S5PlV9YqR7f+V5HNV9cc7cMwr0wVY/zPf/t122223m93sZre86pot2bJlR6pemdatS3Zfvy4/+MEPzr/66quv3p7HzvXZ7NVXJrNrqNMG6zLYbY8d6rPkun678tqrsmUN9du6wbrsscvuSzvXrroqa+0HdLD7jvVZcl2/XfOT2azSPxfzGgyS9bsOlnSuXXv15syuoZ/PwWBddtltZsnn2uzVW7LWTrbBbkv7G3rNNddktf5/bj6DwSDr169f+rk2e1WStdNvySCDwdL+hv5kdku2rKEuWzdIdh3s2M9n4trAtcF2cG2wQ1wb7ADXBjvEtcH2c22wg1wbbDfXBjvKtcH2WsS1wc8nuaaq9tjWcYQx23fMS5LsnuSCnVIkAAAAAACwkv1skquq6ibbarSapym7OMk+82zfN8lF82xf0EKdCQAAAAAAMGrdpAsYo7MysjZMa22fdCnVWROpCAAAAAAAWHNWcxhzQpJfb63dZGjbo5JsSXLSRCoCAAAAAADWnNW8Zsy+Sb6e5JtJXp7klkmOTfKOqnrSJGsDAAAAAADWjlU7MqaqLk5yUJJrknwgySuS/GOSp02wLAAAAAAAYI1ZtSNjAAAAAAAApsGqHRkDAAAAAAAwDYQxAAAAAAAAYySMAQAAAAAAGCNhDAAAAAAAwBgJYwAAAAAAAMZIGAMAAAAAADBGwhgAAAAAAIAxWj/pAlic1todkjwjyYFJDkhyVlUdME+7myR5SZJHJtkvyflJ3lBVr16+aqfHQv3WWrtNku9s5eFXVdXM2IucQos531preyZ5fpIjktwiyXeTHJfkVVV1zbIWPAUW2We7JXlpksck2TfJ15L8RVV9YpnLnQqttUcl+b0kv5yuP/47yeuSvK2qZofaHZ3kWUk2Jqkkz62qDy9/xdNhMf3WWjsiye8kuXeSWyZ5ZlX9zWQqnryF+qy1tneSpyU5LMkdk1yV5AtJnlNVX5tM1ZO1yPPsb5Icmu5nczbdz+erq+pdEyl6Ciz299pQ+4cleX+Sr8/3/7q1YpHn2ylJHjDPw+9UVWctU6lTYzv+ht4krg2SLOpvwW3iuuAGFvnz6bpgyCL7zHXBiNbaYen+z3/nJHun+331gSQvrqpLh9o9NMlfJmlJzkvyV1X1tmUveAosps9aa7+R5A/SXRfcLsnfVdWTJlLwlFio31pruyR5epKH9G3WJflqkhdU1f+bSNETtshz7ZlJHp3ktkl2TXJ2kn9Id87d4P/Ba8Fif68Ntf/ldNehV1bVjZax1KmxyHPtuCSPnefhh1bVx5an0h0njFk57pLkN5Oclu4PwQ1GNbXW9kpySpJrkjw1yf+me1Np72Wrcvos1G8XJLnPyLZBko8l+eTYq5teC55vSf42ySOSPCfJN9L140uS7JXkuctT5lRZTJ+9Jsnvp+ufSvef4o+21u5TVf+5THVOk6clOSfdf3R/mOQ3krw5yc8neXGStNaO7Le9LN3P5BFJ3t9a+9Wq+vwEap4GC/Zbujfdbpfkw0mesPwlTp2F+mxjun56S5LnJZlJF65+vrV2j6o6cwI1T9pizrMb9dvOShfGPDLJO1tr66rqX5e74CmxmH5LkrTW9kjyf9P9f22tW2y/fTbdz+awc8Zf3lRazN9Q1wbXt1CfuS6Y32J+Pl0XXN9i+uw1cV0war9011KvS/KjdB9we1F/e3CStNbul+5DDP+Y5M+T/FqSt7TWLq+q9y5/yRO3YJ8leXCSuyX5VN+ehfttjyR/kS5UfmWSa5P8cZKTW2sHV9Va/JuwmHPtJkmOT/JfSTYnOahvv3eSly9rtdNjMf2WJGmtDdL9Pf1huuustWqxfXZ2kqNGHrsirtsHs7NrMpxccfo3Nrb03x+X5B7zfOr+pelS6LtW1ablr3L6LKbf5nnMA5OcnOR3quo9Yy9yCi3Ub621dUkuT/LXVfWioe1vT3K/qrr98lY8eYvos1smOTfJU6vq9f22QbpP2Hynqn57+auerNbahqq6cGTbm9IFLvtW1ZbWWiX5clU9eqjN55JcUlWHLW/F02GR/TZ8Ps7GyJht9lm6C67ZqrpiaP+N0v3M/mtVPXk5650GiznPtvK4zybZVFUHz7d/tduefmutvSTdSI/vZBH/P1nNFvl77ZQkP66qh0yixmmzyD5zbTBkR36vuS5Y1N/QxHXB9Syiz342rgsWpbX2R0nelOSWVfW91tqJSW5UVb8y1OZfk9y9qu48qTqnyTx9NnxdcE6SD6/1kTHzGe63dB9e2LuqLh7av0u6kOFbVfXQyVQ5XUbPta20eUeSe1bVHZe1uCm2tX5rrf1huhDwPUn+bK2OjJnPPL/XjssKvn6yZswKsbU3PUY8PslbXWxdZ5H9NurRSS5L8qGdXM6KsYh+G6QbWTc6rPLSft+as4g+u2uSXZKcNPSY2f7+If1UBWvK6EVq7yvpPjmzV2vtduk+wfvukTbvSnJQa233MZc4lRbqt77NjvzuW7UW6rOq2jQcxPSP+XGSbyX5uWUoceos5jzbih8lWXO/z+Ystt9aa7dP94npP1um0qbaEs63NWuRfebaYMgOnmeuCxbuN9cFIxbRZ64LFu9H/e1u/f/9H5Tujcph70pyp36qQYb6LHFdsB1+2m9Vde1wEJMkVXVtkjOyRq8NtuJ659o22viddn036Ld+WtlXpBvJfPUEapp2iznXVgzTlK0S/X88bpHkwtbaB5MckmRTkn9L94mbH0+wvBWjtbZruiH276+qzZOuZ1pV1bV9Ev2k1tpn0g0FPDDdnMcvnWRtU2xunvGrRrZflWT3dPOq1rJWNJ3ul+T8qrq8tfar/bbRtQDOTPdH+Lbz7Furftpvky5kBdlmn/X/IT4gyceXs6gpd4M+6z/Ju0u6ofQPTTd0/PcmU97Umu9ce22Sf6qqr7bWJlTW1Juv3x7QWtuU7pw7Lcnzq+rTE6luOg3/Db1NXBssxlb/Frgu2Kbr9ZvrgkUZ/vl0XbAN/QiEXdOtF/CCJB+sqnNaa3fut893bZAk+2eNTl25tT6baFErwPb0W2ttfbrfbWtyzZg5i+mzvq/2SHL/dNMxvjhr3CL67S/TzQjy4dbaPSZQ4tRZRJ/dobV2abpz7WtJXlpVH1juOneEkTGrxy36279JcnG6RYifk+RR6eanZXEOTTc/4Vqd6357PDHd/NlfSDc1wceT/H1VHTvRqqbXf/e39xrZfmB/u+bn7+3ngD4y3e+x5LqpLy4ZaTr3KaU132fJvP3GAhbZZ69Ktw7KG5elqCm3jT47KMlP0v1cvjXJU9bonO3zmq/f+oWH75tusWvmsZXz7VNJnpJu7vvHJtkzyX+01kbX+FiT5ukz1wYLWMTfAtcF89hKv7ku2IZ5+sx1wbadm+TKJF9Ot5bT3HTFrg22bmt9xrZtT7/9n3RTmP3fZahrmm2zz1prd0h3bXBZuvVLX19Va73Pkm30W2vt7kmOTjcqhuts61z7SrpZBn47ye8kuTDd2sKPXO4id4SRMavHXLD2zap6bP/9J1pr1yR5c2vtuVV19oRqW0mOSjc/6CcmXcgK8Ip0C9Y/Pt0FxYFJXthau7iq/nqilU2hqvqv1tr/S/LK1tr/JPlmuoU6H9A3WdMLeLXWbpVusb+T0y3UxiLot+23mD5rrf1Bkj9K8riq+u4yljeVFuiz05LcM8k+6d4kf31r7ZqqesvyVjl95uu3/tPQr0nywq1MY7Pmbe18q6oXjrT7cJKvpwu11uQaYnO20meuDbZhkX8/XReM2Ea/uS7Yivn6zHXBgg5LN53bXZI8L8mHWmu/MdmSpt68fdZPrcXWLarf+vPvxUleUlVfXv4yp8pCffY/6a4NbpTkV5M8u7W2ZfT/cWvQ1n6vbUnyd0neUFVm/bi+rZ5rVfXa4Yb9KPDPJXlJkqn/YKAwZvWY+zTIySPb5y4e7pJkzV5wLUa/WPNDk7zZf1q2rbV2QJJnJPmtqpqbQ/vT/XQOL22tvdF0SfN6bLr1Tz7X3z833R+LF6dL+tekfjqoE9LNA/qIoXmN536v7ZPk+0MPmftU3EXLUuCU2ka/sRWL6bPW2qHpFgd8aVW9fXkrnD4L9Vn/u/5L/d1P9NMSHNtaO24t/y3dRr/9ebqLrnf2bZJu2sV1/f0rqmrNzhO9Pb/XqmpTa+0jSVbEJ+DGZRF/Q10bjFjk3wLXBSO21m+uC7ZugXPNdcFWVNUZ/bentta+mOT0JIcn+Ua/fZ+Rh6z5a4Nt9NnUvyk5SYvpt9baL6Wb4vNfq+oly17klFmoz6rqqlx3bXBKa+2yJK9urf19VX1/9HhrxTb6bX2SOyV59NC1wUzy078hm9fqVKnb83utqra01v4tyataa3tU1ZXLV+n2M03Z6vHt3HDO2WEz29hH5/B0cw2aimBhd+5vTx/Z/pV08xzfalmrWSGq6jtVdc9080DfJcnt0w27vKCqzp1ocRPSWtsj3fDlfZIcWlXDi7/OfTJk/5GH7Z9uUbs1+SZSsmC/MY/F9Flr7cB0/7l7e1W9YJlLnDo7eJ59Od0CxT8zztqm2QL9tn+SOyT5Ybo3yy9O8rvpLsIuTvKHy1vt9PB7bfst0GeuDeaxHeeZ64IhC/Sb64J5LHSuuS5YtDPSTXl0h3S/136S+a8NEmtJzhnuMxbvBv3WT7l1QrrQ9PETqmuaLeZc+3K6tf5usxwFrRDD/bZ/ukD5nFx3bfCsdCNCLk7yoolUOH1W1e81Ycwq0X+K8qR0c7cPmxvO+5/LW9GK9Ogk366q0yZdyAowd4HwSyPbfzndsHoXENtQVedU1TfSfRr66CT/OOGSJqL/BP27070J+eCqOn94fz99yjfTzW8/7Igkn1irnx5fqN+4ocX0Wb8o7EfSzXl/zPJWOH2WcJ7dL90c0WtyCq5F9Nsrkjxo5OvEdBdgD0rywWUrdorsyPnWWtsryUOSfHHM5U2lRfwNdW0wYjvPM9cFvUX0m+uCEdtzrrkuWNC90y3gfHb/ifuTc8MRkUckOdOC9T/10z6bdCErzPX6rbX2s+n+jp6X5JFV9ZMJ1jatFnOu3S/d34LvLEtFK8Nwvx2XG14bvD3J5v77N02mxKmzzXOttbYu3ftGX5/2UTGJacpWjNbanrluPuxbJ9l7aGGiT1XVD9MNaf5ca+0d6X54fyHJXyV5R1V9e7lrngaL7Le01n4mya+ne5NkzVuo39INO/1Skn9ord08ybfS/XL8iyRvraorlrnkiVvMudZae1KSS9PNo3qbJE9L90f2lctc7rR4Q7o30p6err8OHNr3lf6C60VJ3tFa+3a6i68j0p1r91/mWqfJgv3WBwt3Htr+//Xn46aqOmEZa50W2+yzdJ9aPTHdJ1L/b5J7tNbm9l/Wv0my1izUZy3d7673pAsSbtS3f3ySv6iqa5a12umx0M/nWRn55G5r7XFJblVVpyxXkVNoofPtXkmemeT96c63n+vb3iI3DOzXisX8DXVtcH2L6TPXBTe00M+n64IbWsz/1VwXjGitvS/duXRGuv+T3S3d7/4zknygb/bSdFMfvSFd4PWgdOHpEctd7zRYTJ+11m6dbg2PJNkzye3nrlOrak1OY7ZQv/Uj205IsiHJU5IcMHRtcFVVfWXZi56wRfTZPkk+muRf0v0d2DXJA9P13z9U1f9OoOyJW6jf+g/PnDPymAcmuXatXhss4ly7dbr/174z3bm2b5I/SXKPJI+YRM3bSxizctws3Rsew+buPyjJKVX15dbaYekuHD6Ybkjbm5I8d9mqnD4L9lv//e+k+3kwFUFnm/1WVae01h6a7j/Dz+nb/0+SV2XtXkAs5lzbPV24cKt0c0e/L8nzq2rT8pQ4dQ7ub189z77bJjmnqt7ZB13P7r8qyeFVdeoy1TiNFuy3dL/ThhdJ/P3+69yszSHiC/XZbXLdNCqjCzV/Kt2FxFqzUJ/9b5JLkrwg3Rvil6YLGQ6vqn9fjgKn1GJ+PrmhhfrtgnSfGn95kpsm2ZRuypBjquoLy1Lh9FnM31DXBte32J9P1wXXt81+q6pzXBfcwGLONdcFN/SFdKHKs9PN4nJOkjcn+Zu5EfFV9ZnW2sOT/GW6kUTnJXl8VY1eh60VC/ZZumvRtw095sH9V5IMlqfMqbPNfmut3SbdG8DJDUctr9XrqYX6bJBuVounJbllujfRv5VuxoF/mkTBU2IxP6Nc30Ln2uXprj2fl+7/HFenC28OraoTJ1LxdhrMzs5OugYAAAAAAIBVy5oxAAAAAAAAYySMAQAAAAAAGCNhDAAAAAAAwBgJYwAAAAAAAMZIGAMAAAAAADBGwhgAAAAAAIAxEsYAAAAAAACMkTAGAAAAAABgjIQxAAAASVprT2ytzbbWTpt0LQAAwOoijAEAAOgcleScJPdqrd1hwrUAAACriDAGAABY81prt01y3yRPS/LDdMEMAADATrF+0gUAAABMgaOSXJzkI0ne299/8XCD1tpNk7wmyW8n2ZLk35Mcm+T0JH9QVccNtd0/yV8m+bUkeyb5ryQvqaoPjvdlAAAA08jIGAAAgC58eV9VXZ3knUl+obV2z7mdrbV1ST6U5HeTvD3Jc5P8bP/99bTW7pLk80nulOQVSZ6eZFOSD7TWDh/z6wAAAKaQkTEAAMCa1lr75ST7J3lyv+kzSb6bLqD5Yr/tYUnuk+TPq+q1/eP+PsnH5znka5Ocl+SeVXVV3/YN/XFfmeT9Y3khAADA1DIyBgAAWOuOSvK/SU5OkqqaTXJ8kiNba7v0bR6c5CdJ3jz3oKrakuTvhg/UWtsv3dRk705y49bahtbahiQ3TXJiuhE3txzvywEAAKaNkTEAAMCa1YctR6YLYm7bWpvbdVq66cUOSnJSklsnuaCqrhg5xLdG7t8hySDJS/uv+dwsyflLLh4AAFgxhDEAAMBa9mvp1n45sv8adVS6MGax5mYf+Jt0I2HmMxrgAAAAq5wwBgAAWMuOSvKDJH86z76HJzm8tXZMknOTPKi1tufI6Jg7jDzm7P72J1X1Hzu9WgAAYEUazM7OTroGAACAZdda2yPdWjHvqaqj59l/3ySfTTdi5pok703y51X12n7/uiQfTze65g+q6rh++8lJ7prkgKq6YOSYP1NVPxzbiwIAAKaSkTEAAMBa9VtJbpzkg1vZ//kkP0w3eubwJF9I8urW2h2SnNU/fr++7fCn3P40yWeSfK219uZ0o2VunuQ+SW6V5G4792UAAADTbt3CTQAAAFalo5JsTje65QaqakuSjyR5cJKbJPnNJMcneWySlyX5Xq6b3mzz0OO+keQe/WMfl+TvkhyTZEuSl+z0VwEAAEw905QBAADsoNbaw5K8P8n9quqzEy4HAACYUkbGAAAALEK/xszw/V2SPDnJZUn+cyJFAQAAK4I1YwAAABbn9X0gc2qS3ZM8PMl9kzynqq6caGUAAMBUE8YAAAAszieTPD3JQ5LMJPlWkidX1d9OtCoAAGDqWTMGAAAAAABgjKwZAwAAAAAAMEbCGAAAAAAAgDESxgAAAAAAAIyRMAYAAAAAAGCMhDEAAAAAAABjJIwBAAAAAAAYI2EMAAAAAADAGAljAAAAAAAAxkgYAwAAAAAAMEb/P1N7STDMZKhVAAAAAElFTkSuQmCC\" style=\"display: block; margin: 0 auto;\">\n",
       "</div>\n"
      ],
      "text/plain": [
       "<IPython.core.display.HTML object>"
      ]
     },
     "metadata": {},
     "output_type": "display_data"
    }
   ],
   "source": [
    "colors = sns.color_palette('pastel')[0:10]\n",
    "sns.countplot(x='Age', data=top_leagues, palette=colors)\n",
    "plt.title('PLAYERS AGES DISTRIBUTION', fontsize=15)\n",
    "sns.set_style('white')\n",
    "plt.savefig('output_bar.png', bbox_inches='tight', transparent=True)\n",
    "plt.close()\n",
    "with open(\"output_bar.png\", \"rb\") as img_file:\n",
    "    img_data = img_file.read()\n",
    "img_base64 = base64.b64encode(img_data).decode(\"utf-8\")\n",
    "html_code = f'''\n",
    "<div style=\"background-color:white; border-radius:2px; border:#000000 solid; padding: 15px; font-size:100%; text-align:center;\">\n",
    "<img src=\"data:image/png;base64,{img_base64}\" style=\"display: block; margin: 0 auto;\">\n",
    "</div>\n",
    "'''\n",
    "display(HTML(html_code))"
   ]
  },
  {
   "cell_type": "code",
   "execution_count": 38,
   "id": "40b648ee",
   "metadata": {
    "execution": {
     "iopub.execute_input": "2023-11-15T06:18:31.595703Z",
     "iopub.status.busy": "2023-11-15T06:18:31.595172Z",
     "iopub.status.idle": "2023-11-15T06:18:31.611706Z",
     "shell.execute_reply": "2023-11-15T06:18:31.610857Z"
    },
    "papermill": {
     "duration": 0.057535,
     "end_time": "2023-11-15T06:18:31.613745",
     "exception": false,
     "start_time": "2023-11-15T06:18:31.556210",
     "status": "completed"
    },
    "tags": []
   },
   "outputs": [
    {
     "data": {
      "text/html": [
       "<div>\n",
       "<style scoped>\n",
       "    .dataframe tbody tr th:only-of-type {\n",
       "        vertical-align: middle;\n",
       "    }\n",
       "\n",
       "    .dataframe tbody tr th {\n",
       "        vertical-align: top;\n",
       "    }\n",
       "\n",
       "    .dataframe thead th {\n",
       "        text-align: right;\n",
       "    }\n",
       "</style>\n",
       "<table border=\"1\" class=\"dataframe\">\n",
       "  <thead>\n",
       "    <tr style=\"text-align: right;\">\n",
       "      <th></th>\n",
       "      <th>count</th>\n",
       "      <th>min</th>\n",
       "      <th>max</th>\n",
       "    </tr>\n",
       "    <tr>\n",
       "      <th>Age</th>\n",
       "      <th></th>\n",
       "      <th></th>\n",
       "      <th></th>\n",
       "    </tr>\n",
       "  </thead>\n",
       "  <tbody>\n",
       "    <tr>\n",
       "      <th>16</th>\n",
       "      <td>7</td>\n",
       "      <td>3000000</td>\n",
       "      <td>21000000</td>\n",
       "    </tr>\n",
       "    <tr>\n",
       "      <th>17</th>\n",
       "      <td>17</td>\n",
       "      <td>2000000</td>\n",
       "      <td>24000000</td>\n",
       "    </tr>\n",
       "    <tr>\n",
       "      <th>18</th>\n",
       "      <td>58</td>\n",
       "      <td>2700000</td>\n",
       "      <td>45000000</td>\n",
       "    </tr>\n",
       "    <tr>\n",
       "      <th>19</th>\n",
       "      <td>122</td>\n",
       "      <td>1500000</td>\n",
       "      <td>135000000</td>\n",
       "    </tr>\n",
       "    <tr>\n",
       "      <th>20</th>\n",
       "      <td>217</td>\n",
       "      <td>950000</td>\n",
       "      <td>115000000</td>\n",
       "    </tr>\n",
       "    <tr>\n",
       "      <th>21</th>\n",
       "      <td>274</td>\n",
       "      <td>825000</td>\n",
       "      <td>88200000</td>\n",
       "    </tr>\n",
       "    <tr>\n",
       "      <th>22</th>\n",
       "      <td>310</td>\n",
       "      <td>1300000</td>\n",
       "      <td>70000000</td>\n",
       "    </tr>\n",
       "    <tr>\n",
       "      <th>23</th>\n",
       "      <td>381</td>\n",
       "      <td>1000000</td>\n",
       "      <td>105000000</td>\n",
       "    </tr>\n",
       "    <tr>\n",
       "      <th>24</th>\n",
       "      <td>394</td>\n",
       "      <td>900000</td>\n",
       "      <td>101000000</td>\n",
       "    </tr>\n",
       "    <tr>\n",
       "      <th>25</th>\n",
       "      <td>370</td>\n",
       "      <td>1100000</td>\n",
       "      <td>222000000</td>\n",
       "    </tr>\n",
       "    <tr>\n",
       "      <th>26</th>\n",
       "      <td>351</td>\n",
       "      <td>1250000</td>\n",
       "      <td>78800000</td>\n",
       "    </tr>\n",
       "    <tr>\n",
       "      <th>27</th>\n",
       "      <td>288</td>\n",
       "      <td>1120000</td>\n",
       "      <td>81720000</td>\n",
       "    </tr>\n",
       "    <tr>\n",
       "      <th>28</th>\n",
       "      <td>226</td>\n",
       "      <td>1200000</td>\n",
       "      <td>90000000</td>\n",
       "    </tr>\n",
       "    <tr>\n",
       "      <th>29</th>\n",
       "      <td>150</td>\n",
       "      <td>1000000</td>\n",
       "      <td>77500000</td>\n",
       "    </tr>\n",
       "    <tr>\n",
       "      <th>30</th>\n",
       "      <td>100</td>\n",
       "      <td>1500000</td>\n",
       "      <td>42000000</td>\n",
       "    </tr>\n",
       "    <tr>\n",
       "      <th>31</th>\n",
       "      <td>35</td>\n",
       "      <td>1100000</td>\n",
       "      <td>36150000</td>\n",
       "    </tr>\n",
       "    <tr>\n",
       "      <th>32</th>\n",
       "      <td>20</td>\n",
       "      <td>1800000</td>\n",
       "      <td>15100000</td>\n",
       "    </tr>\n",
       "    <tr>\n",
       "      <th>33</th>\n",
       "      <td>11</td>\n",
       "      <td>1500000</td>\n",
       "      <td>117000000</td>\n",
       "    </tr>\n",
       "    <tr>\n",
       "      <th>34</th>\n",
       "      <td>4</td>\n",
       "      <td>2400000</td>\n",
       "      <td>5000000</td>\n",
       "    </tr>\n",
       "    <tr>\n",
       "      <th>35</th>\n",
       "      <td>4</td>\n",
       "      <td>2000000</td>\n",
       "      <td>5300000</td>\n",
       "    </tr>\n",
       "  </tbody>\n",
       "</table>\n",
       "</div>"
      ],
      "text/plain": [
       "     count      min        max\n",
       "Age                           \n",
       "16       7  3000000   21000000\n",
       "17      17  2000000   24000000\n",
       "18      58  2700000   45000000\n",
       "19     122  1500000  135000000\n",
       "20     217   950000  115000000\n",
       "21     274   825000   88200000\n",
       "22     310  1300000   70000000\n",
       "23     381  1000000  105000000\n",
       "24     394   900000  101000000\n",
       "25     370  1100000  222000000\n",
       "26     351  1250000   78800000\n",
       "27     288  1120000   81720000\n",
       "28     226  1200000   90000000\n",
       "29     150  1000000   77500000\n",
       "30     100  1500000   42000000\n",
       "31      35  1100000   36150000\n",
       "32      20  1800000   15100000\n",
       "33      11  1500000  117000000\n",
       "34       4  2400000    5000000\n",
       "35       4  2000000    5300000"
      ]
     },
     "execution_count": 38,
     "metadata": {},
     "output_type": "execute_result"
    }
   ],
   "source": [
    "top_leagues.groupby(['Age'])['Transfer_fee'].agg(['count','min','max'])"
   ]
  },
  {
   "cell_type": "code",
   "execution_count": 39,
   "id": "224c1716",
   "metadata": {
    "execution": {
     "iopub.execute_input": "2023-11-15T06:18:31.679496Z",
     "iopub.status.busy": "2023-11-15T06:18:31.679040Z",
     "iopub.status.idle": "2023-11-15T06:18:31.693095Z",
     "shell.execute_reply": "2023-11-15T06:18:31.692320Z"
    },
    "papermill": {
     "duration": 0.049777,
     "end_time": "2023-11-15T06:18:31.695158",
     "exception": false,
     "start_time": "2023-11-15T06:18:31.645381",
     "status": "completed"
    },
    "tags": []
   },
   "outputs": [
    {
     "data": {
      "text/html": [
       "<div>\n",
       "<style scoped>\n",
       "    .dataframe tbody tr th:only-of-type {\n",
       "        vertical-align: middle;\n",
       "    }\n",
       "\n",
       "    .dataframe tbody tr th {\n",
       "        vertical-align: top;\n",
       "    }\n",
       "\n",
       "    .dataframe thead th {\n",
       "        text-align: right;\n",
       "    }\n",
       "</style>\n",
       "<table border=\"1\" class=\"dataframe\">\n",
       "  <thead>\n",
       "    <tr style=\"text-align: right;\">\n",
       "      <th></th>\n",
       "      <th>min</th>\n",
       "      <th>max</th>\n",
       "      <th>mean</th>\n",
       "    </tr>\n",
       "    <tr>\n",
       "      <th>League_to</th>\n",
       "      <th></th>\n",
       "      <th></th>\n",
       "      <th></th>\n",
       "    </tr>\n",
       "  </thead>\n",
       "  <tbody>\n",
       "    <tr>\n",
       "      <th>1.Bundesliga</th>\n",
       "      <td>17</td>\n",
       "      <td>35</td>\n",
       "      <td>23.725118</td>\n",
       "    </tr>\n",
       "    <tr>\n",
       "      <th>LaLiga</th>\n",
       "      <td>17</td>\n",
       "      <td>34</td>\n",
       "      <td>24.396190</td>\n",
       "    </tr>\n",
       "    <tr>\n",
       "      <th>Ligue 1</th>\n",
       "      <td>16</td>\n",
       "      <td>35</td>\n",
       "      <td>23.889169</td>\n",
       "    </tr>\n",
       "    <tr>\n",
       "      <th>Premier League</th>\n",
       "      <td>16</td>\n",
       "      <td>35</td>\n",
       "      <td>24.516720</td>\n",
       "    </tr>\n",
       "    <tr>\n",
       "      <th>Serie A</th>\n",
       "      <td>16</td>\n",
       "      <td>35</td>\n",
       "      <td>24.347767</td>\n",
       "    </tr>\n",
       "  </tbody>\n",
       "</table>\n",
       "</div>"
      ],
      "text/plain": [
       "                min  max       mean\n",
       "League_to                          \n",
       "1.Bundesliga     17   35  23.725118\n",
       "LaLiga           17   34  24.396190\n",
       "Ligue 1          16   35  23.889169\n",
       "Premier League   16   35  24.516720\n",
       "Serie A          16   35  24.347767"
      ]
     },
     "execution_count": 39,
     "metadata": {},
     "output_type": "execute_result"
    }
   ],
   "source": [
    "top_leagues.groupby(['League_to'])['Age'].agg(['min','max','mean'])"
   ]
  },
  {
   "cell_type": "code",
   "execution_count": 40,
   "id": "787b0e90",
   "metadata": {
    "execution": {
     "iopub.execute_input": "2023-11-15T06:18:31.759782Z",
     "iopub.status.busy": "2023-11-15T06:18:31.759070Z",
     "iopub.status.idle": "2023-11-15T06:18:31.770999Z",
     "shell.execute_reply": "2023-11-15T06:18:31.770104Z"
    },
    "papermill": {
     "duration": 0.046706,
     "end_time": "2023-11-15T06:18:31.773199",
     "exception": false,
     "start_time": "2023-11-15T06:18:31.726493",
     "status": "completed"
    },
    "tags": []
   },
   "outputs": [
    {
     "data": {
      "text/html": [
       "<div>\n",
       "<style scoped>\n",
       "    .dataframe tbody tr th:only-of-type {\n",
       "        vertical-align: middle;\n",
       "    }\n",
       "\n",
       "    .dataframe tbody tr th {\n",
       "        vertical-align: top;\n",
       "    }\n",
       "\n",
       "    .dataframe thead th {\n",
       "        text-align: right;\n",
       "    }\n",
       "</style>\n",
       "<table border=\"1\" class=\"dataframe\">\n",
       "  <thead>\n",
       "    <tr style=\"text-align: right;\">\n",
       "      <th></th>\n",
       "      <th>min</th>\n",
       "      <th>max</th>\n",
       "      <th>mean</th>\n",
       "    </tr>\n",
       "    <tr>\n",
       "      <th>Position</th>\n",
       "      <th></th>\n",
       "      <th></th>\n",
       "      <th></th>\n",
       "    </tr>\n",
       "  </thead>\n",
       "  <tbody>\n",
       "    <tr>\n",
       "      <th>Defender</th>\n",
       "      <td>16</td>\n",
       "      <td>34</td>\n",
       "      <td>24.322581</td>\n",
       "    </tr>\n",
       "    <tr>\n",
       "      <th>Forward</th>\n",
       "      <td>16</td>\n",
       "      <td>33</td>\n",
       "      <td>24.079721</td>\n",
       "    </tr>\n",
       "    <tr>\n",
       "      <th>Goalkeeper</th>\n",
       "      <td>19</td>\n",
       "      <td>35</td>\n",
       "      <td>26.000000</td>\n",
       "    </tr>\n",
       "    <tr>\n",
       "      <th>Midfielder</th>\n",
       "      <td>16</td>\n",
       "      <td>35</td>\n",
       "      <td>24.265049</td>\n",
       "    </tr>\n",
       "  </tbody>\n",
       "</table>\n",
       "</div>"
      ],
      "text/plain": [
       "            min  max       mean\n",
       "Position                       \n",
       "Defender     16   34  24.322581\n",
       "Forward      16   33  24.079721\n",
       "Goalkeeper   19   35  26.000000\n",
       "Midfielder   16   35  24.265049"
      ]
     },
     "execution_count": 40,
     "metadata": {},
     "output_type": "execute_result"
    }
   ],
   "source": [
    "top_leagues.groupby(['Position'])['Age'].agg(['min','max','mean'])"
   ]
  },
  {
   "cell_type": "code",
   "execution_count": 41,
   "id": "f6c49952",
   "metadata": {
    "execution": {
     "iopub.execute_input": "2023-11-15T06:18:31.837819Z",
     "iopub.status.busy": "2023-11-15T06:18:31.837387Z",
     "iopub.status.idle": "2023-11-15T06:18:31.850059Z",
     "shell.execute_reply": "2023-11-15T06:18:31.849297Z"
    },
    "papermill": {
     "duration": 0.04746,
     "end_time": "2023-11-15T06:18:31.851960",
     "exception": false,
     "start_time": "2023-11-15T06:18:31.804500",
     "status": "completed"
    },
    "tags": []
   },
   "outputs": [
    {
     "data": {
      "text/html": [
       "<div>\n",
       "<style scoped>\n",
       "    .dataframe tbody tr th:only-of-type {\n",
       "        vertical-align: middle;\n",
       "    }\n",
       "\n",
       "    .dataframe tbody tr th {\n",
       "        vertical-align: top;\n",
       "    }\n",
       "\n",
       "    .dataframe thead th {\n",
       "        text-align: right;\n",
       "    }\n",
       "</style>\n",
       "<table border=\"1\" class=\"dataframe\">\n",
       "  <thead>\n",
       "    <tr style=\"text-align: right;\">\n",
       "      <th></th>\n",
       "      <th>min</th>\n",
       "      <th>max</th>\n",
       "      <th>mean</th>\n",
       "    </tr>\n",
       "    <tr>\n",
       "      <th>Position</th>\n",
       "      <th></th>\n",
       "      <th></th>\n",
       "      <th></th>\n",
       "    </tr>\n",
       "  </thead>\n",
       "  <tbody>\n",
       "    <tr>\n",
       "      <th>Defender</th>\n",
       "      <td>825000</td>\n",
       "      <td>78800000</td>\n",
       "      <td>9.288738e+06</td>\n",
       "    </tr>\n",
       "    <tr>\n",
       "      <th>Forward</th>\n",
       "      <td>900000</td>\n",
       "      <td>222000000</td>\n",
       "      <td>1.221750e+07</td>\n",
       "    </tr>\n",
       "    <tr>\n",
       "      <th>Goalkeeper</th>\n",
       "      <td>1320000</td>\n",
       "      <td>62500000</td>\n",
       "      <td>8.357248e+06</td>\n",
       "    </tr>\n",
       "    <tr>\n",
       "      <th>Midfielder</th>\n",
       "      <td>950000</td>\n",
       "      <td>125000000</td>\n",
       "      <td>1.077717e+07</td>\n",
       "    </tr>\n",
       "  </tbody>\n",
       "</table>\n",
       "</div>"
      ],
      "text/plain": [
       "                min        max          mean\n",
       "Position                                    \n",
       "Defender     825000   78800000  9.288738e+06\n",
       "Forward      900000  222000000  1.221750e+07\n",
       "Goalkeeper  1320000   62500000  8.357248e+06\n",
       "Midfielder   950000  125000000  1.077717e+07"
      ]
     },
     "execution_count": 41,
     "metadata": {},
     "output_type": "execute_result"
    }
   ],
   "source": [
    "top_leagues.groupby(['Position'])['Transfer_fee'].agg(['min','max','mean'])"
   ]
  },
  {
   "cell_type": "code",
   "execution_count": 42,
   "id": "e486eb99",
   "metadata": {
    "execution": {
     "iopub.execute_input": "2023-11-15T06:18:31.917593Z",
     "iopub.status.busy": "2023-11-15T06:18:31.916909Z",
     "iopub.status.idle": "2023-11-15T06:18:31.925206Z",
     "shell.execute_reply": "2023-11-15T06:18:31.924056Z"
    },
    "papermill": {
     "duration": 0.044083,
     "end_time": "2023-11-15T06:18:31.927403",
     "exception": false,
     "start_time": "2023-11-15T06:18:31.883320",
     "status": "completed"
    },
    "tags": []
   },
   "outputs": [
    {
     "data": {
      "text/plain": [
       "Name              Cesc Fàbregas\n",
       "Position             Midfielder\n",
       "Age                          16\n",
       "Team_from       Barça Juvenil A\n",
       "League_from               Spain\n",
       "Team_to                 Arsenal\n",
       "League_to        Premier League\n",
       "Season                2003-2004\n",
       "Market_value                NaN\n",
       "Transfer_fee            3200000\n",
       "Name: 841, dtype: object"
      ]
     },
     "execution_count": 42,
     "metadata": {},
     "output_type": "execute_result"
    }
   ],
   "source": [
    "top_leagues.loc[top_leagues['Age'].idxmin()]"
   ]
  },
  {
   "cell_type": "code",
   "execution_count": 43,
   "id": "80529fb8",
   "metadata": {
    "execution": {
     "iopub.execute_input": "2023-11-15T06:18:31.993884Z",
     "iopub.status.busy": "2023-11-15T06:18:31.993449Z",
     "iopub.status.idle": "2023-11-15T06:18:32.001032Z",
     "shell.execute_reply": "2023-11-15T06:18:32.000313Z"
    },
    "papermill": {
     "duration": 0.043316,
     "end_time": "2023-11-15T06:18:32.002864",
     "exception": false,
     "start_time": "2023-11-15T06:18:31.959548",
     "status": "completed"
    },
    "tags": []
   },
   "outputs": [
    {
     "data": {
      "text/plain": [
       "Name            José Luis Chilavert\n",
       "Position                 Goalkeeper\n",
       "Age                              35\n",
       "Team_from           Vélez Sarsfield\n",
       "League_from               Argentina\n",
       "Team_to               R. Strasbourg\n",
       "League_to                   Ligue 1\n",
       "Season                    2000-2001\n",
       "Market_value                    NaN\n",
       "Transfer_fee                5300000\n",
       "Name: 112, dtype: object"
      ]
     },
     "execution_count": 43,
     "metadata": {},
     "output_type": "execute_result"
    }
   ],
   "source": [
    "top_leagues.loc[top_leagues['Age'].idxmax()]"
   ]
  },
  {
   "cell_type": "code",
   "execution_count": 44,
   "id": "edb86e34",
   "metadata": {
    "execution": {
     "iopub.execute_input": "2023-11-15T06:18:32.069780Z",
     "iopub.status.busy": "2023-11-15T06:18:32.068995Z",
     "iopub.status.idle": "2023-11-15T06:18:32.077106Z",
     "shell.execute_reply": "2023-11-15T06:18:32.076174Z"
    },
    "papermill": {
     "duration": 0.043601,
     "end_time": "2023-11-15T06:18:32.079232",
     "exception": false,
     "start_time": "2023-11-15T06:18:32.035631",
     "status": "completed"
    },
    "tags": []
   },
   "outputs": [
    {
     "data": {
      "text/plain": [
       "Name                  Neymar\n",
       "Position             Forward\n",
       "Age                       25\n",
       "Team_from       FC Barcelona\n",
       "League_from           LaLiga\n",
       "Team_to             Paris SG\n",
       "League_to            Ligue 1\n",
       "Season             2017-2018\n",
       "Market_value     100000000.0\n",
       "Transfer_fee       222000000\n",
       "Name: 4211, dtype: object"
      ]
     },
     "execution_count": 44,
     "metadata": {},
     "output_type": "execute_result"
    }
   ],
   "source": [
    "top_leagues.loc[top_leagues['Transfer_fee'].idxmax()]"
   ]
  },
  {
   "cell_type": "code",
   "execution_count": 45,
   "id": "df3bc696",
   "metadata": {
    "execution": {
     "iopub.execute_input": "2023-11-15T06:18:32.145810Z",
     "iopub.status.busy": "2023-11-15T06:18:32.145045Z",
     "iopub.status.idle": "2023-11-15T06:18:32.153469Z",
     "shell.execute_reply": "2023-11-15T06:18:32.152385Z"
    },
    "papermill": {
     "duration": 0.044663,
     "end_time": "2023-11-15T06:18:32.155713",
     "exception": false,
     "start_time": "2023-11-15T06:18:32.111050",
     "status": "completed"
    },
    "tags": []
   },
   "outputs": [
    {
     "data": {
      "text/plain": [
       "Name            Kylian Mbappé\n",
       "Position              Forward\n",
       "Age                        19\n",
       "Team_from              Monaco\n",
       "League_from           Ligue 1\n",
       "Team_to              Paris SG\n",
       "League_to             Ligue 1\n",
       "Season              2018-2019\n",
       "Market_value      120000000.0\n",
       "Transfer_fee        135000000\n",
       "Name: 4455, dtype: object"
      ]
     },
     "execution_count": 45,
     "metadata": {},
     "output_type": "execute_result"
    }
   ],
   "source": [
    "top_leagues.loc[top_leagues['Market_value'].idxmax()]"
   ]
  },
  {
   "cell_type": "code",
   "execution_count": 46,
   "id": "8de6746d",
   "metadata": {
    "execution": {
     "iopub.execute_input": "2023-11-15T06:18:32.221969Z",
     "iopub.status.busy": "2023-11-15T06:18:32.221510Z",
     "iopub.status.idle": "2023-11-15T06:18:32.241707Z",
     "shell.execute_reply": "2023-11-15T06:18:32.240355Z"
    },
    "papermill": {
     "duration": 0.056257,
     "end_time": "2023-11-15T06:18:32.243995",
     "exception": false,
     "start_time": "2023-11-15T06:18:32.187738",
     "status": "completed"
    },
    "tags": []
   },
   "outputs": [
    {
     "data": {
      "text/html": [
       "<div>\n",
       "<style scoped>\n",
       "    .dataframe tbody tr th:only-of-type {\n",
       "        vertical-align: middle;\n",
       "    }\n",
       "\n",
       "    .dataframe tbody tr th {\n",
       "        vertical-align: top;\n",
       "    }\n",
       "\n",
       "    .dataframe thead th {\n",
       "        text-align: right;\n",
       "    }\n",
       "</style>\n",
       "<table border=\"1\" class=\"dataframe\">\n",
       "  <thead>\n",
       "    <tr style=\"text-align: right;\">\n",
       "      <th></th>\n",
       "      <th>Name</th>\n",
       "      <th>Position</th>\n",
       "      <th>Age</th>\n",
       "      <th>Team_from</th>\n",
       "      <th>League_from</th>\n",
       "      <th>Team_to</th>\n",
       "      <th>League_to</th>\n",
       "      <th>Season</th>\n",
       "      <th>Market_value</th>\n",
       "      <th>Transfer_fee</th>\n",
       "    </tr>\n",
       "  </thead>\n",
       "  <tbody>\n",
       "    <tr>\n",
       "      <th>0</th>\n",
       "      <td>Neymar</td>\n",
       "      <td>Forward</td>\n",
       "      <td>25</td>\n",
       "      <td>FC Barcelona</td>\n",
       "      <td>LaLiga</td>\n",
       "      <td>Paris SG</td>\n",
       "      <td>Ligue 1</td>\n",
       "      <td>2017-2018</td>\n",
       "      <td>100000000.0</td>\n",
       "      <td>222000000</td>\n",
       "    </tr>\n",
       "    <tr>\n",
       "      <th>1</th>\n",
       "      <td>Kylian Mbappé</td>\n",
       "      <td>Forward</td>\n",
       "      <td>19</td>\n",
       "      <td>Monaco</td>\n",
       "      <td>Ligue 1</td>\n",
       "      <td>Paris SG</td>\n",
       "      <td>Ligue 1</td>\n",
       "      <td>2018-2019</td>\n",
       "      <td>120000000.0</td>\n",
       "      <td>135000000</td>\n",
       "    </tr>\n",
       "    <tr>\n",
       "      <th>2</th>\n",
       "      <td>Philippe Coutinho</td>\n",
       "      <td>Midfielder</td>\n",
       "      <td>25</td>\n",
       "      <td>Liverpool</td>\n",
       "      <td>Premier League</td>\n",
       "      <td>FC Barcelona</td>\n",
       "      <td>LaLiga</td>\n",
       "      <td>2017-2018</td>\n",
       "      <td>90000000.0</td>\n",
       "      <td>125000000</td>\n",
       "    </tr>\n",
       "    <tr>\n",
       "      <th>3</th>\n",
       "      <td>Cristiano Ronaldo</td>\n",
       "      <td>Forward</td>\n",
       "      <td>33</td>\n",
       "      <td>Real Madrid</td>\n",
       "      <td>LaLiga</td>\n",
       "      <td>Juventus</td>\n",
       "      <td>Serie A</td>\n",
       "      <td>2018-2019</td>\n",
       "      <td>100000000.0</td>\n",
       "      <td>117000000</td>\n",
       "    </tr>\n",
       "    <tr>\n",
       "      <th>4</th>\n",
       "      <td>Ousmane Dembélé</td>\n",
       "      <td>Forward</td>\n",
       "      <td>20</td>\n",
       "      <td>Bor. Dortmund</td>\n",
       "      <td>1.Bundesliga</td>\n",
       "      <td>FC Barcelona</td>\n",
       "      <td>LaLiga</td>\n",
       "      <td>2017-2018</td>\n",
       "      <td>33000000.0</td>\n",
       "      <td>115000000</td>\n",
       "    </tr>\n",
       "    <tr>\n",
       "      <th>5</th>\n",
       "      <td>Paul Pogba</td>\n",
       "      <td>Midfielder</td>\n",
       "      <td>23</td>\n",
       "      <td>Juventus</td>\n",
       "      <td>Serie A</td>\n",
       "      <td>Man Utd</td>\n",
       "      <td>Premier League</td>\n",
       "      <td>2016-2017</td>\n",
       "      <td>70000000.0</td>\n",
       "      <td>105000000</td>\n",
       "    </tr>\n",
       "    <tr>\n",
       "      <th>6</th>\n",
       "      <td>Gareth Bale</td>\n",
       "      <td>Forward</td>\n",
       "      <td>24</td>\n",
       "      <td>Spurs</td>\n",
       "      <td>Premier League</td>\n",
       "      <td>Real Madrid</td>\n",
       "      <td>LaLiga</td>\n",
       "      <td>2013-2014</td>\n",
       "      <td>65000000.0</td>\n",
       "      <td>101000000</td>\n",
       "    </tr>\n",
       "    <tr>\n",
       "      <th>7</th>\n",
       "      <td>Cristiano Ronaldo</td>\n",
       "      <td>Forward</td>\n",
       "      <td>24</td>\n",
       "      <td>Man Utd</td>\n",
       "      <td>Premier League</td>\n",
       "      <td>Real Madrid</td>\n",
       "      <td>LaLiga</td>\n",
       "      <td>2009-2010</td>\n",
       "      <td>60000000.0</td>\n",
       "      <td>94000000</td>\n",
       "    </tr>\n",
       "    <tr>\n",
       "      <th>8</th>\n",
       "      <td>Gonzalo Higuaín</td>\n",
       "      <td>Forward</td>\n",
       "      <td>28</td>\n",
       "      <td>SSC Napoli</td>\n",
       "      <td>Serie A</td>\n",
       "      <td>Juventus</td>\n",
       "      <td>Serie A</td>\n",
       "      <td>2016-2017</td>\n",
       "      <td>65000000.0</td>\n",
       "      <td>90000000</td>\n",
       "    </tr>\n",
       "    <tr>\n",
       "      <th>9</th>\n",
       "      <td>Neymar</td>\n",
       "      <td>Forward</td>\n",
       "      <td>21</td>\n",
       "      <td>Santos FC</td>\n",
       "      <td>Série A</td>\n",
       "      <td>FC Barcelona</td>\n",
       "      <td>LaLiga</td>\n",
       "      <td>2013-2014</td>\n",
       "      <td>50000000.0</td>\n",
       "      <td>88200000</td>\n",
       "    </tr>\n",
       "  </tbody>\n",
       "</table>\n",
       "</div>"
      ],
      "text/plain": [
       "                Name    Position  Age      Team_from     League_from  \\\n",
       "0             Neymar     Forward   25   FC Barcelona          LaLiga   \n",
       "1      Kylian Mbappé     Forward   19         Monaco         Ligue 1   \n",
       "2  Philippe Coutinho  Midfielder   25      Liverpool  Premier League   \n",
       "3  Cristiano Ronaldo     Forward   33    Real Madrid          LaLiga   \n",
       "4    Ousmane Dembélé     Forward   20  Bor. Dortmund    1.Bundesliga   \n",
       "5         Paul Pogba  Midfielder   23       Juventus         Serie A   \n",
       "6        Gareth Bale     Forward   24          Spurs  Premier League   \n",
       "7  Cristiano Ronaldo     Forward   24        Man Utd  Premier League   \n",
       "8    Gonzalo Higuaín     Forward   28     SSC Napoli         Serie A   \n",
       "9             Neymar     Forward   21      Santos FC         Série A   \n",
       "\n",
       "        Team_to       League_to     Season  Market_value  Transfer_fee  \n",
       "0      Paris SG         Ligue 1  2017-2018   100000000.0     222000000  \n",
       "1      Paris SG         Ligue 1  2018-2019   120000000.0     135000000  \n",
       "2  FC Barcelona          LaLiga  2017-2018    90000000.0     125000000  \n",
       "3      Juventus         Serie A  2018-2019   100000000.0     117000000  \n",
       "4  FC Barcelona          LaLiga  2017-2018    33000000.0     115000000  \n",
       "5       Man Utd  Premier League  2016-2017    70000000.0     105000000  \n",
       "6   Real Madrid          LaLiga  2013-2014    65000000.0     101000000  \n",
       "7   Real Madrid          LaLiga  2009-2010    60000000.0      94000000  \n",
       "8      Juventus         Serie A  2016-2017    65000000.0      90000000  \n",
       "9  FC Barcelona          LaLiga  2013-2014    50000000.0      88200000  "
      ]
     },
     "execution_count": 46,
     "metadata": {},
     "output_type": "execute_result"
    }
   ],
   "source": [
    "top_leagues.sort_values('Transfer_fee',ascending=False)[0:10].reset_index(drop=True)"
   ]
  },
  {
   "cell_type": "code",
   "execution_count": 47,
   "id": "fd83efc3",
   "metadata": {
    "execution": {
     "iopub.execute_input": "2023-11-15T06:18:32.312070Z",
     "iopub.status.busy": "2023-11-15T06:18:32.311369Z",
     "iopub.status.idle": "2023-11-15T06:18:32.329261Z",
     "shell.execute_reply": "2023-11-15T06:18:32.328329Z"
    },
    "papermill": {
     "duration": 0.055001,
     "end_time": "2023-11-15T06:18:32.331566",
     "exception": false,
     "start_time": "2023-11-15T06:18:32.276565",
     "status": "completed"
    },
    "tags": []
   },
   "outputs": [
    {
     "data": {
      "text/html": [
       "<div>\n",
       "<style scoped>\n",
       "    .dataframe tbody tr th:only-of-type {\n",
       "        vertical-align: middle;\n",
       "    }\n",
       "\n",
       "    .dataframe tbody tr th {\n",
       "        vertical-align: top;\n",
       "    }\n",
       "\n",
       "    .dataframe thead th {\n",
       "        text-align: right;\n",
       "    }\n",
       "</style>\n",
       "<table border=\"1\" class=\"dataframe\">\n",
       "  <thead>\n",
       "    <tr style=\"text-align: right;\">\n",
       "      <th></th>\n",
       "      <th>Name</th>\n",
       "      <th>Position</th>\n",
       "      <th>Age</th>\n",
       "      <th>Team_from</th>\n",
       "      <th>League_from</th>\n",
       "      <th>Team_to</th>\n",
       "      <th>League_to</th>\n",
       "      <th>Season</th>\n",
       "      <th>Market_value</th>\n",
       "      <th>Transfer_fee</th>\n",
       "    </tr>\n",
       "  </thead>\n",
       "  <tbody>\n",
       "    <tr>\n",
       "      <th>0</th>\n",
       "      <td>Kylian Mbappé</td>\n",
       "      <td>Forward</td>\n",
       "      <td>19</td>\n",
       "      <td>Monaco</td>\n",
       "      <td>Ligue 1</td>\n",
       "      <td>Paris SG</td>\n",
       "      <td>Ligue 1</td>\n",
       "      <td>2018-2019</td>\n",
       "      <td>120000000.0</td>\n",
       "      <td>135000000</td>\n",
       "    </tr>\n",
       "    <tr>\n",
       "      <th>1</th>\n",
       "      <td>Cristiano Ronaldo</td>\n",
       "      <td>Forward</td>\n",
       "      <td>33</td>\n",
       "      <td>Real Madrid</td>\n",
       "      <td>LaLiga</td>\n",
       "      <td>Juventus</td>\n",
       "      <td>Serie A</td>\n",
       "      <td>2018-2019</td>\n",
       "      <td>100000000.0</td>\n",
       "      <td>117000000</td>\n",
       "    </tr>\n",
       "    <tr>\n",
       "      <th>2</th>\n",
       "      <td>Neymar</td>\n",
       "      <td>Forward</td>\n",
       "      <td>25</td>\n",
       "      <td>FC Barcelona</td>\n",
       "      <td>LaLiga</td>\n",
       "      <td>Paris SG</td>\n",
       "      <td>Ligue 1</td>\n",
       "      <td>2017-2018</td>\n",
       "      <td>100000000.0</td>\n",
       "      <td>222000000</td>\n",
       "    </tr>\n",
       "    <tr>\n",
       "      <th>3</th>\n",
       "      <td>Philippe Coutinho</td>\n",
       "      <td>Midfielder</td>\n",
       "      <td>25</td>\n",
       "      <td>Liverpool</td>\n",
       "      <td>Premier League</td>\n",
       "      <td>FC Barcelona</td>\n",
       "      <td>LaLiga</td>\n",
       "      <td>2017-2018</td>\n",
       "      <td>90000000.0</td>\n",
       "      <td>125000000</td>\n",
       "    </tr>\n",
       "    <tr>\n",
       "      <th>4</th>\n",
       "      <td>Paul Pogba</td>\n",
       "      <td>Midfielder</td>\n",
       "      <td>23</td>\n",
       "      <td>Juventus</td>\n",
       "      <td>Serie A</td>\n",
       "      <td>Man Utd</td>\n",
       "      <td>Premier League</td>\n",
       "      <td>2016-2017</td>\n",
       "      <td>70000000.0</td>\n",
       "      <td>105000000</td>\n",
       "    </tr>\n",
       "    <tr>\n",
       "      <th>5</th>\n",
       "      <td>Gareth Bale</td>\n",
       "      <td>Forward</td>\n",
       "      <td>24</td>\n",
       "      <td>Spurs</td>\n",
       "      <td>Premier League</td>\n",
       "      <td>Real Madrid</td>\n",
       "      <td>LaLiga</td>\n",
       "      <td>2013-2014</td>\n",
       "      <td>65000000.0</td>\n",
       "      <td>101000000</td>\n",
       "    </tr>\n",
       "    <tr>\n",
       "      <th>6</th>\n",
       "      <td>Gonzalo Higuaín</td>\n",
       "      <td>Forward</td>\n",
       "      <td>28</td>\n",
       "      <td>SSC Napoli</td>\n",
       "      <td>Serie A</td>\n",
       "      <td>Juventus</td>\n",
       "      <td>Serie A</td>\n",
       "      <td>2016-2017</td>\n",
       "      <td>65000000.0</td>\n",
       "      <td>90000000</td>\n",
       "    </tr>\n",
       "    <tr>\n",
       "      <th>7</th>\n",
       "      <td>Naby Keïta</td>\n",
       "      <td>Midfielder</td>\n",
       "      <td>23</td>\n",
       "      <td>RB Leipzig</td>\n",
       "      <td>1.Bundesliga</td>\n",
       "      <td>Liverpool</td>\n",
       "      <td>Premier League</td>\n",
       "      <td>2018-2019</td>\n",
       "      <td>65000000.0</td>\n",
       "      <td>60000000</td>\n",
       "    </tr>\n",
       "    <tr>\n",
       "      <th>8</th>\n",
       "      <td>Pierre-Emerick Aubameyang</td>\n",
       "      <td>Forward</td>\n",
       "      <td>28</td>\n",
       "      <td>Bor. Dortmund</td>\n",
       "      <td>1.Bundesliga</td>\n",
       "      <td>Arsenal</td>\n",
       "      <td>Premier League</td>\n",
       "      <td>2017-2018</td>\n",
       "      <td>65000000.0</td>\n",
       "      <td>63750000</td>\n",
       "    </tr>\n",
       "    <tr>\n",
       "      <th>9</th>\n",
       "      <td>Thomas Lemar</td>\n",
       "      <td>Forward</td>\n",
       "      <td>22</td>\n",
       "      <td>Monaco</td>\n",
       "      <td>Ligue 1</td>\n",
       "      <td>Atlético Madrid</td>\n",
       "      <td>LaLiga</td>\n",
       "      <td>2018-2019</td>\n",
       "      <td>65000000.0</td>\n",
       "      <td>70000000</td>\n",
       "    </tr>\n",
       "  </tbody>\n",
       "</table>\n",
       "</div>"
      ],
      "text/plain": [
       "                        Name    Position  Age      Team_from     League_from  \\\n",
       "0              Kylian Mbappé     Forward   19         Monaco         Ligue 1   \n",
       "1          Cristiano Ronaldo     Forward   33    Real Madrid          LaLiga   \n",
       "2                     Neymar     Forward   25   FC Barcelona          LaLiga   \n",
       "3          Philippe Coutinho  Midfielder   25      Liverpool  Premier League   \n",
       "4                 Paul Pogba  Midfielder   23       Juventus         Serie A   \n",
       "5                Gareth Bale     Forward   24          Spurs  Premier League   \n",
       "6            Gonzalo Higuaín     Forward   28     SSC Napoli         Serie A   \n",
       "7                 Naby Keïta  Midfielder   23     RB Leipzig    1.Bundesliga   \n",
       "8  Pierre-Emerick Aubameyang     Forward   28  Bor. Dortmund    1.Bundesliga   \n",
       "9               Thomas Lemar     Forward   22         Monaco         Ligue 1   \n",
       "\n",
       "           Team_to       League_to     Season  Market_value  Transfer_fee  \n",
       "0         Paris SG         Ligue 1  2018-2019   120000000.0     135000000  \n",
       "1         Juventus         Serie A  2018-2019   100000000.0     117000000  \n",
       "2         Paris SG         Ligue 1  2017-2018   100000000.0     222000000  \n",
       "3     FC Barcelona          LaLiga  2017-2018    90000000.0     125000000  \n",
       "4          Man Utd  Premier League  2016-2017    70000000.0     105000000  \n",
       "5      Real Madrid          LaLiga  2013-2014    65000000.0     101000000  \n",
       "6         Juventus         Serie A  2016-2017    65000000.0      90000000  \n",
       "7        Liverpool  Premier League  2018-2019    65000000.0      60000000  \n",
       "8          Arsenal  Premier League  2017-2018    65000000.0      63750000  \n",
       "9  Atlético Madrid          LaLiga  2018-2019    65000000.0      70000000  "
      ]
     },
     "execution_count": 47,
     "metadata": {},
     "output_type": "execute_result"
    }
   ],
   "source": [
    "top_leagues.sort_values('Market_value',ascending=False)[0:10].reset_index(drop=True)"
   ]
  },
  {
   "cell_type": "code",
   "execution_count": 48,
   "id": "8ff35ecf",
   "metadata": {
    "execution": {
     "iopub.execute_input": "2023-11-15T06:18:32.400479Z",
     "iopub.status.busy": "2023-11-15T06:18:32.399534Z",
     "iopub.status.idle": "2023-11-15T06:18:32.418920Z",
     "shell.execute_reply": "2023-11-15T06:18:32.417759Z"
    },
    "papermill": {
     "duration": 0.057017,
     "end_time": "2023-11-15T06:18:32.421391",
     "exception": false,
     "start_time": "2023-11-15T06:18:32.364374",
     "status": "completed"
    },
    "tags": []
   },
   "outputs": [
    {
     "data": {
      "text/html": [
       "<div>\n",
       "<style scoped>\n",
       "    .dataframe tbody tr th:only-of-type {\n",
       "        vertical-align: middle;\n",
       "    }\n",
       "\n",
       "    .dataframe tbody tr th {\n",
       "        vertical-align: top;\n",
       "    }\n",
       "\n",
       "    .dataframe thead th {\n",
       "        text-align: right;\n",
       "    }\n",
       "</style>\n",
       "<table border=\"1\" class=\"dataframe\">\n",
       "  <thead>\n",
       "    <tr style=\"text-align: right;\">\n",
       "      <th></th>\n",
       "      <th>Name</th>\n",
       "      <th>Position</th>\n",
       "      <th>Age</th>\n",
       "      <th>Team_from</th>\n",
       "      <th>League_from</th>\n",
       "      <th>Team_to</th>\n",
       "      <th>League_to</th>\n",
       "      <th>Season</th>\n",
       "      <th>Market_value</th>\n",
       "      <th>Transfer_fee</th>\n",
       "    </tr>\n",
       "  </thead>\n",
       "  <tbody>\n",
       "    <tr>\n",
       "      <th>0</th>\n",
       "      <td>Paul Pogba</td>\n",
       "      <td>Midfielder</td>\n",
       "      <td>23</td>\n",
       "      <td>Juventus</td>\n",
       "      <td>Serie A</td>\n",
       "      <td>Man Utd</td>\n",
       "      <td>Premier League</td>\n",
       "      <td>2016-2017</td>\n",
       "      <td>70000000.0</td>\n",
       "      <td>105000000</td>\n",
       "    </tr>\n",
       "    <tr>\n",
       "      <th>1</th>\n",
       "      <td>Romelu Lukaku</td>\n",
       "      <td>Forward</td>\n",
       "      <td>24</td>\n",
       "      <td>Everton</td>\n",
       "      <td>Premier League</td>\n",
       "      <td>Man Utd</td>\n",
       "      <td>Premier League</td>\n",
       "      <td>2017-2018</td>\n",
       "      <td>50000000.0</td>\n",
       "      <td>84700000</td>\n",
       "    </tr>\n",
       "    <tr>\n",
       "      <th>2</th>\n",
       "      <td>Virgil van Dijk</td>\n",
       "      <td>Defender</td>\n",
       "      <td>26</td>\n",
       "      <td>Southampton</td>\n",
       "      <td>Premier League</td>\n",
       "      <td>Liverpool</td>\n",
       "      <td>Premier League</td>\n",
       "      <td>2017-2018</td>\n",
       "      <td>30000000.0</td>\n",
       "      <td>78800000</td>\n",
       "    </tr>\n",
       "    <tr>\n",
       "      <th>3</th>\n",
       "      <td>Kevin De Bruyne</td>\n",
       "      <td>Midfielder</td>\n",
       "      <td>24</td>\n",
       "      <td>VfL Wolfsburg</td>\n",
       "      <td>1.Bundesliga</td>\n",
       "      <td>Man City</td>\n",
       "      <td>Premier League</td>\n",
       "      <td>2015-2016</td>\n",
       "      <td>45000000.0</td>\n",
       "      <td>76000000</td>\n",
       "    </tr>\n",
       "    <tr>\n",
       "      <th>4</th>\n",
       "      <td>Ángel Di María</td>\n",
       "      <td>Forward</td>\n",
       "      <td>26</td>\n",
       "      <td>Real Madrid</td>\n",
       "      <td>LaLiga</td>\n",
       "      <td>Man Utd</td>\n",
       "      <td>Premier League</td>\n",
       "      <td>2014-2015</td>\n",
       "      <td>50000000.0</td>\n",
       "      <td>75000000</td>\n",
       "    </tr>\n",
       "    <tr>\n",
       "      <th>5</th>\n",
       "      <td>Riyad Mahrez</td>\n",
       "      <td>Forward</td>\n",
       "      <td>27</td>\n",
       "      <td>Leicester</td>\n",
       "      <td>Premier League</td>\n",
       "      <td>Man City</td>\n",
       "      <td>Premier League</td>\n",
       "      <td>2018-2019</td>\n",
       "      <td>50000000.0</td>\n",
       "      <td>67800000</td>\n",
       "    </tr>\n",
       "    <tr>\n",
       "      <th>6</th>\n",
       "      <td>Álvaro Morata</td>\n",
       "      <td>Forward</td>\n",
       "      <td>24</td>\n",
       "      <td>Real Madrid</td>\n",
       "      <td>LaLiga</td>\n",
       "      <td>Chelsea</td>\n",
       "      <td>Premier League</td>\n",
       "      <td>2017-2018</td>\n",
       "      <td>40000000.0</td>\n",
       "      <td>66000000</td>\n",
       "    </tr>\n",
       "    <tr>\n",
       "      <th>7</th>\n",
       "      <td>Aymeric Laporte</td>\n",
       "      <td>Defender</td>\n",
       "      <td>23</td>\n",
       "      <td>Athletic Bilbao</td>\n",
       "      <td>LaLiga</td>\n",
       "      <td>Man City</td>\n",
       "      <td>Premier League</td>\n",
       "      <td>2017-2018</td>\n",
       "      <td>25000000.0</td>\n",
       "      <td>65000000</td>\n",
       "    </tr>\n",
       "    <tr>\n",
       "      <th>8</th>\n",
       "      <td>Pierre-Emerick Aubameyang</td>\n",
       "      <td>Forward</td>\n",
       "      <td>28</td>\n",
       "      <td>Bor. Dortmund</td>\n",
       "      <td>1.Bundesliga</td>\n",
       "      <td>Arsenal</td>\n",
       "      <td>Premier League</td>\n",
       "      <td>2017-2018</td>\n",
       "      <td>65000000.0</td>\n",
       "      <td>63750000</td>\n",
       "    </tr>\n",
       "    <tr>\n",
       "      <th>9</th>\n",
       "      <td>Raheem Sterling</td>\n",
       "      <td>Forward</td>\n",
       "      <td>20</td>\n",
       "      <td>Liverpool</td>\n",
       "      <td>Premier League</td>\n",
       "      <td>Man City</td>\n",
       "      <td>Premier League</td>\n",
       "      <td>2015-2016</td>\n",
       "      <td>40000000.0</td>\n",
       "      <td>63700000</td>\n",
       "    </tr>\n",
       "  </tbody>\n",
       "</table>\n",
       "</div>"
      ],
      "text/plain": [
       "                        Name    Position  Age        Team_from  \\\n",
       "0                 Paul Pogba  Midfielder   23         Juventus   \n",
       "1              Romelu Lukaku     Forward   24          Everton   \n",
       "2            Virgil van Dijk    Defender   26      Southampton   \n",
       "3            Kevin De Bruyne  Midfielder   24    VfL Wolfsburg   \n",
       "4             Ángel Di María     Forward   26      Real Madrid   \n",
       "5               Riyad Mahrez     Forward   27        Leicester   \n",
       "6              Álvaro Morata     Forward   24      Real Madrid   \n",
       "7            Aymeric Laporte    Defender   23  Athletic Bilbao   \n",
       "8  Pierre-Emerick Aubameyang     Forward   28    Bor. Dortmund   \n",
       "9            Raheem Sterling     Forward   20        Liverpool   \n",
       "\n",
       "      League_from    Team_to       League_to     Season  Market_value  \\\n",
       "0         Serie A    Man Utd  Premier League  2016-2017    70000000.0   \n",
       "1  Premier League    Man Utd  Premier League  2017-2018    50000000.0   \n",
       "2  Premier League  Liverpool  Premier League  2017-2018    30000000.0   \n",
       "3    1.Bundesliga   Man City  Premier League  2015-2016    45000000.0   \n",
       "4          LaLiga    Man Utd  Premier League  2014-2015    50000000.0   \n",
       "5  Premier League   Man City  Premier League  2018-2019    50000000.0   \n",
       "6          LaLiga    Chelsea  Premier League  2017-2018    40000000.0   \n",
       "7          LaLiga   Man City  Premier League  2017-2018    25000000.0   \n",
       "8    1.Bundesliga    Arsenal  Premier League  2017-2018    65000000.0   \n",
       "9  Premier League   Man City  Premier League  2015-2016    40000000.0   \n",
       "\n",
       "   Transfer_fee  \n",
       "0     105000000  \n",
       "1      84700000  \n",
       "2      78800000  \n",
       "3      76000000  \n",
       "4      75000000  \n",
       "5      67800000  \n",
       "6      66000000  \n",
       "7      65000000  \n",
       "8      63750000  \n",
       "9      63700000  "
      ]
     },
     "execution_count": 48,
     "metadata": {},
     "output_type": "execute_result"
    }
   ],
   "source": [
    "England = top_leagues.loc[top_leagues.League_to=='Premier League'].sort_values('Transfer_fee',ascending=False).reset_index(drop=True)\n",
    "England.head(10)"
   ]
  },
  {
   "cell_type": "code",
   "execution_count": 49,
   "id": "459f2c05",
   "metadata": {
    "execution": {
     "iopub.execute_input": "2023-11-15T06:18:32.491786Z",
     "iopub.status.busy": "2023-11-15T06:18:32.491359Z",
     "iopub.status.idle": "2023-11-15T06:18:32.499754Z",
     "shell.execute_reply": "2023-11-15T06:18:32.498927Z"
    },
    "papermill": {
     "duration": 0.046198,
     "end_time": "2023-11-15T06:18:32.501680",
     "exception": false,
     "start_time": "2023-11-15T06:18:32.455482",
     "status": "completed"
    },
    "tags": []
   },
   "outputs": [
    {
     "data": {
      "text/plain": [
       "Team_to\n",
       "Man City     4\n",
       "Man Utd      3\n",
       "Liverpool    1\n",
       "Chelsea      1\n",
       "Arsenal      1\n",
       "Name: count, dtype: int64"
      ]
     },
     "execution_count": 49,
     "metadata": {},
     "output_type": "execute_result"
    }
   ],
   "source": [
    "England.head(10)['Team_to'].value_counts()"
   ]
  },
  {
   "cell_type": "code",
   "execution_count": 50,
   "id": "400f435e",
   "metadata": {
    "execution": {
     "iopub.execute_input": "2023-11-15T06:18:32.570531Z",
     "iopub.status.busy": "2023-11-15T06:18:32.569299Z",
     "iopub.status.idle": "2023-11-15T06:18:32.588338Z",
     "shell.execute_reply": "2023-11-15T06:18:32.587258Z"
    },
    "papermill": {
     "duration": 0.056161,
     "end_time": "2023-11-15T06:18:32.590941",
     "exception": false,
     "start_time": "2023-11-15T06:18:32.534780",
     "status": "completed"
    },
    "tags": []
   },
   "outputs": [
    {
     "data": {
      "text/html": [
       "<div>\n",
       "<style scoped>\n",
       "    .dataframe tbody tr th:only-of-type {\n",
       "        vertical-align: middle;\n",
       "    }\n",
       "\n",
       "    .dataframe tbody tr th {\n",
       "        vertical-align: top;\n",
       "    }\n",
       "\n",
       "    .dataframe thead th {\n",
       "        text-align: right;\n",
       "    }\n",
       "</style>\n",
       "<table border=\"1\" class=\"dataframe\">\n",
       "  <thead>\n",
       "    <tr style=\"text-align: right;\">\n",
       "      <th></th>\n",
       "      <th>Name</th>\n",
       "      <th>Position</th>\n",
       "      <th>Age</th>\n",
       "      <th>Team_from</th>\n",
       "      <th>League_from</th>\n",
       "      <th>Team_to</th>\n",
       "      <th>League_to</th>\n",
       "      <th>Season</th>\n",
       "      <th>Market_value</th>\n",
       "      <th>Transfer_fee</th>\n",
       "    </tr>\n",
       "  </thead>\n",
       "  <tbody>\n",
       "    <tr>\n",
       "      <th>0</th>\n",
       "      <td>Philippe Coutinho</td>\n",
       "      <td>Midfielder</td>\n",
       "      <td>25</td>\n",
       "      <td>Liverpool</td>\n",
       "      <td>Premier League</td>\n",
       "      <td>FC Barcelona</td>\n",
       "      <td>LaLiga</td>\n",
       "      <td>2017-2018</td>\n",
       "      <td>90000000.0</td>\n",
       "      <td>125000000</td>\n",
       "    </tr>\n",
       "    <tr>\n",
       "      <th>1</th>\n",
       "      <td>Ousmane Dembélé</td>\n",
       "      <td>Forward</td>\n",
       "      <td>20</td>\n",
       "      <td>Bor. Dortmund</td>\n",
       "      <td>1.Bundesliga</td>\n",
       "      <td>FC Barcelona</td>\n",
       "      <td>LaLiga</td>\n",
       "      <td>2017-2018</td>\n",
       "      <td>33000000.0</td>\n",
       "      <td>115000000</td>\n",
       "    </tr>\n",
       "    <tr>\n",
       "      <th>2</th>\n",
       "      <td>Gareth Bale</td>\n",
       "      <td>Forward</td>\n",
       "      <td>24</td>\n",
       "      <td>Spurs</td>\n",
       "      <td>Premier League</td>\n",
       "      <td>Real Madrid</td>\n",
       "      <td>LaLiga</td>\n",
       "      <td>2013-2014</td>\n",
       "      <td>65000000.0</td>\n",
       "      <td>101000000</td>\n",
       "    </tr>\n",
       "    <tr>\n",
       "      <th>3</th>\n",
       "      <td>Cristiano Ronaldo</td>\n",
       "      <td>Forward</td>\n",
       "      <td>24</td>\n",
       "      <td>Man Utd</td>\n",
       "      <td>Premier League</td>\n",
       "      <td>Real Madrid</td>\n",
       "      <td>LaLiga</td>\n",
       "      <td>2009-2010</td>\n",
       "      <td>60000000.0</td>\n",
       "      <td>94000000</td>\n",
       "    </tr>\n",
       "    <tr>\n",
       "      <th>4</th>\n",
       "      <td>Neymar</td>\n",
       "      <td>Forward</td>\n",
       "      <td>21</td>\n",
       "      <td>Santos FC</td>\n",
       "      <td>Série A</td>\n",
       "      <td>FC Barcelona</td>\n",
       "      <td>LaLiga</td>\n",
       "      <td>2013-2014</td>\n",
       "      <td>50000000.0</td>\n",
       "      <td>88200000</td>\n",
       "    </tr>\n",
       "    <tr>\n",
       "      <th>5</th>\n",
       "      <td>Luis Suárez</td>\n",
       "      <td>Forward</td>\n",
       "      <td>27</td>\n",
       "      <td>Liverpool</td>\n",
       "      <td>Premier League</td>\n",
       "      <td>FC Barcelona</td>\n",
       "      <td>LaLiga</td>\n",
       "      <td>2014-2015</td>\n",
       "      <td>52000000.0</td>\n",
       "      <td>81720000</td>\n",
       "    </tr>\n",
       "    <tr>\n",
       "      <th>6</th>\n",
       "      <td>Zinédine Zidane</td>\n",
       "      <td>Midfielder</td>\n",
       "      <td>29</td>\n",
       "      <td>Juventus</td>\n",
       "      <td>Serie A</td>\n",
       "      <td>Real Madrid</td>\n",
       "      <td>LaLiga</td>\n",
       "      <td>2001-2002</td>\n",
       "      <td>NaN</td>\n",
       "      <td>77500000</td>\n",
       "    </tr>\n",
       "    <tr>\n",
       "      <th>7</th>\n",
       "      <td>James Rodríguez</td>\n",
       "      <td>Midfielder</td>\n",
       "      <td>23</td>\n",
       "      <td>Monaco</td>\n",
       "      <td>Ligue 1</td>\n",
       "      <td>Real Madrid</td>\n",
       "      <td>LaLiga</td>\n",
       "      <td>2014-2015</td>\n",
       "      <td>60000000.0</td>\n",
       "      <td>75000000</td>\n",
       "    </tr>\n",
       "    <tr>\n",
       "      <th>8</th>\n",
       "      <td>Thomas Lemar</td>\n",
       "      <td>Forward</td>\n",
       "      <td>22</td>\n",
       "      <td>Monaco</td>\n",
       "      <td>Ligue 1</td>\n",
       "      <td>Atlético Madrid</td>\n",
       "      <td>LaLiga</td>\n",
       "      <td>2018-2019</td>\n",
       "      <td>65000000.0</td>\n",
       "      <td>70000000</td>\n",
       "    </tr>\n",
       "    <tr>\n",
       "      <th>9</th>\n",
       "      <td>Zlatan Ibrahimovic</td>\n",
       "      <td>Forward</td>\n",
       "      <td>27</td>\n",
       "      <td>Inter</td>\n",
       "      <td>Serie A</td>\n",
       "      <td>FC Barcelona</td>\n",
       "      <td>LaLiga</td>\n",
       "      <td>2009-2010</td>\n",
       "      <td>45000000.0</td>\n",
       "      <td>69500000</td>\n",
       "    </tr>\n",
       "  </tbody>\n",
       "</table>\n",
       "</div>"
      ],
      "text/plain": [
       "                 Name    Position  Age      Team_from     League_from  \\\n",
       "0   Philippe Coutinho  Midfielder   25      Liverpool  Premier League   \n",
       "1     Ousmane Dembélé     Forward   20  Bor. Dortmund    1.Bundesliga   \n",
       "2         Gareth Bale     Forward   24          Spurs  Premier League   \n",
       "3   Cristiano Ronaldo     Forward   24        Man Utd  Premier League   \n",
       "4              Neymar     Forward   21      Santos FC         Série A   \n",
       "5         Luis Suárez     Forward   27      Liverpool  Premier League   \n",
       "6     Zinédine Zidane  Midfielder   29       Juventus         Serie A   \n",
       "7     James Rodríguez  Midfielder   23         Monaco         Ligue 1   \n",
       "8        Thomas Lemar     Forward   22         Monaco         Ligue 1   \n",
       "9  Zlatan Ibrahimovic     Forward   27          Inter         Serie A   \n",
       "\n",
       "           Team_to League_to     Season  Market_value  Transfer_fee  \n",
       "0     FC Barcelona    LaLiga  2017-2018    90000000.0     125000000  \n",
       "1     FC Barcelona    LaLiga  2017-2018    33000000.0     115000000  \n",
       "2      Real Madrid    LaLiga  2013-2014    65000000.0     101000000  \n",
       "3      Real Madrid    LaLiga  2009-2010    60000000.0      94000000  \n",
       "4     FC Barcelona    LaLiga  2013-2014    50000000.0      88200000  \n",
       "5     FC Barcelona    LaLiga  2014-2015    52000000.0      81720000  \n",
       "6      Real Madrid    LaLiga  2001-2002           NaN      77500000  \n",
       "7      Real Madrid    LaLiga  2014-2015    60000000.0      75000000  \n",
       "8  Atlético Madrid    LaLiga  2018-2019    65000000.0      70000000  \n",
       "9     FC Barcelona    LaLiga  2009-2010    45000000.0      69500000  "
      ]
     },
     "execution_count": 50,
     "metadata": {},
     "output_type": "execute_result"
    }
   ],
   "source": [
    "spain = top_leagues.loc[top_leagues.League_to=='LaLiga'].sort_values('Transfer_fee',ascending=False).reset_index(drop=True)\n",
    "spain.head(10)"
   ]
  },
  {
   "cell_type": "code",
   "execution_count": 51,
   "id": "af242443",
   "metadata": {
    "execution": {
     "iopub.execute_input": "2023-11-15T06:18:32.660726Z",
     "iopub.status.busy": "2023-11-15T06:18:32.659930Z",
     "iopub.status.idle": "2023-11-15T06:18:32.668547Z",
     "shell.execute_reply": "2023-11-15T06:18:32.667677Z"
    },
    "papermill": {
     "duration": 0.045739,
     "end_time": "2023-11-15T06:18:32.670642",
     "exception": false,
     "start_time": "2023-11-15T06:18:32.624903",
     "status": "completed"
    },
    "tags": []
   },
   "outputs": [
    {
     "data": {
      "text/plain": [
       "Team_to\n",
       "FC Barcelona       5\n",
       "Real Madrid        4\n",
       "Atlético Madrid    1\n",
       "Name: count, dtype: int64"
      ]
     },
     "execution_count": 51,
     "metadata": {},
     "output_type": "execute_result"
    }
   ],
   "source": [
    "spain.head(10)['Team_to'].value_counts()"
   ]
  },
  {
   "cell_type": "code",
   "execution_count": 52,
   "id": "bad1039d",
   "metadata": {
    "execution": {
     "iopub.execute_input": "2023-11-15T06:18:32.740035Z",
     "iopub.status.busy": "2023-11-15T06:18:32.739225Z",
     "iopub.status.idle": "2023-11-15T06:18:32.758084Z",
     "shell.execute_reply": "2023-11-15T06:18:32.757168Z"
    },
    "papermill": {
     "duration": 0.056233,
     "end_time": "2023-11-15T06:18:32.760246",
     "exception": false,
     "start_time": "2023-11-15T06:18:32.704013",
     "status": "completed"
    },
    "tags": []
   },
   "outputs": [
    {
     "data": {
      "text/html": [
       "<div>\n",
       "<style scoped>\n",
       "    .dataframe tbody tr th:only-of-type {\n",
       "        vertical-align: middle;\n",
       "    }\n",
       "\n",
       "    .dataframe tbody tr th {\n",
       "        vertical-align: top;\n",
       "    }\n",
       "\n",
       "    .dataframe thead th {\n",
       "        text-align: right;\n",
       "    }\n",
       "</style>\n",
       "<table border=\"1\" class=\"dataframe\">\n",
       "  <thead>\n",
       "    <tr style=\"text-align: right;\">\n",
       "      <th></th>\n",
       "      <th>Name</th>\n",
       "      <th>Position</th>\n",
       "      <th>Age</th>\n",
       "      <th>Team_from</th>\n",
       "      <th>League_from</th>\n",
       "      <th>Team_to</th>\n",
       "      <th>League_to</th>\n",
       "      <th>Season</th>\n",
       "      <th>Market_value</th>\n",
       "      <th>Transfer_fee</th>\n",
       "    </tr>\n",
       "  </thead>\n",
       "  <tbody>\n",
       "    <tr>\n",
       "      <th>0</th>\n",
       "      <td>Neymar</td>\n",
       "      <td>Forward</td>\n",
       "      <td>25</td>\n",
       "      <td>FC Barcelona</td>\n",
       "      <td>LaLiga</td>\n",
       "      <td>Paris SG</td>\n",
       "      <td>Ligue 1</td>\n",
       "      <td>2017-2018</td>\n",
       "      <td>100000000.0</td>\n",
       "      <td>222000000</td>\n",
       "    </tr>\n",
       "    <tr>\n",
       "      <th>1</th>\n",
       "      <td>Kylian Mbappé</td>\n",
       "      <td>Forward</td>\n",
       "      <td>19</td>\n",
       "      <td>Monaco</td>\n",
       "      <td>Ligue 1</td>\n",
       "      <td>Paris SG</td>\n",
       "      <td>Ligue 1</td>\n",
       "      <td>2018-2019</td>\n",
       "      <td>120000000.0</td>\n",
       "      <td>135000000</td>\n",
       "    </tr>\n",
       "    <tr>\n",
       "      <th>2</th>\n",
       "      <td>Edinson Cavani</td>\n",
       "      <td>Forward</td>\n",
       "      <td>26</td>\n",
       "      <td>SSC Napoli</td>\n",
       "      <td>Serie A</td>\n",
       "      <td>Paris SG</td>\n",
       "      <td>Ligue 1</td>\n",
       "      <td>2013-2014</td>\n",
       "      <td>55000000.0</td>\n",
       "      <td>64500000</td>\n",
       "    </tr>\n",
       "    <tr>\n",
       "      <th>3</th>\n",
       "      <td>Ángel Di María</td>\n",
       "      <td>Forward</td>\n",
       "      <td>27</td>\n",
       "      <td>Man Utd</td>\n",
       "      <td>Premier League</td>\n",
       "      <td>Paris SG</td>\n",
       "      <td>Ligue 1</td>\n",
       "      <td>2015-2016</td>\n",
       "      <td>50000000.0</td>\n",
       "      <td>63000000</td>\n",
       "    </tr>\n",
       "    <tr>\n",
       "      <th>4</th>\n",
       "      <td>David Luiz</td>\n",
       "      <td>Defender</td>\n",
       "      <td>27</td>\n",
       "      <td>Chelsea</td>\n",
       "      <td>Premier League</td>\n",
       "      <td>Paris SG</td>\n",
       "      <td>Ligue 1</td>\n",
       "      <td>2014-2015</td>\n",
       "      <td>26000000.0</td>\n",
       "      <td>49500000</td>\n",
       "    </tr>\n",
       "    <tr>\n",
       "      <th>5</th>\n",
       "      <td>James Rodríguez</td>\n",
       "      <td>Midfielder</td>\n",
       "      <td>21</td>\n",
       "      <td>FC Porto</td>\n",
       "      <td>Liga NOS</td>\n",
       "      <td>Monaco</td>\n",
       "      <td>Ligue 1</td>\n",
       "      <td>2013-2014</td>\n",
       "      <td>23000000.0</td>\n",
       "      <td>45000000</td>\n",
       "    </tr>\n",
       "    <tr>\n",
       "      <th>6</th>\n",
       "      <td>Falcao</td>\n",
       "      <td>Forward</td>\n",
       "      <td>27</td>\n",
       "      <td>Atlético Madrid</td>\n",
       "      <td>LaLiga</td>\n",
       "      <td>Monaco</td>\n",
       "      <td>Ligue 1</td>\n",
       "      <td>2013-2014</td>\n",
       "      <td>60000000.0</td>\n",
       "      <td>43000000</td>\n",
       "    </tr>\n",
       "    <tr>\n",
       "      <th>7</th>\n",
       "      <td>Thiago Silva</td>\n",
       "      <td>Defender</td>\n",
       "      <td>27</td>\n",
       "      <td>AC Milan</td>\n",
       "      <td>Serie A</td>\n",
       "      <td>Paris SG</td>\n",
       "      <td>Ligue 1</td>\n",
       "      <td>2012-2013</td>\n",
       "      <td>38000000.0</td>\n",
       "      <td>42000000</td>\n",
       "    </tr>\n",
       "    <tr>\n",
       "      <th>8</th>\n",
       "      <td>Javier Pastore</td>\n",
       "      <td>Midfielder</td>\n",
       "      <td>22</td>\n",
       "      <td>US Palermo</td>\n",
       "      <td>Serie A</td>\n",
       "      <td>Paris SG</td>\n",
       "      <td>Ligue 1</td>\n",
       "      <td>2011-2012</td>\n",
       "      <td>21000000.0</td>\n",
       "      <td>42000000</td>\n",
       "    </tr>\n",
       "    <tr>\n",
       "      <th>9</th>\n",
       "      <td>Lucas Moura</td>\n",
       "      <td>Forward</td>\n",
       "      <td>20</td>\n",
       "      <td>São Paulo</td>\n",
       "      <td>Série A</td>\n",
       "      <td>Paris SG</td>\n",
       "      <td>Ligue 1</td>\n",
       "      <td>2012-2013</td>\n",
       "      <td>35000000.0</td>\n",
       "      <td>40000000</td>\n",
       "    </tr>\n",
       "  </tbody>\n",
       "</table>\n",
       "</div>"
      ],
      "text/plain": [
       "              Name    Position  Age        Team_from     League_from  \\\n",
       "0           Neymar     Forward   25     FC Barcelona          LaLiga   \n",
       "1    Kylian Mbappé     Forward   19           Monaco         Ligue 1   \n",
       "2   Edinson Cavani     Forward   26       SSC Napoli         Serie A   \n",
       "3   Ángel Di María     Forward   27          Man Utd  Premier League   \n",
       "4       David Luiz    Defender   27          Chelsea  Premier League   \n",
       "5  James Rodríguez  Midfielder   21         FC Porto        Liga NOS   \n",
       "6           Falcao     Forward   27  Atlético Madrid          LaLiga   \n",
       "7     Thiago Silva    Defender   27         AC Milan         Serie A   \n",
       "8   Javier Pastore  Midfielder   22       US Palermo         Serie A   \n",
       "9      Lucas Moura     Forward   20        São Paulo         Série A   \n",
       "\n",
       "    Team_to League_to     Season  Market_value  Transfer_fee  \n",
       "0  Paris SG   Ligue 1  2017-2018   100000000.0     222000000  \n",
       "1  Paris SG   Ligue 1  2018-2019   120000000.0     135000000  \n",
       "2  Paris SG   Ligue 1  2013-2014    55000000.0      64500000  \n",
       "3  Paris SG   Ligue 1  2015-2016    50000000.0      63000000  \n",
       "4  Paris SG   Ligue 1  2014-2015    26000000.0      49500000  \n",
       "5    Monaco   Ligue 1  2013-2014    23000000.0      45000000  \n",
       "6    Monaco   Ligue 1  2013-2014    60000000.0      43000000  \n",
       "7  Paris SG   Ligue 1  2012-2013    38000000.0      42000000  \n",
       "8  Paris SG   Ligue 1  2011-2012    21000000.0      42000000  \n",
       "9  Paris SG   Ligue 1  2012-2013    35000000.0      40000000  "
      ]
     },
     "execution_count": 52,
     "metadata": {},
     "output_type": "execute_result"
    }
   ],
   "source": [
    "france = top_leagues.loc[top_leagues.League_to=='Ligue 1'].sort_values('Transfer_fee',ascending=False).reset_index(drop=True)\n",
    "france.head(10)"
   ]
  },
  {
   "cell_type": "code",
   "execution_count": 53,
   "id": "9d1f5b7c",
   "metadata": {
    "execution": {
     "iopub.execute_input": "2023-11-15T06:18:32.830850Z",
     "iopub.status.busy": "2023-11-15T06:18:32.830238Z",
     "iopub.status.idle": "2023-11-15T06:18:32.837831Z",
     "shell.execute_reply": "2023-11-15T06:18:32.836617Z"
    },
    "papermill": {
     "duration": 0.045186,
     "end_time": "2023-11-15T06:18:32.839902",
     "exception": false,
     "start_time": "2023-11-15T06:18:32.794716",
     "status": "completed"
    },
    "tags": []
   },
   "outputs": [
    {
     "data": {
      "text/plain": [
       "Team_to\n",
       "Paris SG    8\n",
       "Monaco      2\n",
       "Name: count, dtype: int64"
      ]
     },
     "execution_count": 53,
     "metadata": {},
     "output_type": "execute_result"
    }
   ],
   "source": [
    "france.head(10)['Team_to'].value_counts()"
   ]
  },
  {
   "cell_type": "code",
   "execution_count": 54,
   "id": "583f7378",
   "metadata": {
    "execution": {
     "iopub.execute_input": "2023-11-15T06:18:32.911886Z",
     "iopub.status.busy": "2023-11-15T06:18:32.911250Z",
     "iopub.status.idle": "2023-11-15T06:18:32.928307Z",
     "shell.execute_reply": "2023-11-15T06:18:32.927422Z"
    },
    "papermill": {
     "duration": 0.056006,
     "end_time": "2023-11-15T06:18:32.930317",
     "exception": false,
     "start_time": "2023-11-15T06:18:32.874311",
     "status": "completed"
    },
    "tags": []
   },
   "outputs": [
    {
     "data": {
      "text/html": [
       "<div>\n",
       "<style scoped>\n",
       "    .dataframe tbody tr th:only-of-type {\n",
       "        vertical-align: middle;\n",
       "    }\n",
       "\n",
       "    .dataframe tbody tr th {\n",
       "        vertical-align: top;\n",
       "    }\n",
       "\n",
       "    .dataframe thead th {\n",
       "        text-align: right;\n",
       "    }\n",
       "</style>\n",
       "<table border=\"1\" class=\"dataframe\">\n",
       "  <thead>\n",
       "    <tr style=\"text-align: right;\">\n",
       "      <th></th>\n",
       "      <th>Name</th>\n",
       "      <th>Position</th>\n",
       "      <th>Age</th>\n",
       "      <th>Team_from</th>\n",
       "      <th>League_from</th>\n",
       "      <th>Team_to</th>\n",
       "      <th>League_to</th>\n",
       "      <th>Season</th>\n",
       "      <th>Market_value</th>\n",
       "      <th>Transfer_fee</th>\n",
       "    </tr>\n",
       "  </thead>\n",
       "  <tbody>\n",
       "    <tr>\n",
       "      <th>0</th>\n",
       "      <td>Julian Draxler</td>\n",
       "      <td>Midfielder</td>\n",
       "      <td>21</td>\n",
       "      <td>FC Schalke 04</td>\n",
       "      <td>1.Bundesliga</td>\n",
       "      <td>VfL Wolfsburg</td>\n",
       "      <td>1.Bundesliga</td>\n",
       "      <td>2015-2016</td>\n",
       "      <td>22000000.0</td>\n",
       "      <td>43000000</td>\n",
       "    </tr>\n",
       "    <tr>\n",
       "      <th>1</th>\n",
       "      <td>Corentin Tolisso</td>\n",
       "      <td>Midfielder</td>\n",
       "      <td>22</td>\n",
       "      <td>Olympique Lyon</td>\n",
       "      <td>Ligue 1</td>\n",
       "      <td>Bayern Munich</td>\n",
       "      <td>1.Bundesliga</td>\n",
       "      <td>2017-2018</td>\n",
       "      <td>22000000.0</td>\n",
       "      <td>41500000</td>\n",
       "    </tr>\n",
       "    <tr>\n",
       "      <th>2</th>\n",
       "      <td>Javi Martínez</td>\n",
       "      <td>Midfielder</td>\n",
       "      <td>24</td>\n",
       "      <td>Athletic Bilbao</td>\n",
       "      <td>LaLiga</td>\n",
       "      <td>Bayern Munich</td>\n",
       "      <td>1.Bundesliga</td>\n",
       "      <td>2012-2013</td>\n",
       "      <td>30000000.0</td>\n",
       "      <td>40000000</td>\n",
       "    </tr>\n",
       "    <tr>\n",
       "      <th>3</th>\n",
       "      <td>Arturo Vidal</td>\n",
       "      <td>Midfielder</td>\n",
       "      <td>28</td>\n",
       "      <td>Juventus</td>\n",
       "      <td>Serie A</td>\n",
       "      <td>Bayern Munich</td>\n",
       "      <td>1.Bundesliga</td>\n",
       "      <td>2015-2016</td>\n",
       "      <td>42000000.0</td>\n",
       "      <td>37500000</td>\n",
       "    </tr>\n",
       "    <tr>\n",
       "      <th>4</th>\n",
       "      <td>Mario Götze</td>\n",
       "      <td>Midfielder</td>\n",
       "      <td>21</td>\n",
       "      <td>Bor. Dortmund</td>\n",
       "      <td>1.Bundesliga</td>\n",
       "      <td>Bayern Munich</td>\n",
       "      <td>1.Bundesliga</td>\n",
       "      <td>2013-2014</td>\n",
       "      <td>45000000.0</td>\n",
       "      <td>37000000</td>\n",
       "    </tr>\n",
       "    <tr>\n",
       "      <th>5</th>\n",
       "      <td>Renato Sanches</td>\n",
       "      <td>Midfielder</td>\n",
       "      <td>18</td>\n",
       "      <td>Benfica</td>\n",
       "      <td>Liga NOS</td>\n",
       "      <td>Bayern Munich</td>\n",
       "      <td>1.Bundesliga</td>\n",
       "      <td>2016-2017</td>\n",
       "      <td>10000000.0</td>\n",
       "      <td>35000000</td>\n",
       "    </tr>\n",
       "    <tr>\n",
       "      <th>6</th>\n",
       "      <td>Mats Hummels</td>\n",
       "      <td>Defender</td>\n",
       "      <td>27</td>\n",
       "      <td>Bor. Dortmund</td>\n",
       "      <td>1.Bundesliga</td>\n",
       "      <td>Bayern Munich</td>\n",
       "      <td>1.Bundesliga</td>\n",
       "      <td>2016-2017</td>\n",
       "      <td>32000000.0</td>\n",
       "      <td>35000000</td>\n",
       "    </tr>\n",
       "    <tr>\n",
       "      <th>7</th>\n",
       "      <td>André Schürrle</td>\n",
       "      <td>Forward</td>\n",
       "      <td>24</td>\n",
       "      <td>Chelsea</td>\n",
       "      <td>Premier League</td>\n",
       "      <td>VfL Wolfsburg</td>\n",
       "      <td>1.Bundesliga</td>\n",
       "      <td>2014-2015</td>\n",
       "      <td>23000000.0</td>\n",
       "      <td>32000000</td>\n",
       "    </tr>\n",
       "    <tr>\n",
       "      <th>8</th>\n",
       "      <td>Mario Gómez</td>\n",
       "      <td>Forward</td>\n",
       "      <td>23</td>\n",
       "      <td>VfB Stuttgart</td>\n",
       "      <td>1.Bundesliga</td>\n",
       "      <td>Bayern Munich</td>\n",
       "      <td>1.Bundesliga</td>\n",
       "      <td>2009-2010</td>\n",
       "      <td>30000000.0</td>\n",
       "      <td>30000000</td>\n",
       "    </tr>\n",
       "    <tr>\n",
       "      <th>9</th>\n",
       "      <td>Franck Ribéry</td>\n",
       "      <td>Forward</td>\n",
       "      <td>24</td>\n",
       "      <td>Marseille</td>\n",
       "      <td>Ligue 1</td>\n",
       "      <td>Bayern Munich</td>\n",
       "      <td>1.Bundesliga</td>\n",
       "      <td>2007-2008</td>\n",
       "      <td>23000000.0</td>\n",
       "      <td>30000000</td>\n",
       "    </tr>\n",
       "  </tbody>\n",
       "</table>\n",
       "</div>"
      ],
      "text/plain": [
       "               Name    Position  Age        Team_from     League_from  \\\n",
       "0    Julian Draxler  Midfielder   21    FC Schalke 04    1.Bundesliga   \n",
       "1  Corentin Tolisso  Midfielder   22   Olympique Lyon         Ligue 1   \n",
       "2     Javi Martínez  Midfielder   24  Athletic Bilbao          LaLiga   \n",
       "3      Arturo Vidal  Midfielder   28         Juventus         Serie A   \n",
       "4       Mario Götze  Midfielder   21    Bor. Dortmund    1.Bundesliga   \n",
       "5    Renato Sanches  Midfielder   18          Benfica        Liga NOS   \n",
       "6      Mats Hummels    Defender   27    Bor. Dortmund    1.Bundesliga   \n",
       "7    André Schürrle     Forward   24          Chelsea  Premier League   \n",
       "8       Mario Gómez     Forward   23    VfB Stuttgart    1.Bundesliga   \n",
       "9     Franck Ribéry     Forward   24        Marseille         Ligue 1   \n",
       "\n",
       "          Team_to     League_to     Season  Market_value  Transfer_fee  \n",
       "0   VfL Wolfsburg  1.Bundesliga  2015-2016    22000000.0      43000000  \n",
       "1  Bayern Munich   1.Bundesliga  2017-2018    22000000.0      41500000  \n",
       "2  Bayern Munich   1.Bundesliga  2012-2013    30000000.0      40000000  \n",
       "3  Bayern Munich   1.Bundesliga  2015-2016    42000000.0      37500000  \n",
       "4  Bayern Munich   1.Bundesliga  2013-2014    45000000.0      37000000  \n",
       "5  Bayern Munich   1.Bundesliga  2016-2017    10000000.0      35000000  \n",
       "6  Bayern Munich   1.Bundesliga  2016-2017    32000000.0      35000000  \n",
       "7   VfL Wolfsburg  1.Bundesliga  2014-2015    23000000.0      32000000  \n",
       "8  Bayern Munich   1.Bundesliga  2009-2010    30000000.0      30000000  \n",
       "9  Bayern Munich   1.Bundesliga  2007-2008    23000000.0      30000000  "
      ]
     },
     "execution_count": 54,
     "metadata": {},
     "output_type": "execute_result"
    }
   ],
   "source": [
    "Germany = top_leagues.loc[top_leagues.League_to=='1.Bundesliga'].sort_values('Transfer_fee',ascending=False).reset_index(drop=True)\n",
    "Germany.head(10)"
   ]
  },
  {
   "cell_type": "code",
   "execution_count": 55,
   "id": "013b446a",
   "metadata": {
    "execution": {
     "iopub.execute_input": "2023-11-15T06:18:33.001912Z",
     "iopub.status.busy": "2023-11-15T06:18:33.001180Z",
     "iopub.status.idle": "2023-11-15T06:18:33.008744Z",
     "shell.execute_reply": "2023-11-15T06:18:33.007996Z"
    },
    "papermill": {
     "duration": 0.046036,
     "end_time": "2023-11-15T06:18:33.010999",
     "exception": false,
     "start_time": "2023-11-15T06:18:32.964963",
     "status": "completed"
    },
    "tags": []
   },
   "outputs": [
    {
     "data": {
      "text/plain": [
       "Team_to\n",
       "Bayern Munich     8\n",
       "VfL Wolfsburg     2\n",
       "Name: count, dtype: int64"
      ]
     },
     "execution_count": 55,
     "metadata": {},
     "output_type": "execute_result"
    }
   ],
   "source": [
    "Germany.head(10)['Team_to'].value_counts()"
   ]
  },
  {
   "cell_type": "code",
   "execution_count": 56,
   "id": "b7b11120",
   "metadata": {
    "execution": {
     "iopub.execute_input": "2023-11-15T06:18:33.083341Z",
     "iopub.status.busy": "2023-11-15T06:18:33.082629Z",
     "iopub.status.idle": "2023-11-15T06:18:33.102117Z",
     "shell.execute_reply": "2023-11-15T06:18:33.101227Z"
    },
    "papermill": {
     "duration": 0.057354,
     "end_time": "2023-11-15T06:18:33.104142",
     "exception": false,
     "start_time": "2023-11-15T06:18:33.046788",
     "status": "completed"
    },
    "tags": []
   },
   "outputs": [
    {
     "data": {
      "text/html": [
       "<div>\n",
       "<style scoped>\n",
       "    .dataframe tbody tr th:only-of-type {\n",
       "        vertical-align: middle;\n",
       "    }\n",
       "\n",
       "    .dataframe tbody tr th {\n",
       "        vertical-align: top;\n",
       "    }\n",
       "\n",
       "    .dataframe thead th {\n",
       "        text-align: right;\n",
       "    }\n",
       "</style>\n",
       "<table border=\"1\" class=\"dataframe\">\n",
       "  <thead>\n",
       "    <tr style=\"text-align: right;\">\n",
       "      <th></th>\n",
       "      <th>Name</th>\n",
       "      <th>Position</th>\n",
       "      <th>Age</th>\n",
       "      <th>Team_from</th>\n",
       "      <th>League_from</th>\n",
       "      <th>Team_to</th>\n",
       "      <th>League_to</th>\n",
       "      <th>Season</th>\n",
       "      <th>Market_value</th>\n",
       "      <th>Transfer_fee</th>\n",
       "    </tr>\n",
       "  </thead>\n",
       "  <tbody>\n",
       "    <tr>\n",
       "      <th>0</th>\n",
       "      <td>Cristiano Ronaldo</td>\n",
       "      <td>Forward</td>\n",
       "      <td>33</td>\n",
       "      <td>Real Madrid</td>\n",
       "      <td>LaLiga</td>\n",
       "      <td>Juventus</td>\n",
       "      <td>Serie A</td>\n",
       "      <td>2018-2019</td>\n",
       "      <td>100000000.0</td>\n",
       "      <td>117000000</td>\n",
       "    </tr>\n",
       "    <tr>\n",
       "      <th>1</th>\n",
       "      <td>Gonzalo Higuaín</td>\n",
       "      <td>Forward</td>\n",
       "      <td>28</td>\n",
       "      <td>SSC Napoli</td>\n",
       "      <td>Serie A</td>\n",
       "      <td>Juventus</td>\n",
       "      <td>Serie A</td>\n",
       "      <td>2016-2017</td>\n",
       "      <td>65000000.0</td>\n",
       "      <td>90000000</td>\n",
       "    </tr>\n",
       "    <tr>\n",
       "      <th>2</th>\n",
       "      <td>Hernán Crespo</td>\n",
       "      <td>Forward</td>\n",
       "      <td>25</td>\n",
       "      <td>Parma</td>\n",
       "      <td>Serie A</td>\n",
       "      <td>Lazio</td>\n",
       "      <td>Serie A</td>\n",
       "      <td>2000-2001</td>\n",
       "      <td>NaN</td>\n",
       "      <td>56810000</td>\n",
       "    </tr>\n",
       "    <tr>\n",
       "      <th>3</th>\n",
       "      <td>Gianluigi Buffon</td>\n",
       "      <td>Goalkeeper</td>\n",
       "      <td>23</td>\n",
       "      <td>Parma</td>\n",
       "      <td>Serie A</td>\n",
       "      <td>Juventus</td>\n",
       "      <td>Serie A</td>\n",
       "      <td>2001-2002</td>\n",
       "      <td>NaN</td>\n",
       "      <td>52880000</td>\n",
       "    </tr>\n",
       "    <tr>\n",
       "      <th>4</th>\n",
       "      <td>Gaizka Mendieta</td>\n",
       "      <td>Midfielder</td>\n",
       "      <td>27</td>\n",
       "      <td>Valencia CF</td>\n",
       "      <td>LaLiga</td>\n",
       "      <td>Lazio</td>\n",
       "      <td>Serie A</td>\n",
       "      <td>2001-2002</td>\n",
       "      <td>NaN</td>\n",
       "      <td>48000000</td>\n",
       "    </tr>\n",
       "    <tr>\n",
       "      <th>5</th>\n",
       "      <td>Rui Costa</td>\n",
       "      <td>Midfielder</td>\n",
       "      <td>29</td>\n",
       "      <td>Fiorentina</td>\n",
       "      <td>Serie A</td>\n",
       "      <td>AC Milan</td>\n",
       "      <td>Serie A</td>\n",
       "      <td>2001-2002</td>\n",
       "      <td>NaN</td>\n",
       "      <td>42000000</td>\n",
       "    </tr>\n",
       "    <tr>\n",
       "      <th>6</th>\n",
       "      <td>Leonardo Bonucci</td>\n",
       "      <td>Defender</td>\n",
       "      <td>30</td>\n",
       "      <td>Juventus</td>\n",
       "      <td>Serie A</td>\n",
       "      <td>AC Milan</td>\n",
       "      <td>Serie A</td>\n",
       "      <td>2017-2018</td>\n",
       "      <td>45000000.0</td>\n",
       "      <td>42000000</td>\n",
       "    </tr>\n",
       "    <tr>\n",
       "      <th>7</th>\n",
       "      <td>Lilian Thuram</td>\n",
       "      <td>Defender</td>\n",
       "      <td>29</td>\n",
       "      <td>Parma</td>\n",
       "      <td>Serie A</td>\n",
       "      <td>Juventus</td>\n",
       "      <td>Serie A</td>\n",
       "      <td>2001-2002</td>\n",
       "      <td>NaN</td>\n",
       "      <td>41500000</td>\n",
       "    </tr>\n",
       "    <tr>\n",
       "      <th>8</th>\n",
       "      <td>João Cancelo</td>\n",
       "      <td>Defender</td>\n",
       "      <td>24</td>\n",
       "      <td>Valencia CF</td>\n",
       "      <td>LaLiga</td>\n",
       "      <td>Juventus</td>\n",
       "      <td>Serie A</td>\n",
       "      <td>2018-2019</td>\n",
       "      <td>35000000.0</td>\n",
       "      <td>40400000</td>\n",
       "    </tr>\n",
       "    <tr>\n",
       "      <th>9</th>\n",
       "      <td>Douglas Costa</td>\n",
       "      <td>Forward</td>\n",
       "      <td>27</td>\n",
       "      <td>Bayern Munich</td>\n",
       "      <td>1.Bundesliga</td>\n",
       "      <td>Juventus</td>\n",
       "      <td>Serie A</td>\n",
       "      <td>2018-2019</td>\n",
       "      <td>55000000.0</td>\n",
       "      <td>40000000</td>\n",
       "    </tr>\n",
       "  </tbody>\n",
       "</table>\n",
       "</div>"
      ],
      "text/plain": [
       "                Name    Position  Age       Team_from   League_from   Team_to  \\\n",
       "0  Cristiano Ronaldo     Forward   33     Real Madrid        LaLiga  Juventus   \n",
       "1    Gonzalo Higuaín     Forward   28      SSC Napoli       Serie A  Juventus   \n",
       "2      Hernán Crespo     Forward   25           Parma       Serie A     Lazio   \n",
       "3   Gianluigi Buffon  Goalkeeper   23           Parma       Serie A  Juventus   \n",
       "4    Gaizka Mendieta  Midfielder   27     Valencia CF        LaLiga     Lazio   \n",
       "5          Rui Costa  Midfielder   29      Fiorentina       Serie A  AC Milan   \n",
       "6   Leonardo Bonucci    Defender   30        Juventus       Serie A  AC Milan   \n",
       "7      Lilian Thuram    Defender   29           Parma       Serie A  Juventus   \n",
       "8       João Cancelo    Defender   24     Valencia CF        LaLiga  Juventus   \n",
       "9      Douglas Costa     Forward   27  Bayern Munich   1.Bundesliga  Juventus   \n",
       "\n",
       "  League_to     Season  Market_value  Transfer_fee  \n",
       "0   Serie A  2018-2019   100000000.0     117000000  \n",
       "1   Serie A  2016-2017    65000000.0      90000000  \n",
       "2   Serie A  2000-2001           NaN      56810000  \n",
       "3   Serie A  2001-2002           NaN      52880000  \n",
       "4   Serie A  2001-2002           NaN      48000000  \n",
       "5   Serie A  2001-2002           NaN      42000000  \n",
       "6   Serie A  2017-2018    45000000.0      42000000  \n",
       "7   Serie A  2001-2002           NaN      41500000  \n",
       "8   Serie A  2018-2019    35000000.0      40400000  \n",
       "9   Serie A  2018-2019    55000000.0      40000000  "
      ]
     },
     "execution_count": 56,
     "metadata": {},
     "output_type": "execute_result"
    }
   ],
   "source": [
    "Italy = top_leagues.loc[top_leagues.League_to=='Serie A'].sort_values('Transfer_fee',ascending=False).reset_index(drop=True)\n",
    "Italy.head(10)"
   ]
  },
  {
   "cell_type": "code",
   "execution_count": 57,
   "id": "074d3c1c",
   "metadata": {
    "execution": {
     "iopub.execute_input": "2023-11-15T06:18:33.176180Z",
     "iopub.status.busy": "2023-11-15T06:18:33.175089Z",
     "iopub.status.idle": "2023-11-15T06:18:33.184495Z",
     "shell.execute_reply": "2023-11-15T06:18:33.183312Z"
    },
    "papermill": {
     "duration": 0.047935,
     "end_time": "2023-11-15T06:18:33.186782",
     "exception": false,
     "start_time": "2023-11-15T06:18:33.138847",
     "status": "completed"
    },
    "tags": []
   },
   "outputs": [
    {
     "data": {
      "text/plain": [
       "Team_to\n",
       "Juventus    6\n",
       "Lazio       2\n",
       "AC Milan    2\n",
       "Name: count, dtype: int64"
      ]
     },
     "execution_count": 57,
     "metadata": {},
     "output_type": "execute_result"
    }
   ],
   "source": [
    "Italy.head(10)['Team_to'].value_counts()"
   ]
  },
  {
   "cell_type": "markdown",
   "id": "1014df75",
   "metadata": {
    "papermill": {
     "duration": 0.034777,
     "end_time": "2023-11-15T06:18:33.256490",
     "exception": false,
     "start_time": "2023-11-15T06:18:33.221713",
     "status": "completed"
    },
    "tags": []
   },
   "source": [
    "<div style=\"background-color:#ffffff; border-radius:2px; border:#000000 solid; padding: 15px; font-size:100%; text-align:center\">\n",
    "    <img src=\"https://media.tenor.com/Q823-830Ri0AAAAd/christian-bale-american-psycho.gif\" alt=\"Animated GIF\">\n",
    "</div>"
   ]
  }
 ],
 "metadata": {
  "kaggle": {
   "accelerator": "none",
   "dataSources": [
    {
     "datasetId": 40153,
     "sourceId": 62690,
     "sourceType": "datasetVersion"
    }
   ],
   "dockerImageVersionId": 30553,
   "isGpuEnabled": false,
   "isInternetEnabled": true,
   "language": "python",
   "sourceType": "notebook"
  },
  "kernelspec": {
   "display_name": "Python 3",
   "language": "python",
   "name": "python3"
  },
  "language_info": {
   "codemirror_mode": {
    "name": "ipython",
    "version": 3
   },
   "file_extension": ".py",
   "mimetype": "text/x-python",
   "name": "python",
   "nbconvert_exporter": "python",
   "pygments_lexer": "ipython3",
   "version": "3.10.12"
  },
  "papermill": {
   "default_parameters": {},
   "duration": 18.923462,
   "end_time": "2023-11-15T06:18:34.012829",
   "environment_variables": {},
   "exception": null,
   "input_path": "__notebook__.ipynb",
   "output_path": "__notebook__.ipynb",
   "parameters": {},
   "start_time": "2023-11-15T06:18:15.089367",
   "version": "2.4.0"
  }
 },
 "nbformat": 4,
 "nbformat_minor": 5
}
