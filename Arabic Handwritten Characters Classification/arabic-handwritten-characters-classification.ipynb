{
 "cells": [
  {
   "cell_type": "markdown",
   "id": "b2f04ec6",
   "metadata": {
    "papermill": {
     "duration": 0.010527,
     "end_time": "2023-12-03T22:38:53.150109",
     "exception": false,
     "start_time": "2023-12-03T22:38:53.139582",
     "status": "completed"
    },
    "tags": []
   },
   "source": [
    "<div style=\"background-color:blue; border-radius:2px; border:#000000 solid; padding: 15px; font-size:100%; text-align:center\">\n",
    "    <h1 align=\"center\" style=\"color:#ffffff;\"><b>Arabic Handwritten Characters Classification 📝</b></h1>\n",
    "</div>"
   ]
  },
  {
   "cell_type": "markdown",
   "id": "f09ee737",
   "metadata": {
    "papermill": {
     "duration": 0.009547,
     "end_time": "2023-12-03T22:38:53.169742",
     "exception": false,
     "start_time": "2023-12-03T22:38:53.160195",
     "status": "completed"
    },
    "tags": []
   },
   "source": [
    "<div style=\"background-color:#000000; border-radius:2px; border:#000000 solid; padding: 15px; font-size:100%; text-align:center\">\n",
    "    <img src=\"https://media.tenor.com/uIz3tgHvvk4AAAAd/words-arabic.gif\" alt=\"Animated GIF\">\n",
    "</div>"
   ]
  },
  {
   "cell_type": "code",
   "execution_count": 1,
   "id": "cd868512",
   "metadata": {
    "execution": {
     "iopub.execute_input": "2023-12-03T22:38:53.193046Z",
     "iopub.status.busy": "2023-12-03T22:38:53.192078Z",
     "iopub.status.idle": "2023-12-03T22:39:07.586523Z",
     "shell.execute_reply": "2023-12-03T22:39:07.585391Z"
    },
    "papermill": {
     "duration": 14.408881,
     "end_time": "2023-12-03T22:39:07.589032",
     "exception": false,
     "start_time": "2023-12-03T22:38:53.180151",
     "status": "completed"
    },
    "tags": []
   },
   "outputs": [
    {
     "name": "stdout",
     "output_type": "stream",
     "text": [
      "\u001b[H\u001b[2J"
     ]
    }
   ],
   "source": [
    "!pip3 install -q numpy pandas matplotlib seaborn plotly tensorflow && clear"
   ]
  },
  {
   "cell_type": "markdown",
   "id": "03380f39",
   "metadata": {
    "papermill": {
     "duration": 0.009621,
     "end_time": "2023-12-03T22:39:07.608915",
     "exception": false,
     "start_time": "2023-12-03T22:39:07.599294",
     "status": "completed"
    },
    "tags": []
   },
   "source": [
    "<div style=\"background-color:blue; border-radius:2px; border:#000000 solid; padding: 15px; font-size:100%; text-align:center\">\n",
    "    <h2 align=\"center\" style=\"color:#ffffff;\"><b>IMPORT DEPENDENCIES</b></h2>\n",
    "</div>"
   ]
  },
  {
   "cell_type": "code",
   "execution_count": 2,
   "id": "58e6ba8c",
   "metadata": {
    "execution": {
     "iopub.execute_input": "2023-12-03T22:39:07.630845Z",
     "iopub.status.busy": "2023-12-03T22:39:07.630529Z",
     "iopub.status.idle": "2023-12-03T22:39:24.467076Z",
     "shell.execute_reply": "2023-12-03T22:39:24.466156Z"
    },
    "papermill": {
     "duration": 16.850702,
     "end_time": "2023-12-03T22:39:24.469644",
     "exception": false,
     "start_time": "2023-12-03T22:39:07.618942",
     "status": "completed"
    },
    "tags": []
   },
   "outputs": [
    {
     "name": "stderr",
     "output_type": "stream",
     "text": [
      "/opt/conda/lib/python3.10/site-packages/scipy/__init__.py:146: UserWarning: A NumPy version >=1.16.5 and <1.23.0 is required for this version of SciPy (detected version 1.24.3\n",
      "  warnings.warn(f\"A NumPy version >={np_minversion} and <{np_maxversion}\"\n"
     ]
    }
   ],
   "source": [
    "import numpy as np\n",
    "import pandas as pd\n",
    "import matplotlib.pyplot as plt\n",
    "import seaborn as sn\n",
    "import numpy as np\n",
    "\n",
    "import plotly.express as px\n",
    "import plotly.graph_objects as go\n",
    "\n",
    "import tensorflow as tf\n",
    "from tensorflow.keras.utils import to_categorical\n",
    "from tensorflow.keras.models import Sequential,load_model\n",
    "from tensorflow.keras.layers import Conv2D, MaxPooling2D, BatchNormalization, Flatten, Dense, Dropout\n",
    "from tensorflow.keras.preprocessing.image import ImageDataGenerator\n",
    "from tensorflow.keras.callbacks import ModelCheckpoint\n",
    "from tensorflow.keras.utils import plot_model\n",
    "from sklearn.metrics import confusion_matrix\n",
    "import cv2"
   ]
  },
  {
   "cell_type": "markdown",
   "id": "07e15adc",
   "metadata": {
    "papermill": {
     "duration": 0.009914,
     "end_time": "2023-12-03T22:39:24.490081",
     "exception": false,
     "start_time": "2023-12-03T22:39:24.480167",
     "status": "completed"
    },
    "tags": []
   },
   "source": [
    "<div style=\"background-color:blue; border-radius:2px; border:#000000 solid; padding: 15px; font-size:100%; text-align:center\">\n",
    "    <h2 align=\"center\" style=\"color:#ffffff;\"><b>DATA PRE-PROCESSING AND EDA</b></h2>\n",
    "</div>"
   ]
  },
  {
   "cell_type": "code",
   "execution_count": 3,
   "id": "baab49ca",
   "metadata": {
    "execution": {
     "iopub.execute_input": "2023-12-03T22:39:24.513377Z",
     "iopub.status.busy": "2023-12-03T22:39:24.512066Z",
     "iopub.status.idle": "2023-12-03T22:39:26.161505Z",
     "shell.execute_reply": "2023-12-03T22:39:26.160571Z"
    },
    "papermill": {
     "duration": 1.663341,
     "end_time": "2023-12-03T22:39:26.163821",
     "exception": false,
     "start_time": "2023-12-03T22:39:24.500480",
     "status": "completed"
    },
    "tags": []
   },
   "outputs": [],
   "source": [
    "Train_Images = pd.read_csv(\"/kaggle/input/ahcd1/csvTrainImages 13440x1024.csv\")\n",
    "Train_Labels = pd.read_csv(\"/kaggle/input/ahcd1/csvTrainLabel 13440x1.csv\")"
   ]
  },
  {
   "cell_type": "code",
   "execution_count": 4,
   "id": "ba3425f9",
   "metadata": {
    "execution": {
     "iopub.execute_input": "2023-12-03T22:39:26.185922Z",
     "iopub.status.busy": "2023-12-03T22:39:26.185585Z",
     "iopub.status.idle": "2023-12-03T22:39:26.642823Z",
     "shell.execute_reply": "2023-12-03T22:39:26.641768Z"
    },
    "papermill": {
     "duration": 0.470903,
     "end_time": "2023-12-03T22:39:26.645323",
     "exception": false,
     "start_time": "2023-12-03T22:39:26.174420",
     "status": "completed"
    },
    "tags": []
   },
   "outputs": [],
   "source": [
    "Test_Images = pd.read_csv(\"/kaggle/input/ahcd1/csvTestImages 3360x1024.csv\")\n",
    "Test_Labels = pd.read_csv(\"/kaggle/input/ahcd1/csvTestLabel 3360x1.csv\")"
   ]
  },
  {
   "cell_type": "code",
   "execution_count": 5,
   "id": "6977ecbe",
   "metadata": {
    "execution": {
     "iopub.execute_input": "2023-12-03T22:39:26.669087Z",
     "iopub.status.busy": "2023-12-03T22:39:26.668315Z",
     "iopub.status.idle": "2023-12-03T22:39:26.674373Z",
     "shell.execute_reply": "2023-12-03T22:39:26.673303Z"
    },
    "papermill": {
     "duration": 0.021368,
     "end_time": "2023-12-03T22:39:26.677344",
     "exception": false,
     "start_time": "2023-12-03T22:39:26.655976",
     "status": "completed"
    },
    "tags": []
   },
   "outputs": [
    {
     "name": "stdout",
     "output_type": "stream",
     "text": [
      "Train Iamges : (13439, 1024)\n",
      "Test  Iamges : (3359, 1024)\n"
     ]
    }
   ],
   "source": [
    "print(f\"Train Iamges : {Train_Images.shape}\")\n",
    "print(f\"Test  Iamges : {Test_Images.shape}\")"
   ]
  },
  {
   "cell_type": "code",
   "execution_count": 6,
   "id": "10585f86",
   "metadata": {
    "execution": {
     "iopub.execute_input": "2023-12-03T22:39:26.700090Z",
     "iopub.status.busy": "2023-12-03T22:39:26.699710Z",
     "iopub.status.idle": "2023-12-03T22:39:26.705582Z",
     "shell.execute_reply": "2023-12-03T22:39:26.704461Z"
    },
    "papermill": {
     "duration": 0.02035,
     "end_time": "2023-12-03T22:39:26.708409",
     "exception": false,
     "start_time": "2023-12-03T22:39:26.688059",
     "status": "completed"
    },
    "tags": []
   },
   "outputs": [
    {
     "name": "stdout",
     "output_type": "stream",
     "text": [
      "Train Labels : (13439, 1)\n",
      "Test  Labels : (3359, 1)\n"
     ]
    }
   ],
   "source": [
    "print(f\"Train Labels : {Train_Labels.shape}\")\n",
    "print(f\"Test  Labels : {Test_Labels.shape}\")"
   ]
  },
  {
   "cell_type": "code",
   "execution_count": 7,
   "id": "bf121e80",
   "metadata": {
    "execution": {
     "iopub.execute_input": "2023-12-03T22:39:26.735068Z",
     "iopub.status.busy": "2023-12-03T22:39:26.734715Z",
     "iopub.status.idle": "2023-12-03T22:39:26.829032Z",
     "shell.execute_reply": "2023-12-03T22:39:26.827481Z"
    },
    "papermill": {
     "duration": 0.109768,
     "end_time": "2023-12-03T22:39:26.832674",
     "exception": false,
     "start_time": "2023-12-03T22:39:26.722906",
     "status": "completed"
    },
    "tags": []
   },
   "outputs": [
    {
     "name": "stdout",
     "output_type": "stream",
     "text": [
      "<class 'pandas.core.frame.DataFrame'>\n",
      "RangeIndex: 13439 entries, 0 to 13438\n",
      "Columns: 1024 entries, 0 to 0.905\n",
      "dtypes: int64(1024)\n",
      "memory usage: 105.0 MB\n"
     ]
    }
   ],
   "source": [
    "Train_Images.info()"
   ]
  },
  {
   "cell_type": "code",
   "execution_count": 8,
   "id": "8e5b55df",
   "metadata": {
    "execution": {
     "iopub.execute_input": "2023-12-03T22:39:26.862190Z",
     "iopub.status.busy": "2023-12-03T22:39:26.861759Z",
     "iopub.status.idle": "2023-12-03T22:39:26.873524Z",
     "shell.execute_reply": "2023-12-03T22:39:26.872288Z"
    },
    "papermill": {
     "duration": 0.030112,
     "end_time": "2023-12-03T22:39:26.876865",
     "exception": false,
     "start_time": "2023-12-03T22:39:26.846753",
     "status": "completed"
    },
    "tags": []
   },
   "outputs": [
    {
     "name": "stdout",
     "output_type": "stream",
     "text": [
      "<class 'pandas.core.frame.DataFrame'>\n",
      "RangeIndex: 13439 entries, 0 to 13438\n",
      "Data columns (total 1 columns):\n",
      " #   Column  Non-Null Count  Dtype\n",
      "---  ------  --------------  -----\n",
      " 0   1       13439 non-null  int64\n",
      "dtypes: int64(1)\n",
      "memory usage: 105.1 KB\n"
     ]
    }
   ],
   "source": [
    "Train_Labels.info()"
   ]
  },
  {
   "cell_type": "code",
   "execution_count": 9,
   "id": "faddcf37",
   "metadata": {
    "execution": {
     "iopub.execute_input": "2023-12-03T22:39:26.901656Z",
     "iopub.status.busy": "2023-12-03T22:39:26.900760Z",
     "iopub.status.idle": "2023-12-03T22:39:26.961253Z",
     "shell.execute_reply": "2023-12-03T22:39:26.960091Z"
    },
    "papermill": {
     "duration": 0.075345,
     "end_time": "2023-12-03T22:39:26.964112",
     "exception": false,
     "start_time": "2023-12-03T22:39:26.888767",
     "status": "completed"
    },
    "tags": []
   },
   "outputs": [
    {
     "name": "stdout",
     "output_type": "stream",
     "text": [
      "<class 'pandas.core.frame.DataFrame'>\n",
      "RangeIndex: 3359 entries, 0 to 3358\n",
      "Columns: 1024 entries, 0 to 0.928\n",
      "dtypes: int64(1024)\n",
      "memory usage: 26.2 MB\n"
     ]
    }
   ],
   "source": [
    "Test_Images.info()"
   ]
  },
  {
   "cell_type": "code",
   "execution_count": 10,
   "id": "62d98bcc",
   "metadata": {
    "execution": {
     "iopub.execute_input": "2023-12-03T22:39:26.988804Z",
     "iopub.status.busy": "2023-12-03T22:39:26.988454Z",
     "iopub.status.idle": "2023-12-03T22:39:27.000938Z",
     "shell.execute_reply": "2023-12-03T22:39:26.999308Z"
    },
    "papermill": {
     "duration": 0.027379,
     "end_time": "2023-12-03T22:39:27.003550",
     "exception": false,
     "start_time": "2023-12-03T22:39:26.976171",
     "status": "completed"
    },
    "tags": []
   },
   "outputs": [
    {
     "name": "stdout",
     "output_type": "stream",
     "text": [
      "<class 'pandas.core.frame.DataFrame'>\n",
      "RangeIndex: 3359 entries, 0 to 3358\n",
      "Data columns (total 1 columns):\n",
      " #   Column  Non-Null Count  Dtype\n",
      "---  ------  --------------  -----\n",
      " 0   1       3359 non-null   int64\n",
      "dtypes: int64(1)\n",
      "memory usage: 26.4 KB\n"
     ]
    }
   ],
   "source": [
    "Test_Labels.info()"
   ]
  },
  {
   "cell_type": "code",
   "execution_count": 11,
   "id": "35507627",
   "metadata": {
    "execution": {
     "iopub.execute_input": "2023-12-03T22:39:27.030077Z",
     "iopub.status.busy": "2023-12-03T22:39:27.029617Z",
     "iopub.status.idle": "2023-12-03T22:39:27.055824Z",
     "shell.execute_reply": "2023-12-03T22:39:27.054645Z"
    },
    "papermill": {
     "duration": 0.041929,
     "end_time": "2023-12-03T22:39:27.058679",
     "exception": false,
     "start_time": "2023-12-03T22:39:27.016750",
     "status": "completed"
    },
    "tags": []
   },
   "outputs": [
    {
     "data": {
      "text/html": [
       "<div>\n",
       "<style scoped>\n",
       "    .dataframe tbody tr th:only-of-type {\n",
       "        vertical-align: middle;\n",
       "    }\n",
       "\n",
       "    .dataframe tbody tr th {\n",
       "        vertical-align: top;\n",
       "    }\n",
       "\n",
       "    .dataframe thead th {\n",
       "        text-align: right;\n",
       "    }\n",
       "</style>\n",
       "<table border=\"1\" class=\"dataframe\">\n",
       "  <thead>\n",
       "    <tr style=\"text-align: right;\">\n",
       "      <th></th>\n",
       "      <th>0</th>\n",
       "      <th>0.1</th>\n",
       "      <th>0.2</th>\n",
       "      <th>0.3</th>\n",
       "      <th>0.4</th>\n",
       "      <th>0.5</th>\n",
       "      <th>0.6</th>\n",
       "      <th>0.7</th>\n",
       "      <th>0.8</th>\n",
       "      <th>0.9</th>\n",
       "      <th>...</th>\n",
       "      <th>0.896</th>\n",
       "      <th>0.897</th>\n",
       "      <th>0.898</th>\n",
       "      <th>0.899</th>\n",
       "      <th>0.900</th>\n",
       "      <th>0.901</th>\n",
       "      <th>0.902</th>\n",
       "      <th>0.903</th>\n",
       "      <th>0.904</th>\n",
       "      <th>0.905</th>\n",
       "    </tr>\n",
       "  </thead>\n",
       "  <tbody>\n",
       "    <tr>\n",
       "      <th>0</th>\n",
       "      <td>0</td>\n",
       "      <td>0</td>\n",
       "      <td>0</td>\n",
       "      <td>0</td>\n",
       "      <td>0</td>\n",
       "      <td>0</td>\n",
       "      <td>0</td>\n",
       "      <td>0</td>\n",
       "      <td>0</td>\n",
       "      <td>0</td>\n",
       "      <td>...</td>\n",
       "      <td>0</td>\n",
       "      <td>0</td>\n",
       "      <td>0</td>\n",
       "      <td>0</td>\n",
       "      <td>0</td>\n",
       "      <td>0</td>\n",
       "      <td>0</td>\n",
       "      <td>0</td>\n",
       "      <td>0</td>\n",
       "      <td>0</td>\n",
       "    </tr>\n",
       "    <tr>\n",
       "      <th>1</th>\n",
       "      <td>0</td>\n",
       "      <td>0</td>\n",
       "      <td>0</td>\n",
       "      <td>0</td>\n",
       "      <td>0</td>\n",
       "      <td>0</td>\n",
       "      <td>0</td>\n",
       "      <td>0</td>\n",
       "      <td>0</td>\n",
       "      <td>0</td>\n",
       "      <td>...</td>\n",
       "      <td>0</td>\n",
       "      <td>0</td>\n",
       "      <td>0</td>\n",
       "      <td>0</td>\n",
       "      <td>0</td>\n",
       "      <td>0</td>\n",
       "      <td>0</td>\n",
       "      <td>0</td>\n",
       "      <td>0</td>\n",
       "      <td>0</td>\n",
       "    </tr>\n",
       "    <tr>\n",
       "      <th>2</th>\n",
       "      <td>0</td>\n",
       "      <td>0</td>\n",
       "      <td>0</td>\n",
       "      <td>0</td>\n",
       "      <td>0</td>\n",
       "      <td>0</td>\n",
       "      <td>0</td>\n",
       "      <td>0</td>\n",
       "      <td>0</td>\n",
       "      <td>0</td>\n",
       "      <td>...</td>\n",
       "      <td>0</td>\n",
       "      <td>0</td>\n",
       "      <td>0</td>\n",
       "      <td>0</td>\n",
       "      <td>0</td>\n",
       "      <td>0</td>\n",
       "      <td>0</td>\n",
       "      <td>0</td>\n",
       "      <td>0</td>\n",
       "      <td>0</td>\n",
       "    </tr>\n",
       "    <tr>\n",
       "      <th>3</th>\n",
       "      <td>0</td>\n",
       "      <td>0</td>\n",
       "      <td>0</td>\n",
       "      <td>0</td>\n",
       "      <td>0</td>\n",
       "      <td>0</td>\n",
       "      <td>0</td>\n",
       "      <td>0</td>\n",
       "      <td>0</td>\n",
       "      <td>0</td>\n",
       "      <td>...</td>\n",
       "      <td>0</td>\n",
       "      <td>0</td>\n",
       "      <td>0</td>\n",
       "      <td>0</td>\n",
       "      <td>0</td>\n",
       "      <td>0</td>\n",
       "      <td>0</td>\n",
       "      <td>0</td>\n",
       "      <td>0</td>\n",
       "      <td>0</td>\n",
       "    </tr>\n",
       "    <tr>\n",
       "      <th>4</th>\n",
       "      <td>0</td>\n",
       "      <td>0</td>\n",
       "      <td>0</td>\n",
       "      <td>0</td>\n",
       "      <td>0</td>\n",
       "      <td>0</td>\n",
       "      <td>0</td>\n",
       "      <td>0</td>\n",
       "      <td>0</td>\n",
       "      <td>0</td>\n",
       "      <td>...</td>\n",
       "      <td>0</td>\n",
       "      <td>0</td>\n",
       "      <td>0</td>\n",
       "      <td>0</td>\n",
       "      <td>0</td>\n",
       "      <td>0</td>\n",
       "      <td>0</td>\n",
       "      <td>0</td>\n",
       "      <td>0</td>\n",
       "      <td>0</td>\n",
       "    </tr>\n",
       "  </tbody>\n",
       "</table>\n",
       "<p>5 rows × 1024 columns</p>\n",
       "</div>"
      ],
      "text/plain": [
       "   0  0.1  0.2  0.3  0.4  0.5  0.6  0.7  0.8  0.9  ...  0.896  0.897  0.898  \\\n",
       "0  0    0    0    0    0    0    0    0    0    0  ...      0      0      0   \n",
       "1  0    0    0    0    0    0    0    0    0    0  ...      0      0      0   \n",
       "2  0    0    0    0    0    0    0    0    0    0  ...      0      0      0   \n",
       "3  0    0    0    0    0    0    0    0    0    0  ...      0      0      0   \n",
       "4  0    0    0    0    0    0    0    0    0    0  ...      0      0      0   \n",
       "\n",
       "   0.899  0.900  0.901  0.902  0.903  0.904  0.905  \n",
       "0      0      0      0      0      0      0      0  \n",
       "1      0      0      0      0      0      0      0  \n",
       "2      0      0      0      0      0      0      0  \n",
       "3      0      0      0      0      0      0      0  \n",
       "4      0      0      0      0      0      0      0  \n",
       "\n",
       "[5 rows x 1024 columns]"
      ]
     },
     "execution_count": 11,
     "metadata": {},
     "output_type": "execute_result"
    }
   ],
   "source": [
    "Train_Images.head()"
   ]
  },
  {
   "cell_type": "code",
   "execution_count": 12,
   "id": "3dc1e898",
   "metadata": {
    "execution": {
     "iopub.execute_input": "2023-12-03T22:39:27.087865Z",
     "iopub.status.busy": "2023-12-03T22:39:27.087413Z",
     "iopub.status.idle": "2023-12-03T22:39:27.111364Z",
     "shell.execute_reply": "2023-12-03T22:39:27.110299Z"
    },
    "papermill": {
     "duration": 0.039751,
     "end_time": "2023-12-03T22:39:27.113731",
     "exception": false,
     "start_time": "2023-12-03T22:39:27.073980",
     "status": "completed"
    },
    "tags": []
   },
   "outputs": [
    {
     "data": {
      "text/plain": [
       "0        0\n",
       "0.1      0\n",
       "0.2      0\n",
       "0.3      0\n",
       "0.4      0\n",
       "        ..\n",
       "0.901    0\n",
       "0.902    0\n",
       "0.903    0\n",
       "0.904    0\n",
       "0.905    0\n",
       "Length: 1024, dtype: int64"
      ]
     },
     "execution_count": 12,
     "metadata": {},
     "output_type": "execute_result"
    }
   ],
   "source": [
    "Train_Images.isnull().sum()"
   ]
  },
  {
   "cell_type": "code",
   "execution_count": 13,
   "id": "7f438522",
   "metadata": {
    "execution": {
     "iopub.execute_input": "2023-12-03T22:39:27.139832Z",
     "iopub.status.busy": "2023-12-03T22:39:27.138933Z",
     "iopub.status.idle": "2023-12-03T22:39:27.151901Z",
     "shell.execute_reply": "2023-12-03T22:39:27.150932Z"
    },
    "papermill": {
     "duration": 0.028042,
     "end_time": "2023-12-03T22:39:27.153943",
     "exception": false,
     "start_time": "2023-12-03T22:39:27.125901",
     "status": "completed"
    },
    "tags": []
   },
   "outputs": [
    {
     "data": {
      "text/plain": [
       "0        0\n",
       "0.1      0\n",
       "0.2      0\n",
       "0.3      0\n",
       "0.4      0\n",
       "        ..\n",
       "0.924    0\n",
       "0.925    0\n",
       "0.926    0\n",
       "0.927    0\n",
       "0.928    0\n",
       "Length: 1024, dtype: int64"
      ]
     },
     "execution_count": 13,
     "metadata": {},
     "output_type": "execute_result"
    }
   ],
   "source": [
    "Test_Images.isnull().sum()"
   ]
  },
  {
   "cell_type": "code",
   "execution_count": 14,
   "id": "20961603",
   "metadata": {
    "execution": {
     "iopub.execute_input": "2023-12-03T22:39:27.178306Z",
     "iopub.status.busy": "2023-12-03T22:39:27.177929Z",
     "iopub.status.idle": "2023-12-03T22:39:27.185982Z",
     "shell.execute_reply": "2023-12-03T22:39:27.185016Z"
    },
    "papermill": {
     "duration": 0.023238,
     "end_time": "2023-12-03T22:39:27.188631",
     "exception": false,
     "start_time": "2023-12-03T22:39:27.165393",
     "status": "completed"
    },
    "tags": []
   },
   "outputs": [
    {
     "data": {
      "text/plain": [
       "1    0\n",
       "dtype: int64"
      ]
     },
     "execution_count": 14,
     "metadata": {},
     "output_type": "execute_result"
    }
   ],
   "source": [
    "Train_Labels.isnull().sum()"
   ]
  },
  {
   "cell_type": "code",
   "execution_count": 15,
   "id": "0c75655e",
   "metadata": {
    "execution": {
     "iopub.execute_input": "2023-12-03T22:39:27.217482Z",
     "iopub.status.busy": "2023-12-03T22:39:27.217083Z",
     "iopub.status.idle": "2023-12-03T22:39:27.225233Z",
     "shell.execute_reply": "2023-12-03T22:39:27.224189Z"
    },
    "papermill": {
     "duration": 0.022904,
     "end_time": "2023-12-03T22:39:27.227342",
     "exception": false,
     "start_time": "2023-12-03T22:39:27.204438",
     "status": "completed"
    },
    "tags": []
   },
   "outputs": [
    {
     "data": {
      "text/plain": [
       "1    0\n",
       "dtype: int64"
      ]
     },
     "execution_count": 15,
     "metadata": {},
     "output_type": "execute_result"
    }
   ],
   "source": [
    "Test_Labels.isnull().sum()"
   ]
  },
  {
   "cell_type": "code",
   "execution_count": 16,
   "id": "44e2b571",
   "metadata": {
    "execution": {
     "iopub.execute_input": "2023-12-03T22:39:27.252147Z",
     "iopub.status.busy": "2023-12-03T22:39:27.251798Z",
     "iopub.status.idle": "2023-12-03T22:39:27.543524Z",
     "shell.execute_reply": "2023-12-03T22:39:27.542585Z"
    },
    "papermill": {
     "duration": 0.307036,
     "end_time": "2023-12-03T22:39:27.546077",
     "exception": false,
     "start_time": "2023-12-03T22:39:27.239041",
     "status": "completed"
    },
    "tags": []
   },
   "outputs": [
    {
     "data": {
      "text/html": [
       "        <script type=\"text/javascript\">\n",
       "        window.PlotlyConfig = {MathJaxConfig: 'local'};\n",
       "        if (window.MathJax && window.MathJax.Hub && window.MathJax.Hub.Config) {window.MathJax.Hub.Config({SVG: {font: \"STIX-Web\"}});}\n",
       "        if (typeof require !== 'undefined') {\n",
       "        require.undef(\"plotly\");\n",
       "        requirejs.config({\n",
       "            paths: {\n",
       "                'plotly': ['https://cdn.plot.ly/plotly-2.25.2.min']\n",
       "            }\n",
       "        });\n",
       "        require(['plotly'], function(Plotly) {\n",
       "            window._Plotly = Plotly;\n",
       "        });\n",
       "        }\n",
       "        </script>\n",
       "        "
      ]
     },
     "metadata": {},
     "output_type": "display_data"
    },
    {
     "data": {
      "text/html": [
       "<div>                            <div id=\"82db624c-23aa-4e17-9304-e4e0b6f10059\" class=\"plotly-graph-div\" style=\"height:525px; width:100%;\"></div>            <script type=\"text/javascript\">                require([\"plotly\"], function(Plotly) {                    window.PLOTLYENV=window.PLOTLYENV || {};                                    if (document.getElementById(\"82db624c-23aa-4e17-9304-e4e0b6f10059\")) {                    Plotly.newPlot(                        \"82db624c-23aa-4e17-9304-e4e0b6f10059\",                        [{\"hole\":0.6,\"insidetextorientation\":\"radial\",\"labels\":[[15],[2],[27],[26],[25],[24],[23],[22],[21],[20],[19],[18],[17],[16],[28],[14],[13],[12],[11],[10],[9],[8],[7],[6],[5],[4],[3],[1]],\"marker\":{\"colors\":[\"#1f77b4\",\"#ff7f0e\",\"#2ca02c\",\"#d62728\"],\"line\":{\"color\":\"#ffffff\",\"width\":1}},\"textinfo\":\"label+percent\",\"values\":[480,480,480,480,480,480,480,480,480,480,480,480,480,480,480,480,480,480,480,480,480,480,480,480,480,480,480,479],\"type\":\"pie\"}],                        {\"template\":{\"data\":{\"histogram2dcontour\":[{\"type\":\"histogram2dcontour\",\"colorbar\":{\"outlinewidth\":0,\"ticks\":\"\"},\"colorscale\":[[0.0,\"#0d0887\"],[0.1111111111111111,\"#46039f\"],[0.2222222222222222,\"#7201a8\"],[0.3333333333333333,\"#9c179e\"],[0.4444444444444444,\"#bd3786\"],[0.5555555555555556,\"#d8576b\"],[0.6666666666666666,\"#ed7953\"],[0.7777777777777778,\"#fb9f3a\"],[0.8888888888888888,\"#fdca26\"],[1.0,\"#f0f921\"]]}],\"choropleth\":[{\"type\":\"choropleth\",\"colorbar\":{\"outlinewidth\":0,\"ticks\":\"\"}}],\"histogram2d\":[{\"type\":\"histogram2d\",\"colorbar\":{\"outlinewidth\":0,\"ticks\":\"\"},\"colorscale\":[[0.0,\"#0d0887\"],[0.1111111111111111,\"#46039f\"],[0.2222222222222222,\"#7201a8\"],[0.3333333333333333,\"#9c179e\"],[0.4444444444444444,\"#bd3786\"],[0.5555555555555556,\"#d8576b\"],[0.6666666666666666,\"#ed7953\"],[0.7777777777777778,\"#fb9f3a\"],[0.8888888888888888,\"#fdca26\"],[1.0,\"#f0f921\"]]}],\"heatmap\":[{\"type\":\"heatmap\",\"colorbar\":{\"outlinewidth\":0,\"ticks\":\"\"},\"colorscale\":[[0.0,\"#0d0887\"],[0.1111111111111111,\"#46039f\"],[0.2222222222222222,\"#7201a8\"],[0.3333333333333333,\"#9c179e\"],[0.4444444444444444,\"#bd3786\"],[0.5555555555555556,\"#d8576b\"],[0.6666666666666666,\"#ed7953\"],[0.7777777777777778,\"#fb9f3a\"],[0.8888888888888888,\"#fdca26\"],[1.0,\"#f0f921\"]]}],\"heatmapgl\":[{\"type\":\"heatmapgl\",\"colorbar\":{\"outlinewidth\":0,\"ticks\":\"\"},\"colorscale\":[[0.0,\"#0d0887\"],[0.1111111111111111,\"#46039f\"],[0.2222222222222222,\"#7201a8\"],[0.3333333333333333,\"#9c179e\"],[0.4444444444444444,\"#bd3786\"],[0.5555555555555556,\"#d8576b\"],[0.6666666666666666,\"#ed7953\"],[0.7777777777777778,\"#fb9f3a\"],[0.8888888888888888,\"#fdca26\"],[1.0,\"#f0f921\"]]}],\"contourcarpet\":[{\"type\":\"contourcarpet\",\"colorbar\":{\"outlinewidth\":0,\"ticks\":\"\"}}],\"contour\":[{\"type\":\"contour\",\"colorbar\":{\"outlinewidth\":0,\"ticks\":\"\"},\"colorscale\":[[0.0,\"#0d0887\"],[0.1111111111111111,\"#46039f\"],[0.2222222222222222,\"#7201a8\"],[0.3333333333333333,\"#9c179e\"],[0.4444444444444444,\"#bd3786\"],[0.5555555555555556,\"#d8576b\"],[0.6666666666666666,\"#ed7953\"],[0.7777777777777778,\"#fb9f3a\"],[0.8888888888888888,\"#fdca26\"],[1.0,\"#f0f921\"]]}],\"surface\":[{\"type\":\"surface\",\"colorbar\":{\"outlinewidth\":0,\"ticks\":\"\"},\"colorscale\":[[0.0,\"#0d0887\"],[0.1111111111111111,\"#46039f\"],[0.2222222222222222,\"#7201a8\"],[0.3333333333333333,\"#9c179e\"],[0.4444444444444444,\"#bd3786\"],[0.5555555555555556,\"#d8576b\"],[0.6666666666666666,\"#ed7953\"],[0.7777777777777778,\"#fb9f3a\"],[0.8888888888888888,\"#fdca26\"],[1.0,\"#f0f921\"]]}],\"mesh3d\":[{\"type\":\"mesh3d\",\"colorbar\":{\"outlinewidth\":0,\"ticks\":\"\"}}],\"scatter\":[{\"fillpattern\":{\"fillmode\":\"overlay\",\"size\":10,\"solidity\":0.2},\"type\":\"scatter\"}],\"parcoords\":[{\"type\":\"parcoords\",\"line\":{\"colorbar\":{\"outlinewidth\":0,\"ticks\":\"\"}}}],\"scatterpolargl\":[{\"type\":\"scatterpolargl\",\"marker\":{\"colorbar\":{\"outlinewidth\":0,\"ticks\":\"\"}}}],\"bar\":[{\"error_x\":{\"color\":\"#2a3f5f\"},\"error_y\":{\"color\":\"#2a3f5f\"},\"marker\":{\"line\":{\"color\":\"#E5ECF6\",\"width\":0.5},\"pattern\":{\"fillmode\":\"overlay\",\"size\":10,\"solidity\":0.2}},\"type\":\"bar\"}],\"scattergeo\":[{\"type\":\"scattergeo\",\"marker\":{\"colorbar\":{\"outlinewidth\":0,\"ticks\":\"\"}}}],\"scatterpolar\":[{\"type\":\"scatterpolar\",\"marker\":{\"colorbar\":{\"outlinewidth\":0,\"ticks\":\"\"}}}],\"histogram\":[{\"marker\":{\"pattern\":{\"fillmode\":\"overlay\",\"size\":10,\"solidity\":0.2}},\"type\":\"histogram\"}],\"scattergl\":[{\"type\":\"scattergl\",\"marker\":{\"colorbar\":{\"outlinewidth\":0,\"ticks\":\"\"}}}],\"scatter3d\":[{\"type\":\"scatter3d\",\"line\":{\"colorbar\":{\"outlinewidth\":0,\"ticks\":\"\"}},\"marker\":{\"colorbar\":{\"outlinewidth\":0,\"ticks\":\"\"}}}],\"scattermapbox\":[{\"type\":\"scattermapbox\",\"marker\":{\"colorbar\":{\"outlinewidth\":0,\"ticks\":\"\"}}}],\"scatterternary\":[{\"type\":\"scatterternary\",\"marker\":{\"colorbar\":{\"outlinewidth\":0,\"ticks\":\"\"}}}],\"scattercarpet\":[{\"type\":\"scattercarpet\",\"marker\":{\"colorbar\":{\"outlinewidth\":0,\"ticks\":\"\"}}}],\"carpet\":[{\"aaxis\":{\"endlinecolor\":\"#2a3f5f\",\"gridcolor\":\"white\",\"linecolor\":\"white\",\"minorgridcolor\":\"white\",\"startlinecolor\":\"#2a3f5f\"},\"baxis\":{\"endlinecolor\":\"#2a3f5f\",\"gridcolor\":\"white\",\"linecolor\":\"white\",\"minorgridcolor\":\"white\",\"startlinecolor\":\"#2a3f5f\"},\"type\":\"carpet\"}],\"table\":[{\"cells\":{\"fill\":{\"color\":\"#EBF0F8\"},\"line\":{\"color\":\"white\"}},\"header\":{\"fill\":{\"color\":\"#C8D4E3\"},\"line\":{\"color\":\"white\"}},\"type\":\"table\"}],\"barpolar\":[{\"marker\":{\"line\":{\"color\":\"#E5ECF6\",\"width\":0.5},\"pattern\":{\"fillmode\":\"overlay\",\"size\":10,\"solidity\":0.2}},\"type\":\"barpolar\"}],\"pie\":[{\"automargin\":true,\"type\":\"pie\"}]},\"layout\":{\"autotypenumbers\":\"strict\",\"colorway\":[\"#636efa\",\"#EF553B\",\"#00cc96\",\"#ab63fa\",\"#FFA15A\",\"#19d3f3\",\"#FF6692\",\"#B6E880\",\"#FF97FF\",\"#FECB52\"],\"font\":{\"color\":\"#2a3f5f\"},\"hovermode\":\"closest\",\"hoverlabel\":{\"align\":\"left\"},\"paper_bgcolor\":\"white\",\"plot_bgcolor\":\"#E5ECF6\",\"polar\":{\"bgcolor\":\"#E5ECF6\",\"angularaxis\":{\"gridcolor\":\"white\",\"linecolor\":\"white\",\"ticks\":\"\"},\"radialaxis\":{\"gridcolor\":\"white\",\"linecolor\":\"white\",\"ticks\":\"\"}},\"ternary\":{\"bgcolor\":\"#E5ECF6\",\"aaxis\":{\"gridcolor\":\"white\",\"linecolor\":\"white\",\"ticks\":\"\"},\"baxis\":{\"gridcolor\":\"white\",\"linecolor\":\"white\",\"ticks\":\"\"},\"caxis\":{\"gridcolor\":\"white\",\"linecolor\":\"white\",\"ticks\":\"\"}},\"coloraxis\":{\"colorbar\":{\"outlinewidth\":0,\"ticks\":\"\"}},\"colorscale\":{\"sequential\":[[0.0,\"#0d0887\"],[0.1111111111111111,\"#46039f\"],[0.2222222222222222,\"#7201a8\"],[0.3333333333333333,\"#9c179e\"],[0.4444444444444444,\"#bd3786\"],[0.5555555555555556,\"#d8576b\"],[0.6666666666666666,\"#ed7953\"],[0.7777777777777778,\"#fb9f3a\"],[0.8888888888888888,\"#fdca26\"],[1.0,\"#f0f921\"]],\"sequentialminus\":[[0.0,\"#0d0887\"],[0.1111111111111111,\"#46039f\"],[0.2222222222222222,\"#7201a8\"],[0.3333333333333333,\"#9c179e\"],[0.4444444444444444,\"#bd3786\"],[0.5555555555555556,\"#d8576b\"],[0.6666666666666666,\"#ed7953\"],[0.7777777777777778,\"#fb9f3a\"],[0.8888888888888888,\"#fdca26\"],[1.0,\"#f0f921\"]],\"diverging\":[[0,\"#8e0152\"],[0.1,\"#c51b7d\"],[0.2,\"#de77ae\"],[0.3,\"#f1b6da\"],[0.4,\"#fde0ef\"],[0.5,\"#f7f7f7\"],[0.6,\"#e6f5d0\"],[0.7,\"#b8e186\"],[0.8,\"#7fbc41\"],[0.9,\"#4d9221\"],[1,\"#276419\"]]},\"xaxis\":{\"gridcolor\":\"white\",\"linecolor\":\"white\",\"ticks\":\"\",\"title\":{\"standoff\":15},\"zerolinecolor\":\"white\",\"automargin\":true,\"zerolinewidth\":2},\"yaxis\":{\"gridcolor\":\"white\",\"linecolor\":\"white\",\"ticks\":\"\",\"title\":{\"standoff\":15},\"zerolinecolor\":\"white\",\"automargin\":true,\"zerolinewidth\":2},\"scene\":{\"xaxis\":{\"backgroundcolor\":\"#E5ECF6\",\"gridcolor\":\"white\",\"linecolor\":\"white\",\"showbackground\":true,\"ticks\":\"\",\"zerolinecolor\":\"white\",\"gridwidth\":2},\"yaxis\":{\"backgroundcolor\":\"#E5ECF6\",\"gridcolor\":\"white\",\"linecolor\":\"white\",\"showbackground\":true,\"ticks\":\"\",\"zerolinecolor\":\"white\",\"gridwidth\":2},\"zaxis\":{\"backgroundcolor\":\"#E5ECF6\",\"gridcolor\":\"white\",\"linecolor\":\"white\",\"showbackground\":true,\"ticks\":\"\",\"zerolinecolor\":\"white\",\"gridwidth\":2}},\"shapedefaults\":{\"line\":{\"color\":\"#2a3f5f\"}},\"annotationdefaults\":{\"arrowcolor\":\"#2a3f5f\",\"arrowhead\":0,\"arrowwidth\":1},\"geo\":{\"bgcolor\":\"white\",\"landcolor\":\"#E5ECF6\",\"subunitcolor\":\"white\",\"showland\":true,\"showlakes\":true,\"lakecolor\":\"white\"},\"title\":{\"x\":0.05},\"mapbox\":{\"style\":\"light\"}}},\"font\":{\"color\":\"white\"},\"title\":{\"text\":\"Train Labels Value Counts\"},\"paper_bgcolor\":\"black\",\"plot_bgcolor\":\"black\"},                        {\"responsive\": true}                    ).then(function(){\n",
       "                            \n",
       "var gd = document.getElementById('82db624c-23aa-4e17-9304-e4e0b6f10059');\n",
       "var x = new MutationObserver(function (mutations, observer) {{\n",
       "        var display = window.getComputedStyle(gd).display;\n",
       "        if (!display || display === 'none') {{\n",
       "            console.log([gd, 'removed!']);\n",
       "            Plotly.purge(gd);\n",
       "            observer.disconnect();\n",
       "        }}\n",
       "}});\n",
       "\n",
       "// Listen for the removal of the full notebook cells\n",
       "var notebookContainer = gd.closest('#notebook-container');\n",
       "if (notebookContainer) {{\n",
       "    x.observe(notebookContainer, {childList: true});\n",
       "}}\n",
       "\n",
       "// Listen for the clearing of the current output cell\n",
       "var outputEl = gd.closest('.output');\n",
       "if (outputEl) {{\n",
       "    x.observe(outputEl, {childList: true});\n",
       "}}\n",
       "\n",
       "                        })                };                });            </script>        </div>"
      ]
     },
     "metadata": {},
     "output_type": "display_data"
    }
   ],
   "source": [
    "value_counts_data = Train_Labels.value_counts()\n",
    "\n",
    "fig = go.Figure(data=[go.Pie(\n",
    "    labels=value_counts_data.index,\n",
    "    values=value_counts_data.values,\n",
    "    textinfo='label+percent',\n",
    "    insidetextorientation='radial',\n",
    "    hole=0.6,\n",
    "    marker=dict(colors=['#1f77b4', '#ff7f0e', '#2ca02c', '#d62728'], line=dict(color='#ffffff', width=1)),\n",
    ")])\n",
    "\n",
    "fig.update_layout(\n",
    "    title='Train Labels Value Counts',\n",
    "    font=dict(color='white'),\n",
    "    paper_bgcolor='black',\n",
    "    plot_bgcolor='black',\n",
    ")\n",
    "\n",
    "fig.show()\n"
   ]
  },
  {
   "cell_type": "code",
   "execution_count": 17,
   "id": "4eb01be9",
   "metadata": {
    "execution": {
     "iopub.execute_input": "2023-12-03T22:39:27.579617Z",
     "iopub.status.busy": "2023-12-03T22:39:27.578942Z",
     "iopub.status.idle": "2023-12-03T22:39:27.585202Z",
     "shell.execute_reply": "2023-12-03T22:39:27.584250Z"
    },
    "papermill": {
     "duration": 0.023477,
     "end_time": "2023-12-03T22:39:27.587515",
     "exception": false,
     "start_time": "2023-12-03T22:39:27.564038",
     "status": "completed"
    },
    "tags": []
   },
   "outputs": [
    {
     "name": "stdout",
     "output_type": "stream",
     "text": [
      "28\n"
     ]
    }
   ],
   "source": [
    "arabic_chars = ['alef','beh','teh','theh','jeem','hah','khah','dal','thal','reh','zain','seen','sheen','sad','dad','tah','zah','ain','ghain','feh','qaf','kaf','lam','meem','noon','heh','waw','yeh']\n",
    "print(len(arabic_chars))"
   ]
  },
  {
   "cell_type": "code",
   "execution_count": 18,
   "id": "2283ba6d",
   "metadata": {
    "execution": {
     "iopub.execute_input": "2023-12-03T22:39:27.615607Z",
     "iopub.status.busy": "2023-12-03T22:39:27.615168Z",
     "iopub.status.idle": "2023-12-03T22:39:27.622929Z",
     "shell.execute_reply": "2023-12-03T22:39:27.621497Z"
    },
    "papermill": {
     "duration": 0.024377,
     "end_time": "2023-12-03T22:39:27.625109",
     "exception": false,
     "start_time": "2023-12-03T22:39:27.600732",
     "status": "completed"
    },
    "tags": []
   },
   "outputs": [
    {
     "name": "stdout",
     "output_type": "stream",
     "text": [
      "X_Train Shape : (13439, 1024)\n",
      "X_Test  Shape : (3359, 1024)\n",
      "Y_Train Shape : (13439, 1)\n",
      "Y_Test  Shape : (3359, 1)\n"
     ]
    }
   ],
   "source": [
    "x_train = Train_Images.to_numpy()\n",
    "y_train = Train_Labels.to_numpy()-1 \n",
    "\n",
    "x_test = Test_Images.to_numpy()\n",
    "y_test = Test_Labels.to_numpy()-1\n",
    "print(f\"X_Train Shape : {x_train.shape}\")\n",
    "print(f\"X_Test  Shape : {x_test.shape}\")\n",
    "print(f\"Y_Train Shape : {y_train.shape}\")\n",
    "print(f\"Y_Test  Shape : {y_test.shape}\")"
   ]
  },
  {
   "cell_type": "code",
   "execution_count": 19,
   "id": "e43ff24f",
   "metadata": {
    "execution": {
     "iopub.execute_input": "2023-12-03T22:39:27.653567Z",
     "iopub.status.busy": "2023-12-03T22:39:27.653156Z",
     "iopub.status.idle": "2023-12-03T22:39:27.716540Z",
     "shell.execute_reply": "2023-12-03T22:39:27.715459Z"
    },
    "papermill": {
     "duration": 0.080555,
     "end_time": "2023-12-03T22:39:27.719272",
     "exception": false,
     "start_time": "2023-12-03T22:39:27.638717",
     "status": "completed"
    },
    "tags": []
   },
   "outputs": [],
   "source": [
    "x_train = x_train.reshape(-1,32,32,1)\n",
    "x_test  = x_test.reshape(-1,32,32,1)\n",
    "\n",
    "x_train = x_train / 255.0\n",
    "x_test  = x_test / 255.0"
   ]
  },
  {
   "cell_type": "code",
   "execution_count": 20,
   "id": "45f81b62",
   "metadata": {
    "execution": {
     "iopub.execute_input": "2023-12-03T22:39:27.746811Z",
     "iopub.status.busy": "2023-12-03T22:39:27.746462Z",
     "iopub.status.idle": "2023-12-03T22:39:28.531632Z",
     "shell.execute_reply": "2023-12-03T22:39:28.530607Z"
    },
    "papermill": {
     "duration": 0.801624,
     "end_time": "2023-12-03T22:39:28.533913",
     "exception": false,
     "start_time": "2023-12-03T22:39:27.732289",
     "status": "completed"
    },
    "tags": []
   },
   "outputs": [
    {
     "data": {
      "image/png": "[encoded data removed]",
      "text/plain": [
       "<Figure size 1000x1000 with 10 Axes>"
      ]
     },
     "metadata": {},
     "output_type": "display_data"
    }
   ],
   "source": [
    "ra = np.random.randint(0, 13440, size=25)\n",
    "plt.figure(figsize=(10, 10))\n",
    "for i in range(10):\n",
    "    plt.subplot(5, 5, i + 1)\n",
    "    plt.xticks([])\n",
    "    plt.yticks([])\n",
    "    plt.imshow(x_train[ra[i]].reshape(32, 32).T, \"gray\")\n",
    "    plt.xlabel(arabic_chars[int(y_train[ra[i]][0])], fontsize=10, color='black', ha='center')\n",
    "    plt.subplots_adjust(hspace=0.5)\n",
    "plt.show()"
   ]
  },
  {
   "cell_type": "code",
   "execution_count": 21,
   "id": "9c80c51b",
   "metadata": {
    "execution": {
     "iopub.execute_input": "2023-12-03T22:39:28.567437Z",
     "iopub.status.busy": "2023-12-03T22:39:28.567075Z",
     "iopub.status.idle": "2023-12-03T22:39:28.574129Z",
     "shell.execute_reply": "2023-12-03T22:39:28.572856Z"
    },
    "papermill": {
     "duration": 0.022623,
     "end_time": "2023-12-03T22:39:28.576376",
     "exception": false,
     "start_time": "2023-12-03T22:39:28.553753",
     "status": "completed"
    },
    "tags": []
   },
   "outputs": [
    {
     "name": "stdout",
     "output_type": "stream",
     "text": [
      "(13439, 28) (3359, 28)\n"
     ]
    }
   ],
   "source": [
    "y_train = to_categorical(y_train)\n",
    "y_test  = to_categorical(y_test)\n",
    "print(y_train.shape, y_test.shape)"
   ]
  },
  {
   "cell_type": "markdown",
   "id": "f485c56a",
   "metadata": {
    "papermill": {
     "duration": 0.012456,
     "end_time": "2023-12-03T22:39:28.644939",
     "exception": false,
     "start_time": "2023-12-03T22:39:28.632483",
     "status": "completed"
    },
    "tags": []
   },
   "source": [
    "<div style=\"background-color:blue; border-radius:2px; border:#000000 solid; padding: 15px; font-size:100%; text-align:center\">\n",
    "    <h2 align=\"center\" style=\"color:#ffffff;\"><b>MODEL ENGINEERING</b></h2>\n",
    "</div>"
   ]
  },
  {
   "cell_type": "code",
   "execution_count": 22,
   "id": "6f8310d6",
   "metadata": {
    "execution": {
     "iopub.execute_input": "2023-12-03T22:39:28.671460Z",
     "iopub.status.busy": "2023-12-03T22:39:28.671066Z",
     "iopub.status.idle": "2023-12-03T22:39:33.212185Z",
     "shell.execute_reply": "2023-12-03T22:39:33.211120Z"
    },
    "papermill": {
     "duration": 4.567469,
     "end_time": "2023-12-03T22:39:33.225005",
     "exception": false,
     "start_time": "2023-12-03T22:39:28.657536",
     "status": "completed"
    },
    "tags": []
   },
   "outputs": [
    {
     "name": "stdout",
     "output_type": "stream",
     "text": [
      "Model: \"sequential\"\n",
      "_________________________________________________________________\n",
      " Layer (type)                Output Shape              Param #   \n",
      "=================================================================\n",
      " conv2d (Conv2D)             (None, 32, 32, 32)        832       \n",
      "                                                                 \n",
      " conv2d_1 (Conv2D)           (None, 28, 28, 32)        25632     \n",
      "                                                                 \n",
      " conv2d_2 (Conv2D)           (None, 24, 24, 32)        25632     \n",
      "                                                                 \n",
      " max_pooling2d (MaxPooling2  (None, 12, 12, 32)        0         \n",
      " D)                                                              \n",
      "                                                                 \n",
      " batch_normalization (Batch  (None, 12, 12, 32)        128       \n",
      " Normalization)                                                  \n",
      "                                                                 \n",
      " conv2d_3 (Conv2D)           (None, 12, 12, 64)        51264     \n",
      "                                                                 \n",
      " conv2d_4 (Conv2D)           (None, 8, 8, 64)          102464    \n",
      "                                                                 \n",
      " conv2d_5 (Conv2D)           (None, 4, 4, 64)          102464    \n",
      "                                                                 \n",
      " max_pooling2d_1 (MaxPoolin  (None, 2, 2, 64)          0         \n",
      " g2D)                                                            \n",
      "                                                                 \n",
      " batch_normalization_1 (Bat  (None, 2, 2, 64)          256       \n",
      " chNormalization)                                                \n",
      "                                                                 \n",
      " flatten (Flatten)           (None, 256)               0         \n",
      "                                                                 \n",
      " dense (Dense)               (None, 128)               32896     \n",
      "                                                                 \n",
      " dense_1 (Dense)             (None, 128)               16512     \n",
      "                                                                 \n",
      " dropout (Dropout)           (None, 128)               0         \n",
      "                                                                 \n",
      " dense_2 (Dense)             (None, 28)                3612      \n",
      "                                                                 \n",
      "=================================================================\n",
      "Total params: 361692 (1.38 MB)\n",
      "Trainable params: 361500 (1.38 MB)\n",
      "Non-trainable params: 192 (768.00 Byte)\n",
      "_________________________________________________________________\n"
     ]
    }
   ],
   "source": [
    "model = Sequential()\n",
    "\n",
    "model.add(Conv2D(32, (5, 5), padding=\"same\", activation=\"relu\", input_shape=(32, 32, 1)))\n",
    "model.add(Conv2D(32, (5, 5), activation=\"relu\"))\n",
    "model.add(Conv2D(32, (5, 5), activation=\"relu\"))\n",
    "model.add(MaxPooling2D((2, 2)))\n",
    "model.add(BatchNormalization())\n",
    "\n",
    "model.add(Conv2D(64, (5, 5), padding=\"same\", activation=\"relu\"))\n",
    "model.add(Conv2D(64, (5, 5), activation=\"relu\"))\n",
    "model.add(Conv2D(64, (5, 5), activation=\"relu\"))\n",
    "model.add(MaxPooling2D((2, 2)))\n",
    "model.add(BatchNormalization())\n",
    "\n",
    "model.add(Flatten())\n",
    "model.add(Dense(128, activation=\"relu\"))\n",
    "model.add(Dense(128, activation=\"relu\"))\n",
    "model.add(Dropout(0.4))\n",
    "\n",
    "model.add(Dense(28, activation=\"softmax\"))\n",
    "\n",
    "model.compile(loss=\"categorical_crossentropy\", optimizer=\"adam\", metrics=[\"accuracy\"])\n",
    "model.summary()"
   ]
  },
  {
   "cell_type": "code",
   "execution_count": 23,
   "id": "00e1ac10",
   "metadata": {
    "execution": {
     "iopub.execute_input": "2023-12-03T22:39:33.258626Z",
     "iopub.status.busy": "2023-12-03T22:39:33.258021Z",
     "iopub.status.idle": "2023-12-03T22:39:33.333296Z",
     "shell.execute_reply": "2023-12-03T22:39:33.332356Z"
    },
    "papermill": {
     "duration": 0.094409,
     "end_time": "2023-12-03T22:39:33.335510",
     "exception": false,
     "start_time": "2023-12-03T22:39:33.241101",
     "status": "completed"
    },
    "tags": []
   },
   "outputs": [
    {
     "data": {
      "text/html": [
       "<div>                            <div id=\"dd623e1b-366e-44b8-bffa-0c6b81b7f0bc\" class=\"plotly-graph-div\" style=\"height:400px; width:800px;\"></div>            <script type=\"text/javascript\">                require([\"plotly\"], function(Plotly) {                    window.PLOTLYENV=window.PLOTLYENV || {};                                    if (document.getElementById(\"dd623e1b-366e-44b8-bffa-0c6b81b7f0bc\")) {                    Plotly.newPlot(                        \"dd623e1b-366e-44b8-bffa-0c6b81b7f0bc\",                        [{\"cells\":{\"fill\":{\"color\":\"rgb(35, 35, 35)\"},\"font\":{\"color\":\"white\"},\"values\":[[\"_________________________________________________________________\",\" Layer (type)                Output Shape              Param #   \",\"=================================================================\",\" conv2d (Conv2D)             (None, 32, 32, 32)        832       \",\"                                                                 \",\" conv2d_1 (Conv2D)           (None, 28, 28, 32)        25632     \",\"                                                                 \",\" conv2d_2 (Conv2D)           (None, 24, 24, 32)        25632     \",\"                                                                 \",\" max_pooling2d (MaxPooling2  (None, 12, 12, 32)        0         \",\" D)                                                              \",\"                                                                 \",\" batch_normalization (Batch  (None, 12, 12, 32)        128       \",\" Normalization)                                                  \",\"                                                                 \",\" conv2d_3 (Conv2D)           (None, 12, 12, 64)        51264     \",\"                                                                 \",\" conv2d_4 (Conv2D)           (None, 8, 8, 64)          102464    \",\"                                                                 \",\" conv2d_5 (Conv2D)           (None, 4, 4, 64)          102464    \",\"                                                                 \",\" max_pooling2d_1 (MaxPoolin  (None, 2, 2, 64)          0         \",\" g2D)                                                            \",\"                                                                 \",\" batch_normalization_1 (Bat  (None, 2, 2, 64)          256       \",\" chNormalization)                                                \",\"                                                                 \",\" flatten (Flatten)           (None, 256)               0         \",\"                                                                 \",\" dense (Dense)               (None, 128)               32896     \",\"                                                                 \",\" dense_1 (Dense)             (None, 128)               16512     \",\"                                                                 \",\" dropout (Dropout)           (None, 128)               0         \",\"                                                                 \",\" dense_2 (Dense)             (None, 28)                3612      \",\"                                                                 \",\"=================================================================\",\"Total params: 361692 (1.38 MB)\",\"Trainable params: 361500 (1.38 MB)\",\"Non-trainable params: 192 (768.00 Byte)\",\"_________________________________________________________________\"],[\" Layer (type)                Output Shape              Param #   \",\"=================================================================\",\" conv2d (Conv2D)             (None, 32, 32, 32)        832       \",\"                                                                 \",\" conv2d_1 (Conv2D)           (None, 28, 28, 32)        25632     \",\"                                                                 \",\" conv2d_2 (Conv2D)           (None, 24, 24, 32)        25632     \",\"                                                                 \",\" max_pooling2d (MaxPooling2  (None, 12, 12, 32)        0         \",\" D)                                                              \",\"                                                                 \",\" batch_normalization (Batch  (None, 12, 12, 32)        128       \",\" Normalization)                                                  \",\"                                                                 \",\" conv2d_3 (Conv2D)           (None, 12, 12, 64)        51264     \",\"                                                                 \",\" conv2d_4 (Conv2D)           (None, 8, 8, 64)          102464    \",\"                                                                 \",\" conv2d_5 (Conv2D)           (None, 4, 4, 64)          102464    \",\"                                                                 \",\" max_pooling2d_1 (MaxPoolin  (None, 2, 2, 64)          0         \",\" g2D)                                                            \",\"                                                                 \",\" batch_normalization_1 (Bat  (None, 2, 2, 64)          256       \",\" chNormalization)                                                \",\"                                                                 \",\" flatten (Flatten)           (None, 256)               0         \",\"                                                                 \",\" dense (Dense)               (None, 128)               32896     \",\"                                                                 \",\" dense_1 (Dense)             (None, 128)               16512     \",\"                                                                 \",\" dropout (Dropout)           (None, 128)               0         \",\"                                                                 \",\" dense_2 (Dense)             (None, 28)                3612      \",\"                                                                 \",\"=================================================================\",\"Total params: 361692 (1.38 MB)\",\"Trainable params: 361500 (1.38 MB)\",\"Non-trainable params: 192 (768.00 Byte)\",\"_________________________________________________________________\"],[\"=================================================================\",\" conv2d (Conv2D)             (None, 32, 32, 32)        832       \",\"                                                                 \",\" conv2d_1 (Conv2D)           (None, 28, 28, 32)        25632     \",\"                                                                 \",\" conv2d_2 (Conv2D)           (None, 24, 24, 32)        25632     \",\"                                                                 \",\" max_pooling2d (MaxPooling2  (None, 12, 12, 32)        0         \",\" D)                                                              \",\"                                                                 \",\" batch_normalization (Batch  (None, 12, 12, 32)        128       \",\" Normalization)                                                  \",\"                                                                 \",\" conv2d_3 (Conv2D)           (None, 12, 12, 64)        51264     \",\"                                                                 \",\" conv2d_4 (Conv2D)           (None, 8, 8, 64)          102464    \",\"                                                                 \",\" conv2d_5 (Conv2D)           (None, 4, 4, 64)          102464    \",\"                                                                 \",\" max_pooling2d_1 (MaxPoolin  (None, 2, 2, 64)          0         \",\" g2D)                                                            \",\"                                                                 \",\" batch_normalization_1 (Bat  (None, 2, 2, 64)          256       \",\" chNormalization)                                                \",\"                                                                 \",\" flatten (Flatten)           (None, 256)               0         \",\"                                                                 \",\" dense (Dense)               (None, 128)               32896     \",\"                                                                 \",\" dense_1 (Dense)             (None, 128)               16512     \",\"                                                                 \",\" dropout (Dropout)           (None, 128)               0         \",\"                                                                 \",\" dense_2 (Dense)             (None, 28)                3612      \",\"                                                                 \",\"=================================================================\",\"Total params: 361692 (1.38 MB)\",\"Trainable params: 361500 (1.38 MB)\",\"Non-trainable params: 192 (768.00 Byte)\",\"_________________________________________________________________\"]]},\"header\":{\"fill\":{\"color\":\"rgb(55, 55, 55)\"},\"font\":{\"color\":\"white\"},\"values\":[\"Layer (type)\",\"Output Shape\",\"Param #\"]},\"type\":\"table\"}],                        {\"font\":{\"color\":\"white\"},\"height\":400,\"paper_bgcolor\":\"rgb(0, 0, 0)\",\"plot_bgcolor\":\"rgb(0, 0, 0)\",\"title\":{\"text\":\"Model Summary\"},\"width\":800,\"template\":{\"data\":{\"histogram2dcontour\":[{\"type\":\"histogram2dcontour\",\"colorbar\":{\"outlinewidth\":0,\"ticks\":\"\"},\"colorscale\":[[0.0,\"#0d0887\"],[0.1111111111111111,\"#46039f\"],[0.2222222222222222,\"#7201a8\"],[0.3333333333333333,\"#9c179e\"],[0.4444444444444444,\"#bd3786\"],[0.5555555555555556,\"#d8576b\"],[0.6666666666666666,\"#ed7953\"],[0.7777777777777778,\"#fb9f3a\"],[0.8888888888888888,\"#fdca26\"],[1.0,\"#f0f921\"]]}],\"choropleth\":[{\"type\":\"choropleth\",\"colorbar\":{\"outlinewidth\":0,\"ticks\":\"\"}}],\"histogram2d\":[{\"type\":\"histogram2d\",\"colorbar\":{\"outlinewidth\":0,\"ticks\":\"\"},\"colorscale\":[[0.0,\"#0d0887\"],[0.1111111111111111,\"#46039f\"],[0.2222222222222222,\"#7201a8\"],[0.3333333333333333,\"#9c179e\"],[0.4444444444444444,\"#bd3786\"],[0.5555555555555556,\"#d8576b\"],[0.6666666666666666,\"#ed7953\"],[0.7777777777777778,\"#fb9f3a\"],[0.8888888888888888,\"#fdca26\"],[1.0,\"#f0f921\"]]}],\"heatmap\":[{\"type\":\"heatmap\",\"colorbar\":{\"outlinewidth\":0,\"ticks\":\"\"},\"colorscale\":[[0.0,\"#0d0887\"],[0.1111111111111111,\"#46039f\"],[0.2222222222222222,\"#7201a8\"],[0.3333333333333333,\"#9c179e\"],[0.4444444444444444,\"#bd3786\"],[0.5555555555555556,\"#d8576b\"],[0.6666666666666666,\"#ed7953\"],[0.7777777777777778,\"#fb9f3a\"],[0.8888888888888888,\"#fdca26\"],[1.0,\"#f0f921\"]]}],\"heatmapgl\":[{\"type\":\"heatmapgl\",\"colorbar\":{\"outlinewidth\":0,\"ticks\":\"\"},\"colorscale\":[[0.0,\"#0d0887\"],[0.1111111111111111,\"#46039f\"],[0.2222222222222222,\"#7201a8\"],[0.3333333333333333,\"#9c179e\"],[0.4444444444444444,\"#bd3786\"],[0.5555555555555556,\"#d8576b\"],[0.6666666666666666,\"#ed7953\"],[0.7777777777777778,\"#fb9f3a\"],[0.8888888888888888,\"#fdca26\"],[1.0,\"#f0f921\"]]}],\"contourcarpet\":[{\"type\":\"contourcarpet\",\"colorbar\":{\"outlinewidth\":0,\"ticks\":\"\"}}],\"contour\":[{\"type\":\"contour\",\"colorbar\":{\"outlinewidth\":0,\"ticks\":\"\"},\"colorscale\":[[0.0,\"#0d0887\"],[0.1111111111111111,\"#46039f\"],[0.2222222222222222,\"#7201a8\"],[0.3333333333333333,\"#9c179e\"],[0.4444444444444444,\"#bd3786\"],[0.5555555555555556,\"#d8576b\"],[0.6666666666666666,\"#ed7953\"],[0.7777777777777778,\"#fb9f3a\"],[0.8888888888888888,\"#fdca26\"],[1.0,\"#f0f921\"]]}],\"surface\":[{\"type\":\"surface\",\"colorbar\":{\"outlinewidth\":0,\"ticks\":\"\"},\"colorscale\":[[0.0,\"#0d0887\"],[0.1111111111111111,\"#46039f\"],[0.2222222222222222,\"#7201a8\"],[0.3333333333333333,\"#9c179e\"],[0.4444444444444444,\"#bd3786\"],[0.5555555555555556,\"#d8576b\"],[0.6666666666666666,\"#ed7953\"],[0.7777777777777778,\"#fb9f3a\"],[0.8888888888888888,\"#fdca26\"],[1.0,\"#f0f921\"]]}],\"mesh3d\":[{\"type\":\"mesh3d\",\"colorbar\":{\"outlinewidth\":0,\"ticks\":\"\"}}],\"scatter\":[{\"fillpattern\":{\"fillmode\":\"overlay\",\"size\":10,\"solidity\":0.2},\"type\":\"scatter\"}],\"parcoords\":[{\"type\":\"parcoords\",\"line\":{\"colorbar\":{\"outlinewidth\":0,\"ticks\":\"\"}}}],\"scatterpolargl\":[{\"type\":\"scatterpolargl\",\"marker\":{\"colorbar\":{\"outlinewidth\":0,\"ticks\":\"\"}}}],\"bar\":[{\"error_x\":{\"color\":\"#2a3f5f\"},\"error_y\":{\"color\":\"#2a3f5f\"},\"marker\":{\"line\":{\"color\":\"#E5ECF6\",\"width\":0.5},\"pattern\":{\"fillmode\":\"overlay\",\"size\":10,\"solidity\":0.2}},\"type\":\"bar\"}],\"scattergeo\":[{\"type\":\"scattergeo\",\"marker\":{\"colorbar\":{\"outlinewidth\":0,\"ticks\":\"\"}}}],\"scatterpolar\":[{\"type\":\"scatterpolar\",\"marker\":{\"colorbar\":{\"outlinewidth\":0,\"ticks\":\"\"}}}],\"histogram\":[{\"marker\":{\"pattern\":{\"fillmode\":\"overlay\",\"size\":10,\"solidity\":0.2}},\"type\":\"histogram\"}],\"scattergl\":[{\"type\":\"scattergl\",\"marker\":{\"colorbar\":{\"outlinewidth\":0,\"ticks\":\"\"}}}],\"scatter3d\":[{\"type\":\"scatter3d\",\"line\":{\"colorbar\":{\"outlinewidth\":0,\"ticks\":\"\"}},\"marker\":{\"colorbar\":{\"outlinewidth\":0,\"ticks\":\"\"}}}],\"scattermapbox\":[{\"type\":\"scattermapbox\",\"marker\":{\"colorbar\":{\"outlinewidth\":0,\"ticks\":\"\"}}}],\"scatterternary\":[{\"type\":\"scatterternary\",\"marker\":{\"colorbar\":{\"outlinewidth\":0,\"ticks\":\"\"}}}],\"scattercarpet\":[{\"type\":\"scattercarpet\",\"marker\":{\"colorbar\":{\"outlinewidth\":0,\"ticks\":\"\"}}}],\"carpet\":[{\"aaxis\":{\"endlinecolor\":\"#2a3f5f\",\"gridcolor\":\"white\",\"linecolor\":\"white\",\"minorgridcolor\":\"white\",\"startlinecolor\":\"#2a3f5f\"},\"baxis\":{\"endlinecolor\":\"#2a3f5f\",\"gridcolor\":\"white\",\"linecolor\":\"white\",\"minorgridcolor\":\"white\",\"startlinecolor\":\"#2a3f5f\"},\"type\":\"carpet\"}],\"table\":[{\"cells\":{\"fill\":{\"color\":\"#EBF0F8\"},\"line\":{\"color\":\"white\"}},\"header\":{\"fill\":{\"color\":\"#C8D4E3\"},\"line\":{\"color\":\"white\"}},\"type\":\"table\"}],\"barpolar\":[{\"marker\":{\"line\":{\"color\":\"#E5ECF6\",\"width\":0.5},\"pattern\":{\"fillmode\":\"overlay\",\"size\":10,\"solidity\":0.2}},\"type\":\"barpolar\"}],\"pie\":[{\"automargin\":true,\"type\":\"pie\"}]},\"layout\":{\"autotypenumbers\":\"strict\",\"colorway\":[\"#636efa\",\"#EF553B\",\"#00cc96\",\"#ab63fa\",\"#FFA15A\",\"#19d3f3\",\"#FF6692\",\"#B6E880\",\"#FF97FF\",\"#FECB52\"],\"font\":{\"color\":\"#2a3f5f\"},\"hovermode\":\"closest\",\"hoverlabel\":{\"align\":\"left\"},\"paper_bgcolor\":\"white\",\"plot_bgcolor\":\"#E5ECF6\",\"polar\":{\"bgcolor\":\"#E5ECF6\",\"angularaxis\":{\"gridcolor\":\"white\",\"linecolor\":\"white\",\"ticks\":\"\"},\"radialaxis\":{\"gridcolor\":\"white\",\"linecolor\":\"white\",\"ticks\":\"\"}},\"ternary\":{\"bgcolor\":\"#E5ECF6\",\"aaxis\":{\"gridcolor\":\"white\",\"linecolor\":\"white\",\"ticks\":\"\"},\"baxis\":{\"gridcolor\":\"white\",\"linecolor\":\"white\",\"ticks\":\"\"},\"caxis\":{\"gridcolor\":\"white\",\"linecolor\":\"white\",\"ticks\":\"\"}},\"coloraxis\":{\"colorbar\":{\"outlinewidth\":0,\"ticks\":\"\"}},\"colorscale\":{\"sequential\":[[0.0,\"#0d0887\"],[0.1111111111111111,\"#46039f\"],[0.2222222222222222,\"#7201a8\"],[0.3333333333333333,\"#9c179e\"],[0.4444444444444444,\"#bd3786\"],[0.5555555555555556,\"#d8576b\"],[0.6666666666666666,\"#ed7953\"],[0.7777777777777778,\"#fb9f3a\"],[0.8888888888888888,\"#fdca26\"],[1.0,\"#f0f921\"]],\"sequentialminus\":[[0.0,\"#0d0887\"],[0.1111111111111111,\"#46039f\"],[0.2222222222222222,\"#7201a8\"],[0.3333333333333333,\"#9c179e\"],[0.4444444444444444,\"#bd3786\"],[0.5555555555555556,\"#d8576b\"],[0.6666666666666666,\"#ed7953\"],[0.7777777777777778,\"#fb9f3a\"],[0.8888888888888888,\"#fdca26\"],[1.0,\"#f0f921\"]],\"diverging\":[[0,\"#8e0152\"],[0.1,\"#c51b7d\"],[0.2,\"#de77ae\"],[0.3,\"#f1b6da\"],[0.4,\"#fde0ef\"],[0.5,\"#f7f7f7\"],[0.6,\"#e6f5d0\"],[0.7,\"#b8e186\"],[0.8,\"#7fbc41\"],[0.9,\"#4d9221\"],[1,\"#276419\"]]},\"xaxis\":{\"gridcolor\":\"white\",\"linecolor\":\"white\",\"ticks\":\"\",\"title\":{\"standoff\":15},\"zerolinecolor\":\"white\",\"automargin\":true,\"zerolinewidth\":2},\"yaxis\":{\"gridcolor\":\"white\",\"linecolor\":\"white\",\"ticks\":\"\",\"title\":{\"standoff\":15},\"zerolinecolor\":\"white\",\"automargin\":true,\"zerolinewidth\":2},\"scene\":{\"xaxis\":{\"backgroundcolor\":\"#E5ECF6\",\"gridcolor\":\"white\",\"linecolor\":\"white\",\"showbackground\":true,\"ticks\":\"\",\"zerolinecolor\":\"white\",\"gridwidth\":2},\"yaxis\":{\"backgroundcolor\":\"#E5ECF6\",\"gridcolor\":\"white\",\"linecolor\":\"white\",\"showbackground\":true,\"ticks\":\"\",\"zerolinecolor\":\"white\",\"gridwidth\":2},\"zaxis\":{\"backgroundcolor\":\"#E5ECF6\",\"gridcolor\":\"white\",\"linecolor\":\"white\",\"showbackground\":true,\"ticks\":\"\",\"zerolinecolor\":\"white\",\"gridwidth\":2}},\"shapedefaults\":{\"line\":{\"color\":\"#2a3f5f\"}},\"annotationdefaults\":{\"arrowcolor\":\"#2a3f5f\",\"arrowhead\":0,\"arrowwidth\":1},\"geo\":{\"bgcolor\":\"white\",\"landcolor\":\"#E5ECF6\",\"subunitcolor\":\"white\",\"showland\":true,\"showlakes\":true,\"lakecolor\":\"white\"},\"title\":{\"x\":0.05},\"mapbox\":{\"style\":\"light\"}}}},                        {\"responsive\": true}                    ).then(function(){\n",
       "                            \n",
       "var gd = document.getElementById('dd623e1b-366e-44b8-bffa-0c6b81b7f0bc');\n",
       "var x = new MutationObserver(function (mutations, observer) {{\n",
       "        var display = window.getComputedStyle(gd).display;\n",
       "        if (!display || display === 'none') {{\n",
       "            console.log([gd, 'removed!']);\n",
       "            Plotly.purge(gd);\n",
       "            observer.disconnect();\n",
       "        }}\n",
       "}});\n",
       "\n",
       "// Listen for the removal of the full notebook cells\n",
       "var notebookContainer = gd.closest('#notebook-container');\n",
       "if (notebookContainer) {{\n",
       "    x.observe(notebookContainer, {childList: true});\n",
       "}}\n",
       "\n",
       "// Listen for the clearing of the current output cell\n",
       "var outputEl = gd.closest('.output');\n",
       "if (outputEl) {{\n",
       "    x.observe(outputEl, {childList: true});\n",
       "}}\n",
       "\n",
       "                        })                };                });            </script>        </div>"
      ]
     },
     "metadata": {},
     "output_type": "display_data"
    }
   ],
   "source": [
    "model_summary = []\n",
    "model.summary(print_fn=lambda x: model_summary.append(x))\n",
    "\n",
    "table = go.Table(\n",
    "    header=dict(values=['Layer (type)', 'Output Shape', 'Param #'],\n",
    "                fill_color='rgb(55, 55, 55)',\n",
    "                font=dict(color='white')),\n",
    "    cells=dict(values=[model_summary[1:], model_summary[2:], model_summary[3:]],\n",
    "               fill_color='rgb(35, 35, 35)',\n",
    "               font=dict(color='white'))\n",
    ")\n",
    "\n",
    "layout = go.Layout(\n",
    "    title='Model Summary',\n",
    "    width=800,\n",
    "    height=400,\n",
    "    font=dict(color='white'),\n",
    "    paper_bgcolor='rgb(0, 0, 0)',\n",
    "    plot_bgcolor='rgb(0, 0, 0)'\n",
    ")\n",
    "\n",
    "fig = go.Figure(data=[table], layout=layout)\n",
    "\n",
    "fig.show()\n"
   ]
  },
  {
   "cell_type": "code",
   "execution_count": 24,
   "id": "66835dee",
   "metadata": {
    "execution": {
     "iopub.execute_input": "2023-12-03T22:39:33.370359Z",
     "iopub.status.busy": "2023-12-03T22:39:33.369974Z",
     "iopub.status.idle": "2023-12-03T22:39:33.403637Z",
     "shell.execute_reply": "2023-12-03T22:39:33.402590Z"
    },
    "papermill": {
     "duration": 0.053999,
     "end_time": "2023-12-03T22:39:33.406024",
     "exception": false,
     "start_time": "2023-12-03T22:39:33.352025",
     "status": "completed"
    },
    "tags": []
   },
   "outputs": [],
   "source": [
    "datagen = ImageDataGenerator(\n",
    "    featurewise_center=False,\n",
    "    samplewise_center=False,\n",
    "    featurewise_std_normalization=False,\n",
    "    samplewise_std_normalization=False,\n",
    "    zca_whitening=False,\n",
    "    rotation_range=10,\n",
    "    zoom_range=0.1,\n",
    "    width_shift_range=0.1,\n",
    "    height_shift_range=0.1,\n",
    "    horizontal_flip=False,\n",
    "    vertical_flip=False\n",
    ")\n",
    "train_gen = datagen.flow(x_train, y_train, batch_size=64)\n",
    "test_gen  = datagen.flow(x_test , y_test , batch_size=64)"
   ]
  },
  {
   "cell_type": "code",
   "execution_count": 25,
   "id": "934aae4c",
   "metadata": {
    "execution": {
     "iopub.execute_input": "2023-12-03T22:39:33.443202Z",
     "iopub.status.busy": "2023-12-03T22:39:33.442894Z",
     "iopub.status.idle": "2023-12-03T22:45:24.823471Z",
     "shell.execute_reply": "2023-12-03T22:45:24.822262Z"
    },
    "papermill": {
     "duration": 351.402467,
     "end_time": "2023-12-03T22:45:24.825617",
     "exception": false,
     "start_time": "2023-12-03T22:39:33.423150",
     "status": "completed"
    },
    "tags": []
   },
   "outputs": [
    {
     "name": "stdout",
     "output_type": "stream",
     "text": [
      "Epoch 1/50\n",
      "208/209 [============================>.] - ETA: 0s - loss: 2.1449 - accuracy: 0.3330\n",
      "Epoch 1: val_accuracy improved from -inf to 0.04688, saving model to best.hdf5\n",
      "209/209 [==============================] - 21s 36ms/step - loss: 2.1399 - accuracy: 0.3344 - val_loss: 7.2457 - val_accuracy: 0.0469\n",
      "Epoch 2/50\n",
      "  3/209 [..............................] - ETA: 5s - loss: 1.1208 - accuracy: 0.6094"
     ]
    },
    {
     "name": "stderr",
     "output_type": "stream",
     "text": [
      "/opt/conda/lib/python3.10/site-packages/keras/src/engine/training.py:3000: UserWarning:\n",
      "\n",
      "You are saving your model as an HDF5 file via `model.save()`. This file format is considered legacy. We recommend using instead the native Keras format, e.g. `model.save('my_model.keras')`.\n",
      "\n"
     ]
    },
    {
     "name": "stdout",
     "output_type": "stream",
     "text": [
      "209/209 [==============================] - ETA: 0s - loss: 0.9255 - accuracy: 0.6835\n",
      "Epoch 2: val_accuracy improved from 0.04688 to 0.28305, saving model to best.hdf5\n",
      "209/209 [==============================] - 7s 33ms/step - loss: 0.9255 - accuracy: 0.6835 - val_loss: 3.0654 - val_accuracy: 0.2831\n",
      "Epoch 3/50\n",
      "208/209 [============================>.] - ETA: 0s - loss: 0.5690 - accuracy: 0.8118\n",
      "Epoch 3: val_accuracy improved from 0.28305 to 0.70042, saving model to best.hdf5\n",
      "209/209 [==============================] - 7s 32ms/step - loss: 0.5687 - accuracy: 0.8119 - val_loss: 0.9507 - val_accuracy: 0.7004\n",
      "Epoch 4/50\n",
      "208/209 [============================>.] - ETA: 0s - loss: 0.4069 - accuracy: 0.8676\n",
      "Epoch 4: val_accuracy improved from 0.70042 to 0.81701, saving model to best.hdf5\n",
      "209/209 [==============================] - 7s 32ms/step - loss: 0.4057 - accuracy: 0.8680 - val_loss: 0.5560 - val_accuracy: 0.8170\n",
      "Epoch 5/50\n",
      "208/209 [============================>.] - ETA: 0s - loss: 0.3320 - accuracy: 0.8988\n",
      "Epoch 5: val_accuracy improved from 0.81701 to 0.85006, saving model to best.hdf5\n",
      "209/209 [==============================] - 7s 31ms/step - loss: 0.3320 - accuracy: 0.8988 - val_loss: 0.4972 - val_accuracy: 0.8501\n",
      "Epoch 6/50\n",
      "208/209 [============================>.] - ETA: 0s - loss: 0.2828 - accuracy: 0.9183\n",
      "Epoch 6: val_accuracy improved from 0.85006 to 0.90174, saving model to best.hdf5\n",
      "209/209 [==============================] - 7s 32ms/step - loss: 0.2821 - accuracy: 0.9184 - val_loss: 0.2888 - val_accuracy: 0.9017\n",
      "Epoch 7/50\n",
      "209/209 [==============================] - ETA: 0s - loss: 0.2537 - accuracy: 0.9229\n",
      "Epoch 7: val_accuracy improved from 0.90174 to 0.92037, saving model to best.hdf5\n",
      "209/209 [==============================] - 7s 33ms/step - loss: 0.2537 - accuracy: 0.9229 - val_loss: 0.2868 - val_accuracy: 0.9204\n",
      "Epoch 8/50\n",
      "207/209 [============================>.] - ETA: 0s - loss: 0.2270 - accuracy: 0.9318\n",
      "Epoch 8: val_accuracy improved from 0.92037 to 0.93389, saving model to best.hdf5\n",
      "209/209 [==============================] - 7s 32ms/step - loss: 0.2270 - accuracy: 0.9319 - val_loss: 0.2130 - val_accuracy: 0.9339\n",
      "Epoch 9/50\n",
      "209/209 [==============================] - ETA: 0s - loss: 0.2087 - accuracy: 0.9383\n",
      "Epoch 9: val_accuracy did not improve from 0.93389\n",
      "209/209 [==============================] - 6s 31ms/step - loss: 0.2087 - accuracy: 0.9383 - val_loss: 0.3280 - val_accuracy: 0.9108\n",
      "Epoch 10/50\n",
      "209/209 [==============================] - ETA: 0s - loss: 0.1972 - accuracy: 0.9427\n",
      "Epoch 10: val_accuracy did not improve from 0.93389\n",
      "209/209 [==============================] - 7s 32ms/step - loss: 0.1972 - accuracy: 0.9427 - val_loss: 0.2212 - val_accuracy: 0.9339\n",
      "Epoch 11/50\n",
      "209/209 [==============================] - ETA: 0s - loss: 0.1741 - accuracy: 0.9486\n",
      "Epoch 11: val_accuracy did not improve from 0.93389\n",
      "209/209 [==============================] - 8s 38ms/step - loss: 0.1741 - accuracy: 0.9486 - val_loss: 0.2900 - val_accuracy: 0.9282\n",
      "Epoch 12/50\n",
      "208/209 [============================>.] - ETA: 0s - loss: 0.1698 - accuracy: 0.9507\n",
      "Epoch 12: val_accuracy improved from 0.93389 to 0.94862, saving model to best.hdf5\n",
      "209/209 [==============================] - 7s 32ms/step - loss: 0.1698 - accuracy: 0.9507 - val_loss: 0.1736 - val_accuracy: 0.9486\n",
      "Epoch 13/50\n",
      "207/209 [============================>.] - ETA: 0s - loss: 0.1699 - accuracy: 0.9517\n",
      "Epoch 13: val_accuracy did not improve from 0.94862\n",
      "209/209 [==============================] - 7s 32ms/step - loss: 0.1703 - accuracy: 0.9516 - val_loss: 0.2361 - val_accuracy: 0.9330\n",
      "Epoch 14/50\n",
      "209/209 [==============================] - ETA: 0s - loss: 0.1575 - accuracy: 0.9529\n",
      "Epoch 14: val_accuracy did not improve from 0.94862\n",
      "209/209 [==============================] - 7s 31ms/step - loss: 0.1575 - accuracy: 0.9529 - val_loss: 0.2015 - val_accuracy: 0.9393\n",
      "Epoch 15/50\n",
      "209/209 [==============================] - ETA: 0s - loss: 0.1475 - accuracy: 0.9583\n",
      "Epoch 15: val_accuracy did not improve from 0.94862\n",
      "209/209 [==============================] - 7s 32ms/step - loss: 0.1475 - accuracy: 0.9583 - val_loss: 0.2380 - val_accuracy: 0.9327\n",
      "Epoch 16/50\n",
      "209/209 [==============================] - ETA: 0s - loss: 0.1478 - accuracy: 0.9563\n",
      "Epoch 16: val_accuracy improved from 0.94862 to 0.94952, saving model to best.hdf5\n",
      "209/209 [==============================] - 7s 33ms/step - loss: 0.1478 - accuracy: 0.9563 - val_loss: 0.1681 - val_accuracy: 0.9495\n",
      "Epoch 17/50\n",
      "207/209 [============================>.] - ETA: 0s - loss: 0.1374 - accuracy: 0.9587\n",
      "Epoch 17: val_accuracy improved from 0.94952 to 0.95343, saving model to best.hdf5\n",
      "209/209 [==============================] - 7s 33ms/step - loss: 0.1372 - accuracy: 0.9588 - val_loss: 0.1537 - val_accuracy: 0.9534\n",
      "Epoch 18/50\n",
      "209/209 [==============================] - ETA: 0s - loss: 0.1311 - accuracy: 0.9618\n",
      "Epoch 18: val_accuracy did not improve from 0.95343\n",
      "209/209 [==============================] - 7s 32ms/step - loss: 0.1311 - accuracy: 0.9618 - val_loss: 0.1870 - val_accuracy: 0.9513\n",
      "Epoch 19/50\n",
      "208/209 [============================>.] - ETA: 0s - loss: 0.1308 - accuracy: 0.9606\n",
      "Epoch 19: val_accuracy did not improve from 0.95343\n",
      "209/209 [==============================] - 7s 32ms/step - loss: 0.1304 - accuracy: 0.9607 - val_loss: 0.1985 - val_accuracy: 0.9426\n",
      "Epoch 20/50\n",
      "209/209 [==============================] - ETA: 0s - loss: 0.1243 - accuracy: 0.9652\n",
      "Epoch 20: val_accuracy improved from 0.95343 to 0.96124, saving model to best.hdf5\n",
      "209/209 [==============================] - 7s 32ms/step - loss: 0.1243 - accuracy: 0.9652 - val_loss: 0.1388 - val_accuracy: 0.9612\n",
      "Epoch 21/50\n",
      "209/209 [==============================] - ETA: 0s - loss: 0.1191 - accuracy: 0.9654\n",
      "Epoch 21: val_accuracy did not improve from 0.96124\n",
      "209/209 [==============================] - 7s 33ms/step - loss: 0.1191 - accuracy: 0.9654 - val_loss: 0.2178 - val_accuracy: 0.9366\n",
      "Epoch 22/50\n",
      "209/209 [==============================] - ETA: 0s - loss: 0.1160 - accuracy: 0.9664\n",
      "Epoch 22: val_accuracy improved from 0.96124 to 0.97055, saving model to best.hdf5\n",
      "209/209 [==============================] - 7s 32ms/step - loss: 0.1160 - accuracy: 0.9664 - val_loss: 0.1185 - val_accuracy: 0.9706\n",
      "Epoch 23/50\n",
      "208/209 [============================>.] - ETA: 0s - loss: 0.1179 - accuracy: 0.9667\n",
      "Epoch 23: val_accuracy did not improve from 0.97055\n",
      "209/209 [==============================] - 7s 31ms/step - loss: 0.1178 - accuracy: 0.9667 - val_loss: 0.1707 - val_accuracy: 0.9528\n",
      "Epoch 24/50\n",
      "207/209 [============================>.] - ETA: 0s - loss: 0.0971 - accuracy: 0.9719\n",
      "Epoch 24: val_accuracy did not improve from 0.97055\n",
      "209/209 [==============================] - 7s 32ms/step - loss: 0.0966 - accuracy: 0.9721 - val_loss: 0.2164 - val_accuracy: 0.9411\n",
      "Epoch 25/50\n",
      "208/209 [============================>.] - ETA: 0s - loss: 0.1075 - accuracy: 0.9700\n",
      "Epoch 25: val_accuracy did not improve from 0.97055\n",
      "209/209 [==============================] - 7s 33ms/step - loss: 0.1079 - accuracy: 0.9699 - val_loss: 0.1833 - val_accuracy: 0.9474\n",
      "Epoch 26/50\n",
      "207/209 [============================>.] - ETA: 0s - loss: 0.1088 - accuracy: 0.9684\n",
      "Epoch 26: val_accuracy did not improve from 0.97055\n",
      "209/209 [==============================] - 7s 31ms/step - loss: 0.1095 - accuracy: 0.9684 - val_loss: 0.1437 - val_accuracy: 0.9621\n",
      "Epoch 27/50\n",
      "208/209 [============================>.] - ETA: 0s - loss: 0.0949 - accuracy: 0.9716\n",
      "Epoch 27: val_accuracy did not improve from 0.97055\n",
      "209/209 [==============================] - 7s 31ms/step - loss: 0.0947 - accuracy: 0.9717 - val_loss: 0.1690 - val_accuracy: 0.9528\n",
      "Epoch 28/50\n",
      "208/209 [============================>.] - ETA: 0s - loss: 0.0970 - accuracy: 0.9719\n",
      "Epoch 28: val_accuracy did not improve from 0.97055\n",
      "209/209 [==============================] - 7s 32ms/step - loss: 0.0967 - accuracy: 0.9720 - val_loss: 0.1681 - val_accuracy: 0.9585\n",
      "Epoch 29/50\n",
      "208/209 [============================>.] - ETA: 0s - loss: 0.0949 - accuracy: 0.9719\n",
      "Epoch 29: val_accuracy did not improve from 0.97055\n",
      "209/209 [==============================] - 6s 31ms/step - loss: 0.0948 - accuracy: 0.9720 - val_loss: 0.1382 - val_accuracy: 0.9627\n",
      "Epoch 30/50\n",
      "208/209 [============================>.] - ETA: 0s - loss: 0.0879 - accuracy: 0.9738\n",
      "Epoch 30: val_accuracy did not improve from 0.97055\n",
      "209/209 [==============================] - 7s 32ms/step - loss: 0.0876 - accuracy: 0.9738 - val_loss: 0.1558 - val_accuracy: 0.9585\n",
      "Epoch 31/50\n",
      "209/209 [==============================] - ETA: 0s - loss: 0.0939 - accuracy: 0.9744\n",
      "Epoch 31: val_accuracy did not improve from 0.97055\n",
      "209/209 [==============================] - 7s 32ms/step - loss: 0.0939 - accuracy: 0.9744 - val_loss: 0.1912 - val_accuracy: 0.9489\n",
      "Epoch 32/50\n",
      "207/209 [============================>.] - ETA: 0s - loss: 0.0895 - accuracy: 0.9749\n",
      "Epoch 32: val_accuracy did not improve from 0.97055\n",
      "209/209 [==============================] - 7s 31ms/step - loss: 0.0900 - accuracy: 0.9749 - val_loss: 0.2434 - val_accuracy: 0.9309\n",
      "Epoch 33/50\n",
      "209/209 [==============================] - ETA: 0s - loss: 0.0858 - accuracy: 0.9760\n",
      "Epoch 33: val_accuracy did not improve from 0.97055\n",
      "209/209 [==============================] - 6s 31ms/step - loss: 0.0858 - accuracy: 0.9760 - val_loss: 0.1939 - val_accuracy: 0.9498\n",
      "Epoch 34/50\n",
      "209/209 [==============================] - ETA: 0s - loss: 0.0869 - accuracy: 0.9750\n",
      "Epoch 34: val_accuracy did not improve from 0.97055\n",
      "209/209 [==============================] - 7s 31ms/step - loss: 0.0869 - accuracy: 0.9750 - val_loss: 0.1722 - val_accuracy: 0.9588\n",
      "Epoch 35/50\n",
      "208/209 [============================>.] - ETA: 0s - loss: 0.0893 - accuracy: 0.9738\n",
      "Epoch 35: val_accuracy did not improve from 0.97055\n",
      "209/209 [==============================] - 7s 33ms/step - loss: 0.0892 - accuracy: 0.9738 - val_loss: 0.1720 - val_accuracy: 0.9555\n",
      "Epoch 36/50\n",
      "209/209 [==============================] - ETA: 0s - loss: 0.0898 - accuracy: 0.9741\n",
      "Epoch 36: val_accuracy did not improve from 0.97055\n",
      "209/209 [==============================] - 7s 32ms/step - loss: 0.0898 - accuracy: 0.9741 - val_loss: 0.1725 - val_accuracy: 0.9525\n",
      "Epoch 37/50\n",
      "209/209 [==============================] - ETA: 0s - loss: 0.0771 - accuracy: 0.9776\n",
      "Epoch 37: val_accuracy did not improve from 0.97055\n",
      "209/209 [==============================] - 7s 32ms/step - loss: 0.0771 - accuracy: 0.9776 - val_loss: 0.1742 - val_accuracy: 0.9627\n",
      "Epoch 38/50\n",
      "208/209 [============================>.] - ETA: 0s - loss: 0.0771 - accuracy: 0.9781\n",
      "Epoch 38: val_accuracy did not improve from 0.97055\n",
      "209/209 [==============================] - 7s 31ms/step - loss: 0.0769 - accuracy: 0.9782 - val_loss: 0.1359 - val_accuracy: 0.9675\n",
      "Epoch 39/50\n",
      "208/209 [============================>.] - ETA: 0s - loss: 0.0754 - accuracy: 0.9779\n",
      "Epoch 39: val_accuracy did not improve from 0.97055\n",
      "209/209 [==============================] - 7s 33ms/step - loss: 0.0756 - accuracy: 0.9779 - val_loss: 0.1971 - val_accuracy: 0.9522\n",
      "Epoch 40/50\n",
      "209/209 [==============================] - ETA: 0s - loss: 0.0843 - accuracy: 0.9761\n",
      "Epoch 40: val_accuracy did not improve from 0.97055\n",
      "209/209 [==============================] - 7s 32ms/step - loss: 0.0843 - accuracy: 0.9761 - val_loss: 0.1756 - val_accuracy: 0.9564\n",
      "Epoch 41/50\n",
      "209/209 [==============================] - ETA: 0s - loss: 0.0753 - accuracy: 0.9791\n",
      "Epoch 41: val_accuracy did not improve from 0.97055\n",
      "209/209 [==============================] - 7s 31ms/step - loss: 0.0753 - accuracy: 0.9791 - val_loss: 0.1882 - val_accuracy: 0.9552\n",
      "Epoch 42/50\n",
      "208/209 [============================>.] - ETA: 0s - loss: 0.0694 - accuracy: 0.9796\n",
      "Epoch 42: val_accuracy did not improve from 0.97055\n",
      "209/209 [==============================] - 7s 32ms/step - loss: 0.0691 - accuracy: 0.9797 - val_loss: 0.1258 - val_accuracy: 0.9678\n",
      "Epoch 43/50\n",
      "208/209 [============================>.] - ETA: 0s - loss: 0.0744 - accuracy: 0.9800\n",
      "Epoch 43: val_accuracy improved from 0.97055 to 0.97416, saving model to best.hdf5\n",
      "209/209 [==============================] - 7s 32ms/step - loss: 0.0746 - accuracy: 0.9800 - val_loss: 0.1142 - val_accuracy: 0.9742\n",
      "Epoch 44/50\n",
      "209/209 [==============================] - ETA: 0s - loss: 0.0657 - accuracy: 0.9822\n",
      "Epoch 44: val_accuracy did not improve from 0.97416\n",
      "209/209 [==============================] - 7s 34ms/step - loss: 0.0657 - accuracy: 0.9822 - val_loss: 0.1393 - val_accuracy: 0.9675\n",
      "Epoch 45/50\n",
      "209/209 [==============================] - ETA: 0s - loss: 0.0770 - accuracy: 0.9790\n",
      "Epoch 45: val_accuracy did not improve from 0.97416\n",
      "209/209 [==============================] - 7s 32ms/step - loss: 0.0770 - accuracy: 0.9790 - val_loss: 0.1230 - val_accuracy: 0.9727\n",
      "Epoch 46/50\n",
      "208/209 [============================>.] - ETA: 0s - loss: 0.0697 - accuracy: 0.9808\n",
      "Epoch 46: val_accuracy did not improve from 0.97416\n",
      "209/209 [==============================] - 7s 32ms/step - loss: 0.0695 - accuracy: 0.9809 - val_loss: 0.2076 - val_accuracy: 0.9549\n",
      "Epoch 47/50\n",
      "209/209 [==============================] - ETA: 0s - loss: 0.0625 - accuracy: 0.9821\n",
      "Epoch 47: val_accuracy did not improve from 0.97416\n",
      "209/209 [==============================] - 7s 32ms/step - loss: 0.0625 - accuracy: 0.9821 - val_loss: 0.1605 - val_accuracy: 0.9606\n",
      "Epoch 48/50\n",
      "209/209 [==============================] - ETA: 0s - loss: 0.0634 - accuracy: 0.9839\n",
      "Epoch 48: val_accuracy did not improve from 0.97416\n",
      "209/209 [==============================] - 7s 33ms/step - loss: 0.0634 - accuracy: 0.9839 - val_loss: 0.1416 - val_accuracy: 0.9654\n",
      "Epoch 49/50\n",
      "208/209 [============================>.] - ETA: 0s - loss: 0.0615 - accuracy: 0.9841\n",
      "Epoch 49: val_accuracy did not improve from 0.97416\n",
      "209/209 [==============================] - 7s 33ms/step - loss: 0.0615 - accuracy: 0.9841 - val_loss: 0.1367 - val_accuracy: 0.9712\n",
      "Epoch 50/50\n",
      "209/209 [==============================] - ETA: 0s - loss: 0.0721 - accuracy: 0.9803\n",
      "Epoch 50: val_accuracy did not improve from 0.97416\n",
      "209/209 [==============================] - 7s 31ms/step - loss: 0.0721 - accuracy: 0.9803 - val_loss: 0.1867 - val_accuracy: 0.9615\n",
      "Train Success!!\n"
     ]
    }
   ],
   "source": [
    "model_checkpoint_callback = ModelCheckpoint(\n",
    "    filepath=\"best.hdf5\",\n",
    "    monitor='val_accuracy',\n",
    "    verbose=1,\n",
    "    save_best_only=True,\n",
    "    mode='max'\n",
    ")\n",
    "\n",
    "history = model.fit(\n",
    "    train_gen,\n",
    "    epochs=50,\n",
    "    verbose=1,\n",
    "    steps_per_epoch=x_train.shape[0] // 64,\n",
    "    validation_data=test_gen,\n",
    "    validation_steps=x_test.shape[0] // 64,\n",
    "    callbacks=[model_checkpoint_callback]\n",
    ")\n",
    "print(\"Train Success!!\")"
   ]
  },
  {
   "cell_type": "code",
   "execution_count": 26,
   "id": "d44313f5",
   "metadata": {
    "execution": {
     "iopub.execute_input": "2023-12-03T22:45:25.742067Z",
     "iopub.status.busy": "2023-12-03T22:45:25.741152Z",
     "iopub.status.idle": "2023-12-03T22:45:25.839277Z",
     "shell.execute_reply": "2023-12-03T22:45:25.838204Z"
    },
    "papermill": {
     "duration": 0.55026,
     "end_time": "2023-12-03T22:45:25.841595",
     "exception": false,
     "start_time": "2023-12-03T22:45:25.291335",
     "status": "completed"
    },
    "tags": []
   },
   "outputs": [
    {
     "data": {
      "text/html": [
       "<div>                            <div id=\"11c3f608-7d00-4620-843d-c5bd46ad80f1\" class=\"plotly-graph-div\" style=\"height:600px; width:800px;\"></div>            <script type=\"text/javascript\">                require([\"plotly\"], function(Plotly) {                    window.PLOTLYENV=window.PLOTLYENV || {};                                    if (document.getElementById(\"11c3f608-7d00-4620-843d-c5bd46ad80f1\")) {                    Plotly.newPlot(                        \"11c3f608-7d00-4620-843d-c5bd46ad80f1\",                        [{\"name\":\"Accuracy\",\"x\":[0,1,2,3,4,5,6,7,8,9,10,11,12,13,14,15,16,17,18,19,20,21,22,23,24,25,26,27,28,29,30,31,32,33,34,35,36,37,38,39,40,41,42,43,44,45,46,47,48,49],\"y\":[0.3343551456928253,0.6835139989852905,0.8118878602981567,0.8679625988006592,0.8987663388252258,0.9183551669120789,0.9229158759117126,0.9318878650665283,0.9383177757263184,0.9427289962768555,0.9486355185508728,0.9507289528846741,0.951626181602478,0.9528971910476685,0.9582803845405579,0.9562616944313049,0.9588037133216858,0.961794376373291,0.960672914981842,0.9652336239814758,0.9653831720352173,0.9663551449775696,0.9666541814804077,0.9721121788024902,0.9698691368103027,0.9683738350868225,0.9716635346412659,0.9720394611358643,0.9719626307487488,0.9738317728042603,0.974355161190033,0.9748784899711609,0.9760000109672546,0.9750280380249023,0.9738317728042603,0.9741308689117432,0.9776448607444763,0.9782429933547974,0.9778691530227661,0.9761495590209961,0.9791401624679565,0.9797382950782776,0.9800373911857605,0.9822056293487549,0.9789906740188599,0.9808598160743713,0.9821308255195618,0.9839252233505249,0.9840747714042664,0.9802616834640503],\"type\":\"scatter\"},{\"name\":\"Validation Accuracy\",\"x\":[0,1,2,3,4,5,6,7,8,9,10,11,12,13,14,15,16,17,18,19,20,21,22,23,24,25,26,27,28,29,30,31,32,33,34,35,36,37,38,39,40,41,42,43,44,45,46,47,48,49],\"y\":[0.046875,0.28305289149284363,0.7004206776618958,0.8170071840286255,0.8500601053237915,0.9017428159713745,0.9203726053237915,0.9338942170143127,0.9107571840286255,0.9338942170143127,0.9281851053237915,0.9486178159713745,0.9329928159713745,0.9393028616905212,0.932692289352417,0.9495192170143127,0.9534254670143127,0.9513221383094788,0.9426081776618958,0.9612379670143127,0.936598539352417,0.9705528616905212,0.9528245329856873,0.9411057829856873,0.9474158883094788,0.9621394276618958,0.9528245329856873,0.9585336446762085,0.9627403616905212,0.9585336446762085,0.9489182829856873,0.9308894276618958,0.9498196840286255,0.9588341116905212,0.9555288553237915,0.9525240659713745,0.9627403616905212,0.9675480723381042,0.952223539352417,0.9564303159713745,0.9552283883094788,0.967848539352417,0.9741586446762085,0.9675480723381042,0.97265625,0.9549278616905212,0.9606370329856873,0.9654446840286255,0.9711538553237915,0.9615384340286255],\"type\":\"scatter\"}],                        {\"template\":{\"data\":{\"histogram2dcontour\":[{\"type\":\"histogram2dcontour\",\"colorbar\":{\"outlinewidth\":0,\"ticks\":\"\"},\"colorscale\":[[0.0,\"#0d0887\"],[0.1111111111111111,\"#46039f\"],[0.2222222222222222,\"#7201a8\"],[0.3333333333333333,\"#9c179e\"],[0.4444444444444444,\"#bd3786\"],[0.5555555555555556,\"#d8576b\"],[0.6666666666666666,\"#ed7953\"],[0.7777777777777778,\"#fb9f3a\"],[0.8888888888888888,\"#fdca26\"],[1.0,\"#f0f921\"]]}],\"choropleth\":[{\"type\":\"choropleth\",\"colorbar\":{\"outlinewidth\":0,\"ticks\":\"\"}}],\"histogram2d\":[{\"type\":\"histogram2d\",\"colorbar\":{\"outlinewidth\":0,\"ticks\":\"\"},\"colorscale\":[[0.0,\"#0d0887\"],[0.1111111111111111,\"#46039f\"],[0.2222222222222222,\"#7201a8\"],[0.3333333333333333,\"#9c179e\"],[0.4444444444444444,\"#bd3786\"],[0.5555555555555556,\"#d8576b\"],[0.6666666666666666,\"#ed7953\"],[0.7777777777777778,\"#fb9f3a\"],[0.8888888888888888,\"#fdca26\"],[1.0,\"#f0f921\"]]}],\"heatmap\":[{\"type\":\"heatmap\",\"colorbar\":{\"outlinewidth\":0,\"ticks\":\"\"},\"colorscale\":[[0.0,\"#0d0887\"],[0.1111111111111111,\"#46039f\"],[0.2222222222222222,\"#7201a8\"],[0.3333333333333333,\"#9c179e\"],[0.4444444444444444,\"#bd3786\"],[0.5555555555555556,\"#d8576b\"],[0.6666666666666666,\"#ed7953\"],[0.7777777777777778,\"#fb9f3a\"],[0.8888888888888888,\"#fdca26\"],[1.0,\"#f0f921\"]]}],\"heatmapgl\":[{\"type\":\"heatmapgl\",\"colorbar\":{\"outlinewidth\":0,\"ticks\":\"\"},\"colorscale\":[[0.0,\"#0d0887\"],[0.1111111111111111,\"#46039f\"],[0.2222222222222222,\"#7201a8\"],[0.3333333333333333,\"#9c179e\"],[0.4444444444444444,\"#bd3786\"],[0.5555555555555556,\"#d8576b\"],[0.6666666666666666,\"#ed7953\"],[0.7777777777777778,\"#fb9f3a\"],[0.8888888888888888,\"#fdca26\"],[1.0,\"#f0f921\"]]}],\"contourcarpet\":[{\"type\":\"contourcarpet\",\"colorbar\":{\"outlinewidth\":0,\"ticks\":\"\"}}],\"contour\":[{\"type\":\"contour\",\"colorbar\":{\"outlinewidth\":0,\"ticks\":\"\"},\"colorscale\":[[0.0,\"#0d0887\"],[0.1111111111111111,\"#46039f\"],[0.2222222222222222,\"#7201a8\"],[0.3333333333333333,\"#9c179e\"],[0.4444444444444444,\"#bd3786\"],[0.5555555555555556,\"#d8576b\"],[0.6666666666666666,\"#ed7953\"],[0.7777777777777778,\"#fb9f3a\"],[0.8888888888888888,\"#fdca26\"],[1.0,\"#f0f921\"]]}],\"surface\":[{\"type\":\"surface\",\"colorbar\":{\"outlinewidth\":0,\"ticks\":\"\"},\"colorscale\":[[0.0,\"#0d0887\"],[0.1111111111111111,\"#46039f\"],[0.2222222222222222,\"#7201a8\"],[0.3333333333333333,\"#9c179e\"],[0.4444444444444444,\"#bd3786\"],[0.5555555555555556,\"#d8576b\"],[0.6666666666666666,\"#ed7953\"],[0.7777777777777778,\"#fb9f3a\"],[0.8888888888888888,\"#fdca26\"],[1.0,\"#f0f921\"]]}],\"mesh3d\":[{\"type\":\"mesh3d\",\"colorbar\":{\"outlinewidth\":0,\"ticks\":\"\"}}],\"scatter\":[{\"fillpattern\":{\"fillmode\":\"overlay\",\"size\":10,\"solidity\":0.2},\"type\":\"scatter\"}],\"parcoords\":[{\"type\":\"parcoords\",\"line\":{\"colorbar\":{\"outlinewidth\":0,\"ticks\":\"\"}}}],\"scatterpolargl\":[{\"type\":\"scatterpolargl\",\"marker\":{\"colorbar\":{\"outlinewidth\":0,\"ticks\":\"\"}}}],\"bar\":[{\"error_x\":{\"color\":\"#2a3f5f\"},\"error_y\":{\"color\":\"#2a3f5f\"},\"marker\":{\"line\":{\"color\":\"#E5ECF6\",\"width\":0.5},\"pattern\":{\"fillmode\":\"overlay\",\"size\":10,\"solidity\":0.2}},\"type\":\"bar\"}],\"scattergeo\":[{\"type\":\"scattergeo\",\"marker\":{\"colorbar\":{\"outlinewidth\":0,\"ticks\":\"\"}}}],\"scatterpolar\":[{\"type\":\"scatterpolar\",\"marker\":{\"colorbar\":{\"outlinewidth\":0,\"ticks\":\"\"}}}],\"histogram\":[{\"marker\":{\"pattern\":{\"fillmode\":\"overlay\",\"size\":10,\"solidity\":0.2}},\"type\":\"histogram\"}],\"scattergl\":[{\"type\":\"scattergl\",\"marker\":{\"colorbar\":{\"outlinewidth\":0,\"ticks\":\"\"}}}],\"scatter3d\":[{\"type\":\"scatter3d\",\"line\":{\"colorbar\":{\"outlinewidth\":0,\"ticks\":\"\"}},\"marker\":{\"colorbar\":{\"outlinewidth\":0,\"ticks\":\"\"}}}],\"scattermapbox\":[{\"type\":\"scattermapbox\",\"marker\":{\"colorbar\":{\"outlinewidth\":0,\"ticks\":\"\"}}}],\"scatterternary\":[{\"type\":\"scatterternary\",\"marker\":{\"colorbar\":{\"outlinewidth\":0,\"ticks\":\"\"}}}],\"scattercarpet\":[{\"type\":\"scattercarpet\",\"marker\":{\"colorbar\":{\"outlinewidth\":0,\"ticks\":\"\"}}}],\"carpet\":[{\"aaxis\":{\"endlinecolor\":\"#2a3f5f\",\"gridcolor\":\"white\",\"linecolor\":\"white\",\"minorgridcolor\":\"white\",\"startlinecolor\":\"#2a3f5f\"},\"baxis\":{\"endlinecolor\":\"#2a3f5f\",\"gridcolor\":\"white\",\"linecolor\":\"white\",\"minorgridcolor\":\"white\",\"startlinecolor\":\"#2a3f5f\"},\"type\":\"carpet\"}],\"table\":[{\"cells\":{\"fill\":{\"color\":\"#EBF0F8\"},\"line\":{\"color\":\"white\"}},\"header\":{\"fill\":{\"color\":\"#C8D4E3\"},\"line\":{\"color\":\"white\"}},\"type\":\"table\"}],\"barpolar\":[{\"marker\":{\"line\":{\"color\":\"#E5ECF6\",\"width\":0.5},\"pattern\":{\"fillmode\":\"overlay\",\"size\":10,\"solidity\":0.2}},\"type\":\"barpolar\"}],\"pie\":[{\"automargin\":true,\"type\":\"pie\"}]},\"layout\":{\"autotypenumbers\":\"strict\",\"colorway\":[\"#636efa\",\"#EF553B\",\"#00cc96\",\"#ab63fa\",\"#FFA15A\",\"#19d3f3\",\"#FF6692\",\"#B6E880\",\"#FF97FF\",\"#FECB52\"],\"font\":{\"color\":\"#2a3f5f\"},\"hovermode\":\"closest\",\"hoverlabel\":{\"align\":\"left\"},\"paper_bgcolor\":\"white\",\"plot_bgcolor\":\"#E5ECF6\",\"polar\":{\"bgcolor\":\"#E5ECF6\",\"angularaxis\":{\"gridcolor\":\"white\",\"linecolor\":\"white\",\"ticks\":\"\"},\"radialaxis\":{\"gridcolor\":\"white\",\"linecolor\":\"white\",\"ticks\":\"\"}},\"ternary\":{\"bgcolor\":\"#E5ECF6\",\"aaxis\":{\"gridcolor\":\"white\",\"linecolor\":\"white\",\"ticks\":\"\"},\"baxis\":{\"gridcolor\":\"white\",\"linecolor\":\"white\",\"ticks\":\"\"},\"caxis\":{\"gridcolor\":\"white\",\"linecolor\":\"white\",\"ticks\":\"\"}},\"coloraxis\":{\"colorbar\":{\"outlinewidth\":0,\"ticks\":\"\"}},\"colorscale\":{\"sequential\":[[0.0,\"#0d0887\"],[0.1111111111111111,\"#46039f\"],[0.2222222222222222,\"#7201a8\"],[0.3333333333333333,\"#9c179e\"],[0.4444444444444444,\"#bd3786\"],[0.5555555555555556,\"#d8576b\"],[0.6666666666666666,\"#ed7953\"],[0.7777777777777778,\"#fb9f3a\"],[0.8888888888888888,\"#fdca26\"],[1.0,\"#f0f921\"]],\"sequentialminus\":[[0.0,\"#0d0887\"],[0.1111111111111111,\"#46039f\"],[0.2222222222222222,\"#7201a8\"],[0.3333333333333333,\"#9c179e\"],[0.4444444444444444,\"#bd3786\"],[0.5555555555555556,\"#d8576b\"],[0.6666666666666666,\"#ed7953\"],[0.7777777777777778,\"#fb9f3a\"],[0.8888888888888888,\"#fdca26\"],[1.0,\"#f0f921\"]],\"diverging\":[[0,\"#8e0152\"],[0.1,\"#c51b7d\"],[0.2,\"#de77ae\"],[0.3,\"#f1b6da\"],[0.4,\"#fde0ef\"],[0.5,\"#f7f7f7\"],[0.6,\"#e6f5d0\"],[0.7,\"#b8e186\"],[0.8,\"#7fbc41\"],[0.9,\"#4d9221\"],[1,\"#276419\"]]},\"xaxis\":{\"gridcolor\":\"white\",\"linecolor\":\"white\",\"ticks\":\"\",\"title\":{\"standoff\":15},\"zerolinecolor\":\"white\",\"automargin\":true,\"zerolinewidth\":2},\"yaxis\":{\"gridcolor\":\"white\",\"linecolor\":\"white\",\"ticks\":\"\",\"title\":{\"standoff\":15},\"zerolinecolor\":\"white\",\"automargin\":true,\"zerolinewidth\":2},\"scene\":{\"xaxis\":{\"backgroundcolor\":\"#E5ECF6\",\"gridcolor\":\"white\",\"linecolor\":\"white\",\"showbackground\":true,\"ticks\":\"\",\"zerolinecolor\":\"white\",\"gridwidth\":2},\"yaxis\":{\"backgroundcolor\":\"#E5ECF6\",\"gridcolor\":\"white\",\"linecolor\":\"white\",\"showbackground\":true,\"ticks\":\"\",\"zerolinecolor\":\"white\",\"gridwidth\":2},\"zaxis\":{\"backgroundcolor\":\"#E5ECF6\",\"gridcolor\":\"white\",\"linecolor\":\"white\",\"showbackground\":true,\"ticks\":\"\",\"zerolinecolor\":\"white\",\"gridwidth\":2}},\"shapedefaults\":{\"line\":{\"color\":\"#2a3f5f\"}},\"annotationdefaults\":{\"arrowcolor\":\"#2a3f5f\",\"arrowhead\":0,\"arrowwidth\":1},\"geo\":{\"bgcolor\":\"white\",\"landcolor\":\"#E5ECF6\",\"subunitcolor\":\"white\",\"showland\":true,\"showlakes\":true,\"lakecolor\":\"white\"},\"title\":{\"x\":0.05},\"mapbox\":{\"style\":\"light\"}}},\"legend\":{\"x\":0.7,\"y\":0.9},\"font\":{\"color\":\"white\"},\"title\":{\"text\":\"Training and Validation Accuracy\"},\"xaxis\":{\"title\":{\"text\":\"Epoch\"}},\"yaxis\":{\"title\":{\"text\":\"Accuracy\"}},\"width\":800,\"height\":600,\"plot_bgcolor\":\"rgb(17,17,17)\",\"paper_bgcolor\":\"rgb(17,17,17)\"},                        {\"responsive\": true}                    ).then(function(){\n",
       "                            \n",
       "var gd = document.getElementById('11c3f608-7d00-4620-843d-c5bd46ad80f1');\n",
       "var x = new MutationObserver(function (mutations, observer) {{\n",
       "        var display = window.getComputedStyle(gd).display;\n",
       "        if (!display || display === 'none') {{\n",
       "            console.log([gd, 'removed!']);\n",
       "            Plotly.purge(gd);\n",
       "            observer.disconnect();\n",
       "        }}\n",
       "}});\n",
       "\n",
       "// Listen for the removal of the full notebook cells\n",
       "var notebookContainer = gd.closest('#notebook-container');\n",
       "if (notebookContainer) {{\n",
       "    x.observe(notebookContainer, {childList: true});\n",
       "}}\n",
       "\n",
       "// Listen for the clearing of the current output cell\n",
       "var outputEl = gd.closest('.output');\n",
       "if (outputEl) {{\n",
       "    x.observe(outputEl, {childList: true});\n",
       "}}\n",
       "\n",
       "                        })                };                });            </script>        </div>"
      ]
     },
     "metadata": {},
     "output_type": "display_data"
    }
   ],
   "source": [
    "fig = go.Figure()\n",
    "fig.add_trace(go.Scatter(x=history.epoch, y=history.history['accuracy'], name='Accuracy'))\n",
    "fig.add_trace(go.Scatter(x=history.epoch, y=history.history['val_accuracy'], name='Validation Accuracy'))\n",
    "\n",
    "fig.update_layout(\n",
    "    title='Training and Validation Accuracy',\n",
    "    xaxis_title='Epoch',\n",
    "    yaxis_title='Accuracy',\n",
    "    legend=dict(x=0.7, y=0.9),\n",
    "    width=800,\n",
    "    height=600,\n",
    "    plot_bgcolor='rgb(17,17,17)',\n",
    "    paper_bgcolor='rgb(17,17,17)',\n",
    "    font=dict(color='white')  \n",
    ")\n",
    "\n",
    "fig.show()\n"
   ]
  },
  {
   "cell_type": "code",
   "execution_count": 27,
   "id": "160e2547",
   "metadata": {
    "execution": {
     "iopub.execute_input": "2023-12-03T22:45:26.726760Z",
     "iopub.status.busy": "2023-12-03T22:45:26.725954Z",
     "iopub.status.idle": "2023-12-03T22:45:28.107228Z",
     "shell.execute_reply": "2023-12-03T22:45:28.106147Z"
    },
    "papermill": {
     "duration": 1.818186,
     "end_time": "2023-12-03T22:45:28.109622",
     "exception": false,
     "start_time": "2023-12-03T22:45:26.291436",
     "status": "completed"
    },
    "tags": []
   },
   "outputs": [
    {
     "name": "stdout",
     "output_type": "stream",
     "text": [
      "105/105 [==============================] - 1s 4ms/step\n"
     ]
    },
    {
     "data": {
      "image/png": "[encoded data removed]",
      "text/plain": [
       "<Figure size 1000x400 with 2 Axes>"
      ]
     },
     "metadata": {},
     "output_type": "display_data"
    },
    {
     "data": {
      "image/png": "[encoded data removed]",
      "text/plain": [
       "<Figure size 640x480 with 1 Axes>"
      ]
     },
     "metadata": {},
     "output_type": "display_data"
    }
   ],
   "source": [
    "x_test_reshaped = x_test.reshape(-1, 32, 32, 1)\n",
    "\n",
    "pred = model.predict(x_test_reshaped)\n",
    "\n",
    "predicted_label = arabic_chars[np.argmax(pred[0])]\n",
    "\n",
    "plt.figure(figsize=(10, 4))\n",
    "\n",
    "plt.subplot(1, 2, 1)\n",
    "plt.imshow(x_test[0].reshape(32, 32), cmap='gray')\n",
    "plt.axis('off')\n",
    "plt.title('Original Image')\n",
    "\n",
    "plt.subplot(1, 2, 2)\n",
    "plt.imshow(x_test[0].reshape(32, 32).T, cmap='gray')\n",
    "plt.axis('off')\n",
    "plt.title('Transposed Image')\n",
    "\n",
    "plt.tight_layout()\n",
    "plt.show()\n",
    "\n",
    "plt.imshow(x_test[0].reshape(32, 32).T, cmap='gray')\n",
    "plt.title(f'Predicted Label: {predicted_label}')\n",
    "plt.axis('off')\n",
    "plt.show()"
   ]
  },
  {
   "cell_type": "code",
   "execution_count": 28,
   "id": "06c989f3",
   "metadata": {
    "execution": {
     "iopub.execute_input": "2023-12-03T22:45:29.068227Z",
     "iopub.status.busy": "2023-12-03T22:45:29.067462Z",
     "iopub.status.idle": "2023-12-03T22:45:30.532433Z",
     "shell.execute_reply": "2023-12-03T22:45:30.531498Z"
    },
    "papermill": {
     "duration": 1.903986,
     "end_time": "2023-12-03T22:45:30.534615",
     "exception": false,
     "start_time": "2023-12-03T22:45:28.630629",
     "status": "completed"
    },
    "tags": []
   },
   "outputs": [
    {
     "name": "stdout",
     "output_type": "stream",
     "text": [
      "105/105 [==============================] - 0s 2ms/step\n"
     ]
    },
    {
     "data": {
      "text/html": [
       "<div>                            <div id=\"02ff0cd8-8b71-47e5-ae5d-978c70020aba\" class=\"plotly-graph-div\" style=\"height:600px; width:800px;\"></div>            <script type=\"text/javascript\">                require([\"plotly\"], function(Plotly) {                    window.PLOTLYENV=window.PLOTLYENV || {};                                    if (document.getElementById(\"02ff0cd8-8b71-47e5-ae5d-978c70020aba\")) {                    Plotly.newPlot(                        \"02ff0cd8-8b71-47e5-ae5d-978c70020aba\",                        [{\"colorscale\":[[0.0,\"#440154\"],[0.1111111111111111,\"#482878\"],[0.2222222222222222,\"#3e4989\"],[0.3333333333333333,\"#31688e\"],[0.4444444444444444,\"#26828e\"],[0.5555555555555556,\"#1f9e89\"],[0.6666666666666666,\"#35b779\"],[0.7777777777777778,\"#6ece58\"],[0.8888888888888888,\"#b5de2b\"],[1.0,\"#fde725\"]],\"hoverongaps\":false,\"showscale\":false,\"text\":[[\"118\\u003cbr\\u003eCorrelation: 0.99\",\"0\\u003cbr\\u003eCorrelation: 0.00\",\"0\\u003cbr\\u003eCorrelation: 0.00\",\"0\\u003cbr\\u003eCorrelation: 0.00\",\"0\\u003cbr\\u003eCorrelation: 0.00\",\"0\\u003cbr\\u003eCorrelation: 0.00\",\"0\\u003cbr\\u003eCorrelation: 0.00\",\"0\\u003cbr\\u003eCorrelation: 0.00\",\"0\\u003cbr\\u003eCorrelation: 0.00\",\"0\\u003cbr\\u003eCorrelation: 0.00\",\"0\\u003cbr\\u003eCorrelation: 0.00\",\"0\\u003cbr\\u003eCorrelation: 0.00\",\"0\\u003cbr\\u003eCorrelation: 0.00\",\"0\\u003cbr\\u003eCorrelation: 0.00\",\"0\\u003cbr\\u003eCorrelation: 0.00\",\"0\\u003cbr\\u003eCorrelation: 0.00\",\"0\\u003cbr\\u003eCorrelation: 0.00\",\"0\\u003cbr\\u003eCorrelation: 0.00\",\"1\\u003cbr\\u003eCorrelation: 0.01\",\"0\\u003cbr\\u003eCorrelation: 0.00\",\"0\\u003cbr\\u003eCorrelation: 0.00\",\"0\\u003cbr\\u003eCorrelation: 0.00\",\"0\\u003cbr\\u003eCorrelation: 0.00\",\"0\\u003cbr\\u003eCorrelation: 0.00\",\"0\\u003cbr\\u003eCorrelation: 0.00\",\"0\\u003cbr\\u003eCorrelation: 0.00\",\"0\\u003cbr\\u003eCorrelation: 0.00\",\"0\\u003cbr\\u003eCorrelation: 0.00\"],[\"0\\u003cbr\\u003eCorrelation: 0.00\",\"119\\u003cbr\\u003eCorrelation: 0.99\",\"0\\u003cbr\\u003eCorrelation: 0.00\",\"0\\u003cbr\\u003eCorrelation: 0.00\",\"0\\u003cbr\\u003eCorrelation: 0.00\",\"1\\u003cbr\\u003eCorrelation: 0.01\",\"0\\u003cbr\\u003eCorrelation: 0.00\",\"0\\u003cbr\\u003eCorrelation: 0.00\",\"0\\u003cbr\\u003eCorrelation: 0.00\",\"0\\u003cbr\\u003eCorrelation: 0.00\",\"0\\u003cbr\\u003eCorrelation: 0.00\",\"0\\u003cbr\\u003eCorrelation: 0.00\",\"0\\u003cbr\\u003eCorrelation: 0.00\",\"0\\u003cbr\\u003eCorrelation: 0.00\",\"0\\u003cbr\\u003eCorrelation: 0.00\",\"0\\u003cbr\\u003eCorrelation: 0.00\",\"0\\u003cbr\\u003eCorrelation: 0.00\",\"0\\u003cbr\\u003eCorrelation: 0.00\",\"0\\u003cbr\\u003eCorrelation: 0.00\",\"0\\u003cbr\\u003eCorrelation: 0.00\",\"0\\u003cbr\\u003eCorrelation: 0.00\",\"0\\u003cbr\\u003eCorrelation: 0.00\",\"0\\u003cbr\\u003eCorrelation: 0.00\",\"0\\u003cbr\\u003eCorrelation: 0.00\",\"0\\u003cbr\\u003eCorrelation: 0.00\",\"0\\u003cbr\\u003eCorrelation: 0.00\",\"0\\u003cbr\\u003eCorrelation: 0.00\",\"0\\u003cbr\\u003eCorrelation: 0.00\"],[\"0\\u003cbr\\u003eCorrelation: 0.00\",\"0\\u003cbr\\u003eCorrelation: 0.00\",\"119\\u003cbr\\u003eCorrelation: 0.99\",\"0\\u003cbr\\u003eCorrelation: 0.00\",\"0\\u003cbr\\u003eCorrelation: 0.00\",\"1\\u003cbr\\u003eCorrelation: 0.01\",\"0\\u003cbr\\u003eCorrelation: 0.00\",\"0\\u003cbr\\u003eCorrelation: 0.00\",\"0\\u003cbr\\u003eCorrelation: 0.00\",\"0\\u003cbr\\u003eCorrelation: 0.00\",\"0\\u003cbr\\u003eCorrelation: 0.00\",\"0\\u003cbr\\u003eCorrelation: 0.00\",\"0\\u003cbr\\u003eCorrelation: 0.00\",\"0\\u003cbr\\u003eCorrelation: 0.00\",\"0\\u003cbr\\u003eCorrelation: 0.00\",\"0\\u003cbr\\u003eCorrelation: 0.00\",\"0\\u003cbr\\u003eCorrelation: 0.00\",\"0\\u003cbr\\u003eCorrelation: 0.00\",\"0\\u003cbr\\u003eCorrelation: 0.00\",\"0\\u003cbr\\u003eCorrelation: 0.00\",\"0\\u003cbr\\u003eCorrelation: 0.00\",\"0\\u003cbr\\u003eCorrelation: 0.00\",\"0\\u003cbr\\u003eCorrelation: 0.00\",\"0\\u003cbr\\u003eCorrelation: 0.00\",\"0\\u003cbr\\u003eCorrelation: 0.00\",\"0\\u003cbr\\u003eCorrelation: 0.00\",\"0\\u003cbr\\u003eCorrelation: 0.00\",\"0\\u003cbr\\u003eCorrelation: 0.00\"],[\"0\\u003cbr\\u003eCorrelation: 0.00\",\"0\\u003cbr\\u003eCorrelation: 0.00\",\"3\\u003cbr\\u003eCorrelation: 0.03\",\"116\\u003cbr\\u003eCorrelation: 0.97\",\"0\\u003cbr\\u003eCorrelation: 0.00\",\"0\\u003cbr\\u003eCorrelation: 0.00\",\"0\\u003cbr\\u003eCorrelation: 0.00\",\"0\\u003cbr\\u003eCorrelation: 0.00\",\"0\\u003cbr\\u003eCorrelation: 0.00\",\"0\\u003cbr\\u003eCorrelation: 0.00\",\"0\\u003cbr\\u003eCorrelation: 0.00\",\"0\\u003cbr\\u003eCorrelation: 0.00\",\"1\\u003cbr\\u003eCorrelation: 0.01\",\"0\\u003cbr\\u003eCorrelation: 0.00\",\"0\\u003cbr\\u003eCorrelation: 0.00\",\"0\\u003cbr\\u003eCorrelation: 0.00\",\"0\\u003cbr\\u003eCorrelation: 0.00\",\"0\\u003cbr\\u003eCorrelation: 0.00\",\"0\\u003cbr\\u003eCorrelation: 0.00\",\"0\\u003cbr\\u003eCorrelation: 0.00\",\"0\\u003cbr\\u003eCorrelation: 0.00\",\"0\\u003cbr\\u003eCorrelation: 0.00\",\"0\\u003cbr\\u003eCorrelation: 0.00\",\"0\\u003cbr\\u003eCorrelation: 0.00\",\"0\\u003cbr\\u003eCorrelation: 0.00\",\"0\\u003cbr\\u003eCorrelation: 0.00\",\"0\\u003cbr\\u003eCorrelation: 0.00\",\"0\\u003cbr\\u003eCorrelation: 0.00\"],[\"0\\u003cbr\\u003eCorrelation: 0.00\",\"0\\u003cbr\\u003eCorrelation: 0.00\",\"0\\u003cbr\\u003eCorrelation: 0.00\",\"0\\u003cbr\\u003eCorrelation: 0.00\",\"120\\u003cbr\\u003eCorrelation: 1.00\",\"0\\u003cbr\\u003eCorrelation: 0.00\",\"0\\u003cbr\\u003eCorrelation: 0.00\",\"0\\u003cbr\\u003eCorrelation: 0.00\",\"0\\u003cbr\\u003eCorrelation: 0.00\",\"0\\u003cbr\\u003eCorrelation: 0.00\",\"0\\u003cbr\\u003eCorrelation: 0.00\",\"0\\u003cbr\\u003eCorrelation: 0.00\",\"0\\u003cbr\\u003eCorrelation: 0.00\",\"0\\u003cbr\\u003eCorrelation: 0.00\",\"0\\u003cbr\\u003eCorrelation: 0.00\",\"0\\u003cbr\\u003eCorrelation: 0.00\",\"0\\u003cbr\\u003eCorrelation: 0.00\",\"0\\u003cbr\\u003eCorrelation: 0.00\",\"0\\u003cbr\\u003eCorrelation: 0.00\",\"0\\u003cbr\\u003eCorrelation: 0.00\",\"0\\u003cbr\\u003eCorrelation: 0.00\",\"0\\u003cbr\\u003eCorrelation: 0.00\",\"0\\u003cbr\\u003eCorrelation: 0.00\",\"0\\u003cbr\\u003eCorrelation: 0.00\",\"0\\u003cbr\\u003eCorrelation: 0.00\",\"0\\u003cbr\\u003eCorrelation: 0.00\",\"0\\u003cbr\\u003eCorrelation: 0.00\",\"0\\u003cbr\\u003eCorrelation: 0.00\"],[\"0\\u003cbr\\u003eCorrelation: 0.00\",\"0\\u003cbr\\u003eCorrelation: 0.00\",\"0\\u003cbr\\u003eCorrelation: 0.00\",\"0\\u003cbr\\u003eCorrelation: 0.00\",\"1\\u003cbr\\u003eCorrelation: 0.01\",\"118\\u003cbr\\u003eCorrelation: 0.98\",\"0\\u003cbr\\u003eCorrelation: 0.00\",\"0\\u003cbr\\u003eCorrelation: 0.00\",\"0\\u003cbr\\u003eCorrelation: 0.00\",\"0\\u003cbr\\u003eCorrelation: 0.00\",\"0\\u003cbr\\u003eCorrelation: 0.00\",\"0\\u003cbr\\u003eCorrelation: 0.00\",\"0\\u003cbr\\u003eCorrelation: 0.00\",\"0\\u003cbr\\u003eCorrelation: 0.00\",\"0\\u003cbr\\u003eCorrelation: 0.00\",\"0\\u003cbr\\u003eCorrelation: 0.00\",\"0\\u003cbr\\u003eCorrelation: 0.00\",\"0\\u003cbr\\u003eCorrelation: 0.00\",\"0\\u003cbr\\u003eCorrelation: 0.00\",\"0\\u003cbr\\u003eCorrelation: 0.00\",\"0\\u003cbr\\u003eCorrelation: 0.00\",\"0\\u003cbr\\u003eCorrelation: 0.00\",\"0\\u003cbr\\u003eCorrelation: 0.00\",\"0\\u003cbr\\u003eCorrelation: 0.00\",\"0\\u003cbr\\u003eCorrelation: 0.00\",\"1\\u003cbr\\u003eCorrelation: 0.01\",\"0\\u003cbr\\u003eCorrelation: 0.00\",\"0\\u003cbr\\u003eCorrelation: 0.00\"],[\"0\\u003cbr\\u003eCorrelation: 0.00\",\"0\\u003cbr\\u003eCorrelation: 0.00\",\"0\\u003cbr\\u003eCorrelation: 0.00\",\"0\\u003cbr\\u003eCorrelation: 0.00\",\"0\\u003cbr\\u003eCorrelation: 0.00\",\"4\\u003cbr\\u003eCorrelation: 0.03\",\"116\\u003cbr\\u003eCorrelation: 0.97\",\"0\\u003cbr\\u003eCorrelation: 0.00\",\"0\\u003cbr\\u003eCorrelation: 0.00\",\"0\\u003cbr\\u003eCorrelation: 0.00\",\"0\\u003cbr\\u003eCorrelation: 0.00\",\"0\\u003cbr\\u003eCorrelation: 0.00\",\"0\\u003cbr\\u003eCorrelation: 0.00\",\"0\\u003cbr\\u003eCorrelation: 0.00\",\"0\\u003cbr\\u003eCorrelation: 0.00\",\"0\\u003cbr\\u003eCorrelation: 0.00\",\"0\\u003cbr\\u003eCorrelation: 0.00\",\"0\\u003cbr\\u003eCorrelation: 0.00\",\"0\\u003cbr\\u003eCorrelation: 0.00\",\"0\\u003cbr\\u003eCorrelation: 0.00\",\"0\\u003cbr\\u003eCorrelation: 0.00\",\"0\\u003cbr\\u003eCorrelation: 0.00\",\"0\\u003cbr\\u003eCorrelation: 0.00\",\"0\\u003cbr\\u003eCorrelation: 0.00\",\"0\\u003cbr\\u003eCorrelation: 0.00\",\"0\\u003cbr\\u003eCorrelation: 0.00\",\"0\\u003cbr\\u003eCorrelation: 0.00\",\"0\\u003cbr\\u003eCorrelation: 0.00\"],[\"0\\u003cbr\\u003eCorrelation: 0.00\",\"0\\u003cbr\\u003eCorrelation: 0.00\",\"0\\u003cbr\\u003eCorrelation: 0.00\",\"0\\u003cbr\\u003eCorrelation: 0.00\",\"0\\u003cbr\\u003eCorrelation: 0.00\",\"0\\u003cbr\\u003eCorrelation: 0.00\",\"0\\u003cbr\\u003eCorrelation: 0.00\",\"118\\u003cbr\\u003eCorrelation: 0.98\",\"0\\u003cbr\\u003eCorrelation: 0.00\",\"2\\u003cbr\\u003eCorrelation: 0.02\",\"0\\u003cbr\\u003eCorrelation: 0.00\",\"0\\u003cbr\\u003eCorrelation: 0.00\",\"0\\u003cbr\\u003eCorrelation: 0.00\",\"0\\u003cbr\\u003eCorrelation: 0.00\",\"0\\u003cbr\\u003eCorrelation: 0.00\",\"0\\u003cbr\\u003eCorrelation: 0.00\",\"0\\u003cbr\\u003eCorrelation: 0.00\",\"0\\u003cbr\\u003eCorrelation: 0.00\",\"0\\u003cbr\\u003eCorrelation: 0.00\",\"0\\u003cbr\\u003eCorrelation: 0.00\",\"0\\u003cbr\\u003eCorrelation: 0.00\",\"0\\u003cbr\\u003eCorrelation: 0.00\",\"0\\u003cbr\\u003eCorrelation: 0.00\",\"0\\u003cbr\\u003eCorrelation: 0.00\",\"0\\u003cbr\\u003eCorrelation: 0.00\",\"0\\u003cbr\\u003eCorrelation: 0.00\",\"0\\u003cbr\\u003eCorrelation: 0.00\",\"0\\u003cbr\\u003eCorrelation: 0.00\"],[\"0\\u003cbr\\u003eCorrelation: 0.00\",\"0\\u003cbr\\u003eCorrelation: 0.00\",\"0\\u003cbr\\u003eCorrelation: 0.00\",\"0\\u003cbr\\u003eCorrelation: 0.00\",\"0\\u003cbr\\u003eCorrelation: 0.00\",\"0\\u003cbr\\u003eCorrelation: 0.00\",\"0\\u003cbr\\u003eCorrelation: 0.00\",\"5\\u003cbr\\u003eCorrelation: 0.04\",\"112\\u003cbr\\u003eCorrelation: 0.93\",\"0\\u003cbr\\u003eCorrelation: 0.00\",\"2\\u003cbr\\u003eCorrelation: 0.02\",\"0\\u003cbr\\u003eCorrelation: 0.00\",\"0\\u003cbr\\u003eCorrelation: 0.00\",\"0\\u003cbr\\u003eCorrelation: 0.00\",\"0\\u003cbr\\u003eCorrelation: 0.00\",\"0\\u003cbr\\u003eCorrelation: 0.00\",\"0\\u003cbr\\u003eCorrelation: 0.00\",\"1\\u003cbr\\u003eCorrelation: 0.01\",\"0\\u003cbr\\u003eCorrelation: 0.00\",\"0\\u003cbr\\u003eCorrelation: 0.00\",\"0\\u003cbr\\u003eCorrelation: 0.00\",\"0\\u003cbr\\u003eCorrelation: 0.00\",\"0\\u003cbr\\u003eCorrelation: 0.00\",\"0\\u003cbr\\u003eCorrelation: 0.00\",\"0\\u003cbr\\u003eCorrelation: 0.00\",\"0\\u003cbr\\u003eCorrelation: 0.00\",\"0\\u003cbr\\u003eCorrelation: 0.00\",\"0\\u003cbr\\u003eCorrelation: 0.00\"],[\"0\\u003cbr\\u003eCorrelation: 0.00\",\"0\\u003cbr\\u003eCorrelation: 0.00\",\"0\\u003cbr\\u003eCorrelation: 0.00\",\"0\\u003cbr\\u003eCorrelation: 0.00\",\"0\\u003cbr\\u003eCorrelation: 0.00\",\"0\\u003cbr\\u003eCorrelation: 0.00\",\"0\\u003cbr\\u003eCorrelation: 0.00\",\"0\\u003cbr\\u003eCorrelation: 0.00\",\"0\\u003cbr\\u003eCorrelation: 0.00\",\"119\\u003cbr\\u003eCorrelation: 0.99\",\"0\\u003cbr\\u003eCorrelation: 0.00\",\"0\\u003cbr\\u003eCorrelation: 0.00\",\"0\\u003cbr\\u003eCorrelation: 0.00\",\"0\\u003cbr\\u003eCorrelation: 0.00\",\"0\\u003cbr\\u003eCorrelation: 0.00\",\"0\\u003cbr\\u003eCorrelation: 0.00\",\"0\\u003cbr\\u003eCorrelation: 0.00\",\"0\\u003cbr\\u003eCorrelation: 0.00\",\"0\\u003cbr\\u003eCorrelation: 0.00\",\"0\\u003cbr\\u003eCorrelation: 0.00\",\"0\\u003cbr\\u003eCorrelation: 0.00\",\"0\\u003cbr\\u003eCorrelation: 0.00\",\"0\\u003cbr\\u003eCorrelation: 0.00\",\"0\\u003cbr\\u003eCorrelation: 0.00\",\"0\\u003cbr\\u003eCorrelation: 0.00\",\"0\\u003cbr\\u003eCorrelation: 0.00\",\"1\\u003cbr\\u003eCorrelation: 0.01\",\"0\\u003cbr\\u003eCorrelation: 0.00\"],[\"0\\u003cbr\\u003eCorrelation: 0.00\",\"0\\u003cbr\\u003eCorrelation: 0.00\",\"0\\u003cbr\\u003eCorrelation: 0.00\",\"0\\u003cbr\\u003eCorrelation: 0.00\",\"0\\u003cbr\\u003eCorrelation: 0.00\",\"0\\u003cbr\\u003eCorrelation: 0.00\",\"0\\u003cbr\\u003eCorrelation: 0.00\",\"0\\u003cbr\\u003eCorrelation: 0.00\",\"5\\u003cbr\\u003eCorrelation: 0.04\",\"3\\u003cbr\\u003eCorrelation: 0.03\",\"111\\u003cbr\\u003eCorrelation: 0.93\",\"0\\u003cbr\\u003eCorrelation: 0.00\",\"0\\u003cbr\\u003eCorrelation: 0.00\",\"0\\u003cbr\\u003eCorrelation: 0.00\",\"0\\u003cbr\\u003eCorrelation: 0.00\",\"0\\u003cbr\\u003eCorrelation: 0.00\",\"0\\u003cbr\\u003eCorrelation: 0.00\",\"0\\u003cbr\\u003eCorrelation: 0.00\",\"1\\u003cbr\\u003eCorrelation: 0.01\",\"0\\u003cbr\\u003eCorrelation: 0.00\",\"0\\u003cbr\\u003eCorrelation: 0.00\",\"0\\u003cbr\\u003eCorrelation: 0.00\",\"0\\u003cbr\\u003eCorrelation: 0.00\",\"0\\u003cbr\\u003eCorrelation: 0.00\",\"0\\u003cbr\\u003eCorrelation: 0.00\",\"0\\u003cbr\\u003eCorrelation: 0.00\",\"0\\u003cbr\\u003eCorrelation: 0.00\",\"0\\u003cbr\\u003eCorrelation: 0.00\"],[\"0\\u003cbr\\u003eCorrelation: 0.00\",\"0\\u003cbr\\u003eCorrelation: 0.00\",\"0\\u003cbr\\u003eCorrelation: 0.00\",\"0\\u003cbr\\u003eCorrelation: 0.00\",\"0\\u003cbr\\u003eCorrelation: 0.00\",\"0\\u003cbr\\u003eCorrelation: 0.00\",\"0\\u003cbr\\u003eCorrelation: 0.00\",\"0\\u003cbr\\u003eCorrelation: 0.00\",\"0\\u003cbr\\u003eCorrelation: 0.00\",\"0\\u003cbr\\u003eCorrelation: 0.00\",\"0\\u003cbr\\u003eCorrelation: 0.00\",\"116\\u003cbr\\u003eCorrelation: 0.97\",\"0\\u003cbr\\u003eCorrelation: 0.00\",\"4\\u003cbr\\u003eCorrelation: 0.03\",\"0\\u003cbr\\u003eCorrelation: 0.00\",\"0\\u003cbr\\u003eCorrelation: 0.00\",\"0\\u003cbr\\u003eCorrelation: 0.00\",\"0\\u003cbr\\u003eCorrelation: 0.00\",\"0\\u003cbr\\u003eCorrelation: 0.00\",\"0\\u003cbr\\u003eCorrelation: 0.00\",\"0\\u003cbr\\u003eCorrelation: 0.00\",\"0\\u003cbr\\u003eCorrelation: 0.00\",\"0\\u003cbr\\u003eCorrelation: 0.00\",\"0\\u003cbr\\u003eCorrelation: 0.00\",\"0\\u003cbr\\u003eCorrelation: 0.00\",\"0\\u003cbr\\u003eCorrelation: 0.00\",\"0\\u003cbr\\u003eCorrelation: 0.00\",\"0\\u003cbr\\u003eCorrelation: 0.00\"],[\"0\\u003cbr\\u003eCorrelation: 0.00\",\"0\\u003cbr\\u003eCorrelation: 0.00\",\"0\\u003cbr\\u003eCorrelation: 0.00\",\"0\\u003cbr\\u003eCorrelation: 0.00\",\"0\\u003cbr\\u003eCorrelation: 0.00\",\"0\\u003cbr\\u003eCorrelation: 0.00\",\"0\\u003cbr\\u003eCorrelation: 0.00\",\"0\\u003cbr\\u003eCorrelation: 0.00\",\"0\\u003cbr\\u003eCorrelation: 0.00\",\"0\\u003cbr\\u003eCorrelation: 0.00\",\"0\\u003cbr\\u003eCorrelation: 0.00\",\"0\\u003cbr\\u003eCorrelation: 0.00\",\"120\\u003cbr\\u003eCorrelation: 1.00\",\"0\\u003cbr\\u003eCorrelation: 0.00\",\"0\\u003cbr\\u003eCorrelation: 0.00\",\"0\\u003cbr\\u003eCorrelation: 0.00\",\"0\\u003cbr\\u003eCorrelation: 0.00\",\"0\\u003cbr\\u003eCorrelation: 0.00\",\"0\\u003cbr\\u003eCorrelation: 0.00\",\"0\\u003cbr\\u003eCorrelation: 0.00\",\"0\\u003cbr\\u003eCorrelation: 0.00\",\"0\\u003cbr\\u003eCorrelation: 0.00\",\"0\\u003cbr\\u003eCorrelation: 0.00\",\"0\\u003cbr\\u003eCorrelation: 0.00\",\"0\\u003cbr\\u003eCorrelation: 0.00\",\"0\\u003cbr\\u003eCorrelation: 0.00\",\"0\\u003cbr\\u003eCorrelation: 0.00\",\"0\\u003cbr\\u003eCorrelation: 0.00\"],[\"0\\u003cbr\\u003eCorrelation: 0.00\",\"0\\u003cbr\\u003eCorrelation: 0.00\",\"0\\u003cbr\\u003eCorrelation: 0.00\",\"0\\u003cbr\\u003eCorrelation: 0.00\",\"0\\u003cbr\\u003eCorrelation: 0.00\",\"0\\u003cbr\\u003eCorrelation: 0.00\",\"0\\u003cbr\\u003eCorrelation: 0.00\",\"0\\u003cbr\\u003eCorrelation: 0.00\",\"0\\u003cbr\\u003eCorrelation: 0.00\",\"0\\u003cbr\\u003eCorrelation: 0.00\",\"0\\u003cbr\\u003eCorrelation: 0.00\",\"0\\u003cbr\\u003eCorrelation: 0.00\",\"0\\u003cbr\\u003eCorrelation: 0.00\",\"120\\u003cbr\\u003eCorrelation: 1.00\",\"0\\u003cbr\\u003eCorrelation: 0.00\",\"0\\u003cbr\\u003eCorrelation: 0.00\",\"0\\u003cbr\\u003eCorrelation: 0.00\",\"0\\u003cbr\\u003eCorrelation: 0.00\",\"0\\u003cbr\\u003eCorrelation: 0.00\",\"0\\u003cbr\\u003eCorrelation: 0.00\",\"0\\u003cbr\\u003eCorrelation: 0.00\",\"0\\u003cbr\\u003eCorrelation: 0.00\",\"0\\u003cbr\\u003eCorrelation: 0.00\",\"0\\u003cbr\\u003eCorrelation: 0.00\",\"0\\u003cbr\\u003eCorrelation: 0.00\",\"0\\u003cbr\\u003eCorrelation: 0.00\",\"0\\u003cbr\\u003eCorrelation: 0.00\",\"0\\u003cbr\\u003eCorrelation: 0.00\"],[\"0\\u003cbr\\u003eCorrelation: 0.00\",\"0\\u003cbr\\u003eCorrelation: 0.00\",\"0\\u003cbr\\u003eCorrelation: 0.00\",\"0\\u003cbr\\u003eCorrelation: 0.00\",\"0\\u003cbr\\u003eCorrelation: 0.00\",\"0\\u003cbr\\u003eCorrelation: 0.00\",\"0\\u003cbr\\u003eCorrelation: 0.00\",\"0\\u003cbr\\u003eCorrelation: 0.00\",\"0\\u003cbr\\u003eCorrelation: 0.00\",\"0\\u003cbr\\u003eCorrelation: 0.00\",\"0\\u003cbr\\u003eCorrelation: 0.00\",\"0\\u003cbr\\u003eCorrelation: 0.00\",\"1\\u003cbr\\u003eCorrelation: 0.01\",\"4\\u003cbr\\u003eCorrelation: 0.03\",\"114\\u003cbr\\u003eCorrelation: 0.95\",\"0\\u003cbr\\u003eCorrelation: 0.00\",\"0\\u003cbr\\u003eCorrelation: 0.00\",\"0\\u003cbr\\u003eCorrelation: 0.00\",\"0\\u003cbr\\u003eCorrelation: 0.00\",\"1\\u003cbr\\u003eCorrelation: 0.01\",\"0\\u003cbr\\u003eCorrelation: 0.00\",\"0\\u003cbr\\u003eCorrelation: 0.00\",\"0\\u003cbr\\u003eCorrelation: 0.00\",\"0\\u003cbr\\u003eCorrelation: 0.00\",\"0\\u003cbr\\u003eCorrelation: 0.00\",\"0\\u003cbr\\u003eCorrelation: 0.00\",\"0\\u003cbr\\u003eCorrelation: 0.00\",\"0\\u003cbr\\u003eCorrelation: 0.00\"],[\"0\\u003cbr\\u003eCorrelation: 0.00\",\"0\\u003cbr\\u003eCorrelation: 0.00\",\"0\\u003cbr\\u003eCorrelation: 0.00\",\"0\\u003cbr\\u003eCorrelation: 0.00\",\"0\\u003cbr\\u003eCorrelation: 0.00\",\"0\\u003cbr\\u003eCorrelation: 0.00\",\"0\\u003cbr\\u003eCorrelation: 0.00\",\"0\\u003cbr\\u003eCorrelation: 0.00\",\"0\\u003cbr\\u003eCorrelation: 0.00\",\"0\\u003cbr\\u003eCorrelation: 0.00\",\"0\\u003cbr\\u003eCorrelation: 0.00\",\"0\\u003cbr\\u003eCorrelation: 0.00\",\"0\\u003cbr\\u003eCorrelation: 0.00\",\"0\\u003cbr\\u003eCorrelation: 0.00\",\"0\\u003cbr\\u003eCorrelation: 0.00\",\"120\\u003cbr\\u003eCorrelation: 1.00\",\"0\\u003cbr\\u003eCorrelation: 0.00\",\"0\\u003cbr\\u003eCorrelation: 0.00\",\"0\\u003cbr\\u003eCorrelation: 0.00\",\"0\\u003cbr\\u003eCorrelation: 0.00\",\"0\\u003cbr\\u003eCorrelation: 0.00\",\"0\\u003cbr\\u003eCorrelation: 0.00\",\"0\\u003cbr\\u003eCorrelation: 0.00\",\"0\\u003cbr\\u003eCorrelation: 0.00\",\"0\\u003cbr\\u003eCorrelation: 0.00\",\"0\\u003cbr\\u003eCorrelation: 0.00\",\"0\\u003cbr\\u003eCorrelation: 0.00\",\"0\\u003cbr\\u003eCorrelation: 0.00\"],[\"0\\u003cbr\\u003eCorrelation: 0.00\",\"0\\u003cbr\\u003eCorrelation: 0.00\",\"0\\u003cbr\\u003eCorrelation: 0.00\",\"0\\u003cbr\\u003eCorrelation: 0.00\",\"0\\u003cbr\\u003eCorrelation: 0.00\",\"0\\u003cbr\\u003eCorrelation: 0.00\",\"0\\u003cbr\\u003eCorrelation: 0.00\",\"0\\u003cbr\\u003eCorrelation: 0.00\",\"0\\u003cbr\\u003eCorrelation: 0.00\",\"0\\u003cbr\\u003eCorrelation: 0.00\",\"0\\u003cbr\\u003eCorrelation: 0.00\",\"0\\u003cbr\\u003eCorrelation: 0.00\",\"0\\u003cbr\\u003eCorrelation: 0.00\",\"0\\u003cbr\\u003eCorrelation: 0.00\",\"1\\u003cbr\\u003eCorrelation: 0.01\",\"5\\u003cbr\\u003eCorrelation: 0.04\",\"113\\u003cbr\\u003eCorrelation: 0.94\",\"0\\u003cbr\\u003eCorrelation: 0.00\",\"0\\u003cbr\\u003eCorrelation: 0.00\",\"0\\u003cbr\\u003eCorrelation: 0.00\",\"0\\u003cbr\\u003eCorrelation: 0.00\",\"0\\u003cbr\\u003eCorrelation: 0.00\",\"0\\u003cbr\\u003eCorrelation: 0.00\",\"0\\u003cbr\\u003eCorrelation: 0.00\",\"0\\u003cbr\\u003eCorrelation: 0.00\",\"1\\u003cbr\\u003eCorrelation: 0.01\",\"0\\u003cbr\\u003eCorrelation: 0.00\",\"0\\u003cbr\\u003eCorrelation: 0.00\"],[\"0\\u003cbr\\u003eCorrelation: 0.00\",\"0\\u003cbr\\u003eCorrelation: 0.00\",\"0\\u003cbr\\u003eCorrelation: 0.00\",\"0\\u003cbr\\u003eCorrelation: 0.00\",\"0\\u003cbr\\u003eCorrelation: 0.00\",\"1\\u003cbr\\u003eCorrelation: 0.01\",\"0\\u003cbr\\u003eCorrelation: 0.00\",\"0\\u003cbr\\u003eCorrelation: 0.00\",\"0\\u003cbr\\u003eCorrelation: 0.00\",\"0\\u003cbr\\u003eCorrelation: 0.00\",\"0\\u003cbr\\u003eCorrelation: 0.00\",\"0\\u003cbr\\u003eCorrelation: 0.00\",\"0\\u003cbr\\u003eCorrelation: 0.00\",\"0\\u003cbr\\u003eCorrelation: 0.00\",\"0\\u003cbr\\u003eCorrelation: 0.00\",\"0\\u003cbr\\u003eCorrelation: 0.00\",\"0\\u003cbr\\u003eCorrelation: 0.00\",\"119\\u003cbr\\u003eCorrelation: 0.99\",\"0\\u003cbr\\u003eCorrelation: 0.00\",\"0\\u003cbr\\u003eCorrelation: 0.00\",\"0\\u003cbr\\u003eCorrelation: 0.00\",\"0\\u003cbr\\u003eCorrelation: 0.00\",\"0\\u003cbr\\u003eCorrelation: 0.00\",\"0\\u003cbr\\u003eCorrelation: 0.00\",\"0\\u003cbr\\u003eCorrelation: 0.00\",\"0\\u003cbr\\u003eCorrelation: 0.00\",\"0\\u003cbr\\u003eCorrelation: 0.00\",\"0\\u003cbr\\u003eCorrelation: 0.00\"],[\"0\\u003cbr\\u003eCorrelation: 0.00\",\"0\\u003cbr\\u003eCorrelation: 0.00\",\"0\\u003cbr\\u003eCorrelation: 0.00\",\"0\\u003cbr\\u003eCorrelation: 0.00\",\"0\\u003cbr\\u003eCorrelation: 0.00\",\"0\\u003cbr\\u003eCorrelation: 0.00\",\"0\\u003cbr\\u003eCorrelation: 0.00\",\"0\\u003cbr\\u003eCorrelation: 0.00\",\"0\\u003cbr\\u003eCorrelation: 0.00\",\"0\\u003cbr\\u003eCorrelation: 0.00\",\"0\\u003cbr\\u003eCorrelation: 0.00\",\"0\\u003cbr\\u003eCorrelation: 0.00\",\"0\\u003cbr\\u003eCorrelation: 0.00\",\"0\\u003cbr\\u003eCorrelation: 0.00\",\"0\\u003cbr\\u003eCorrelation: 0.00\",\"0\\u003cbr\\u003eCorrelation: 0.00\",\"0\\u003cbr\\u003eCorrelation: 0.00\",\"0\\u003cbr\\u003eCorrelation: 0.00\",\"120\\u003cbr\\u003eCorrelation: 1.00\",\"0\\u003cbr\\u003eCorrelation: 0.00\",\"0\\u003cbr\\u003eCorrelation: 0.00\",\"0\\u003cbr\\u003eCorrelation: 0.00\",\"0\\u003cbr\\u003eCorrelation: 0.00\",\"0\\u003cbr\\u003eCorrelation: 0.00\",\"0\\u003cbr\\u003eCorrelation: 0.00\",\"0\\u003cbr\\u003eCorrelation: 0.00\",\"0\\u003cbr\\u003eCorrelation: 0.00\",\"0\\u003cbr\\u003eCorrelation: 0.00\"],[\"0\\u003cbr\\u003eCorrelation: 0.00\",\"0\\u003cbr\\u003eCorrelation: 0.00\",\"0\\u003cbr\\u003eCorrelation: 0.00\",\"0\\u003cbr\\u003eCorrelation: 0.00\",\"0\\u003cbr\\u003eCorrelation: 0.00\",\"0\\u003cbr\\u003eCorrelation: 0.00\",\"0\\u003cbr\\u003eCorrelation: 0.00\",\"0\\u003cbr\\u003eCorrelation: 0.00\",\"1\\u003cbr\\u003eCorrelation: 0.01\",\"0\\u003cbr\\u003eCorrelation: 0.00\",\"0\\u003cbr\\u003eCorrelation: 0.00\",\"0\\u003cbr\\u003eCorrelation: 0.00\",\"0\\u003cbr\\u003eCorrelation: 0.00\",\"0\\u003cbr\\u003eCorrelation: 0.00\",\"0\\u003cbr\\u003eCorrelation: 0.00\",\"0\\u003cbr\\u003eCorrelation: 0.00\",\"0\\u003cbr\\u003eCorrelation: 0.00\",\"0\\u003cbr\\u003eCorrelation: 0.00\",\"0\\u003cbr\\u003eCorrelation: 0.00\",\"117\\u003cbr\\u003eCorrelation: 0.97\",\"2\\u003cbr\\u003eCorrelation: 0.02\",\"0\\u003cbr\\u003eCorrelation: 0.00\",\"0\\u003cbr\\u003eCorrelation: 0.00\",\"0\\u003cbr\\u003eCorrelation: 0.00\",\"0\\u003cbr\\u003eCorrelation: 0.00\",\"0\\u003cbr\\u003eCorrelation: 0.00\",\"0\\u003cbr\\u003eCorrelation: 0.00\",\"0\\u003cbr\\u003eCorrelation: 0.00\"],[\"0\\u003cbr\\u003eCorrelation: 0.00\",\"0\\u003cbr\\u003eCorrelation: 0.00\",\"1\\u003cbr\\u003eCorrelation: 0.01\",\"0\\u003cbr\\u003eCorrelation: 0.00\",\"0\\u003cbr\\u003eCorrelation: 0.00\",\"0\\u003cbr\\u003eCorrelation: 0.00\",\"0\\u003cbr\\u003eCorrelation: 0.00\",\"0\\u003cbr\\u003eCorrelation: 0.00\",\"0\\u003cbr\\u003eCorrelation: 0.00\",\"0\\u003cbr\\u003eCorrelation: 0.00\",\"0\\u003cbr\\u003eCorrelation: 0.00\",\"0\\u003cbr\\u003eCorrelation: 0.00\",\"0\\u003cbr\\u003eCorrelation: 0.00\",\"1\\u003cbr\\u003eCorrelation: 0.01\",\"0\\u003cbr\\u003eCorrelation: 0.00\",\"0\\u003cbr\\u003eCorrelation: 0.00\",\"0\\u003cbr\\u003eCorrelation: 0.00\",\"0\\u003cbr\\u003eCorrelation: 0.00\",\"0\\u003cbr\\u003eCorrelation: 0.00\",\"2\\u003cbr\\u003eCorrelation: 0.02\",\"116\\u003cbr\\u003eCorrelation: 0.97\",\"0\\u003cbr\\u003eCorrelation: 0.00\",\"0\\u003cbr\\u003eCorrelation: 0.00\",\"0\\u003cbr\\u003eCorrelation: 0.00\",\"0\\u003cbr\\u003eCorrelation: 0.00\",\"0\\u003cbr\\u003eCorrelation: 0.00\",\"0\\u003cbr\\u003eCorrelation: 0.00\",\"0\\u003cbr\\u003eCorrelation: 0.00\"],[\"0\\u003cbr\\u003eCorrelation: 0.00\",\"0\\u003cbr\\u003eCorrelation: 0.00\",\"0\\u003cbr\\u003eCorrelation: 0.00\",\"0\\u003cbr\\u003eCorrelation: 0.00\",\"0\\u003cbr\\u003eCorrelation: 0.00\",\"0\\u003cbr\\u003eCorrelation: 0.00\",\"0\\u003cbr\\u003eCorrelation: 0.00\",\"1\\u003cbr\\u003eCorrelation: 0.01\",\"0\\u003cbr\\u003eCorrelation: 0.00\",\"0\\u003cbr\\u003eCorrelation: 0.00\",\"0\\u003cbr\\u003eCorrelation: 0.00\",\"1\\u003cbr\\u003eCorrelation: 0.01\",\"0\\u003cbr\\u003eCorrelation: 0.00\",\"0\\u003cbr\\u003eCorrelation: 0.00\",\"0\\u003cbr\\u003eCorrelation: 0.00\",\"0\\u003cbr\\u003eCorrelation: 0.00\",\"0\\u003cbr\\u003eCorrelation: 0.00\",\"0\\u003cbr\\u003eCorrelation: 0.00\",\"0\\u003cbr\\u003eCorrelation: 0.00\",\"0\\u003cbr\\u003eCorrelation: 0.00\",\"0\\u003cbr\\u003eCorrelation: 0.00\",\"112\\u003cbr\\u003eCorrelation: 0.93\",\"0\\u003cbr\\u003eCorrelation: 0.00\",\"0\\u003cbr\\u003eCorrelation: 0.00\",\"4\\u003cbr\\u003eCorrelation: 0.03\",\"1\\u003cbr\\u003eCorrelation: 0.01\",\"1\\u003cbr\\u003eCorrelation: 0.01\",\"0\\u003cbr\\u003eCorrelation: 0.00\"],[\"0\\u003cbr\\u003eCorrelation: 0.00\",\"0\\u003cbr\\u003eCorrelation: 0.00\",\"0\\u003cbr\\u003eCorrelation: 0.00\",\"0\\u003cbr\\u003eCorrelation: 0.00\",\"0\\u003cbr\\u003eCorrelation: 0.00\",\"0\\u003cbr\\u003eCorrelation: 0.00\",\"0\\u003cbr\\u003eCorrelation: 0.00\",\"0\\u003cbr\\u003eCorrelation: 0.00\",\"0\\u003cbr\\u003eCorrelation: 0.00\",\"0\\u003cbr\\u003eCorrelation: 0.00\",\"1\\u003cbr\\u003eCorrelation: 0.01\",\"0\\u003cbr\\u003eCorrelation: 0.00\",\"0\\u003cbr\\u003eCorrelation: 0.00\",\"0\\u003cbr\\u003eCorrelation: 0.00\",\"0\\u003cbr\\u003eCorrelation: 0.00\",\"1\\u003cbr\\u003eCorrelation: 0.01\",\"0\\u003cbr\\u003eCorrelation: 0.00\",\"0\\u003cbr\\u003eCorrelation: 0.00\",\"0\\u003cbr\\u003eCorrelation: 0.00\",\"0\\u003cbr\\u003eCorrelation: 0.00\",\"0\\u003cbr\\u003eCorrelation: 0.00\",\"0\\u003cbr\\u003eCorrelation: 0.00\",\"118\\u003cbr\\u003eCorrelation: 0.98\",\"0\\u003cbr\\u003eCorrelation: 0.00\",\"0\\u003cbr\\u003eCorrelation: 0.00\",\"0\\u003cbr\\u003eCorrelation: 0.00\",\"0\\u003cbr\\u003eCorrelation: 0.00\",\"0\\u003cbr\\u003eCorrelation: 0.00\"],[\"0\\u003cbr\\u003eCorrelation: 0.00\",\"0\\u003cbr\\u003eCorrelation: 0.00\",\"0\\u003cbr\\u003eCorrelation: 0.00\",\"0\\u003cbr\\u003eCorrelation: 0.00\",\"0\\u003cbr\\u003eCorrelation: 0.00\",\"0\\u003cbr\\u003eCorrelation: 0.00\",\"0\\u003cbr\\u003eCorrelation: 0.00\",\"0\\u003cbr\\u003eCorrelation: 0.00\",\"0\\u003cbr\\u003eCorrelation: 0.00\",\"0\\u003cbr\\u003eCorrelation: 0.00\",\"0\\u003cbr\\u003eCorrelation: 0.00\",\"0\\u003cbr\\u003eCorrelation: 0.00\",\"0\\u003cbr\\u003eCorrelation: 0.00\",\"1\\u003cbr\\u003eCorrelation: 0.01\",\"0\\u003cbr\\u003eCorrelation: 0.00\",\"0\\u003cbr\\u003eCorrelation: 0.00\",\"0\\u003cbr\\u003eCorrelation: 0.00\",\"0\\u003cbr\\u003eCorrelation: 0.00\",\"0\\u003cbr\\u003eCorrelation: 0.00\",\"0\\u003cbr\\u003eCorrelation: 0.00\",\"0\\u003cbr\\u003eCorrelation: 0.00\",\"0\\u003cbr\\u003eCorrelation: 0.00\",\"0\\u003cbr\\u003eCorrelation: 0.00\",\"117\\u003cbr\\u003eCorrelation: 0.97\",\"0\\u003cbr\\u003eCorrelation: 0.00\",\"2\\u003cbr\\u003eCorrelation: 0.02\",\"0\\u003cbr\\u003eCorrelation: 0.00\",\"0\\u003cbr\\u003eCorrelation: 0.00\"],[\"0\\u003cbr\\u003eCorrelation: 0.00\",\"0\\u003cbr\\u003eCorrelation: 0.00\",\"2\\u003cbr\\u003eCorrelation: 0.02\",\"0\\u003cbr\\u003eCorrelation: 0.00\",\"0\\u003cbr\\u003eCorrelation: 0.00\",\"0\\u003cbr\\u003eCorrelation: 0.00\",\"0\\u003cbr\\u003eCorrelation: 0.00\",\"1\\u003cbr\\u003eCorrelation: 0.01\",\"1\\u003cbr\\u003eCorrelation: 0.01\",\"0\\u003cbr\\u003eCorrelation: 0.00\",\"0\\u003cbr\\u003eCorrelation: 0.00\",\"0\\u003cbr\\u003eCorrelation: 0.00\",\"0\\u003cbr\\u003eCorrelation: 0.00\",\"0\\u003cbr\\u003eCorrelation: 0.00\",\"0\\u003cbr\\u003eCorrelation: 0.00\",\"0\\u003cbr\\u003eCorrelation: 0.00\",\"0\\u003cbr\\u003eCorrelation: 0.00\",\"0\\u003cbr\\u003eCorrelation: 0.00\",\"0\\u003cbr\\u003eCorrelation: 0.00\",\"1\\u003cbr\\u003eCorrelation: 0.01\",\"1\\u003cbr\\u003eCorrelation: 0.01\",\"0\\u003cbr\\u003eCorrelation: 0.00\",\"0\\u003cbr\\u003eCorrelation: 0.00\",\"0\\u003cbr\\u003eCorrelation: 0.00\",\"114\\u003cbr\\u003eCorrelation: 0.95\",\"0\\u003cbr\\u003eCorrelation: 0.00\",\"0\\u003cbr\\u003eCorrelation: 0.00\",\"0\\u003cbr\\u003eCorrelation: 0.00\"],[\"0\\u003cbr\\u003eCorrelation: 0.00\",\"0\\u003cbr\\u003eCorrelation: 0.00\",\"0\\u003cbr\\u003eCorrelation: 0.00\",\"0\\u003cbr\\u003eCorrelation: 0.00\",\"0\\u003cbr\\u003eCorrelation: 0.00\",\"0\\u003cbr\\u003eCorrelation: 0.00\",\"0\\u003cbr\\u003eCorrelation: 0.00\",\"0\\u003cbr\\u003eCorrelation: 0.00\",\"0\\u003cbr\\u003eCorrelation: 0.00\",\"0\\u003cbr\\u003eCorrelation: 0.00\",\"0\\u003cbr\\u003eCorrelation: 0.00\",\"0\\u003cbr\\u003eCorrelation: 0.00\",\"0\\u003cbr\\u003eCorrelation: 0.00\",\"0\\u003cbr\\u003eCorrelation: 0.00\",\"0\\u003cbr\\u003eCorrelation: 0.00\",\"0\\u003cbr\\u003eCorrelation: 0.00\",\"0\\u003cbr\\u003eCorrelation: 0.00\",\"0\\u003cbr\\u003eCorrelation: 0.00\",\"0\\u003cbr\\u003eCorrelation: 0.00\",\"0\\u003cbr\\u003eCorrelation: 0.00\",\"0\\u003cbr\\u003eCorrelation: 0.00\",\"0\\u003cbr\\u003eCorrelation: 0.00\",\"0\\u003cbr\\u003eCorrelation: 0.00\",\"0\\u003cbr\\u003eCorrelation: 0.00\",\"0\\u003cbr\\u003eCorrelation: 0.00\",\"120\\u003cbr\\u003eCorrelation: 1.00\",\"0\\u003cbr\\u003eCorrelation: 0.00\",\"0\\u003cbr\\u003eCorrelation: 0.00\"],[\"1\\u003cbr\\u003eCorrelation: 0.01\",\"0\\u003cbr\\u003eCorrelation: 0.00\",\"0\\u003cbr\\u003eCorrelation: 0.00\",\"0\\u003cbr\\u003eCorrelation: 0.00\",\"0\\u003cbr\\u003eCorrelation: 0.00\",\"0\\u003cbr\\u003eCorrelation: 0.00\",\"0\\u003cbr\\u003eCorrelation: 0.00\",\"1\\u003cbr\\u003eCorrelation: 0.01\",\"0\\u003cbr\\u003eCorrelation: 0.00\",\"0\\u003cbr\\u003eCorrelation: 0.00\",\"0\\u003cbr\\u003eCorrelation: 0.00\",\"0\\u003cbr\\u003eCorrelation: 0.00\",\"0\\u003cbr\\u003eCorrelation: 0.00\",\"0\\u003cbr\\u003eCorrelation: 0.00\",\"0\\u003cbr\\u003eCorrelation: 0.00\",\"0\\u003cbr\\u003eCorrelation: 0.00\",\"0\\u003cbr\\u003eCorrelation: 0.00\",\"0\\u003cbr\\u003eCorrelation: 0.00\",\"0\\u003cbr\\u003eCorrelation: 0.00\",\"0\\u003cbr\\u003eCorrelation: 0.00\",\"0\\u003cbr\\u003eCorrelation: 0.00\",\"0\\u003cbr\\u003eCorrelation: 0.00\",\"0\\u003cbr\\u003eCorrelation: 0.00\",\"0\\u003cbr\\u003eCorrelation: 0.00\",\"0\\u003cbr\\u003eCorrelation: 0.00\",\"2\\u003cbr\\u003eCorrelation: 0.02\",\"116\\u003cbr\\u003eCorrelation: 0.97\",\"0\\u003cbr\\u003eCorrelation: 0.00\"],[\"0\\u003cbr\\u003eCorrelation: 0.00\",\"1\\u003cbr\\u003eCorrelation: 0.01\",\"0\\u003cbr\\u003eCorrelation: 0.00\",\"0\\u003cbr\\u003eCorrelation: 0.00\",\"0\\u003cbr\\u003eCorrelation: 0.00\",\"1\\u003cbr\\u003eCorrelation: 0.01\",\"0\\u003cbr\\u003eCorrelation: 0.00\",\"0\\u003cbr\\u003eCorrelation: 0.00\",\"0\\u003cbr\\u003eCorrelation: 0.00\",\"0\\u003cbr\\u003eCorrelation: 0.00\",\"0\\u003cbr\\u003eCorrelation: 0.00\",\"0\\u003cbr\\u003eCorrelation: 0.00\",\"0\\u003cbr\\u003eCorrelation: 0.00\",\"0\\u003cbr\\u003eCorrelation: 0.00\",\"0\\u003cbr\\u003eCorrelation: 0.00\",\"0\\u003cbr\\u003eCorrelation: 0.00\",\"0\\u003cbr\\u003eCorrelation: 0.00\",\"0\\u003cbr\\u003eCorrelation: 0.00\",\"0\\u003cbr\\u003eCorrelation: 0.00\",\"0\\u003cbr\\u003eCorrelation: 0.00\",\"0\\u003cbr\\u003eCorrelation: 0.00\",\"0\\u003cbr\\u003eCorrelation: 0.00\",\"1\\u003cbr\\u003eCorrelation: 0.01\",\"0\\u003cbr\\u003eCorrelation: 0.00\",\"0\\u003cbr\\u003eCorrelation: 0.00\",\"0\\u003cbr\\u003eCorrelation: 0.00\",\"0\\u003cbr\\u003eCorrelation: 0.00\",\"117\\u003cbr\\u003eCorrelation: 0.97\"]],\"x\":[\"alef\",\"beh\",\"teh\",\"theh\",\"jeem\",\"hah\",\"khah\",\"dal\",\"thal\",\"reh\",\"zain\",\"seen\",\"sheen\",\"sad\",\"dad\",\"tah\",\"zah\",\"ain\",\"ghain\",\"feh\",\"qaf\",\"kaf\",\"lam\",\"meem\",\"noon\",\"heh\",\"waw\",\"yeh\"],\"y\":[\"alef\",\"beh\",\"teh\",\"theh\",\"jeem\",\"hah\",\"khah\",\"dal\",\"thal\",\"reh\",\"zain\",\"seen\",\"sheen\",\"sad\",\"dad\",\"tah\",\"zah\",\"ain\",\"ghain\",\"feh\",\"qaf\",\"kaf\",\"lam\",\"meem\",\"noon\",\"heh\",\"waw\",\"yeh\"],\"z\":[[118,0,0,0,0,0,0,0,0,0,0,0,0,0,0,0,0,0,1,0,0,0,0,0,0,0,0,0],[0,119,0,0,0,1,0,0,0,0,0,0,0,0,0,0,0,0,0,0,0,0,0,0,0,0,0,0],[0,0,119,0,0,1,0,0,0,0,0,0,0,0,0,0,0,0,0,0,0,0,0,0,0,0,0,0],[0,0,3,116,0,0,0,0,0,0,0,0,1,0,0,0,0,0,0,0,0,0,0,0,0,0,0,0],[0,0,0,0,120,0,0,0,0,0,0,0,0,0,0,0,0,0,0,0,0,0,0,0,0,0,0,0],[0,0,0,0,1,118,0,0,0,0,0,0,0,0,0,0,0,0,0,0,0,0,0,0,0,1,0,0],[0,0,0,0,0,4,116,0,0,0,0,0,0,0,0,0,0,0,0,0,0,0,0,0,0,0,0,0],[0,0,0,0,0,0,0,118,0,2,0,0,0,0,0,0,0,0,0,0,0,0,0,0,0,0,0,0],[0,0,0,0,0,0,0,5,112,0,2,0,0,0,0,0,0,1,0,0,0,0,0,0,0,0,0,0],[0,0,0,0,0,0,0,0,0,119,0,0,0,0,0,0,0,0,0,0,0,0,0,0,0,0,1,0],[0,0,0,0,0,0,0,0,5,3,111,0,0,0,0,0,0,0,1,0,0,0,0,0,0,0,0,0],[0,0,0,0,0,0,0,0,0,0,0,116,0,4,0,0,0,0,0,0,0,0,0,0,0,0,0,0],[0,0,0,0,0,0,0,0,0,0,0,0,120,0,0,0,0,0,0,0,0,0,0,0,0,0,0,0],[0,0,0,0,0,0,0,0,0,0,0,0,0,120,0,0,0,0,0,0,0,0,0,0,0,0,0,0],[0,0,0,0,0,0,0,0,0,0,0,0,1,4,114,0,0,0,0,1,0,0,0,0,0,0,0,0],[0,0,0,0,0,0,0,0,0,0,0,0,0,0,0,120,0,0,0,0,0,0,0,0,0,0,0,0],[0,0,0,0,0,0,0,0,0,0,0,0,0,0,1,5,113,0,0,0,0,0,0,0,0,1,0,0],[0,0,0,0,0,1,0,0,0,0,0,0,0,0,0,0,0,119,0,0,0,0,0,0,0,0,0,0],[0,0,0,0,0,0,0,0,0,0,0,0,0,0,0,0,0,0,120,0,0,0,0,0,0,0,0,0],[0,0,0,0,0,0,0,0,1,0,0,0,0,0,0,0,0,0,0,117,2,0,0,0,0,0,0,0],[0,0,1,0,0,0,0,0,0,0,0,0,0,1,0,0,0,0,0,2,116,0,0,0,0,0,0,0],[0,0,0,0,0,0,0,1,0,0,0,1,0,0,0,0,0,0,0,0,0,112,0,0,4,1,1,0],[0,0,0,0,0,0,0,0,0,0,1,0,0,0,0,1,0,0,0,0,0,0,118,0,0,0,0,0],[0,0,0,0,0,0,0,0,0,0,0,0,0,1,0,0,0,0,0,0,0,0,0,117,0,2,0,0],[0,0,2,0,0,0,0,1,1,0,0,0,0,0,0,0,0,0,0,1,1,0,0,0,114,0,0,0],[0,0,0,0,0,0,0,0,0,0,0,0,0,0,0,0,0,0,0,0,0,0,0,0,0,120,0,0],[1,0,0,0,0,0,0,1,0,0,0,0,0,0,0,0,0,0,0,0,0,0,0,0,0,2,116,0],[0,1,0,0,0,1,0,0,0,0,0,0,0,0,0,0,0,0,0,0,0,0,1,0,0,0,0,117]],\"type\":\"heatmap\",\"hovertemplate\":\"%{text}\\u003cextra\\u003e\\u003c\\u002fextra\\u003e\"}],                        {\"template\":{\"data\":{\"barpolar\":[{\"marker\":{\"line\":{\"color\":\"rgb(17,17,17)\",\"width\":0.5},\"pattern\":{\"fillmode\":\"overlay\",\"size\":10,\"solidity\":0.2}},\"type\":\"barpolar\"}],\"bar\":[{\"error_x\":{\"color\":\"#f2f5fa\"},\"error_y\":{\"color\":\"#f2f5fa\"},\"marker\":{\"line\":{\"color\":\"rgb(17,17,17)\",\"width\":0.5},\"pattern\":{\"fillmode\":\"overlay\",\"size\":10,\"solidity\":0.2}},\"type\":\"bar\"}],\"carpet\":[{\"aaxis\":{\"endlinecolor\":\"#A2B1C6\",\"gridcolor\":\"#506784\",\"linecolor\":\"#506784\",\"minorgridcolor\":\"#506784\",\"startlinecolor\":\"#A2B1C6\"},\"baxis\":{\"endlinecolor\":\"#A2B1C6\",\"gridcolor\":\"#506784\",\"linecolor\":\"#506784\",\"minorgridcolor\":\"#506784\",\"startlinecolor\":\"#A2B1C6\"},\"type\":\"carpet\"}],\"choropleth\":[{\"colorbar\":{\"outlinewidth\":0,\"ticks\":\"\"},\"type\":\"choropleth\"}],\"contourcarpet\":[{\"colorbar\":{\"outlinewidth\":0,\"ticks\":\"\"},\"type\":\"contourcarpet\"}],\"contour\":[{\"colorbar\":{\"outlinewidth\":0,\"ticks\":\"\"},\"colorscale\":[[0.0,\"#0d0887\"],[0.1111111111111111,\"#46039f\"],[0.2222222222222222,\"#7201a8\"],[0.3333333333333333,\"#9c179e\"],[0.4444444444444444,\"#bd3786\"],[0.5555555555555556,\"#d8576b\"],[0.6666666666666666,\"#ed7953\"],[0.7777777777777778,\"#fb9f3a\"],[0.8888888888888888,\"#fdca26\"],[1.0,\"#f0f921\"]],\"type\":\"contour\"}],\"heatmapgl\":[{\"colorbar\":{\"outlinewidth\":0,\"ticks\":\"\"},\"colorscale\":[[0.0,\"#0d0887\"],[0.1111111111111111,\"#46039f\"],[0.2222222222222222,\"#7201a8\"],[0.3333333333333333,\"#9c179e\"],[0.4444444444444444,\"#bd3786\"],[0.5555555555555556,\"#d8576b\"],[0.6666666666666666,\"#ed7953\"],[0.7777777777777778,\"#fb9f3a\"],[0.8888888888888888,\"#fdca26\"],[1.0,\"#f0f921\"]],\"type\":\"heatmapgl\"}],\"heatmap\":[{\"colorbar\":{\"outlinewidth\":0,\"ticks\":\"\"},\"colorscale\":[[0.0,\"#0d0887\"],[0.1111111111111111,\"#46039f\"],[0.2222222222222222,\"#7201a8\"],[0.3333333333333333,\"#9c179e\"],[0.4444444444444444,\"#bd3786\"],[0.5555555555555556,\"#d8576b\"],[0.6666666666666666,\"#ed7953\"],[0.7777777777777778,\"#fb9f3a\"],[0.8888888888888888,\"#fdca26\"],[1.0,\"#f0f921\"]],\"type\":\"heatmap\"}],\"histogram2dcontour\":[{\"colorbar\":{\"outlinewidth\":0,\"ticks\":\"\"},\"colorscale\":[[0.0,\"#0d0887\"],[0.1111111111111111,\"#46039f\"],[0.2222222222222222,\"#7201a8\"],[0.3333333333333333,\"#9c179e\"],[0.4444444444444444,\"#bd3786\"],[0.5555555555555556,\"#d8576b\"],[0.6666666666666666,\"#ed7953\"],[0.7777777777777778,\"#fb9f3a\"],[0.8888888888888888,\"#fdca26\"],[1.0,\"#f0f921\"]],\"type\":\"histogram2dcontour\"}],\"histogram2d\":[{\"colorbar\":{\"outlinewidth\":0,\"ticks\":\"\"},\"colorscale\":[[0.0,\"#0d0887\"],[0.1111111111111111,\"#46039f\"],[0.2222222222222222,\"#7201a8\"],[0.3333333333333333,\"#9c179e\"],[0.4444444444444444,\"#bd3786\"],[0.5555555555555556,\"#d8576b\"],[0.6666666666666666,\"#ed7953\"],[0.7777777777777778,\"#fb9f3a\"],[0.8888888888888888,\"#fdca26\"],[1.0,\"#f0f921\"]],\"type\":\"histogram2d\"}],\"histogram\":[{\"marker\":{\"pattern\":{\"fillmode\":\"overlay\",\"size\":10,\"solidity\":0.2}},\"type\":\"histogram\"}],\"mesh3d\":[{\"colorbar\":{\"outlinewidth\":0,\"ticks\":\"\"},\"type\":\"mesh3d\"}],\"parcoords\":[{\"line\":{\"colorbar\":{\"outlinewidth\":0,\"ticks\":\"\"}},\"type\":\"parcoords\"}],\"pie\":[{\"automargin\":true,\"type\":\"pie\"}],\"scatter3d\":[{\"line\":{\"colorbar\":{\"outlinewidth\":0,\"ticks\":\"\"}},\"marker\":{\"colorbar\":{\"outlinewidth\":0,\"ticks\":\"\"}},\"type\":\"scatter3d\"}],\"scattercarpet\":[{\"marker\":{\"colorbar\":{\"outlinewidth\":0,\"ticks\":\"\"}},\"type\":\"scattercarpet\"}],\"scattergeo\":[{\"marker\":{\"colorbar\":{\"outlinewidth\":0,\"ticks\":\"\"}},\"type\":\"scattergeo\"}],\"scattergl\":[{\"marker\":{\"line\":{\"color\":\"#283442\"}},\"type\":\"scattergl\"}],\"scattermapbox\":[{\"marker\":{\"colorbar\":{\"outlinewidth\":0,\"ticks\":\"\"}},\"type\":\"scattermapbox\"}],\"scatterpolargl\":[{\"marker\":{\"colorbar\":{\"outlinewidth\":0,\"ticks\":\"\"}},\"type\":\"scatterpolargl\"}],\"scatterpolar\":[{\"marker\":{\"colorbar\":{\"outlinewidth\":0,\"ticks\":\"\"}},\"type\":\"scatterpolar\"}],\"scatter\":[{\"marker\":{\"line\":{\"color\":\"#283442\"}},\"type\":\"scatter\"}],\"scatterternary\":[{\"marker\":{\"colorbar\":{\"outlinewidth\":0,\"ticks\":\"\"}},\"type\":\"scatterternary\"}],\"surface\":[{\"colorbar\":{\"outlinewidth\":0,\"ticks\":\"\"},\"colorscale\":[[0.0,\"#0d0887\"],[0.1111111111111111,\"#46039f\"],[0.2222222222222222,\"#7201a8\"],[0.3333333333333333,\"#9c179e\"],[0.4444444444444444,\"#bd3786\"],[0.5555555555555556,\"#d8576b\"],[0.6666666666666666,\"#ed7953\"],[0.7777777777777778,\"#fb9f3a\"],[0.8888888888888888,\"#fdca26\"],[1.0,\"#f0f921\"]],\"type\":\"surface\"}],\"table\":[{\"cells\":{\"fill\":{\"color\":\"#506784\"},\"line\":{\"color\":\"rgb(17,17,17)\"}},\"header\":{\"fill\":{\"color\":\"#2a3f5f\"},\"line\":{\"color\":\"rgb(17,17,17)\"}},\"type\":\"table\"}]},\"layout\":{\"annotationdefaults\":{\"arrowcolor\":\"#f2f5fa\",\"arrowhead\":0,\"arrowwidth\":1},\"autotypenumbers\":\"strict\",\"coloraxis\":{\"colorbar\":{\"outlinewidth\":0,\"ticks\":\"\"}},\"colorscale\":{\"diverging\":[[0,\"#8e0152\"],[0.1,\"#c51b7d\"],[0.2,\"#de77ae\"],[0.3,\"#f1b6da\"],[0.4,\"#fde0ef\"],[0.5,\"#f7f7f7\"],[0.6,\"#e6f5d0\"],[0.7,\"#b8e186\"],[0.8,\"#7fbc41\"],[0.9,\"#4d9221\"],[1,\"#276419\"]],\"sequential\":[[0.0,\"#0d0887\"],[0.1111111111111111,\"#46039f\"],[0.2222222222222222,\"#7201a8\"],[0.3333333333333333,\"#9c179e\"],[0.4444444444444444,\"#bd3786\"],[0.5555555555555556,\"#d8576b\"],[0.6666666666666666,\"#ed7953\"],[0.7777777777777778,\"#fb9f3a\"],[0.8888888888888888,\"#fdca26\"],[1.0,\"#f0f921\"]],\"sequentialminus\":[[0.0,\"#0d0887\"],[0.1111111111111111,\"#46039f\"],[0.2222222222222222,\"#7201a8\"],[0.3333333333333333,\"#9c179e\"],[0.4444444444444444,\"#bd3786\"],[0.5555555555555556,\"#d8576b\"],[0.6666666666666666,\"#ed7953\"],[0.7777777777777778,\"#fb9f3a\"],[0.8888888888888888,\"#fdca26\"],[1.0,\"#f0f921\"]]},\"colorway\":[\"#636efa\",\"#EF553B\",\"#00cc96\",\"#ab63fa\",\"#FFA15A\",\"#19d3f3\",\"#FF6692\",\"#B6E880\",\"#FF97FF\",\"#FECB52\"],\"font\":{\"color\":\"#f2f5fa\"},\"geo\":{\"bgcolor\":\"rgb(17,17,17)\",\"lakecolor\":\"rgb(17,17,17)\",\"landcolor\":\"rgb(17,17,17)\",\"showlakes\":true,\"showland\":true,\"subunitcolor\":\"#506784\"},\"hoverlabel\":{\"align\":\"left\"},\"hovermode\":\"closest\",\"mapbox\":{\"style\":\"dark\"},\"paper_bgcolor\":\"rgb(17,17,17)\",\"plot_bgcolor\":\"rgb(17,17,17)\",\"polar\":{\"angularaxis\":{\"gridcolor\":\"#506784\",\"linecolor\":\"#506784\",\"ticks\":\"\"},\"bgcolor\":\"rgb(17,17,17)\",\"radialaxis\":{\"gridcolor\":\"#506784\",\"linecolor\":\"#506784\",\"ticks\":\"\"}},\"scene\":{\"xaxis\":{\"backgroundcolor\":\"rgb(17,17,17)\",\"gridcolor\":\"#506784\",\"gridwidth\":2,\"linecolor\":\"#506784\",\"showbackground\":true,\"ticks\":\"\",\"zerolinecolor\":\"#C8D4E3\"},\"yaxis\":{\"backgroundcolor\":\"rgb(17,17,17)\",\"gridcolor\":\"#506784\",\"gridwidth\":2,\"linecolor\":\"#506784\",\"showbackground\":true,\"ticks\":\"\",\"zerolinecolor\":\"#C8D4E3\"},\"zaxis\":{\"backgroundcolor\":\"rgb(17,17,17)\",\"gridcolor\":\"#506784\",\"gridwidth\":2,\"linecolor\":\"#506784\",\"showbackground\":true,\"ticks\":\"\",\"zerolinecolor\":\"#C8D4E3\"}},\"shapedefaults\":{\"line\":{\"color\":\"#f2f5fa\"}},\"sliderdefaults\":{\"bgcolor\":\"#C8D4E3\",\"bordercolor\":\"rgb(17,17,17)\",\"borderwidth\":1,\"tickwidth\":0},\"ternary\":{\"aaxis\":{\"gridcolor\":\"#506784\",\"linecolor\":\"#506784\",\"ticks\":\"\"},\"baxis\":{\"gridcolor\":\"#506784\",\"linecolor\":\"#506784\",\"ticks\":\"\"},\"bgcolor\":\"rgb(17,17,17)\",\"caxis\":{\"gridcolor\":\"#506784\",\"linecolor\":\"#506784\",\"ticks\":\"\"}},\"title\":{\"x\":0.05},\"updatemenudefaults\":{\"bgcolor\":\"#506784\",\"borderwidth\":0},\"xaxis\":{\"automargin\":true,\"gridcolor\":\"#283442\",\"linecolor\":\"#506784\",\"ticks\":\"\",\"title\":{\"standoff\":15},\"zerolinecolor\":\"#283442\",\"zerolinewidth\":2},\"yaxis\":{\"automargin\":true,\"gridcolor\":\"#283442\",\"linecolor\":\"#506784\",\"ticks\":\"\",\"title\":{\"standoff\":15},\"zerolinecolor\":\"#283442\",\"zerolinewidth\":2}}},\"xaxis\":{\"title\":{\"text\":\"Predicted Label\"},\"showgrid\":true,\"gridwidth\":1,\"gridcolor\":\"white\"},\"yaxis\":{\"title\":{\"text\":\"True Label\"},\"showgrid\":true,\"gridwidth\":1,\"gridcolor\":\"white\"},\"title\":{\"text\":\"Confusion Matrix\"},\"width\":800,\"height\":600},                        {\"responsive\": true}                    ).then(function(){\n",
       "                            \n",
       "var gd = document.getElementById('02ff0cd8-8b71-47e5-ae5d-978c70020aba');\n",
       "var x = new MutationObserver(function (mutations, observer) {{\n",
       "        var display = window.getComputedStyle(gd).display;\n",
       "        if (!display || display === 'none') {{\n",
       "            console.log([gd, 'removed!']);\n",
       "            Plotly.purge(gd);\n",
       "            observer.disconnect();\n",
       "        }}\n",
       "}});\n",
       "\n",
       "// Listen for the removal of the full notebook cells\n",
       "var notebookContainer = gd.closest('#notebook-container');\n",
       "if (notebookContainer) {{\n",
       "    x.observe(notebookContainer, {childList: true});\n",
       "}}\n",
       "\n",
       "// Listen for the clearing of the current output cell\n",
       "var outputEl = gd.closest('.output');\n",
       "if (outputEl) {{\n",
       "    x.observe(outputEl, {childList: true});\n",
       "}}\n",
       "\n",
       "                        })                };                });            </script>        </div>"
      ]
     },
     "metadata": {},
     "output_type": "display_data"
    }
   ],
   "source": [
    "y_preds = model.predict(x_test)\n",
    "y_pred_classes = np.argmax(y_preds, axis=1)\n",
    "y_true = np.argmax(y_test, axis=1)\n",
    "cm = confusion_matrix(y_true, y_pred_classes)\n",
    "\n",
    "\n",
    "text = [[f\"{cm[i, j]}<br>Correlation: {cm[i, j] / sum(cm[i, :]):.2f}\" for j in range(len(cm[i]))] for i in range(len(cm))]\n",
    "\n",
    "heatmap = go.Heatmap(\n",
    "    z=cm,\n",
    "    x=arabic_chars,\n",
    "    y=arabic_chars,\n",
    "    colorscale='Viridis',\n",
    "    text=text,  \n",
    "    showscale=False,  \n",
    "    hoverongaps=False,\n",
    ")\n",
    "\n",
    "fig_cm = go.Figure(data=[heatmap])\n",
    "fig_cm.update_layout(\n",
    "    title='Confusion Matrix',\n",
    "    xaxis_title='Predicted Label',\n",
    "    yaxis_title='True Label',\n",
    "    width=800,\n",
    "    height=600,\n",
    "    template='plotly_dark',\n",
    "    xaxis=dict(\n",
    "        showgrid=True,\n",
    "        gridwidth=1,  \n",
    "        gridcolor='white'  \n",
    "    ),\n",
    "    yaxis=dict(\n",
    "        showgrid=True,\n",
    "        gridwidth=1,  \n",
    "        gridcolor='white'  \n",
    "    )\n",
    ")\n",
    "fig_cm.update_traces(hovertemplate='%{text}<extra></extra>') \n",
    "fig_cm.show()"
   ]
  },
  {
   "cell_type": "code",
   "execution_count": 29,
   "id": "a31ea8ec",
   "metadata": {
    "execution": {
     "iopub.execute_input": "2023-12-03T22:45:31.420015Z",
     "iopub.status.busy": "2023-12-03T22:45:31.419087Z",
     "iopub.status.idle": "2023-12-03T22:45:31.491033Z",
     "shell.execute_reply": "2023-12-03T22:45:31.489971Z"
    },
    "papermill": {
     "duration": 0.513236,
     "end_time": "2023-12-03T22:45:31.493320",
     "exception": false,
     "start_time": "2023-12-03T22:45:30.980084",
     "status": "completed"
    },
    "tags": []
   },
   "outputs": [
    {
     "name": "stderr",
     "output_type": "stream",
     "text": [
      "/opt/conda/lib/python3.10/site-packages/keras/src/engine/training.py:3000: UserWarning:\n",
      "\n",
      "You are saving your model as an HDF5 file via `model.save()`. This file format is considered legacy. We recommend using instead the native Keras format, e.g. `model.save('my_model.keras')`.\n",
      "\n"
     ]
    }
   ],
   "source": [
    "model.save('saved_model.h5')"
   ]
  },
  {
   "cell_type": "code",
   "execution_count": 30,
   "id": "192a1b62",
   "metadata": {
    "execution": {
     "iopub.execute_input": "2023-12-03T22:45:32.394751Z",
     "iopub.status.busy": "2023-12-03T22:45:32.393850Z",
     "iopub.status.idle": "2023-12-03T22:45:32.401465Z",
     "shell.execute_reply": "2023-12-03T22:45:32.400590Z"
    },
    "papermill": {
     "duration": 0.452484,
     "end_time": "2023-12-03T22:45:32.403416",
     "exception": false,
     "start_time": "2023-12-03T22:45:31.950932",
     "status": "completed"
    },
    "tags": []
   },
   "outputs": [],
   "source": [
    "def predict_image(image_path, model_path):\n",
    "    model = load_model(model_path)\n",
    "\n",
    "    img = cv2.imread(image_path, cv2.IMREAD_GRAYSCALE)\n",
    "    img = cv2.resize(img, (32, 32))\n",
    "    img = img.reshape(1, 32, 32, 1)\n",
    "    img = img.astype('float32') / 255.0\n",
    "\n",
    "    pred = model.predict(img)\n",
    "    predicted_label = arabic_chars[np.argmax(pred)]\n",
    "\n",
    "    return predicted_label\n",
    "\n",
    "def plot_image(image_path):\n",
    "    img = cv2.imread(image_path, cv2.IMREAD_GRAYSCALE)\n",
    "    plt.imshow(img, cmap='gray')\n",
    "    plt.axis('off')\n",
    "    plt.show()\n"
   ]
  },
  {
   "cell_type": "code",
   "execution_count": 31,
   "id": "4d1e1f56",
   "metadata": {
    "execution": {
     "iopub.execute_input": "2023-12-03T22:45:33.343895Z",
     "iopub.status.busy": "2023-12-03T22:45:33.343168Z",
     "iopub.status.idle": "2023-12-03T22:45:34.035784Z",
     "shell.execute_reply": "2023-12-03T22:45:34.034659Z"
    },
    "papermill": {
     "duration": 1.141004,
     "end_time": "2023-12-03T22:45:34.037847",
     "exception": false,
     "start_time": "2023-12-03T22:45:32.896843",
     "status": "completed"
    },
    "tags": []
   },
   "outputs": [
    {
     "name": "stdout",
     "output_type": "stream",
     "text": [
      "1/1 [==============================] - 0s 328ms/step\n",
      "Predicted label: reh\n"
     ]
    }
   ],
   "source": [
    "image_path = '/kaggle/input/ahcd1/Test Images 3360x32x32/test/id_1027_label_10.png'\n",
    "model_path = '/kaggle/working/saved_model.h5'\n",
    "\n",
    "prediction = predict_image(image_path, model_path)\n",
    "print('Predicted label:', prediction)"
   ]
  },
  {
   "cell_type": "code",
   "execution_count": 32,
   "id": "3347885c",
   "metadata": {
    "execution": {
     "iopub.execute_input": "2023-12-03T22:45:34.914390Z",
     "iopub.status.busy": "2023-12-03T22:45:34.913964Z",
     "iopub.status.idle": "2023-12-03T22:45:34.979990Z",
     "shell.execute_reply": "2023-12-03T22:45:34.978635Z"
    },
    "papermill": {
     "duration": 0.506874,
     "end_time": "2023-12-03T22:45:34.984277",
     "exception": false,
     "start_time": "2023-12-03T22:45:34.477403",
     "status": "completed"
    },
    "tags": []
   },
   "outputs": [
    {
     "data": {
      "image/png": "[encoded data removed]",
      "text/plain": [
       "<Figure size 640x480 with 1 Axes>"
      ]
     },
     "metadata": {},
     "output_type": "display_data"
    }
   ],
   "source": [
    "plot_image(image_path)"
   ]
  }
 ],
 "metadata": {
  "kaggle": {
   "accelerator": "nvidiaTeslaT4",
   "dataSources": [
    {
     "datasetId": 1453,
     "sourceId": 574118,
     "sourceType": "datasetVersion"
    }
   ],
   "dockerImageVersionId": 30588,
   "isGpuEnabled": true,
   "isInternetEnabled": true,
   "language": "python",
   "sourceType": "notebook"
  },
  "kernelspec": {
   "display_name": "Python 3",
   "language": "python",
   "name": "python3"
  },
  "language_info": {
   "codemirror_mode": {
    "name": "ipython",
    "version": 3
   },
   "file_extension": ".py",
   "mimetype": "text/x-python",
   "name": "python",
   "nbconvert_exporter": "python",
   "pygments_lexer": "ipython3",
   "version": "3.10.12"
  },
  "papermill": {
   "default_parameters": {},
   "duration": 410.076861,
   "end_time": "2023-12-03T22:45:39.374419",
   "environment_variables": {},
   "exception": null,
   "input_path": "__notebook__.ipynb",
   "output_path": "__notebook__.ipynb",
   "parameters": {},
   "start_time": "2023-12-03T22:38:49.297558",
   "version": "2.4.0"
  }
 },
 "nbformat": 4,
 "nbformat_minor": 5
}
