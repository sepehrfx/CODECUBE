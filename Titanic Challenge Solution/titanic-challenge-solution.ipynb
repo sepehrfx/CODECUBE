{
 "cells": [
  {
   "cell_type": "markdown",
   "id": "3a99959d",
   "metadata": {
    "papermill": {
     "duration": 0.009371,
     "end_time": "2023-11-25T11:41:41.947917",
     "exception": false,
     "start_time": "2023-11-25T11:41:41.938546",
     "status": "completed"
    },
    "tags": []
   },
   "source": [
    "<div style=\"background-color:#3b5998; border-radius:2px; border:#000000 solid; padding: 15px; font-size:100%; text-align:center\">\n",
    "    <h1 align=\"center\" style=\"color:#ffffff;\"><b>TITANIC CHALLENGE SOLUTION 🚢</b></h1>\n",
    "</div>"
   ]
  },
  {
   "cell_type": "markdown",
   "id": "bc9b9661",
   "metadata": {
    "papermill": {
     "duration": 0.00789,
     "end_time": "2023-11-25T11:41:41.964191",
     "exception": false,
     "start_time": "2023-11-25T11:41:41.956301",
     "status": "completed"
    },
    "tags": []
   },
   "source": [
    "<div style=\"background-color:#dfe3ee; border-radius:2px; border:#000000 solid; padding: 15px; font-size:100%; text-align:center\">\n",
    "    <h2 align=\"center\" style=\"color:#000000;\"><b>IMPORT DEPENDENCIES</b></h2>\n",
    "</div>"
   ]
  },
  {
   "cell_type": "code",
   "execution_count": 1,
   "id": "7228cf31",
   "metadata": {
    "execution": {
     "iopub.execute_input": "2023-11-25T11:41:41.981973Z",
     "iopub.status.busy": "2023-11-25T11:41:41.981523Z",
     "iopub.status.idle": "2023-11-25T11:41:43.536636Z",
     "shell.execute_reply": "2023-11-25T11:41:43.535820Z"
    },
    "papermill": {
     "duration": 1.567153,
     "end_time": "2023-11-25T11:41:43.539328",
     "exception": false,
     "start_time": "2023-11-25T11:41:41.972175",
     "status": "completed"
    },
    "tags": []
   },
   "outputs": [],
   "source": [
    "import logging\n",
    "import numpy as np\n",
    "import pandas as pd\n",
    "import matplotlib.pyplot as plt\n",
    "from imblearn.over_sampling import RandomOverSampler\n",
    "from sklearn.preprocessing import LabelEncoder\n",
    "from sklearn.pipeline import Pipeline\n",
    "from sklearn.preprocessing import StandardScaler, MinMaxScaler, MaxAbsScaler, RobustScaler, PowerTransformer, QuantileTransformer, Normalizer, Binarizer\n",
    "from sklearn.model_selection import cross_val_score, cross_val_predict\n",
    "from sklearn.linear_model import LogisticRegression\n",
    "from sklearn.neighbors import KNeighborsClassifier\n",
    "from sklearn.svm import SVC\n",
    "from sklearn.tree import DecisionTreeClassifier\n",
    "from sklearn.ensemble import RandomForestClassifier, GradientBoostingClassifier, AdaBoostClassifier, ExtraTreesClassifier\n",
    "from sklearn.naive_bayes import GaussianNB\n",
    "from sklearn.neural_network import MLPClassifier\n",
    "from xgboost import XGBClassifier\n",
    "from catboost import CatBoostClassifier\n",
    "from sklearn.metrics import accuracy_score, recall_score, precision_score, f1_score\n",
    "import warnings\n",
    "warnings.filterwarnings(\"ignore\")\n",
    "random_seed=42"
   ]
  },
  {
   "cell_type": "code",
   "execution_count": 2,
   "id": "be7dfe68",
   "metadata": {
    "execution": {
     "iopub.execute_input": "2023-11-25T11:41:43.556899Z",
     "iopub.status.busy": "2023-11-25T11:41:43.556561Z",
     "iopub.status.idle": "2023-11-25T11:41:43.578585Z",
     "shell.execute_reply": "2023-11-25T11:41:43.577631Z"
    },
    "papermill": {
     "duration": 0.03313,
     "end_time": "2023-11-25T11:41:43.580709",
     "exception": false,
     "start_time": "2023-11-25T11:41:43.547579",
     "status": "completed"
    },
    "tags": []
   },
   "outputs": [],
   "source": [
    "train_data = pd.read_csv(\"/kaggle/input/titanic/train.csv\")\n",
    "test_data  = pd.read_csv(\"/kaggle/input/titanic/test.csv\")"
   ]
  },
  {
   "cell_type": "code",
   "execution_count": 3,
   "id": "dc89dd1d",
   "metadata": {
    "execution": {
     "iopub.execute_input": "2023-11-25T11:41:43.597890Z",
     "iopub.status.busy": "2023-11-25T11:41:43.597568Z",
     "iopub.status.idle": "2023-11-25T11:41:43.618673Z",
     "shell.execute_reply": "2023-11-25T11:41:43.617758Z"
    },
    "papermill": {
     "duration": 0.032371,
     "end_time": "2023-11-25T11:41:43.621179",
     "exception": false,
     "start_time": "2023-11-25T11:41:43.588808",
     "status": "completed"
    },
    "tags": []
   },
   "outputs": [
    {
     "data": {
      "text/html": [
       "<div>\n",
       "<style scoped>\n",
       "    .dataframe tbody tr th:only-of-type {\n",
       "        vertical-align: middle;\n",
       "    }\n",
       "\n",
       "    .dataframe tbody tr th {\n",
       "        vertical-align: top;\n",
       "    }\n",
       "\n",
       "    .dataframe thead th {\n",
       "        text-align: right;\n",
       "    }\n",
       "</style>\n",
       "<table border=\"1\" class=\"dataframe\">\n",
       "  <thead>\n",
       "    <tr style=\"text-align: right;\">\n",
       "      <th></th>\n",
       "      <th>PassengerId</th>\n",
       "      <th>Survived</th>\n",
       "      <th>Pclass</th>\n",
       "      <th>Name</th>\n",
       "      <th>Sex</th>\n",
       "      <th>Age</th>\n",
       "      <th>SibSp</th>\n",
       "      <th>Parch</th>\n",
       "      <th>Ticket</th>\n",
       "      <th>Fare</th>\n",
       "      <th>Cabin</th>\n",
       "      <th>Embarked</th>\n",
       "    </tr>\n",
       "  </thead>\n",
       "  <tbody>\n",
       "    <tr>\n",
       "      <th>0</th>\n",
       "      <td>1</td>\n",
       "      <td>0</td>\n",
       "      <td>3</td>\n",
       "      <td>Braund, Mr. Owen Harris</td>\n",
       "      <td>male</td>\n",
       "      <td>22.0</td>\n",
       "      <td>1</td>\n",
       "      <td>0</td>\n",
       "      <td>A/5 21171</td>\n",
       "      <td>7.2500</td>\n",
       "      <td>NaN</td>\n",
       "      <td>S</td>\n",
       "    </tr>\n",
       "    <tr>\n",
       "      <th>1</th>\n",
       "      <td>2</td>\n",
       "      <td>1</td>\n",
       "      <td>1</td>\n",
       "      <td>Cumings, Mrs. John Bradley (Florence Briggs Th...</td>\n",
       "      <td>female</td>\n",
       "      <td>38.0</td>\n",
       "      <td>1</td>\n",
       "      <td>0</td>\n",
       "      <td>PC 17599</td>\n",
       "      <td>71.2833</td>\n",
       "      <td>C85</td>\n",
       "      <td>C</td>\n",
       "    </tr>\n",
       "    <tr>\n",
       "      <th>2</th>\n",
       "      <td>3</td>\n",
       "      <td>1</td>\n",
       "      <td>3</td>\n",
       "      <td>Heikkinen, Miss. Laina</td>\n",
       "      <td>female</td>\n",
       "      <td>26.0</td>\n",
       "      <td>0</td>\n",
       "      <td>0</td>\n",
       "      <td>STON/O2. 3101282</td>\n",
       "      <td>7.9250</td>\n",
       "      <td>NaN</td>\n",
       "      <td>S</td>\n",
       "    </tr>\n",
       "    <tr>\n",
       "      <th>3</th>\n",
       "      <td>4</td>\n",
       "      <td>1</td>\n",
       "      <td>1</td>\n",
       "      <td>Futrelle, Mrs. Jacques Heath (Lily May Peel)</td>\n",
       "      <td>female</td>\n",
       "      <td>35.0</td>\n",
       "      <td>1</td>\n",
       "      <td>0</td>\n",
       "      <td>113803</td>\n",
       "      <td>53.1000</td>\n",
       "      <td>C123</td>\n",
       "      <td>S</td>\n",
       "    </tr>\n",
       "    <tr>\n",
       "      <th>4</th>\n",
       "      <td>5</td>\n",
       "      <td>0</td>\n",
       "      <td>3</td>\n",
       "      <td>Allen, Mr. William Henry</td>\n",
       "      <td>male</td>\n",
       "      <td>35.0</td>\n",
       "      <td>0</td>\n",
       "      <td>0</td>\n",
       "      <td>373450</td>\n",
       "      <td>8.0500</td>\n",
       "      <td>NaN</td>\n",
       "      <td>S</td>\n",
       "    </tr>\n",
       "  </tbody>\n",
       "</table>\n",
       "</div>"
      ],
      "text/plain": [
       "   PassengerId  Survived  Pclass  \\\n",
       "0            1         0       3   \n",
       "1            2         1       1   \n",
       "2            3         1       3   \n",
       "3            4         1       1   \n",
       "4            5         0       3   \n",
       "\n",
       "                                                Name     Sex   Age  SibSp  \\\n",
       "0                            Braund, Mr. Owen Harris    male  22.0      1   \n",
       "1  Cumings, Mrs. John Bradley (Florence Briggs Th...  female  38.0      1   \n",
       "2                             Heikkinen, Miss. Laina  female  26.0      0   \n",
       "3       Futrelle, Mrs. Jacques Heath (Lily May Peel)  female  35.0      1   \n",
       "4                           Allen, Mr. William Henry    male  35.0      0   \n",
       "\n",
       "   Parch            Ticket     Fare Cabin Embarked  \n",
       "0      0         A/5 21171   7.2500   NaN        S  \n",
       "1      0          PC 17599  71.2833   C85        C  \n",
       "2      0  STON/O2. 3101282   7.9250   NaN        S  \n",
       "3      0            113803  53.1000  C123        S  \n",
       "4      0            373450   8.0500   NaN        S  "
      ]
     },
     "execution_count": 3,
     "metadata": {},
     "output_type": "execute_result"
    }
   ],
   "source": [
    "train_data.head()"
   ]
  },
  {
   "cell_type": "code",
   "execution_count": 4,
   "id": "86b054a6",
   "metadata": {
    "execution": {
     "iopub.execute_input": "2023-11-25T11:41:43.639121Z",
     "iopub.status.busy": "2023-11-25T11:41:43.638811Z",
     "iopub.status.idle": "2023-11-25T11:41:43.654317Z",
     "shell.execute_reply": "2023-11-25T11:41:43.653320Z"
    },
    "papermill": {
     "duration": 0.027172,
     "end_time": "2023-11-25T11:41:43.656663",
     "exception": false,
     "start_time": "2023-11-25T11:41:43.629491",
     "status": "completed"
    },
    "tags": []
   },
   "outputs": [
    {
     "data": {
      "text/html": [
       "<div>\n",
       "<style scoped>\n",
       "    .dataframe tbody tr th:only-of-type {\n",
       "        vertical-align: middle;\n",
       "    }\n",
       "\n",
       "    .dataframe tbody tr th {\n",
       "        vertical-align: top;\n",
       "    }\n",
       "\n",
       "    .dataframe thead th {\n",
       "        text-align: right;\n",
       "    }\n",
       "</style>\n",
       "<table border=\"1\" class=\"dataframe\">\n",
       "  <thead>\n",
       "    <tr style=\"text-align: right;\">\n",
       "      <th></th>\n",
       "      <th>PassengerId</th>\n",
       "      <th>Pclass</th>\n",
       "      <th>Name</th>\n",
       "      <th>Sex</th>\n",
       "      <th>Age</th>\n",
       "      <th>SibSp</th>\n",
       "      <th>Parch</th>\n",
       "      <th>Ticket</th>\n",
       "      <th>Fare</th>\n",
       "      <th>Cabin</th>\n",
       "      <th>Embarked</th>\n",
       "    </tr>\n",
       "  </thead>\n",
       "  <tbody>\n",
       "    <tr>\n",
       "      <th>0</th>\n",
       "      <td>892</td>\n",
       "      <td>3</td>\n",
       "      <td>Kelly, Mr. James</td>\n",
       "      <td>male</td>\n",
       "      <td>34.5</td>\n",
       "      <td>0</td>\n",
       "      <td>0</td>\n",
       "      <td>330911</td>\n",
       "      <td>7.8292</td>\n",
       "      <td>NaN</td>\n",
       "      <td>Q</td>\n",
       "    </tr>\n",
       "    <tr>\n",
       "      <th>1</th>\n",
       "      <td>893</td>\n",
       "      <td>3</td>\n",
       "      <td>Wilkes, Mrs. James (Ellen Needs)</td>\n",
       "      <td>female</td>\n",
       "      <td>47.0</td>\n",
       "      <td>1</td>\n",
       "      <td>0</td>\n",
       "      <td>363272</td>\n",
       "      <td>7.0000</td>\n",
       "      <td>NaN</td>\n",
       "      <td>S</td>\n",
       "    </tr>\n",
       "    <tr>\n",
       "      <th>2</th>\n",
       "      <td>894</td>\n",
       "      <td>2</td>\n",
       "      <td>Myles, Mr. Thomas Francis</td>\n",
       "      <td>male</td>\n",
       "      <td>62.0</td>\n",
       "      <td>0</td>\n",
       "      <td>0</td>\n",
       "      <td>240276</td>\n",
       "      <td>9.6875</td>\n",
       "      <td>NaN</td>\n",
       "      <td>Q</td>\n",
       "    </tr>\n",
       "    <tr>\n",
       "      <th>3</th>\n",
       "      <td>895</td>\n",
       "      <td>3</td>\n",
       "      <td>Wirz, Mr. Albert</td>\n",
       "      <td>male</td>\n",
       "      <td>27.0</td>\n",
       "      <td>0</td>\n",
       "      <td>0</td>\n",
       "      <td>315154</td>\n",
       "      <td>8.6625</td>\n",
       "      <td>NaN</td>\n",
       "      <td>S</td>\n",
       "    </tr>\n",
       "    <tr>\n",
       "      <th>4</th>\n",
       "      <td>896</td>\n",
       "      <td>3</td>\n",
       "      <td>Hirvonen, Mrs. Alexander (Helga E Lindqvist)</td>\n",
       "      <td>female</td>\n",
       "      <td>22.0</td>\n",
       "      <td>1</td>\n",
       "      <td>1</td>\n",
       "      <td>3101298</td>\n",
       "      <td>12.2875</td>\n",
       "      <td>NaN</td>\n",
       "      <td>S</td>\n",
       "    </tr>\n",
       "  </tbody>\n",
       "</table>\n",
       "</div>"
      ],
      "text/plain": [
       "   PassengerId  Pclass                                          Name     Sex  \\\n",
       "0          892       3                              Kelly, Mr. James    male   \n",
       "1          893       3              Wilkes, Mrs. James (Ellen Needs)  female   \n",
       "2          894       2                     Myles, Mr. Thomas Francis    male   \n",
       "3          895       3                              Wirz, Mr. Albert    male   \n",
       "4          896       3  Hirvonen, Mrs. Alexander (Helga E Lindqvist)  female   \n",
       "\n",
       "    Age  SibSp  Parch   Ticket     Fare Cabin Embarked  \n",
       "0  34.5      0      0   330911   7.8292   NaN        Q  \n",
       "1  47.0      1      0   363272   7.0000   NaN        S  \n",
       "2  62.0      0      0   240276   9.6875   NaN        Q  \n",
       "3  27.0      0      0   315154   8.6625   NaN        S  \n",
       "4  22.0      1      1  3101298  12.2875   NaN        S  "
      ]
     },
     "execution_count": 4,
     "metadata": {},
     "output_type": "execute_result"
    }
   ],
   "source": [
    "test_data.head()"
   ]
  },
  {
   "cell_type": "code",
   "execution_count": 5,
   "id": "e158471d",
   "metadata": {
    "execution": {
     "iopub.execute_input": "2023-11-25T11:41:43.675451Z",
     "iopub.status.busy": "2023-11-25T11:41:43.674712Z",
     "iopub.status.idle": "2023-11-25T11:41:43.695826Z",
     "shell.execute_reply": "2023-11-25T11:41:43.694649Z"
    },
    "papermill": {
     "duration": 0.033195,
     "end_time": "2023-11-25T11:41:43.698519",
     "exception": false,
     "start_time": "2023-11-25T11:41:43.665324",
     "status": "completed"
    },
    "tags": []
   },
   "outputs": [
    {
     "name": "stdout",
     "output_type": "stream",
     "text": [
      "<class 'pandas.core.frame.DataFrame'>\n",
      "RangeIndex: 891 entries, 0 to 890\n",
      "Data columns (total 12 columns):\n",
      " #   Column       Non-Null Count  Dtype  \n",
      "---  ------       --------------  -----  \n",
      " 0   PassengerId  891 non-null    int64  \n",
      " 1   Survived     891 non-null    int64  \n",
      " 2   Pclass       891 non-null    int64  \n",
      " 3   Name         891 non-null    object \n",
      " 4   Sex          891 non-null    object \n",
      " 5   Age          714 non-null    float64\n",
      " 6   SibSp        891 non-null    int64  \n",
      " 7   Parch        891 non-null    int64  \n",
      " 8   Ticket       891 non-null    object \n",
      " 9   Fare         891 non-null    float64\n",
      " 10  Cabin        204 non-null    object \n",
      " 11  Embarked     889 non-null    object \n",
      "dtypes: float64(2), int64(5), object(5)\n",
      "memory usage: 83.7+ KB\n"
     ]
    }
   ],
   "source": [
    "train_data.info()"
   ]
  },
  {
   "cell_type": "code",
   "execution_count": 6,
   "id": "56fa45af",
   "metadata": {
    "execution": {
     "iopub.execute_input": "2023-11-25T11:41:43.717190Z",
     "iopub.status.busy": "2023-11-25T11:41:43.716894Z",
     "iopub.status.idle": "2023-11-25T11:41:43.725743Z",
     "shell.execute_reply": "2023-11-25T11:41:43.724899Z"
    },
    "papermill": {
     "duration": 0.020472,
     "end_time": "2023-11-25T11:41:43.727826",
     "exception": false,
     "start_time": "2023-11-25T11:41:43.707354",
     "status": "completed"
    },
    "tags": []
   },
   "outputs": [
    {
     "data": {
      "text/plain": [
       "PassengerId      0\n",
       "Survived         0\n",
       "Pclass           0\n",
       "Name             0\n",
       "Sex              0\n",
       "Age            177\n",
       "SibSp            0\n",
       "Parch            0\n",
       "Ticket           0\n",
       "Fare             0\n",
       "Cabin          687\n",
       "Embarked         2\n",
       "dtype: int64"
      ]
     },
     "execution_count": 6,
     "metadata": {},
     "output_type": "execute_result"
    }
   ],
   "source": [
    "train_data.isnull().sum()"
   ]
  },
  {
   "cell_type": "code",
   "execution_count": 7,
   "id": "23d7ba68",
   "metadata": {
    "execution": {
     "iopub.execute_input": "2023-11-25T11:41:43.746159Z",
     "iopub.status.busy": "2023-11-25T11:41:43.745886Z",
     "iopub.status.idle": "2023-11-25T11:41:43.753294Z",
     "shell.execute_reply": "2023-11-25T11:41:43.752352Z"
    },
    "papermill": {
     "duration": 0.018932,
     "end_time": "2023-11-25T11:41:43.755357",
     "exception": false,
     "start_time": "2023-11-25T11:41:43.736425",
     "status": "completed"
    },
    "tags": []
   },
   "outputs": [],
   "source": [
    "train_data['Age'].fillna(train_data['Age'].mean(),inplace=True)\n",
    "train_data['Cabin'].fillna('Unknown',inplace=True)\n",
    "train_data['Embarked'].fillna('Unknown',inplace=True)"
   ]
  },
  {
   "cell_type": "code",
   "execution_count": 8,
   "id": "87a78d63",
   "metadata": {
    "execution": {
     "iopub.execute_input": "2023-11-25T11:41:43.774562Z",
     "iopub.status.busy": "2023-11-25T11:41:43.774270Z",
     "iopub.status.idle": "2023-11-25T11:41:43.783496Z",
     "shell.execute_reply": "2023-11-25T11:41:43.782559Z"
    },
    "papermill": {
     "duration": 0.020699,
     "end_time": "2023-11-25T11:41:43.785548",
     "exception": false,
     "start_time": "2023-11-25T11:41:43.764849",
     "status": "completed"
    },
    "tags": []
   },
   "outputs": [
    {
     "data": {
      "text/plain": [
       "PassengerId    0\n",
       "Survived       0\n",
       "Pclass         0\n",
       "Name           0\n",
       "Sex            0\n",
       "Age            0\n",
       "SibSp          0\n",
       "Parch          0\n",
       "Ticket         0\n",
       "Fare           0\n",
       "Cabin          0\n",
       "Embarked       0\n",
       "dtype: int64"
      ]
     },
     "execution_count": 8,
     "metadata": {},
     "output_type": "execute_result"
    }
   ],
   "source": [
    "train_data.isnull().sum()"
   ]
  },
  {
   "cell_type": "code",
   "execution_count": 9,
   "id": "b542d800",
   "metadata": {
    "execution": {
     "iopub.execute_input": "2023-11-25T11:41:43.804268Z",
     "iopub.status.busy": "2023-11-25T11:41:43.803977Z",
     "iopub.status.idle": "2023-11-25T11:41:43.820469Z",
     "shell.execute_reply": "2023-11-25T11:41:43.819521Z"
    },
    "papermill": {
     "duration": 0.028161,
     "end_time": "2023-11-25T11:41:43.822584",
     "exception": false,
     "start_time": "2023-11-25T11:41:43.794423",
     "status": "completed"
    },
    "tags": []
   },
   "outputs": [
    {
     "data": {
      "text/html": [
       "<div>\n",
       "<style scoped>\n",
       "    .dataframe tbody tr th:only-of-type {\n",
       "        vertical-align: middle;\n",
       "    }\n",
       "\n",
       "    .dataframe tbody tr th {\n",
       "        vertical-align: top;\n",
       "    }\n",
       "\n",
       "    .dataframe thead th {\n",
       "        text-align: right;\n",
       "    }\n",
       "</style>\n",
       "<table border=\"1\" class=\"dataframe\">\n",
       "  <thead>\n",
       "    <tr style=\"text-align: right;\">\n",
       "      <th></th>\n",
       "      <th>PassengerId</th>\n",
       "      <th>Survived</th>\n",
       "      <th>Pclass</th>\n",
       "      <th>Name</th>\n",
       "      <th>Sex</th>\n",
       "      <th>Age</th>\n",
       "      <th>SibSp</th>\n",
       "      <th>Parch</th>\n",
       "      <th>Ticket</th>\n",
       "      <th>Fare</th>\n",
       "      <th>Cabin</th>\n",
       "      <th>Embarked</th>\n",
       "    </tr>\n",
       "  </thead>\n",
       "  <tbody>\n",
       "    <tr>\n",
       "      <th>0</th>\n",
       "      <td>1</td>\n",
       "      <td>0</td>\n",
       "      <td>3</td>\n",
       "      <td>Braund, Mr. Owen Harris</td>\n",
       "      <td>male</td>\n",
       "      <td>22.0</td>\n",
       "      <td>1</td>\n",
       "      <td>0</td>\n",
       "      <td>A/5 21171</td>\n",
       "      <td>7.2500</td>\n",
       "      <td>Unknown</td>\n",
       "      <td>S</td>\n",
       "    </tr>\n",
       "    <tr>\n",
       "      <th>1</th>\n",
       "      <td>2</td>\n",
       "      <td>1</td>\n",
       "      <td>1</td>\n",
       "      <td>Cumings, Mrs. John Bradley (Florence Briggs Th...</td>\n",
       "      <td>female</td>\n",
       "      <td>38.0</td>\n",
       "      <td>1</td>\n",
       "      <td>0</td>\n",
       "      <td>PC 17599</td>\n",
       "      <td>71.2833</td>\n",
       "      <td>C85</td>\n",
       "      <td>C</td>\n",
       "    </tr>\n",
       "    <tr>\n",
       "      <th>2</th>\n",
       "      <td>3</td>\n",
       "      <td>1</td>\n",
       "      <td>3</td>\n",
       "      <td>Heikkinen, Miss. Laina</td>\n",
       "      <td>female</td>\n",
       "      <td>26.0</td>\n",
       "      <td>0</td>\n",
       "      <td>0</td>\n",
       "      <td>STON/O2. 3101282</td>\n",
       "      <td>7.9250</td>\n",
       "      <td>Unknown</td>\n",
       "      <td>S</td>\n",
       "    </tr>\n",
       "    <tr>\n",
       "      <th>3</th>\n",
       "      <td>4</td>\n",
       "      <td>1</td>\n",
       "      <td>1</td>\n",
       "      <td>Futrelle, Mrs. Jacques Heath (Lily May Peel)</td>\n",
       "      <td>female</td>\n",
       "      <td>35.0</td>\n",
       "      <td>1</td>\n",
       "      <td>0</td>\n",
       "      <td>113803</td>\n",
       "      <td>53.1000</td>\n",
       "      <td>C123</td>\n",
       "      <td>S</td>\n",
       "    </tr>\n",
       "    <tr>\n",
       "      <th>4</th>\n",
       "      <td>5</td>\n",
       "      <td>0</td>\n",
       "      <td>3</td>\n",
       "      <td>Allen, Mr. William Henry</td>\n",
       "      <td>male</td>\n",
       "      <td>35.0</td>\n",
       "      <td>0</td>\n",
       "      <td>0</td>\n",
       "      <td>373450</td>\n",
       "      <td>8.0500</td>\n",
       "      <td>Unknown</td>\n",
       "      <td>S</td>\n",
       "    </tr>\n",
       "  </tbody>\n",
       "</table>\n",
       "</div>"
      ],
      "text/plain": [
       "   PassengerId  Survived  Pclass  \\\n",
       "0            1         0       3   \n",
       "1            2         1       1   \n",
       "2            3         1       3   \n",
       "3            4         1       1   \n",
       "4            5         0       3   \n",
       "\n",
       "                                                Name     Sex   Age  SibSp  \\\n",
       "0                            Braund, Mr. Owen Harris    male  22.0      1   \n",
       "1  Cumings, Mrs. John Bradley (Florence Briggs Th...  female  38.0      1   \n",
       "2                             Heikkinen, Miss. Laina  female  26.0      0   \n",
       "3       Futrelle, Mrs. Jacques Heath (Lily May Peel)  female  35.0      1   \n",
       "4                           Allen, Mr. William Henry    male  35.0      0   \n",
       "\n",
       "   Parch            Ticket     Fare    Cabin Embarked  \n",
       "0      0         A/5 21171   7.2500  Unknown        S  \n",
       "1      0          PC 17599  71.2833      C85        C  \n",
       "2      0  STON/O2. 3101282   7.9250  Unknown        S  \n",
       "3      0            113803  53.1000     C123        S  \n",
       "4      0            373450   8.0500  Unknown        S  "
      ]
     },
     "execution_count": 9,
     "metadata": {},
     "output_type": "execute_result"
    }
   ],
   "source": [
    "train_data.head()"
   ]
  },
  {
   "cell_type": "code",
   "execution_count": 10,
   "id": "1eba6f7a",
   "metadata": {
    "execution": {
     "iopub.execute_input": "2023-11-25T11:41:43.842591Z",
     "iopub.status.busy": "2023-11-25T11:41:43.842092Z",
     "iopub.status.idle": "2023-11-25T11:41:43.854241Z",
     "shell.execute_reply": "2023-11-25T11:41:43.853339Z"
    },
    "papermill": {
     "duration": 0.024621,
     "end_time": "2023-11-25T11:41:43.856447",
     "exception": false,
     "start_time": "2023-11-25T11:41:43.831826",
     "status": "completed"
    },
    "tags": []
   },
   "outputs": [],
   "source": [
    "label_encoder = LabelEncoder()\n",
    "for col in train_data.columns:\n",
    "    if train_data[col].dtype == 'object':\n",
    "        train_data[col] = label_encoder.fit_transform(train_data[col])"
   ]
  },
  {
   "cell_type": "code",
   "execution_count": 11,
   "id": "34427631",
   "metadata": {
    "execution": {
     "iopub.execute_input": "2023-11-25T11:41:43.875597Z",
     "iopub.status.busy": "2023-11-25T11:41:43.875295Z",
     "iopub.status.idle": "2023-11-25T11:41:43.889836Z",
     "shell.execute_reply": "2023-11-25T11:41:43.888942Z"
    },
    "papermill": {
     "duration": 0.026472,
     "end_time": "2023-11-25T11:41:43.891967",
     "exception": false,
     "start_time": "2023-11-25T11:41:43.865495",
     "status": "completed"
    },
    "tags": []
   },
   "outputs": [
    {
     "data": {
      "text/html": [
       "<div>\n",
       "<style scoped>\n",
       "    .dataframe tbody tr th:only-of-type {\n",
       "        vertical-align: middle;\n",
       "    }\n",
       "\n",
       "    .dataframe tbody tr th {\n",
       "        vertical-align: top;\n",
       "    }\n",
       "\n",
       "    .dataframe thead th {\n",
       "        text-align: right;\n",
       "    }\n",
       "</style>\n",
       "<table border=\"1\" class=\"dataframe\">\n",
       "  <thead>\n",
       "    <tr style=\"text-align: right;\">\n",
       "      <th></th>\n",
       "      <th>PassengerId</th>\n",
       "      <th>Survived</th>\n",
       "      <th>Pclass</th>\n",
       "      <th>Name</th>\n",
       "      <th>Sex</th>\n",
       "      <th>Age</th>\n",
       "      <th>SibSp</th>\n",
       "      <th>Parch</th>\n",
       "      <th>Ticket</th>\n",
       "      <th>Fare</th>\n",
       "      <th>Cabin</th>\n",
       "      <th>Embarked</th>\n",
       "    </tr>\n",
       "  </thead>\n",
       "  <tbody>\n",
       "    <tr>\n",
       "      <th>0</th>\n",
       "      <td>1</td>\n",
       "      <td>0</td>\n",
       "      <td>3</td>\n",
       "      <td>108</td>\n",
       "      <td>1</td>\n",
       "      <td>22.0</td>\n",
       "      <td>1</td>\n",
       "      <td>0</td>\n",
       "      <td>523</td>\n",
       "      <td>7.2500</td>\n",
       "      <td>147</td>\n",
       "      <td>2</td>\n",
       "    </tr>\n",
       "    <tr>\n",
       "      <th>1</th>\n",
       "      <td>2</td>\n",
       "      <td>1</td>\n",
       "      <td>1</td>\n",
       "      <td>190</td>\n",
       "      <td>0</td>\n",
       "      <td>38.0</td>\n",
       "      <td>1</td>\n",
       "      <td>0</td>\n",
       "      <td>596</td>\n",
       "      <td>71.2833</td>\n",
       "      <td>81</td>\n",
       "      <td>0</td>\n",
       "    </tr>\n",
       "    <tr>\n",
       "      <th>2</th>\n",
       "      <td>3</td>\n",
       "      <td>1</td>\n",
       "      <td>3</td>\n",
       "      <td>353</td>\n",
       "      <td>0</td>\n",
       "      <td>26.0</td>\n",
       "      <td>0</td>\n",
       "      <td>0</td>\n",
       "      <td>669</td>\n",
       "      <td>7.9250</td>\n",
       "      <td>147</td>\n",
       "      <td>2</td>\n",
       "    </tr>\n",
       "    <tr>\n",
       "      <th>3</th>\n",
       "      <td>4</td>\n",
       "      <td>1</td>\n",
       "      <td>1</td>\n",
       "      <td>272</td>\n",
       "      <td>0</td>\n",
       "      <td>35.0</td>\n",
       "      <td>1</td>\n",
       "      <td>0</td>\n",
       "      <td>49</td>\n",
       "      <td>53.1000</td>\n",
       "      <td>55</td>\n",
       "      <td>2</td>\n",
       "    </tr>\n",
       "    <tr>\n",
       "      <th>4</th>\n",
       "      <td>5</td>\n",
       "      <td>0</td>\n",
       "      <td>3</td>\n",
       "      <td>15</td>\n",
       "      <td>1</td>\n",
       "      <td>35.0</td>\n",
       "      <td>0</td>\n",
       "      <td>0</td>\n",
       "      <td>472</td>\n",
       "      <td>8.0500</td>\n",
       "      <td>147</td>\n",
       "      <td>2</td>\n",
       "    </tr>\n",
       "  </tbody>\n",
       "</table>\n",
       "</div>"
      ],
      "text/plain": [
       "   PassengerId  Survived  Pclass  Name  Sex   Age  SibSp  Parch  Ticket  \\\n",
       "0            1         0       3   108    1  22.0      1      0     523   \n",
       "1            2         1       1   190    0  38.0      1      0     596   \n",
       "2            3         1       3   353    0  26.0      0      0     669   \n",
       "3            4         1       1   272    0  35.0      1      0      49   \n",
       "4            5         0       3    15    1  35.0      0      0     472   \n",
       "\n",
       "      Fare  Cabin  Embarked  \n",
       "0   7.2500    147         2  \n",
       "1  71.2833     81         0  \n",
       "2   7.9250    147         2  \n",
       "3  53.1000     55         2  \n",
       "4   8.0500    147         2  "
      ]
     },
     "execution_count": 11,
     "metadata": {},
     "output_type": "execute_result"
    }
   ],
   "source": [
    "train_data.head()"
   ]
  },
  {
   "cell_type": "code",
   "execution_count": 12,
   "id": "f24a98c1",
   "metadata": {
    "execution": {
     "iopub.execute_input": "2023-11-25T11:41:43.912265Z",
     "iopub.status.busy": "2023-11-25T11:41:43.911976Z",
     "iopub.status.idle": "2023-11-25T11:41:43.919211Z",
     "shell.execute_reply": "2023-11-25T11:41:43.918287Z"
    },
    "papermill": {
     "duration": 0.019749,
     "end_time": "2023-11-25T11:41:43.921314",
     "exception": false,
     "start_time": "2023-11-25T11:41:43.901565",
     "status": "completed"
    },
    "tags": []
   },
   "outputs": [],
   "source": [
    "X = train_data.drop(['PassengerId','Survived','Name'], axis=1)\n",
    "Y = train_data['Survived']"
   ]
  },
  {
   "cell_type": "code",
   "execution_count": 13,
   "id": "832b0c8e",
   "metadata": {
    "execution": {
     "iopub.execute_input": "2023-11-25T11:41:43.941431Z",
     "iopub.status.busy": "2023-11-25T11:41:43.941136Z",
     "iopub.status.idle": "2023-11-25T11:41:43.952568Z",
     "shell.execute_reply": "2023-11-25T11:41:43.951802Z"
    },
    "papermill": {
     "duration": 0.023954,
     "end_time": "2023-11-25T11:41:43.954706",
     "exception": false,
     "start_time": "2023-11-25T11:41:43.930752",
     "status": "completed"
    },
    "tags": []
   },
   "outputs": [],
   "source": [
    "oversampler = RandomOverSampler(random_state=random_seed)\n",
    "X_resampled, Y_resampled = oversampler.fit_resample(X, Y)"
   ]
  },
  {
   "cell_type": "code",
   "execution_count": 14,
   "id": "c9c897b0",
   "metadata": {
    "execution": {
     "iopub.execute_input": "2023-11-25T11:41:43.975651Z",
     "iopub.status.busy": "2023-11-25T11:41:43.975363Z",
     "iopub.status.idle": "2023-11-25T11:41:43.982169Z",
     "shell.execute_reply": "2023-11-25T11:41:43.981270Z"
    },
    "papermill": {
     "duration": 0.019327,
     "end_time": "2023-11-25T11:41:43.984288",
     "exception": false,
     "start_time": "2023-11-25T11:41:43.964961",
     "status": "completed"
    },
    "tags": []
   },
   "outputs": [
    {
     "data": {
      "text/plain": [
       "0    549\n",
       "1    549\n",
       "Name: Survived, dtype: int64"
      ]
     },
     "execution_count": 14,
     "metadata": {},
     "output_type": "execute_result"
    }
   ],
   "source": [
    "Y_resampled.value_counts()"
   ]
  },
  {
   "cell_type": "code",
   "execution_count": 15,
   "id": "d25bf1c3",
   "metadata": {
    "execution": {
     "iopub.execute_input": "2023-11-25T11:41:44.004804Z",
     "iopub.status.busy": "2023-11-25T11:41:44.004514Z",
     "iopub.status.idle": "2023-11-25T11:46:57.131229Z",
     "shell.execute_reply": "2023-11-25T11:46:57.130134Z"
    },
    "papermill": {
     "duration": 313.140403,
     "end_time": "2023-11-25T11:46:57.134212",
     "exception": false,
     "start_time": "2023-11-25T11:41:43.993809",
     "status": "completed"
    },
    "tags": []
   },
   "outputs": [],
   "source": [
    "logging.getLogger(\"xgboost\").setLevel(logging.WARNING)\n",
    "logging.getLogger(\"catboost\").setLevel(logging.WARNING)\n",
    "\n",
    "classifiers = [\n",
    "    LogisticRegression(random_state=random_seed),\n",
    "    KNeighborsClassifier(),\n",
    "    SVC(random_state=random_seed),\n",
    "    DecisionTreeClassifier(random_state=random_seed),\n",
    "    RandomForestClassifier(random_state=random_seed),\n",
    "    GradientBoostingClassifier(verbose=0, random_state=random_seed),\n",
    "    AdaBoostClassifier(random_state=random_seed),\n",
    "    GaussianNB(),\n",
    "    MLPClassifier(random_state=random_seed),\n",
    "    XGBClassifier(verbosity=0, random_state=random_seed),\n",
    "    ExtraTreesClassifier(random_state=random_seed),\n",
    "    CatBoostClassifier(verbose=0, random_state=random_seed)\n",
    "]\n",
    "\n",
    "scalers = [\n",
    "    StandardScaler(),\n",
    "    MinMaxScaler(),\n",
    "    MaxAbsScaler(),\n",
    "    RobustScaler(),\n",
    "    PowerTransformer(),\n",
    "    QuantileTransformer(),\n",
    "    Normalizer(),\n",
    "    Binarizer()\n",
    "]\n",
    "\n",
    "results = []\n",
    "for scaler in scalers:\n",
    "    for classifier in classifiers:\n",
    "        pipeline = Pipeline([\n",
    "            ('scaler', scaler),\n",
    "            ('classifier', classifier)\n",
    "        ])\n",
    "\n",
    "        scores = cross_val_score(pipeline, X_resampled, Y_resampled, cv=5, scoring='accuracy')\n",
    "\n",
    "        y_pred = cross_val_predict(pipeline, X_resampled, Y_resampled, cv=5)\n",
    "        accuracy = accuracy_score(Y_resampled, y_pred)\n",
    "        recall = recall_score(Y_resampled, y_pred, average='weighted')\n",
    "        precision = precision_score(Y_resampled, y_pred, average='weighted')\n",
    "        f1 = f1_score(Y_resampled, y_pred, average='weighted')\n",
    "        \n",
    "        results.append((classifier.__class__.__name__, scaler.__class__.__name__, accuracy, recall, precision, f1))"
   ]
  },
  {
   "cell_type": "code",
   "execution_count": 16,
   "id": "91035a27",
   "metadata": {
    "execution": {
     "iopub.execute_input": "2023-11-25T11:46:57.158697Z",
     "iopub.status.busy": "2023-11-25T11:46:57.158035Z",
     "iopub.status.idle": "2023-11-25T11:46:57.174717Z",
     "shell.execute_reply": "2023-11-25T11:46:57.173689Z"
    },
    "papermill": {
     "duration": 0.031162,
     "end_time": "2023-11-25T11:46:57.177065",
     "exception": false,
     "start_time": "2023-11-25T11:46:57.145903",
     "status": "completed"
    },
    "tags": []
   },
   "outputs": [
    {
     "data": {
      "text/html": [
       "<div>\n",
       "<style scoped>\n",
       "    .dataframe tbody tr th:only-of-type {\n",
       "        vertical-align: middle;\n",
       "    }\n",
       "\n",
       "    .dataframe tbody tr th {\n",
       "        vertical-align: top;\n",
       "    }\n",
       "\n",
       "    .dataframe thead th {\n",
       "        text-align: right;\n",
       "    }\n",
       "</style>\n",
       "<table border=\"1\" class=\"dataframe\">\n",
       "  <thead>\n",
       "    <tr style=\"text-align: right;\">\n",
       "      <th></th>\n",
       "      <th>Classifier</th>\n",
       "      <th>Scaler</th>\n",
       "      <th>Accuracy</th>\n",
       "      <th>Recall</th>\n",
       "      <th>Precision</th>\n",
       "      <th>F1-Score</th>\n",
       "    </tr>\n",
       "  </thead>\n",
       "  <tbody>\n",
       "    <tr>\n",
       "      <th>52</th>\n",
       "      <td>RandomForestClassifier</td>\n",
       "      <td>PowerTransformer</td>\n",
       "      <td>0.893443</td>\n",
       "      <td>0.893443</td>\n",
       "      <td>0.895048</td>\n",
       "      <td>0.893334</td>\n",
       "    </tr>\n",
       "    <tr>\n",
       "      <th>81</th>\n",
       "      <td>XGBClassifier</td>\n",
       "      <td>Normalizer</td>\n",
       "      <td>0.892532</td>\n",
       "      <td>0.892532</td>\n",
       "      <td>0.893708</td>\n",
       "      <td>0.892452</td>\n",
       "    </tr>\n",
       "    <tr>\n",
       "      <th>64</th>\n",
       "      <td>RandomForestClassifier</td>\n",
       "      <td>QuantileTransformer</td>\n",
       "      <td>0.891621</td>\n",
       "      <td>0.891621</td>\n",
       "      <td>0.893408</td>\n",
       "      <td>0.891498</td>\n",
       "    </tr>\n",
       "    <tr>\n",
       "      <th>40</th>\n",
       "      <td>RandomForestClassifier</td>\n",
       "      <td>RobustScaler</td>\n",
       "      <td>0.889800</td>\n",
       "      <td>0.889800</td>\n",
       "      <td>0.891777</td>\n",
       "      <td>0.889660</td>\n",
       "    </tr>\n",
       "    <tr>\n",
       "      <th>4</th>\n",
       "      <td>RandomForestClassifier</td>\n",
       "      <td>StandardScaler</td>\n",
       "      <td>0.888889</td>\n",
       "      <td>0.888889</td>\n",
       "      <td>0.891178</td>\n",
       "      <td>0.888726</td>\n",
       "    </tr>\n",
       "  </tbody>\n",
       "</table>\n",
       "</div>"
      ],
      "text/plain": [
       "                Classifier               Scaler  Accuracy    Recall  \\\n",
       "52  RandomForestClassifier     PowerTransformer  0.893443  0.893443   \n",
       "81           XGBClassifier           Normalizer  0.892532  0.892532   \n",
       "64  RandomForestClassifier  QuantileTransformer  0.891621  0.891621   \n",
       "40  RandomForestClassifier         RobustScaler  0.889800  0.889800   \n",
       "4   RandomForestClassifier       StandardScaler  0.888889  0.888889   \n",
       "\n",
       "    Precision  F1-Score  \n",
       "52   0.895048  0.893334  \n",
       "81   0.893708  0.892452  \n",
       "64   0.893408  0.891498  \n",
       "40   0.891777  0.889660  \n",
       "4    0.891178  0.888726  "
      ]
     },
     "execution_count": 16,
     "metadata": {},
     "output_type": "execute_result"
    }
   ],
   "source": [
    "results = pd.DataFrame(results, columns=['Classifier', 'Scaler', 'Accuracy', 'Recall', 'Precision', 'F1-Score'])\n",
    "results = results.sort_values(by='Accuracy', ascending=False)\n",
    "results.head()"
   ]
  },
  {
   "cell_type": "code",
   "execution_count": 17,
   "id": "b728fb4b",
   "metadata": {
    "execution": {
     "iopub.execute_input": "2023-11-25T11:46:57.199914Z",
     "iopub.status.busy": "2023-11-25T11:46:57.199498Z",
     "iopub.status.idle": "2023-11-25T11:46:57.501385Z",
     "shell.execute_reply": "2023-11-25T11:46:57.500285Z"
    },
    "papermill": {
     "duration": 0.315549,
     "end_time": "2023-11-25T11:46:57.503709",
     "exception": false,
     "start_time": "2023-11-25T11:46:57.188160",
     "status": "completed"
    },
    "tags": []
   },
   "outputs": [
    {
     "data": {
      "text/plain": [
       "Pipeline(steps=[('scaler', PowerTransformer()),\n",
       "                ('classifier', RandomForestClassifier())])"
      ]
     },
     "execution_count": 17,
     "metadata": {},
     "output_type": "execute_result"
    }
   ],
   "source": [
    "model = Pipeline([\n",
    "    ('scaler',PowerTransformer()),\n",
    "    ('classifier',RandomForestClassifier())\n",
    "])\n",
    "model.fit(X_resampled,Y_resampled)"
   ]
  },
  {
   "cell_type": "code",
   "execution_count": 18,
   "id": "6f2f0a9f",
   "metadata": {
    "execution": {
     "iopub.execute_input": "2023-11-25T11:46:57.525957Z",
     "iopub.status.busy": "2023-11-25T11:46:57.525554Z",
     "iopub.status.idle": "2023-11-25T11:46:57.534808Z",
     "shell.execute_reply": "2023-11-25T11:46:57.533820Z"
    },
    "papermill": {
     "duration": 0.023267,
     "end_time": "2023-11-25T11:46:57.537454",
     "exception": false,
     "start_time": "2023-11-25T11:46:57.514187",
     "status": "completed"
    },
    "tags": []
   },
   "outputs": [],
   "source": [
    "test_data['Cabin'].fillna('Unknown',inplace=True)\n",
    "test_data['Age'].fillna(test_data['Age'].mean(),inplace=True)\n",
    "test_data['Fare'].fillna(test_data['Fare'].mean(),inplace=True)\n",
    "test_data['Embarked'].fillna('Unknown',inplace=True)"
   ]
  },
  {
   "cell_type": "code",
   "execution_count": 19,
   "id": "4aca9333",
   "metadata": {
    "execution": {
     "iopub.execute_input": "2023-11-25T11:46:57.562458Z",
     "iopub.status.busy": "2023-11-25T11:46:57.562130Z",
     "iopub.status.idle": "2023-11-25T11:46:57.572855Z",
     "shell.execute_reply": "2023-11-25T11:46:57.571791Z"
    },
    "papermill": {
     "duration": 0.025124,
     "end_time": "2023-11-25T11:46:57.575225",
     "exception": false,
     "start_time": "2023-11-25T11:46:57.550101",
     "status": "completed"
    },
    "tags": []
   },
   "outputs": [],
   "source": [
    "label_encoder = LabelEncoder()\n",
    "for col in test_data.columns:\n",
    "    if test_data[col].dtype == 'object':\n",
    "        test_data[col] = label_encoder.fit_transform(test_data[col])"
   ]
  },
  {
   "cell_type": "code",
   "execution_count": 20,
   "id": "6eda06ae",
   "metadata": {
    "execution": {
     "iopub.execute_input": "2023-11-25T11:46:57.596952Z",
     "iopub.status.busy": "2023-11-25T11:46:57.596604Z",
     "iopub.status.idle": "2023-11-25T11:46:57.612418Z",
     "shell.execute_reply": "2023-11-25T11:46:57.611352Z"
    },
    "papermill": {
     "duration": 0.029494,
     "end_time": "2023-11-25T11:46:57.615101",
     "exception": false,
     "start_time": "2023-11-25T11:46:57.585607",
     "status": "completed"
    },
    "tags": []
   },
   "outputs": [
    {
     "data": {
      "text/html": [
       "<div>\n",
       "<style scoped>\n",
       "    .dataframe tbody tr th:only-of-type {\n",
       "        vertical-align: middle;\n",
       "    }\n",
       "\n",
       "    .dataframe tbody tr th {\n",
       "        vertical-align: top;\n",
       "    }\n",
       "\n",
       "    .dataframe thead th {\n",
       "        text-align: right;\n",
       "    }\n",
       "</style>\n",
       "<table border=\"1\" class=\"dataframe\">\n",
       "  <thead>\n",
       "    <tr style=\"text-align: right;\">\n",
       "      <th></th>\n",
       "      <th>PassengerId</th>\n",
       "      <th>Pclass</th>\n",
       "      <th>Name</th>\n",
       "      <th>Sex</th>\n",
       "      <th>Age</th>\n",
       "      <th>SibSp</th>\n",
       "      <th>Parch</th>\n",
       "      <th>Ticket</th>\n",
       "      <th>Fare</th>\n",
       "      <th>Cabin</th>\n",
       "      <th>Embarked</th>\n",
       "    </tr>\n",
       "  </thead>\n",
       "  <tbody>\n",
       "    <tr>\n",
       "      <th>0</th>\n",
       "      <td>892</td>\n",
       "      <td>3</td>\n",
       "      <td>206</td>\n",
       "      <td>1</td>\n",
       "      <td>34.5</td>\n",
       "      <td>0</td>\n",
       "      <td>0</td>\n",
       "      <td>152</td>\n",
       "      <td>7.8292</td>\n",
       "      <td>76</td>\n",
       "      <td>1</td>\n",
       "    </tr>\n",
       "    <tr>\n",
       "      <th>1</th>\n",
       "      <td>893</td>\n",
       "      <td>3</td>\n",
       "      <td>403</td>\n",
       "      <td>0</td>\n",
       "      <td>47.0</td>\n",
       "      <td>1</td>\n",
       "      <td>0</td>\n",
       "      <td>221</td>\n",
       "      <td>7.0000</td>\n",
       "      <td>76</td>\n",
       "      <td>2</td>\n",
       "    </tr>\n",
       "    <tr>\n",
       "      <th>2</th>\n",
       "      <td>894</td>\n",
       "      <td>2</td>\n",
       "      <td>269</td>\n",
       "      <td>1</td>\n",
       "      <td>62.0</td>\n",
       "      <td>0</td>\n",
       "      <td>0</td>\n",
       "      <td>73</td>\n",
       "      <td>9.6875</td>\n",
       "      <td>76</td>\n",
       "      <td>1</td>\n",
       "    </tr>\n",
       "    <tr>\n",
       "      <th>3</th>\n",
       "      <td>895</td>\n",
       "      <td>3</td>\n",
       "      <td>408</td>\n",
       "      <td>1</td>\n",
       "      <td>27.0</td>\n",
       "      <td>0</td>\n",
       "      <td>0</td>\n",
       "      <td>147</td>\n",
       "      <td>8.6625</td>\n",
       "      <td>76</td>\n",
       "      <td>2</td>\n",
       "    </tr>\n",
       "    <tr>\n",
       "      <th>4</th>\n",
       "      <td>896</td>\n",
       "      <td>3</td>\n",
       "      <td>178</td>\n",
       "      <td>0</td>\n",
       "      <td>22.0</td>\n",
       "      <td>1</td>\n",
       "      <td>1</td>\n",
       "      <td>138</td>\n",
       "      <td>12.2875</td>\n",
       "      <td>76</td>\n",
       "      <td>2</td>\n",
       "    </tr>\n",
       "  </tbody>\n",
       "</table>\n",
       "</div>"
      ],
      "text/plain": [
       "   PassengerId  Pclass  Name  Sex   Age  SibSp  Parch  Ticket     Fare  Cabin  \\\n",
       "0          892       3   206    1  34.5      0      0     152   7.8292     76   \n",
       "1          893       3   403    0  47.0      1      0     221   7.0000     76   \n",
       "2          894       2   269    1  62.0      0      0      73   9.6875     76   \n",
       "3          895       3   408    1  27.0      0      0     147   8.6625     76   \n",
       "4          896       3   178    0  22.0      1      1     138  12.2875     76   \n",
       "\n",
       "   Embarked  \n",
       "0         1  \n",
       "1         2  \n",
       "2         1  \n",
       "3         2  \n",
       "4         2  "
      ]
     },
     "execution_count": 20,
     "metadata": {},
     "output_type": "execute_result"
    }
   ],
   "source": [
    "test_data.head()"
   ]
  },
  {
   "cell_type": "code",
   "execution_count": 21,
   "id": "fd59caca",
   "metadata": {
    "execution": {
     "iopub.execute_input": "2023-11-25T11:46:57.641037Z",
     "iopub.status.busy": "2023-11-25T11:46:57.640660Z",
     "iopub.status.idle": "2023-11-25T11:46:57.651215Z",
     "shell.execute_reply": "2023-11-25T11:46:57.650239Z"
    },
    "papermill": {
     "duration": 0.025733,
     "end_time": "2023-11-25T11:46:57.653566",
     "exception": false,
     "start_time": "2023-11-25T11:46:57.627833",
     "status": "completed"
    },
    "tags": []
   },
   "outputs": [
    {
     "data": {
      "text/plain": [
       "PassengerId    0\n",
       "Pclass         0\n",
       "Name           0\n",
       "Sex            0\n",
       "Age            0\n",
       "SibSp          0\n",
       "Parch          0\n",
       "Ticket         0\n",
       "Fare           0\n",
       "Cabin          0\n",
       "Embarked       0\n",
       "dtype: int64"
      ]
     },
     "execution_count": 21,
     "metadata": {},
     "output_type": "execute_result"
    }
   ],
   "source": [
    "test_data.isnull().sum()"
   ]
  },
  {
   "cell_type": "code",
   "execution_count": 22,
   "id": "4d786db5",
   "metadata": {
    "execution": {
     "iopub.execute_input": "2023-11-25T11:46:57.678230Z",
     "iopub.status.busy": "2023-11-25T11:46:57.677853Z",
     "iopub.status.idle": "2023-11-25T11:46:57.710820Z",
     "shell.execute_reply": "2023-11-25T11:46:57.710005Z"
    },
    "papermill": {
     "duration": 0.047807,
     "end_time": "2023-11-25T11:46:57.713147",
     "exception": false,
     "start_time": "2023-11-25T11:46:57.665340",
     "status": "completed"
    },
    "tags": []
   },
   "outputs": [],
   "source": [
    "test_X = test_data.drop(['PassengerId','Name'], axis=1)\n",
    "test_Y = model.predict(test_X)"
   ]
  },
  {
   "cell_type": "code",
   "execution_count": 23,
   "id": "61bd5f4c",
   "metadata": {
    "execution": {
     "iopub.execute_input": "2023-11-25T11:46:57.737095Z",
     "iopub.status.busy": "2023-11-25T11:46:57.736737Z",
     "iopub.status.idle": "2023-11-25T11:46:57.745478Z",
     "shell.execute_reply": "2023-11-25T11:46:57.744491Z"
    },
    "papermill": {
     "duration": 0.023054,
     "end_time": "2023-11-25T11:46:57.747691",
     "exception": false,
     "start_time": "2023-11-25T11:46:57.724637",
     "status": "completed"
    },
    "tags": []
   },
   "outputs": [
    {
     "data": {
      "text/plain": [
       "0       892\n",
       "1       893\n",
       "2       894\n",
       "3       895\n",
       "4       896\n",
       "       ... \n",
       "413    1305\n",
       "414    1306\n",
       "415    1307\n",
       "416    1308\n",
       "417    1309\n",
       "Name: PassengerId, Length: 418, dtype: int64"
      ]
     },
     "execution_count": 23,
     "metadata": {},
     "output_type": "execute_result"
    }
   ],
   "source": [
    "test_data['PassengerId']"
   ]
  },
  {
   "cell_type": "code",
   "execution_count": 24,
   "id": "2f7289a8",
   "metadata": {
    "execution": {
     "iopub.execute_input": "2023-11-25T11:46:57.772190Z",
     "iopub.status.busy": "2023-11-25T11:46:57.771863Z",
     "iopub.status.idle": "2023-11-25T11:46:57.779459Z",
     "shell.execute_reply": "2023-11-25T11:46:57.778445Z"
    },
    "papermill": {
     "duration": 0.022412,
     "end_time": "2023-11-25T11:46:57.781788",
     "exception": false,
     "start_time": "2023-11-25T11:46:57.759376",
     "status": "completed"
    },
    "tags": []
   },
   "outputs": [
    {
     "data": {
      "text/plain": [
       "array([0, 0, 0, 1, 1, 0, 1, 1, 1, 0, 0, 0, 1, 0, 1, 1, 0, 1, 1, 1, 0, 1,\n",
       "       1, 1, 1, 0, 1, 1, 0, 0, 0, 0, 1, 0, 1, 1, 1, 1, 1, 1, 0, 0, 0, 1,\n",
       "       1, 0, 0, 0, 1, 1, 1, 0, 1, 1, 0, 0, 0, 0, 0, 1, 0, 1, 0, 1, 1, 1,\n",
       "       1, 0, 1, 1, 1, 0, 1, 1, 1, 0, 1, 1, 1, 1, 1, 0, 0, 0, 0, 1, 1, 1,\n",
       "       1, 1, 1, 1, 1, 0, 1, 0, 1, 0, 1, 0, 1, 1, 0, 1, 1, 1, 1, 0, 1, 1,\n",
       "       0, 1, 1, 1, 1, 1, 0, 1, 0, 1, 1, 0, 1, 0, 0, 1, 0, 1, 0, 1, 0, 0,\n",
       "       1, 0, 0, 0, 1, 1, 1, 0, 0, 1, 0, 1, 1, 1, 0, 0, 0, 1, 1, 0, 0, 1,\n",
       "       1, 0, 1, 1, 0, 1, 1, 1, 1, 1, 0, 1, 1, 0, 1, 1, 0, 1, 1, 0, 1, 1,\n",
       "       1, 0, 1, 1, 0, 0, 1, 0, 1, 0, 1, 0, 0, 0, 0, 0, 1, 0, 1, 0, 1, 1,\n",
       "       0, 0, 1, 1, 0, 1, 0, 1, 1, 0, 1, 0, 1, 0, 0, 1, 1, 0, 1, 0, 1, 0,\n",
       "       1, 1, 1, 1, 1, 1, 0, 1, 0, 0, 1, 1, 0, 0, 0, 0, 0, 1, 1, 1, 1, 1,\n",
       "       1, 0, 0, 0, 1, 0, 1, 1, 1, 0, 1, 0, 0, 0, 0, 1, 1, 1, 0, 0, 1, 1,\n",
       "       0, 0, 0, 0, 0, 0, 0, 0, 1, 1, 0, 1, 0, 0, 0, 0, 1, 1, 1, 1, 1, 0,\n",
       "       0, 1, 0, 0, 0, 0, 0, 1, 0, 0, 1, 0, 0, 0, 0, 0, 0, 1, 1, 1, 1, 1,\n",
       "       1, 1, 0, 1, 0, 1, 1, 1, 1, 0, 1, 0, 1, 1, 1, 0, 1, 0, 1, 0, 0, 1,\n",
       "       1, 0, 0, 1, 1, 0, 1, 0, 1, 0, 0, 0, 0, 1, 0, 1, 1, 1, 1, 1, 1, 0,\n",
       "       0, 1, 1, 0, 1, 0, 0, 1, 0, 1, 1, 1, 1, 1, 1, 1, 1, 1, 0, 1, 0, 0,\n",
       "       1, 1, 1, 1, 0, 1, 0, 1, 1, 1, 0, 1, 0, 0, 0, 1, 1, 1, 1, 0, 1, 1,\n",
       "       0, 1, 0, 0, 1, 0, 1, 1, 0, 0, 0, 0, 1, 1, 1, 1, 1, 0, 1, 0, 1, 1])"
      ]
     },
     "execution_count": 24,
     "metadata": {},
     "output_type": "execute_result"
    }
   ],
   "source": [
    "test_Y"
   ]
  },
  {
   "cell_type": "code",
   "execution_count": 25,
   "id": "42abfe04",
   "metadata": {
    "execution": {
     "iopub.execute_input": "2023-11-25T11:46:57.805883Z",
     "iopub.status.busy": "2023-11-25T11:46:57.805556Z",
     "iopub.status.idle": "2023-11-25T11:46:57.811249Z",
     "shell.execute_reply": "2023-11-25T11:46:57.810261Z"
    },
    "papermill": {
     "duration": 0.020139,
     "end_time": "2023-11-25T11:46:57.813434",
     "exception": false,
     "start_time": "2023-11-25T11:46:57.793295",
     "status": "completed"
    },
    "tags": []
   },
   "outputs": [],
   "source": [
    "submission = pd.DataFrame({\"PassengerId\":test_data['PassengerId'],\"Survived\":test_Y})"
   ]
  },
  {
   "cell_type": "code",
   "execution_count": 26,
   "id": "4bfb7e1f",
   "metadata": {
    "execution": {
     "iopub.execute_input": "2023-11-25T11:46:57.837394Z",
     "iopub.status.busy": "2023-11-25T11:46:57.837069Z",
     "iopub.status.idle": "2023-11-25T11:46:57.845212Z",
     "shell.execute_reply": "2023-11-25T11:46:57.844186Z"
    },
    "papermill": {
     "duration": 0.022706,
     "end_time": "2023-11-25T11:46:57.847419",
     "exception": false,
     "start_time": "2023-11-25T11:46:57.824713",
     "status": "completed"
    },
    "tags": []
   },
   "outputs": [],
   "source": [
    "submission.to_csv(\"submission.csv\",index=False)"
   ]
  }
 ],
 "metadata": {
  "kaggle": {
   "accelerator": "gpu",
   "dataSources": [
    {
     "databundleVersionId": 26502,
     "sourceId": 3136,
     "sourceType": "competition"
    }
   ],
   "dockerImageVersionId": 30369,
   "isGpuEnabled": true,
   "isInternetEnabled": true,
   "language": "python",
   "sourceType": "notebook"
  },
  "kernelspec": {
   "display_name": "Python 3",
   "language": "python",
   "name": "python3"
  },
  "language_info": {
   "codemirror_mode": {
    "name": "ipython",
    "version": 3
   },
   "file_extension": ".py",
   "mimetype": "text/x-python",
   "name": "python",
   "nbconvert_exporter": "python",
   "pygments_lexer": "ipython3",
   "version": "3.7.12"
  },
  "papermill": {
   "default_parameters": {},
   "duration": 326.212442,
   "end_time": "2023-11-25T11:46:59.080894",
   "environment_variables": {},
   "exception": null,
   "input_path": "__notebook__.ipynb",
   "output_path": "__notebook__.ipynb",
   "parameters": {},
   "start_time": "2023-11-25T11:41:32.868452",
   "version": "2.3.4"
  }
 },
 "nbformat": 4,
 "nbformat_minor": 5
}
