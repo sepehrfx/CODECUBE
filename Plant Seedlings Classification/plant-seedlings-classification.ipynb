{
 "cells": [
  {
   "cell_type": "markdown",
   "id": "65a19b78",
   "metadata": {
    "papermill": {
     "duration": 0.004106,
     "end_time": "2023-11-21T07:54:53.225530",
     "exception": false,
     "start_time": "2023-11-21T07:54:53.221424",
     "status": "completed"
    },
    "tags": []
   },
   "source": [
    "<div style=\"background-color:#3b5998; border-radius:2px; border:#000000 solid; padding: 15px; font-size:100%; text-align:center\">\n",
    "    <h1 align=\"center\" style=\"color:#ffffff;\"><b>PLANT SEEDLINGS CLASSIFICATION 🔍</b></h1>\n",
    "</div>"
   ]
  },
  {
   "cell_type": "markdown",
   "id": "bd0a9c0f",
   "metadata": {
    "papermill": {
     "duration": 0.003623,
     "end_time": "2023-11-21T07:54:53.233449",
     "exception": false,
     "start_time": "2023-11-21T07:54:53.229826",
     "status": "completed"
    },
    "tags": []
   },
   "source": [
    "<div style=\"background-color:#ffffff; border-radius:2px; border:#000000 solid; padding: 15px; font-size:100%; text-align:center\">\n",
    "    <img src=\"https://media.tenor.com/q5eSKo33o3wAAAAd/planting-linus-van-pelt.gif\" alt=\"Animated GIF\">\n",
    "</div>"
   ]
  },
  {
   "cell_type": "markdown",
   "id": "22689c4f",
   "metadata": {
    "papermill": {
     "duration": 0.004747,
     "end_time": "2023-11-21T07:54:53.241859",
     "exception": false,
     "start_time": "2023-11-21T07:54:53.237112",
     "status": "completed"
    },
    "tags": []
   },
   "source": [
    "<div style=\"background-color:#dfe3ee; border-radius:2px; border:#000000 solid; padding: 15px; font-size:100%; text-align:center\">\n",
    "    <h2 align=\"center\" style=\"color:#000000;\"><b>IMPORT DEPENDENCIES</b></h2>\n",
    "</div>"
   ]
  },
  {
   "cell_type": "code",
   "execution_count": 1,
   "id": "5553f83b",
   "metadata": {
    "execution": {
     "iopub.execute_input": "2023-11-21T07:54:53.250588Z",
     "iopub.status.busy": "2023-11-21T07:54:53.250087Z",
     "iopub.status.idle": "2023-11-21T07:54:58.318350Z",
     "shell.execute_reply": "2023-11-21T07:54:58.317241Z"
    },
    "papermill": {
     "duration": 5.075266,
     "end_time": "2023-11-21T07:54:58.320449",
     "exception": false,
     "start_time": "2023-11-21T07:54:53.245183",
     "status": "completed"
    },
    "tags": []
   },
   "outputs": [
    {
     "name": "stdout",
     "output_type": "stream",
     "text": [
      "\u001b[33mWARNING: Running pip as the 'root' user can result in broken permissions and conflicting behaviour with the system package manager. It is recommended to use a virtual environment instead: https://pip.pypa.io/warnings/venv\u001b[0m\u001b[33m\r\n",
      "\u001b[0m\r\n",
      "\u001b[1m[\u001b[0m\u001b[34;49mnotice\u001b[0m\u001b[1;39;49m]\u001b[0m\u001b[39;49m A new release of pip is available: \u001b[0m\u001b[31;49m23.0.1\u001b[0m\u001b[39;49m -> \u001b[0m\u001b[32;49m23.3.1\u001b[0m\r\n",
      "\u001b[1m[\u001b[0m\u001b[34;49mnotice\u001b[0m\u001b[1;39;49m]\u001b[0m\u001b[39;49m To update, run: \u001b[0m\u001b[32;49mpip install --upgrade pip\u001b[0m\r\n"
     ]
    }
   ],
   "source": [
    "!pip3 install -q seaborn tensorflow pillow scikit-learn pydot graphviz"
   ]
  },
  {
   "cell_type": "code",
   "execution_count": 2,
   "id": "00d99fec",
   "metadata": {
    "execution": {
     "iopub.execute_input": "2023-11-21T07:54:58.329693Z",
     "iopub.status.busy": "2023-11-21T07:54:58.329413Z",
     "iopub.status.idle": "2023-11-21T07:55:17.497369Z",
     "shell.execute_reply": "2023-11-21T07:55:17.496476Z"
    },
    "papermill": {
     "duration": 19.175022,
     "end_time": "2023-11-21T07:55:17.499528",
     "exception": false,
     "start_time": "2023-11-21T07:54:58.324506",
     "status": "completed"
    },
    "tags": []
   },
   "outputs": [],
   "source": [
    "# Standard Libraries\n",
    "import os\n",
    "import warnings\n",
    "\n",
    "# External Libraries\n",
    "import numpy as np\n",
    "import pandas as pd\n",
    "import matplotlib.pyplot as plt\n",
    "import seaborn as sns\n",
    "import tensorflow as tf\n",
    "from PIL import Image\n",
    "from numpy import array, asarray\n",
    "from sklearn.model_selection import KFold\n",
    "from sklearn.metrics import accuracy_score, confusion_matrix\n",
    "\n",
    "# TensorFlow and Keras\n",
    "from tensorflow.keras import Sequential\n",
    "from tensorflow.keras.layers import (\n",
    "    Dense,\n",
    "    Flatten,\n",
    "    Conv2D,\n",
    "    MaxPooling2D,\n",
    "    GlobalAveragePooling2D,\n",
    ")\n",
    "from tensorflow.keras.models import Model\n",
    "from tensorflow.keras.preprocessing.image import ImageDataGenerator\n",
    "from tensorflow.keras.applications.vgg19 import VGG19\n",
    "from tensorflow.keras.utils import plot_model\n",
    "from tensorflow.keras.applications.mobilenet import preprocess_input\n",
    "\n",
    "# Other Utilities\n",
    "import base64\n",
    "from IPython.display import HTML, display\n",
    "\n",
    "# Set seed and constants\n",
    "np.random.seed(42)\n",
    "kf = KFold(n_splits=5)\n",
    "epochs = 20\n",
    "batch_size = 32\n",
    "\n",
    "# Suppress warnings\n",
    "warnings.filterwarnings(\"ignore\")"
   ]
  },
  {
   "cell_type": "markdown",
   "id": "dbef909f",
   "metadata": {
    "papermill": {
     "duration": 0.004017,
     "end_time": "2023-11-21T07:55:17.507689",
     "exception": false,
     "start_time": "2023-11-21T07:55:17.503672",
     "status": "completed"
    },
    "tags": []
   },
   "source": [
    "<div style=\"background-color:#dfe3ee; border-radius:2px; border:#000000 solid; padding: 15px; font-size:100%; text-align:center\">\n",
    "    <h2 align=\"center\" style=\"color:#000000;\"><b>DATA PREPARATION</b></h2>\n",
    "</div>"
   ]
  },
  {
   "cell_type": "code",
   "execution_count": 3,
   "id": "0eccbff2",
   "metadata": {
    "execution": {
     "iopub.execute_input": "2023-11-21T07:55:17.517050Z",
     "iopub.status.busy": "2023-11-21T07:55:17.516561Z",
     "iopub.status.idle": "2023-11-21T07:56:39.447781Z",
     "shell.execute_reply": "2023-11-21T07:56:39.446856Z"
    },
    "papermill": {
     "duration": 81.938943,
     "end_time": "2023-11-21T07:56:39.450284",
     "exception": false,
     "start_time": "2023-11-21T07:55:17.511341",
     "status": "completed"
    },
    "tags": []
   },
   "outputs": [],
   "source": [
    "pathToTrainData='/kaggle/input/plant-seedlings-classification/train'\n",
    "pathToTestData ='/kaggle/input/plant-seedlings-classification/test'\n",
    "\n",
    "training_img_list = list()\n",
    "testing_img_list  = list()\n",
    "\n",
    "shape_sum       = 0\n",
    "class_name_num  = dict()\n",
    "train_avg_shape = 80\n",
    "\n",
    "for dirname, _, filenames in os.walk(pathToTrainData):\n",
    "    for filename in filenames:\n",
    "        img_data = Image.open(os.path.join(dirname, filename))\n",
    "        \n",
    "        resizedImage = img_data.resize((train_avg_shape, train_avg_shape))\n",
    "        resizedImage = resizedImage.convert('RGB')\n",
    "        resizedImage = asarray(resizedImage)/255\n",
    "        \n",
    "        class_label = dirname.split('/')[-1]\n",
    "        training_img_list.append([resizedImage, class_label])\n",
    "        shape_sum += np.max(img_data.size)\n",
    "        class_name_num[class_label] = len(class_name_num)-1\n",
    "        \n",
    "\n",
    "for dirname, _, filenames in os.walk(pathToTestData):\n",
    "    for filename in filenames:\n",
    "        img_data = Image.open(os.path.join(dirname, filename))\n",
    "        \n",
    "        resizedImage = img_data.resize((train_avg_shape, train_avg_shape))\n",
    "        resizedImage = resizedImage.convert('RGB')\n",
    "        resizedImage = asarray(resizedImage)/255\n",
    "\n",
    "        testing_img_list.append([resizedImage,filename])\n",
    "\n",
    "X_test = np.zeros((len(testing_img_list), train_avg_shape, train_avg_shape, 3), dtype='float32')\n",
    "for i,img in enumerate(testing_img_list):\n",
    "    X_test[i] = testing_img_list[i][0]"
   ]
  },
  {
   "cell_type": "markdown",
   "id": "fee38f71",
   "metadata": {
    "papermill": {
     "duration": 0.003615,
     "end_time": "2023-11-21T07:56:39.457940",
     "exception": false,
     "start_time": "2023-11-21T07:56:39.454325",
     "status": "completed"
    },
    "tags": []
   },
   "source": [
    "<div style=\"background-color:#dfe3ee; border-radius:2px; border:#000000 solid; padding: 15px; font-size:100%; text-align:center\">\n",
    "    <h2 align=\"center\" style=\"color:#000000;\"><b>BUILD/TRAIN MODEL</b></h2>\n",
    "</div>"
   ]
  },
  {
   "cell_type": "code",
   "execution_count": 4,
   "id": "95e96e5b",
   "metadata": {
    "execution": {
     "iopub.execute_input": "2023-11-21T07:56:39.467413Z",
     "iopub.status.busy": "2023-11-21T07:56:39.467123Z",
     "iopub.status.idle": "2023-11-21T07:56:44.124683Z",
     "shell.execute_reply": "2023-11-21T07:56:44.123640Z"
    },
    "papermill": {
     "duration": 4.664667,
     "end_time": "2023-11-21T07:56:44.126680",
     "exception": false,
     "start_time": "2023-11-21T07:56:39.462013",
     "status": "completed"
    },
    "tags": []
   },
   "outputs": [
    {
     "name": "stderr",
     "output_type": "stream",
     "text": [
      "2023-11-21 07:56:43.115536: E ./tensorflow/compiler/xla/stream_executor/stream_executor_internal.h:124] SetPriority unimplemented for this stream.\n",
      "2023-11-21 07:56:43.115658: E ./tensorflow/compiler/xla/stream_executor/stream_executor_internal.h:124] SetPriority unimplemented for this stream.\n",
      "2023-11-21 07:56:43.115744: E ./tensorflow/compiler/xla/stream_executor/stream_executor_internal.h:124] SetPriority unimplemented for this stream.\n",
      "2023-11-21 07:56:43.115822: E ./tensorflow/compiler/xla/stream_executor/stream_executor_internal.h:124] SetPriority unimplemented for this stream.\n",
      "2023-11-21 07:56:43.115890: E ./tensorflow/compiler/xla/stream_executor/stream_executor_internal.h:124] SetPriority unimplemented for this stream.\n",
      "2023-11-21 07:56:43.116113: E ./tensorflow/compiler/xla/stream_executor/stream_executor_internal.h:124] SetPriority unimplemented for this stream.\n",
      "2023-11-21 07:56:43.116210: E ./tensorflow/compiler/xla/stream_executor/stream_executor_internal.h:124] SetPriority unimplemented for this stream.\n",
      "2023-11-21 07:56:43.116291: E ./tensorflow/compiler/xla/stream_executor/stream_executor_internal.h:124] SetPriority unimplemented for this stream.\n",
      "2023-11-21 07:56:43.116386: E ./tensorflow/compiler/xla/stream_executor/stream_executor_internal.h:124] SetPriority unimplemented for this stream.\n",
      "2023-11-21 07:56:43.116472: E ./tensorflow/compiler/xla/stream_executor/stream_executor_internal.h:124] SetPriority unimplemented for this stream.\n",
      "2023-11-21 07:56:43.116658: E ./tensorflow/compiler/xla/stream_executor/stream_executor_internal.h:124] SetPriority unimplemented for this stream.\n",
      "2023-11-21 07:56:43.116755: E ./tensorflow/compiler/xla/stream_executor/stream_executor_internal.h:124] SetPriority unimplemented for this stream.\n",
      "2023-11-21 07:56:43.116909: E ./tensorflow/compiler/xla/stream_executor/stream_executor_internal.h:124] SetPriority unimplemented for this stream.\n",
      "2023-11-21 07:56:43.117032: E ./tensorflow/compiler/xla/stream_executor/stream_executor_internal.h:124] SetPriority unimplemented for this stream.\n",
      "2023-11-21 07:56:43.117131: E ./tensorflow/compiler/xla/stream_executor/stream_executor_internal.h:124] SetPriority unimplemented for this stream.\n",
      "2023-11-21 07:56:43.117343: E ./tensorflow/compiler/xla/stream_executor/stream_executor_internal.h:124] SetPriority unimplemented for this stream.\n",
      "2023-11-21 07:56:43.117435: E ./tensorflow/compiler/xla/stream_executor/stream_executor_internal.h:124] SetPriority unimplemented for this stream.\n",
      "2023-11-21 07:56:43.117520: E ./tensorflow/compiler/xla/stream_executor/stream_executor_internal.h:124] SetPriority unimplemented for this stream.\n",
      "2023-11-21 07:56:43.117608: E ./tensorflow/compiler/xla/stream_executor/stream_executor_internal.h:124] SetPriority unimplemented for this stream.\n",
      "2023-11-21 07:56:43.117693: E ./tensorflow/compiler/xla/stream_executor/stream_executor_internal.h:124] SetPriority unimplemented for this stream.\n",
      "2023-11-21 07:56:43.117885: E ./tensorflow/compiler/xla/stream_executor/stream_executor_internal.h:124] SetPriority unimplemented for this stream.\n",
      "2023-11-21 07:56:43.117970: E ./tensorflow/compiler/xla/stream_executor/stream_executor_internal.h:124] SetPriority unimplemented for this stream.\n",
      "2023-11-21 07:56:43.118048: E ./tensorflow/compiler/xla/stream_executor/stream_executor_internal.h:124] SetPriority unimplemented for this stream.\n",
      "2023-11-21 07:56:43.118154: E ./tensorflow/compiler/xla/stream_executor/stream_executor_internal.h:124] SetPriority unimplemented for this stream.\n",
      "2023-11-21 07:56:43.118263: E ./tensorflow/compiler/xla/stream_executor/stream_executor_internal.h:124] SetPriority unimplemented for this stream.\n",
      "2023-11-21 07:56:43.118523: E ./tensorflow/compiler/xla/stream_executor/stream_executor_internal.h:124] SetPriority unimplemented for this stream.\n",
      "2023-11-21 07:56:43.118613: E ./tensorflow/compiler/xla/stream_executor/stream_executor_internal.h:124] SetPriority unimplemented for this stream.\n",
      "2023-11-21 07:56:43.118700: E ./tensorflow/compiler/xla/stream_executor/stream_executor_internal.h:124] SetPriority unimplemented for this stream.\n",
      "2023-11-21 07:56:43.118783: E ./tensorflow/compiler/xla/stream_executor/stream_executor_internal.h:124] SetPriority unimplemented for this stream.\n",
      "2023-11-21 07:56:43.118863: E ./tensorflow/compiler/xla/stream_executor/stream_executor_internal.h:124] SetPriority unimplemented for this stream.\n",
      "2023-11-21 07:56:43.119134: E ./tensorflow/compiler/xla/stream_executor/stream_executor_internal.h:124] SetPriority unimplemented for this stream.\n",
      "2023-11-21 07:56:43.119232: E ./tensorflow/compiler/xla/stream_executor/stream_executor_internal.h:124] SetPriority unimplemented for this stream.\n",
      "2023-11-21 07:56:43.119326: E ./tensorflow/compiler/xla/stream_executor/stream_executor_internal.h:124] SetPriority unimplemented for this stream.\n",
      "2023-11-21 07:56:43.119449: E ./tensorflow/compiler/xla/stream_executor/stream_executor_internal.h:124] SetPriority unimplemented for this stream.\n",
      "2023-11-21 07:56:43.119541: E ./tensorflow/compiler/xla/stream_executor/stream_executor_internal.h:124] SetPriority unimplemented for this stream.\n",
      "2023-11-21 07:56:43.119792: E ./tensorflow/compiler/xla/stream_executor/stream_executor_internal.h:124] SetPriority unimplemented for this stream.\n",
      "2023-11-21 07:56:43.119886: E ./tensorflow/compiler/xla/stream_executor/stream_executor_internal.h:124] SetPriority unimplemented for this stream.\n",
      "2023-11-21 07:56:43.119970: E ./tensorflow/compiler/xla/stream_executor/stream_executor_internal.h:124] SetPriority unimplemented for this stream.\n",
      "2023-11-21 07:56:43.120064: E ./tensorflow/compiler/xla/stream_executor/stream_executor_internal.h:124] SetPriority unimplemented for this stream.\n",
      "2023-11-21 07:56:43.120166: E ./tensorflow/compiler/xla/stream_executor/stream_executor_internal.h:124] SetPriority unimplemented for this stream.\n"
     ]
    },
    {
     "name": "stdout",
     "output_type": "stream",
     "text": [
      "Downloading data from https://storage.googleapis.com/tensorflow/keras-applications/vgg19/vgg19_weights_tf_dim_ordering_tf_kernels_notop.h5\n",
      "80134624/80134624 [==============================] - 0s 0us/step\n",
      "You must install pydot (`pip install pydot`) and install graphviz (see instructions at https://graphviz.gitlab.io/download/) for plot_model to work.\n",
      "Error: File '/kaggle/working/VGG19Original.png' not found.\n"
     ]
    }
   ],
   "source": [
    "VGG19_MODEL = VGG19(weights='imagenet', include_top=False)\n",
    "# Specify the path to save the plot\n",
    "plot_path = '/kaggle/working/VGG19Original.png'\n",
    "# Save the plot to the specified path\n",
    "plot_model(VGG19_MODEL, to_file=plot_path, show_shapes=True, show_layer_names=True)\n",
    "# Check if the file exists before reading\n",
    "if os.path.exists(plot_path):\n",
    "    with open(plot_path, \"rb\") as img_file:\n",
    "        img_data = img_file.read()\n",
    "    img_base64 = base64.b64encode(img_data).decode(\"utf-8\")\n",
    "\n",
    "    html_code = f'''\n",
    "    <div style=\"background-color:white; border-radius:2px; border:#000000 solid; padding: 15px; font-size:100%; text-align:center;\">\n",
    "        <img src=\"data:image/png;base64,{img_base64}\" style=\"display: block; margin: 0 auto;\">\n",
    "    </div>\n",
    "    '''\n",
    "    display(HTML(html_code))\n",
    "else:\n",
    "    print(f\"Error: File '{plot_path}' not found.\")"
   ]
  },
  {
   "cell_type": "code",
   "execution_count": 5,
   "id": "139ac359",
   "metadata": {
    "execution": {
     "iopub.execute_input": "2023-11-21T07:56:44.137648Z",
     "iopub.status.busy": "2023-11-21T07:56:44.137377Z",
     "iopub.status.idle": "2023-11-21T07:56:44.186516Z",
     "shell.execute_reply": "2023-11-21T07:56:44.185472Z"
    },
    "papermill": {
     "duration": 0.056508,
     "end_time": "2023-11-21T07:56:44.188354",
     "exception": false,
     "start_time": "2023-11-21T07:56:44.131846",
     "status": "completed"
    },
    "tags": []
   },
   "outputs": [
    {
     "name": "stdout",
     "output_type": "stream",
     "text": [
      "Model: \"vgg19\"\n",
      "_________________________________________________________________\n",
      " Layer (type)                Output Shape              Param #   \n",
      "=================================================================\n",
      " input_1 (InputLayer)        [(None, None, None, 3)]   0         \n",
      "                                                                 \n",
      " block1_conv1 (Conv2D)       (None, None, None, 64)    1792      \n",
      "                                                                 \n",
      " block1_conv2 (Conv2D)       (None, None, None, 64)    36928     \n",
      "                                                                 \n",
      " block1_pool (MaxPooling2D)  (None, None, None, 64)    0         \n",
      "                                                                 \n",
      " block2_conv1 (Conv2D)       (None, None, None, 128)   73856     \n",
      "                                                                 \n",
      " block2_conv2 (Conv2D)       (None, None, None, 128)   147584    \n",
      "                                                                 \n",
      " block2_pool (MaxPooling2D)  (None, None, None, 128)   0         \n",
      "                                                                 \n",
      " block3_conv1 (Conv2D)       (None, None, None, 256)   295168    \n",
      "                                                                 \n",
      " block3_conv2 (Conv2D)       (None, None, None, 256)   590080    \n",
      "                                                                 \n",
      " block3_conv3 (Conv2D)       (None, None, None, 256)   590080    \n",
      "                                                                 \n",
      " block3_conv4 (Conv2D)       (None, None, None, 256)   590080    \n",
      "                                                                 \n",
      " block3_pool (MaxPooling2D)  (None, None, None, 256)   0         \n",
      "                                                                 \n",
      " block4_conv1 (Conv2D)       (None, None, None, 512)   1180160   \n",
      "                                                                 \n",
      " block4_conv2 (Conv2D)       (None, None, None, 512)   2359808   \n",
      "                                                                 \n",
      " block4_conv3 (Conv2D)       (None, None, None, 512)   2359808   \n",
      "                                                                 \n",
      " block4_conv4 (Conv2D)       (None, None, None, 512)   2359808   \n",
      "                                                                 \n",
      " block4_pool (MaxPooling2D)  (None, None, None, 512)   0         \n",
      "                                                                 \n",
      " block5_conv1 (Conv2D)       (None, None, None, 512)   2359808   \n",
      "                                                                 \n",
      " block5_conv2 (Conv2D)       (None, None, None, 512)   2359808   \n",
      "                                                                 \n",
      " block5_conv3 (Conv2D)       (None, None, None, 512)   2359808   \n",
      "                                                                 \n",
      " block5_conv4 (Conv2D)       (None, None, None, 512)   2359808   \n",
      "                                                                 \n",
      " block5_pool (MaxPooling2D)  (None, None, None, 512)   0         \n",
      "                                                                 \n",
      "=================================================================\n",
      "Total params: 20024384 (76.39 MB)\n",
      "Trainable params: 20024384 (76.39 MB)\n",
      "Non-trainable params: 0 (0.00 Byte)\n",
      "_________________________________________________________________\n"
     ]
    }
   ],
   "source": [
    "VGG19_MODEL.summary();"
   ]
  },
  {
   "cell_type": "code",
   "execution_count": 6,
   "id": "faf0e2f2",
   "metadata": {
    "execution": {
     "iopub.execute_input": "2023-11-21T07:56:44.205222Z",
     "iopub.status.busy": "2023-11-21T07:56:44.204895Z",
     "iopub.status.idle": "2023-11-21T07:56:44.209234Z",
     "shell.execute_reply": "2023-11-21T07:56:44.208487Z"
    },
    "papermill": {
     "duration": 0.014612,
     "end_time": "2023-11-21T07:56:44.210954",
     "exception": false,
     "start_time": "2023-11-21T07:56:44.196342",
     "status": "completed"
    },
    "tags": []
   },
   "outputs": [
    {
     "name": "stdout",
     "output_type": "stream",
     "text": [
      "VGG19 Model Layers Count :22\n"
     ]
    }
   ],
   "source": [
    "print(f\"VGG19 Model Layers Count :{len(VGG19_MODEL.layers)}\");"
   ]
  },
  {
   "cell_type": "code",
   "execution_count": 7,
   "id": "993a2b7d",
   "metadata": {
    "execution": {
     "iopub.execute_input": "2023-11-21T07:56:44.227778Z",
     "iopub.status.busy": "2023-11-21T07:56:44.227493Z",
     "iopub.status.idle": "2023-11-21T07:56:44.286475Z",
     "shell.execute_reply": "2023-11-21T07:56:44.285622Z"
    },
    "papermill": {
     "duration": 0.069941,
     "end_time": "2023-11-21T07:56:44.288457",
     "exception": false,
     "start_time": "2023-11-21T07:56:44.218516",
     "status": "completed"
    },
    "tags": []
   },
   "outputs": [],
   "source": [
    "x=VGG19_MODEL.output\n",
    "x=GlobalAveragePooling2D()(x)\n",
    "x=Dense(1024,activation='relu')(x) #we add dense layers so that the model can learn more complex functions and classify for better results.\n",
    "x=Dense(1024,activation='relu')(x) #dense layer 2\n",
    "x=Dense(512,activation='relu')(x) #dense layer 3\n",
    "preds=Dense(len(class_name_num), activation='softmax')(x) #final layer with softmax activation"
   ]
  },
  {
   "cell_type": "code",
   "execution_count": 8,
   "id": "66891783",
   "metadata": {
    "execution": {
     "iopub.execute_input": "2023-11-21T07:56:44.305182Z",
     "iopub.status.busy": "2023-11-21T07:56:44.304917Z",
     "iopub.status.idle": "2023-11-21T07:56:44.354590Z",
     "shell.execute_reply": "2023-11-21T07:56:44.353679Z"
    },
    "papermill": {
     "duration": 0.067011,
     "end_time": "2023-11-21T07:56:44.363340",
     "exception": false,
     "start_time": "2023-11-21T07:56:44.296329",
     "status": "completed"
    },
    "tags": []
   },
   "outputs": [
    {
     "name": "stdout",
     "output_type": "stream",
     "text": [
      "Model: \"model\"\n",
      "_________________________________________________________________\n",
      " Layer (type)                Output Shape              Param #   \n",
      "=================================================================\n",
      " input_1 (InputLayer)        [(None, None, None, 3)]   0         \n",
      "                                                                 \n",
      " block1_conv1 (Conv2D)       (None, None, None, 64)    1792      \n",
      "                                                                 \n",
      " block1_conv2 (Conv2D)       (None, None, None, 64)    36928     \n",
      "                                                                 \n",
      " block1_pool (MaxPooling2D)  (None, None, None, 64)    0         \n",
      "                                                                 \n",
      " block2_conv1 (Conv2D)       (None, None, None, 128)   73856     \n",
      "                                                                 \n",
      " block2_conv2 (Conv2D)       (None, None, None, 128)   147584    \n",
      "                                                                 \n",
      " block2_pool (MaxPooling2D)  (None, None, None, 128)   0         \n",
      "                                                                 \n",
      " block3_conv1 (Conv2D)       (None, None, None, 256)   295168    \n",
      "                                                                 \n",
      " block3_conv2 (Conv2D)       (None, None, None, 256)   590080    \n",
      "                                                                 \n",
      " block3_conv3 (Conv2D)       (None, None, None, 256)   590080    \n",
      "                                                                 \n",
      " block3_conv4 (Conv2D)       (None, None, None, 256)   590080    \n",
      "                                                                 \n",
      " block3_pool (MaxPooling2D)  (None, None, None, 256)   0         \n",
      "                                                                 \n",
      " block4_conv1 (Conv2D)       (None, None, None, 512)   1180160   \n",
      "                                                                 \n",
      " block4_conv2 (Conv2D)       (None, None, None, 512)   2359808   \n",
      "                                                                 \n",
      " block4_conv3 (Conv2D)       (None, None, None, 512)   2359808   \n",
      "                                                                 \n",
      " block4_conv4 (Conv2D)       (None, None, None, 512)   2359808   \n",
      "                                                                 \n",
      " block4_pool (MaxPooling2D)  (None, None, None, 512)   0         \n",
      "                                                                 \n",
      " block5_conv1 (Conv2D)       (None, None, None, 512)   2359808   \n",
      "                                                                 \n",
      " block5_conv2 (Conv2D)       (None, None, None, 512)   2359808   \n",
      "                                                                 \n",
      " block5_conv3 (Conv2D)       (None, None, None, 512)   2359808   \n",
      "                                                                 \n",
      " block5_conv4 (Conv2D)       (None, None, None, 512)   2359808   \n",
      "                                                                 \n",
      " block5_pool (MaxPooling2D)  (None, None, None, 512)   0         \n",
      "                                                                 \n",
      " global_average_pooling2d (  (None, 512)               0         \n",
      " GlobalAveragePooling2D)                                         \n",
      "                                                                 \n",
      " dense (Dense)               (None, 1024)              525312    \n",
      "                                                                 \n",
      " dense_1 (Dense)             (None, 1024)              1049600   \n",
      "                                                                 \n",
      " dense_2 (Dense)             (None, 512)               524800    \n",
      "                                                                 \n",
      " dense_3 (Dense)             (None, 12)                6156      \n",
      "                                                                 \n",
      "=================================================================\n",
      "Total params: 22130252 (84.42 MB)\n",
      "Trainable params: 22130252 (84.42 MB)\n",
      "Non-trainable params: 0 (0.00 Byte)\n",
      "_________________________________________________________________\n"
     ]
    }
   ],
   "source": [
    "NewModel=Model(inputs=VGG19_MODEL.input,outputs=preds)\n",
    "NewModel.summary()"
   ]
  },
  {
   "cell_type": "code",
   "execution_count": 9,
   "id": "3d10ebc3",
   "metadata": {
    "execution": {
     "iopub.execute_input": "2023-11-21T07:56:44.386153Z",
     "iopub.status.busy": "2023-11-21T07:56:44.385833Z",
     "iopub.status.idle": "2023-11-21T07:56:44.390073Z",
     "shell.execute_reply": "2023-11-21T07:56:44.389256Z"
    },
    "papermill": {
     "duration": 0.017443,
     "end_time": "2023-11-21T07:56:44.391804",
     "exception": false,
     "start_time": "2023-11-21T07:56:44.374361",
     "status": "completed"
    },
    "tags": []
   },
   "outputs": [
    {
     "name": "stdout",
     "output_type": "stream",
     "text": [
      "New Model layers count :27\n"
     ]
    }
   ],
   "source": [
    "print(f\"New Model layers count :{len(NewModel.layers)}\")"
   ]
  },
  {
   "cell_type": "code",
   "execution_count": 10,
   "id": "3814e7f8",
   "metadata": {
    "execution": {
     "iopub.execute_input": "2023-11-21T07:56:44.416802Z",
     "iopub.status.busy": "2023-11-21T07:56:44.416507Z",
     "iopub.status.idle": "2023-11-21T07:56:44.464186Z",
     "shell.execute_reply": "2023-11-21T07:56:44.463155Z"
    },
    "papermill": {
     "duration": 0.068912,
     "end_time": "2023-11-21T07:56:44.472452",
     "exception": false,
     "start_time": "2023-11-21T07:56:44.403540",
     "status": "completed"
    },
    "tags": []
   },
   "outputs": [
    {
     "name": "stdout",
     "output_type": "stream",
     "text": [
      "Model: \"model\"\n",
      "_________________________________________________________________\n",
      " Layer (type)                Output Shape              Param #   \n",
      "=================================================================\n",
      " input_1 (InputLayer)        [(None, None, None, 3)]   0         \n",
      "                                                                 \n",
      " block1_conv1 (Conv2D)       (None, None, None, 64)    1792      \n",
      "                                                                 \n",
      " block1_conv2 (Conv2D)       (None, None, None, 64)    36928     \n",
      "                                                                 \n",
      " block1_pool (MaxPooling2D)  (None, None, None, 64)    0         \n",
      "                                                                 \n",
      " block2_conv1 (Conv2D)       (None, None, None, 128)   73856     \n",
      "                                                                 \n",
      " block2_conv2 (Conv2D)       (None, None, None, 128)   147584    \n",
      "                                                                 \n",
      " block2_pool (MaxPooling2D)  (None, None, None, 128)   0         \n",
      "                                                                 \n",
      " block3_conv1 (Conv2D)       (None, None, None, 256)   295168    \n",
      "                                                                 \n",
      " block3_conv2 (Conv2D)       (None, None, None, 256)   590080    \n",
      "                                                                 \n",
      " block3_conv3 (Conv2D)       (None, None, None, 256)   590080    \n",
      "                                                                 \n",
      " block3_conv4 (Conv2D)       (None, None, None, 256)   590080    \n",
      "                                                                 \n",
      " block3_pool (MaxPooling2D)  (None, None, None, 256)   0         \n",
      "                                                                 \n",
      " block4_conv1 (Conv2D)       (None, None, None, 512)   1180160   \n",
      "                                                                 \n",
      " block4_conv2 (Conv2D)       (None, None, None, 512)   2359808   \n",
      "                                                                 \n",
      " block4_conv3 (Conv2D)       (None, None, None, 512)   2359808   \n",
      "                                                                 \n",
      " block4_conv4 (Conv2D)       (None, None, None, 512)   2359808   \n",
      "                                                                 \n",
      " block4_pool (MaxPooling2D)  (None, None, None, 512)   0         \n",
      "                                                                 \n",
      " block5_conv1 (Conv2D)       (None, None, None, 512)   2359808   \n",
      "                                                                 \n",
      " block5_conv2 (Conv2D)       (None, None, None, 512)   2359808   \n",
      "                                                                 \n",
      " block5_conv3 (Conv2D)       (None, None, None, 512)   2359808   \n",
      "                                                                 \n",
      " block5_conv4 (Conv2D)       (None, None, None, 512)   2359808   \n",
      "                                                                 \n",
      " block5_pool (MaxPooling2D)  (None, None, None, 512)   0         \n",
      "                                                                 \n",
      " global_average_pooling2d (  (None, 512)               0         \n",
      " GlobalAveragePooling2D)                                         \n",
      "                                                                 \n",
      " dense (Dense)               (None, 1024)              525312    \n",
      "                                                                 \n",
      " dense_1 (Dense)             (None, 1024)              1049600   \n",
      "                                                                 \n",
      " dense_2 (Dense)             (None, 512)               524800    \n",
      "                                                                 \n",
      " dense_3 (Dense)             (None, 12)                6156      \n",
      "                                                                 \n",
      "=================================================================\n",
      "Total params: 22130252 (84.42 MB)\n",
      "Trainable params: 2105868 (8.03 MB)\n",
      "Non-trainable params: 20024384 (76.39 MB)\n",
      "_________________________________________________________________\n"
     ]
    }
   ],
   "source": [
    "for layer in NewModel.layers[:-5]:\n",
    "    layer.trainable=False\n",
    "\n",
    "NewModel.summary()"
   ]
  },
  {
   "cell_type": "code",
   "execution_count": 11,
   "id": "abfdf247",
   "metadata": {
    "execution": {
     "iopub.execute_input": "2023-11-21T07:56:44.533796Z",
     "iopub.status.busy": "2023-11-21T07:56:44.532943Z",
     "iopub.status.idle": "2023-11-21T07:56:44.543366Z",
     "shell.execute_reply": "2023-11-21T07:56:44.542315Z"
    },
    "papermill": {
     "duration": 0.028857,
     "end_time": "2023-11-21T07:56:44.545306",
     "exception": false,
     "start_time": "2023-11-21T07:56:44.516449",
     "status": "completed"
    },
    "tags": []
   },
   "outputs": [
    {
     "name": "stdout",
     "output_type": "stream",
     "text": [
      "You must install pydot (`pip install pydot`) and install graphviz (see instructions at https://graphviz.gitlab.io/download/) for plot_model to work.\n",
      "Error: File '/kaggle/working/NewModel.png' not found.\n"
     ]
    }
   ],
   "source": [
    "plot_path = '/kaggle/working/NewModel.png'\n",
    "# Save the plot to the specified path\n",
    "plot_model(NewModel, to_file=plot_path, show_shapes=True, show_layer_names=True)\n",
    "# Check if the file exists before reading\n",
    "if os.path.exists(plot_path):\n",
    "    with open(plot_path, \"rb\") as img_file:\n",
    "        img_data = img_file.read()\n",
    "    img_base64 = base64.b64encode(img_data).decode(\"utf-8\")\n",
    "\n",
    "    html_code = f'''\n",
    "    <div style=\"background-color:white; border-radius:2px; border:#000000 solid; padding: 15px; font-size:100%; text-align:center;\">\n",
    "        <img src=\"data:image/png;base64,{img_base64}\" style=\"display: block; margin: 0 auto;\">\n",
    "    </div>\n",
    "    '''\n",
    "    display(HTML(html_code))\n",
    "else:\n",
    "    print(f\"Error: File '{plot_path}' not found.\")"
   ]
  },
  {
   "cell_type": "code",
   "execution_count": 12,
   "id": "5cf493e6",
   "metadata": {
    "execution": {
     "iopub.execute_input": "2023-11-21T07:56:44.576973Z",
     "iopub.status.busy": "2023-11-21T07:56:44.576681Z",
     "iopub.status.idle": "2023-11-21T07:56:44.732361Z",
     "shell.execute_reply": "2023-11-21T07:56:44.731470Z"
    },
    "papermill": {
     "duration": 0.173676,
     "end_time": "2023-11-21T07:56:44.734391",
     "exception": false,
     "start_time": "2023-11-21T07:56:44.560715",
     "status": "completed"
    },
    "tags": []
   },
   "outputs": [
    {
     "name": "stdout",
     "output_type": "stream",
     "text": [
      "Found 4750 images belonging to 12 classes.\n"
     ]
    }
   ],
   "source": [
    "train_datagen=ImageDataGenerator(preprocessing_function=preprocess_input)\n",
    "train_generator=train_datagen.flow_from_directory(\n",
    "    pathToTrainData,\n",
    "    target_size=(80,80),\n",
    "    color_mode='rgb',\n",
    "    batch_size=32,\n",
    "    class_mode='categorical',\n",
    "    shuffle=True\n",
    ");"
   ]
  },
  {
   "cell_type": "code",
   "execution_count": 13,
   "id": "ee0fd240",
   "metadata": {
    "execution": {
     "iopub.execute_input": "2023-11-21T07:56:44.766573Z",
     "iopub.status.busy": "2023-11-21T07:56:44.766248Z",
     "iopub.status.idle": "2023-11-21T08:05:53.773120Z",
     "shell.execute_reply": "2023-11-21T08:05:53.772047Z"
    },
    "papermill": {
     "duration": 549.024975,
     "end_time": "2023-11-21T08:05:53.775495",
     "exception": false,
     "start_time": "2023-11-21T07:56:44.750520",
     "status": "completed"
    },
    "tags": []
   },
   "outputs": [
    {
     "name": "stdout",
     "output_type": "stream",
     "text": [
      "Epoch 1/10\n",
      "148/148 [==============================] - 56s 370ms/step - loss: 1.5852 - accuracy: 0.4400\n",
      "Epoch 2/10\n",
      "148/148 [==============================] - 58s 389ms/step - loss: 1.1002 - accuracy: 0.6041\n",
      "Epoch 3/10\n",
      "148/148 [==============================] - 54s 363ms/step - loss: 0.9181 - accuracy: 0.6761\n",
      "Epoch 4/10\n",
      "148/148 [==============================] - 54s 365ms/step - loss: 0.8136 - accuracy: 0.7100\n",
      "Epoch 5/10\n",
      "148/148 [==============================] - 54s 361ms/step - loss: 0.7076 - accuracy: 0.7471\n",
      "Epoch 6/10\n",
      "148/148 [==============================] - 54s 366ms/step - loss: 0.6646 - accuracy: 0.7594\n",
      "Epoch 7/10\n",
      "148/148 [==============================] - 54s 364ms/step - loss: 0.5679 - accuracy: 0.7961\n",
      "Epoch 8/10\n",
      "148/148 [==============================] - 54s 366ms/step - loss: 0.5406 - accuracy: 0.8056\n",
      "Epoch 9/10\n",
      "148/148 [==============================] - 54s 367ms/step - loss: 0.4627 - accuracy: 0.8353\n",
      "Epoch 10/10\n",
      "148/148 [==============================] - 54s 366ms/step - loss: 0.4177 - accuracy: 0.8493\n"
     ]
    }
   ],
   "source": [
    "NewModel.compile(optimizer='Adam',loss='categorical_crossentropy',metrics=['accuracy'])\n",
    "step_size_train=train_generator.n//train_generator.batch_size\n",
    "history = NewModel.fit_generator(generator=train_generator,steps_per_epoch=step_size_train,epochs=10);"
   ]
  },
  {
   "cell_type": "code",
   "execution_count": 14,
   "id": "0b1960ea",
   "metadata": {
    "execution": {
     "iopub.execute_input": "2023-11-21T08:05:53.986401Z",
     "iopub.status.busy": "2023-11-21T08:05:53.985953Z",
     "iopub.status.idle": "2023-11-21T08:05:54.148324Z",
     "shell.execute_reply": "2023-11-21T08:05:54.147516Z"
    },
    "papermill": {
     "duration": 0.267544,
     "end_time": "2023-11-21T08:05:54.150229",
     "exception": false,
     "start_time": "2023-11-21T08:05:53.882685",
     "status": "completed"
    },
    "tags": []
   },
   "outputs": [
    {
     "data": {
      "text/html": [
       "\n",
       "<div style=\"background-color:white; border-radius:2px; border:#000000 solid; padding: 15px; font-size:100%; text-align:center;\">\n",
       "    <img src=\"data:image/png;base64,iVBORw0KGgoAAAANSUhEUgAAAoAAAAHgCAYAAAA10dzkAAAAOXRFWHRTb2Z0d2FyZQBNYXRwbG90bGliIHZlcnNpb24zLjguMSwgaHR0cHM6Ly9tYXRwbG90bGliLm9yZy/SrBM8AAAACXBIWXMAAA9hAAAPYQGoP6dpAABjQElEQVR4nO3dd3hUVf7H8fek9wRIIYHQe0c6qKCiCIoNRZAmiK6KBbHBKriuq9iXXVH54SoWQBEUREURQUWQjqFIr6ElECC9Z+7vjyEDQ0KdJHcy83k9zzyZuXNv8h1y9Xxyzj3nWgzDMBARERERj+FldgEiIiIiUrEUAEVEREQ8jAKgiIiIiIdRABQRERHxMAqAIiIiIh5GAVBERETEwygAioiIiHgYBUARERERD6MAKCIiIuJhFABFREREPIwCoIiIiIiHUQAUERER8TAKgCIiIiIeRgFQRERExMMoAIqIiIh4GAVAEREREQ+jACgiIiLiYRQARURERDyMAqCIiIiIh1EAFBEREfEwCoAiIiIiHkYBUERERMTDKACKiIiIeBgFQBEREREPowAoIiIi4mEUAEVEREQ8jAKgiIiIiIdRABQRERHxMAqAIiIiIh5GAVBERETEwygAioiIiHgYBUARERERD6MAKCIiIuJhFABFREREPIwCoIhgsVj4xz/+ccnH7du3D4vFwscff3ze/X799VcsFgu//vrrZdVX2Xn65xcR16MAKOIiPv74YywWCxaLhWXLlpV43zAM4uPjsVgs3HzzzSZUKCIi7kIBUMTFBAQEMHPmzBLbf/vtNw4ePIi/v78JVYmIiDtRABRxMX369GH27NkUFhY6bJ85cybt2rWjevXqJlUm4igrK8vsEkTkMikAiriYgQMHcvz4cRYtWmTflp+fz5w5c7jnnntKPSYrK4snn3yS+Ph4/P39ady4MW+++SaGYTjsl5eXxxNPPEFUVBShoaHccsstHDx4sNTveejQIUaMGEFMTAz+/v40b96cjz76qOw+KDB79mzatWtHYGAgkZGRDB48mEOHDjnsk5SUxPDhw6lZsyb+/v7ExsZy6623sm/fPvs+a9eupVevXkRGRhIYGEjdunUZMWLEBX/+N998w0033URcXBz+/v7Ur1+fl156iaKiIof9evToQYsWLdiyZQvXXHMNQUFB1KhRg9dff73E9zx48CC33XYbwcHBREdH88QTT5CXl3dR/x779+/n4YcfpnHjxgQGBlKtWjXuuusuh89aLDU1lSeeeII6derg7+9PzZo1GTp0KCkpKfZ9cnNz+cc//kGjRo0ICAggNjaWO+64g927dwPnvjaxtGs77733XkJCQti9ezd9+vQhNDSUQYMGAfD7779z1113UatWLfz9/YmPj+eJJ54gJyenRN3btm2jf//+REVFERgYSOPGjXnuuecA+OWXX7BYLMydO7fEcTNnzsRisbBixYqL+rcUkfPzMbsAEXFUp04dunTpwueff07v3r0B+OGHH0hLS2PAgAH897//ddjfMAxuueUWfvnlF+677z7atGnDwoULefrppzl06BD//ve/7fuOHDmS6dOnc88999C1a1eWLFnCTTfdVKKG5ORkOnfujMVi4ZFHHiEqKooffviB++67j/T0dEaPHu305/z4448ZPnw4HTp0YOLEiSQnJ/Of//yH5cuX8+effxIREQFAv379+Ouvv3j00UepU6cOR48eZdGiRSQmJtpf33DDDURFRTF27FgiIiLYt28fX3/99UXVEBISwpgxYwgJCWHJkiVMmDCB9PR03njjDYd9T548yY033sgdd9xB//79mTNnDs8++ywtW7a0/55ycnK47rrrSExM5LHHHiMuLo7PPvuMJUuWXNS/yZo1a/jjjz8YMGAANWvWZN++fbz//vv06NGDLVu2EBQUBEBmZiZXXXUVW7duZcSIEVxxxRWkpKQwf/58Dh48SGRkJEVFRdx8880sXryYAQMG8Pjjj5ORkcGiRYvYvHkz9evXv4Tflk1hYSG9evXiyiuv5M0337TXM3v2bLKzs3nooYeoVq0aq1ev5p133uHgwYPMnj3bfvzGjRu56qqr8PX15YEHHqBOnTrs3r2bb7/9lpdffpkePXoQHx/PjBkzuP322x1+9owZM6hfvz5dunS55LpFpBSGiLiEadOmGYCxZs0aY/LkyUZoaKiRnZ1tGIZh3HXXXcY111xjGIZh1K5d27jpppvsx82bN88AjH/9618O3+/OO+80LBaLsWvXLsMwDCMhIcEAjIcffthhv3vuuccAjBdeeMG+7b777jNiY2ONlJQUh30HDBhghIeH2+vau3evARjTpk0772f75ZdfDMD45ZdfDMMwjPz8fCM6Otpo0aKFkZOTY9/vu+++MwBjwoQJhmEYxsmTJw3AeOONN875vefOnWv/d7tUxZ/jTH/729+MoKAgIzc3176te/fuBmB8+umn9m15eXlG9erVjX79+tm3TZo0yQCML7/80r4tKyvLaNCggcPnv5R6VqxYUeJnT5gwwQCMr7/+usT+VqvVMAzD+OijjwzAePvtt8+5z9m/l2Kl/V6HDRtmAMbYsWMvqu6JEycaFovF2L9/v33b1VdfbYSGhjpsO7MewzCMcePGGf7+/kZqaqp929GjRw0fHx+Hc1REnKMhYBEX1L9/f3Jycvjuu+/IyMjgu+++O+fw74IFC/D29uaxxx5z2P7kk09iGAY//PCDfT+gxH5n9+YZhsFXX31F3759MQyDlJQU+6NXr16kpaWxfv16pz7f2rVrOXr0KA8//DABAQH27TfddBNNmjTh+++/ByAwMBA/Pz9+/fVXTp48Wer3Ku4p/O677ygoKLikOgIDA+3PMzIySElJ4aqrriI7O5tt27Y57BsSEsLgwYPtr/38/OjYsSN79uyxb1uwYAGxsbHceeed9m1BQUE88MADl1xPQUEBx48fp0GDBkRERDj8m3/11Ve0bt26RC8Z2Jb0Kd4nMjKSRx999Jz7XI6HHnrovHVnZWWRkpJC165dMQyDP//8E4Bjx46xdOlSRowYQa1atc5Zz9ChQ8nLy2POnDn2bbNmzaKwsNDh319EnKMAKOKCoqKi6NmzJzNnzuTrr7+mqKjIIVScaf/+/cTFxREaGuqwvWnTpvb3i796eXmVGPpr3Lixw+tjx46RmprK1KlTiYqKcngMHz4cgKNHjzr1+YprOvtnAzRp0sT+vr+/P6+99ho//PADMTExXH311bz++uskJSXZ9+/evTv9+vXjxRdfJDIykltvvZVp06Zd1HV3f/31F7fffjvh4eGEhYURFRVlDxlpaWkO+9asWbNEcKpSpYpDMN2/fz8NGjQosV9pn7M0OTk5TJgwwX4tZ2RkJFFRUaSmpjrUs3v3blq0aHHe77V7924aN26Mj0/ZXenj4+NDzZo1S2xPTEzk3nvvpWrVqoSEhBAVFUX37t2B0/+OxUH5QnU3adKEDh06MGPGDPu2GTNm0LlzZxo0aFBWH0XE4+kaQBEXdc8993D//feTlJRE79697T1d5c1qtQIwePBghg0bVuo+rVq1qpBawNZD2bdvX+bNm8fChQsZP348EydOZMmSJbRt2xaLxcKcOXNYuXIl3377LQsXLmTEiBG89dZbrFy5kpCQkFK/b2pqKt27dycsLIx//vOf1K9fn4CAANavX8+zzz5r/3co5u3tXer3Mc6aaOOMRx99lGnTpjF69Gi6dOlCeHg4FouFAQMGlKinLJyrJ/DsSTDF/P398fLyKrHv9ddfz4kTJ3j22Wdp0qQJwcHBHDp0iHvvvfey6h46dCiPP/44Bw8eJC8vj5UrVzJ58uRL/j4icm4KgCIu6vbbb+dvf/sbK1euZNasWefcr3bt2vz8889kZGQ49AIWD2HWrl3b/tVqtdp7hopt377d4fsVzxAuKiqiZ8+eZfmRHGou/tnXXnutw3vbt2+3v1+sfv36PPnkkzz55JPs3LmTNm3a8NZbbzF9+nT7Pp07d6Zz5868/PLLzJw5k0GDBvHFF18wcuTIUmv49ddfOX78OF9//TVXX321ffvevXud+lybN2/GMAyHcHX2v/G5zJkzh2HDhvHWW2/Zt+Xm5pKamuqwX/369dm8efN5v1f9+vVZtWoVBQUF+Pr6lrpPlSpVAEp8/+Ie2IuxadMmduzYwSeffMLQoUPt28+cxQ5Qr149gAvWDTBgwADGjBnD559/Tk5ODr6+vtx9990XXZOIXJiGgEVcVEhICO+//z7/+Mc/6Nu37zn369OnD0VFRSV6SP79739jsVjsM1SLv549i3jSpEkOr729venXrx9fffVVqY31sWPHLufjOGjfvj3R0dFMmTLFYaj2hx9+YOvWrfaZydnZ2eTm5jocW79+fUJDQ+3HnTx5skQvXJs2bQDOOwxc3KN35rH5+fm89957l/25+vTpw+HDhx2uX8vOzmbq1KkXdby3t3eJz/LOO++U6JHr168fGzZsKHW5lOLj+/XrR0pKSqk9Z8X71K5dG29vb5YuXerw/qX8G5T272gYBv/5z38c9ouKiuLqq6/mo48+IjExsdR6ikVGRtK7d2+mT5/OjBkzuPHGG4mMjLzomkTkwtQDKOLCzjUEe6a+fftyzTXX8Nxzz7Fv3z5at27NTz/9xDfffMPo0aPt1/y1adOGgQMH8t5775GWlkbXrl1ZvHgxu3btKvE9X331VX755Rc6derE/fffT7NmzThx4gTr16/n559/5sSJE059Ll9fX1577TWGDx9O9+7dGThwoH0ZmDp16vDEE08AsGPHDq677jr69+9Ps2bN8PHxYe7cuSQnJzNgwAAAPvnkE9577z1uv/126tevT0ZGBh988AFhYWH06dPnnDV07dqVKlWqMGzYMB577DEsFgufffaZU0O6999/P5MnT2bo0KGsW7eO2NhYPvvsM/tyKRdy880389lnnxEeHk6zZs1YsWIFP//8M9WqVXPY7+mnn2bOnDncddddjBgxgnbt2nHixAnmz5/PlClTaN26NUOHDuXTTz9lzJgxrF69mquuuoqsrCx+/vlnHn74YW699VbCw8O56667eOedd7BYLNSvX5/vvvvukq7xbNKkCfXr1+epp57i0KFDhIWF8dVXX5U6aee///0vV155JVdccQUPPPAAdevWZd++fXz//fckJCQ47Dt06FD7da8vvfTSRdcjIhfJhJnHIlKKM5eBOZ+zl4ExDMPIyMgwnnjiCSMuLs7w9fU1GjZsaLzxxhsOy2sYhmHk5OQYjz32mFGtWjUjODjY6Nu3r3HgwIESy8AYhmEkJycbo0aNMuLj4w1fX1+jevXqxnXXXWdMnTrVvs/lLgNTbNasWUbbtm0Nf39/o2rVqsagQYOMgwcP2t9PSUkxRo0aZTRp0sQIDg42wsPDjU6dOjkss7J+/Xpj4MCBRq1atQx/f38jOjrauPnmm421a9eetybDMIzly5cbnTt3NgIDA424uDjjmWeeMRYuXFii1u7duxvNmzcvcfywYcOM2rVrO2zbv3+/ccsttxhBQUFGZGSk8fjjjxs//vjjRS0Dc/LkSWP48OFGZGSkERISYvTq1cvYtm2bUbt2bWPYsGEO+x4/ftx45JFHjBo1ahh+fn5GzZo1jWHDhjks3ZOdnW0899xzRt26de2/wzvvvNPYvXu3fZ9jx44Z/fr1M4KCgowqVaoYf/vb34zNmzeXugxMcHBwqXVv2bLF6NmzpxESEmJERkYa999/v7Fhw4ZSz43Nmzcbt99+uxEREWEEBAQYjRs3NsaPH1/ie+bl5RlVqlQxwsPDHZYKEpGyYTGMMryCWUREpAwUFhYSFxdH3759+fDDD80uR8Tt6BpAERFxOfPmzePYsWMOE0tEpOyoB1BERFzGqlWr2LhxIy+99BKRkZFOLzouIqVTD6CIiLiM999/n4ceeojo6Gg+/fRTs8sRcVvqARQRERHxMOoBFBEREfEwCoAiIiIiHkYBUERERMTD6E4gTrBarRw+fJjQ0NBz3lRdREREXIthGGRkZBAXF4eXl2f2hSkAOuHw4cPEx8ebXYaIiIhchgMHDlCzZk2zyzCFAqATQkNDAdsJFBYWZnI1IiIicjHS09OJj4+3t+OeSAHQCcXDvmFhYQqAIiIilYwnX77lmQPfIiIiIh5MAVBERETEwygAioiIiHgYXQMoIiJyDoZhUFhYSFFRkdmlyCXw9vbGx8fHo6/xuxAFQBERkVLk5+dz5MgRsrOzzS5FLkNQUBCxsbH4+fmZXYpLcpsAuHTpUt544w3WrVvHkSNHmDt3Lrfddtt5j8nLy+Of//wn06dPJykpidjYWCZMmMCIESMqpmgREXFJVquVvXv34u3tTVxcHH5+fupNqiQMwyA/P59jx46xd+9eGjZs6LGLPZ+P2wTArKwsWrduzYgRI7jjjjsu6pj+/fuTnJzMhx9+SIMGDThy5AhWq7WcKxUREVeXn5+P1WolPj6eoKAgs8uRSxQYGIivry/79+8nPz+fgIAAs0tyOW4TAHv37k3v3r0vev8ff/yR3377jT179lC1alUA6tSpU07ViYhIZaSeo8pLv7vz89h/nfnz59O+fXtef/11atSoQaNGjXjqqafIyck55zF5eXmkp6c7PEREREQqG7fpAbxUe/bsYdmyZQQEBDB37lxSUlJ4+OGHOX78ONOmTSv1mIkTJ/Liiy9WcKUiIiIiZctjewCtVisWi4UZM2bQsWNH+vTpw9tvv80nn3xyzl7AcePGkZaWZn8cOHCggqsWERERcZ7H9gDGxsZSo0YNwsPD7duaNm2KYRgcPHiQhg0bljjG398ff3//iixTRESk0isoKMDX19fsMuQMHtsD2K1bNw4fPkxmZqZ9244dO/Dy8qJmzZomVgbsXAQzB8DWb82tQ0REKqUff/yRK6+8koiICKpVq8bNN9/M7t277e8fPHiQgQMHUrVqVYKDg2nfvj2rVq2yv//tt9/SoUMHAgICiIyM5Pbbb7e/Z7FYmDdvnsPPi4iI4OOPPwZg3759WCwWZs2aRffu3QkICGDGjBkcP36cgQMHUqNGDYKCgmjZsiWff/65w/exWq28/vrrNGjQAH9/f2rVqsXLL78MwLXXXssjjzzisP+xY8fw8/Nj8eLFZfHP5lHcJgBmZmaSkJBAQkICAHv37iUhIYHExETANnw7dOhQ+/733HMP1apVY/jw4WzZsoWlS5fy9NNPM2LECAIDA834CKft/wN2/AAJn194XxERqRCGYZCdX2jKwzCMS6o1KyuLMWPGsHbtWhYvXoyXlxe33347VquVzMxMunfvzqFDh5g/fz4bNmzgmWeesS+D9v3333P77bfTp08f/vzzTxYvXkzHjh0v+d9r7NixPP7442zdupVevXqRm5tLu3bt+P7779m8eTMPPPAAQ4YMYfXq1fZjxo0bx6uvvsr48ePZsmULM2fOJCYmBoCRI0cyc+ZM8vLy7PtPnz6dGjVqcO21115yfZ7OYlzqWeWifv31V6655poS24cNG8bHH3/Mvffey759+/j111/t723bto1HH32U5cuXU61aNfr378+//vWviw6A6enphIeHk5aWRlhYWFl9FDi6Fd7rDF6+8NQOCKpadt9bREQuKDc3l71791K3bl37GnLZ+YU0m7DQlHq2/LMXQX6Xf9VWSkoKUVFRbNq0iT/++IOnnnqKffv22ZdBO1PXrl2pV68e06dPL/V7WSyWEjdbiIiIYNKkSfa2tm7dukyaNInHH3/8vHXdfPPNNGnShDfffJOMjAyioqKYPHkyI0eOLLFvbm4ucXFxTJkyhf79+wPQunVr7rjjDl544YVS9z/7d1is3NrvSsRtrgHs0aPHef9CKu6aPlOTJk1YtGhROVZ1maKbQvWWkLQJ/poLHe4zuyIREalEdu7cyYQJE1i1ahUpKSn23r3ExEQSEhJo27ZtqeEPICEhgfvvv9/pGtq3b+/wuqioiFdeeYUvv/ySQ4cOkZ+fT15enn2h7a1bt5KXl8d1111X6vcLCAhgyJAhfPTRR/Tv35/169ezefNm5s+f73StnshtAqDbaXW3LQBu/FIBUETEBQT6erPln71M+9mXom/fvtSuXZsPPviAuLg4rFYrLVq0ID8//4KjXBd632KxlOhwKSgoKLFfcHCww+s33niD//znP0yaNImWLVsSHBzM6NGjyc/Pv6ifC7Zh4DZt2nDw4EGmTZvGtddeS+3atS94nJTkNtcAup0WdwIWOLASTuw1uxoREY9nsVgI8vMx5XEp9yE+fvw427dv5/nnn+e6666jadOmnDx50v5+q1atSEhI4MSJE6Ue36pVq/NOqoiKiuLIkSP21zt37iQ7O/uCdS1fvpxbb72VwYMH07p1a+rVq8eOHTvs7zds2JDAwMDz/uyWLVvSvn17PvjgA2bOnMmIESMu+HOldAqAriosFup1tz3fNMfcWkREpNKoUqUK1apVY+rUqezatYslS5YwZswY+/sDBw6kevXq3HbbbSxfvpw9e/bw1VdfsWLFCgBeeOEFPv/8c1544QW2bt3Kpk2beO211+zHX3vttUyePJk///yTtWvX8uCDD17UEi8NGzZk0aJF/PHHH2zdupW//e1vJCcn298PCAjg2Wef5ZlnnuHTTz9l9+7drFy5kg8//NDh+4wcOZJXX30VwzAcZifLpVEAdGWt7rZ93TgL3GOujoiIlDMvLy+++OIL1q1bR4sWLXjiiSd444037O/7+fnx008/ER0dTZ8+fWjZsiWvvvoq3t62YeYePXowe/Zs5s+fT5s2bbj22msdZuq+9dZbxMfHc9VVV3HPPffw1FNP2a/jO5/nn3+eK664gl69etGjRw97CD3T+PHjefLJJ5kwYQJNmzbl7rvv5ujRow77DBw4EB8fHwYOHFhicodcPLeZBWyGcp9FlJsObzaCwhx44FeIa1v2P0NEREo43wxSMde+ffuoX78+a9as4YorrjjnfpoFfH7qAXRlAWHQpI/t+cYvza1FRETERAUFBSQlJfH888/TuXPn84Y/uTAFQFfX0rbWEZvmQFGhubWIiIiYZPny5cTGxrJmzRqmTJlidjmVnpaBcXUNroPAqpB1FPb+Cg16ml2RiIhIhbvQer9yadQD6Oq8faFFP9tzDQOLiIhIGVAArAyKZwNv/RbyMs2tRURERCo9BcDKoGZ7qFIXCrJh+wKzqxEREZFKTgGwMrBYzlgTUMPAIiIi4hwFwMqi1anZwLuXQObR8+8rIiIich4KgJVFtfpQoz0YRbD5a7OrERERkUpMAbAyKe4F3DjL3DpERMRl9ejRg9GjR5tdhrg4BcDKpPkdYPGGw+shZafZ1YiIiEglpQBYmYRE2RaGBk0GERERkcumAFjZ2GcDzwKtiC4iIudx8uRJhg4dSpUqVQgKCqJ3797s3Hl6BGn//v307duXKlWqEBwcTPPmzVmwYIH92EGDBhEVFUVgYCANGzZk2rRpZn0UKWO6FVxl07gP+IVA6n44sBpqdTK7IhERz2AYtvVYzeAbZFsS7BLde++97Ny5k/nz5xMWFsazzz5Lnz592LJlC76+vowaNYr8/HyWLl1KcHAwW7ZsISQkBIDx48ezZcsWfvjhByIjI9m1axc5OTll/cnEJAqAlY1fEDTtCxs+h01fKgCKiFSUgmx4Jc6cn/33w+AXfEmHFAe/5cuX07VrVwBmzJhBfHw88+bN46677iIxMZF+/frRsmVLAOrVq2c/PjExkbZt29K+fXsA6tSpUzafRVyChoAro+LZwJu/hsJ8c2sRERGXtHXrVnx8fOjU6XRHQbVq1WjcuDFbt24F4LHHHuNf//oX3bp144UXXmDjxo32fR966CG++OIL2rRpwzPPPMMff/xR4Z9Byo96ACujut0hJAYyk2H3Ymjc2+yKRETcn2+QrSfOrJ9dDkaOHEmvXr34/vvv+emnn5g4cSJvvfUWjz76KL1792b//v0sWLCARYsWcd111zFq1CjefPPNcqlFKpZ6ACsjL29ocaftudYEFBGpGBaLbRjWjMdlXP/XtGlTCgsLWbVqlX3b8ePH2b59O82aNbNvi4+P58EHH+Trr7/mySef5IMPPrC/FxUVxbBhw5g+fTqTJk1i6tSpzv0bistQAKysioeBt/8AuWnm1iIiIi6nYcOG3Hrrrdx///0sW7aMDRs2MHjwYGrUqMGtt94KwOjRo1m4cCF79+5l/fr1/PLLLzRt2hSACRMm8M0337Br1y7++usvvvvuO/t7UvkpAFZWsa0hsjEU5sLWb82uRkREXNC0adNo164dN998M126dMEwDBYsWICvry8ARUVFjBo1iqZNm3LjjTfSqFEj3nvvPQD8/PwYN24crVq14uqrr8bb25svvvjCzI8jZchiGFpM7nKlp6cTHh5OWloaYWFhFV/A0jdhyUtQ92oYphAoIlJWcnNz2bt3L3Xr1iUgIMDscuQynO93aHr77QLUA1iZtbzL9nXv75Bu0oXJIiIiUukoAFZmVWpDra6AAZvmmF2NiIiIVBIKgJVd8WQQ3RtYRERELpICYGXX/Dbw9oPkTZD8l9nViIiISCWgAFjZBVaBhjfYnqsXUERERC6CAqA7KB4G3jQbrFZzaxERcSNaKKPy0u/u/BQA3UHDXuAfDumHYP9ys6sREan0itfJy87ONrkSuVzFv7vi36U40r2A3YFvADS/FdZ/ars1XN2rzK5IRKRS8/b2JiIigqNHjwIQFBSE5TJuxyYVzzAMsrOzOXr0KBEREXh7e5tdkktSAHQXre62BcAt30CfN22hUERELlv16tUB7CFQKpeIiAj771BKUgB0F7W6QlhNSD8IOxdCs1vNrkhEpFKzWCzExsYSHR1NQUGB2eXIJfD19VXP3wUoALoLLy9odRcs+7dtNrACoIhImfD29laYELejSSDupNXdtq87FkL2CXNrEREREZelAOhOoptC9ZZgLYAt88yuRkRERFyUAqC7aalbw4mIiMj5KQC6m5Z3AhZIXAEn95ldjYiIiLggBUB3ExYHda+2Pd8029xaRERExCUpALqj4skgG78E3QpHREREzqIA6I6a9gWfAEjZAUc2mF2NiIiIuBgFQHcUEAaN+9ieazKIiIiInEUB0F0VDwNvngNFhebWIiIiIi7FbQLg0qVL6du3L3FxcVgsFubNm3fRxy5fvhwfHx/atGlTbvVVuAbXQWBVyEyGvb+ZXY2IiIi4ELcJgFlZWbRu3Zp33333ko5LTU1l6NChXHfddeVUmUm8faHFHbbnGgYWERGRM7jNvYB79+5N7969L/m4Bx98kHvuuQdvb+9L6jWsFFrdDWv+B1u/hfy3wS/Y7IpERETEBbhND+DlmDZtGnv27OGFF14wu5TyUbMDVKkDBVmwbYHZ1YiIiIiL8NgAuHPnTsaOHcv06dPx8bm4jtC8vDzS09MdHi7NYjljTcBZ5tYiIiIiLsMjA2BRURH33HMPL774Io0aNbro4yZOnEh4eLj9ER8fX45VlpHiewPvXgKZx8ytRURERFyCxTDc71YRFouFuXPnctttt5X6fmpqKlWqVMHb29u+zWq1YhgG3t7e/PTTT1x77bUljsvLyyMvL8/+Oj09nfj4eNLS0ggLCyvzz1FmPrgWDq2D3q9Dp7+ZXY2IiIip0tPTCQ8Pd/32uxy5zSSQSxEWFsamTZsctr333nssWbKEOXPmULdu3VKP8/f3x9/fvyJKLFut7rYFwI2zFABFRETEfQJgZmYmu3btsr/eu3cvCQkJVK1alVq1ajFu3DgOHTrEp59+ipeXFy1atHA4Pjo6moCAgBLb3ULzO+DHcbYQmLILIhuYXZGIiIiYyG2uAVy7di1t27albdu2AIwZM4a2bdsyYcIEAI4cOUJiYqKZJZonJArqnxrS3qQ1AUVERDydW14DWFEq1TUEG2fD1yNty8I8lmCbISwiIuKBKlX7XU7cpgdQLqBJH/ANhpP74OAas6sREREREykAegq/YGja1/ZcawKKiIh4NAVAT9Lq1JqAm7+GogJzaxERERHTKAB6krrdISQGck7ArsVmVyMiIiImUQD0JN4+0OJO23MNA4uIiHgsBUBPUzwMvH0B5Lr4vYxFRESkXCgAeprY1hDZCApzYeu3ZlcjIiIiJlAA9DQWy+leQA0Di4iIeCQFQE/U8i7b171LIf2wubWIiIhIhVMA9ERV6kCtLoABm+aYXY2IiIhUMAVAT1U8DKx7A4uIiHgcBUBP1ew28PKFpE2QvMXsakRERKQCKQB6qqCq0KiX7bl6AUVERDyKAqAns88Gng1Wq7m1iIiISIVRAPRkDXuBfzikH4TEP8yuRkRERCqIAqAn8w2AZrfYnmtNQBEREY+hAOjpWt1t+/rXN1CQa24tIiIiUiEUAD1d7W4QVgPy0mDnQrOrERERkQqgAOjpvLxO3xlko2YDi4iIeAIFQDk9DLzzJ8g+YW4tIiIiUu4UAAVimkFMSyjKhy3fmF2NiIiIlDMFQLGxrwmoYWARERF3pwAoNi3vBCy29QBP7je7GhERESlHCoBiExYHda+yPd8029xaREREpFwpAMppxZNBNs4CwzC3FhERESk3CoByWtO+4BMAKTvgyAazqxEREZFyogAopwWEQ+PetucaBhYREXFbCoDiqHgYeNNssBaZW4uIiIiUCwVAcVT/OgisCpnJsPc3s6sRERGRcqAAKI58/KDFHbbnWhNQRETELSkASknFw8Bbv4X8LHNrERERkTKnACgl1ewAVepAfiZs/8HsakRERKSMKQBKSRYLtCy+Ndwsc2sRERGRMqcAKKUrvjfwrsWQlWJuLSIiIlKmFACldJENIe4KMIpg89dmVyMiIiJlSAFQzu3MW8OJiIiI21AAlHNrcQdYvOHQWji+2+xqREREpIwoAMq5hURD/Wttz7UmoIiIiNtQAJTzO3MY2DDMrUVERETKhAKgnF+TPuAbDCf3wsG1ZlcjIiIiZUABUM7PLxia3mx7rskgIiIibkEBUC6seE3Av76GogJzaxERERGnKQDKhdXtAcHRkH0cdi8xuxoRERFxkgKgXJi3D7S80/Zcw8AiIiKVngKgXJziYeBt30Nuurm1iIiIiFMUAOXixLaByEZQmAvbvjO7GhEREXGCAqBcHIvldC+ghoFFREQqNbcJgEuXLqVv377ExcVhsViYN2/eeff/+uuvuf7664mKiiIsLIwuXbqwcOHCiim2smp5l+3rnt8g/Yi5tYiIiMhlc5sAmJWVRevWrXn33Xcvav+lS5dy/fXXs2DBAtatW8c111xD3759+fPPP8u50kqsSh2I7wwYsHmO2dWIiIjIZbIYhvvd38tisTB37lxuu+22SzquefPm3H333UyYMOGi9k9PTyc8PJy0tDTCwsIuo9JKaM2H8P0YqN4KHvzd7GpEREQumUe232dxmx5AZ1mtVjIyMqhateo598nLyyM9Pd3h4XGa3w5evpC0EY5uNbsaERERuQwKgKe8+eabZGZm0r9//3PuM3HiRMLDw+2P+Pj4CqzQRQRVhYY32J5v/NLcWkREROSyKAACM2fO5MUXX+TLL78kOjr6nPuNGzeOtLQ0++PAgQMVWKULKZ4NvGk2WK3m1iIiIiKXzMfsAsz2xRdfMHLkSGbPnk3Pnj3Pu6+/vz/+/v4VVJkLa3Qj+IdB2gFIXAF1upldkYiIiFwCj+4B/Pzzzxk+fDiff/45N910k9nlVB6+AdDsVttzrQkoIiJS6bhNAMzMzCQhIYGEhAQA9u7dS0JCAomJiYBt+Hbo0KH2/WfOnMnQoUN566236NSpE0lJSSQlJZGWlmZG+ZVP8TDwX/OgINfUUkREROTSuE0AXLt2LW3btqVt27YAjBkzhrZt29qXdDly5Ig9DAJMnTqVwsJCRo0aRWxsrP3x+OOPm1J/pVP7SgirAXlpsPMns6sRERGRS+CW6wBWFI9fR2jRBFj+H2jaF+6ebnY1IiIiF8Xj22/cqAdQTNDqbtvXHQsh56S5tYiIiMhFUwCUyxfTHGJaQFE+bPnG7GpERETkIikAinOKJ4NoUWgREZFKQwFQnNPiTsAC+5dDauIFdxcRERHzKQCKc8JrQN2rbM83zTa3FhEREbkoCoDivOLJIBtmgSaVi4iIuDwFQHFe077g7Q8p2yFpo9nViIiIyAUoAIrzAsKhcW/bc00GERERcXkKgFI2ioeBN80Ba5G5tYiIiMh5KQBK2WjQEwKrQGYS7F1qdjUiIiJyHgqAUjZ8/KD5HbbnGgYWERFxaQqAUnaKh4G3zof8bHNrERERkXNSAJSyE98RImpDfiZsX2B2NSIiInIOCoBSdiyW072AGgYWERFxWQqAUraK7w2862fISjG3FhERESmVAqCUrciGENcWjCL4a67Z1YiIiEgpFACl7NmHgWeZW4eIiIiUSgFQyl6LfmDxhoNr4Phus6sRERGRsygAStkLiYb619ieb5ptbi0iIiJSggKglI8zh4ENw9xaRERExIECoJSPJjeBbzCc2AOH1pldjYiIiJxBAVDKh18wNL3Z9vyP/4LVam49IiIiYqcAKOWn/X1g8YIt38CPYzUULCIi4iIUAKX81OoEt75ne776/2DxiwqBIiIiLkABUMpXm4Fw09u258v+DUvfNLceERERUQCUCtDhPrjhZdvzX/4FK941tx4REREPpwAoFaPrI3DNc7bnC/8Oa6eZW4+IiIgHUwCUinP109Dtcdvz756ADbpVnIiIiBkUAKXiWCzQ80Xo+ABgwLwHbTOERUREpEIpAErFsljgxtegzWAwrDDnPtjxk9lViYiIeBQFQKl4Xl5wy3+hRT+wFsCswbDnN7OrEhER8RgKgGIOL2+4/f+gcR8oyoPPB0LiKrOrEhER8QgKgGIeb1+4cxrUuwYKsmDGnXA4weyqRERE3J4CoJjLNwAGzIRaXSEvHT67HZK3mF2ViIiIW1MAFPP5BcE9s6BGO8g5AZ/eCsd3m12ViIiI21IAFNcQEAaD5kBMC8g6Cp/cAqmJZlclIiLilhQAxXUEVYUh86BaQ0g/aAuB6UfMrkpERMTtKACKawmJgmHzIaI2nNxrGw7OSjG7KhEREbeiACiuJyzOFgLDakDKdvjsNsg5aXZVIiIibkMBUFxTlTow9BsIjoKkTTD9TsjLMLsqERERt6AAKK4rsqEtBAZWgUNrYeYAyM82uyoREZFKTwFQXFtMcxj8NfiFwv5l8OUQKMwzuyoREZFKTQFQXF+NK2DQbPANgl0/w5wRUFRodlUiIiKVlgKgVA61u9juGOLtD9u+g3kPgrXI7KpEREQqJQVAqTzqXwP9PwUvH9g0G74bDYZhdlUiIiKVjgKgVC6Nb4R+/wOLF6z/FH4cqxAoIiJyidwmAC5dupS+ffsSFxeHxWJh3rx5Fzzm119/5YorrsDf358GDRrw8ccfl3udUgaa3w63vmt7vmoKLHnJ3HpEREQqGbcJgFlZWbRu3Zp33333ovbfu3cvN910E9dccw0JCQmMHj2akSNHsnDhwnKuVMpEm3ugz5u257+/BUvfNLceERGRSsTH7ALKSu/evendu/dF7z9lyhTq1q3LW2+9BUDTpk1ZtmwZ//73v+nVq1d5lSllqeP9UJADi8bbegF9g6DLw2ZXJSIi4vLcpgfwUq1YsYKePXs6bOvVqxcrVqwwqSK5LN0egx7jbM8XjoN1H5tajoiISGXgNj2AlyopKYmYmBiHbTExMaSnp5OTk0NgYGCJY/Ly8sjLO70IcXp6ernXKReh+7OQnwV//Be+HW3rCWzV3+yqREREXJbH9gBejokTJxIeHm5/xMfHm12SAFgscP0/ocNIwIC5D8LWb82uSkRExGV5bACsXr06ycnJDtuSk5MJCwsrtfcPYNy4caSlpdkfBw4cqIhS5WJYLND7DWgzCIwimD0cdi4yuyoRERGX5LEBsEuXLixevNhh26JFi+jSpcs5j/H39ycsLMzhIS7Eywtuece2TIy1AGYNhr2/m12ViIiIy3GbAJiZmUlCQgIJCQmAbZmXhIQEEhMTAVvv3dChQ+37P/jgg+zZs4dnnnmGbdu28d577/Hll1/yxBNPmFG+lBUvb7jjA2jUGwpzYebdcGC12VWJiIi4FLcJgGvXrqVt27a0bdsWgDFjxtC2bVsmTJgAwJEjR+xhEKBu3bp8//33LFq0iNatW/PWW2/xv//9T0vAuANvX7jrY6h3DRRkwfQ74cgGs6sSERFxGRbD0H20Lld6ejrh4eGkpaVpONgV5WfB9H6QuAKCqsG9CyC6idlViYiIydR+u1EPoEgJfsFwz5cQ1xayj8Ont8Lx3WZXJSIiYjoFQHFvAWEw+GuIbg6ZSbYQmJp44eNERETcmAKguL+gqjB0HlRrCGkHbCEwI8nsqkREREyjACieISQahn4DEbXhxB5bCMw6bnZVIiIiplAAFM8RXgOGzYfQODi2DT67DXJSza5KRESkwikAimepUsfWExgUCUkbYcZdkJdpdlUiIiIVSgFQPE9UI1sIDIiAg6vh8wFQkGN2VSIiIhVGAVA8U/UWMORr8AuFfb/DrCFQmG92VSIiIhVCAVA8V412MOhL8AmEXYvgq/ugqNDsqkRERMqdAqB4ttpdYeBM8PaDrfPhm4fBajW7KhERkXKlAChS/1q46xPw8oGNs+D7J0B3SBQRETemACgC0KQP3DEVLF6w7mNY+HeFQBERcVsKgCLFWvSDWybbnq98D3552dx6REREyokCoMiZ2g6CPm/ani99A35/29x6REREyoECoMjZOt4P1//T9nzxi7Byirn1iIiIlDEFQJHSdHscuj9re/7js7D+U3PrERERKUMKgCLn0mMcdHnE9nz+Y7D6Ay0RIyIibkEBUORcLBa44V/Q/j7AgAVPwUe94MgGsysTERFxigKgyPlYLLZJIde/BL7BtnsHT+0B3z8FOSfNrk5EROSyKACKXIiXF3R7DB5ZA83vAMMKaz6Ad9rDnzM0LCwiIpWOAqDIxQqvAXdNg6HzIbIxZKfYbh2nYWEREalkFABFLlW97vDgMttSMWcOCy94GnJSza5ORETkghQARS6Hj59tqZgzh4VXT4V32mlYWEREXJ4CoIgzNCwsIiKVkAKgSFnQsLCIiFQiCoAiZUXDwiIiUkkoAIqUNfuw8DeOw8LTboQjG82uTkRERAFQpNzU6+E4LHxgFUztrmFhERExnQKgSHnSsLCIiLggBUCRiqBhYRERcSEKgCIVScPCIiLiAhQARSqahoVFRMRkCoAiZtGwsIiImEQBUMRsGhYWEZEKpgAo4grONSw8uT0kzNSwsIiIlCkFQBFXcvawcNYxmPeQhoVFRKRMWQzDMMwuorJKT08nPDyctLQ0wsLCzC5H3E1hPqx6H359DQqywOIFHUbCNc9BYITZ1YmIXBbDMMjIK+REZj7Hs/I5mZXPiax8TmSf+nrW4/6r6jKkS50yrUHtN/iYXYCInEPxsHCLO+Gn5+Gvr23Dwn/NtV0v2GoAeKkTX0TMVVBktYW47HxOZJYMcg4hLyufk9n5FBRdfN/T4bTccqzec6kH0An6C0Iq1J5fbRNDUnbYXsd3gj5vQmwrU8sSEfdhGAZZ+UVnBLk8TmQVcCIrr0SQK36k5xZe1s8K8vOmarDf6UeQ7WuVYD+qnfG1VtUgosMCyvRzqv1WAHSKTiCpcKUOC98P1/xdw8IiUkJhkZXUnILz9sg5PLLzyS+89ElnFgtUCSo9yFU9xyPA17scPvHFUfutAOgUnUBimrRDp4eFAYKjNCws4qFyC4rYfSyTHckZ7EjOZEdSBnuPZ3EiK5+0nAIup5X39/GyhbcQP6oEFQc5f6oG+5b6NTzQF28vS9l/uHKi9lsB0Ck6gcR0GhYW8RgFRVb2pWSxPTmDHUmnwl5yBvuOZ2G9QEseEeRr75kr7XF2b12Qn3tPEVD7rQDoFJ1A4hI0LCziVoqsBgdOZJ8OekdtvXp7UjLPOXkiPNCXxjGhNKoeQqOYUOpHhRAV6k/VYD8iAn3x8dbIwJnUfisAOkUnkLgUDQuLVCqGYXAoNYedyZlnhL0MdiZnkneO6/CC/bxpGBN6KuyF0igmhMYxoUSF+mOxVJ4hWLOp/VYAdIpOIHFJJYaFO8NNb0L1lqaWJeKpDMPgWEYeO0oJepl5pc+g9ffxomFMCI2iTwe9RjGh1IgIVNArA2q/FQCdohNIXJaGhUVMcTIrn+3JGexMzrCFvVPX6aVmF5S6v4+XhfpRITQ81ZNnC3uh1KoaVKkmVVQ2ar8VAJ2iE0hc3rmGhVsPtK3bICKXJSO3gB3JmWcEPVvYO5aRV+r+XhaoUy2YRjGnevOq24Zx60QG46vr8yqc2m83C4Dvvvsub7zxBklJSbRu3Zp33nmHjh07nnP/SZMm8f7775OYmEhkZCR33nknEydOJCDg4hac1AkklcbZw8K1usJNb0FMM1PLEnF1OflF7DpavMRKxqnevUwOpeac85iaVQIdrtErnpRh5rp34kjttxvdCm7WrFmMGTOGKVOm0KlTJyZNmkSvXr3Yvn070dHRJfafOXMmY8eO5aOPPqJr167s2LGDe++9F4vFwttvv23CJxApR/V6wIPLYeV78NtrkPgHTLkSujwM3ceCf4jZFYpUuLzCIjJzC8nILSQzz/b1aEaufVLGzuQM9p/IPuc6etXDAk4P3Z4KfA2jQwj2d5umVdyY2/QAdurUiQ4dOjB58mQArFYr8fHxPProo4wdO7bE/o888ghbt25l8eLF9m1PPvkkq1atYtmyZRf1M/UXhFRKqQfgx7Gw7Tvb67AacONEaHqLhoXF5RmGQU7BqeCWV0jmGeEtM6+QzNwC2+sz3jt73+Jt+UUXd8eLqsF+9tm2xdfoNYoOJTzIt5w/rZQXtd9u0gOYn5/PunXrGDdunH2bl5cXPXv2ZMWKFaUe07VrV6ZPn87q1avp2LEje/bsYcGCBQwZMuScPycvL4+8vNPXd6Snp5fdhxCpKBHxMGAG7PgJfngaTu6DL4dCg57Q+3WoVt/sCsUNWa0GWfmOvW2Z9lBWcNbrkgHOdowt3F1o0eNLFeznTUiADyH+PlQN9qNBdCiNT12n1ygmlMgQ/7L9gSIuwC0CYEpKCkVFRcTExDhsj4mJYdu2baUec88995CSksKVV16JYRgUFhby4IMP8ve///2cP2fixIm8+OKLZVq7iGka3QB1r4Jl/7Y9dv0M73WBq8ZAt9HgW7Y3Xxf3k1tQxJYj6Ww4kEriiWyHHrazA925lju5XF4WCPH3ITTAlxB/H3uACwnwIdTfx2FbaIAPIf6+Z722vR/s56PZtuKR3CIAXo5ff/2VV155hffee49OnTqxa9cuHn/8cV566SXGjx9f6jHjxo1jzJgx9tfp6enEx8dXVMkiZc830LY0TKu74fsnYc8v8OtE2PCF7ZZyDXuaXaG4iCKrwZ5jmSQcSGXDwVQ2HEhj65F0Ci+xO87X23I6tJ0Z2EoNcL4lAlvxvoG+3loPT8QJbhEAIyMj8fb2Jjk52WF7cnIy1atXL/WY8ePHM2TIEEaOHAlAy5YtycrK4oEHHuC5557Dq5Q7J/j7++Pvr6EAcUPV6sOQubBlHvw4Dk7uhRn9bNcF3jgRwmuaXaFUIMMwOJKWy4YDqSQcTGXDgVQ2HUwjK7+oxL7Vgv1oEx9Bw5hQwgJtAe3sXrkzA5y/j2bCirgCtwiAfn5+tGvXjsWLF3PbbbcBtkkgixcv5pFHHin1mOzs7BIhz9vb9j8mN5kXI3JpLBZofrvtWsBfX4WV78PW+bBrMfQYC50fAm9d9O6O0rIL2HjIFvQSDqSx4WBqqevZBfp607JmOG3iI2hdM4LW8eG6M4VIJeUWARBgzJgxDBs2jPbt29OxY0cmTZpEVlYWw4cPB2Do0KHUqFGDiRMnAtC3b1/efvtt2rZtax8CHj9+PH379rUHQRGP5B8KvV62LRb9/Rg4sAoWjYeEmXDz21C7q9kVihOKr9vbeCCVDQfT2HAglT0pWSX28/ay0KR6KK3jI2hdM5zW8RE0iArBR4sWi7gFtwmAd999N8eOHWPChAkkJSXRpk0bfvzxR/vEkMTERIcev+effx6LxcLzzz/PoUOHiIqKom/fvrz88stmfQQR11K9BQz/ETbMhEUT4NhWmNYbWt9ju5tISJTZFcoFWK0Gu8+6bm9bUjoFRSVHOWpXCzrVqxdBm/hwmsWGE+inP4ZF3JXbrANoBq0jJB4j+wQsfhHWfQIYEBAO170A7e4FL4UEV2AYBknpuaeHcQ+ksulQWqmzb6sF+53q2bMN47auGUGVYD8TqhYxh9pvBUCn6AQSj3NgjW1YOGmj7XXcFbZh4bi25tblgdJyCth4aoJG8VDu0Yu4bq9VzXBqVtF1e+LZ1H4rADpFJ5B4pKJCWPshLPkX5KUDFugwEq59HgIjzK7OLeUWFLH11Hp7F7pur3FMqH0YV9ftiZRO7bcCoFN0AolHy0iCn8bDpi9tr4Oj4IZ/2dYUVO/SZbNaDfakZNqHcTccTGXrkdKv26tVNcg+SaNNfATN43TdnsjFUPutAOgUnUAiwN6ltkWkU3bYXte+Em56C6KbmFtXJXDmdXvFPXsbD5Z+3V7VYD/7bNzi6/eq6ro9kcui9lsB0Ck6gUROKcyHFZPht9ehMAe8fKDLKLj6GfAPMbu6CpFbUERqdgGpOfm2r9kFpGbnk5pje5525vacAtJOvZddyuLKgb7etKwRbpugcSrs6bo9kbKj9lsB0Ck6gUTOcnK/7U4i27+3vQ6rCb1fhSY3V4phYcMwyM4vOhXa8kk7FdaKg11adgEns/PPCHGnA19eofWyfqa3l4VGMaG2a/ZOLcPSMFrX7YmUJ7XfCoBO0Qkkcg7bf4AfnoHURNvrhjdA79ehat0K+fGGYZCRV2gLaGf2yhX3vJ0R7NJy8jmZffp5adfaXSxvLwsRgb5EBPkSEeRHRKAv4UG+RAT6ndrmS3jg6fcignyJDg3QdXsiFUzttwKgU3QCiZxHfjb8/hYs/w9YC8AnAK56Ero+Br4Bl/Uti04tbLzhQCqHU3PtvXLFPXane+UKKLJe/v/a/Ly97IEtItDvVIg7HezCA0+/dzrU2e5/q2FaEden9lsB0Ck6gUQuQspO2ySRvb/ZXletD33egAbXXfDQ5PRc/ky0zYRNSDz3wsbnEuDrRZXSAtuZvXKl9NIF+noryIm4MbXfCoBO0QkkcpEMAzZ/BQufg8wk27bmt0OvVyAsDoCsvEI2Hkyzh72EA6kkpeeW+FZBfrYJEvWiQqhSai/d6V65AF8NrYpISWq/FQCdohNI5BLlpsOvEzFWTcFiWCnwDmJh1HDey+7JtmM5nD1q62WBRjGhtK1lmwnbplYEDaND8fZS75yIXD613+BjdgEi4t4Mw+BwWu6pXr2TbDhwCwWFtXne8j/asZObk96lvnU+zzOCI+GtaVMc9uIjaFkznCA//W9KRKSsqQfQCfoLQqSktJwCNh1MI+HASRIOpJFwIJWUzJL3qA3z9+KRqqsYkvEhgYXpto1tBsP1L0JwZAVXLSKeRO23AqBTdAKJp8svtLItyXaP2j8PpLLhQCq7j5W8R62Pl4UmsaG0iY+gTXwV2sSHUy8yBC8vC2Qdh8X/gPWf2nYOiICe/4ArhoGX1sITkbKn9lsB0Ck6gcSTGIZB4olsEg6k2h9/HU4nv5QFkIvvUWsLfOE0jwu/8ISMA6vhuzGQvMn2ukY7uOltiGtT9h9GRDya2m8FQKfoBBJ3djIrn4SDtl69hFO9eyezC0rsFx7o6xD2WteMoFqI/+X90KJCWPMBLHkZ8jPA4gUd7odrn4OAcCc/kYiIjdpvBUCn6AQSd5FbUMSWI+kkFK+5dyCV/cezS+zn5+1Fs7iwU2HPdtuyOtWCyn7NvPQj8NNztqVjAIKjbUvGtLyzUtxSTkRcm9pvBUCn6ASSyshqNdh7PMsh7G09kl7qLdDqRQaf0bsXQZPYUPx9KnBtvd2/wIKn4Pgu2+s6V8FNb0FU44qrQUTcjtpvBUCn6AQSV2e1Guw/kc3mQ2lsPpzGX4fS2XgwlfTcknfTqBbsZ+/VaxMfQaua4UQE+ZlQ9VkK8+CP/8LSN6EwF7x8oesjcPXT4BdsdnUiUgmp/VYAdIpOIHElhUVWdh/LYvOhNP46nM7mw2lsOZxe6q3T/H28aFkj3KF3r2aVQNe+/dnJfbDgGdi50PbaNxhqdYLa3aDOlRB3Bfi4QGAVEZen9lsB0Ck6gcQseYVF7EzOtPfsbT6UztYj6eSVMiPXz8eLprFhtIgLo0WNcFrWCKdx9VB8vSvhEiuGAdsXwI9jITXR8T2fQIjvaAuDtbtBzfbgc5mTUUTEran9VgB0ik4gqQjZ+YVsPZLBX4fTbIHvUDo7j2aUes1esJ83zePCaV4jjBanvtaPCqmcYe98rFY4ugX2L4d9y2xfs4877uPtbwuEtbtBnW5QswP4BppTr4i4FLXfCoBO0QkkZS09t4C/DqXz1+FTw7iH0th9LLPEPXLBtvxKC3vQC6dFXBh1qgXbFlf2NIYBx7adDoP7lkPWUcd9vP2gRntbGKzdzRYOdQ2hiEdS+60A6BSdQOKM45l59mv1/jpk+1ra0isAkSH+tKxhG8JtHhdOixph1Ihw8Wv2zGQYkLIT9i+zhcH9yyHjiOM+Xj62xaaLewjjO4N/iDn1ikiFUvutAOgUnUByMQzDIDk9z+F6vb8Op3EkLbfU/WtEBJ7Rs2f7Gh0WUMFVuxnDgBN7HHsI0w867mPxhri2p3oIr4RanSFA/12LuCO13wqATtEJJGczDIMDJ3JOBb00Nh9OZ8vhNFIy80vdv25kMM1PTc5oERdO87gwqgRrJmu5MwxI3W8LhPuW23oKz55UYvGC2NanZxnX6gKBEaaUKyJlS+23AqBTdAJ5tiKrwd6UTPu1esU9e6WtsedlgYbRofYevRY1wmkaG0pogK8JlUupUhNPh8F9y+Hk3rN2sED1lqdnGdfuCkFVTSlVRJyj9lsB0Ck6gTxHQZHVtuzK4TT+svfspZNTUFRiXz9vLxpXD6V5XJh9ckaT6mEE+lXgHTTEeWmHHGcZF9+N5EwxLU5fQ1i7GwRHVnydInLJ1H4rADpFJ5D725aUzmcr9jPvz0Nk5ZcMewG+XjSLPWMIt0YYDaND8fNxs2VXBDKSHK8hTNlecp+opqfDYJ0rISS64usUkQtS+60A6BSdQO4pr7CIHzcnMX3lftbsO2nfHurv47C+Xou4cOpFheDticuuCGQePR0G9y+3rUt4tshGp8Ng7W4QFlvxdYpICWq/FQCdohPIvRxKzWHmqv3MWnPAPmnD28vCDc1iGNK5Np3rVfPMNfbk4mQdtwXB4lCYvBk463+vVeufnmVcpxuE1zSlVBFPp/ZbAdApOoEqP6vV4PddKXy2Yj9LtiXbF1yODvVnYMdaDOxYi+rhWoJFLkP2CUhccXpiSdImMM66VV+VOtCoN1w1RsPFIhVI7bcCoFN0AlVeJ7PymbPuINNX7XdYfLlr/WoM7lyb65vFuN/t08RcOamQuPL0LOMjG8A4dV2pXwh0Gw1dRoFfkJlVingEtd8KgE7RCVT5bDiQymcr9/PthsPkFdp6Y0L9fejXriaDO9eiQXSoyRWKx8hNtw0XL30DDq2zbQuNg+vGQ6sB4KU/QETKi9pvBUCn6ASqHHLyi/h242Gmr9zPxoNp9u1NY8MY2qU2t7SOI9jfx8QKxaNZrfDX1/Dzi5B2ajHq6i3hhn9BvR6mlibirtR+KwA6RSeQa9ubksWMlfuZve4gaTkFgG2NvptaxTK4c22uqBWhe+mK6yjIhdX/B0vfgrxTf6g0vAGufwmim5hbm4ibUfutAOgUnUCup7DIypJtR/ls5X5+35li314jIpDBnWvTv31NqoX4m1ihyAVkHYelr8Oa/4G10HZLuiuGwTV/10QRkTKi9lsB0Ck6gVzHsYw8Zq1JZOaqRA6n5QJgsUCPRlEM6VKb7o2itV6fVC7Hd8PPL8DWb22v/ULgytHQWRNFRJyl9lsB0Ck6gcxlGAZr9p3ks5X7+XHzEQqKbKdylSBf+neIZ1DH2tSqpoZSKrn9f8DC5+DwettrTRQRcZrabwVAp+gEMkdmXiFz/zzE9BX72Z6cYd/etlYEQzrXpk/LWAJ8dd9dcSPnnCjyMtTrbm5tIpWQ2m8FQKfoBKpY25MymL5yP1+vP2i/L2+Arxe3tanB4M61aVEj3OQKRcpZqRNFesH1/9REEZFLoPZbAdApOoHKX36hlYV/JfHZyv2s3nvCvr1eZDCDO9emX7uahAf6mlihiAmyjsNvr8HaDzVRROQyqP1WAHSKTqDyczg1h89XJ/L56gOkZOYBtvvyXt80hiFdatO1fjUt4SKSsss2UWTbd7bXmigiclHUfisAOkUnUNmyWg2W7Urhs5X7WbzV8b68AzrWYmDHeGLDA80tUsQVaaKIyCVR+60A6BSdQGUjNfvUfXlX7mffGffl7VKvGkO66L68IhdFE0VELprabwVAp+gEcs6mg2l8umIf80u5L++gTrVoGKP78opcMk0UEbkgtd/gVt0q7777LnXq1CEgIIBOnTqxevXq8+6fmprKqFGjiI2Nxd/fn0aNGrFgwYIKqtYz5RYUMXvtAW6dvIy+k5cxe91B8gqtNKkeyiu3t2Tl36/jH7c0V/gTuVy+AdDtcXjsT+j4N/DygZ0L4f0u8O1oyDxqdoUi4gLcpgdw1qxZDB06lClTptCpUycmTZrE7Nmz2b59O9HRJWfF5efn061bN6Kjo/n73/9OjRo12L9/PxEREbRu3fqifqb+grh4+1KymLFqP1+udbwvb5+W1RnSpTZX1KqiSR0i5UETRURKUPvtRgGwU6dOdOjQgcmTJwNgtVqJj4/n0UcfZezYsSX2nzJlCm+88Qbbtm3D1/fylhHRCXR+hmGwZNtRPlmxn6U7jtm314gIZFDnWvRvH0+k7ssrUjHOnigSVgOuHQ+t7tZEEfE4ar/dJADm5+cTFBTEnDlzuO222+zbhw0bRmpqKt98802JY/r06UPVqlUJCgrim2++ISoqinvuuYdnn30Wb++Lu4uETqBzs1oNJszfzPSVtovRLRbo3iiKIZ1r06Ox7ssrYgpNFBEB1H4D+JhdQFlISUmhqKiImJgYh+0xMTFs27at1GP27NnDkiVLGDRoEAsWLGDXrl08/PDDFBQU8MILL5R6TF5eHnl5efbX6enpZfch3EhBkZWnZ29gXsJhLBYY0a0uQ7vUpna1YLNLE/FsXl7Q8k5ocvPpiSJJm+DTW2wTRW54CaIam12liFQAj+33t1qtREdHM3XqVNq1a8fdd9/Nc889x5QpU855zMSJEwkPD7c/4uPjK7DiyiG3oIiHZ6xnXsJhfLwsTLq7DeNvbqbwJ+JKzjVR5L0u8N0Tmigi4gHcIgBGRkbi7e1NcnKyw/bk5GSqV69e6jGxsbE0atTIYbi3adOmJCUlkZ+fX+ox48aNIy0tzf44cOBA2X0IN5CVV8h9n6xh0ZZk/Hy8+L8h7bi1TQ2zyxKRcwmuBn1eh4dX2XoFjSJY+xH8ty0sfQPysy/8PUSkUnKLAOjn50e7du1YvHixfZvVamXx4sV06dKl1GO6devGrl27sFqt9m07duwgNjYWPz+/Uo/x9/cnLCzM4SE2adkFDPlwFct3HSfYz5uPh3fguqYxFz5QRMwX2QAGzIB7F0DcFZCfCUv+BZPbQ8LntmsHRcStuEUABBgzZgwffPABn3zyCVu3buWhhx4iKyuL4cOHAzB06FDGjRtn3/+hhx7ixIkTPP744+zYsYPvv/+eV155hVGjRpn1ESqtlMw8BnywkvWJqYQH+jJ9ZCe61o80uywRuVR1usHIxdDvQwivBemHYN6DMPVq2POb2dWJSBlyi0kgAHfffTfHjh1jwoQJJCUl0aZNG3788Uf7xJDExES8zljqID4+noULF/LEE0/QqlUratSoweOPP86zzz5r1keolA6n5jD4f6vYk5JFZIg/00d2pEl19YyKVFpnThRZNQV+P2OiSKMbbXcU0UQRkUrPLZaBMYunTyPfm5LF4P+t4lBqDjUiApk+shN1IzXZQ8StZB2H316DtR+CtRAs3tBuGPQYByElF9kXqQw8vf0GNxoCloq19Ug6d01ZwaHUHOpFBjP7wS4KfyLuSBNFRNySAqBcsj8TTzJg6kpSMvNoGhvGlw92IS4i0OyyRKQ8OUwUaauJIiKVnIaAneCJXch/7E5h5Cdryc4v4opaEUy7tyPhQZd3Kz0RqaSsVtj8FSx+EdJOLYdVtR7EtoHIRhDZ0Pa1WgPdb1hckie232dzm0kgUv5+3pLMwzPXk19o5coGkfzfkHYE++sUEvE4Xl7Q6i5o2vf0RJETe2yPs4XXOh0I7V8b2a4ftOiWkCJmUQ+gEzzpL4hvEg7x5JcbKLQaXN8shncGtiXA9+LumSwibi7nJCSugpQdpx47IWW7bfu5+IeXDIZRjaFKHfDWqIKUL09qv89FAdAJnnICzVyVyHPzNmEYcHvbGrx+Zyt8vXX5qIhcQNbxM0JhcTDcAan7wTjHNYNePrbh5LN7DKs1gMCICi1f3JentN/no/E7Oa+pS3fzyoJtAAzuXIt/3tICLy8N24jIRQiuBsFdoPZZd2QqyIUTux1DYfHzguzTr88WEnNWMDz1NaymbVhaRC6aAqCUyjAM3l60g3eW7ALgoR71eaZXYyy6ZkdEnOUbADHNbY8zWa2Qcbj0YJhxBDKTbY99vzse5xNom6Vc3Ft45iQUX61QIFIaBUApwWo1+Od3W/j4j30APHNjYx7u0cDcokTE/Xl5QXhN26P+tY7v5abD8Z0lg+Hx3VCYY7tbSdKms76hBSLiT4XCxo5DysGRmoQiHk3XADrBHa8hKCyyMvbrTcxZdxCAl25tzpAudcwtSkTkXIoK4eS+ktcZpmyH3LRzHxcQUbLHMLLRqUko6htxd+7Yfl8qBUAnuNsJlFdYxOgvEvhhcxLeXhbeuLMVd1xR0+yyREQunWFAVkopwXAHpCYC52j6/EKh7WDo/KAtDIpbcrf2+3IoADrBnU6gnPwi/jZ9HUt3HMPP24v/DmzLjS2qm12WiEjZK8ixDR2Xdq1hYY5tH4sXNL0FujwC8R3MrVfKnDu135dLAdAJ7nICpecWMPLjtazed4JAX2+mDm3HVQ2jzC5LRKRiWa2wZwn8MRn2/HJ6e3wn6DLKdi9kL61/6g7cpf12hgKgE9zhBDqRlc/Qj1ax+VA6oQE+fDy8A+1qVzW7LBERcyVthpXvwcYvwVpg2xZRGzo/bBsi9g8xtz5xiju0385SAHRCZT+BktJyGfzhKnYdzaRasB+fjOhIixrhZpclIuI6MpJg9Qew9sPTdzbxD4f290LHv0F4DVPLk8tT2dvvsqAA6ITKfAIlHs9m0IcrOXAih9jwAD67rxMNovUXrYhIqfKzYMPnsOI92yLWYLtrSfM7oOsjENva3PrkklTm9rusKAA6obKeQDuSMxj8v1UczcijdrUgZozsRM0qQWaXJSLi+qxW2PEjrJgM+5ef3l7nKtuEkYY36K4klUBlbb/LkgKgEyrjCbTpYBpDP1rFyewCGseE8tl9HYkOCzC7LBGRyufQeljxLvw1F4wi27ZqDaHLw9BqAPjpD2tXVRnb77KmAOiEynYCrdpznPs+WUtmXiGt4yP4ZHgHIoL8zC5LRKRySzsIq6bAuk8gL922LbAqdBgJHe+HkGhz65MSKlv7XR4UAJ1QmU6gX7Yf5cHP1pFXaKVzvar8b1gHQvy12r2ISJnJy4D1n8HK9yEt0bbN2w9a9bcND0c3Nbc+satM7Xd5UQB0QmU5gb7feITRs/6koMjg2ibRvDfoCgJ8tZaViEi5KCqEbd/a1hM8tPb09vrX2SaM1LtG9yE2WWVpv8uTAqATKsMJ9OXaA4z9aiNWA/q2juPt/q3x9dYFyiIiFSJxFax4B7Z+h/32c9HNbQtLt7wTfPxNLc9TVYb2u7wpADrB1U+gj5bt5Z/fbQFgQId4Xr69Jd5e+qtTRKTCndgDq/7PNkRckGXbFhJju0aw/X0QpAX4K5Krt98VQQHQCa56AhmGwTtLdvH2oh0A3H9VXf7epykWDTmIiJgr56Rtssiq/4OMw7ZtPoHQ5h7bXUYiG5hbn4dw1fa7IikAOsEVTyDDMHhlwVY++H0vAGOub8Sj1zZQ+BMRcSWF+bblY1a8A0mbTm20QOPetuHh2t10nWA5csX2u6IpADrB1U6gIqvB8/M28fnqAwBMuLkZI66sa3JVIiJyToYB+5bZFpbe8ePp7bFtoOuj0OxW8PY1rTx35WrttxkUAJ3gSidQQZGVMV9u4NsNh/GywKt3tKJ/h3hTaxIRkUuQstO2sPSGz6Ew17YtrCZ0+hu0GwYBuld7WXGl9tssCoBOcJUTKLegiIdnrGfJtqP4eluYdHdbbmoVa1o9IiLihKwUWPsRrJ4KWcds2/xC4Iqh0OlBqFLb3PrcgKu032ZSAHSCK5xAmXmFjPxkDSv3nMDfx4spQ9pxTWOtOi8iUukV5MKm2bZewWNbbdssXtD0FtvC0vEdzK2vEnOF9ttsCoBOMPsESs3OZ9i0NWw4kEqIvw8fDmtPp3rVKrwOEREpR4YBuxfbFpbe88vp7fGdbBNGmtwMXlrc/1KY3X67AgVAJ5h5Ah1Nz2XIh6vZnpxBlSBfPhnRkVY1Iyq0BhERqWDJf9l6BDd+CdYC27aI2rYlZNoOBv8Qc+urJBQAFQCdYtYJdPBkNoP/t4p9x7OJDvVnxshONIwJrbCfLyIiJstIgtUfwNoPbWsLgm2SSLvh0PEBCK9hbn0uTgFQAdApZpxAu49lMvh/qziSlkt81UBm3NeZWtWCKuRni4iIi8nPhg0zYcV7cGK3bZuXDzS7zbamYN3uEBJlaomuSAFQAdApFX0C/XU4jaEfruZ4Vj4NokOYfl8nqocHlPvPFRERF2e12tYRXPEu7F/m+F50M6h7te1RuxsERphSoitRAFQAdEpFnkDr9p/g3mlryMgtpEWNMD4d0YmqwX7l+jNFRKQSOvwnbJwNe5dC8ibH9yxetkWmiwNhrS7g53mjSAqACoBOqagTaNnOFO7/dC05BUV0qFOFD+/tQFiAVoYXEZELyDoO+36Hvb/ZAuHxXY7ve/lCfMfTgbBGe/Bx/84FBUAFQKdUxAm08K8kHp35J/lFVro3imLK4HYE+mm6v4iIXIa0Q6cC4VLY8xukH3R83zfI1itYHAhjW7vlEjMKgAqATinvE2junwd5avZGiqwGvVtU5z8D2uLn41XmP0dERDyQYcCJPbYwWPzITnHcJyAc6lx1OhBGNQGLxZx6y5ACoAKgU8rzBPpsxT7Gf/MXAHe2q8mrd7TEx1vhT0REyolhwNEtp8PgvmWQl+64T3A01L3KNru47tVQpU6lDIQKgAqATimvE+j9X3fz2o/bALi3ax0m3NwML6/K9x+YiIhUYkWFkLTBNlS8dykkroTCHMd9wmvZgmC97raewrDKcR96BUDwMbsAKSks0PZreezaBjxxfSMslfCvKxERqeS8faBGO9vjqjFQmAcH157qIfwNDq6BtERImG57AEQ2Oj1cXOcqCKpq7meQc1IPoBPK8y+IDQdSaR0fUabfU0REpMzkZ0HiitMTSo5sAM6MFBao3vJUIOwOtbuAv2vctUo9gAqATtEJJCIickrOSdi3/PQ1hMe2Or7vdapHsbiHsGZH8DXnZgZqvxUAnaITSERE5Bwykh3XIDy5z/F9nwCI73S6hzCurW3YuQKo/VYAdIpOIBERkYt0cr/jkjOZSY7v+4VCnW6newijm4NX+ax+ofZbAdApOoFEREQug2FAys5TvYO/wd7fITfVcZ/AqrYlZ1oNgCZ9yvTHq/3WLGARERGpaBYLRDWyPTreD1ar7b7FxRNK9v8BOSdgyze2xafLOAAKuNXKwu+++y516tQhICCATp06sXr16os67osvvsBisXDbbbeVb4EiIiJSkpeX7bZzXR+FwXNg7H4Y8RNc8zw0ucns6tyS2wTAWbNmMWbMGF544QXWr19P69at6dWrF0ePHj3vcfv27eOpp57iqquuqqBKRURE5Ly8faFWJ+j+tC0YSplzmwD49ttvc//99zN8+HCaNWvGlClTCAoK4qOPPjrnMUVFRQwaNIgXX3yRevXqVWC1IiIiIuZxiwCYn5/PunXr6Nmzp32bl5cXPXv2ZMWKFec87p///CfR0dHcd999F/Vz8vLySE9Pd3iIiIiIVDZuEQBTUlIoKioiJibGYXtMTAxJSUmlHrNs2TI+/PBDPvjgg4v+ORMnTiQ8PNz+iI+Pd6puERERETO4RQC8VBkZGQwZMoQPPviAyMjIiz5u3LhxpKWl2R8HDhwoxypFREREyodbLAMTGRmJt7c3ycnJDtuTk5OpXr16if13797Nvn376Nu3r32b1WoFwMfHh+3bt1O/fv0Sx/n7++Pv71/G1YuIiIhULLfoAfTz86Ndu3YsXrzYvs1qtbJ48WK6dOlSYv8mTZqwadMmEhIS7I9bbrmFa665hoSEBA3tioiIiFtzix5AgDFjxjBs2DDat29Px44dmTRpEllZWQwfPhyAoUOHUqNGDSZOnEhAQAAtWrRwOD4iIgKgxHYRERERd+M2AfDuu+/m2LFjTJgwgaSkJNq0acOPP/5onxiSmJiIVzndU1BERESkMtG9gJ2gewmKiIhUPmq/3eQaQBERERG5eAqAIiIiIh5GAVBERETEwygAioiIiHgYt5kFbIbi+TO6J7CIiEjlUdxue/I8WAVAJ2RkZABo4WgREZFKKCMjg/DwcLPLMIWWgXGC1Wrl8OHDhIaGYrFYyvR7p6enEx8fz4EDBzx2iror0e/Dtej34Vr0+3At+n1cmGEYZGRkEBcX57FrBKsH0AleXl7UrFmzXH9GWFiY/gN2Ifp9uBb9PlyLfh+uRb+P8/PUnr9inhl7RURERDyYAqCIiIiIh1EAdFH+/v688MIL+Pv7m12KoN+Hq9Hvw7Xo9+Fa9PuQi6FJICIiIiIeRj2AIiIiIh5GAVBERETEwygAioiIiHgYBUARERERD6MA6ILeffdd6tSpQ0BAAJ06dWL16tVml+SRJk6cSIcOHQgNDSU6OprbbruN7du3m12WnPLqq69isVgYPXq02aV4tEOHDjF48GCqVatGYGAgLVu2ZO3atWaX5ZGKiooYP348devWJTAwkPr16/PSSy959P1u5dwUAF3MrFmzGDNmDC+88ALr16+ndevW9OrVi6NHj5pdmsf57bffGDVqFCtXrmTRokUUFBRwww03kJWVZXZpHm/NmjX83//9H61atTK7FI928uRJunXrhq+vLz/88ANbtmzhrbfeokqVKmaX5pFee+013n//fSZPnszWrVt57bXXeP3113nnnXfMLk1ckJaBcTGdOnWiQ4cOTJ48GbDdbzg+Pp5HH32UsWPHmlydZzt27BjR0dH89ttvXH311WaX47EyMzO54ooreO+99/jXv/5FmzZtmDRpktlleaSxY8eyfPlyfv/9d7NLEeDmm28mJiaGDz/80L6tX79+BAYGMn36dBMrE1ekHkAXkp+fz7p16+jZs6d9m5eXFz179mTFihUmViYAaWlpAFStWtXkSjzbqFGjuOmmmxz+OxFzzJ8/n/bt23PXXXcRHR1N27Zt+eCDD8wuy2N17dqVxYsXs2PHDgA2bNjAsmXL6N27t8mViSvyMbsAOS0lJYWioiJiYmIctsfExLBt2zaTqhKw9cSOHj2abt260aJFC7PL8VhffPEF69evZ82aNWaXIsCePXt4//33GTNmDH//+99Zs2YNjz32GH5+fgwbNszs8jzO2LFjSU9Pp0mTJnh7e1NUVMTLL7/MoEGDzC5NXJACoMhFGDVqFJs3b2bZsmVml+KxDhw4wOOPP86iRYsICAgwuxzB9odR+/bteeWVVwBo27YtmzdvZsqUKQqAJvjyyy+ZMWMGM2fOpHnz5iQkJDB69Gji4uL0+5ASFABdSGRkJN7e3iQnJztsT05Opnr16iZVJY888gjfffcdS5cupWbNmmaX47HWrVvH0aNHueKKK+zbioqKWLp0KZMnTyYvLw9vb28TK/Q8sbGxNGvWzGFb06ZN+eqrr0yqyLM9/fTTjB07lgEDBgDQsmVL9u/fz8SJExUApQRdA+hC/Pz8aNeuHYsXL7Zvs1qtLF68mC5duphYmWcyDINHHnmEuXPnsmTJEurWrWt2SR7tuuuuY9OmTSQkJNgf7du3Z9CgQSQkJCj8maBbt24llkbasWMHtWvXNqkiz5adnY2Xl2Oz7u3tjdVqNakicWXqAXQxY8aMYdiwYbRv356OHTsyadIksrKyGD58uNmleZxRo0Yxc+ZMvvnmG0JDQ0lKSgIgPDycwMBAk6vzPKGhoSWuvwwODqZatWq6LtMkTzzxBF27duWVV16hf//+rF69mqlTpzJ16lSzS/NIffv25eWXX6ZWrVo0b96cP//8k7fffpsRI0aYXZq4IC0D44ImT57MG2+8QVJSEm3atOG///0vnTp1Mrssj2OxWErdPm3aNO69996KLUZK1aNHDy0DY7LvvvuOcePGsXPnTurWrcuYMWO4//77zS7LI2VkZDB+/Hjmzp3L0aNHiYuLY+DAgUyYMAE/Pz+zyxMXowAoIiIi4mF0DaCIiIiIh1EAFBEREfEwCoAiIiIiHkYBUERERMTDKACKiIiIeBgFQBEREREPowAoIiIi4mEUAEVEypDFYmHevHlmlyEicl4KgCLiNu69914sFkuJx4033mh2aSIiLkX3AhYRt3LjjTcybdo0h23+/v4mVSMi4prUAygibsXf35/q1as7PKpUqQLYhmfff/99evfuTWBgIPXq1WPOnDkOx2/atIlrr72WwMBAqlWrxgMPPEBmZqbDPh999BHNmzfH39+f2NhYHnnkEYf3U1JSuP322wkKCqJhw4bMnz+/fD+0iMglUgAUEY8yfvx4+vXrx4YNGxg0aBADBgxg69atAGRlZdGrVy+qVKnCmjVrmD17Nj///LNDwHv//fcZNWoUDzzwAJs2bWL+/Pk0aNDA4We8+OKL9O/fn40bN9KnTx8GDRrEiRMnKvRzioiclyEi4iaGDRtmeHt7G8HBwQ6Pl19+2TAMwwCMBx980OGYTp06GQ899JBhGIYxdepUo0qVKkZmZqb9/e+//97w8vIykpKSDMMwjLi4OOO55547Zw2A8fzzz9tfZ2ZmGoDxww8/lNnnFBFxlq4BFBG3cs011/D+++87bKtatar9eZcuXRze69KlCwkJCQBs3bqV1q1bExwcbH+/W7duWK1Wtm/fjsVi4fDhw1x33XXnraFVq1b258HBwYSFhXH06NHL/UgiImVOAVBE3EpwcHCJIdmyEhgYeFH7+fr6Ory2WCxYrdbyKElE5LLoGkAR8SgrV64s8bpp06YANG3alA0bNpCVlWV/f/ny5Xh5edG4cWNCQ0OpU6cOixcvrtCaRUTKmnoARcSt5OXlkZSU5LDNx8eHyMhIAGbPnk379u258sormTFjBqtXr+bDDz8EYNCgQbzwwgsMGzaMf/zjHxw7doxHH32UIUOGEBMTA8A//vEPHnzwQaKjo+nduzcZGRksX76cRx99tGI/qIiIExQARcSt/Pjjj8TGxjpsa9y4Mdu2bQNsM3S/+OILHn74YWJjY/n8889p1qwZAEFBQSxcuJDHH3+cDh06EBQURL9+/Xj77bft32vYsGHk5uby73//m6eeeorIyEjuvPPOivuAIiJlwGIYhmF2ESIiFcFisTB37lxuu+02s0sRETGVrgEUERER8TAKgCIiIiIeRtcAiojH0BUvIiI26gEUERER8TAKgCIiIiIeRgFQRERExMMoAIqIiIh4GAVAEREREQ+jACgiIiLiYRQARURERDyMAqCIiIiIh1EAFBEREfEw/w9OdDamwj6RsgAAAABJRU5ErkJggg==\" style=\"display: block; margin: 0 auto;\">\n",
       "</div>\n"
      ],
      "text/plain": [
       "<IPython.core.display.HTML object>"
      ]
     },
     "metadata": {},
     "output_type": "display_data"
    }
   ],
   "source": [
    "plt.plot(history.history['accuracy'])\n",
    "plt.plot(history.history['loss'])\n",
    "plt.title('Model loss and accuracy')\n",
    "plt.xlabel('Epoch')\n",
    "plt.legend(['accuracy','loss'], loc='upper right')\n",
    "plt.savefig('combined_plot.png')\n",
    "plt.close()\n",
    "with open(\"combined_plot.png\", \"rb\") as img_file:\n",
    "    img_data = img_file.read()\n",
    "img_base64 = base64.b64encode(img_data).decode(\"utf-8\")\n",
    "html_code = f'''\n",
    "<div style=\"background-color:white; border-radius:2px; border:#000000 solid; padding: 15px; font-size:100%; text-align:center;\">\n",
    "    <img src=\"data:image/png;base64,{img_base64}\" style=\"display: block; margin: 0 auto;\">\n",
    "</div>\n",
    "'''\n",
    "display(HTML(html_code))"
   ]
  },
  {
   "cell_type": "markdown",
   "id": "96c2198a",
   "metadata": {
    "papermill": {
     "duration": 0.096496,
     "end_time": "2023-11-21T08:05:54.345040",
     "exception": false,
     "start_time": "2023-11-21T08:05:54.248544",
     "status": "completed"
    },
    "tags": []
   },
   "source": [
    "<div style=\"background-color:#dfe3ee; border-radius:2px; border:#000000 solid; padding: 15px; font-size:100%; text-align:center\">\n",
    "    <h2 align=\"center\" style=\"color:#000000;\"><b>EVALUATE MODEL</b></h2>\n",
    "</div>"
   ]
  },
  {
   "cell_type": "code",
   "execution_count": 15,
   "id": "32bfab43",
   "metadata": {
    "execution": {
     "iopub.execute_input": "2023-11-21T08:05:54.532218Z",
     "iopub.status.busy": "2023-11-21T08:05:54.531878Z",
     "iopub.status.idle": "2023-11-21T08:05:58.046897Z",
     "shell.execute_reply": "2023-11-21T08:05:58.045837Z"
    },
    "papermill": {
     "duration": 3.611515,
     "end_time": "2023-11-21T08:05:58.049231",
     "exception": false,
     "start_time": "2023-11-21T08:05:54.437716",
     "status": "completed"
    },
    "tags": []
   },
   "outputs": [],
   "source": [
    "predictions = NewModel.predict(\n",
    "    X_test,\n",
    "    batch_size=None,\n",
    "    verbose=0,\n",
    "    steps=None,\n",
    "    callbacks=None,\n",
    "    max_queue_size=10,\n",
    "    workers=1,\n",
    "    use_multiprocessing=False\n",
    ")\n",
    "\n",
    "predictions=pd.DataFrame(predictions)"
   ]
  },
  {
   "cell_type": "code",
   "execution_count": 16,
   "id": "249924fd",
   "metadata": {
    "execution": {
     "iopub.execute_input": "2023-11-21T08:05:58.274690Z",
     "iopub.status.busy": "2023-11-21T08:05:58.274287Z",
     "iopub.status.idle": "2023-11-21T08:05:58.278754Z",
     "shell.execute_reply": "2023-11-21T08:05:58.277933Z"
    },
    "papermill": {
     "duration": 0.104141,
     "end_time": "2023-11-21T08:05:58.280553",
     "exception": false,
     "start_time": "2023-11-21T08:05:58.176412",
     "status": "completed"
    },
    "tags": []
   },
   "outputs": [],
   "source": [
    "inverse_label_map = dict()\n",
    "for k,v in train_generator.class_indices.items():\n",
    "    inverse_label_map[v] = k"
   ]
  },
  {
   "cell_type": "code",
   "execution_count": 17,
   "id": "b9eec49f",
   "metadata": {
    "execution": {
     "iopub.execute_input": "2023-11-21T08:05:58.466680Z",
     "iopub.status.busy": "2023-11-21T08:05:58.466394Z",
     "iopub.status.idle": "2023-11-21T08:05:58.474954Z",
     "shell.execute_reply": "2023-11-21T08:05:58.474321Z"
    },
    "papermill": {
     "duration": 0.103713,
     "end_time": "2023-11-21T08:05:58.476631",
     "exception": false,
     "start_time": "2023-11-21T08:05:58.372918",
     "status": "completed"
    },
    "tags": []
   },
   "outputs": [
    {
     "name": "stdout",
     "output_type": "stream",
     "text": [
      "0      Loose Silky-bent\n",
      "1          Common wheat\n",
      "2              Cleavers\n",
      "3              Cleavers\n",
      "4               Fat Hen\n",
      "             ...       \n",
      "789             Fat Hen\n",
      "790         Black-grass\n",
      "791            Cleavers\n",
      "792            Cleavers\n",
      "793               Maize\n",
      "Name: 0, Length: 794, dtype: object\n"
     ]
    }
   ],
   "source": [
    "pred_label_num = predictions.idxmax(axis=1)\n",
    "pred_label_num_new = list()\n",
    "\n",
    "for x in pred_label_num:\n",
    "    y = inverse_label_map[x]\n",
    "    pred_label_num_new.append(y)\n",
    "\n",
    "pred_label_num_new = pd.DataFrame(pred_label_num_new)\n",
    "print(pred_label_num_new[0])"
   ]
  },
  {
   "cell_type": "code",
   "execution_count": 18,
   "id": "0adfe628",
   "metadata": {
    "execution": {
     "iopub.execute_input": "2023-11-21T08:05:58.670301Z",
     "iopub.status.busy": "2023-11-21T08:05:58.670017Z",
     "iopub.status.idle": "2023-11-21T08:05:58.683795Z",
     "shell.execute_reply": "2023-11-21T08:05:58.683207Z"
    },
    "papermill": {
     "duration": 0.109401,
     "end_time": "2023-11-21T08:05:58.685380",
     "exception": false,
     "start_time": "2023-11-21T08:05:58.575979",
     "status": "completed"
    },
    "tags": []
   },
   "outputs": [
    {
     "data": {
      "text/html": [
       "<div>\n",
       "<style scoped>\n",
       "    .dataframe tbody tr th:only-of-type {\n",
       "        vertical-align: middle;\n",
       "    }\n",
       "\n",
       "    .dataframe tbody tr th {\n",
       "        vertical-align: top;\n",
       "    }\n",
       "\n",
       "    .dataframe thead th {\n",
       "        text-align: right;\n",
       "    }\n",
       "</style>\n",
       "<table border=\"1\" class=\"dataframe\">\n",
       "  <thead>\n",
       "    <tr style=\"text-align: right;\">\n",
       "      <th></th>\n",
       "      <th>file</th>\n",
       "      <th>species</th>\n",
       "    </tr>\n",
       "  </thead>\n",
       "  <tbody>\n",
       "    <tr>\n",
       "      <th>0</th>\n",
       "      <td>fd87b36ae.png</td>\n",
       "      <td>Loose Silky-bent</td>\n",
       "    </tr>\n",
       "    <tr>\n",
       "      <th>1</th>\n",
       "      <td>0e8492cb1.png</td>\n",
       "      <td>Common wheat</td>\n",
       "    </tr>\n",
       "    <tr>\n",
       "      <th>2</th>\n",
       "      <td>8d6acbe9b.png</td>\n",
       "      <td>Cleavers</td>\n",
       "    </tr>\n",
       "    <tr>\n",
       "      <th>3</th>\n",
       "      <td>54b3afd58.png</td>\n",
       "      <td>Cleavers</td>\n",
       "    </tr>\n",
       "    <tr>\n",
       "      <th>4</th>\n",
       "      <td>6049234e6.png</td>\n",
       "      <td>Fat Hen</td>\n",
       "    </tr>\n",
       "  </tbody>\n",
       "</table>\n",
       "</div>"
      ],
      "text/plain": [
       "            file           species\n",
       "0  fd87b36ae.png  Loose Silky-bent\n",
       "1  0e8492cb1.png      Common wheat\n",
       "2  8d6acbe9b.png          Cleavers\n",
       "3  54b3afd58.png          Cleavers\n",
       "4  6049234e6.png           Fat Hen"
      ]
     },
     "execution_count": 18,
     "metadata": {},
     "output_type": "execute_result"
    }
   ],
   "source": [
    "testImages = pd.DataFrame(testing_img_list)\n",
    "pred=pd.DataFrame()\n",
    "pred[\"file\"] = testImages[1]\n",
    "pred[\"species\"] = pred_label_num_new[0]\n",
    "pred.head()"
   ]
  },
  {
   "cell_type": "code",
   "execution_count": 19,
   "id": "4ee26a1c",
   "metadata": {
    "execution": {
     "iopub.execute_input": "2023-11-21T08:05:58.871399Z",
     "iopub.status.busy": "2023-11-21T08:05:58.871048Z",
     "iopub.status.idle": "2023-11-21T08:05:58.879580Z",
     "shell.execute_reply": "2023-11-21T08:05:58.878865Z"
    },
    "papermill": {
     "duration": 0.103571,
     "end_time": "2023-11-21T08:05:58.881346",
     "exception": false,
     "start_time": "2023-11-21T08:05:58.777775",
     "status": "completed"
    },
    "tags": []
   },
   "outputs": [],
   "source": [
    "pred.to_csv('submission.csv',index = None, header=True)"
   ]
  }
 ],
 "metadata": {
  "kaggle": {
   "accelerator": "tpu1vmV38",
   "dataSources": [
    {
     "databundleVersionId": 862031,
     "sourceId": 7880,
     "sourceType": "competition"
    }
   ],
   "dockerImageVersionId": 30589,
   "isGpuEnabled": false,
   "isInternetEnabled": true,
   "language": "python",
   "sourceType": "notebook"
  },
  "kernelspec": {
   "display_name": "Python 3",
   "language": "python",
   "name": "python3"
  },
  "language_info": {
   "codemirror_mode": {
    "name": "ipython",
    "version": 3
   },
   "file_extension": ".py",
   "mimetype": "text/x-python",
   "name": "python",
   "nbconvert_exporter": "python",
   "pygments_lexer": "ipython3",
   "version": "3.10.13"
  },
  "papermill": {
   "default_parameters": {},
   "duration": 672.315042,
   "end_time": "2023-11-21T08:06:03.611438",
   "environment_variables": {},
   "exception": null,
   "input_path": "__notebook__.ipynb",
   "output_path": "__notebook__.ipynb",
   "parameters": {},
   "start_time": "2023-11-21T07:54:51.296396",
   "version": "2.4.0"
  }
 },
 "nbformat": 4,
 "nbformat_minor": 5
}
